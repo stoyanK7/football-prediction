{
 "cells": [
  {
   "cell_type": "code",
   "execution_count": null,
   "id": "initial_id",
   "metadata": {
    "collapsed": true
   },
   "outputs": [],
   "source": [
    "from bs4 import BeautifulSoup\n",
    "import requests\n",
    "from settings import FDCUK_DIR, FDCUK_BUNDESLIGA_DIR\n",
    "from time import sleep\n",
    "\n",
    "base_url = 'https://www.transfermarkt.com/bundesliga/verletztespieler/wettbewerb/L1/plus/1'\n",
    "\n",
    "response = requests.get(bundesliga_odds_url)\n",
    "soup = BeautifulSoup(response.text, 'html.parser')\n",
    "\n",
    "csv_anchors = soup.find_all('a', href=True, string='Bundesliga 1')\n",
    "\n",
    "for anchor in csv_anchors:\n",
    "    href = anchor['href']\n",
    "    csv_url = f'{base_url}/{href}'\n",
    "    year = href.split('/')[-2]\n",
    "    csv_response = requests.get(csv_url)\n",
    "    csv_content = csv_response.content\n",
    "\n",
    "    with open(f'{FDCUK_BUNDESLIGA_DIR}/odds_{year}.csv', 'wb') as f:\n",
    "        f.write(csv_content)\n",
    "\n",
    "    sleep(5)"
   ]
  }
 ],
 "metadata": {
  "kernelspec": {
   "display_name": "Python 3",
   "language": "python",
   "name": "python3"
  },
  "language_info": {
   "codemirror_mode": {
    "name": "ipython",
    "version": 2
   },
   "file_extension": ".py",
   "mimetype": "text/x-python",
   "name": "python",
   "nbconvert_exporter": "python",
   "pygments_lexer": "ipython2",
   "version": "2.7.6"
  }
 },
 "nbformat": 4,
 "nbformat_minor": 5
}
