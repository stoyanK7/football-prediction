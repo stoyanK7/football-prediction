{
 "cells": [
  {
   "cell_type": "markdown",
   "source": [
    "# Crawling [https://fbref.com](https://fbref.com) pages"
   ],
   "metadata": {
    "collapsed": false
   },
   "id": "c20bb8ba72ea5a14"
  },
  {
   "cell_type": "markdown",
   "source": [
    "Crawl pages from [https://fbref.com](https://fbref.com) and save them locally."
   ],
   "metadata": {
    "collapsed": false
   },
   "id": "64cc48574283e118"
  },
  {
   "cell_type": "markdown",
   "source": [
    "Imports"
   ],
   "metadata": {
    "collapsed": false
   },
   "id": "c9830867613304ba"
  },
  {
   "cell_type": "code",
   "execution_count": 2,
   "id": "initial_id",
   "metadata": {
    "collapsed": true,
    "ExecuteTime": {
     "end_time": "2023-10-03T17:10:08.674140405Z",
     "start_time": "2023-10-03T17:10:08.571588832Z"
    }
   },
   "outputs": [],
   "source": [
    "from time import sleep\n",
    "\n",
    "import requests\n",
    "from bs4 import BeautifulSoup\n",
    "from requests import Response\n",
    "from tqdm.notebook import trange"
   ]
  },
  {
   "cell_type": "markdown",
   "source": [
    "General crawler settings"
   ],
   "metadata": {
    "collapsed": false
   },
   "id": "d4a88f31db1f3b00"
  },
  {
   "cell_type": "code",
   "execution_count": 3,
   "outputs": [],
   "source": [
    "base_url = 'https://fbref.com'\n",
    "stats_href = '/en/comps/20/Bundesliga-Stats'\n",
    "pages_path = '../data/pages'\n",
    "seasons_to_crawl = 7\n",
    "seconds_to_sleep = 7"
   ],
   "metadata": {
    "collapsed": false,
    "ExecuteTime": {
     "end_time": "2023-10-03T17:10:10.155088918Z",
     "start_time": "2023-10-03T17:10:10.150066290Z"
    }
   },
   "id": "1d4d5877ffd98428"
  },
  {
   "cell_type": "markdown",
   "source": [
    "Utility functions"
   ],
   "metadata": {
    "collapsed": false
   },
   "id": "f7a242443938cb39"
  },
  {
   "cell_type": "code",
   "execution_count": 4,
   "outputs": [],
   "source": [
    "def save_page(href) -> Response|None:\n",
    "    url = f'{base_url}{href}'\n",
    "    html = requests.get(url, headers={'User-agent': 'bot123'})\n",
    "    # File names are not allowed to contain / and :\n",
    "    file_name = url.replace('/', '(').replace(':', '_')\n",
    "\n",
    "    with open(f'{pages_path}/{file_name}', 'w') as f:\n",
    "        f.write(html.text)\n",
    "\n",
    "    sleep(seconds_to_sleep)\n",
    "    return html\n",
    "\n",
    "def get_category_href(soup, category):\n",
    "    return soup.select(f'div.filter div a[href*=\"all_comps/{category}\"]')[0]['href']"
   ],
   "metadata": {
    "collapsed": false,
    "ExecuteTime": {
     "end_time": "2023-10-03T17:10:11.657330679Z",
     "start_time": "2023-10-03T17:10:11.651062992Z"
    }
   },
   "id": "21d16b8f2507ef55"
  },
  {
   "cell_type": "markdown",
   "source": [
    "Crawling functionality"
   ],
   "metadata": {
    "collapsed": false
   },
   "id": "460115d6a11757a8"
  },
  {
   "cell_type": "code",
   "execution_count": null,
   "outputs": [],
   "source": [
    "current_stats_href = stats_href\n",
    "\n",
    "for season_no in trange(seasons_to_crawl, desc='Seasons crawled'):\n",
    "    stats_page_html = save_page(current_stats_href)\n",
    "    stats_page_soup = BeautifulSoup(stats_page_html.text)\n",
    "\n",
    "    standings_table = stats_page_soup.select('table.stats_table')[0]\n",
    "    teams_anchors = standings_table.select('tr td:nth-of-type(1) a')\n",
    "    team_hrefs = [anchor[\"href\"] for anchor in teams_anchors]\n",
    "\n",
    "    for team_href in team_hrefs:\n",
    "        team_page_html = save_page(team_href)\n",
    "        team_page_soup = BeautifulSoup(team_page_html.text)\n",
    "\n",
    "        save_page(get_category_href(team_page_soup, 'shooting'))\n",
    "        save_page(get_category_href(team_page_soup, 'keeper'))\n",
    "        save_page(get_category_href(team_page_soup, 'passing'))\n",
    "        save_page(get_category_href(team_page_soup, 'passing_types'))\n",
    "        save_page(get_category_href(team_page_soup, 'gca'))\n",
    "        save_page(get_category_href(team_page_soup, 'defense'))\n",
    "        save_page(get_category_href(team_page_soup, 'possession'))\n",
    "        save_page(get_category_href(team_page_soup, 'misc'))\n",
    "\n",
    "    href_to_previous_season = stats_page_soup.select('div.prevnext a:-soup-contains(\"Previous Season\")')[0]['href']\n",
    "    current_stats_href = href_to_previous_season\n",
    "    sleep(seconds_to_sleep)"
   ],
   "metadata": {
    "collapsed": false
   },
   "id": "135ca82d3d6ae317"
  }
 ],
 "metadata": {
  "kernelspec": {
   "display_name": "Python 3",
   "language": "python",
   "name": "python3"
  },
  "language_info": {
   "codemirror_mode": {
    "name": "ipython",
    "version": 2
   },
   "file_extension": ".py",
   "mimetype": "text/x-python",
   "name": "python",
   "nbconvert_exporter": "python",
   "pygments_lexer": "ipython2",
   "version": "2.7.6"
  }
 },
 "nbformat": 4,
 "nbformat_minor": 5
}
