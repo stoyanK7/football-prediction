{
 "cells": [
  {
   "cell_type": "code",
   "execution_count": 24,
   "id": "initial_id",
   "metadata": {
    "collapsed": true,
    "ExecuteTime": {
     "end_time": "2023-12-10T18:36:03.971859822Z",
     "start_time": "2023-12-10T18:36:03.964698283Z"
    }
   },
   "outputs": [],
   "source": [
    "import numpy as np\n",
    "\n",
    "from settings import PROCESSED_DATA_DIR\n",
    "import pandas as pd\n",
    "from pathlib import Path\n",
    "from reduce_memory_usage import reduce_memory_usage\n",
    "import tensorflow as tf\n",
    "from tensorflow import keras\n",
    "tf.get_logger().setLevel('INFO')"
   ]
  },
  {
   "cell_type": "code",
   "execution_count": 16,
   "outputs": [
    {
     "name": "stdout",
     "output_type": "stream",
     "text": [
      "Memory usage of dataframe is 4.627826690673828 MB\n",
      "Memory usage of dataframe after reduction 1.2287025451660156 MB\n",
      "Reduced by 73.44968540757709 % \n"
     ]
    }
   ],
   "source": [
    "df = pd.read_csv(Path(PROCESSED_DATA_DIR, 'bundesliga_matches.csv'))\n",
    "df = reduce_memory_usage(df)\n",
    "df['info_date'] = pd.to_datetime(df['info_date'])\n",
    "df = df.sort_values(by=['info_date'])"
   ],
   "metadata": {
    "collapsed": false,
    "ExecuteTime": {
     "end_time": "2023-12-10T18:33:29.061967752Z",
     "start_time": "2023-12-10T18:33:28.973544206Z"
    }
   },
   "id": "f3be659ddb4ccb7b"
  },
  {
   "cell_type": "code",
   "execution_count": 17,
   "outputs": [],
   "source": [
    "predictors = [c for c in df.columns if c.startswith('feat_')]\n",
    "cutoff_date = '2023-05-01'\n",
    "\n",
    "train_features = df[df['info_date'] < cutoff_date][predictors]\n",
    "train_target = df[df['info_date'] < cutoff_date]['target']\n",
    "\n",
    "test_features = df[df['info_date'] >= cutoff_date][predictors]\n",
    "test_target = df[df['info_date'] >= cutoff_date]['target']"
   ],
   "metadata": {
    "collapsed": false,
    "ExecuteTime": {
     "end_time": "2023-12-10T18:33:29.093167911Z",
     "start_time": "2023-12-10T18:33:29.062972352Z"
    }
   },
   "id": "edd2541c10350870"
  },
  {
   "cell_type": "code",
   "execution_count": 18,
   "outputs": [],
   "source": [
    "model = keras.Sequential([\n",
    "    keras.layers.Dense(64, activation='relu', input_shape=[len(train_features.keys())]),\n",
    "    keras.layers.Dense(64, activation='relu'),\n",
    "    keras.layers.Dense(1, activation='sigmoid')\n",
    "])"
   ],
   "metadata": {
    "collapsed": false,
    "ExecuteTime": {
     "end_time": "2023-12-10T18:33:29.131555391Z",
     "start_time": "2023-12-10T18:33:29.086903616Z"
    }
   },
   "id": "714917fb784f4d5"
  },
  {
   "cell_type": "code",
   "execution_count": 19,
   "outputs": [],
   "source": [
    "model.compile(optimizer='adam',\n",
    "              loss='binary_crossentropy',\n",
    "              metrics=[tf.keras.metrics.Precision(name='precision')])"
   ],
   "metadata": {
    "collapsed": false,
    "ExecuteTime": {
     "end_time": "2023-12-10T18:33:29.173783315Z",
     "start_time": "2023-12-10T18:33:29.129651301Z"
    }
   },
   "id": "b4fdf207f530034"
  },
  {
   "cell_type": "code",
   "execution_count": 20,
   "outputs": [
    {
     "name": "stdout",
     "output_type": "stream",
     "text": [
      "Epoch 1/50\n",
      "111/111 [==============================] - 1s 2ms/step - loss: 52.1630 - precision: 0.3666\n",
      "Epoch 2/50\n",
      "111/111 [==============================] - 0s 2ms/step - loss: 17.7769 - precision: 0.3994\n",
      "Epoch 3/50\n",
      "111/111 [==============================] - 0s 2ms/step - loss: 17.9987 - precision: 0.3988\n",
      "Epoch 4/50\n",
      "111/111 [==============================] - 0s 2ms/step - loss: 22.7140 - precision: 0.4006\n",
      "Epoch 5/50\n",
      "111/111 [==============================] - 0s 2ms/step - loss: 21.7019 - precision: 0.4088\n",
      "Epoch 6/50\n",
      "111/111 [==============================] - 0s 2ms/step - loss: 20.3828 - precision: 0.3954\n",
      "Epoch 7/50\n",
      "111/111 [==============================] - 0s 2ms/step - loss: 14.4884 - precision: 0.4020\n",
      "Epoch 8/50\n",
      "111/111 [==============================] - 0s 2ms/step - loss: 17.3748 - precision: 0.4011\n",
      "Epoch 9/50\n",
      "111/111 [==============================] - 0s 2ms/step - loss: 18.4424 - precision: 0.4067\n",
      "Epoch 10/50\n",
      "111/111 [==============================] - 0s 2ms/step - loss: 14.4867 - precision: 0.4255\n",
      "Epoch 11/50\n",
      "111/111 [==============================] - 0s 2ms/step - loss: 16.7123 - precision: 0.4170\n",
      "Epoch 12/50\n",
      "111/111 [==============================] - 0s 2ms/step - loss: 11.6569 - precision: 0.4015\n",
      "Epoch 13/50\n",
      "111/111 [==============================] - 0s 2ms/step - loss: 12.8909 - precision: 0.4022\n",
      "Epoch 14/50\n",
      "111/111 [==============================] - 0s 2ms/step - loss: 24.7219 - precision: 0.3828\n",
      "Epoch 15/50\n",
      "111/111 [==============================] - 0s 2ms/step - loss: 13.8826 - precision: 0.4137\n",
      "Epoch 16/50\n",
      "111/111 [==============================] - 0s 2ms/step - loss: 18.9292 - precision: 0.4097\n",
      "Epoch 17/50\n",
      "111/111 [==============================] - 0s 2ms/step - loss: 8.8426 - precision: 0.4261\n",
      "Epoch 18/50\n",
      "111/111 [==============================] - 0s 2ms/step - loss: 18.1629 - precision: 0.3982\n",
      "Epoch 19/50\n",
      "111/111 [==============================] - 0s 2ms/step - loss: 19.1035 - precision: 0.3937\n",
      "Epoch 20/50\n",
      "111/111 [==============================] - 0s 2ms/step - loss: 9.3626 - precision: 0.4230\n",
      "Epoch 21/50\n",
      "111/111 [==============================] - 0s 2ms/step - loss: 11.5562 - precision: 0.4136\n",
      "Epoch 22/50\n",
      "111/111 [==============================] - 0s 2ms/step - loss: 14.3287 - precision: 0.4111\n",
      "Epoch 23/50\n",
      "111/111 [==============================] - 0s 2ms/step - loss: 9.7073 - precision: 0.4309\n",
      "Epoch 24/50\n",
      "111/111 [==============================] - 0s 2ms/step - loss: 12.0393 - precision: 0.4134\n",
      "Epoch 25/50\n",
      "111/111 [==============================] - 0s 2ms/step - loss: 13.1258 - precision: 0.3720\n",
      "Epoch 26/50\n",
      "111/111 [==============================] - 0s 2ms/step - loss: 11.3083 - precision: 0.3972\n",
      "Epoch 27/50\n",
      "111/111 [==============================] - 0s 2ms/step - loss: 26.9778 - precision: 0.3946\n",
      "Epoch 28/50\n",
      "111/111 [==============================] - 0s 2ms/step - loss: 19.4675 - precision: 0.4164\n",
      "Epoch 29/50\n",
      "111/111 [==============================] - 0s 2ms/step - loss: 11.7002 - precision: 0.4210\n",
      "Epoch 30/50\n",
      "111/111 [==============================] - 0s 2ms/step - loss: 17.0773 - precision: 0.4113\n",
      "Epoch 31/50\n",
      "111/111 [==============================] - 0s 2ms/step - loss: 11.2649 - precision: 0.4113\n",
      "Epoch 32/50\n",
      "111/111 [==============================] - 0s 2ms/step - loss: 10.8905 - precision: 0.4200\n",
      "Epoch 33/50\n",
      "111/111 [==============================] - 0s 2ms/step - loss: 10.6743 - precision: 0.4062\n",
      "Epoch 34/50\n",
      "111/111 [==============================] - 0s 2ms/step - loss: 10.7852 - precision: 0.4079\n",
      "Epoch 35/50\n",
      "111/111 [==============================] - 0s 2ms/step - loss: 6.7551 - precision: 0.4227\n",
      "Epoch 36/50\n",
      "111/111 [==============================] - 0s 2ms/step - loss: 12.7751 - precision: 0.4205\n",
      "Epoch 37/50\n",
      "111/111 [==============================] - 0s 2ms/step - loss: 7.0074 - precision: 0.4184\n",
      "Epoch 38/50\n",
      "111/111 [==============================] - 0s 2ms/step - loss: 11.8209 - precision: 0.4229\n",
      "Epoch 39/50\n",
      "111/111 [==============================] - 0s 2ms/step - loss: 7.4829 - precision: 0.4141\n",
      "Epoch 40/50\n",
      "111/111 [==============================] - 0s 2ms/step - loss: 7.1788 - precision: 0.4236\n",
      "Epoch 41/50\n",
      "111/111 [==============================] - 0s 2ms/step - loss: 6.3648 - precision: 0.4252\n",
      "Epoch 42/50\n",
      "111/111 [==============================] - 0s 2ms/step - loss: 7.9414 - precision: 0.4153\n",
      "Epoch 43/50\n",
      "111/111 [==============================] - 0s 2ms/step - loss: 11.5328 - precision: 0.4146\n",
      "Epoch 44/50\n",
      "111/111 [==============================] - 0s 2ms/step - loss: 10.1768 - precision: 0.4015\n",
      "Epoch 45/50\n",
      "111/111 [==============================] - 0s 2ms/step - loss: 6.9632 - precision: 0.4201\n",
      "Epoch 46/50\n",
      "111/111 [==============================] - 0s 2ms/step - loss: 6.0205 - precision: 0.4266\n",
      "Epoch 47/50\n",
      "111/111 [==============================] - 0s 2ms/step - loss: 9.0634 - precision: 0.4079\n",
      "Epoch 48/50\n",
      "111/111 [==============================] - 0s 2ms/step - loss: 9.9349 - precision: 0.4090\n",
      "Epoch 49/50\n",
      "111/111 [==============================] - 0s 2ms/step - loss: 7.0162 - precision: 0.4311\n",
      "Epoch 50/50\n",
      "111/111 [==============================] - 0s 2ms/step - loss: 10.8749 - precision: 0.4068\n"
     ]
    },
    {
     "data": {
      "text/plain": "<keras.src.callbacks.History at 0x7ff9542633d0>"
     },
     "execution_count": 20,
     "metadata": {},
     "output_type": "execute_result"
    }
   ],
   "source": [
    "model.fit(train_features, train_target, epochs=50)"
   ],
   "metadata": {
    "collapsed": false,
    "ExecuteTime": {
     "end_time": "2023-12-10T18:33:40.000361169Z",
     "start_time": "2023-12-10T18:33:29.173635181Z"
    }
   },
   "id": "b95f6cccce5f5c4f"
  },
  {
   "cell_type": "code",
   "execution_count": 22,
   "outputs": [
    {
     "name": "stdout",
     "output_type": "stream",
     "text": [
      "10/10 - 0s - loss: 2.6148 - precision: 0.6154 - 22ms/epoch - 2ms/step\n"
     ]
    }
   ],
   "source": [
    "test_loss, test_acc = model.evaluate(test_features,  test_target, verbose=2)"
   ],
   "metadata": {
    "collapsed": false,
    "ExecuteTime": {
     "end_time": "2023-12-10T18:33:43.975171921Z",
     "start_time": "2023-12-10T18:33:43.907190646Z"
    }
   },
   "id": "f4cb9c341082981d"
  },
  {
   "cell_type": "code",
   "execution_count": 29,
   "outputs": [
    {
     "name": "stdout",
     "output_type": "stream",
     "text": [
      "10/10 [==============================] - 0s 894us/step\n"
     ]
    },
    {
     "data": {
      "text/plain": "2225    0\n2440    0\n477     1\n3112    0\n1843    0\n       ..\n708     1\n494     1\n3296    1\n2242    0\n2457    1\nLength: 316, dtype: int64"
     },
     "execution_count": 29,
     "metadata": {},
     "output_type": "execute_result"
    }
   ],
   "source": [
    "prediction = model.predict(np.array(test_features))\n",
    "# show prediction in either 0 or 1\n",
    "prediction = np.where(prediction > 0.5, 1, 0)\n",
    "prediction = pd.Series(prediction.flatten(), index=test_target.index)\n",
    "prediction"
   ],
   "metadata": {
    "collapsed": false,
    "ExecuteTime": {
     "end_time": "2023-12-10T18:38:43.999833587Z",
     "start_time": "2023-12-10T18:38:43.940275183Z"
    }
   },
   "id": "efa1d7c62f426cbc"
  }
 ],
 "metadata": {
  "kernelspec": {
   "display_name": "Python 3",
   "language": "python",
   "name": "python3"
  },
  "language_info": {
   "codemirror_mode": {
    "name": "ipython",
    "version": 2
   },
   "file_extension": ".py",
   "mimetype": "text/x-python",
   "name": "python",
   "nbconvert_exporter": "python",
   "pygments_lexer": "ipython2",
   "version": "2.7.6"
  }
 },
 "nbformat": 4,
 "nbformat_minor": 5
}
