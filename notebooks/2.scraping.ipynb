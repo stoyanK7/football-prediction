{
 "cells": [
  {
   "cell_type": "markdown",
   "source": [
    "# Scraping data from saved pages"
   ],
   "metadata": {
    "collapsed": false
   },
   "id": "c20bb8ba72ea5a14"
  },
  {
   "cell_type": "markdown",
   "source": [
    "Open saved pages and extract data from them and save it in a `.csv` file."
   ],
   "metadata": {
    "collapsed": false
   },
   "id": "64cc48574283e118"
  },
  {
   "cell_type": "markdown",
   "source": [
    "Imports."
   ],
   "metadata": {
    "collapsed": false
   },
   "id": "a29cb2c6335a135d"
  },
  {
   "cell_type": "code",
   "execution_count": 2,
   "outputs": [],
   "source": [
    "from os import listdir\n",
    "import re\n",
    "import pandas as pd\n",
    "from tqdm.notebook import tqdm"
   ],
   "metadata": {
    "collapsed": false,
    "ExecuteTime": {
     "end_time": "2023-10-03T17:22:38.211923287Z",
     "start_time": "2023-10-03T17:22:37.966366149Z"
    }
   },
   "id": "7b3de5fe314ad75b"
  },
  {
   "cell_type": "markdown",
   "source": [
    "Get a list of all the pages saved and display how many there are."
   ],
   "metadata": {
    "collapsed": false
   },
   "id": "e3e4830eae360ff2"
  },
  {
   "cell_type": "code",
   "execution_count": 26,
   "outputs": [
    {
     "name": "stdout",
     "output_type": "stream",
     "text": [
      "Saved pages: 1142\n"
     ]
    }
   ],
   "source": [
    "data_path = '../data'\n",
    "pages_path = f'{data_path}/pages'\n",
    "pages = listdir(pages_path)\n",
    "print(f'Saved pages: {len(pages)}')"
   ],
   "metadata": {
    "collapsed": false,
    "ExecuteTime": {
     "end_time": "2023-10-03T18:58:09.707136120Z",
     "start_time": "2023-10-03T18:58:09.658857621Z"
    }
   },
   "id": "9455e36124c853c7"
  },
  {
   "cell_type": "markdown",
   "source": [
    "Extract stats pages."
   ],
   "metadata": {
    "collapsed": false
   },
   "id": "843f8db297cb7c29"
  },
  {
   "cell_type": "code",
   "execution_count": 12,
   "outputs": [
    {
     "data": {
      "text/plain": "['https_((fbref.com(en(squads(f0ac8ee6(2020-2021(Eintracht-Frankfurt-Stats',\n 'https_((fbref.com(en(squads(2818f8bc(2018-2019(Hertha-BSC-Stats',\n 'https_((fbref.com(en(squads(32f3ee20(2021-2022(Monchengladbach-Stats',\n 'https_((fbref.com(en(squads(62add3bf(2020-2021(Werder-Bremen-Stats',\n 'https_((fbref.com(en(squads(60b5e41f(2018-2019(Hannover-96-Stats',\n 'https_((fbref.com(en(comps(20(2017-2018(2017-2018-Bundesliga-Stats',\n 'https_((fbref.com(en(squads(b1278397(2019-2020(Dusseldorf-Stats']"
     },
     "execution_count": 12,
     "metadata": {},
     "output_type": "execute_result"
    }
   ],
   "source": [
    "stats_page_pattern = re.compile(r'^.*-Stats$')\n",
    "stats_pages = list(filter(stats_page_pattern.match, pages))\n",
    "stats_pages[:7]"
   ],
   "metadata": {
    "collapsed": false,
    "ExecuteTime": {
     "end_time": "2023-10-03T18:33:42.049766380Z",
     "start_time": "2023-10-03T18:33:42.032876876Z"
    }
   },
   "id": "f68d0aa68f6c9780"
  },
  {
   "cell_type": "markdown",
   "source": [
    "Remove `Bundesliga-Stats` pages as they do not contain any useful information. This way only team stats pages are left."
   ],
   "metadata": {
    "collapsed": false
   },
   "id": "66ab25c6bbd3d437"
  },
  {
   "cell_type": "code",
   "execution_count": 11,
   "outputs": [
    {
     "data": {
      "text/plain": "['https_((fbref.com(en(squads(f0ac8ee6(2020-2021(Eintracht-Frankfurt-Stats',\n 'https_((fbref.com(en(squads(2818f8bc(2018-2019(Hertha-BSC-Stats',\n 'https_((fbref.com(en(squads(32f3ee20(2021-2022(Monchengladbach-Stats',\n 'https_((fbref.com(en(squads(62add3bf(2020-2021(Werder-Bremen-Stats',\n 'https_((fbref.com(en(squads(60b5e41f(2018-2019(Hannover-96-Stats',\n 'https_((fbref.com(en(squads(b1278397(2019-2020(Dusseldorf-Stats']"
     },
     "execution_count": 11,
     "metadata": {},
     "output_type": "execute_result"
    }
   ],
   "source": [
    "teams_stats_pages = [page for page in stats_pages if not page.endswith('Bundesliga-Stats')]\n",
    "teams_stats_pages[:6]"
   ],
   "metadata": {
    "collapsed": false,
    "ExecuteTime": {
     "end_time": "2023-10-03T18:33:33.621722649Z",
     "start_time": "2023-10-03T18:33:33.606912016Z"
    }
   },
   "id": "9322f238f8e0e317"
  },
  {
   "cell_type": "markdown",
   "source": [
    "Utility function to get certain statistics category as a dataframe.\n",
    "\n",
    "An example `stats_page` can be `https_((fbref.com(en(squads(f0ac8ee6(2017-2018(matchlogs(all_comps(passing(Eintracht-Frankfurt-Match-Logs-All-Competitions` which contains the passing statistics for Eintracht Frankfurt for the 2017-2018 season.\n"
   ],
   "metadata": {
    "collapsed": false
   },
   "id": "9799fafdbe905662"
  },
  {
   "cell_type": "code",
   "execution_count": 20,
   "outputs": [],
   "source": [
    "def get_stats_dataframe(team_stats_page, stat_href, stat_caption):\n",
    "    link_without_team = '('.join(team_stats_page.split('(')[:-1])\n",
    "    stats_page = [page for page in pages if link_without_team in page and f'({stat_href}(' in page][0]\n",
    "    try:\n",
    "        stats_file = open(f'{pages_path}/{stats_page}', 'r')\n",
    "        stats_file_contents = stats_file.read()\n",
    "        stats_df = pd.read_html(stats_file_contents, match=stat_caption)[0]\n",
    "        # Rename the 'For <team name>' columns as they are unique to each team\n",
    "        stats_df = stats_df.rename(columns=lambda x: re.sub('^For .+','',x))\n",
    "        # Join the first two header rows\n",
    "        stats_df.columns = stats_df.columns.map(' '.join)\n",
    "        stats_df.rename(columns={stats_df.columns[0]: 'Date', stats_df.columns[1]: 'Time'}, inplace=True)\n",
    "        stats_df.columns = (['Date', 'Time']\n",
    "                            + [f'{stat_href} {column}'\n",
    "                               for column in stats_df.columns\n",
    "                               if column != 'Date' and column != 'Time'])\n",
    "        return stats_df\n",
    "    except Exception as e:\n",
    "        print(f'Failed to create stats dataframe for {stats_page}')\n",
    "        print(e)"
   ],
   "metadata": {
    "collapsed": false,
    "ExecuteTime": {
     "end_time": "2023-10-03T18:50:23.008694397Z",
     "start_time": "2023-10-03T18:50:22.998956138Z"
    }
   },
   "id": "cfc15ebe6da0a5df"
  },
  {
   "cell_type": "markdown",
   "source": [
    "Iterate over all team stats pages and extract the data from them into a list of dataframes."
   ],
   "metadata": {
    "collapsed": false
   },
   "id": "2479c5fb943478f8"
  },
  {
   "cell_type": "code",
   "execution_count": 21,
   "outputs": [
    {
     "data": {
      "text/plain": "  0%|          | 0/126 [00:00<?, ?it/s]",
      "application/vnd.jupyter.widget-view+json": {
       "version_major": 2,
       "version_minor": 0,
       "model_id": "0ee8302b861041e88f8d5bf26278499e"
      }
     },
     "metadata": {},
     "output_type": "display_data"
    }
   ],
   "source": [
    "all_matches = []\n",
    "statistics = {\n",
    "    'shooting': 'Shooting',\n",
    "    'keeper': 'Goalkeeping',\n",
    "    'passing': 'Passing',\n",
    "    'passing_types': 'Pass Types',\n",
    "    'gca': 'Goal and Shot Creation',\n",
    "    'defense': 'Defensive Actions',\n",
    "    'possession': 'Possession',\n",
    "    'misc': 'Miscellaneous Stats'\n",
    "}\n",
    "\n",
    "for team_stats_page in tqdm(teams_stats_pages):\n",
    "    team_name = team_stats_page \\\n",
    "                    .split('(')[-1] \\\n",
    "                    .replace('-Stats', '') \\\n",
    "                    .replace('-', ' ')\n",
    "    team_stats_file = open(f'{pages_path}/{team_stats_page}', 'r')\n",
    "    team_stats_file_contents = team_stats_file.read()\n",
    "\n",
    "    team_scores_and_fixtures_df = pd.read_html(team_stats_file_contents, match='Scores & Fixtures')[0]\n",
    "    team_scores_and_fixtures_df['Team'] = team_name\n",
    "\n",
    "    for stat_href, stat_caption in statistics.items():\n",
    "        stat_df = get_stats_dataframe(team_stats_page, stat_href, stat_caption)\n",
    "        team_scores_and_fixtures_df = team_scores_and_fixtures_df.merge(stat_df, on=['Date', 'Time'])\n",
    "\n",
    "    all_matches.append(team_scores_and_fixtures_df)"
   ],
   "metadata": {
    "collapsed": false,
    "ExecuteTime": {
     "end_time": "2023-10-03T18:51:38.569622404Z",
     "start_time": "2023-10-03T18:50:25.938387818Z"
    }
   },
   "id": "1fb040385bdcbbda"
  },
  {
   "cell_type": "markdown",
   "source": [
    "Merge all dataframes into one."
   ],
   "metadata": {
    "collapsed": false
   },
   "id": "59bfe6405d89f994"
  },
  {
   "cell_type": "code",
   "execution_count": 22,
   "outputs": [],
   "source": [
    "all_matches_df = pd.concat(all_matches)"
   ],
   "metadata": {
    "collapsed": false,
    "ExecuteTime": {
     "end_time": "2023-10-03T18:51:44.366902513Z",
     "start_time": "2023-10-03T18:51:44.196590980Z"
    }
   },
   "id": "510afb0c1e1d832e"
  },
  {
   "cell_type": "markdown",
   "source": [
    "Save the dataframe to a `.csv` file."
   ],
   "metadata": {
    "collapsed": false
   },
   "id": "3535d791e6683f76"
  },
  {
   "cell_type": "code",
   "execution_count": 29,
   "outputs": [],
   "source": [
    "all_matches_df.to_csv(f'{data_path}/csv/raw/bundesliga_matches.csv', index=False)"
   ],
   "metadata": {
    "collapsed": false,
    "ExecuteTime": {
     "end_time": "2023-10-03T19:00:18.689010659Z",
     "start_time": "2023-10-03T19:00:18.440137447Z"
    }
   },
   "id": "149d5dddb0b4a932"
  }
 ],
 "metadata": {
  "kernelspec": {
   "display_name": "Python 3",
   "language": "python",
   "name": "python3"
  },
  "language_info": {
   "codemirror_mode": {
    "name": "ipython",
    "version": 2
   },
   "file_extension": ".py",
   "mimetype": "text/x-python",
   "name": "python",
   "nbconvert_exporter": "python",
   "pygments_lexer": "ipython2",
   "version": "2.7.6"
  }
 },
 "nbformat": 4,
 "nbformat_minor": 5
}
