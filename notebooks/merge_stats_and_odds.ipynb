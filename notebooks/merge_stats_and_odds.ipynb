{
 "cells": [
  {
   "cell_type": "code",
   "execution_count": 401,
   "id": "initial_id",
   "metadata": {
    "collapsed": true,
    "ExecuteTime": {
     "end_time": "2023-11-21T12:54:46.453908633Z",
     "start_time": "2023-11-21T12:54:46.399264527Z"
    }
   },
   "outputs": [
    {
     "data": {
      "text/plain": "         date   time        comp        round  day venue result  gf  ga  \\\n0  2020-09-19  15:30  Bundesliga  Matchweek 1  Sat  Home      D   1   1   \n1  2020-09-25  20:30  Bundesliga  Matchweek 2  Fri  Away      W   3   1   \n2  2020-10-03  15:30  Bundesliga  Matchweek 3  Sat  Home      W   2   1   \n3  2020-10-18  15:30  Bundesliga  Matchweek 4  Sun  Away      D   1   1   \n4  2020-10-24  15:30  Bundesliga  Matchweek 5  Sat  Away      L   0   5   \n\n        opponent  ...  misc_performance_off  misc_performance_pkwon  \\\n0        Arminia  ...                   2.0                     0.0   \n1     Hertha BSC  ...                   0.0                     1.0   \n2     Hoffenheim  ...                   9.0                     0.0   \n3           Koln  ...                   0.0                     1.0   \n4  Bayern Munich  ...                   7.0                     0.0   \n\n   misc_performance_pkcon  misc_performance_og misc_performance_recov  \\\n0                     0.0                  0.0                   63.0   \n1                     0.0                  1.0                   57.0   \n2                     0.0                  0.0                   56.0   \n3                     0.0                  0.0                   65.0   \n4                     0.0                  0.0                   66.0   \n\n  misc_aerial_duels_won misc_aerial_duels_lost misc_aerial_duels_won%  pgf  \\\n0                  17.0                   15.0                   53.1  NaN   \n1                  23.0                   12.0                   65.7  NaN   \n2                  24.0                    9.0                   72.7  NaN   \n3                  36.0                   32.0                   52.9  NaN   \n4                  12.0                    8.0                   60.0  NaN   \n\n   pga  \n0  NaN  \n1  NaN  \n2  NaN  \n3  NaN  \n4  NaN  \n\n[5 rows x 159 columns]",
      "text/html": "<div>\n<style scoped>\n    .dataframe tbody tr th:only-of-type {\n        vertical-align: middle;\n    }\n\n    .dataframe tbody tr th {\n        vertical-align: top;\n    }\n\n    .dataframe thead th {\n        text-align: right;\n    }\n</style>\n<table border=\"1\" class=\"dataframe\">\n  <thead>\n    <tr style=\"text-align: right;\">\n      <th></th>\n      <th>date</th>\n      <th>time</th>\n      <th>comp</th>\n      <th>round</th>\n      <th>day</th>\n      <th>venue</th>\n      <th>result</th>\n      <th>gf</th>\n      <th>ga</th>\n      <th>opponent</th>\n      <th>...</th>\n      <th>misc_performance_off</th>\n      <th>misc_performance_pkwon</th>\n      <th>misc_performance_pkcon</th>\n      <th>misc_performance_og</th>\n      <th>misc_performance_recov</th>\n      <th>misc_aerial_duels_won</th>\n      <th>misc_aerial_duels_lost</th>\n      <th>misc_aerial_duels_won%</th>\n      <th>pgf</th>\n      <th>pga</th>\n    </tr>\n  </thead>\n  <tbody>\n    <tr>\n      <th>0</th>\n      <td>2020-09-19</td>\n      <td>15:30</td>\n      <td>Bundesliga</td>\n      <td>Matchweek 1</td>\n      <td>Sat</td>\n      <td>Home</td>\n      <td>D</td>\n      <td>1</td>\n      <td>1</td>\n      <td>Arminia</td>\n      <td>...</td>\n      <td>2.0</td>\n      <td>0.0</td>\n      <td>0.0</td>\n      <td>0.0</td>\n      <td>63.0</td>\n      <td>17.0</td>\n      <td>15.0</td>\n      <td>53.1</td>\n      <td>NaN</td>\n      <td>NaN</td>\n    </tr>\n    <tr>\n      <th>1</th>\n      <td>2020-09-25</td>\n      <td>20:30</td>\n      <td>Bundesliga</td>\n      <td>Matchweek 2</td>\n      <td>Fri</td>\n      <td>Away</td>\n      <td>W</td>\n      <td>3</td>\n      <td>1</td>\n      <td>Hertha BSC</td>\n      <td>...</td>\n      <td>0.0</td>\n      <td>1.0</td>\n      <td>0.0</td>\n      <td>1.0</td>\n      <td>57.0</td>\n      <td>23.0</td>\n      <td>12.0</td>\n      <td>65.7</td>\n      <td>NaN</td>\n      <td>NaN</td>\n    </tr>\n    <tr>\n      <th>2</th>\n      <td>2020-10-03</td>\n      <td>15:30</td>\n      <td>Bundesliga</td>\n      <td>Matchweek 3</td>\n      <td>Sat</td>\n      <td>Home</td>\n      <td>W</td>\n      <td>2</td>\n      <td>1</td>\n      <td>Hoffenheim</td>\n      <td>...</td>\n      <td>9.0</td>\n      <td>0.0</td>\n      <td>0.0</td>\n      <td>0.0</td>\n      <td>56.0</td>\n      <td>24.0</td>\n      <td>9.0</td>\n      <td>72.7</td>\n      <td>NaN</td>\n      <td>NaN</td>\n    </tr>\n    <tr>\n      <th>3</th>\n      <td>2020-10-18</td>\n      <td>15:30</td>\n      <td>Bundesliga</td>\n      <td>Matchweek 4</td>\n      <td>Sun</td>\n      <td>Away</td>\n      <td>D</td>\n      <td>1</td>\n      <td>1</td>\n      <td>Koln</td>\n      <td>...</td>\n      <td>0.0</td>\n      <td>1.0</td>\n      <td>0.0</td>\n      <td>0.0</td>\n      <td>65.0</td>\n      <td>36.0</td>\n      <td>32.0</td>\n      <td>52.9</td>\n      <td>NaN</td>\n      <td>NaN</td>\n    </tr>\n    <tr>\n      <th>4</th>\n      <td>2020-10-24</td>\n      <td>15:30</td>\n      <td>Bundesliga</td>\n      <td>Matchweek 5</td>\n      <td>Sat</td>\n      <td>Away</td>\n      <td>L</td>\n      <td>0</td>\n      <td>5</td>\n      <td>Bayern Munich</td>\n      <td>...</td>\n      <td>7.0</td>\n      <td>0.0</td>\n      <td>0.0</td>\n      <td>0.0</td>\n      <td>66.0</td>\n      <td>12.0</td>\n      <td>8.0</td>\n      <td>60.0</td>\n      <td>NaN</td>\n      <td>NaN</td>\n    </tr>\n  </tbody>\n</table>\n<p>5 rows × 159 columns</p>\n</div>"
     },
     "execution_count": 401,
     "metadata": {},
     "output_type": "execute_result"
    }
   ],
   "source": [
    "import pandas as pd\n",
    "\n",
    "df = pd.read_csv('../data/csv/clean/bundesliga_matches.csv')\n",
    "\n",
    "df.head()"
   ]
  },
  {
   "cell_type": "code",
   "execution_count": 402,
   "outputs": [
    {
     "data": {
      "text/plain": "  Div      Date       HomeTeam       AwayTeam  FTHG  FTAG FTR  HTHG  HTAG HTR  \\\n0  D1  18/08/17  Bayern Munich     Leverkusen     3     1   H     2     0   H   \n1  D1  19/08/17        Hamburg       Augsburg     1     0   H     1     0   H   \n2  D1  19/08/17         Hertha      Stuttgart     2     0   H     0     0   D   \n3  D1  19/08/17     Hoffenheim  Werder Bremen     1     0   H     0     0   D   \n4  D1  19/08/17          Mainz       Hannover     0     1   A     0     0   D   \n\n   ...  AvgC<2.5  AHCh  B365CAHH  B365CAHA  PCAHH  PCAHA  MaxCAHH  MaxCAHA  \\\n0  ...       NaN   NaN       NaN       NaN    NaN    NaN      NaN      NaN   \n1  ...       NaN   NaN       NaN       NaN    NaN    NaN      NaN      NaN   \n2  ...       NaN   NaN       NaN       NaN    NaN    NaN      NaN      NaN   \n3  ...       NaN   NaN       NaN       NaN    NaN    NaN      NaN      NaN   \n4  ...       NaN   NaN       NaN       NaN    NaN    NaN      NaN      NaN   \n\n   AvgCAHH  AvgCAHA  \n0      NaN      NaN  \n1      NaN      NaN  \n2      NaN      NaN  \n3      NaN      NaN  \n4      NaN      NaN  \n\n[5 rows x 126 columns]",
      "text/html": "<div>\n<style scoped>\n    .dataframe tbody tr th:only-of-type {\n        vertical-align: middle;\n    }\n\n    .dataframe tbody tr th {\n        vertical-align: top;\n    }\n\n    .dataframe thead th {\n        text-align: right;\n    }\n</style>\n<table border=\"1\" class=\"dataframe\">\n  <thead>\n    <tr style=\"text-align: right;\">\n      <th></th>\n      <th>Div</th>\n      <th>Date</th>\n      <th>HomeTeam</th>\n      <th>AwayTeam</th>\n      <th>FTHG</th>\n      <th>FTAG</th>\n      <th>FTR</th>\n      <th>HTHG</th>\n      <th>HTAG</th>\n      <th>HTR</th>\n      <th>...</th>\n      <th>AvgC&lt;2.5</th>\n      <th>AHCh</th>\n      <th>B365CAHH</th>\n      <th>B365CAHA</th>\n      <th>PCAHH</th>\n      <th>PCAHA</th>\n      <th>MaxCAHH</th>\n      <th>MaxCAHA</th>\n      <th>AvgCAHH</th>\n      <th>AvgCAHA</th>\n    </tr>\n  </thead>\n  <tbody>\n    <tr>\n      <th>0</th>\n      <td>D1</td>\n      <td>18/08/17</td>\n      <td>Bayern Munich</td>\n      <td>Leverkusen</td>\n      <td>3</td>\n      <td>1</td>\n      <td>H</td>\n      <td>2</td>\n      <td>0</td>\n      <td>H</td>\n      <td>...</td>\n      <td>NaN</td>\n      <td>NaN</td>\n      <td>NaN</td>\n      <td>NaN</td>\n      <td>NaN</td>\n      <td>NaN</td>\n      <td>NaN</td>\n      <td>NaN</td>\n      <td>NaN</td>\n      <td>NaN</td>\n    </tr>\n    <tr>\n      <th>1</th>\n      <td>D1</td>\n      <td>19/08/17</td>\n      <td>Hamburg</td>\n      <td>Augsburg</td>\n      <td>1</td>\n      <td>0</td>\n      <td>H</td>\n      <td>1</td>\n      <td>0</td>\n      <td>H</td>\n      <td>...</td>\n      <td>NaN</td>\n      <td>NaN</td>\n      <td>NaN</td>\n      <td>NaN</td>\n      <td>NaN</td>\n      <td>NaN</td>\n      <td>NaN</td>\n      <td>NaN</td>\n      <td>NaN</td>\n      <td>NaN</td>\n    </tr>\n    <tr>\n      <th>2</th>\n      <td>D1</td>\n      <td>19/08/17</td>\n      <td>Hertha</td>\n      <td>Stuttgart</td>\n      <td>2</td>\n      <td>0</td>\n      <td>H</td>\n      <td>0</td>\n      <td>0</td>\n      <td>D</td>\n      <td>...</td>\n      <td>NaN</td>\n      <td>NaN</td>\n      <td>NaN</td>\n      <td>NaN</td>\n      <td>NaN</td>\n      <td>NaN</td>\n      <td>NaN</td>\n      <td>NaN</td>\n      <td>NaN</td>\n      <td>NaN</td>\n    </tr>\n    <tr>\n      <th>3</th>\n      <td>D1</td>\n      <td>19/08/17</td>\n      <td>Hoffenheim</td>\n      <td>Werder Bremen</td>\n      <td>1</td>\n      <td>0</td>\n      <td>H</td>\n      <td>0</td>\n      <td>0</td>\n      <td>D</td>\n      <td>...</td>\n      <td>NaN</td>\n      <td>NaN</td>\n      <td>NaN</td>\n      <td>NaN</td>\n      <td>NaN</td>\n      <td>NaN</td>\n      <td>NaN</td>\n      <td>NaN</td>\n      <td>NaN</td>\n      <td>NaN</td>\n    </tr>\n    <tr>\n      <th>4</th>\n      <td>D1</td>\n      <td>19/08/17</td>\n      <td>Mainz</td>\n      <td>Hannover</td>\n      <td>0</td>\n      <td>1</td>\n      <td>A</td>\n      <td>0</td>\n      <td>0</td>\n      <td>D</td>\n      <td>...</td>\n      <td>NaN</td>\n      <td>NaN</td>\n      <td>NaN</td>\n      <td>NaN</td>\n      <td>NaN</td>\n      <td>NaN</td>\n      <td>NaN</td>\n      <td>NaN</td>\n      <td>NaN</td>\n      <td>NaN</td>\n    </tr>\n  </tbody>\n</table>\n<p>5 rows × 126 columns</p>\n</div>"
     },
     "execution_count": 402,
     "metadata": {},
     "output_type": "execute_result"
    }
   ],
   "source": [
    "# read all odds csv files and merge into one df\n",
    "odds_dfs = []\n",
    "\n",
    "# read ../data/raw/bundesliga_1_odds*.csv\n",
    "year = 1718\n",
    "while year <= 2324:\n",
    "    odds_df = pd.read_csv(f'../data/raw/bundesliga_1_odds_{year}.csv')\n",
    "    odds_dfs.append(odds_df)\n",
    "    year += 101\n",
    "    \n",
    "odds_df = pd.concat(odds_dfs)\n",
    "\n",
    "odds_df.head()"
   ],
   "metadata": {
    "collapsed": false,
    "ExecuteTime": {
     "end_time": "2023-11-21T12:54:46.525016365Z",
     "start_time": "2023-11-21T12:54:46.455447720Z"
    }
   },
   "id": "9ebe20a0772c3369"
  },
  {
   "cell_type": "code",
   "execution_count": 403,
   "outputs": [
    {
     "data": {
      "text/plain": "  div      date       hometeam       awayteam  fthg  ftag ftr  hthg  htag htr  \\\n0  D1  18/08/17  Bayern Munich     Leverkusen     3     1   H     2     0   H   \n1  D1  19/08/17        Hamburg       Augsburg     1     0   H     1     0   H   \n2  D1  19/08/17         Hertha      Stuttgart     2     0   H     0     0   D   \n3  D1  19/08/17     Hoffenheim  Werder Bremen     1     0   H     0     0   D   \n4  D1  19/08/17          Mainz       Hannover     0     1   A     0     0   D   \n5  D1  19/08/17     Schalke 04     RB Leipzig     2     0   H     1     0   H   \n6  D1  19/08/17      Wolfsburg       Dortmund     0     3   A     0     2   A   \n7  D1  20/08/17       Freiburg  Ein Frankfurt     0     0   D     0     0   D   \n8  D1  20/08/17     M'gladbach        FC Koln     1     0   H     0     0   D   \n9  D1  25/08/17        FC Koln        Hamburg     1     3   A     0     2   A   \n\n   ...  avgc<2.5  ahch  b365cahh  b365caha  pcahh  pcaha  maxcahh  maxcaha  \\\n0  ...       NaN   NaN       NaN       NaN    NaN    NaN      NaN      NaN   \n1  ...       NaN   NaN       NaN       NaN    NaN    NaN      NaN      NaN   \n2  ...       NaN   NaN       NaN       NaN    NaN    NaN      NaN      NaN   \n3  ...       NaN   NaN       NaN       NaN    NaN    NaN      NaN      NaN   \n4  ...       NaN   NaN       NaN       NaN    NaN    NaN      NaN      NaN   \n5  ...       NaN   NaN       NaN       NaN    NaN    NaN      NaN      NaN   \n6  ...       NaN   NaN       NaN       NaN    NaN    NaN      NaN      NaN   \n7  ...       NaN   NaN       NaN       NaN    NaN    NaN      NaN      NaN   \n8  ...       NaN   NaN       NaN       NaN    NaN    NaN      NaN      NaN   \n9  ...       NaN   NaN       NaN       NaN    NaN    NaN      NaN      NaN   \n\n   avgcahh  avgcaha  \n0      NaN      NaN  \n1      NaN      NaN  \n2      NaN      NaN  \n3      NaN      NaN  \n4      NaN      NaN  \n5      NaN      NaN  \n6      NaN      NaN  \n7      NaN      NaN  \n8      NaN      NaN  \n9      NaN      NaN  \n\n[10 rows x 126 columns]",
      "text/html": "<div>\n<style scoped>\n    .dataframe tbody tr th:only-of-type {\n        vertical-align: middle;\n    }\n\n    .dataframe tbody tr th {\n        vertical-align: top;\n    }\n\n    .dataframe thead th {\n        text-align: right;\n    }\n</style>\n<table border=\"1\" class=\"dataframe\">\n  <thead>\n    <tr style=\"text-align: right;\">\n      <th></th>\n      <th>div</th>\n      <th>date</th>\n      <th>hometeam</th>\n      <th>awayteam</th>\n      <th>fthg</th>\n      <th>ftag</th>\n      <th>ftr</th>\n      <th>hthg</th>\n      <th>htag</th>\n      <th>htr</th>\n      <th>...</th>\n      <th>avgc&lt;2.5</th>\n      <th>ahch</th>\n      <th>b365cahh</th>\n      <th>b365caha</th>\n      <th>pcahh</th>\n      <th>pcaha</th>\n      <th>maxcahh</th>\n      <th>maxcaha</th>\n      <th>avgcahh</th>\n      <th>avgcaha</th>\n    </tr>\n  </thead>\n  <tbody>\n    <tr>\n      <th>0</th>\n      <td>D1</td>\n      <td>18/08/17</td>\n      <td>Bayern Munich</td>\n      <td>Leverkusen</td>\n      <td>3</td>\n      <td>1</td>\n      <td>H</td>\n      <td>2</td>\n      <td>0</td>\n      <td>H</td>\n      <td>...</td>\n      <td>NaN</td>\n      <td>NaN</td>\n      <td>NaN</td>\n      <td>NaN</td>\n      <td>NaN</td>\n      <td>NaN</td>\n      <td>NaN</td>\n      <td>NaN</td>\n      <td>NaN</td>\n      <td>NaN</td>\n    </tr>\n    <tr>\n      <th>1</th>\n      <td>D1</td>\n      <td>19/08/17</td>\n      <td>Hamburg</td>\n      <td>Augsburg</td>\n      <td>1</td>\n      <td>0</td>\n      <td>H</td>\n      <td>1</td>\n      <td>0</td>\n      <td>H</td>\n      <td>...</td>\n      <td>NaN</td>\n      <td>NaN</td>\n      <td>NaN</td>\n      <td>NaN</td>\n      <td>NaN</td>\n      <td>NaN</td>\n      <td>NaN</td>\n      <td>NaN</td>\n      <td>NaN</td>\n      <td>NaN</td>\n    </tr>\n    <tr>\n      <th>2</th>\n      <td>D1</td>\n      <td>19/08/17</td>\n      <td>Hertha</td>\n      <td>Stuttgart</td>\n      <td>2</td>\n      <td>0</td>\n      <td>H</td>\n      <td>0</td>\n      <td>0</td>\n      <td>D</td>\n      <td>...</td>\n      <td>NaN</td>\n      <td>NaN</td>\n      <td>NaN</td>\n      <td>NaN</td>\n      <td>NaN</td>\n      <td>NaN</td>\n      <td>NaN</td>\n      <td>NaN</td>\n      <td>NaN</td>\n      <td>NaN</td>\n    </tr>\n    <tr>\n      <th>3</th>\n      <td>D1</td>\n      <td>19/08/17</td>\n      <td>Hoffenheim</td>\n      <td>Werder Bremen</td>\n      <td>1</td>\n      <td>0</td>\n      <td>H</td>\n      <td>0</td>\n      <td>0</td>\n      <td>D</td>\n      <td>...</td>\n      <td>NaN</td>\n      <td>NaN</td>\n      <td>NaN</td>\n      <td>NaN</td>\n      <td>NaN</td>\n      <td>NaN</td>\n      <td>NaN</td>\n      <td>NaN</td>\n      <td>NaN</td>\n      <td>NaN</td>\n    </tr>\n    <tr>\n      <th>4</th>\n      <td>D1</td>\n      <td>19/08/17</td>\n      <td>Mainz</td>\n      <td>Hannover</td>\n      <td>0</td>\n      <td>1</td>\n      <td>A</td>\n      <td>0</td>\n      <td>0</td>\n      <td>D</td>\n      <td>...</td>\n      <td>NaN</td>\n      <td>NaN</td>\n      <td>NaN</td>\n      <td>NaN</td>\n      <td>NaN</td>\n      <td>NaN</td>\n      <td>NaN</td>\n      <td>NaN</td>\n      <td>NaN</td>\n      <td>NaN</td>\n    </tr>\n    <tr>\n      <th>5</th>\n      <td>D1</td>\n      <td>19/08/17</td>\n      <td>Schalke 04</td>\n      <td>RB Leipzig</td>\n      <td>2</td>\n      <td>0</td>\n      <td>H</td>\n      <td>1</td>\n      <td>0</td>\n      <td>H</td>\n      <td>...</td>\n      <td>NaN</td>\n      <td>NaN</td>\n      <td>NaN</td>\n      <td>NaN</td>\n      <td>NaN</td>\n      <td>NaN</td>\n      <td>NaN</td>\n      <td>NaN</td>\n      <td>NaN</td>\n      <td>NaN</td>\n    </tr>\n    <tr>\n      <th>6</th>\n      <td>D1</td>\n      <td>19/08/17</td>\n      <td>Wolfsburg</td>\n      <td>Dortmund</td>\n      <td>0</td>\n      <td>3</td>\n      <td>A</td>\n      <td>0</td>\n      <td>2</td>\n      <td>A</td>\n      <td>...</td>\n      <td>NaN</td>\n      <td>NaN</td>\n      <td>NaN</td>\n      <td>NaN</td>\n      <td>NaN</td>\n      <td>NaN</td>\n      <td>NaN</td>\n      <td>NaN</td>\n      <td>NaN</td>\n      <td>NaN</td>\n    </tr>\n    <tr>\n      <th>7</th>\n      <td>D1</td>\n      <td>20/08/17</td>\n      <td>Freiburg</td>\n      <td>Ein Frankfurt</td>\n      <td>0</td>\n      <td>0</td>\n      <td>D</td>\n      <td>0</td>\n      <td>0</td>\n      <td>D</td>\n      <td>...</td>\n      <td>NaN</td>\n      <td>NaN</td>\n      <td>NaN</td>\n      <td>NaN</td>\n      <td>NaN</td>\n      <td>NaN</td>\n      <td>NaN</td>\n      <td>NaN</td>\n      <td>NaN</td>\n      <td>NaN</td>\n    </tr>\n    <tr>\n      <th>8</th>\n      <td>D1</td>\n      <td>20/08/17</td>\n      <td>M'gladbach</td>\n      <td>FC Koln</td>\n      <td>1</td>\n      <td>0</td>\n      <td>H</td>\n      <td>0</td>\n      <td>0</td>\n      <td>D</td>\n      <td>...</td>\n      <td>NaN</td>\n      <td>NaN</td>\n      <td>NaN</td>\n      <td>NaN</td>\n      <td>NaN</td>\n      <td>NaN</td>\n      <td>NaN</td>\n      <td>NaN</td>\n      <td>NaN</td>\n      <td>NaN</td>\n    </tr>\n    <tr>\n      <th>9</th>\n      <td>D1</td>\n      <td>25/08/17</td>\n      <td>FC Koln</td>\n      <td>Hamburg</td>\n      <td>1</td>\n      <td>3</td>\n      <td>A</td>\n      <td>0</td>\n      <td>2</td>\n      <td>A</td>\n      <td>...</td>\n      <td>NaN</td>\n      <td>NaN</td>\n      <td>NaN</td>\n      <td>NaN</td>\n      <td>NaN</td>\n      <td>NaN</td>\n      <td>NaN</td>\n      <td>NaN</td>\n      <td>NaN</td>\n      <td>NaN</td>\n    </tr>\n  </tbody>\n</table>\n<p>10 rows × 126 columns</p>\n</div>"
     },
     "execution_count": 403,
     "metadata": {},
     "output_type": "execute_result"
    }
   ],
   "source": [
    "# make all odds_df columns lowercase\n",
    "odds_df.columns = odds_df.columns.str.lower()\n",
    "odds_df.head(10)"
   ],
   "metadata": {
    "collapsed": false,
    "ExecuteTime": {
     "end_time": "2023-11-21T12:54:46.530651558Z",
     "start_time": "2023-11-21T12:54:46.496545671Z"
    }
   },
   "id": "71ab7765124d0dc8"
  },
  {
   "cell_type": "code",
   "execution_count": 404,
   "outputs": [
    {
     "data": {
      "text/plain": "  div      date           team       opponent  fthg  ftag ftr  hthg  htag htr  \\\n0  D1  18/08/17  Bayern Munich     Leverkusen     3     1   H     2     0   H   \n1  D1  19/08/17        Hamburg       Augsburg     1     0   H     1     0   H   \n2  D1  19/08/17         Hertha      Stuttgart     2     0   H     0     0   D   \n3  D1  19/08/17     Hoffenheim  Werder Bremen     1     0   H     0     0   D   \n4  D1  19/08/17          Mainz       Hannover     0     1   A     0     0   D   \n5  D1  19/08/17     Schalke 04     RB Leipzig     2     0   H     1     0   H   \n6  D1  19/08/17      Wolfsburg       Dortmund     0     3   A     0     2   A   \n7  D1  20/08/17       Freiburg  Ein Frankfurt     0     0   D     0     0   D   \n8  D1  20/08/17     M'gladbach        FC Koln     1     0   H     0     0   D   \n9  D1  25/08/17        FC Koln        Hamburg     1     3   A     0     2   A   \n\n   ...  avgc<2.5  ahch  b365cahh  b365caha  pcahh  pcaha  maxcahh  maxcaha  \\\n0  ...       NaN   NaN       NaN       NaN    NaN    NaN      NaN      NaN   \n1  ...       NaN   NaN       NaN       NaN    NaN    NaN      NaN      NaN   \n2  ...       NaN   NaN       NaN       NaN    NaN    NaN      NaN      NaN   \n3  ...       NaN   NaN       NaN       NaN    NaN    NaN      NaN      NaN   \n4  ...       NaN   NaN       NaN       NaN    NaN    NaN      NaN      NaN   \n5  ...       NaN   NaN       NaN       NaN    NaN    NaN      NaN      NaN   \n6  ...       NaN   NaN       NaN       NaN    NaN    NaN      NaN      NaN   \n7  ...       NaN   NaN       NaN       NaN    NaN    NaN      NaN      NaN   \n8  ...       NaN   NaN       NaN       NaN    NaN    NaN      NaN      NaN   \n9  ...       NaN   NaN       NaN       NaN    NaN    NaN      NaN      NaN   \n\n   avgcahh  avgcaha  \n0      NaN      NaN  \n1      NaN      NaN  \n2      NaN      NaN  \n3      NaN      NaN  \n4      NaN      NaN  \n5      NaN      NaN  \n6      NaN      NaN  \n7      NaN      NaN  \n8      NaN      NaN  \n9      NaN      NaN  \n\n[10 rows x 126 columns]",
      "text/html": "<div>\n<style scoped>\n    .dataframe tbody tr th:only-of-type {\n        vertical-align: middle;\n    }\n\n    .dataframe tbody tr th {\n        vertical-align: top;\n    }\n\n    .dataframe thead th {\n        text-align: right;\n    }\n</style>\n<table border=\"1\" class=\"dataframe\">\n  <thead>\n    <tr style=\"text-align: right;\">\n      <th></th>\n      <th>div</th>\n      <th>date</th>\n      <th>team</th>\n      <th>opponent</th>\n      <th>fthg</th>\n      <th>ftag</th>\n      <th>ftr</th>\n      <th>hthg</th>\n      <th>htag</th>\n      <th>htr</th>\n      <th>...</th>\n      <th>avgc&lt;2.5</th>\n      <th>ahch</th>\n      <th>b365cahh</th>\n      <th>b365caha</th>\n      <th>pcahh</th>\n      <th>pcaha</th>\n      <th>maxcahh</th>\n      <th>maxcaha</th>\n      <th>avgcahh</th>\n      <th>avgcaha</th>\n    </tr>\n  </thead>\n  <tbody>\n    <tr>\n      <th>0</th>\n      <td>D1</td>\n      <td>18/08/17</td>\n      <td>Bayern Munich</td>\n      <td>Leverkusen</td>\n      <td>3</td>\n      <td>1</td>\n      <td>H</td>\n      <td>2</td>\n      <td>0</td>\n      <td>H</td>\n      <td>...</td>\n      <td>NaN</td>\n      <td>NaN</td>\n      <td>NaN</td>\n      <td>NaN</td>\n      <td>NaN</td>\n      <td>NaN</td>\n      <td>NaN</td>\n      <td>NaN</td>\n      <td>NaN</td>\n      <td>NaN</td>\n    </tr>\n    <tr>\n      <th>1</th>\n      <td>D1</td>\n      <td>19/08/17</td>\n      <td>Hamburg</td>\n      <td>Augsburg</td>\n      <td>1</td>\n      <td>0</td>\n      <td>H</td>\n      <td>1</td>\n      <td>0</td>\n      <td>H</td>\n      <td>...</td>\n      <td>NaN</td>\n      <td>NaN</td>\n      <td>NaN</td>\n      <td>NaN</td>\n      <td>NaN</td>\n      <td>NaN</td>\n      <td>NaN</td>\n      <td>NaN</td>\n      <td>NaN</td>\n      <td>NaN</td>\n    </tr>\n    <tr>\n      <th>2</th>\n      <td>D1</td>\n      <td>19/08/17</td>\n      <td>Hertha</td>\n      <td>Stuttgart</td>\n      <td>2</td>\n      <td>0</td>\n      <td>H</td>\n      <td>0</td>\n      <td>0</td>\n      <td>D</td>\n      <td>...</td>\n      <td>NaN</td>\n      <td>NaN</td>\n      <td>NaN</td>\n      <td>NaN</td>\n      <td>NaN</td>\n      <td>NaN</td>\n      <td>NaN</td>\n      <td>NaN</td>\n      <td>NaN</td>\n      <td>NaN</td>\n    </tr>\n    <tr>\n      <th>3</th>\n      <td>D1</td>\n      <td>19/08/17</td>\n      <td>Hoffenheim</td>\n      <td>Werder Bremen</td>\n      <td>1</td>\n      <td>0</td>\n      <td>H</td>\n      <td>0</td>\n      <td>0</td>\n      <td>D</td>\n      <td>...</td>\n      <td>NaN</td>\n      <td>NaN</td>\n      <td>NaN</td>\n      <td>NaN</td>\n      <td>NaN</td>\n      <td>NaN</td>\n      <td>NaN</td>\n      <td>NaN</td>\n      <td>NaN</td>\n      <td>NaN</td>\n    </tr>\n    <tr>\n      <th>4</th>\n      <td>D1</td>\n      <td>19/08/17</td>\n      <td>Mainz</td>\n      <td>Hannover</td>\n      <td>0</td>\n      <td>1</td>\n      <td>A</td>\n      <td>0</td>\n      <td>0</td>\n      <td>D</td>\n      <td>...</td>\n      <td>NaN</td>\n      <td>NaN</td>\n      <td>NaN</td>\n      <td>NaN</td>\n      <td>NaN</td>\n      <td>NaN</td>\n      <td>NaN</td>\n      <td>NaN</td>\n      <td>NaN</td>\n      <td>NaN</td>\n    </tr>\n    <tr>\n      <th>5</th>\n      <td>D1</td>\n      <td>19/08/17</td>\n      <td>Schalke 04</td>\n      <td>RB Leipzig</td>\n      <td>2</td>\n      <td>0</td>\n      <td>H</td>\n      <td>1</td>\n      <td>0</td>\n      <td>H</td>\n      <td>...</td>\n      <td>NaN</td>\n      <td>NaN</td>\n      <td>NaN</td>\n      <td>NaN</td>\n      <td>NaN</td>\n      <td>NaN</td>\n      <td>NaN</td>\n      <td>NaN</td>\n      <td>NaN</td>\n      <td>NaN</td>\n    </tr>\n    <tr>\n      <th>6</th>\n      <td>D1</td>\n      <td>19/08/17</td>\n      <td>Wolfsburg</td>\n      <td>Dortmund</td>\n      <td>0</td>\n      <td>3</td>\n      <td>A</td>\n      <td>0</td>\n      <td>2</td>\n      <td>A</td>\n      <td>...</td>\n      <td>NaN</td>\n      <td>NaN</td>\n      <td>NaN</td>\n      <td>NaN</td>\n      <td>NaN</td>\n      <td>NaN</td>\n      <td>NaN</td>\n      <td>NaN</td>\n      <td>NaN</td>\n      <td>NaN</td>\n    </tr>\n    <tr>\n      <th>7</th>\n      <td>D1</td>\n      <td>20/08/17</td>\n      <td>Freiburg</td>\n      <td>Ein Frankfurt</td>\n      <td>0</td>\n      <td>0</td>\n      <td>D</td>\n      <td>0</td>\n      <td>0</td>\n      <td>D</td>\n      <td>...</td>\n      <td>NaN</td>\n      <td>NaN</td>\n      <td>NaN</td>\n      <td>NaN</td>\n      <td>NaN</td>\n      <td>NaN</td>\n      <td>NaN</td>\n      <td>NaN</td>\n      <td>NaN</td>\n      <td>NaN</td>\n    </tr>\n    <tr>\n      <th>8</th>\n      <td>D1</td>\n      <td>20/08/17</td>\n      <td>M'gladbach</td>\n      <td>FC Koln</td>\n      <td>1</td>\n      <td>0</td>\n      <td>H</td>\n      <td>0</td>\n      <td>0</td>\n      <td>D</td>\n      <td>...</td>\n      <td>NaN</td>\n      <td>NaN</td>\n      <td>NaN</td>\n      <td>NaN</td>\n      <td>NaN</td>\n      <td>NaN</td>\n      <td>NaN</td>\n      <td>NaN</td>\n      <td>NaN</td>\n      <td>NaN</td>\n    </tr>\n    <tr>\n      <th>9</th>\n      <td>D1</td>\n      <td>25/08/17</td>\n      <td>FC Koln</td>\n      <td>Hamburg</td>\n      <td>1</td>\n      <td>3</td>\n      <td>A</td>\n      <td>0</td>\n      <td>2</td>\n      <td>A</td>\n      <td>...</td>\n      <td>NaN</td>\n      <td>NaN</td>\n      <td>NaN</td>\n      <td>NaN</td>\n      <td>NaN</td>\n      <td>NaN</td>\n      <td>NaN</td>\n      <td>NaN</td>\n      <td>NaN</td>\n      <td>NaN</td>\n    </tr>\n  </tbody>\n</table>\n<p>10 rows × 126 columns</p>\n</div>"
     },
     "execution_count": 404,
     "metadata": {},
     "output_type": "execute_result"
    }
   ],
   "source": [
    "# rename hometeam to 'team' and 'awayteam' to 'opponent'\n",
    "odds_df.rename(columns={'hometeam': 'team', 'awayteam': 'opponent'}, inplace=True)\n",
    "odds_df.head(10)"
   ],
   "metadata": {
    "collapsed": false,
    "ExecuteTime": {
     "end_time": "2023-11-21T12:54:46.556097227Z",
     "start_time": "2023-11-21T12:54:46.506843800Z"
    }
   },
   "id": "8b238249dbf44552"
  },
  {
   "cell_type": "code",
   "execution_count": 405,
   "outputs": [
    {
     "name": "stdout",
     "output_type": "stream",
     "text": [
      "['Eintracht Frankfurt' 'Hertha BSC' 'Monchengladbach' 'Werder Bremen'\n",
      " 'Hannover 96' 'Dusseldorf' 'Hoffenheim' 'Bayer Leverkusen' 'Dortmund'\n",
      " 'Union Berlin' 'Schalke 04' 'Darmstadt 98' 'Stuttgart' 'Mainz 05'\n",
      " 'RB Leipzig' 'Augsburg' 'Wolfsburg' 'Heidenheim' 'Koln' 'Arminia'\n",
      " 'Bayern Munich' 'Hamburger SV' 'Greuther Furth' 'Freiburg' 'Nurnberg'\n",
      " 'Paderborn 07' 'Bochum']\n",
      "['Bayern Munich' 'Hamburg' 'Hertha' 'Hoffenheim' 'Mainz' 'Schalke 04'\n",
      " 'Wolfsburg' 'Freiburg' \"M'gladbach\" 'FC Koln' 'Augsburg' 'Dortmund'\n",
      " 'Ein Frankfurt' 'Leverkusen' 'Stuttgart' 'Werder Bremen' 'Hannover'\n",
      " 'RB Leipzig' 'Fortuna Dusseldorf' 'Nurnberg' 'Union Berlin' 'Paderborn'\n",
      " 'Bielefeld' 'Bochum' 'Greuther Furth' 'Darmstadt' 'Heidenheim']\n",
      "---------------------\n",
      "{'Koln', 'Mainz 05', 'Arminia', 'Hamburger SV', 'Hertha BSC', 'Paderborn 07', 'Monchengladbach', 'Dusseldorf', 'Bayer Leverkusen', 'Darmstadt 98', 'Eintracht Frankfurt', 'Hannover 96'}\n"
     ]
    }
   ],
   "source": [
    "# show df teams and odds_df teams\n",
    "print(df['team'].unique())\n",
    "print(odds_df['team'].unique())\n",
    "print('---------------------')\n",
    "# print diff between the sets\n",
    "print(set(df['team'].unique()) - set(odds_df['team'].unique()))"
   ],
   "metadata": {
    "collapsed": false,
    "ExecuteTime": {
     "end_time": "2023-11-21T12:54:46.566900516Z",
     "start_time": "2023-11-21T12:54:46.549325022Z"
    }
   },
   "id": "f20531d5b7b524ad"
  },
  {
   "cell_type": "code",
   "execution_count": 406,
   "outputs": [
    {
     "name": "stdout",
     "output_type": "stream",
     "text": [
      "set()\n",
      "set()\n",
      "---------------------\n",
      "set()\n",
      "{'Heidenheim', 'Darmstadt 98'}\n",
      "25\n",
      "27\n"
     ]
    }
   ],
   "source": [
    "# replace Augsburg with FC Augsburg using a map\n",
    "map = {\n",
    "    'Ein Frankfurt': 'Eintracht Frankfurt',\n",
    "    \"M'gladbach\": 'Monchengladbach',\n",
    "    'FC Koln': 'Koln',\n",
    "    'Leverkusen': 'Bayer Leverkusen',\n",
    "    'Fortuna Dusseldorf': 'Dusseldorf',\n",
    "    'Hamburg': 'Hamburger SV',\n",
    "    'Darmstadt': 'Darmstadt 98',\n",
    "    'Paderborn': 'Paderborn 07',\n",
    "    'Hannover': 'Hannover 96',\n",
    "    'Hertha': 'Hertha BSC',\n",
    "    'Mainz': 'Mainz 05',\n",
    "    'Bielefeld': 'Arminia',\n",
    "}\n",
    "odds_df['team'] = odds_df['team'].map(map).fillna(odds_df['team'])\n",
    "odds_df['opponent'] = odds_df['opponent'].map(map).fillna(odds_df['opponent'])\n",
    "print(set(df['team'].unique()) - set(odds_df['team'].unique()))\n",
    "print(set(odds_df['team'].unique()) - set(df['team'].unique()))\n",
    "print('---------------------')\n",
    "print(set(df['opponent'].unique()) - set(odds_df['opponent'].unique()))\n",
    "print(set(odds_df['opponent'].unique()) - set(df['opponent'].unique()))\n",
    "\n",
    "print(len(df['opponent'].unique()))\n",
    "print(len(odds_df['opponent'].unique()))\n"
   ],
   "metadata": {
    "collapsed": false,
    "ExecuteTime": {
     "end_time": "2023-11-21T12:54:46.567107106Z",
     "start_time": "2023-11-21T12:54:46.549470292Z"
    }
   },
   "id": "4172eda7956e3770"
  },
  {
   "cell_type": "code",
   "execution_count": 407,
   "outputs": [
    {
     "name": "stderr",
     "output_type": "stream",
     "text": [
      "/tmp/ipykernel_11886/2177293227.py:3: UserWarning: Could not infer format, so each element will be parsed individually, falling back to `dateutil`. To ensure parsing is consistent and as-expected, please specify a format.\n",
      "  odds_df['date'] = pd.to_datetime(odds_df['date'])\n"
     ]
    }
   ],
   "source": [
    "# convert both df's date to datetime\n",
    "df['date'] = pd.to_datetime(df['date'])\n",
    "odds_df['date'] = pd.to_datetime(odds_df['date'])\n",
    "\n",
    "# merge datasets. However the df dataset has two rows per match, one for each team\n",
    "# so we need to merge twice, once for home team and once for away team\n"
   ],
   "metadata": {
    "collapsed": false,
    "ExecuteTime": {
     "end_time": "2023-11-21T12:54:46.652990614Z",
     "start_time": "2023-11-21T12:54:46.549565275Z"
    }
   },
   "id": "36903f6e2148f85f"
  },
  {
   "cell_type": "code",
   "execution_count": 408,
   "outputs": [
    {
     "data": {
      "text/plain": "div                 object\ndate        datetime64[ns]\nteam                object\nopponent            object\nfthg                 int64\n                 ...      \npcaha              float64\nmaxcahh            float64\nmaxcaha            float64\navgcahh            float64\navgcaha            float64\nLength: 126, dtype: object"
     },
     "execution_count": 408,
     "metadata": {},
     "output_type": "execute_result"
    }
   ],
   "source": [
    "odds_df.dtypes"
   ],
   "metadata": {
    "collapsed": false,
    "ExecuteTime": {
     "end_time": "2023-11-21T12:54:46.653233801Z",
     "start_time": "2023-11-21T12:54:46.593327312Z"
    }
   },
   "id": "8b2927e79217fbfe"
  },
  {
   "cell_type": "code",
   "execution_count": 409,
   "outputs": [
    {
     "data": {
      "text/plain": "        date   time        comp         round  day venue result  gf  ga  \\\n0 2020-09-19  15:30  Bundesliga   Matchweek 1  Sat  Home      D   1   1   \n1 2020-09-25  20:30  Bundesliga   Matchweek 2  Fri  Away      W   3   1   \n2 2020-10-03  15:30  Bundesliga   Matchweek 3  Sat  Home      W   2   1   \n3 2020-10-18  15:30  Bundesliga   Matchweek 4  Sun  Away      D   1   1   \n4 2020-10-24  15:30  Bundesliga   Matchweek 5  Sat  Away      L   0   5   \n5 2020-10-31  15:30  Bundesliga   Matchweek 6  Sat  Home      D   1   1   \n6 2020-11-07  15:30  Bundesliga   Matchweek 7  Sat  Away      D   2   2   \n7 2020-11-21  18:30  Bundesliga   Matchweek 8  Sat  Home      D   1   1   \n8 2020-11-28  15:30  Bundesliga   Matchweek 9  Sat  Away      D   3   3   \n9 2020-12-05  15:30  Bundesliga  Matchweek 10  Sat  Home      D   1   1   \n\n        opponent  ...  misc_performance_og  misc_performance_recov  \\\n0        Arminia  ...                  0.0                    63.0   \n1     Hertha BSC  ...                  1.0                    57.0   \n2     Hoffenheim  ...                  0.0                    56.0   \n3           Koln  ...                  0.0                    65.0   \n4  Bayern Munich  ...                  0.0                    66.0   \n5  Werder Bremen  ...                  0.0                    59.0   \n6      Stuttgart  ...                  0.0                    55.0   \n7     RB Leipzig  ...                  0.0                    59.0   \n8   Union Berlin  ...                  0.0                    49.0   \n9       Dortmund  ...                  0.0                    64.0   \n\n   misc_aerial_duels_won  misc_aerial_duels_lost misc_aerial_duels_won% pgf  \\\n0                   17.0                    15.0                   53.1 NaN   \n1                   23.0                    12.0                   65.7 NaN   \n2                   24.0                     9.0                   72.7 NaN   \n3                   36.0                    32.0                   52.9 NaN   \n4                   12.0                     8.0                   60.0 NaN   \n5                   14.0                    19.0                   42.4 NaN   \n6                   23.0                     9.0                   71.9 NaN   \n7                   16.0                    23.0                   41.0 NaN   \n8                   31.0                    19.0                   62.0 NaN   \n9                   15.0                    16.0                   48.4 NaN   \n\n  pga b365h  b365d  b365a  \n0 NaN  1.61    4.2   5.25  \n1 NaN   NaN    NaN    NaN  \n2 NaN   NaN    NaN    NaN  \n3 NaN   NaN    NaN    NaN  \n4 NaN   NaN    NaN    NaN  \n5 NaN  1.72    4.0   4.50  \n6 NaN   NaN    NaN    NaN  \n7 NaN  3.80    4.0   1.85  \n8 NaN   NaN    NaN    NaN  \n9 NaN   NaN    NaN    NaN  \n\n[10 rows x 162 columns]",
      "text/html": "<div>\n<style scoped>\n    .dataframe tbody tr th:only-of-type {\n        vertical-align: middle;\n    }\n\n    .dataframe tbody tr th {\n        vertical-align: top;\n    }\n\n    .dataframe thead th {\n        text-align: right;\n    }\n</style>\n<table border=\"1\" class=\"dataframe\">\n  <thead>\n    <tr style=\"text-align: right;\">\n      <th></th>\n      <th>date</th>\n      <th>time</th>\n      <th>comp</th>\n      <th>round</th>\n      <th>day</th>\n      <th>venue</th>\n      <th>result</th>\n      <th>gf</th>\n      <th>ga</th>\n      <th>opponent</th>\n      <th>...</th>\n      <th>misc_performance_og</th>\n      <th>misc_performance_recov</th>\n      <th>misc_aerial_duels_won</th>\n      <th>misc_aerial_duels_lost</th>\n      <th>misc_aerial_duels_won%</th>\n      <th>pgf</th>\n      <th>pga</th>\n      <th>b365h</th>\n      <th>b365d</th>\n      <th>b365a</th>\n    </tr>\n  </thead>\n  <tbody>\n    <tr>\n      <th>0</th>\n      <td>2020-09-19</td>\n      <td>15:30</td>\n      <td>Bundesliga</td>\n      <td>Matchweek 1</td>\n      <td>Sat</td>\n      <td>Home</td>\n      <td>D</td>\n      <td>1</td>\n      <td>1</td>\n      <td>Arminia</td>\n      <td>...</td>\n      <td>0.0</td>\n      <td>63.0</td>\n      <td>17.0</td>\n      <td>15.0</td>\n      <td>53.1</td>\n      <td>NaN</td>\n      <td>NaN</td>\n      <td>1.61</td>\n      <td>4.2</td>\n      <td>5.25</td>\n    </tr>\n    <tr>\n      <th>1</th>\n      <td>2020-09-25</td>\n      <td>20:30</td>\n      <td>Bundesliga</td>\n      <td>Matchweek 2</td>\n      <td>Fri</td>\n      <td>Away</td>\n      <td>W</td>\n      <td>3</td>\n      <td>1</td>\n      <td>Hertha BSC</td>\n      <td>...</td>\n      <td>1.0</td>\n      <td>57.0</td>\n      <td>23.0</td>\n      <td>12.0</td>\n      <td>65.7</td>\n      <td>NaN</td>\n      <td>NaN</td>\n      <td>NaN</td>\n      <td>NaN</td>\n      <td>NaN</td>\n    </tr>\n    <tr>\n      <th>2</th>\n      <td>2020-10-03</td>\n      <td>15:30</td>\n      <td>Bundesliga</td>\n      <td>Matchweek 3</td>\n      <td>Sat</td>\n      <td>Home</td>\n      <td>W</td>\n      <td>2</td>\n      <td>1</td>\n      <td>Hoffenheim</td>\n      <td>...</td>\n      <td>0.0</td>\n      <td>56.0</td>\n      <td>24.0</td>\n      <td>9.0</td>\n      <td>72.7</td>\n      <td>NaN</td>\n      <td>NaN</td>\n      <td>NaN</td>\n      <td>NaN</td>\n      <td>NaN</td>\n    </tr>\n    <tr>\n      <th>3</th>\n      <td>2020-10-18</td>\n      <td>15:30</td>\n      <td>Bundesliga</td>\n      <td>Matchweek 4</td>\n      <td>Sun</td>\n      <td>Away</td>\n      <td>D</td>\n      <td>1</td>\n      <td>1</td>\n      <td>Koln</td>\n      <td>...</td>\n      <td>0.0</td>\n      <td>65.0</td>\n      <td>36.0</td>\n      <td>32.0</td>\n      <td>52.9</td>\n      <td>NaN</td>\n      <td>NaN</td>\n      <td>NaN</td>\n      <td>NaN</td>\n      <td>NaN</td>\n    </tr>\n    <tr>\n      <th>4</th>\n      <td>2020-10-24</td>\n      <td>15:30</td>\n      <td>Bundesliga</td>\n      <td>Matchweek 5</td>\n      <td>Sat</td>\n      <td>Away</td>\n      <td>L</td>\n      <td>0</td>\n      <td>5</td>\n      <td>Bayern Munich</td>\n      <td>...</td>\n      <td>0.0</td>\n      <td>66.0</td>\n      <td>12.0</td>\n      <td>8.0</td>\n      <td>60.0</td>\n      <td>NaN</td>\n      <td>NaN</td>\n      <td>NaN</td>\n      <td>NaN</td>\n      <td>NaN</td>\n    </tr>\n    <tr>\n      <th>5</th>\n      <td>2020-10-31</td>\n      <td>15:30</td>\n      <td>Bundesliga</td>\n      <td>Matchweek 6</td>\n      <td>Sat</td>\n      <td>Home</td>\n      <td>D</td>\n      <td>1</td>\n      <td>1</td>\n      <td>Werder Bremen</td>\n      <td>...</td>\n      <td>0.0</td>\n      <td>59.0</td>\n      <td>14.0</td>\n      <td>19.0</td>\n      <td>42.4</td>\n      <td>NaN</td>\n      <td>NaN</td>\n      <td>1.72</td>\n      <td>4.0</td>\n      <td>4.50</td>\n    </tr>\n    <tr>\n      <th>6</th>\n      <td>2020-11-07</td>\n      <td>15:30</td>\n      <td>Bundesliga</td>\n      <td>Matchweek 7</td>\n      <td>Sat</td>\n      <td>Away</td>\n      <td>D</td>\n      <td>2</td>\n      <td>2</td>\n      <td>Stuttgart</td>\n      <td>...</td>\n      <td>0.0</td>\n      <td>55.0</td>\n      <td>23.0</td>\n      <td>9.0</td>\n      <td>71.9</td>\n      <td>NaN</td>\n      <td>NaN</td>\n      <td>NaN</td>\n      <td>NaN</td>\n      <td>NaN</td>\n    </tr>\n    <tr>\n      <th>7</th>\n      <td>2020-11-21</td>\n      <td>18:30</td>\n      <td>Bundesliga</td>\n      <td>Matchweek 8</td>\n      <td>Sat</td>\n      <td>Home</td>\n      <td>D</td>\n      <td>1</td>\n      <td>1</td>\n      <td>RB Leipzig</td>\n      <td>...</td>\n      <td>0.0</td>\n      <td>59.0</td>\n      <td>16.0</td>\n      <td>23.0</td>\n      <td>41.0</td>\n      <td>NaN</td>\n      <td>NaN</td>\n      <td>3.80</td>\n      <td>4.0</td>\n      <td>1.85</td>\n    </tr>\n    <tr>\n      <th>8</th>\n      <td>2020-11-28</td>\n      <td>15:30</td>\n      <td>Bundesliga</td>\n      <td>Matchweek 9</td>\n      <td>Sat</td>\n      <td>Away</td>\n      <td>D</td>\n      <td>3</td>\n      <td>3</td>\n      <td>Union Berlin</td>\n      <td>...</td>\n      <td>0.0</td>\n      <td>49.0</td>\n      <td>31.0</td>\n      <td>19.0</td>\n      <td>62.0</td>\n      <td>NaN</td>\n      <td>NaN</td>\n      <td>NaN</td>\n      <td>NaN</td>\n      <td>NaN</td>\n    </tr>\n    <tr>\n      <th>9</th>\n      <td>2020-12-05</td>\n      <td>15:30</td>\n      <td>Bundesliga</td>\n      <td>Matchweek 10</td>\n      <td>Sat</td>\n      <td>Home</td>\n      <td>D</td>\n      <td>1</td>\n      <td>1</td>\n      <td>Dortmund</td>\n      <td>...</td>\n      <td>0.0</td>\n      <td>64.0</td>\n      <td>15.0</td>\n      <td>16.0</td>\n      <td>48.4</td>\n      <td>NaN</td>\n      <td>NaN</td>\n      <td>NaN</td>\n      <td>NaN</td>\n      <td>NaN</td>\n    </tr>\n  </tbody>\n</table>\n<p>10 rows × 162 columns</p>\n</div>"
     },
     "execution_count": 409,
     "metadata": {},
     "output_type": "execute_result"
    }
   ],
   "source": [
    "# take only 'b365*' team and date cols from odds_df\n",
    "odds_df = odds_df[['b365h', 'b365d', 'b365a', 'date', 'team', 'opponent']]\n",
    "full = pd.merge(df, odds_df, on=['team', 'date', 'opponent'], how='left')\n",
    "full.head(10)\n",
    "\n",
    "# full still has na values in b365h, b365d, b365a cols because it has two rows per match\n",
    "# one for home team and one for away team\n"
   ],
   "metadata": {
    "collapsed": false,
    "ExecuteTime": {
     "end_time": "2023-11-21T12:54:46.653709977Z",
     "start_time": "2023-11-21T12:54:46.593451420Z"
    }
   },
   "id": "6e7e48edc1f76810"
  },
  {
   "cell_type": "code",
   "execution_count": 410,
   "outputs": [
    {
     "data": {
      "text/plain": "        date   time        comp         round  day venue result  gf  ga  \\\n0 2020-09-19  15:30  Bundesliga   Matchweek 1  Sat  Home      D   1   1   \n1 2020-09-25  20:30  Bundesliga   Matchweek 2  Fri  Away      W   3   1   \n2 2020-10-03  15:30  Bundesliga   Matchweek 3  Sat  Home      W   2   1   \n3 2020-10-18  15:30  Bundesliga   Matchweek 4  Sun  Away      D   1   1   \n4 2020-10-24  15:30  Bundesliga   Matchweek 5  Sat  Away      L   0   5   \n5 2020-10-31  15:30  Bundesliga   Matchweek 6  Sat  Home      D   1   1   \n6 2020-11-07  15:30  Bundesliga   Matchweek 7  Sat  Away      D   2   2   \n7 2020-11-21  18:30  Bundesliga   Matchweek 8  Sat  Home      D   1   1   \n8 2020-11-28  15:30  Bundesliga   Matchweek 9  Sat  Away      D   3   3   \n9 2020-12-05  15:30  Bundesliga  Matchweek 10  Sat  Home      D   1   1   \n\n      opponent_x  ...  misc_aerial_duels_won  misc_aerial_duels_lost  \\\n0        Arminia  ...                   17.0                    15.0   \n1     Hertha BSC  ...                   23.0                    12.0   \n2     Hoffenheim  ...                   24.0                     9.0   \n3           Koln  ...                   36.0                    32.0   \n4  Bayern Munich  ...                   12.0                     8.0   \n5  Werder Bremen  ...                   14.0                    19.0   \n6      Stuttgart  ...                   23.0                     9.0   \n7     RB Leipzig  ...                   16.0                    23.0   \n8   Union Berlin  ...                   31.0                    19.0   \n9       Dortmund  ...                   15.0                    16.0   \n\n   misc_aerial_duels_won%  pgf pga b365h b365d b365a         team_y  \\\n0                    53.1  NaN NaN   NaN   NaN   NaN            NaN   \n1                    65.7  NaN NaN  2.25  3.75   2.9     Hertha BSC   \n2                    72.7  NaN NaN   NaN   NaN   NaN            NaN   \n3                    52.9  NaN NaN  3.20  3.80   2.1           Koln   \n4                    60.0  NaN NaN  1.16  7.50   9.0  Bayern Munich   \n5                    42.4  NaN NaN   NaN   NaN   NaN            NaN   \n6                    71.9  NaN NaN   NaN   NaN   NaN            NaN   \n7                    41.0  NaN NaN   NaN   NaN   NaN            NaN   \n8                    62.0  NaN NaN  2.50  3.40   2.7   Union Berlin   \n9                    48.4  NaN NaN   NaN   NaN   NaN            NaN   \n\n            opponent_y  \n0                  NaN  \n1  Eintracht Frankfurt  \n2                  NaN  \n3  Eintracht Frankfurt  \n4  Eintracht Frankfurt  \n5                  NaN  \n6                  NaN  \n7                  NaN  \n8  Eintracht Frankfurt  \n9                  NaN  \n\n[10 rows x 164 columns]",
      "text/html": "<div>\n<style scoped>\n    .dataframe tbody tr th:only-of-type {\n        vertical-align: middle;\n    }\n\n    .dataframe tbody tr th {\n        vertical-align: top;\n    }\n\n    .dataframe thead th {\n        text-align: right;\n    }\n</style>\n<table border=\"1\" class=\"dataframe\">\n  <thead>\n    <tr style=\"text-align: right;\">\n      <th></th>\n      <th>date</th>\n      <th>time</th>\n      <th>comp</th>\n      <th>round</th>\n      <th>day</th>\n      <th>venue</th>\n      <th>result</th>\n      <th>gf</th>\n      <th>ga</th>\n      <th>opponent_x</th>\n      <th>...</th>\n      <th>misc_aerial_duels_won</th>\n      <th>misc_aerial_duels_lost</th>\n      <th>misc_aerial_duels_won%</th>\n      <th>pgf</th>\n      <th>pga</th>\n      <th>b365h</th>\n      <th>b365d</th>\n      <th>b365a</th>\n      <th>team_y</th>\n      <th>opponent_y</th>\n    </tr>\n  </thead>\n  <tbody>\n    <tr>\n      <th>0</th>\n      <td>2020-09-19</td>\n      <td>15:30</td>\n      <td>Bundesliga</td>\n      <td>Matchweek 1</td>\n      <td>Sat</td>\n      <td>Home</td>\n      <td>D</td>\n      <td>1</td>\n      <td>1</td>\n      <td>Arminia</td>\n      <td>...</td>\n      <td>17.0</td>\n      <td>15.0</td>\n      <td>53.1</td>\n      <td>NaN</td>\n      <td>NaN</td>\n      <td>NaN</td>\n      <td>NaN</td>\n      <td>NaN</td>\n      <td>NaN</td>\n      <td>NaN</td>\n    </tr>\n    <tr>\n      <th>1</th>\n      <td>2020-09-25</td>\n      <td>20:30</td>\n      <td>Bundesliga</td>\n      <td>Matchweek 2</td>\n      <td>Fri</td>\n      <td>Away</td>\n      <td>W</td>\n      <td>3</td>\n      <td>1</td>\n      <td>Hertha BSC</td>\n      <td>...</td>\n      <td>23.0</td>\n      <td>12.0</td>\n      <td>65.7</td>\n      <td>NaN</td>\n      <td>NaN</td>\n      <td>2.25</td>\n      <td>3.75</td>\n      <td>2.9</td>\n      <td>Hertha BSC</td>\n      <td>Eintracht Frankfurt</td>\n    </tr>\n    <tr>\n      <th>2</th>\n      <td>2020-10-03</td>\n      <td>15:30</td>\n      <td>Bundesliga</td>\n      <td>Matchweek 3</td>\n      <td>Sat</td>\n      <td>Home</td>\n      <td>W</td>\n      <td>2</td>\n      <td>1</td>\n      <td>Hoffenheim</td>\n      <td>...</td>\n      <td>24.0</td>\n      <td>9.0</td>\n      <td>72.7</td>\n      <td>NaN</td>\n      <td>NaN</td>\n      <td>NaN</td>\n      <td>NaN</td>\n      <td>NaN</td>\n      <td>NaN</td>\n      <td>NaN</td>\n    </tr>\n    <tr>\n      <th>3</th>\n      <td>2020-10-18</td>\n      <td>15:30</td>\n      <td>Bundesliga</td>\n      <td>Matchweek 4</td>\n      <td>Sun</td>\n      <td>Away</td>\n      <td>D</td>\n      <td>1</td>\n      <td>1</td>\n      <td>Koln</td>\n      <td>...</td>\n      <td>36.0</td>\n      <td>32.0</td>\n      <td>52.9</td>\n      <td>NaN</td>\n      <td>NaN</td>\n      <td>3.20</td>\n      <td>3.80</td>\n      <td>2.1</td>\n      <td>Koln</td>\n      <td>Eintracht Frankfurt</td>\n    </tr>\n    <tr>\n      <th>4</th>\n      <td>2020-10-24</td>\n      <td>15:30</td>\n      <td>Bundesliga</td>\n      <td>Matchweek 5</td>\n      <td>Sat</td>\n      <td>Away</td>\n      <td>L</td>\n      <td>0</td>\n      <td>5</td>\n      <td>Bayern Munich</td>\n      <td>...</td>\n      <td>12.0</td>\n      <td>8.0</td>\n      <td>60.0</td>\n      <td>NaN</td>\n      <td>NaN</td>\n      <td>1.16</td>\n      <td>7.50</td>\n      <td>9.0</td>\n      <td>Bayern Munich</td>\n      <td>Eintracht Frankfurt</td>\n    </tr>\n    <tr>\n      <th>5</th>\n      <td>2020-10-31</td>\n      <td>15:30</td>\n      <td>Bundesliga</td>\n      <td>Matchweek 6</td>\n      <td>Sat</td>\n      <td>Home</td>\n      <td>D</td>\n      <td>1</td>\n      <td>1</td>\n      <td>Werder Bremen</td>\n      <td>...</td>\n      <td>14.0</td>\n      <td>19.0</td>\n      <td>42.4</td>\n      <td>NaN</td>\n      <td>NaN</td>\n      <td>NaN</td>\n      <td>NaN</td>\n      <td>NaN</td>\n      <td>NaN</td>\n      <td>NaN</td>\n    </tr>\n    <tr>\n      <th>6</th>\n      <td>2020-11-07</td>\n      <td>15:30</td>\n      <td>Bundesliga</td>\n      <td>Matchweek 7</td>\n      <td>Sat</td>\n      <td>Away</td>\n      <td>D</td>\n      <td>2</td>\n      <td>2</td>\n      <td>Stuttgart</td>\n      <td>...</td>\n      <td>23.0</td>\n      <td>9.0</td>\n      <td>71.9</td>\n      <td>NaN</td>\n      <td>NaN</td>\n      <td>NaN</td>\n      <td>NaN</td>\n      <td>NaN</td>\n      <td>NaN</td>\n      <td>NaN</td>\n    </tr>\n    <tr>\n      <th>7</th>\n      <td>2020-11-21</td>\n      <td>18:30</td>\n      <td>Bundesliga</td>\n      <td>Matchweek 8</td>\n      <td>Sat</td>\n      <td>Home</td>\n      <td>D</td>\n      <td>1</td>\n      <td>1</td>\n      <td>RB Leipzig</td>\n      <td>...</td>\n      <td>16.0</td>\n      <td>23.0</td>\n      <td>41.0</td>\n      <td>NaN</td>\n      <td>NaN</td>\n      <td>NaN</td>\n      <td>NaN</td>\n      <td>NaN</td>\n      <td>NaN</td>\n      <td>NaN</td>\n    </tr>\n    <tr>\n      <th>8</th>\n      <td>2020-11-28</td>\n      <td>15:30</td>\n      <td>Bundesliga</td>\n      <td>Matchweek 9</td>\n      <td>Sat</td>\n      <td>Away</td>\n      <td>D</td>\n      <td>3</td>\n      <td>3</td>\n      <td>Union Berlin</td>\n      <td>...</td>\n      <td>31.0</td>\n      <td>19.0</td>\n      <td>62.0</td>\n      <td>NaN</td>\n      <td>NaN</td>\n      <td>2.50</td>\n      <td>3.40</td>\n      <td>2.7</td>\n      <td>Union Berlin</td>\n      <td>Eintracht Frankfurt</td>\n    </tr>\n    <tr>\n      <th>9</th>\n      <td>2020-12-05</td>\n      <td>15:30</td>\n      <td>Bundesliga</td>\n      <td>Matchweek 10</td>\n      <td>Sat</td>\n      <td>Home</td>\n      <td>D</td>\n      <td>1</td>\n      <td>1</td>\n      <td>Dortmund</td>\n      <td>...</td>\n      <td>15.0</td>\n      <td>16.0</td>\n      <td>48.4</td>\n      <td>NaN</td>\n      <td>NaN</td>\n      <td>NaN</td>\n      <td>NaN</td>\n      <td>NaN</td>\n      <td>NaN</td>\n      <td>NaN</td>\n    </tr>\n  </tbody>\n</table>\n<p>10 rows × 164 columns</p>\n</div>"
     },
     "execution_count": 410,
     "metadata": {},
     "output_type": "execute_result"
    }
   ],
   "source": [
    "# merge full with odds_df again, this time where full.team = odds_df.opponent\n",
    "full_2 = pd.merge(df, odds_df, left_on=['opponent', 'date'], right_on=['team', 'date'], how='left')\n",
    "full_2.head(10)"
   ],
   "metadata": {
    "collapsed": false,
    "ExecuteTime": {
     "end_time": "2023-11-21T12:54:46.686763080Z",
     "start_time": "2023-11-21T12:54:46.603859129Z"
    }
   },
   "id": "36ca0a7a07f21ffc"
  },
  {
   "cell_type": "code",
   "execution_count": 413,
   "outputs": [
    {
     "name": "stdout",
     "output_type": "stream",
     "text": [
      "1158\n"
     ]
    }
   ],
   "source": [
    "# fill full's b*h values with full2's b*h values\n",
    "full['b365h'] = full['b365h'].fillna(full_2['b365h'])\n",
    "full['b365a'] = full['b365a'].fillna(full_2['b365a'])\n",
    "full['b365d'] = full['b365d'].fillna(full_2['b365d'])\n",
    "\n",
    "# show amount of rows where b365h is null\n",
    "print(len(full[full['b365h'].isnull()]))"
   ],
   "metadata": {
    "collapsed": false,
    "ExecuteTime": {
     "end_time": "2023-11-21T14:48:34.305158316Z",
     "start_time": "2023-11-21T14:48:34.276408296Z"
    }
   },
   "id": "d48e6bf0002558e1"
  },
  {
   "cell_type": "code",
   "execution_count": 414,
   "outputs": [
    {
     "data": {
      "text/plain": "           date   time        comp         round  day venue result  gf  ga  \\\n2    2020-10-03  15:30  Bundesliga   Matchweek 3  Sat  Home      W   2   1   \n6    2020-11-07  15:30  Bundesliga   Matchweek 7  Sat  Away      D   2   2   \n9    2020-12-05  15:30  Bundesliga  Matchweek 10  Sat  Home      D   1   1   \n10   2020-12-11  20:30  Bundesliga  Matchweek 11  Fri  Away      L   1   2   \n13   2021-01-02  15:30  Bundesliga  Matchweek 14  Sat  Home      W   2   1   \n...         ...    ...         ...           ...  ...   ...    ...  ..  ..   \n3667 2022-02-11  20:30  Bundesliga  Matchweek 22  Fri  Away      L   1   3   \n3670 2022-03-06  17:30  Bundesliga  Matchweek 25  Sun  Home      L   0   1   \n3673 2022-04-01  20:30  Bundesliga  Matchweek 28  Fri  Away      L   0   1   \n3674 2022-04-09  15:30  Bundesliga  Matchweek 29  Sat  Home      W   3   2   \n3678 2022-05-07  15:30  Bundesliga  Matchweek 33  Sat  Home      L   0   1   \n\n              opponent  ...  misc_performance_og  misc_performance_recov  \\\n2           Hoffenheim  ...                  0.0                    56.0   \n6            Stuttgart  ...                  0.0                    55.0   \n9             Dortmund  ...                  0.0                    64.0   \n10           Wolfsburg  ...                  0.0                    58.0   \n13    Bayer Leverkusen  ...                  0.0                    64.0   \n...                ...  ...                  ...                     ...   \n3667        RB Leipzig  ...                  0.0                    70.0   \n3670        Hoffenheim  ...                  0.0                    53.0   \n3673      Union Berlin  ...                  0.0                    68.0   \n3674          Mainz 05  ...                  0.0                    71.0   \n3678         Wolfsburg  ...                  0.0                    57.0   \n\n      misc_aerial_duels_won  misc_aerial_duels_lost misc_aerial_duels_won%  \\\n2                      24.0                     9.0                   72.7   \n6                      23.0                     9.0                   71.9   \n9                      15.0                    16.0                   48.4   \n10                     17.0                    22.0                   43.6   \n13                     20.0                    16.0                   55.6   \n...                     ...                     ...                    ...   \n3667                   15.0                     9.0                   62.5   \n3670                   19.0                    17.0                   52.8   \n3673                   17.0                    18.0                   48.6   \n3674                   24.0                    23.0                   51.1   \n3678                   18.0                    25.0                   41.9   \n\n     pgf pga b365h  b365d  b365a  \n2    NaN NaN   NaN    NaN    NaN  \n6    NaN NaN   NaN    NaN    NaN  \n9    NaN NaN   NaN    NaN    NaN  \n10   NaN NaN   NaN    NaN    NaN  \n13   NaN NaN   NaN    NaN    NaN  \n...   ..  ..   ...    ...    ...  \n3667 NaN NaN   NaN    NaN    NaN  \n3670 NaN NaN   NaN    NaN    NaN  \n3673 NaN NaN   NaN    NaN    NaN  \n3674 NaN NaN   NaN    NaN    NaN  \n3678 NaN NaN   NaN    NaN    NaN  \n\n[1158 rows x 162 columns]",
      "text/html": "<div>\n<style scoped>\n    .dataframe tbody tr th:only-of-type {\n        vertical-align: middle;\n    }\n\n    .dataframe tbody tr th {\n        vertical-align: top;\n    }\n\n    .dataframe thead th {\n        text-align: right;\n    }\n</style>\n<table border=\"1\" class=\"dataframe\">\n  <thead>\n    <tr style=\"text-align: right;\">\n      <th></th>\n      <th>date</th>\n      <th>time</th>\n      <th>comp</th>\n      <th>round</th>\n      <th>day</th>\n      <th>venue</th>\n      <th>result</th>\n      <th>gf</th>\n      <th>ga</th>\n      <th>opponent</th>\n      <th>...</th>\n      <th>misc_performance_og</th>\n      <th>misc_performance_recov</th>\n      <th>misc_aerial_duels_won</th>\n      <th>misc_aerial_duels_lost</th>\n      <th>misc_aerial_duels_won%</th>\n      <th>pgf</th>\n      <th>pga</th>\n      <th>b365h</th>\n      <th>b365d</th>\n      <th>b365a</th>\n    </tr>\n  </thead>\n  <tbody>\n    <tr>\n      <th>2</th>\n      <td>2020-10-03</td>\n      <td>15:30</td>\n      <td>Bundesliga</td>\n      <td>Matchweek 3</td>\n      <td>Sat</td>\n      <td>Home</td>\n      <td>W</td>\n      <td>2</td>\n      <td>1</td>\n      <td>Hoffenheim</td>\n      <td>...</td>\n      <td>0.0</td>\n      <td>56.0</td>\n      <td>24.0</td>\n      <td>9.0</td>\n      <td>72.7</td>\n      <td>NaN</td>\n      <td>NaN</td>\n      <td>NaN</td>\n      <td>NaN</td>\n      <td>NaN</td>\n    </tr>\n    <tr>\n      <th>6</th>\n      <td>2020-11-07</td>\n      <td>15:30</td>\n      <td>Bundesliga</td>\n      <td>Matchweek 7</td>\n      <td>Sat</td>\n      <td>Away</td>\n      <td>D</td>\n      <td>2</td>\n      <td>2</td>\n      <td>Stuttgart</td>\n      <td>...</td>\n      <td>0.0</td>\n      <td>55.0</td>\n      <td>23.0</td>\n      <td>9.0</td>\n      <td>71.9</td>\n      <td>NaN</td>\n      <td>NaN</td>\n      <td>NaN</td>\n      <td>NaN</td>\n      <td>NaN</td>\n    </tr>\n    <tr>\n      <th>9</th>\n      <td>2020-12-05</td>\n      <td>15:30</td>\n      <td>Bundesliga</td>\n      <td>Matchweek 10</td>\n      <td>Sat</td>\n      <td>Home</td>\n      <td>D</td>\n      <td>1</td>\n      <td>1</td>\n      <td>Dortmund</td>\n      <td>...</td>\n      <td>0.0</td>\n      <td>64.0</td>\n      <td>15.0</td>\n      <td>16.0</td>\n      <td>48.4</td>\n      <td>NaN</td>\n      <td>NaN</td>\n      <td>NaN</td>\n      <td>NaN</td>\n      <td>NaN</td>\n    </tr>\n    <tr>\n      <th>10</th>\n      <td>2020-12-11</td>\n      <td>20:30</td>\n      <td>Bundesliga</td>\n      <td>Matchweek 11</td>\n      <td>Fri</td>\n      <td>Away</td>\n      <td>L</td>\n      <td>1</td>\n      <td>2</td>\n      <td>Wolfsburg</td>\n      <td>...</td>\n      <td>0.0</td>\n      <td>58.0</td>\n      <td>17.0</td>\n      <td>22.0</td>\n      <td>43.6</td>\n      <td>NaN</td>\n      <td>NaN</td>\n      <td>NaN</td>\n      <td>NaN</td>\n      <td>NaN</td>\n    </tr>\n    <tr>\n      <th>13</th>\n      <td>2021-01-02</td>\n      <td>15:30</td>\n      <td>Bundesliga</td>\n      <td>Matchweek 14</td>\n      <td>Sat</td>\n      <td>Home</td>\n      <td>W</td>\n      <td>2</td>\n      <td>1</td>\n      <td>Bayer Leverkusen</td>\n      <td>...</td>\n      <td>0.0</td>\n      <td>64.0</td>\n      <td>20.0</td>\n      <td>16.0</td>\n      <td>55.6</td>\n      <td>NaN</td>\n      <td>NaN</td>\n      <td>NaN</td>\n      <td>NaN</td>\n      <td>NaN</td>\n    </tr>\n    <tr>\n      <th>...</th>\n      <td>...</td>\n      <td>...</td>\n      <td>...</td>\n      <td>...</td>\n      <td>...</td>\n      <td>...</td>\n      <td>...</td>\n      <td>...</td>\n      <td>...</td>\n      <td>...</td>\n      <td>...</td>\n      <td>...</td>\n      <td>...</td>\n      <td>...</td>\n      <td>...</td>\n      <td>...</td>\n      <td>...</td>\n      <td>...</td>\n      <td>...</td>\n      <td>...</td>\n      <td>...</td>\n    </tr>\n    <tr>\n      <th>3667</th>\n      <td>2022-02-11</td>\n      <td>20:30</td>\n      <td>Bundesliga</td>\n      <td>Matchweek 22</td>\n      <td>Fri</td>\n      <td>Away</td>\n      <td>L</td>\n      <td>1</td>\n      <td>3</td>\n      <td>RB Leipzig</td>\n      <td>...</td>\n      <td>0.0</td>\n      <td>70.0</td>\n      <td>15.0</td>\n      <td>9.0</td>\n      <td>62.5</td>\n      <td>NaN</td>\n      <td>NaN</td>\n      <td>NaN</td>\n      <td>NaN</td>\n      <td>NaN</td>\n    </tr>\n    <tr>\n      <th>3670</th>\n      <td>2022-03-06</td>\n      <td>17:30</td>\n      <td>Bundesliga</td>\n      <td>Matchweek 25</td>\n      <td>Sun</td>\n      <td>Home</td>\n      <td>L</td>\n      <td>0</td>\n      <td>1</td>\n      <td>Hoffenheim</td>\n      <td>...</td>\n      <td>0.0</td>\n      <td>53.0</td>\n      <td>19.0</td>\n      <td>17.0</td>\n      <td>52.8</td>\n      <td>NaN</td>\n      <td>NaN</td>\n      <td>NaN</td>\n      <td>NaN</td>\n      <td>NaN</td>\n    </tr>\n    <tr>\n      <th>3673</th>\n      <td>2022-04-01</td>\n      <td>20:30</td>\n      <td>Bundesliga</td>\n      <td>Matchweek 28</td>\n      <td>Fri</td>\n      <td>Away</td>\n      <td>L</td>\n      <td>0</td>\n      <td>1</td>\n      <td>Union Berlin</td>\n      <td>...</td>\n      <td>0.0</td>\n      <td>68.0</td>\n      <td>17.0</td>\n      <td>18.0</td>\n      <td>48.6</td>\n      <td>NaN</td>\n      <td>NaN</td>\n      <td>NaN</td>\n      <td>NaN</td>\n      <td>NaN</td>\n    </tr>\n    <tr>\n      <th>3674</th>\n      <td>2022-04-09</td>\n      <td>15:30</td>\n      <td>Bundesliga</td>\n      <td>Matchweek 29</td>\n      <td>Sat</td>\n      <td>Home</td>\n      <td>W</td>\n      <td>3</td>\n      <td>2</td>\n      <td>Mainz 05</td>\n      <td>...</td>\n      <td>0.0</td>\n      <td>71.0</td>\n      <td>24.0</td>\n      <td>23.0</td>\n      <td>51.1</td>\n      <td>NaN</td>\n      <td>NaN</td>\n      <td>NaN</td>\n      <td>NaN</td>\n      <td>NaN</td>\n    </tr>\n    <tr>\n      <th>3678</th>\n      <td>2022-05-07</td>\n      <td>15:30</td>\n      <td>Bundesliga</td>\n      <td>Matchweek 33</td>\n      <td>Sat</td>\n      <td>Home</td>\n      <td>L</td>\n      <td>0</td>\n      <td>1</td>\n      <td>Wolfsburg</td>\n      <td>...</td>\n      <td>0.0</td>\n      <td>57.0</td>\n      <td>18.0</td>\n      <td>25.0</td>\n      <td>41.9</td>\n      <td>NaN</td>\n      <td>NaN</td>\n      <td>NaN</td>\n      <td>NaN</td>\n      <td>NaN</td>\n    </tr>\n  </tbody>\n</table>\n<p>1158 rows × 162 columns</p>\n</div>"
     },
     "execution_count": 414,
     "metadata": {},
     "output_type": "execute_result"
    }
   ],
   "source": [
    "full[full['b365h'].isnull()]"
   ],
   "metadata": {
    "collapsed": false,
    "ExecuteTime": {
     "end_time": "2023-11-21T14:48:39.916368789Z",
     "start_time": "2023-11-21T14:48:39.886717471Z"
    }
   },
   "id": "7398129b97c93078"
  }
 ],
 "metadata": {
  "kernelspec": {
   "display_name": "Python 3",
   "language": "python",
   "name": "python3"
  },
  "language_info": {
   "codemirror_mode": {
    "name": "ipython",
    "version": 2
   },
   "file_extension": ".py",
   "mimetype": "text/x-python",
   "name": "python",
   "nbconvert_exporter": "python",
   "pygments_lexer": "ipython2",
   "version": "2.7.6"
  }
 },
 "nbformat": 4,
 "nbformat_minor": 5
}
