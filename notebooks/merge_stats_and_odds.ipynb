{
 "cells": [
  {
   "cell_type": "code",
   "execution_count": 101,
   "outputs": [],
   "source": [
    "from pathlib import Path\n",
    "from settings import INTERIM_DATA_DIR\n",
    "import pandas as pd\n",
    "\n",
    "matches_df = pd.read_csv(Path(INTERIM_DATA_DIR, 'bundesliga_matches.csv'))\n",
    "odds_df = pd.read_csv(Path(INTERIM_DATA_DIR, 'bundesliga_odds.csv'))"
   ],
   "metadata": {
    "collapsed": false,
    "ExecuteTime": {
     "end_time": "2023-11-23T17:26:36.139646749Z",
     "start_time": "2023-11-23T17:26:36.078604790Z"
    }
   },
   "id": "a34a5ba685f10e8a"
  },
  {
   "cell_type": "code",
   "execution_count": 102,
   "outputs": [
    {
     "data": {
      "text/plain": "         date   time        comp        round  day venue result  gf  ga  \\\n0  2018-08-25  15:30  Bundesliga  Matchweek 1  Sat  Away      L   1   2   \n1  2018-09-02  18:00  Bundesliga  Matchweek 2  Sun  Home      L   0   2   \n2  2018-09-15  18:30  Bundesliga  Matchweek 3  Sat  Away      L   1   2   \n3  2018-09-22  18:30  Bundesliga  Matchweek 4  Sat  Home      L   0   2   \n4  2018-09-25  20:30  Bundesliga  Matchweek 5  Tue  Away      L   0   1   \n\n          opponent  ...  misc_performance_off  misc_performance_pkwon  \\\n0        Wolfsburg  ...                   2.0                     1.0   \n1       Hertha BSC  ...                   1.0                     0.0   \n2  Monchengladbach  ...                   4.0                     0.0   \n3    Bayern Munich  ...                   1.0                     0.0   \n4         Freiburg  ...                   4.0                     0.0   \n\n   misc_performance_pkcon  misc_performance_og misc_performance_recov  \\\n0                     0.0                  0.0                   37.0   \n1                     0.0                  0.0                   56.0   \n2                     0.0                  0.0                   57.0   \n3                     1.0                  0.0                   52.0   \n4                     0.0                  0.0                   49.0   \n\n  misc_aerial_duels_won misc_aerial_duels_lost misc_aerial_duels_won%  pen_gf  \\\n0                  19.0                   10.0                   65.5      -1   \n1                  28.0                   20.0                   58.3      -1   \n2                  31.0                   15.0                   67.4      -1   \n3                  10.0                   16.0                   38.5      -1   \n4                  22.0                   15.0                   59.5      -1   \n\n   pen_ga  \n0      -1  \n1      -1  \n2      -1  \n3      -1  \n4      -1  \n\n[5 rows x 158 columns]",
      "text/html": "<div>\n<style scoped>\n    .dataframe tbody tr th:only-of-type {\n        vertical-align: middle;\n    }\n\n    .dataframe tbody tr th {\n        vertical-align: top;\n    }\n\n    .dataframe thead th {\n        text-align: right;\n    }\n</style>\n<table border=\"1\" class=\"dataframe\">\n  <thead>\n    <tr style=\"text-align: right;\">\n      <th></th>\n      <th>date</th>\n      <th>time</th>\n      <th>comp</th>\n      <th>round</th>\n      <th>day</th>\n      <th>venue</th>\n      <th>result</th>\n      <th>gf</th>\n      <th>ga</th>\n      <th>opponent</th>\n      <th>...</th>\n      <th>misc_performance_off</th>\n      <th>misc_performance_pkwon</th>\n      <th>misc_performance_pkcon</th>\n      <th>misc_performance_og</th>\n      <th>misc_performance_recov</th>\n      <th>misc_aerial_duels_won</th>\n      <th>misc_aerial_duels_lost</th>\n      <th>misc_aerial_duels_won%</th>\n      <th>pen_gf</th>\n      <th>pen_ga</th>\n    </tr>\n  </thead>\n  <tbody>\n    <tr>\n      <th>0</th>\n      <td>2018-08-25</td>\n      <td>15:30</td>\n      <td>Bundesliga</td>\n      <td>Matchweek 1</td>\n      <td>Sat</td>\n      <td>Away</td>\n      <td>L</td>\n      <td>1</td>\n      <td>2</td>\n      <td>Wolfsburg</td>\n      <td>...</td>\n      <td>2.0</td>\n      <td>1.0</td>\n      <td>0.0</td>\n      <td>0.0</td>\n      <td>37.0</td>\n      <td>19.0</td>\n      <td>10.0</td>\n      <td>65.5</td>\n      <td>-1</td>\n      <td>-1</td>\n    </tr>\n    <tr>\n      <th>1</th>\n      <td>2018-09-02</td>\n      <td>18:00</td>\n      <td>Bundesliga</td>\n      <td>Matchweek 2</td>\n      <td>Sun</td>\n      <td>Home</td>\n      <td>L</td>\n      <td>0</td>\n      <td>2</td>\n      <td>Hertha BSC</td>\n      <td>...</td>\n      <td>1.0</td>\n      <td>0.0</td>\n      <td>0.0</td>\n      <td>0.0</td>\n      <td>56.0</td>\n      <td>28.0</td>\n      <td>20.0</td>\n      <td>58.3</td>\n      <td>-1</td>\n      <td>-1</td>\n    </tr>\n    <tr>\n      <th>2</th>\n      <td>2018-09-15</td>\n      <td>18:30</td>\n      <td>Bundesliga</td>\n      <td>Matchweek 3</td>\n      <td>Sat</td>\n      <td>Away</td>\n      <td>L</td>\n      <td>1</td>\n      <td>2</td>\n      <td>Monchengladbach</td>\n      <td>...</td>\n      <td>4.0</td>\n      <td>0.0</td>\n      <td>0.0</td>\n      <td>0.0</td>\n      <td>57.0</td>\n      <td>31.0</td>\n      <td>15.0</td>\n      <td>67.4</td>\n      <td>-1</td>\n      <td>-1</td>\n    </tr>\n    <tr>\n      <th>3</th>\n      <td>2018-09-22</td>\n      <td>18:30</td>\n      <td>Bundesliga</td>\n      <td>Matchweek 4</td>\n      <td>Sat</td>\n      <td>Home</td>\n      <td>L</td>\n      <td>0</td>\n      <td>2</td>\n      <td>Bayern Munich</td>\n      <td>...</td>\n      <td>1.0</td>\n      <td>0.0</td>\n      <td>1.0</td>\n      <td>0.0</td>\n      <td>52.0</td>\n      <td>10.0</td>\n      <td>16.0</td>\n      <td>38.5</td>\n      <td>-1</td>\n      <td>-1</td>\n    </tr>\n    <tr>\n      <th>4</th>\n      <td>2018-09-25</td>\n      <td>20:30</td>\n      <td>Bundesliga</td>\n      <td>Matchweek 5</td>\n      <td>Tue</td>\n      <td>Away</td>\n      <td>L</td>\n      <td>0</td>\n      <td>1</td>\n      <td>Freiburg</td>\n      <td>...</td>\n      <td>4.0</td>\n      <td>0.0</td>\n      <td>0.0</td>\n      <td>0.0</td>\n      <td>49.0</td>\n      <td>22.0</td>\n      <td>15.0</td>\n      <td>59.5</td>\n      <td>-1</td>\n      <td>-1</td>\n    </tr>\n  </tbody>\n</table>\n<p>5 rows × 158 columns</p>\n</div>"
     },
     "execution_count": 102,
     "metadata": {},
     "output_type": "execute_result"
    }
   ],
   "source": [
    "matches_df.head()"
   ],
   "metadata": {
    "collapsed": false,
    "ExecuteTime": {
     "end_time": "2023-11-23T17:26:36.150241097Z",
     "start_time": "2023-11-23T17:26:36.148425786Z"
    }
   },
   "id": "ebec940f6f512b0d"
  },
  {
   "cell_type": "code",
   "execution_count": 103,
   "outputs": [
    {
     "data": {
      "text/plain": "         date                 team       opponent  fthg  ftag ftr  hthg  htag  \\\n0  2022-08-05  Eintracht Frankfurt  Bayern Munich     1     6   A     0     5   \n1  2022-08-06             Augsburg       Freiburg     0     4   A     0     0   \n2  2022-08-06               Bochum       Mainz 05     1     2   A     1     1   \n3  2022-08-06      Monchengladbach     Hoffenheim     3     1   H     1     1   \n4  2022-08-06         Union Berlin     Hertha BSC     3     1   H     1     0   \n\n  htr  hs  ...  bbmx>2.5  bbav>2.5  bbmx<2.5  bbav<2.5  bbah  bbahh  bbmxahh  \\\n0   A   8  ...       NaN       NaN       NaN       NaN   NaN    NaN      NaN   \n1   D  10  ...       NaN       NaN       NaN       NaN   NaN    NaN      NaN   \n2   D  16  ...       NaN       NaN       NaN       NaN   NaN    NaN      NaN   \n3   D  18  ...       NaN       NaN       NaN       NaN   NaN    NaN      NaN   \n4   H  18  ...       NaN       NaN       NaN       NaN   NaN    NaN      NaN   \n\n   bbavahh  bbmxaha  bbavaha  \n0      NaN      NaN      NaN  \n1      NaN      NaN      NaN  \n2      NaN      NaN      NaN  \n3      NaN      NaN      NaN  \n4      NaN      NaN      NaN  \n\n[5 rows x 124 columns]",
      "text/html": "<div>\n<style scoped>\n    .dataframe tbody tr th:only-of-type {\n        vertical-align: middle;\n    }\n\n    .dataframe tbody tr th {\n        vertical-align: top;\n    }\n\n    .dataframe thead th {\n        text-align: right;\n    }\n</style>\n<table border=\"1\" class=\"dataframe\">\n  <thead>\n    <tr style=\"text-align: right;\">\n      <th></th>\n      <th>date</th>\n      <th>team</th>\n      <th>opponent</th>\n      <th>fthg</th>\n      <th>ftag</th>\n      <th>ftr</th>\n      <th>hthg</th>\n      <th>htag</th>\n      <th>htr</th>\n      <th>hs</th>\n      <th>...</th>\n      <th>bbmx&gt;2.5</th>\n      <th>bbav&gt;2.5</th>\n      <th>bbmx&lt;2.5</th>\n      <th>bbav&lt;2.5</th>\n      <th>bbah</th>\n      <th>bbahh</th>\n      <th>bbmxahh</th>\n      <th>bbavahh</th>\n      <th>bbmxaha</th>\n      <th>bbavaha</th>\n    </tr>\n  </thead>\n  <tbody>\n    <tr>\n      <th>0</th>\n      <td>2022-08-05</td>\n      <td>Eintracht Frankfurt</td>\n      <td>Bayern Munich</td>\n      <td>1</td>\n      <td>6</td>\n      <td>A</td>\n      <td>0</td>\n      <td>5</td>\n      <td>A</td>\n      <td>8</td>\n      <td>...</td>\n      <td>NaN</td>\n      <td>NaN</td>\n      <td>NaN</td>\n      <td>NaN</td>\n      <td>NaN</td>\n      <td>NaN</td>\n      <td>NaN</td>\n      <td>NaN</td>\n      <td>NaN</td>\n      <td>NaN</td>\n    </tr>\n    <tr>\n      <th>1</th>\n      <td>2022-08-06</td>\n      <td>Augsburg</td>\n      <td>Freiburg</td>\n      <td>0</td>\n      <td>4</td>\n      <td>A</td>\n      <td>0</td>\n      <td>0</td>\n      <td>D</td>\n      <td>10</td>\n      <td>...</td>\n      <td>NaN</td>\n      <td>NaN</td>\n      <td>NaN</td>\n      <td>NaN</td>\n      <td>NaN</td>\n      <td>NaN</td>\n      <td>NaN</td>\n      <td>NaN</td>\n      <td>NaN</td>\n      <td>NaN</td>\n    </tr>\n    <tr>\n      <th>2</th>\n      <td>2022-08-06</td>\n      <td>Bochum</td>\n      <td>Mainz 05</td>\n      <td>1</td>\n      <td>2</td>\n      <td>A</td>\n      <td>1</td>\n      <td>1</td>\n      <td>D</td>\n      <td>16</td>\n      <td>...</td>\n      <td>NaN</td>\n      <td>NaN</td>\n      <td>NaN</td>\n      <td>NaN</td>\n      <td>NaN</td>\n      <td>NaN</td>\n      <td>NaN</td>\n      <td>NaN</td>\n      <td>NaN</td>\n      <td>NaN</td>\n    </tr>\n    <tr>\n      <th>3</th>\n      <td>2022-08-06</td>\n      <td>Monchengladbach</td>\n      <td>Hoffenheim</td>\n      <td>3</td>\n      <td>1</td>\n      <td>H</td>\n      <td>1</td>\n      <td>1</td>\n      <td>D</td>\n      <td>18</td>\n      <td>...</td>\n      <td>NaN</td>\n      <td>NaN</td>\n      <td>NaN</td>\n      <td>NaN</td>\n      <td>NaN</td>\n      <td>NaN</td>\n      <td>NaN</td>\n      <td>NaN</td>\n      <td>NaN</td>\n      <td>NaN</td>\n    </tr>\n    <tr>\n      <th>4</th>\n      <td>2022-08-06</td>\n      <td>Union Berlin</td>\n      <td>Hertha BSC</td>\n      <td>3</td>\n      <td>1</td>\n      <td>H</td>\n      <td>1</td>\n      <td>0</td>\n      <td>H</td>\n      <td>18</td>\n      <td>...</td>\n      <td>NaN</td>\n      <td>NaN</td>\n      <td>NaN</td>\n      <td>NaN</td>\n      <td>NaN</td>\n      <td>NaN</td>\n      <td>NaN</td>\n      <td>NaN</td>\n      <td>NaN</td>\n      <td>NaN</td>\n    </tr>\n  </tbody>\n</table>\n<p>5 rows × 124 columns</p>\n</div>"
     },
     "execution_count": 103,
     "metadata": {},
     "output_type": "execute_result"
    }
   ],
   "source": [
    "odds_df.head()"
   ],
   "metadata": {
    "collapsed": false,
    "ExecuteTime": {
     "end_time": "2023-11-23T17:26:36.193275766Z",
     "start_time": "2023-11-23T17:26:36.150685916Z"
    }
   },
   "id": "2c9c6e74c3d6c67e"
  },
  {
   "cell_type": "code",
   "execution_count": 104,
   "outputs": [
    {
     "name": "stdout",
     "output_type": "stream",
     "text": [
      "1935.0\n",
      "1935\n"
     ]
    }
   ],
   "source": [
    "# show length of both datasets\n",
    "print(len(matches_df) / 2)\n",
    "print(len(odds_df))"
   ],
   "metadata": {
    "collapsed": false,
    "ExecuteTime": {
     "end_time": "2023-11-23T17:26:36.218742304Z",
     "start_time": "2023-11-23T17:26:36.167959875Z"
    }
   },
   "id": "ae401867b4836c8c"
  },
  {
   "cell_type": "code",
   "execution_count": 105,
   "outputs": [
    {
     "name": "stdout",
     "output_type": "stream",
     "text": [
      "['Schalke 04' 'Koln' 'Union Berlin' 'Werder Bremen' 'Bayer Leverkusen'\n",
      " 'Wolfsburg' 'Freiburg' 'Monchengladbach' 'Mainz 05' 'Paderborn 07'\n",
      " 'Dortmund' 'Bayern Munich' 'Augsburg' 'Darmstadt 98' 'RB Leipzig'\n",
      " 'Hannover 96' 'Hertha BSC' 'Eintracht Frankfurt' 'Nurnberg' 'Bochum'\n",
      " 'Hoffenheim' 'Stuttgart' 'Dusseldorf' 'Hamburger SV' 'Arminia'\n",
      " 'Heidenheim' 'Greuther Furth']\n",
      "['Eintracht Frankfurt' 'Augsburg' 'Bochum' 'Monchengladbach'\n",
      " 'Union Berlin' 'Wolfsburg' 'Dortmund' 'Stuttgart' 'Koln' 'Freiburg'\n",
      " 'Hertha BSC' 'Hoffenheim' 'Bayer Leverkusen' 'RB Leipzig' 'Werder Bremen'\n",
      " 'Schalke 04' 'Mainz 05' 'Bayern Munich' 'Arminia' 'Dusseldorf'\n",
      " 'Paderborn 07' 'Greuther Furth' 'Darmstadt 98' 'Heidenheim'\n",
      " 'Hamburger SV' 'Hannover 96' 'Nurnberg']\n",
      "---------------------\n",
      "set()\n",
      "set()\n"
     ]
    }
   ],
   "source": [
    "# show df teams and odds_df teams\n",
    "print(matches_df['team'].unique())\n",
    "print(odds_df['team'].unique())\n",
    "print('---------------------')\n",
    "# print diff between the sets\n",
    "print(set(matches_df['team'].unique()) - set(odds_df['team'].unique()))\n",
    "print(set(odds_df['team'].unique()) - set(matches_df['team'].unique()))"
   ],
   "metadata": {
    "collapsed": false,
    "ExecuteTime": {
     "end_time": "2023-11-23T17:26:36.234765757Z",
     "start_time": "2023-11-23T17:26:36.178765423Z"
    }
   },
   "id": "be0974680dbe848"
  },
  {
   "cell_type": "code",
   "execution_count": 106,
   "outputs": [
    {
     "data": {
      "text/plain": "            date   time        comp        round  day venue result  gf  ga  \\\n464   2019-08-16  20:30  Bundesliga  Matchweek 1  Fri  Home      D   2   2   \n1969  2019-08-16  20:30  Bundesliga  Matchweek 1  Fri  Away      D   2   2   \n\n           opponent  ...  misc_performance_off  misc_performance_pkwon  \\\n464      Hertha BSC  ...                   2.0                     1.0   \n1969  Bayern Munich  ...                   0.0                     0.0   \n\n      misc_performance_pkcon  misc_performance_og misc_performance_recov  \\\n464                      0.0                  0.0                   48.0   \n1969                     1.0                  0.0                   43.0   \n\n     misc_aerial_duels_won misc_aerial_duels_lost misc_aerial_duels_won%  \\\n464                   12.0                   12.0                   50.0   \n1969                  12.0                   12.0                   50.0   \n\n      pen_gf  pen_ga  \n464       -1      -1  \n1969      -1      -1  \n\n[2 rows x 158 columns]",
      "text/html": "<div>\n<style scoped>\n    .dataframe tbody tr th:only-of-type {\n        vertical-align: middle;\n    }\n\n    .dataframe tbody tr th {\n        vertical-align: top;\n    }\n\n    .dataframe thead th {\n        text-align: right;\n    }\n</style>\n<table border=\"1\" class=\"dataframe\">\n  <thead>\n    <tr style=\"text-align: right;\">\n      <th></th>\n      <th>date</th>\n      <th>time</th>\n      <th>comp</th>\n      <th>round</th>\n      <th>day</th>\n      <th>venue</th>\n      <th>result</th>\n      <th>gf</th>\n      <th>ga</th>\n      <th>opponent</th>\n      <th>...</th>\n      <th>misc_performance_off</th>\n      <th>misc_performance_pkwon</th>\n      <th>misc_performance_pkcon</th>\n      <th>misc_performance_og</th>\n      <th>misc_performance_recov</th>\n      <th>misc_aerial_duels_won</th>\n      <th>misc_aerial_duels_lost</th>\n      <th>misc_aerial_duels_won%</th>\n      <th>pen_gf</th>\n      <th>pen_ga</th>\n    </tr>\n  </thead>\n  <tbody>\n    <tr>\n      <th>464</th>\n      <td>2019-08-16</td>\n      <td>20:30</td>\n      <td>Bundesliga</td>\n      <td>Matchweek 1</td>\n      <td>Fri</td>\n      <td>Home</td>\n      <td>D</td>\n      <td>2</td>\n      <td>2</td>\n      <td>Hertha BSC</td>\n      <td>...</td>\n      <td>2.0</td>\n      <td>1.0</td>\n      <td>0.0</td>\n      <td>0.0</td>\n      <td>48.0</td>\n      <td>12.0</td>\n      <td>12.0</td>\n      <td>50.0</td>\n      <td>-1</td>\n      <td>-1</td>\n    </tr>\n    <tr>\n      <th>1969</th>\n      <td>2019-08-16</td>\n      <td>20:30</td>\n      <td>Bundesliga</td>\n      <td>Matchweek 1</td>\n      <td>Fri</td>\n      <td>Away</td>\n      <td>D</td>\n      <td>2</td>\n      <td>2</td>\n      <td>Bayern Munich</td>\n      <td>...</td>\n      <td>0.0</td>\n      <td>0.0</td>\n      <td>1.0</td>\n      <td>0.0</td>\n      <td>43.0</td>\n      <td>12.0</td>\n      <td>12.0</td>\n      <td>50.0</td>\n      <td>-1</td>\n      <td>-1</td>\n    </tr>\n  </tbody>\n</table>\n<p>2 rows × 158 columns</p>\n</div>"
     },
     "execution_count": 106,
     "metadata": {},
     "output_type": "execute_result"
    }
   ],
   "source": [
    "# show matches played on 2019-08-16\n",
    "matches_df[matches_df['date'] == '2019-08-16']"
   ],
   "metadata": {
    "collapsed": false,
    "ExecuteTime": {
     "end_time": "2023-11-23T17:26:36.281642109Z",
     "start_time": "2023-11-23T17:26:36.223409301Z"
    }
   },
   "id": "26dde20b0a1a143d"
  },
  {
   "cell_type": "code",
   "execution_count": 107,
   "outputs": [
    {
     "data": {
      "text/plain": "           date           team    opponent  fthg  ftag ftr  hthg  htag htr  \\\n612  2019-08-16  Bayern Munich  Hertha BSC     2     2   D     1     2   A   \n\n     hs  ...  bbmx>2.5  bbav>2.5  bbmx<2.5  bbav<2.5  bbah  bbahh  bbmxahh  \\\n612  17  ...       NaN       NaN       NaN       NaN   NaN    NaN      NaN   \n\n     bbavahh  bbmxaha  bbavaha  \n612      NaN      NaN      NaN  \n\n[1 rows x 124 columns]",
      "text/html": "<div>\n<style scoped>\n    .dataframe tbody tr th:only-of-type {\n        vertical-align: middle;\n    }\n\n    .dataframe tbody tr th {\n        vertical-align: top;\n    }\n\n    .dataframe thead th {\n        text-align: right;\n    }\n</style>\n<table border=\"1\" class=\"dataframe\">\n  <thead>\n    <tr style=\"text-align: right;\">\n      <th></th>\n      <th>date</th>\n      <th>team</th>\n      <th>opponent</th>\n      <th>fthg</th>\n      <th>ftag</th>\n      <th>ftr</th>\n      <th>hthg</th>\n      <th>htag</th>\n      <th>htr</th>\n      <th>hs</th>\n      <th>...</th>\n      <th>bbmx&gt;2.5</th>\n      <th>bbav&gt;2.5</th>\n      <th>bbmx&lt;2.5</th>\n      <th>bbav&lt;2.5</th>\n      <th>bbah</th>\n      <th>bbahh</th>\n      <th>bbmxahh</th>\n      <th>bbavahh</th>\n      <th>bbmxaha</th>\n      <th>bbavaha</th>\n    </tr>\n  </thead>\n  <tbody>\n    <tr>\n      <th>612</th>\n      <td>2019-08-16</td>\n      <td>Bayern Munich</td>\n      <td>Hertha BSC</td>\n      <td>2</td>\n      <td>2</td>\n      <td>D</td>\n      <td>1</td>\n      <td>2</td>\n      <td>A</td>\n      <td>17</td>\n      <td>...</td>\n      <td>NaN</td>\n      <td>NaN</td>\n      <td>NaN</td>\n      <td>NaN</td>\n      <td>NaN</td>\n      <td>NaN</td>\n      <td>NaN</td>\n      <td>NaN</td>\n      <td>NaN</td>\n      <td>NaN</td>\n    </tr>\n  </tbody>\n</table>\n<p>1 rows × 124 columns</p>\n</div>"
     },
     "execution_count": 107,
     "metadata": {},
     "output_type": "execute_result"
    }
   ],
   "source": [
    "odds_df[odds_df['date'] == '2019-08-16']"
   ],
   "metadata": {
    "collapsed": false,
    "ExecuteTime": {
     "end_time": "2023-11-23T17:26:36.322780519Z",
     "start_time": "2023-11-23T17:26:36.223593054Z"
    }
   },
   "id": "3255979ccee78d94"
  },
  {
   "cell_type": "code",
   "execution_count": 108,
   "outputs": [
    {
     "data": {
      "text/plain": "                                     key        date   time        comp  \\\n0        2018-08-25_Wolfsburg_Schalke 04  2018-08-25  15:30  Bundesliga   \n1       2018-09-02_Schalke 04_Hertha BSC  2018-09-02  18:00  Bundesliga   \n2  2018-09-15_Monchengladbach_Schalke 04  2018-09-15  18:30  Bundesliga   \n3    2018-09-22_Schalke 04_Bayern Munich  2018-09-22  18:30  Bundesliga   \n4         2018-09-25_Freiburg_Schalke 04  2018-09-25  20:30  Bundesliga   \n\n         round  day venue result  gf  ga  ... misc_performance_off  \\\n0  Matchweek 1  Sat  Away      L   1   2  ...                  2.0   \n1  Matchweek 2  Sun  Home      L   0   2  ...                  1.0   \n2  Matchweek 3  Sat  Away      L   1   2  ...                  4.0   \n3  Matchweek 4  Sat  Home      L   0   2  ...                  1.0   \n4  Matchweek 5  Tue  Away      L   0   1  ...                  4.0   \n\n   misc_performance_pkwon  misc_performance_pkcon  misc_performance_og  \\\n0                     1.0                     0.0                  0.0   \n1                     0.0                     0.0                  0.0   \n2                     0.0                     0.0                  0.0   \n3                     0.0                     1.0                  0.0   \n4                     0.0                     0.0                  0.0   \n\n   misc_performance_recov misc_aerial_duels_won misc_aerial_duels_lost  \\\n0                    37.0                  19.0                   10.0   \n1                    56.0                  28.0                   20.0   \n2                    57.0                  31.0                   15.0   \n3                    52.0                  10.0                   16.0   \n4                    49.0                  22.0                   15.0   \n\n  misc_aerial_duels_won% pen_gf  pen_ga  \n0                   65.5     -1      -1  \n1                   58.3     -1      -1  \n2                   67.4     -1      -1  \n3                   38.5     -1      -1  \n4                   59.5     -1      -1  \n\n[5 rows x 159 columns]",
      "text/html": "<div>\n<style scoped>\n    .dataframe tbody tr th:only-of-type {\n        vertical-align: middle;\n    }\n\n    .dataframe tbody tr th {\n        vertical-align: top;\n    }\n\n    .dataframe thead th {\n        text-align: right;\n    }\n</style>\n<table border=\"1\" class=\"dataframe\">\n  <thead>\n    <tr style=\"text-align: right;\">\n      <th></th>\n      <th>key</th>\n      <th>date</th>\n      <th>time</th>\n      <th>comp</th>\n      <th>round</th>\n      <th>day</th>\n      <th>venue</th>\n      <th>result</th>\n      <th>gf</th>\n      <th>ga</th>\n      <th>...</th>\n      <th>misc_performance_off</th>\n      <th>misc_performance_pkwon</th>\n      <th>misc_performance_pkcon</th>\n      <th>misc_performance_og</th>\n      <th>misc_performance_recov</th>\n      <th>misc_aerial_duels_won</th>\n      <th>misc_aerial_duels_lost</th>\n      <th>misc_aerial_duels_won%</th>\n      <th>pen_gf</th>\n      <th>pen_ga</th>\n    </tr>\n  </thead>\n  <tbody>\n    <tr>\n      <th>0</th>\n      <td>2018-08-25_Wolfsburg_Schalke 04</td>\n      <td>2018-08-25</td>\n      <td>15:30</td>\n      <td>Bundesliga</td>\n      <td>Matchweek 1</td>\n      <td>Sat</td>\n      <td>Away</td>\n      <td>L</td>\n      <td>1</td>\n      <td>2</td>\n      <td>...</td>\n      <td>2.0</td>\n      <td>1.0</td>\n      <td>0.0</td>\n      <td>0.0</td>\n      <td>37.0</td>\n      <td>19.0</td>\n      <td>10.0</td>\n      <td>65.5</td>\n      <td>-1</td>\n      <td>-1</td>\n    </tr>\n    <tr>\n      <th>1</th>\n      <td>2018-09-02_Schalke 04_Hertha BSC</td>\n      <td>2018-09-02</td>\n      <td>18:00</td>\n      <td>Bundesliga</td>\n      <td>Matchweek 2</td>\n      <td>Sun</td>\n      <td>Home</td>\n      <td>L</td>\n      <td>0</td>\n      <td>2</td>\n      <td>...</td>\n      <td>1.0</td>\n      <td>0.0</td>\n      <td>0.0</td>\n      <td>0.0</td>\n      <td>56.0</td>\n      <td>28.0</td>\n      <td>20.0</td>\n      <td>58.3</td>\n      <td>-1</td>\n      <td>-1</td>\n    </tr>\n    <tr>\n      <th>2</th>\n      <td>2018-09-15_Monchengladbach_Schalke 04</td>\n      <td>2018-09-15</td>\n      <td>18:30</td>\n      <td>Bundesliga</td>\n      <td>Matchweek 3</td>\n      <td>Sat</td>\n      <td>Away</td>\n      <td>L</td>\n      <td>1</td>\n      <td>2</td>\n      <td>...</td>\n      <td>4.0</td>\n      <td>0.0</td>\n      <td>0.0</td>\n      <td>0.0</td>\n      <td>57.0</td>\n      <td>31.0</td>\n      <td>15.0</td>\n      <td>67.4</td>\n      <td>-1</td>\n      <td>-1</td>\n    </tr>\n    <tr>\n      <th>3</th>\n      <td>2018-09-22_Schalke 04_Bayern Munich</td>\n      <td>2018-09-22</td>\n      <td>18:30</td>\n      <td>Bundesliga</td>\n      <td>Matchweek 4</td>\n      <td>Sat</td>\n      <td>Home</td>\n      <td>L</td>\n      <td>0</td>\n      <td>2</td>\n      <td>...</td>\n      <td>1.0</td>\n      <td>0.0</td>\n      <td>1.0</td>\n      <td>0.0</td>\n      <td>52.0</td>\n      <td>10.0</td>\n      <td>16.0</td>\n      <td>38.5</td>\n      <td>-1</td>\n      <td>-1</td>\n    </tr>\n    <tr>\n      <th>4</th>\n      <td>2018-09-25_Freiburg_Schalke 04</td>\n      <td>2018-09-25</td>\n      <td>20:30</td>\n      <td>Bundesliga</td>\n      <td>Matchweek 5</td>\n      <td>Tue</td>\n      <td>Away</td>\n      <td>L</td>\n      <td>0</td>\n      <td>1</td>\n      <td>...</td>\n      <td>4.0</td>\n      <td>0.0</td>\n      <td>0.0</td>\n      <td>0.0</td>\n      <td>49.0</td>\n      <td>22.0</td>\n      <td>15.0</td>\n      <td>59.5</td>\n      <td>-1</td>\n      <td>-1</td>\n    </tr>\n  </tbody>\n</table>\n<p>5 rows × 159 columns</p>\n</div>"
     },
     "execution_count": 108,
     "metadata": {},
     "output_type": "execute_result"
    }
   ],
   "source": [
    "# create a uniqe identifier key for each match\n",
    "# for matches_df if venue == 'Home', key = date_team_opponent\n",
    "# for matches_df if venue == 'Away', key = date_opponent_team\n",
    "\n",
    "matches_df.insert(0,'key','')\n",
    "matches_df['key'] = matches_df.apply(\n",
    "    lambda x: f\"{x['date']}_{x['team']}_{x['opponent']}\" if x['venue'] == 'Home' else f\"{x['date']}_{x['opponent']}_{x['team']}\",\n",
    "    axis=1\n",
    ")\n",
    "matches_df.head()"
   ],
   "metadata": {
    "collapsed": false,
    "ExecuteTime": {
     "end_time": "2023-11-23T17:26:36.324158067Z",
     "start_time": "2023-11-23T17:26:36.267379143Z"
    }
   },
   "id": "24b9b70e90255c37"
  },
  {
   "cell_type": "code",
   "execution_count": 109,
   "outputs": [
    {
     "data": {
      "text/plain": "                                            key  fthg  ftag ftr  hthg  htag  \\\n0  2022-08-05_Eintracht Frankfurt_Bayern Munich     1     6   A     0     5   \n1                  2022-08-06_Augsburg_Freiburg     0     4   A     0     0   \n2                    2022-08-06_Bochum_Mainz 05     1     2   A     1     1   \n3         2022-08-06_Monchengladbach_Hoffenheim     3     1   H     1     1   \n4            2022-08-06_Union Berlin_Hertha BSC     3     1   H     1     0   \n\n  htr  hs  as  hst  ...  bbmx>2.5  bbav>2.5  bbmx<2.5  bbav<2.5  bbah  bbahh  \\\n0   A   8  23    2  ...       NaN       NaN       NaN       NaN   NaN    NaN   \n1   D  10  19    2  ...       NaN       NaN       NaN       NaN   NaN    NaN   \n2   D  16  13    3  ...       NaN       NaN       NaN       NaN   NaN    NaN   \n3   D  18   2    8  ...       NaN       NaN       NaN       NaN   NaN    NaN   \n4   H  18   9    8  ...       NaN       NaN       NaN       NaN   NaN    NaN   \n\n   bbmxahh  bbavahh  bbmxaha  bbavaha  \n0      NaN      NaN      NaN      NaN  \n1      NaN      NaN      NaN      NaN  \n2      NaN      NaN      NaN      NaN  \n3      NaN      NaN      NaN      NaN  \n4      NaN      NaN      NaN      NaN  \n\n[5 rows x 122 columns]",
      "text/html": "<div>\n<style scoped>\n    .dataframe tbody tr th:only-of-type {\n        vertical-align: middle;\n    }\n\n    .dataframe tbody tr th {\n        vertical-align: top;\n    }\n\n    .dataframe thead th {\n        text-align: right;\n    }\n</style>\n<table border=\"1\" class=\"dataframe\">\n  <thead>\n    <tr style=\"text-align: right;\">\n      <th></th>\n      <th>key</th>\n      <th>fthg</th>\n      <th>ftag</th>\n      <th>ftr</th>\n      <th>hthg</th>\n      <th>htag</th>\n      <th>htr</th>\n      <th>hs</th>\n      <th>as</th>\n      <th>hst</th>\n      <th>...</th>\n      <th>bbmx&gt;2.5</th>\n      <th>bbav&gt;2.5</th>\n      <th>bbmx&lt;2.5</th>\n      <th>bbav&lt;2.5</th>\n      <th>bbah</th>\n      <th>bbahh</th>\n      <th>bbmxahh</th>\n      <th>bbavahh</th>\n      <th>bbmxaha</th>\n      <th>bbavaha</th>\n    </tr>\n  </thead>\n  <tbody>\n    <tr>\n      <th>0</th>\n      <td>2022-08-05_Eintracht Frankfurt_Bayern Munich</td>\n      <td>1</td>\n      <td>6</td>\n      <td>A</td>\n      <td>0</td>\n      <td>5</td>\n      <td>A</td>\n      <td>8</td>\n      <td>23</td>\n      <td>2</td>\n      <td>...</td>\n      <td>NaN</td>\n      <td>NaN</td>\n      <td>NaN</td>\n      <td>NaN</td>\n      <td>NaN</td>\n      <td>NaN</td>\n      <td>NaN</td>\n      <td>NaN</td>\n      <td>NaN</td>\n      <td>NaN</td>\n    </tr>\n    <tr>\n      <th>1</th>\n      <td>2022-08-06_Augsburg_Freiburg</td>\n      <td>0</td>\n      <td>4</td>\n      <td>A</td>\n      <td>0</td>\n      <td>0</td>\n      <td>D</td>\n      <td>10</td>\n      <td>19</td>\n      <td>2</td>\n      <td>...</td>\n      <td>NaN</td>\n      <td>NaN</td>\n      <td>NaN</td>\n      <td>NaN</td>\n      <td>NaN</td>\n      <td>NaN</td>\n      <td>NaN</td>\n      <td>NaN</td>\n      <td>NaN</td>\n      <td>NaN</td>\n    </tr>\n    <tr>\n      <th>2</th>\n      <td>2022-08-06_Bochum_Mainz 05</td>\n      <td>1</td>\n      <td>2</td>\n      <td>A</td>\n      <td>1</td>\n      <td>1</td>\n      <td>D</td>\n      <td>16</td>\n      <td>13</td>\n      <td>3</td>\n      <td>...</td>\n      <td>NaN</td>\n      <td>NaN</td>\n      <td>NaN</td>\n      <td>NaN</td>\n      <td>NaN</td>\n      <td>NaN</td>\n      <td>NaN</td>\n      <td>NaN</td>\n      <td>NaN</td>\n      <td>NaN</td>\n    </tr>\n    <tr>\n      <th>3</th>\n      <td>2022-08-06_Monchengladbach_Hoffenheim</td>\n      <td>3</td>\n      <td>1</td>\n      <td>H</td>\n      <td>1</td>\n      <td>1</td>\n      <td>D</td>\n      <td>18</td>\n      <td>2</td>\n      <td>8</td>\n      <td>...</td>\n      <td>NaN</td>\n      <td>NaN</td>\n      <td>NaN</td>\n      <td>NaN</td>\n      <td>NaN</td>\n      <td>NaN</td>\n      <td>NaN</td>\n      <td>NaN</td>\n      <td>NaN</td>\n      <td>NaN</td>\n    </tr>\n    <tr>\n      <th>4</th>\n      <td>2022-08-06_Union Berlin_Hertha BSC</td>\n      <td>3</td>\n      <td>1</td>\n      <td>H</td>\n      <td>1</td>\n      <td>0</td>\n      <td>H</td>\n      <td>18</td>\n      <td>9</td>\n      <td>8</td>\n      <td>...</td>\n      <td>NaN</td>\n      <td>NaN</td>\n      <td>NaN</td>\n      <td>NaN</td>\n      <td>NaN</td>\n      <td>NaN</td>\n      <td>NaN</td>\n      <td>NaN</td>\n      <td>NaN</td>\n      <td>NaN</td>\n    </tr>\n  </tbody>\n</table>\n<p>5 rows × 122 columns</p>\n</div>"
     },
     "execution_count": 109,
     "metadata": {},
     "output_type": "execute_result"
    }
   ],
   "source": [
    "# for odds_df key = date_team_opponent\n",
    "odds_df.insert(0,'key','')\n",
    "odds_df['key'] = odds_df.apply(\n",
    "    lambda x: f\"{x['date']}_{x['team']}_{x['opponent']}\",\n",
    "    axis=1\n",
    ")\n",
    "# drop date, team, opponent columns to not create duplicates when merging\n",
    "odds_df.drop(columns=['date','team','opponent'], inplace=True)\n",
    "odds_df.head()"
   ],
   "metadata": {
    "collapsed": false,
    "ExecuteTime": {
     "end_time": "2023-11-23T17:26:36.382203839Z",
     "start_time": "2023-11-23T17:26:36.299847470Z"
    }
   },
   "id": "b011fc6acc47bff"
  },
  {
   "cell_type": "code",
   "execution_count": 110,
   "outputs": [
    {
     "name": "stdout",
     "output_type": "stream",
     "text": [
      "set()\n",
      "set()\n"
     ]
    }
   ],
   "source": [
    "## see difference in keys\n",
    "print(set(matches_df['key'].unique()) - set(odds_df['key'].unique()))\n",
    "print(set(odds_df['key'].unique()) - set(matches_df['key'].unique()))"
   ],
   "metadata": {
    "collapsed": false,
    "ExecuteTime": {
     "end_time": "2023-11-23T17:26:36.411870836Z",
     "start_time": "2023-11-23T17:26:36.325532052Z"
    }
   },
   "id": "fa0e23c2e0745535"
  },
  {
   "cell_type": "code",
   "execution_count": 111,
   "outputs": [
    {
     "data": {
      "text/plain": "                                     key        date   time        comp  \\\n0        2018-08-25_Wolfsburg_Schalke 04  2018-08-25  15:30  Bundesliga   \n1       2018-09-02_Schalke 04_Hertha BSC  2018-09-02  18:00  Bundesliga   \n2  2018-09-15_Monchengladbach_Schalke 04  2018-09-15  18:30  Bundesliga   \n3    2018-09-22_Schalke 04_Bayern Munich  2018-09-22  18:30  Bundesliga   \n4         2018-09-25_Freiburg_Schalke 04  2018-09-25  20:30  Bundesliga   \n\n         round  day venue result  gf  ga  ... bbmx>2.5  bbav>2.5  bbmx<2.5  \\\n0  Matchweek 1  Sat  Away      L   1   2  ...     2.27      2.17      1.75   \n1  Matchweek 2  Sun  Home      L   0   2  ...     2.33      2.26      1.69   \n2  Matchweek 3  Sat  Away      L   1   2  ...     1.97      1.90      2.05   \n3  Matchweek 4  Sat  Home      L   0   2  ...     1.72      1.67      2.29   \n4  Matchweek 5  Tue  Away      L   0   1  ...     2.33      2.22      1.70   \n\n   bbav<2.5  bbah bbahh bbmxahh bbavahh bbmxaha  bbavaha  \n0      1.68  20.0  0.25    1.90    1.86    2.04     2.00  \n1      1.63  19.0 -0.75    2.08    2.04    1.86     1.83  \n2      1.90  22.0 -0.25    2.14    2.09    1.83     1.79  \n3      2.19  21.0  1.50    1.80    1.76    2.21     2.12  \n4      1.65  21.0  0.25    1.98    1.93    1.97     1.93  \n\n[5 rows x 280 columns]",
      "text/html": "<div>\n<style scoped>\n    .dataframe tbody tr th:only-of-type {\n        vertical-align: middle;\n    }\n\n    .dataframe tbody tr th {\n        vertical-align: top;\n    }\n\n    .dataframe thead th {\n        text-align: right;\n    }\n</style>\n<table border=\"1\" class=\"dataframe\">\n  <thead>\n    <tr style=\"text-align: right;\">\n      <th></th>\n      <th>key</th>\n      <th>date</th>\n      <th>time</th>\n      <th>comp</th>\n      <th>round</th>\n      <th>day</th>\n      <th>venue</th>\n      <th>result</th>\n      <th>gf</th>\n      <th>ga</th>\n      <th>...</th>\n      <th>bbmx&gt;2.5</th>\n      <th>bbav&gt;2.5</th>\n      <th>bbmx&lt;2.5</th>\n      <th>bbav&lt;2.5</th>\n      <th>bbah</th>\n      <th>bbahh</th>\n      <th>bbmxahh</th>\n      <th>bbavahh</th>\n      <th>bbmxaha</th>\n      <th>bbavaha</th>\n    </tr>\n  </thead>\n  <tbody>\n    <tr>\n      <th>0</th>\n      <td>2018-08-25_Wolfsburg_Schalke 04</td>\n      <td>2018-08-25</td>\n      <td>15:30</td>\n      <td>Bundesliga</td>\n      <td>Matchweek 1</td>\n      <td>Sat</td>\n      <td>Away</td>\n      <td>L</td>\n      <td>1</td>\n      <td>2</td>\n      <td>...</td>\n      <td>2.27</td>\n      <td>2.17</td>\n      <td>1.75</td>\n      <td>1.68</td>\n      <td>20.0</td>\n      <td>0.25</td>\n      <td>1.90</td>\n      <td>1.86</td>\n      <td>2.04</td>\n      <td>2.00</td>\n    </tr>\n    <tr>\n      <th>1</th>\n      <td>2018-09-02_Schalke 04_Hertha BSC</td>\n      <td>2018-09-02</td>\n      <td>18:00</td>\n      <td>Bundesliga</td>\n      <td>Matchweek 2</td>\n      <td>Sun</td>\n      <td>Home</td>\n      <td>L</td>\n      <td>0</td>\n      <td>2</td>\n      <td>...</td>\n      <td>2.33</td>\n      <td>2.26</td>\n      <td>1.69</td>\n      <td>1.63</td>\n      <td>19.0</td>\n      <td>-0.75</td>\n      <td>2.08</td>\n      <td>2.04</td>\n      <td>1.86</td>\n      <td>1.83</td>\n    </tr>\n    <tr>\n      <th>2</th>\n      <td>2018-09-15_Monchengladbach_Schalke 04</td>\n      <td>2018-09-15</td>\n      <td>18:30</td>\n      <td>Bundesliga</td>\n      <td>Matchweek 3</td>\n      <td>Sat</td>\n      <td>Away</td>\n      <td>L</td>\n      <td>1</td>\n      <td>2</td>\n      <td>...</td>\n      <td>1.97</td>\n      <td>1.90</td>\n      <td>2.05</td>\n      <td>1.90</td>\n      <td>22.0</td>\n      <td>-0.25</td>\n      <td>2.14</td>\n      <td>2.09</td>\n      <td>1.83</td>\n      <td>1.79</td>\n    </tr>\n    <tr>\n      <th>3</th>\n      <td>2018-09-22_Schalke 04_Bayern Munich</td>\n      <td>2018-09-22</td>\n      <td>18:30</td>\n      <td>Bundesliga</td>\n      <td>Matchweek 4</td>\n      <td>Sat</td>\n      <td>Home</td>\n      <td>L</td>\n      <td>0</td>\n      <td>2</td>\n      <td>...</td>\n      <td>1.72</td>\n      <td>1.67</td>\n      <td>2.29</td>\n      <td>2.19</td>\n      <td>21.0</td>\n      <td>1.50</td>\n      <td>1.80</td>\n      <td>1.76</td>\n      <td>2.21</td>\n      <td>2.12</td>\n    </tr>\n    <tr>\n      <th>4</th>\n      <td>2018-09-25_Freiburg_Schalke 04</td>\n      <td>2018-09-25</td>\n      <td>20:30</td>\n      <td>Bundesliga</td>\n      <td>Matchweek 5</td>\n      <td>Tue</td>\n      <td>Away</td>\n      <td>L</td>\n      <td>0</td>\n      <td>1</td>\n      <td>...</td>\n      <td>2.33</td>\n      <td>2.22</td>\n      <td>1.70</td>\n      <td>1.65</td>\n      <td>21.0</td>\n      <td>0.25</td>\n      <td>1.98</td>\n      <td>1.93</td>\n      <td>1.97</td>\n      <td>1.93</td>\n    </tr>\n  </tbody>\n</table>\n<p>5 rows × 280 columns</p>\n</div>"
     },
     "execution_count": 111,
     "metadata": {},
     "output_type": "execute_result"
    }
   ],
   "source": [
    "# merge the datasets based on those keys\n",
    "merged_df = pd.merge(matches_df, odds_df, on='key', how='left')\n",
    "merged_df.head()"
   ],
   "metadata": {
    "collapsed": false,
    "ExecuteTime": {
     "end_time": "2023-11-23T17:26:36.412600956Z",
     "start_time": "2023-11-23T17:26:36.371358901Z"
    }
   },
   "id": "ffc4432412654ed"
  }
 ],
 "metadata": {
  "kernelspec": {
   "display_name": "Python 3",
   "language": "python",
   "name": "python3"
  },
  "language_info": {
   "codemirror_mode": {
    "name": "ipython",
    "version": 2
   },
   "file_extension": ".py",
   "mimetype": "text/x-python",
   "name": "python",
   "nbconvert_exporter": "python",
   "pygments_lexer": "ipython2",
   "version": "2.7.6"
  }
 },
 "nbformat": 4,
 "nbformat_minor": 5
}
