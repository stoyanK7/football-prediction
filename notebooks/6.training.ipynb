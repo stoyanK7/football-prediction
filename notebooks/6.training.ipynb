{
 "cells": [
  {
   "cell_type": "markdown",
   "source": [
    "# Training the model"
   ],
   "metadata": {
    "collapsed": false
   },
   "id": "af03889ba38d1232"
  },
  {
   "cell_type": "markdown",
   "source": [
    "Imports."
   ],
   "metadata": {
    "collapsed": false
   },
   "id": "174fc7db1c2e5f3e"
  },
  {
   "cell_type": "code",
   "execution_count": 213,
   "outputs": [],
   "source": [
    "import pandas as pd\n",
    "from sklearn.ensemble import RandomForestClassifier\n",
    "from sklearn.metrics import precision_score\n",
    "from remove_collinear_features import remove_collinear_features"
   ],
   "metadata": {
    "collapsed": false,
    "ExecuteTime": {
     "end_time": "2023-11-15T14:50:16.429173922Z",
     "start_time": "2023-11-15T14:50:16.402933645Z"
    }
   },
   "id": "70716b6127abf94"
  },
  {
   "cell_type": "markdown",
   "source": [
    "Pathing to the data."
   ],
   "metadata": {
    "collapsed": false
   },
   "id": "d5d4ce6133888ffa"
  },
  {
   "cell_type": "code",
   "execution_count": 214,
   "outputs": [],
   "source": [
    "data_path = '../data'\n",
    "prepared_data_path = f'{data_path}/csv/prepared'"
   ],
   "metadata": {
    "collapsed": false,
    "ExecuteTime": {
     "end_time": "2023-11-15T14:50:16.443735929Z",
     "start_time": "2023-11-15T14:50:16.406873311Z"
    }
   },
   "id": "8f089a32f7cdf914"
  },
  {
   "cell_type": "markdown",
   "source": [
    "Open the prepared data."
   ],
   "metadata": {
    "collapsed": false
   },
   "id": "c34056ed649040cd"
  },
  {
   "cell_type": "code",
   "execution_count": 215,
   "outputs": [
    {
     "data": {
      "text/plain": "date                                   object\ntime                                   object\ncomp                                   object\nround                                  object\nday                                    object\n                                       ...   \nmisc_aerial_duels_won_rolling_avg     float64\nmisc_aerial_duels_lost_rolling_avg    float64\nmisc_aerial_duels_won%_rolling_avg    float64\npgf_rolling_avg                       float64\npga_rolling_avg                       float64\nLength: 311, dtype: object"
     },
     "execution_count": 215,
     "metadata": {},
     "output_type": "execute_result"
    }
   ],
   "source": [
    "matches_df = pd.read_csv(f'{prepared_data_path}/bundesliga_matches.csv')\n",
    "matches_df.dtypes"
   ],
   "metadata": {
    "collapsed": false,
    "ExecuteTime": {
     "end_time": "2023-11-15T14:50:16.580742503Z",
     "start_time": "2023-11-15T14:50:16.416317154Z"
    }
   },
   "id": "fafbc1b5a2c4407c"
  },
  {
   "cell_type": "markdown",
   "source": [
    "Create a method to ease the process of predicting."
   ],
   "metadata": {
    "collapsed": false
   },
   "id": "5ba7d4566e276544"
  },
  {
   "cell_type": "code",
   "execution_count": 216,
   "outputs": [],
   "source": [
    "def make_predictions(data, predictors):\n",
    "    \"\"\"\n",
    "    Make predictions using the random forest classifier.\n",
    "\n",
    "    :param data: the dataframe to use\n",
    "    :param predictors: the predictor columns\n",
    "    :return: combined: a dataframe containing the actual and predicted values\n",
    "    \"\"\"\n",
    "    # Split the data into train and test sets.\n",
    "    train_set = data[data['date'] < '2023-04-01']\n",
    "    test_set = data[data['date'] >= '2023-04-01']\n",
    "    print(f'Train: {len(train_set)} matches ({len(train_set) / len(data):.2%})')\n",
    "    print(f'Test: {len(test_set)} matches ({len(test_set) / len(data):.2%})')\n",
    "\n",
    "    # Create and fit (train) the model.\n",
    "    model = RandomForestClassifier(\n",
    "        n_estimators=50,  # number of trees in the forest\n",
    "        min_samples_split=10,  # number of samples required to split an internal node\n",
    "        random_state=1  # seed\n",
    "    )\n",
    "    model.fit(train_set[predictors], train_set['target'])\n",
    "\n",
    "    # Make predictions on the test dataset and calculate the precision score.\n",
    "    predictions = model.predict(test_set[predictors])\n",
    "    precision = precision_score(test_set['target'], predictions)\n",
    "    print(f'Precision: {precision:.2%}')\n",
    "\n",
    "    # Create a dataframe containing the actual and predicted values.\n",
    "    combined = pd.DataFrame(\n",
    "        dict(actual=test_set['target'], prediction=predictions),\n",
    "        index=test_set.index\n",
    "    )\n",
    "    return combined"
   ],
   "metadata": {
    "collapsed": false,
    "ExecuteTime": {
     "end_time": "2023-11-15T14:50:16.581081861Z",
     "start_time": "2023-11-15T14:50:16.580577329Z"
    }
   },
   "id": "aa03173b77dff56"
  },
  {
   "cell_type": "markdown",
   "source": [
    "Remove collinear features so we can make the model more generalized."
   ],
   "metadata": {
    "collapsed": false
   },
   "id": "d1fd995cca74b8c2"
  },
  {
   "cell_type": "code",
   "execution_count": 217,
   "outputs": [
    {
     "name": "stderr",
     "output_type": "stream",
     "text": [
      "/home/stoyan/university/football-prediction/data_engineering/remove_collinear_features.py:15: FutureWarning: The default value of numeric_only in DataFrame.corr is deprecated. In a future version, it will default to False. Select only valid columns or specify the value of numeric_only to silence this warning.\n",
      "  corr_matrix = df.corr()\n"
     ]
    },
    {
     "name": "stdout",
     "output_type": "stream",
     "text": [
      "Removed Columns {'passing_total_att', 'possession_receiving_prgr_rolling_avg', 'passing_short_att', 'possession_touches_live_rolling_avg', 'possession_touches_live', 'gca_gca_types_gca_rolling_avg', 'passing_short_att_rolling_avg', 'gca_sca_types_sca', 'shooting_expected_npxg_rolling_avg', 'passing_medium_cmp_rolling_avg', 'possession_receiving_rec_rolling_avg', 'passing_medium_att_rolling_avg', 'possession_carries_prgdist', 'passing_types_pass_types_live', 'gca_gca_types_gca', 'keeper_passes_avglen', 'misc_performance_off_rolling_avg', 'shooting_expected_np:g-xg', 'passing_total_totdist_rolling_avg', 'misc_performance_off', 'passing_medium_att', 'shooting_expected_np:g-xg_rolling_avg', 'passing_total_att_rolling_avg', 'possession_receiving_rec', 'possession_receiving_prgr', 'passing_types_pass_types_live_rolling_avg', 'passing_total_totdist', 'keeper_passes_avglen_rolling_avg', 'misc_performance_pkcon_rolling_avg', 'passing_medium_cmp', 'shooting_standard_gls_rolling_avg', 'gca_sca_types_sca_rolling_avg', 'keeper_goal_kicks_avglen_rolling_avg', 'possession_touches_touches_rolling_avg', 'keeper_goal_kicks_avglen', 'shooting_standard_gls', 'possession_touches_touches', 'possession_carries_prgdist_rolling_avg', 'misc_performance_pkcon'}\n"
     ]
    }
   ],
   "source": [
    "matches_df = remove_collinear_features(matches_df, 0.95)"
   ],
   "metadata": {
    "collapsed": false,
    "ExecuteTime": {
     "end_time": "2023-11-15T14:50:18.516144730Z",
     "start_time": "2023-11-15T14:50:16.580684535Z"
    }
   },
   "id": "406f19a3aa1986d2"
  },
  {
   "cell_type": "markdown",
   "source": [
    "Make predictions on the matches dataframe."
   ],
   "metadata": {
    "collapsed": false
   },
   "id": "352baad3dc502baa"
  },
  {
   "cell_type": "code",
   "execution_count": 218,
   "outputs": [
    {
     "name": "stdout",
     "output_type": "stream",
     "text": [
      "Train: 3435 matches (95.44%)\n",
      "Test: 164 matches (4.56%)\n",
      "Precision: 62.07%\n"
     ]
    }
   ],
   "source": [
    "predictors = ['opponent_code',\n",
    "              'venue_code',\n",
    "              'hour',\n",
    "              'day_code' ]\n",
    "predictors += [col for col in matches_df.columns if '_rolling_avg' in col]\n",
    "combined = make_predictions(matches_df, predictors)"
   ],
   "metadata": {
    "collapsed": false,
    "ExecuteTime": {
     "end_time": "2023-11-15T14:50:19.125638595Z",
     "start_time": "2023-11-15T14:50:18.522880415Z"
    }
   },
   "id": "bf10d57ac5885bdf"
  },
  {
   "cell_type": "code",
   "execution_count": 219,
   "outputs": [
    {
     "data": {
      "text/plain": "prediction  Loss/Draw  Win\nactual                    \nLoss/Draw          93   11\nWin                42   18",
      "text/html": "<div>\n<style scoped>\n    .dataframe tbody tr th:only-of-type {\n        vertical-align: middle;\n    }\n\n    .dataframe tbody tr th {\n        vertical-align: top;\n    }\n\n    .dataframe thead th {\n        text-align: right;\n    }\n</style>\n<table border=\"1\" class=\"dataframe\">\n  <thead>\n    <tr style=\"text-align: right;\">\n      <th>prediction</th>\n      <th>Loss/Draw</th>\n      <th>Win</th>\n    </tr>\n    <tr>\n      <th>actual</th>\n      <th></th>\n      <th></th>\n    </tr>\n  </thead>\n  <tbody>\n    <tr>\n      <th>Loss/Draw</th>\n      <td>93</td>\n      <td>11</td>\n    </tr>\n    <tr>\n      <th>Win</th>\n      <td>42</td>\n      <td>18</td>\n    </tr>\n  </tbody>\n</table>\n</div>"
     },
     "execution_count": 219,
     "metadata": {},
     "output_type": "execute_result"
    }
   ],
   "source": [
    "matrix_df = combined.copy()\n",
    "# Create a mapping dictionary for the replacements.\n",
    "# We want to make the confusion matrix easier to read.\n",
    "mapping = {0: 'Loss/Draw', 1: 'Win'}\n",
    "\n",
    "# Apply the replacements to the 'actual' and 'prediction' columns.\n",
    "matrix_df['actual'] = matrix_df['actual'].replace(mapping)\n",
    "matrix_df['prediction'] = matrix_df['prediction'].replace(mapping)\n",
    "\n",
    "# Create a confusion matrix.\n",
    "pd.crosstab(index=matrix_df['actual'], columns=matrix_df['prediction'])"
   ],
   "metadata": {
    "collapsed": false,
    "ExecuteTime": {
     "end_time": "2023-11-15T14:50:19.135193276Z",
     "start_time": "2023-11-15T14:50:19.129511703Z"
    }
   },
   "id": "9553c6c96ad30ac5"
  },
  {
   "cell_type": "markdown",
   "source": [
    "Merge to see predictions."
   ],
   "metadata": {
    "collapsed": false
   },
   "id": "5249cdec2a2d210e"
  },
  {
   "cell_type": "code",
   "execution_count": 220,
   "outputs": [
    {
     "data": {
      "text/plain": "      actual  prediction        date       team             opponent result\n257        0           0  2023-04-01   Augsburg            Wolfsburg      D\n258        0           0  2023-04-08   Augsburg                 Koln      L\n259        0           0  2023-04-15   Augsburg           RB Leipzig      L\n260        0           0  2023-04-21   Augsburg            Stuttgart      D\n261        0           0  2023-04-29   Augsburg  Eintracht Frankfurt      D\n...      ...         ...         ...        ...                  ...    ...\n3594       1           0  2023-04-30  Wolfsburg             Mainz 05      W\n3595       0           0  2023-05-07  Wolfsburg             Dortmund      L\n3596       1           0  2023-05-13  Wolfsburg           Hoffenheim      W\n3597       0           0  2023-05-19  Wolfsburg             Freiburg      L\n3598       0           0  2023-05-27  Wolfsburg           Hertha BSC      L\n\n[164 rows x 6 columns]",
      "text/html": "<div>\n<style scoped>\n    .dataframe tbody tr th:only-of-type {\n        vertical-align: middle;\n    }\n\n    .dataframe tbody tr th {\n        vertical-align: top;\n    }\n\n    .dataframe thead th {\n        text-align: right;\n    }\n</style>\n<table border=\"1\" class=\"dataframe\">\n  <thead>\n    <tr style=\"text-align: right;\">\n      <th></th>\n      <th>actual</th>\n      <th>prediction</th>\n      <th>date</th>\n      <th>team</th>\n      <th>opponent</th>\n      <th>result</th>\n    </tr>\n  </thead>\n  <tbody>\n    <tr>\n      <th>257</th>\n      <td>0</td>\n      <td>0</td>\n      <td>2023-04-01</td>\n      <td>Augsburg</td>\n      <td>Wolfsburg</td>\n      <td>D</td>\n    </tr>\n    <tr>\n      <th>258</th>\n      <td>0</td>\n      <td>0</td>\n      <td>2023-04-08</td>\n      <td>Augsburg</td>\n      <td>Koln</td>\n      <td>L</td>\n    </tr>\n    <tr>\n      <th>259</th>\n      <td>0</td>\n      <td>0</td>\n      <td>2023-04-15</td>\n      <td>Augsburg</td>\n      <td>RB Leipzig</td>\n      <td>L</td>\n    </tr>\n    <tr>\n      <th>260</th>\n      <td>0</td>\n      <td>0</td>\n      <td>2023-04-21</td>\n      <td>Augsburg</td>\n      <td>Stuttgart</td>\n      <td>D</td>\n    </tr>\n    <tr>\n      <th>261</th>\n      <td>0</td>\n      <td>0</td>\n      <td>2023-04-29</td>\n      <td>Augsburg</td>\n      <td>Eintracht Frankfurt</td>\n      <td>D</td>\n    </tr>\n    <tr>\n      <th>...</th>\n      <td>...</td>\n      <td>...</td>\n      <td>...</td>\n      <td>...</td>\n      <td>...</td>\n      <td>...</td>\n    </tr>\n    <tr>\n      <th>3594</th>\n      <td>1</td>\n      <td>0</td>\n      <td>2023-04-30</td>\n      <td>Wolfsburg</td>\n      <td>Mainz 05</td>\n      <td>W</td>\n    </tr>\n    <tr>\n      <th>3595</th>\n      <td>0</td>\n      <td>0</td>\n      <td>2023-05-07</td>\n      <td>Wolfsburg</td>\n      <td>Dortmund</td>\n      <td>L</td>\n    </tr>\n    <tr>\n      <th>3596</th>\n      <td>1</td>\n      <td>0</td>\n      <td>2023-05-13</td>\n      <td>Wolfsburg</td>\n      <td>Hoffenheim</td>\n      <td>W</td>\n    </tr>\n    <tr>\n      <th>3597</th>\n      <td>0</td>\n      <td>0</td>\n      <td>2023-05-19</td>\n      <td>Wolfsburg</td>\n      <td>Freiburg</td>\n      <td>L</td>\n    </tr>\n    <tr>\n      <th>3598</th>\n      <td>0</td>\n      <td>0</td>\n      <td>2023-05-27</td>\n      <td>Wolfsburg</td>\n      <td>Hertha BSC</td>\n      <td>L</td>\n    </tr>\n  </tbody>\n</table>\n<p>164 rows × 6 columns</p>\n</div>"
     },
     "execution_count": 220,
     "metadata": {},
     "output_type": "execute_result"
    }
   ],
   "source": [
    "combined = combined.merge(\n",
    "    matches_df[['date', 'team', 'opponent', 'result']],\n",
    "    left_index=True,\n",
    "    right_index=True\n",
    ")\n",
    "combined"
   ],
   "metadata": {
    "collapsed": false,
    "ExecuteTime": {
     "end_time": "2023-11-15T14:50:19.213337568Z",
     "start_time": "2023-11-15T14:50:19.135855649Z"
    }
   },
   "id": "3dd1fc78735db70a"
  },
  {
   "cell_type": "markdown",
   "source": [
    "The dataframe above has two rows per match - one containing the prediction for the home team, and one containing the prediction for the away team. We want to combine these two rows into one row per match."
   ],
   "metadata": {
    "collapsed": false
   },
   "id": "50dfd07accfa257c"
  },
  {
   "cell_type": "code",
   "execution_count": 221,
   "outputs": [
    {
     "data": {
      "text/plain": "     actual_x  prediction_x        date     team_x           opponent_x  \\\n0           0             0  2023-04-01   Augsburg            Wolfsburg   \n1           0             0  2023-04-08   Augsburg                 Koln   \n2           0             0  2023-04-15   Augsburg           RB Leipzig   \n3           0             0  2023-04-21   Augsburg            Stuttgart   \n4           0             0  2023-04-29   Augsburg  Eintracht Frankfurt   \n..        ...           ...         ...        ...                  ...   \n155         1             0  2023-04-30  Wolfsburg             Mainz 05   \n156         0             0  2023-05-07  Wolfsburg             Dortmund   \n157         1             0  2023-05-13  Wolfsburg           Hoffenheim   \n158         0             0  2023-05-19  Wolfsburg             Freiburg   \n159         0             0  2023-05-27  Wolfsburg           Hertha BSC   \n\n    result_x  actual_y  prediction_y               team_y opponent_y result_y  \n0          D         0             0            Wolfsburg   Augsburg        D  \n1          L         1             0                 Koln   Augsburg        W  \n2          L         1             0           RB Leipzig   Augsburg        W  \n3          D         0             0            Stuttgart   Augsburg        D  \n4          D         0             1  Eintracht Frankfurt   Augsburg        D  \n..       ...       ...           ...                  ...        ...      ...  \n155        W         0             0             Mainz 05  Wolfsburg        L  \n156        L         1             1             Dortmund  Wolfsburg        W  \n157        W         0             0           Hoffenheim  Wolfsburg        L  \n158        L         1             0             Freiburg  Wolfsburg        W  \n159        L         1             0           Hertha BSC  Wolfsburg        W  \n\n[160 rows x 11 columns]",
      "text/html": "<div>\n<style scoped>\n    .dataframe tbody tr th:only-of-type {\n        vertical-align: middle;\n    }\n\n    .dataframe tbody tr th {\n        vertical-align: top;\n    }\n\n    .dataframe thead th {\n        text-align: right;\n    }\n</style>\n<table border=\"1\" class=\"dataframe\">\n  <thead>\n    <tr style=\"text-align: right;\">\n      <th></th>\n      <th>actual_x</th>\n      <th>prediction_x</th>\n      <th>date</th>\n      <th>team_x</th>\n      <th>opponent_x</th>\n      <th>result_x</th>\n      <th>actual_y</th>\n      <th>prediction_y</th>\n      <th>team_y</th>\n      <th>opponent_y</th>\n      <th>result_y</th>\n    </tr>\n  </thead>\n  <tbody>\n    <tr>\n      <th>0</th>\n      <td>0</td>\n      <td>0</td>\n      <td>2023-04-01</td>\n      <td>Augsburg</td>\n      <td>Wolfsburg</td>\n      <td>D</td>\n      <td>0</td>\n      <td>0</td>\n      <td>Wolfsburg</td>\n      <td>Augsburg</td>\n      <td>D</td>\n    </tr>\n    <tr>\n      <th>1</th>\n      <td>0</td>\n      <td>0</td>\n      <td>2023-04-08</td>\n      <td>Augsburg</td>\n      <td>Koln</td>\n      <td>L</td>\n      <td>1</td>\n      <td>0</td>\n      <td>Koln</td>\n      <td>Augsburg</td>\n      <td>W</td>\n    </tr>\n    <tr>\n      <th>2</th>\n      <td>0</td>\n      <td>0</td>\n      <td>2023-04-15</td>\n      <td>Augsburg</td>\n      <td>RB Leipzig</td>\n      <td>L</td>\n      <td>1</td>\n      <td>0</td>\n      <td>RB Leipzig</td>\n      <td>Augsburg</td>\n      <td>W</td>\n    </tr>\n    <tr>\n      <th>3</th>\n      <td>0</td>\n      <td>0</td>\n      <td>2023-04-21</td>\n      <td>Augsburg</td>\n      <td>Stuttgart</td>\n      <td>D</td>\n      <td>0</td>\n      <td>0</td>\n      <td>Stuttgart</td>\n      <td>Augsburg</td>\n      <td>D</td>\n    </tr>\n    <tr>\n      <th>4</th>\n      <td>0</td>\n      <td>0</td>\n      <td>2023-04-29</td>\n      <td>Augsburg</td>\n      <td>Eintracht Frankfurt</td>\n      <td>D</td>\n      <td>0</td>\n      <td>1</td>\n      <td>Eintracht Frankfurt</td>\n      <td>Augsburg</td>\n      <td>D</td>\n    </tr>\n    <tr>\n      <th>...</th>\n      <td>...</td>\n      <td>...</td>\n      <td>...</td>\n      <td>...</td>\n      <td>...</td>\n      <td>...</td>\n      <td>...</td>\n      <td>...</td>\n      <td>...</td>\n      <td>...</td>\n      <td>...</td>\n    </tr>\n    <tr>\n      <th>155</th>\n      <td>1</td>\n      <td>0</td>\n      <td>2023-04-30</td>\n      <td>Wolfsburg</td>\n      <td>Mainz 05</td>\n      <td>W</td>\n      <td>0</td>\n      <td>0</td>\n      <td>Mainz 05</td>\n      <td>Wolfsburg</td>\n      <td>L</td>\n    </tr>\n    <tr>\n      <th>156</th>\n      <td>0</td>\n      <td>0</td>\n      <td>2023-05-07</td>\n      <td>Wolfsburg</td>\n      <td>Dortmund</td>\n      <td>L</td>\n      <td>1</td>\n      <td>1</td>\n      <td>Dortmund</td>\n      <td>Wolfsburg</td>\n      <td>W</td>\n    </tr>\n    <tr>\n      <th>157</th>\n      <td>1</td>\n      <td>0</td>\n      <td>2023-05-13</td>\n      <td>Wolfsburg</td>\n      <td>Hoffenheim</td>\n      <td>W</td>\n      <td>0</td>\n      <td>0</td>\n      <td>Hoffenheim</td>\n      <td>Wolfsburg</td>\n      <td>L</td>\n    </tr>\n    <tr>\n      <th>158</th>\n      <td>0</td>\n      <td>0</td>\n      <td>2023-05-19</td>\n      <td>Wolfsburg</td>\n      <td>Freiburg</td>\n      <td>L</td>\n      <td>1</td>\n      <td>0</td>\n      <td>Freiburg</td>\n      <td>Wolfsburg</td>\n      <td>W</td>\n    </tr>\n    <tr>\n      <th>159</th>\n      <td>0</td>\n      <td>0</td>\n      <td>2023-05-27</td>\n      <td>Wolfsburg</td>\n      <td>Hertha BSC</td>\n      <td>L</td>\n      <td>1</td>\n      <td>0</td>\n      <td>Hertha BSC</td>\n      <td>Wolfsburg</td>\n      <td>W</td>\n    </tr>\n  </tbody>\n</table>\n<p>160 rows × 11 columns</p>\n</div>"
     },
     "execution_count": 221,
     "metadata": {},
     "output_type": "execute_result"
    }
   ],
   "source": [
    "merged = combined.merge(combined, left_on=['date', 'team'], right_on=['date', 'opponent'])\n",
    "merged"
   ],
   "metadata": {
    "collapsed": false,
    "ExecuteTime": {
     "end_time": "2023-11-15T14:50:19.213960970Z",
     "start_time": "2023-11-15T14:50:19.163691026Z"
    }
   },
   "id": "285ea337e29d938e"
  },
  {
   "cell_type": "markdown",
   "source": [
    "Get the rows where we predicted that **the home team would win and the away team would lose**."
   ],
   "metadata": {
    "collapsed": false
   },
   "id": "6f758fc96c0316ab"
  },
  {
   "cell_type": "code",
   "execution_count": 222,
   "outputs": [
    {
     "name": "stdout",
     "output_type": "stream",
     "text": [
      "Precision: 62.96%\n"
     ]
    }
   ],
   "source": [
    "precision_df = merged[(merged['prediction_x'] == 1) & (merged['prediction_y'] == 0)]['actual_x'].value_counts()\n",
    "precision = precision_df.iloc[0] / (precision_df.iloc[0] + precision_df.iloc[1]) * 100\n",
    "print(f'Precision: {precision:.2f}%')"
   ],
   "metadata": {
    "collapsed": false,
    "ExecuteTime": {
     "end_time": "2023-11-15T14:50:19.240108916Z",
     "start_time": "2023-11-15T14:50:19.182875327Z"
    }
   },
   "id": "5165c2ab4cd7a0cb"
  }
 ],
 "metadata": {
  "kernelspec": {
   "display_name": "Python 3",
   "language": "python",
   "name": "python3"
  },
  "language_info": {
   "codemirror_mode": {
    "name": "ipython",
    "version": 2
   },
   "file_extension": ".py",
   "mimetype": "text/x-python",
   "name": "python",
   "nbconvert_exporter": "python",
   "pygments_lexer": "ipython2",
   "version": "2.7.6"
  }
 },
 "nbformat": 4,
 "nbformat_minor": 5
}
