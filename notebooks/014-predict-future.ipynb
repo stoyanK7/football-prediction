{
 "cells": [
  {
   "cell_type": "code",
   "execution_count": 28,
   "outputs": [],
   "source": [
    "from settings import PROCESSED_DATA_DIR\n",
    "import pandas as pd\n",
    "from pathlib import Path\n",
    "from reduce_memory_usage import reduce_memory_usage\n",
    "from sklearn.metrics import precision_score\n",
    "import numpy as np"
   ],
   "metadata": {
    "collapsed": false,
    "ExecuteTime": {
     "end_time": "2023-12-07T20:04:47.545945580Z",
     "start_time": "2023-12-07T20:04:47.538252311Z"
    }
   },
   "id": "9cf35d66681feb21"
  },
  {
   "cell_type": "code",
   "execution_count": 29,
   "outputs": [
    {
     "name": "stdout",
     "output_type": "stream",
     "text": [
      "Memory usage of dataframe is 4.627826690673828 MB\n",
      "Memory usage of dataframe after reduction 1.2287025451660156 MB\n",
      "Reduced by 73.44968540757709 % \n"
     ]
    }
   ],
   "source": [
    "df = pd.read_csv(Path(PROCESSED_DATA_DIR, 'bundesliga_matches.csv'))\n",
    "df = reduce_memory_usage(df)\n",
    "df['info_date'] = pd.to_datetime(df['info_date'])\n",
    "df = df.sort_values(by=['info_date'])"
   ],
   "metadata": {
    "collapsed": false,
    "ExecuteTime": {
     "end_time": "2023-12-07T20:04:47.709776239Z",
     "start_time": "2023-12-07T20:04:47.548039345Z"
    }
   },
   "id": "a2a8bc3705a36a01"
  },
  {
   "cell_type": "code",
   "execution_count": 30,
   "id": "initial_id",
   "metadata": {
    "collapsed": true,
    "ExecuteTime": {
     "end_time": "2023-12-07T20:04:47.710117762Z",
     "start_time": "2023-12-07T20:04:47.708416015Z"
    }
   },
   "outputs": [],
   "source": [
    "def predict(data, cutoff_date, model):\n",
    "    \"\"\"\n",
    "    Make predictions using the random forest classifier.\n",
    "\n",
    "    :param data: the dataframe to use\n",
    "    :param cutoff_date: the date to use for splitting the data into train and test sets\n",
    "    :param model: \n",
    "    :return: combined: a dataframe containing the actual and predicted values\n",
    "    \"\"\"\n",
    "    data = data.copy()\n",
    "    # Pick the predictor columns.\n",
    "    predictors = [c for c in data.columns if c.startswith('feat_')]\n",
    "\n",
    "    train_set = data[data['info_date'] < cutoff_date]\n",
    "    test_set = data[(data['info_date'] >= cutoff_date)]\n",
    "\n",
    "    # Fit (train) the model.\n",
    "    model.fit(train_set[predictors], train_set['target'])\n",
    "\n",
    "    # Make predictions on the test dataset and calculate the precision score.\n",
    "    predictions = model.predict(test_set[predictors])\n",
    "\n",
    "    # Create a dataframe containing the actual and predicted values.\n",
    "    combined = pd.DataFrame(\n",
    "        dict(actual=test_set['target'], prediction=predictions),\n",
    "        index=test_set.index\n",
    "    )\n",
    "\n",
    "    return combined"
   ]
  },
  {
   "cell_type": "code",
   "execution_count": 31,
   "outputs": [],
   "source": [
    "from sklearn.ensemble import RandomForestClassifier\n",
    "\n",
    "# Create a random forest classifier.\n",
    "model = RandomForestClassifier(\n",
    "    n_estimators=100,\n",
    "    max_depth=5,\n",
    "    min_samples_leaf=10,\n",
    "    random_state=1\n",
    ")\n",
    "combined_df = predict(df, '2023-12-07', model)"
   ],
   "metadata": {
    "collapsed": false,
    "ExecuteTime": {
     "end_time": "2023-12-07T20:04:48.318186231Z",
     "start_time": "2023-12-07T20:04:47.708528948Z"
    }
   },
   "id": "4eaeac8e7c73c439"
  },
  {
   "cell_type": "code",
   "execution_count": 36,
   "outputs": [
    {
     "data": {
      "text/plain": "                  info_match_id_x  prediction_x info_venue_x\n5  2023-12-09_Dortmund_RB Leipzig             1         Away",
      "text/html": "<div>\n<style scoped>\n    .dataframe tbody tr th:only-of-type {\n        vertical-align: middle;\n    }\n\n    .dataframe tbody tr th {\n        vertical-align: top;\n    }\n\n    .dataframe thead th {\n        text-align: right;\n    }\n</style>\n<table border=\"1\" class=\"dataframe\">\n  <thead>\n    <tr style=\"text-align: right;\">\n      <th></th>\n      <th>info_match_id_x</th>\n      <th>prediction_x</th>\n      <th>info_venue_x</th>\n    </tr>\n  </thead>\n  <tbody>\n    <tr>\n      <th>5</th>\n      <td>2023-12-09_Dortmund_RB Leipzig</td>\n      <td>1</td>\n      <td>Away</td>\n    </tr>\n  </tbody>\n</table>\n</div>"
     },
     "execution_count": 36,
     "metadata": {},
     "output_type": "execute_result"
    }
   ],
   "source": [
    "temp_df = df.copy().merge(\n",
    "    combined_df,\n",
    "    left_index=True,\n",
    "    right_index=True\n",
    ")\n",
    "# Merge with itself to get the predictions of both teams in the same row.\n",
    "temp_df = temp_df.merge(\n",
    "    temp_df, left_on=['info_date', 'info_team'], right_on=['info_date', 'info_opponent']\n",
    ")\n",
    "precision_df = temp_df[(temp_df['prediction_x'] == 1) & (temp_df['prediction_y'] == 0)]\n",
    "precision_df[['info_match_id_x', 'prediction_x', 'info_venue_x']]"
   ],
   "metadata": {
    "collapsed": false,
    "ExecuteTime": {
     "end_time": "2023-12-07T20:06:53.591849653Z",
     "start_time": "2023-12-07T20:06:53.579470117Z"
    }
   },
   "id": "2b28527a7110c70d"
  },
  {
   "cell_type": "code",
   "execution_count": 49,
   "outputs": [],
   "source": [
    "from settings import ROOT_DIR\n",
    "import codecs\n",
    "import datetime\n",
    "from jinja2 import Template\n",
    "\n",
    "# Load the template.\n",
    "with open(Path(ROOT_DIR, 'notebooks/template.md')) as f:\n",
    "    template = Template(f.read())\n",
    "rendered_file = template.render(\n",
    "    date_today=datetime.datetime.now().strftime('%Y-%m-%d'),\n",
    "    matches=precision_df[['info_team_x', 'info_opponent_x', 'info_venue_x', 'info_date']].to_dict('records')\n",
    ")\n",
    "\n",
    "output_file = codecs.open(\"report.md\", \"w\", \"utf-8\")\n",
    "output_file.write(rendered_file)\n",
    "output_file.close()"
   ],
   "metadata": {
    "collapsed": false,
    "ExecuteTime": {
     "end_time": "2023-12-07T20:18:30.557118950Z",
     "start_time": "2023-12-07T20:18:30.507226560Z"
    }
   },
   "id": "57856017fa4e8350"
  }
 ],
 "metadata": {
  "kernelspec": {
   "display_name": "Python 3",
   "language": "python",
   "name": "python3"
  },
  "language_info": {
   "codemirror_mode": {
    "name": "ipython",
    "version": 2
   },
   "file_extension": ".py",
   "mimetype": "text/x-python",
   "name": "python",
   "nbconvert_exporter": "python",
   "pygments_lexer": "ipython2",
   "version": "2.7.6"
  }
 },
 "nbformat": 4,
 "nbformat_minor": 5
}
