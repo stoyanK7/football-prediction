{
 "cells": [
  {
   "cell_type": "code",
   "execution_count": 360,
   "id": "initial_id",
   "metadata": {
    "collapsed": true,
    "ExecuteTime": {
     "end_time": "2023-11-26T19:36:45.995762536Z",
     "start_time": "2023-11-26T19:36:45.930900392Z"
    }
   },
   "outputs": [],
   "source": [
    "from pathlib import Path\n",
    "import pandas as pd\n",
    "from settings import PROCESSED_DATA_DIR\n",
    "from reduce_memory_usage import reduce_memory_usage\n",
    "\n",
    "matches_df = pd.read_csv(Path(PROCESSED_DATA_DIR, 'bundesliga_matches.csv'))\n",
    "\n",
    "# matches_df = reduce_memory_usage(matches_df)"
   ]
  },
  {
   "cell_type": "code",
   "execution_count": 361,
   "outputs": [],
   "source": [
    "from sklearn.metrics import precision_score\n",
    "from sklearn.ensemble import RandomForestClassifier\n",
    "\n",
    "\n",
    "def make_predictions(data, cutoff_date='2023-04-01'):\n",
    "    \"\"\"\n",
    "    Make predictions using the random forest classifier.\n",
    "\n",
    "    :param data: the dataframe to use\n",
    "    :param cutoff_date: the date to use for splitting the data into train and test sets\n",
    "    :return: combined: a dataframe containing the actual and predicted values\n",
    "    \"\"\"\n",
    "    # Pick the predictor columns.\n",
    "    predictors = [c for c in matches_df.columns if c.startswith('feat_')]\n",
    "\n",
    "    # Split the data into train and test sets.\n",
    "    train_set = data[data['info_date'] < cutoff_date]\n",
    "    test_set = data[data['info_date'] >= cutoff_date]\n",
    "    print(f'Train: {len(train_set)} matches ({len(train_set) / len(data):.2%})')\n",
    "    print(f'Test: {len(test_set)} matches ({len(test_set) / len(data):.2%})')\n",
    "\n",
    "    # Create and fit (train) the model.\n",
    "    model = RandomForestClassifier(\n",
    "        n_estimators=50,  # number of trees in the forest\n",
    "        min_samples_split=10,  # number of samples required to split an internal node\n",
    "        random_state=1  # seed\n",
    "    )\n",
    "    model.fit(train_set[predictors], train_set['target'])\n",
    "\n",
    "    # Make predictions on the test dataset and calculate the precision score.\n",
    "    predictions = model.predict(test_set[predictors])\n",
    "    precision = precision_score(test_set['target'], predictions)\n",
    "    print(f'Precision: {precision:.2%}')\n",
    "\n",
    "    # Create a dataframe containing the actual and predicted values.\n",
    "    combined = pd.DataFrame(\n",
    "        dict(actual=test_set['target'], prediction=predictions),\n",
    "        index=test_set.index\n",
    "    )\n",
    "    return combined"
   ],
   "metadata": {
    "collapsed": false,
    "ExecuteTime": {
     "end_time": "2023-11-26T19:36:45.996747575Z",
     "start_time": "2023-11-26T19:36:45.994860538Z"
    }
   },
   "id": "d16e06ba40eb3afc"
  },
  {
   "cell_type": "code",
   "execution_count": 362,
   "outputs": [
    {
     "name": "stdout",
     "output_type": "stream",
     "text": [
      "Train: 3695 matches (97.52%)\n",
      "Test: 94 matches (2.48%)\n",
      "Precision: 76.47%\n"
     ]
    }
   ],
   "source": [
    "combined = make_predictions(matches_df, cutoff_date='2023-10-01')"
   ],
   "metadata": {
    "collapsed": false,
    "ExecuteTime": {
     "end_time": "2023-11-26T19:36:46.857363403Z",
     "start_time": "2023-11-26T19:36:45.997571840Z"
    }
   },
   "id": "7f312d4e91e4be7c"
  },
  {
   "cell_type": "code",
   "execution_count": 363,
   "outputs": [],
   "source": [
    "def pick_confident_matches(df):\n",
    "    merged = combined.merge(combined, left_on=['info_date', 'info_team'], right_on=['info_date', 'info_opponent'])\n",
    "    high_confidence_matches_df = df[(merged['prediction_x'] == 1) & (df['prediction_y'] == 0)]\n",
    "    precision_df = high_confidence_matches_df['actual_x'].value_counts()\n",
    "    precision = precision_df.iloc[0] / (precision_df.iloc[0] + precision_df.iloc[1]) * 100\n",
    "    print(f'Precision: {precision:.2f}%')\n",
    "    return high_confidence_matches_df"
   ],
   "metadata": {
    "collapsed": false,
    "ExecuteTime": {
     "end_time": "2023-11-26T19:36:46.860753910Z",
     "start_time": "2023-11-26T19:36:46.858959622Z"
    }
   },
   "id": "92446901e51188f3"
  },
  {
   "cell_type": "code",
   "execution_count": 364,
   "outputs": [],
   "source": [
    "combined = combined.merge(\n",
    "    matches_df,\n",
    "    left_index=True,\n",
    "    right_index=True\n",
    ")"
   ],
   "metadata": {
    "collapsed": false,
    "ExecuteTime": {
     "end_time": "2023-11-26T19:36:46.890062036Z",
     "start_time": "2023-11-26T19:36:46.861905590Z"
    }
   },
   "id": "240562316d1c4fe8"
  },
  {
   "cell_type": "code",
   "execution_count": 365,
   "outputs": [
    {
     "data": {
      "text/plain": "                                  key  actual  prediction  \\\n271      2023-10-01_Freiburg_Augsburg       0           0   \n272  2023-10-07_Augsburg_Darmstadt 98       0           0   \n273    2023-10-22_Heidenheim_Augsburg       1           0   \n274     2023-10-28_Augsburg_Wolfsburg       1           0   \n275          2023-11-04_Koln_Augsburg       0           0   \n\n     feat_gf_rolling_avg  feat_ga_rolling_avg  feat_xg_rolling_avg  \\\n271             1.333333             2.000000             1.466667   \n272             0.666667             2.000000             1.100000   \n273             1.000000             1.666667             0.833333   \n274             2.000000             2.000000             1.400000   \n275             3.000000             2.000000             1.600000   \n\n     feat_xga_rolling_avg  feat_poss_rolling_avg  feat_attendance_rolling_avg  \\\n271              1.100000              41.666667                 33160.000000   \n272              0.900000              44.666667                 35063.333333   \n273              1.133333              45.333333                 29881.333333   \n274              1.433333              45.333333                 25778.000000   \n275              1.566667              43.000000                 24066.666667   \n\n     feat_shooting_standard_sh_rolling_avg  ...  feat_opponent_code  \\\n271                              10.666667  ...                   9   \n272                              11.333333  ...                   5   \n273                              12.000000  ...                  13   \n274                              13.000000  ...                  26   \n275                              11.333333  ...                  16   \n\n     feat_venue_code  feat_hour  feat_day_code  feat_month_code  target  \\\n271                0         17              6               10       0   \n272                1         15              5               10       0   \n273                0         17              6               10       1   \n274                1         15              5               10       1   \n275                0         15              5               11       0   \n\n      info_date  info_team  info_opponent  info_venue  \n271  2023-10-01   Augsburg       Freiburg        Away  \n272  2023-10-07   Augsburg   Darmstadt 98        Home  \n273  2023-10-22   Augsburg     Heidenheim        Away  \n274  2023-10-28   Augsburg      Wolfsburg        Home  \n275  2023-11-04   Augsburg           Koln        Away  \n\n[5 rows x 160 columns]",
      "text/html": "<div>\n<style scoped>\n    .dataframe tbody tr th:only-of-type {\n        vertical-align: middle;\n    }\n\n    .dataframe tbody tr th {\n        vertical-align: top;\n    }\n\n    .dataframe thead th {\n        text-align: right;\n    }\n</style>\n<table border=\"1\" class=\"dataframe\">\n  <thead>\n    <tr style=\"text-align: right;\">\n      <th></th>\n      <th>key</th>\n      <th>actual</th>\n      <th>prediction</th>\n      <th>feat_gf_rolling_avg</th>\n      <th>feat_ga_rolling_avg</th>\n      <th>feat_xg_rolling_avg</th>\n      <th>feat_xga_rolling_avg</th>\n      <th>feat_poss_rolling_avg</th>\n      <th>feat_attendance_rolling_avg</th>\n      <th>feat_shooting_standard_sh_rolling_avg</th>\n      <th>...</th>\n      <th>feat_opponent_code</th>\n      <th>feat_venue_code</th>\n      <th>feat_hour</th>\n      <th>feat_day_code</th>\n      <th>feat_month_code</th>\n      <th>target</th>\n      <th>info_date</th>\n      <th>info_team</th>\n      <th>info_opponent</th>\n      <th>info_venue</th>\n    </tr>\n  </thead>\n  <tbody>\n    <tr>\n      <th>271</th>\n      <td>2023-10-01_Freiburg_Augsburg</td>\n      <td>0</td>\n      <td>0</td>\n      <td>1.333333</td>\n      <td>2.000000</td>\n      <td>1.466667</td>\n      <td>1.100000</td>\n      <td>41.666667</td>\n      <td>33160.000000</td>\n      <td>10.666667</td>\n      <td>...</td>\n      <td>9</td>\n      <td>0</td>\n      <td>17</td>\n      <td>6</td>\n      <td>10</td>\n      <td>0</td>\n      <td>2023-10-01</td>\n      <td>Augsburg</td>\n      <td>Freiburg</td>\n      <td>Away</td>\n    </tr>\n    <tr>\n      <th>272</th>\n      <td>2023-10-07_Augsburg_Darmstadt 98</td>\n      <td>0</td>\n      <td>0</td>\n      <td>0.666667</td>\n      <td>2.000000</td>\n      <td>1.100000</td>\n      <td>0.900000</td>\n      <td>44.666667</td>\n      <td>35063.333333</td>\n      <td>11.333333</td>\n      <td>...</td>\n      <td>5</td>\n      <td>1</td>\n      <td>15</td>\n      <td>5</td>\n      <td>10</td>\n      <td>0</td>\n      <td>2023-10-07</td>\n      <td>Augsburg</td>\n      <td>Darmstadt 98</td>\n      <td>Home</td>\n    </tr>\n    <tr>\n      <th>273</th>\n      <td>2023-10-22_Heidenheim_Augsburg</td>\n      <td>1</td>\n      <td>0</td>\n      <td>1.000000</td>\n      <td>1.666667</td>\n      <td>0.833333</td>\n      <td>1.133333</td>\n      <td>45.333333</td>\n      <td>29881.333333</td>\n      <td>12.000000</td>\n      <td>...</td>\n      <td>13</td>\n      <td>0</td>\n      <td>17</td>\n      <td>6</td>\n      <td>10</td>\n      <td>1</td>\n      <td>2023-10-22</td>\n      <td>Augsburg</td>\n      <td>Heidenheim</td>\n      <td>Away</td>\n    </tr>\n    <tr>\n      <th>274</th>\n      <td>2023-10-28_Augsburg_Wolfsburg</td>\n      <td>1</td>\n      <td>0</td>\n      <td>2.000000</td>\n      <td>2.000000</td>\n      <td>1.400000</td>\n      <td>1.433333</td>\n      <td>45.333333</td>\n      <td>25778.000000</td>\n      <td>13.000000</td>\n      <td>...</td>\n      <td>26</td>\n      <td>1</td>\n      <td>15</td>\n      <td>5</td>\n      <td>10</td>\n      <td>1</td>\n      <td>2023-10-28</td>\n      <td>Augsburg</td>\n      <td>Wolfsburg</td>\n      <td>Home</td>\n    </tr>\n    <tr>\n      <th>275</th>\n      <td>2023-11-04_Koln_Augsburg</td>\n      <td>0</td>\n      <td>0</td>\n      <td>3.000000</td>\n      <td>2.000000</td>\n      <td>1.600000</td>\n      <td>1.566667</td>\n      <td>43.000000</td>\n      <td>24066.666667</td>\n      <td>11.333333</td>\n      <td>...</td>\n      <td>16</td>\n      <td>0</td>\n      <td>15</td>\n      <td>5</td>\n      <td>11</td>\n      <td>0</td>\n      <td>2023-11-04</td>\n      <td>Augsburg</td>\n      <td>Koln</td>\n      <td>Away</td>\n    </tr>\n  </tbody>\n</table>\n<p>5 rows × 160 columns</p>\n</div>"
     },
     "execution_count": 365,
     "metadata": {},
     "output_type": "execute_result"
    }
   ],
   "source": [
    "combined.insert(0,'key','')\n",
    "combined['key'] = combined.apply(\n",
    "    lambda x: f\"{x['info_date']}_{x['info_team']}_{x['info_opponent']}\" if x['info_venue'] == 'Home' else f\"{x['info_date']}_{x['info_opponent']}_{x['info_team']}\",\n",
    "    axis=1\n",
    ")\n",
    "combined.head()"
   ],
   "metadata": {
    "collapsed": false,
    "ExecuteTime": {
     "end_time": "2023-11-26T19:36:46.907268233Z",
     "start_time": "2023-11-26T19:36:46.889251041Z"
    }
   },
   "id": "8eb0f0ecda723392"
  },
  {
   "cell_type": "code",
   "execution_count": 366,
   "outputs": [],
   "source": [
    "from settings import INTERIM_DATA_DIR\n",
    "\n",
    "odds_df = pd.read_csv(Path(INTERIM_DATA_DIR, 'bundesliga_odds.csv'))"
   ],
   "metadata": {
    "collapsed": false,
    "ExecuteTime": {
     "end_time": "2023-11-26T19:36:46.960649754Z",
     "start_time": "2023-11-26T19:36:46.907949603Z"
    }
   },
   "id": "e56d759fbd99c485"
  },
  {
   "cell_type": "code",
   "execution_count": 367,
   "outputs": [
    {
     "data": {
      "text/plain": "                                            key  fthg  ftag ftr  hthg  htag  \\\n0  2022-08-05_Eintracht Frankfurt_Bayern Munich     1     6   A     0     5   \n1                  2022-08-06_Augsburg_Freiburg     0     4   A     0     0   \n2                    2022-08-06_Bochum_Mainz 05     1     2   A     1     1   \n3         2022-08-06_Monchengladbach_Hoffenheim     3     1   H     1     1   \n4            2022-08-06_Union Berlin_Hertha BSC     3     1   H     1     0   \n\n  htr  hs  as  hst  ...  bbmx>2.5  bbav>2.5  bbmx<2.5  bbav<2.5  bbah  bbahh  \\\n0   A   8  23    2  ...       NaN       NaN       NaN       NaN   NaN    NaN   \n1   D  10  19    2  ...       NaN       NaN       NaN       NaN   NaN    NaN   \n2   D  16  13    3  ...       NaN       NaN       NaN       NaN   NaN    NaN   \n3   D  18   2    8  ...       NaN       NaN       NaN       NaN   NaN    NaN   \n4   H  18   9    8  ...       NaN       NaN       NaN       NaN   NaN    NaN   \n\n   bbmxahh  bbavahh  bbmxaha  bbavaha  \n0      NaN      NaN      NaN      NaN  \n1      NaN      NaN      NaN      NaN  \n2      NaN      NaN      NaN      NaN  \n3      NaN      NaN      NaN      NaN  \n4      NaN      NaN      NaN      NaN  \n\n[5 rows x 122 columns]",
      "text/html": "<div>\n<style scoped>\n    .dataframe tbody tr th:only-of-type {\n        vertical-align: middle;\n    }\n\n    .dataframe tbody tr th {\n        vertical-align: top;\n    }\n\n    .dataframe thead th {\n        text-align: right;\n    }\n</style>\n<table border=\"1\" class=\"dataframe\">\n  <thead>\n    <tr style=\"text-align: right;\">\n      <th></th>\n      <th>key</th>\n      <th>fthg</th>\n      <th>ftag</th>\n      <th>ftr</th>\n      <th>hthg</th>\n      <th>htag</th>\n      <th>htr</th>\n      <th>hs</th>\n      <th>as</th>\n      <th>hst</th>\n      <th>...</th>\n      <th>bbmx&gt;2.5</th>\n      <th>bbav&gt;2.5</th>\n      <th>bbmx&lt;2.5</th>\n      <th>bbav&lt;2.5</th>\n      <th>bbah</th>\n      <th>bbahh</th>\n      <th>bbmxahh</th>\n      <th>bbavahh</th>\n      <th>bbmxaha</th>\n      <th>bbavaha</th>\n    </tr>\n  </thead>\n  <tbody>\n    <tr>\n      <th>0</th>\n      <td>2022-08-05_Eintracht Frankfurt_Bayern Munich</td>\n      <td>1</td>\n      <td>6</td>\n      <td>A</td>\n      <td>0</td>\n      <td>5</td>\n      <td>A</td>\n      <td>8</td>\n      <td>23</td>\n      <td>2</td>\n      <td>...</td>\n      <td>NaN</td>\n      <td>NaN</td>\n      <td>NaN</td>\n      <td>NaN</td>\n      <td>NaN</td>\n      <td>NaN</td>\n      <td>NaN</td>\n      <td>NaN</td>\n      <td>NaN</td>\n      <td>NaN</td>\n    </tr>\n    <tr>\n      <th>1</th>\n      <td>2022-08-06_Augsburg_Freiburg</td>\n      <td>0</td>\n      <td>4</td>\n      <td>A</td>\n      <td>0</td>\n      <td>0</td>\n      <td>D</td>\n      <td>10</td>\n      <td>19</td>\n      <td>2</td>\n      <td>...</td>\n      <td>NaN</td>\n      <td>NaN</td>\n      <td>NaN</td>\n      <td>NaN</td>\n      <td>NaN</td>\n      <td>NaN</td>\n      <td>NaN</td>\n      <td>NaN</td>\n      <td>NaN</td>\n      <td>NaN</td>\n    </tr>\n    <tr>\n      <th>2</th>\n      <td>2022-08-06_Bochum_Mainz 05</td>\n      <td>1</td>\n      <td>2</td>\n      <td>A</td>\n      <td>1</td>\n      <td>1</td>\n      <td>D</td>\n      <td>16</td>\n      <td>13</td>\n      <td>3</td>\n      <td>...</td>\n      <td>NaN</td>\n      <td>NaN</td>\n      <td>NaN</td>\n      <td>NaN</td>\n      <td>NaN</td>\n      <td>NaN</td>\n      <td>NaN</td>\n      <td>NaN</td>\n      <td>NaN</td>\n      <td>NaN</td>\n    </tr>\n    <tr>\n      <th>3</th>\n      <td>2022-08-06_Monchengladbach_Hoffenheim</td>\n      <td>3</td>\n      <td>1</td>\n      <td>H</td>\n      <td>1</td>\n      <td>1</td>\n      <td>D</td>\n      <td>18</td>\n      <td>2</td>\n      <td>8</td>\n      <td>...</td>\n      <td>NaN</td>\n      <td>NaN</td>\n      <td>NaN</td>\n      <td>NaN</td>\n      <td>NaN</td>\n      <td>NaN</td>\n      <td>NaN</td>\n      <td>NaN</td>\n      <td>NaN</td>\n      <td>NaN</td>\n    </tr>\n    <tr>\n      <th>4</th>\n      <td>2022-08-06_Union Berlin_Hertha BSC</td>\n      <td>3</td>\n      <td>1</td>\n      <td>H</td>\n      <td>1</td>\n      <td>0</td>\n      <td>H</td>\n      <td>18</td>\n      <td>9</td>\n      <td>8</td>\n      <td>...</td>\n      <td>NaN</td>\n      <td>NaN</td>\n      <td>NaN</td>\n      <td>NaN</td>\n      <td>NaN</td>\n      <td>NaN</td>\n      <td>NaN</td>\n      <td>NaN</td>\n      <td>NaN</td>\n      <td>NaN</td>\n    </tr>\n  </tbody>\n</table>\n<p>5 rows × 122 columns</p>\n</div>"
     },
     "execution_count": 367,
     "metadata": {},
     "output_type": "execute_result"
    }
   ],
   "source": [
    "odds_df.insert(0,'key','')\n",
    "odds_df['key'] = odds_df.apply(\n",
    "    lambda x: f\"{x['date']}_{x['team']}_{x['opponent']}\",\n",
    "    axis=1\n",
    ")\n",
    "# drop date, team, opponent columns to not create duplicates when merging\n",
    "odds_df.drop(columns=['date','team','opponent'], inplace=True)\n",
    "odds_df.head()"
   ],
   "metadata": {
    "collapsed": false,
    "ExecuteTime": {
     "end_time": "2023-11-26T19:36:46.999970512Z",
     "start_time": "2023-11-26T19:36:46.951203534Z"
    }
   },
   "id": "7e1bde3eecdb114c"
  },
  {
   "cell_type": "code",
   "execution_count": 368,
   "outputs": [
    {
     "data": {
      "text/plain": "                                key  actual  prediction  feat_gf_rolling_avg  \\\n0      2023-10-01_Freiburg_Augsburg       0           0             1.333333   \n1  2023-10-07_Augsburg_Darmstadt 98       0           0             0.666667   \n2    2023-10-22_Heidenheim_Augsburg       1           0             1.000000   \n3     2023-10-28_Augsburg_Wolfsburg       1           0             2.000000   \n4          2023-11-04_Koln_Augsburg       0           0             3.000000   \n\n   feat_ga_rolling_avg  feat_xg_rolling_avg  feat_xga_rolling_avg  \\\n0             2.000000             1.466667              1.100000   \n1             2.000000             1.100000              0.900000   \n2             1.666667             0.833333              1.133333   \n3             2.000000             1.400000              1.433333   \n4             2.000000             1.600000              1.566667   \n\n   feat_poss_rolling_avg  feat_attendance_rolling_avg  \\\n0              41.666667                 33160.000000   \n1              44.666667                 35063.333333   \n2              45.333333                 29881.333333   \n3              45.333333                 25778.000000   \n4              43.000000                 24066.666667   \n\n   feat_shooting_standard_sh_rolling_avg  ...  bbmx>2.5  bbav>2.5  bbmx<2.5  \\\n0                              10.666667  ...       NaN       NaN       NaN   \n1                              11.333333  ...       NaN       NaN       NaN   \n2                              12.000000  ...       NaN       NaN       NaN   \n3                              13.000000  ...       NaN       NaN       NaN   \n4                              11.333333  ...       NaN       NaN       NaN   \n\n   bbav<2.5  bbah  bbahh  bbmxahh  bbavahh  bbmxaha  bbavaha  \n0       NaN   NaN    NaN      NaN      NaN      NaN      NaN  \n1       NaN   NaN    NaN      NaN      NaN      NaN      NaN  \n2       NaN   NaN    NaN      NaN      NaN      NaN      NaN  \n3       NaN   NaN    NaN      NaN      NaN      NaN      NaN  \n4       NaN   NaN    NaN      NaN      NaN      NaN      NaN  \n\n[5 rows x 281 columns]",
      "text/html": "<div>\n<style scoped>\n    .dataframe tbody tr th:only-of-type {\n        vertical-align: middle;\n    }\n\n    .dataframe tbody tr th {\n        vertical-align: top;\n    }\n\n    .dataframe thead th {\n        text-align: right;\n    }\n</style>\n<table border=\"1\" class=\"dataframe\">\n  <thead>\n    <tr style=\"text-align: right;\">\n      <th></th>\n      <th>key</th>\n      <th>actual</th>\n      <th>prediction</th>\n      <th>feat_gf_rolling_avg</th>\n      <th>feat_ga_rolling_avg</th>\n      <th>feat_xg_rolling_avg</th>\n      <th>feat_xga_rolling_avg</th>\n      <th>feat_poss_rolling_avg</th>\n      <th>feat_attendance_rolling_avg</th>\n      <th>feat_shooting_standard_sh_rolling_avg</th>\n      <th>...</th>\n      <th>bbmx&gt;2.5</th>\n      <th>bbav&gt;2.5</th>\n      <th>bbmx&lt;2.5</th>\n      <th>bbav&lt;2.5</th>\n      <th>bbah</th>\n      <th>bbahh</th>\n      <th>bbmxahh</th>\n      <th>bbavahh</th>\n      <th>bbmxaha</th>\n      <th>bbavaha</th>\n    </tr>\n  </thead>\n  <tbody>\n    <tr>\n      <th>0</th>\n      <td>2023-10-01_Freiburg_Augsburg</td>\n      <td>0</td>\n      <td>0</td>\n      <td>1.333333</td>\n      <td>2.000000</td>\n      <td>1.466667</td>\n      <td>1.100000</td>\n      <td>41.666667</td>\n      <td>33160.000000</td>\n      <td>10.666667</td>\n      <td>...</td>\n      <td>NaN</td>\n      <td>NaN</td>\n      <td>NaN</td>\n      <td>NaN</td>\n      <td>NaN</td>\n      <td>NaN</td>\n      <td>NaN</td>\n      <td>NaN</td>\n      <td>NaN</td>\n      <td>NaN</td>\n    </tr>\n    <tr>\n      <th>1</th>\n      <td>2023-10-07_Augsburg_Darmstadt 98</td>\n      <td>0</td>\n      <td>0</td>\n      <td>0.666667</td>\n      <td>2.000000</td>\n      <td>1.100000</td>\n      <td>0.900000</td>\n      <td>44.666667</td>\n      <td>35063.333333</td>\n      <td>11.333333</td>\n      <td>...</td>\n      <td>NaN</td>\n      <td>NaN</td>\n      <td>NaN</td>\n      <td>NaN</td>\n      <td>NaN</td>\n      <td>NaN</td>\n      <td>NaN</td>\n      <td>NaN</td>\n      <td>NaN</td>\n      <td>NaN</td>\n    </tr>\n    <tr>\n      <th>2</th>\n      <td>2023-10-22_Heidenheim_Augsburg</td>\n      <td>1</td>\n      <td>0</td>\n      <td>1.000000</td>\n      <td>1.666667</td>\n      <td>0.833333</td>\n      <td>1.133333</td>\n      <td>45.333333</td>\n      <td>29881.333333</td>\n      <td>12.000000</td>\n      <td>...</td>\n      <td>NaN</td>\n      <td>NaN</td>\n      <td>NaN</td>\n      <td>NaN</td>\n      <td>NaN</td>\n      <td>NaN</td>\n      <td>NaN</td>\n      <td>NaN</td>\n      <td>NaN</td>\n      <td>NaN</td>\n    </tr>\n    <tr>\n      <th>3</th>\n      <td>2023-10-28_Augsburg_Wolfsburg</td>\n      <td>1</td>\n      <td>0</td>\n      <td>2.000000</td>\n      <td>2.000000</td>\n      <td>1.400000</td>\n      <td>1.433333</td>\n      <td>45.333333</td>\n      <td>25778.000000</td>\n      <td>13.000000</td>\n      <td>...</td>\n      <td>NaN</td>\n      <td>NaN</td>\n      <td>NaN</td>\n      <td>NaN</td>\n      <td>NaN</td>\n      <td>NaN</td>\n      <td>NaN</td>\n      <td>NaN</td>\n      <td>NaN</td>\n      <td>NaN</td>\n    </tr>\n    <tr>\n      <th>4</th>\n      <td>2023-11-04_Koln_Augsburg</td>\n      <td>0</td>\n      <td>0</td>\n      <td>3.000000</td>\n      <td>2.000000</td>\n      <td>1.600000</td>\n      <td>1.566667</td>\n      <td>43.000000</td>\n      <td>24066.666667</td>\n      <td>11.333333</td>\n      <td>...</td>\n      <td>NaN</td>\n      <td>NaN</td>\n      <td>NaN</td>\n      <td>NaN</td>\n      <td>NaN</td>\n      <td>NaN</td>\n      <td>NaN</td>\n      <td>NaN</td>\n      <td>NaN</td>\n      <td>NaN</td>\n    </tr>\n  </tbody>\n</table>\n<p>5 rows × 281 columns</p>\n</div>"
     },
     "execution_count": 368,
     "metadata": {},
     "output_type": "execute_result"
    }
   ],
   "source": [
    "merged_df = pd.merge(combined, odds_df, on='key', how='left')\n",
    "merged_df.head()"
   ],
   "metadata": {
    "collapsed": false,
    "ExecuteTime": {
     "end_time": "2023-11-26T19:36:47.000496486Z",
     "start_time": "2023-11-26T19:36:46.995347519Z"
    }
   },
   "id": "ba97bf10057c5e18"
  },
  {
   "cell_type": "code",
   "execution_count": 369,
   "outputs": [],
   "source": [
    "# order by info_date\n",
    "merged_df.sort_values(by='info_date', inplace=True)"
   ],
   "metadata": {
    "collapsed": false,
    "ExecuteTime": {
     "end_time": "2023-11-26T19:36:47.000577851Z",
     "start_time": "2023-11-26T19:36:46.995535392Z"
    }
   },
   "id": "78c31df9e202888d"
  },
  {
   "cell_type": "code",
   "execution_count": 370,
   "outputs": [
    {
     "data": {
      "text/plain": "    profit                                    key  actual  prediction  \\\n0      0.0           2023-10-01_Freiburg_Augsburg       0           0   \n83     0.0  2023-10-01_Darmstadt 98_Werder Bremen       0           0   \n37     0.0           2023-10-01_Freiburg_Augsburg       1           0   \n21     0.0  2023-10-01_Darmstadt 98_Werder Bremen       1           0   \n63     0.0    2023-10-06_Monchengladbach_Mainz 05       0           0   \n\n    feat_gf_rolling_avg  feat_ga_rolling_avg  feat_xg_rolling_avg  \\\n0              1.333333             2.000000             1.466667   \n83             2.666667             1.666667             2.600000   \n37             0.666667             3.000000             0.833333   \n21             1.666667             3.666667             0.600000   \n63             2.000000             1.666667             2.533333   \n\n    feat_xga_rolling_avg  feat_poss_rolling_avg  feat_attendance_rolling_avg  \\\n0               1.100000              41.666667                 33160.000000   \n83              1.333333              50.333333                 39305.047093   \n37              1.533333              48.333333                 48266.666667   \n21              3.000000              35.666667                 33821.000000   \n63              1.200000              50.000000                 31310.666667   \n\n    ...  bbmx>2.5  bbav>2.5  bbmx<2.5  bbav<2.5  bbah  bbahh  bbmxahh  \\\n0   ...       NaN       NaN       NaN       NaN   NaN    NaN      NaN   \n83  ...       NaN       NaN       NaN       NaN   NaN    NaN      NaN   \n37  ...       NaN       NaN       NaN       NaN   NaN    NaN      NaN   \n21  ...       NaN       NaN       NaN       NaN   NaN    NaN      NaN   \n63  ...       NaN       NaN       NaN       NaN   NaN    NaN      NaN   \n\n    bbavahh  bbmxaha  bbavaha  \n0       NaN      NaN      NaN  \n83      NaN      NaN      NaN  \n37      NaN      NaN      NaN  \n21      NaN      NaN      NaN  \n63      NaN      NaN      NaN  \n\n[5 rows x 282 columns]",
      "text/html": "<div>\n<style scoped>\n    .dataframe tbody tr th:only-of-type {\n        vertical-align: middle;\n    }\n\n    .dataframe tbody tr th {\n        vertical-align: top;\n    }\n\n    .dataframe thead th {\n        text-align: right;\n    }\n</style>\n<table border=\"1\" class=\"dataframe\">\n  <thead>\n    <tr style=\"text-align: right;\">\n      <th></th>\n      <th>profit</th>\n      <th>key</th>\n      <th>actual</th>\n      <th>prediction</th>\n      <th>feat_gf_rolling_avg</th>\n      <th>feat_ga_rolling_avg</th>\n      <th>feat_xg_rolling_avg</th>\n      <th>feat_xga_rolling_avg</th>\n      <th>feat_poss_rolling_avg</th>\n      <th>feat_attendance_rolling_avg</th>\n      <th>...</th>\n      <th>bbmx&gt;2.5</th>\n      <th>bbav&gt;2.5</th>\n      <th>bbmx&lt;2.5</th>\n      <th>bbav&lt;2.5</th>\n      <th>bbah</th>\n      <th>bbahh</th>\n      <th>bbmxahh</th>\n      <th>bbavahh</th>\n      <th>bbmxaha</th>\n      <th>bbavaha</th>\n    </tr>\n  </thead>\n  <tbody>\n    <tr>\n      <th>0</th>\n      <td>0.0</td>\n      <td>2023-10-01_Freiburg_Augsburg</td>\n      <td>0</td>\n      <td>0</td>\n      <td>1.333333</td>\n      <td>2.000000</td>\n      <td>1.466667</td>\n      <td>1.100000</td>\n      <td>41.666667</td>\n      <td>33160.000000</td>\n      <td>...</td>\n      <td>NaN</td>\n      <td>NaN</td>\n      <td>NaN</td>\n      <td>NaN</td>\n      <td>NaN</td>\n      <td>NaN</td>\n      <td>NaN</td>\n      <td>NaN</td>\n      <td>NaN</td>\n      <td>NaN</td>\n    </tr>\n    <tr>\n      <th>83</th>\n      <td>0.0</td>\n      <td>2023-10-01_Darmstadt 98_Werder Bremen</td>\n      <td>0</td>\n      <td>0</td>\n      <td>2.666667</td>\n      <td>1.666667</td>\n      <td>2.600000</td>\n      <td>1.333333</td>\n      <td>50.333333</td>\n      <td>39305.047093</td>\n      <td>...</td>\n      <td>NaN</td>\n      <td>NaN</td>\n      <td>NaN</td>\n      <td>NaN</td>\n      <td>NaN</td>\n      <td>NaN</td>\n      <td>NaN</td>\n      <td>NaN</td>\n      <td>NaN</td>\n      <td>NaN</td>\n    </tr>\n    <tr>\n      <th>37</th>\n      <td>0.0</td>\n      <td>2023-10-01_Freiburg_Augsburg</td>\n      <td>1</td>\n      <td>0</td>\n      <td>0.666667</td>\n      <td>3.000000</td>\n      <td>0.833333</td>\n      <td>1.533333</td>\n      <td>48.333333</td>\n      <td>48266.666667</td>\n      <td>...</td>\n      <td>NaN</td>\n      <td>NaN</td>\n      <td>NaN</td>\n      <td>NaN</td>\n      <td>NaN</td>\n      <td>NaN</td>\n      <td>NaN</td>\n      <td>NaN</td>\n      <td>NaN</td>\n      <td>NaN</td>\n    </tr>\n    <tr>\n      <th>21</th>\n      <td>0.0</td>\n      <td>2023-10-01_Darmstadt 98_Werder Bremen</td>\n      <td>1</td>\n      <td>0</td>\n      <td>1.666667</td>\n      <td>3.666667</td>\n      <td>0.600000</td>\n      <td>3.000000</td>\n      <td>35.666667</td>\n      <td>33821.000000</td>\n      <td>...</td>\n      <td>NaN</td>\n      <td>NaN</td>\n      <td>NaN</td>\n      <td>NaN</td>\n      <td>NaN</td>\n      <td>NaN</td>\n      <td>NaN</td>\n      <td>NaN</td>\n      <td>NaN</td>\n      <td>NaN</td>\n    </tr>\n    <tr>\n      <th>63</th>\n      <td>0.0</td>\n      <td>2023-10-06_Monchengladbach_Mainz 05</td>\n      <td>0</td>\n      <td>0</td>\n      <td>2.000000</td>\n      <td>1.666667</td>\n      <td>2.533333</td>\n      <td>1.200000</td>\n      <td>50.000000</td>\n      <td>31310.666667</td>\n      <td>...</td>\n      <td>NaN</td>\n      <td>NaN</td>\n      <td>NaN</td>\n      <td>NaN</td>\n      <td>NaN</td>\n      <td>NaN</td>\n      <td>NaN</td>\n      <td>NaN</td>\n      <td>NaN</td>\n      <td>NaN</td>\n    </tr>\n  </tbody>\n</table>\n<p>5 rows × 282 columns</p>\n</div>"
     },
     "execution_count": 370,
     "metadata": {},
     "output_type": "execute_result"
    }
   ],
   "source": [
    "# create a new column where b365h is multiplied by 5\n",
    "# for rows where actual = 1 and prediction  = 1\n",
    "# else write -5\n",
    "\n",
    "def lam(x, bet=5):\n",
    "    if x['actual'] == 1 and x['prediction'] == 1:\n",
    "        if x['info_venue'] == 'Home':\n",
    "            return x['b365h'] * bet - bet\n",
    "        else:\n",
    "            return x['b365a'] * bet - bet\n",
    "    elif x['actual'] == 0 and x['prediction'] == 1:\n",
    "        return -bet\n",
    "    else:\n",
    "        return 0\n",
    "\n",
    "merged_df.insert(0,'profit',0)\n",
    "merged_df['profit'] = merged_df.apply(\n",
    "    lambda x: lam(x, 10),\n",
    "    axis=1\n",
    ")\n",
    "merged_df.head()"
   ],
   "metadata": {
    "collapsed": false,
    "ExecuteTime": {
     "end_time": "2023-11-26T19:36:47.001075189Z",
     "start_time": "2023-11-26T19:36:46.995589728Z"
    }
   },
   "id": "a3a32c138913b981"
  },
  {
   "cell_type": "code",
   "execution_count": 372,
   "outputs": [
    {
     "data": {
      "text/plain": "<Figure size 640x480 with 1 Axes>",
      "image/png": "[encoded data removed]"
     },
     "metadata": {},
     "output_type": "display_data"
    }
   ],
   "source": [
    "import matplotlib.pyplot as plt\n",
    "import seaborn as sns\n",
    "\n",
    "bets_placed = merged_df['profit'].ne(0).sum()\n",
    "profit = merged_df['profit'].sum()\n",
    "\n",
    "sns.set_style('darkgrid')\n",
    "plt.plot(merged_df['info_date'], merged_df['profit'].cumsum())\n",
    "plt.xticks(rotation=90)\n",
    "plt.title(f'Profit of ${profit:.2f} over {bets_placed} bets')\n",
    "plt.xlabel('Date')\n",
    "plt.ylabel('Profit')\n",
    "plt.show()"
   ],
   "metadata": {
    "collapsed": false,
    "ExecuteTime": {
     "end_time": "2023-11-26T19:38:03.043113114Z",
     "start_time": "2023-11-26T19:38:02.898438009Z"
    }
   },
   "id": "3ccd894c7f953b11"
  }
 ],
 "metadata": {
  "kernelspec": {
   "display_name": "Python 3",
   "language": "python",
   "name": "python3"
  },
  "language_info": {
   "codemirror_mode": {
    "name": "ipython",
    "version": 2
   },
   "file_extension": ".py",
   "mimetype": "text/x-python",
   "name": "python",
   "nbconvert_exporter": "python",
   "pygments_lexer": "ipython2",
   "version": "2.7.6"
  }
 },
 "nbformat": 4,
 "nbformat_minor": 5
}
