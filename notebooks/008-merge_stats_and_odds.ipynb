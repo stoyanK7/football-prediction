{
 "cells": [
  {
   "cell_type": "code",
   "execution_count": 18,
   "outputs": [],
   "source": [
    "from pathlib import Path\n",
    "from settings import INTERIM_DATA_DIR, PROCESSED_DATA_DIR\n",
    "import pandas as pd\n",
    "\n",
    "matches_df = pd.read_csv(Path(PROCESSED_DATA_DIR, 'bundesliga_matches.csv'))\n",
    "odds_df = pd.read_csv(Path(INTERIM_DATA_DIR, 'bundesliga_odds.csv'))"
   ],
   "metadata": {
    "collapsed": false,
    "ExecuteTime": {
     "end_time": "2023-11-23T18:33:39.243347671Z",
     "start_time": "2023-11-23T18:33:39.161741598Z"
    }
   },
   "id": "a34a5ba685f10e8a"
  },
  {
   "cell_type": "code",
   "execution_count": 19,
   "outputs": [
    {
     "data": {
      "text/plain": "   gf_rolling_avg  ga_rolling_avg  xg_rolling_avg  xga_rolling_avg  \\\n0        0.666667        0.666667        0.700000         1.366667   \n1        0.666667        1.666667        0.900000         1.633333   \n2        0.666667        2.333333        1.000000         1.900000   \n3        0.666667        2.666667        0.733333         2.566667   \n4        0.333333        3.000000        0.366667         2.200000   \n\n   poss_rolling_avg  attendance_rolling_avg  shooting_standard_sh_rolling_avg  \\\n0         49.000000             4086.666667                          9.333333   \n1         47.666667                     NaN                          9.000000   \n2         49.333333                     NaN                          9.666667   \n3         37.000000                     NaN                          8.333333   \n4         42.000000                     NaN                          6.666667   \n\n   shooting_standard_sot_rolling_avg  shooting_standard_sot%_rolling_avg  \\\n0                           3.333333                           35.433333   \n1                           3.666667                           39.500000   \n2                           3.333333                           33.666667   \n3                           2.666667                           32.200000   \n4                           1.333333                           22.600000   \n\n   shooting_standard_g/sh_rolling_avg  ...  opponent_code  venue_code  hour  \\\n0                            0.073333  ...              3           1    18   \n1                            0.076667  ...             26           0    15   \n2                            0.066667  ...              6           1    15   \n3                            0.066667  ...             24           0    15   \n4                            0.036667  ...              2           1    15   \n\n   day_code  month_code  target        date     team          opponent  venue  \n0         5          10       0  2020-10-17  Arminia     Bayern Munich   Home  \n1         6          10       0  2020-10-25  Arminia         Wolfsburg   Away  \n2         5          10       0  2020-10-31  Arminia          Dortmund   Home  \n3         5          11       0  2020-11-07  Arminia      Union Berlin   Away  \n4         5          11       0  2020-11-21  Arminia  Bayer Leverkusen   Home  \n\n[5 rows x 157 columns]",
      "text/html": "<div>\n<style scoped>\n    .dataframe tbody tr th:only-of-type {\n        vertical-align: middle;\n    }\n\n    .dataframe tbody tr th {\n        vertical-align: top;\n    }\n\n    .dataframe thead th {\n        text-align: right;\n    }\n</style>\n<table border=\"1\" class=\"dataframe\">\n  <thead>\n    <tr style=\"text-align: right;\">\n      <th></th>\n      <th>gf_rolling_avg</th>\n      <th>ga_rolling_avg</th>\n      <th>xg_rolling_avg</th>\n      <th>xga_rolling_avg</th>\n      <th>poss_rolling_avg</th>\n      <th>attendance_rolling_avg</th>\n      <th>shooting_standard_sh_rolling_avg</th>\n      <th>shooting_standard_sot_rolling_avg</th>\n      <th>shooting_standard_sot%_rolling_avg</th>\n      <th>shooting_standard_g/sh_rolling_avg</th>\n      <th>...</th>\n      <th>opponent_code</th>\n      <th>venue_code</th>\n      <th>hour</th>\n      <th>day_code</th>\n      <th>month_code</th>\n      <th>target</th>\n      <th>date</th>\n      <th>team</th>\n      <th>opponent</th>\n      <th>venue</th>\n    </tr>\n  </thead>\n  <tbody>\n    <tr>\n      <th>0</th>\n      <td>0.666667</td>\n      <td>0.666667</td>\n      <td>0.700000</td>\n      <td>1.366667</td>\n      <td>49.000000</td>\n      <td>4086.666667</td>\n      <td>9.333333</td>\n      <td>3.333333</td>\n      <td>35.433333</td>\n      <td>0.073333</td>\n      <td>...</td>\n      <td>3</td>\n      <td>1</td>\n      <td>18</td>\n      <td>5</td>\n      <td>10</td>\n      <td>0</td>\n      <td>2020-10-17</td>\n      <td>Arminia</td>\n      <td>Bayern Munich</td>\n      <td>Home</td>\n    </tr>\n    <tr>\n      <th>1</th>\n      <td>0.666667</td>\n      <td>1.666667</td>\n      <td>0.900000</td>\n      <td>1.633333</td>\n      <td>47.666667</td>\n      <td>NaN</td>\n      <td>9.000000</td>\n      <td>3.666667</td>\n      <td>39.500000</td>\n      <td>0.076667</td>\n      <td>...</td>\n      <td>26</td>\n      <td>0</td>\n      <td>15</td>\n      <td>6</td>\n      <td>10</td>\n      <td>0</td>\n      <td>2020-10-25</td>\n      <td>Arminia</td>\n      <td>Wolfsburg</td>\n      <td>Away</td>\n    </tr>\n    <tr>\n      <th>2</th>\n      <td>0.666667</td>\n      <td>2.333333</td>\n      <td>1.000000</td>\n      <td>1.900000</td>\n      <td>49.333333</td>\n      <td>NaN</td>\n      <td>9.666667</td>\n      <td>3.333333</td>\n      <td>33.666667</td>\n      <td>0.066667</td>\n      <td>...</td>\n      <td>6</td>\n      <td>1</td>\n      <td>15</td>\n      <td>5</td>\n      <td>10</td>\n      <td>0</td>\n      <td>2020-10-31</td>\n      <td>Arminia</td>\n      <td>Dortmund</td>\n      <td>Home</td>\n    </tr>\n    <tr>\n      <th>3</th>\n      <td>0.666667</td>\n      <td>2.666667</td>\n      <td>0.733333</td>\n      <td>2.566667</td>\n      <td>37.000000</td>\n      <td>NaN</td>\n      <td>8.333333</td>\n      <td>2.666667</td>\n      <td>32.200000</td>\n      <td>0.066667</td>\n      <td>...</td>\n      <td>24</td>\n      <td>0</td>\n      <td>15</td>\n      <td>5</td>\n      <td>11</td>\n      <td>0</td>\n      <td>2020-11-07</td>\n      <td>Arminia</td>\n      <td>Union Berlin</td>\n      <td>Away</td>\n    </tr>\n    <tr>\n      <th>4</th>\n      <td>0.333333</td>\n      <td>3.000000</td>\n      <td>0.366667</td>\n      <td>2.200000</td>\n      <td>42.000000</td>\n      <td>NaN</td>\n      <td>6.666667</td>\n      <td>1.333333</td>\n      <td>22.600000</td>\n      <td>0.036667</td>\n      <td>...</td>\n      <td>2</td>\n      <td>1</td>\n      <td>15</td>\n      <td>5</td>\n      <td>11</td>\n      <td>0</td>\n      <td>2020-11-21</td>\n      <td>Arminia</td>\n      <td>Bayer Leverkusen</td>\n      <td>Home</td>\n    </tr>\n  </tbody>\n</table>\n<p>5 rows × 157 columns</p>\n</div>"
     },
     "execution_count": 19,
     "metadata": {},
     "output_type": "execute_result"
    }
   ],
   "source": [
    "matches_df.head()"
   ],
   "metadata": {
    "collapsed": false,
    "ExecuteTime": {
     "end_time": "2023-11-23T18:33:39.280756814Z",
     "start_time": "2023-11-23T18:33:39.279545908Z"
    }
   },
   "id": "ebec940f6f512b0d"
  },
  {
   "cell_type": "code",
   "execution_count": 20,
   "outputs": [
    {
     "data": {
      "text/plain": "         date                 team       opponent  fthg  ftag ftr  hthg  htag  \\\n0  2022-08-05  Eintracht Frankfurt  Bayern Munich     1     6   A     0     5   \n1  2022-08-06             Augsburg       Freiburg     0     4   A     0     0   \n2  2022-08-06               Bochum       Mainz 05     1     2   A     1     1   \n3  2022-08-06      Monchengladbach     Hoffenheim     3     1   H     1     1   \n4  2022-08-06         Union Berlin     Hertha BSC     3     1   H     1     0   \n\n  htr  hs  ...  bbmx>2.5  bbav>2.5  bbmx<2.5  bbav<2.5  bbah  bbahh  bbmxahh  \\\n0   A   8  ...       NaN       NaN       NaN       NaN   NaN    NaN      NaN   \n1   D  10  ...       NaN       NaN       NaN       NaN   NaN    NaN      NaN   \n2   D  16  ...       NaN       NaN       NaN       NaN   NaN    NaN      NaN   \n3   D  18  ...       NaN       NaN       NaN       NaN   NaN    NaN      NaN   \n4   H  18  ...       NaN       NaN       NaN       NaN   NaN    NaN      NaN   \n\n   bbavahh  bbmxaha  bbavaha  \n0      NaN      NaN      NaN  \n1      NaN      NaN      NaN  \n2      NaN      NaN      NaN  \n3      NaN      NaN      NaN  \n4      NaN      NaN      NaN  \n\n[5 rows x 124 columns]",
      "text/html": "<div>\n<style scoped>\n    .dataframe tbody tr th:only-of-type {\n        vertical-align: middle;\n    }\n\n    .dataframe tbody tr th {\n        vertical-align: top;\n    }\n\n    .dataframe thead th {\n        text-align: right;\n    }\n</style>\n<table border=\"1\" class=\"dataframe\">\n  <thead>\n    <tr style=\"text-align: right;\">\n      <th></th>\n      <th>date</th>\n      <th>team</th>\n      <th>opponent</th>\n      <th>fthg</th>\n      <th>ftag</th>\n      <th>ftr</th>\n      <th>hthg</th>\n      <th>htag</th>\n      <th>htr</th>\n      <th>hs</th>\n      <th>...</th>\n      <th>bbmx&gt;2.5</th>\n      <th>bbav&gt;2.5</th>\n      <th>bbmx&lt;2.5</th>\n      <th>bbav&lt;2.5</th>\n      <th>bbah</th>\n      <th>bbahh</th>\n      <th>bbmxahh</th>\n      <th>bbavahh</th>\n      <th>bbmxaha</th>\n      <th>bbavaha</th>\n    </tr>\n  </thead>\n  <tbody>\n    <tr>\n      <th>0</th>\n      <td>2022-08-05</td>\n      <td>Eintracht Frankfurt</td>\n      <td>Bayern Munich</td>\n      <td>1</td>\n      <td>6</td>\n      <td>A</td>\n      <td>0</td>\n      <td>5</td>\n      <td>A</td>\n      <td>8</td>\n      <td>...</td>\n      <td>NaN</td>\n      <td>NaN</td>\n      <td>NaN</td>\n      <td>NaN</td>\n      <td>NaN</td>\n      <td>NaN</td>\n      <td>NaN</td>\n      <td>NaN</td>\n      <td>NaN</td>\n      <td>NaN</td>\n    </tr>\n    <tr>\n      <th>1</th>\n      <td>2022-08-06</td>\n      <td>Augsburg</td>\n      <td>Freiburg</td>\n      <td>0</td>\n      <td>4</td>\n      <td>A</td>\n      <td>0</td>\n      <td>0</td>\n      <td>D</td>\n      <td>10</td>\n      <td>...</td>\n      <td>NaN</td>\n      <td>NaN</td>\n      <td>NaN</td>\n      <td>NaN</td>\n      <td>NaN</td>\n      <td>NaN</td>\n      <td>NaN</td>\n      <td>NaN</td>\n      <td>NaN</td>\n      <td>NaN</td>\n    </tr>\n    <tr>\n      <th>2</th>\n      <td>2022-08-06</td>\n      <td>Bochum</td>\n      <td>Mainz 05</td>\n      <td>1</td>\n      <td>2</td>\n      <td>A</td>\n      <td>1</td>\n      <td>1</td>\n      <td>D</td>\n      <td>16</td>\n      <td>...</td>\n      <td>NaN</td>\n      <td>NaN</td>\n      <td>NaN</td>\n      <td>NaN</td>\n      <td>NaN</td>\n      <td>NaN</td>\n      <td>NaN</td>\n      <td>NaN</td>\n      <td>NaN</td>\n      <td>NaN</td>\n    </tr>\n    <tr>\n      <th>3</th>\n      <td>2022-08-06</td>\n      <td>Monchengladbach</td>\n      <td>Hoffenheim</td>\n      <td>3</td>\n      <td>1</td>\n      <td>H</td>\n      <td>1</td>\n      <td>1</td>\n      <td>D</td>\n      <td>18</td>\n      <td>...</td>\n      <td>NaN</td>\n      <td>NaN</td>\n      <td>NaN</td>\n      <td>NaN</td>\n      <td>NaN</td>\n      <td>NaN</td>\n      <td>NaN</td>\n      <td>NaN</td>\n      <td>NaN</td>\n      <td>NaN</td>\n    </tr>\n    <tr>\n      <th>4</th>\n      <td>2022-08-06</td>\n      <td>Union Berlin</td>\n      <td>Hertha BSC</td>\n      <td>3</td>\n      <td>1</td>\n      <td>H</td>\n      <td>1</td>\n      <td>0</td>\n      <td>H</td>\n      <td>18</td>\n      <td>...</td>\n      <td>NaN</td>\n      <td>NaN</td>\n      <td>NaN</td>\n      <td>NaN</td>\n      <td>NaN</td>\n      <td>NaN</td>\n      <td>NaN</td>\n      <td>NaN</td>\n      <td>NaN</td>\n      <td>NaN</td>\n    </tr>\n  </tbody>\n</table>\n<p>5 rows × 124 columns</p>\n</div>"
     },
     "execution_count": 20,
     "metadata": {},
     "output_type": "execute_result"
    }
   ],
   "source": [
    "odds_df.head()"
   ],
   "metadata": {
    "collapsed": false,
    "ExecuteTime": {
     "end_time": "2023-11-23T18:33:39.282579946Z",
     "start_time": "2023-11-23T18:33:39.279926542Z"
    }
   },
   "id": "2c9c6e74c3d6c67e"
  },
  {
   "cell_type": "code",
   "execution_count": 21,
   "outputs": [
    {
     "name": "stdout",
     "output_type": "stream",
     "text": [
      "1894.5\n",
      "1935\n"
     ]
    }
   ],
   "source": [
    "# show length of both datasets\n",
    "print(len(matches_df) / 2)\n",
    "print(len(odds_df))"
   ],
   "metadata": {
    "collapsed": false,
    "ExecuteTime": {
     "end_time": "2023-11-23T18:33:39.283515049Z",
     "start_time": "2023-11-23T18:33:39.280225043Z"
    }
   },
   "id": "ae401867b4836c8c"
  },
  {
   "cell_type": "code",
   "execution_count": 22,
   "outputs": [
    {
     "name": "stdout",
     "output_type": "stream",
     "text": [
      "['Arminia' 'Augsburg' 'Bayer Leverkusen' 'Bayern Munich' 'Bochum'\n",
      " 'Darmstadt 98' 'Dortmund' 'Dusseldorf' 'Eintracht Frankfurt' 'Freiburg'\n",
      " 'Greuther Furth' 'Hamburger SV' 'Hannover 96' 'Heidenheim' 'Hertha BSC'\n",
      " 'Hoffenheim' 'Koln' 'Mainz 05' 'Monchengladbach' 'Nurnberg'\n",
      " 'Paderborn 07' 'RB Leipzig' 'Schalke 04' 'Stuttgart' 'Union Berlin'\n",
      " 'Werder Bremen' 'Wolfsburg']\n",
      "['Eintracht Frankfurt' 'Augsburg' 'Bochum' 'Monchengladbach'\n",
      " 'Union Berlin' 'Wolfsburg' 'Dortmund' 'Stuttgart' 'Koln' 'Freiburg'\n",
      " 'Hertha BSC' 'Hoffenheim' 'Bayer Leverkusen' 'RB Leipzig' 'Werder Bremen'\n",
      " 'Schalke 04' 'Mainz 05' 'Bayern Munich' 'Arminia' 'Dusseldorf'\n",
      " 'Paderborn 07' 'Greuther Furth' 'Darmstadt 98' 'Heidenheim'\n",
      " 'Hamburger SV' 'Hannover 96' 'Nurnberg']\n",
      "---------------------\n",
      "set()\n",
      "set()\n"
     ]
    }
   ],
   "source": [
    "# show df teams and odds_df teams\n",
    "print(matches_df['team'].unique())\n",
    "print(odds_df['team'].unique())\n",
    "print('---------------------')\n",
    "# print diff between the sets\n",
    "print(set(matches_df['team'].unique()) - set(odds_df['team'].unique()))\n",
    "print(set(odds_df['team'].unique()) - set(matches_df['team'].unique()))"
   ],
   "metadata": {
    "collapsed": false,
    "ExecuteTime": {
     "end_time": "2023-11-23T18:33:39.286650217Z",
     "start_time": "2023-11-23T18:33:39.280426535Z"
    }
   },
   "id": "be0974680dbe848"
  },
  {
   "cell_type": "code",
   "execution_count": 23,
   "outputs": [
    {
     "data": {
      "text/plain": "      gf_rolling_avg  ga_rolling_avg  xg_rolling_avg  xga_rolling_avg  \\\n554         2.666667        0.666667        3.600000         0.800000   \n1686        2.666667        3.000000        2.166667         1.733333   \n\n      poss_rolling_avg  attendance_rolling_avg  \\\n554          65.000000            63979.666667   \n1686         49.333333            45754.000000   \n\n      shooting_standard_sh_rolling_avg  shooting_standard_sot_rolling_avg  \\\n554                          20.333333                          10.666667   \n1686                         15.000000                           5.666667   \n\n      shooting_standard_sot%_rolling_avg  shooting_standard_g/sh_rolling_avg  \\\n554                            51.300000                            0.110000   \n1686                           40.333333                            0.156667   \n\n      ...  opponent_code  venue_code  hour  day_code  month_code  target  \\\n554   ...             14           1    20         4           8       0   \n1686  ...              3           0    20         4           8       0   \n\n            date           team       opponent  venue  \n554   2019-08-16  Bayern Munich     Hertha BSC   Home  \n1686  2019-08-16     Hertha BSC  Bayern Munich   Away  \n\n[2 rows x 157 columns]",
      "text/html": "<div>\n<style scoped>\n    .dataframe tbody tr th:only-of-type {\n        vertical-align: middle;\n    }\n\n    .dataframe tbody tr th {\n        vertical-align: top;\n    }\n\n    .dataframe thead th {\n        text-align: right;\n    }\n</style>\n<table border=\"1\" class=\"dataframe\">\n  <thead>\n    <tr style=\"text-align: right;\">\n      <th></th>\n      <th>gf_rolling_avg</th>\n      <th>ga_rolling_avg</th>\n      <th>xg_rolling_avg</th>\n      <th>xga_rolling_avg</th>\n      <th>poss_rolling_avg</th>\n      <th>attendance_rolling_avg</th>\n      <th>shooting_standard_sh_rolling_avg</th>\n      <th>shooting_standard_sot_rolling_avg</th>\n      <th>shooting_standard_sot%_rolling_avg</th>\n      <th>shooting_standard_g/sh_rolling_avg</th>\n      <th>...</th>\n      <th>opponent_code</th>\n      <th>venue_code</th>\n      <th>hour</th>\n      <th>day_code</th>\n      <th>month_code</th>\n      <th>target</th>\n      <th>date</th>\n      <th>team</th>\n      <th>opponent</th>\n      <th>venue</th>\n    </tr>\n  </thead>\n  <tbody>\n    <tr>\n      <th>554</th>\n      <td>2.666667</td>\n      <td>0.666667</td>\n      <td>3.600000</td>\n      <td>0.800000</td>\n      <td>65.000000</td>\n      <td>63979.666667</td>\n      <td>20.333333</td>\n      <td>10.666667</td>\n      <td>51.300000</td>\n      <td>0.110000</td>\n      <td>...</td>\n      <td>14</td>\n      <td>1</td>\n      <td>20</td>\n      <td>4</td>\n      <td>8</td>\n      <td>0</td>\n      <td>2019-08-16</td>\n      <td>Bayern Munich</td>\n      <td>Hertha BSC</td>\n      <td>Home</td>\n    </tr>\n    <tr>\n      <th>1686</th>\n      <td>2.666667</td>\n      <td>3.000000</td>\n      <td>2.166667</td>\n      <td>1.733333</td>\n      <td>49.333333</td>\n      <td>45754.000000</td>\n      <td>15.000000</td>\n      <td>5.666667</td>\n      <td>40.333333</td>\n      <td>0.156667</td>\n      <td>...</td>\n      <td>3</td>\n      <td>0</td>\n      <td>20</td>\n      <td>4</td>\n      <td>8</td>\n      <td>0</td>\n      <td>2019-08-16</td>\n      <td>Hertha BSC</td>\n      <td>Bayern Munich</td>\n      <td>Away</td>\n    </tr>\n  </tbody>\n</table>\n<p>2 rows × 157 columns</p>\n</div>"
     },
     "execution_count": 23,
     "metadata": {},
     "output_type": "execute_result"
    }
   ],
   "source": [
    "# show matches played on 2019-08-16\n",
    "matches_df[matches_df['date'] == '2019-08-16']"
   ],
   "metadata": {
    "collapsed": false,
    "ExecuteTime": {
     "end_time": "2023-11-23T18:33:39.330101315Z",
     "start_time": "2023-11-23T18:33:39.285877076Z"
    }
   },
   "id": "26dde20b0a1a143d"
  },
  {
   "cell_type": "code",
   "execution_count": 24,
   "outputs": [
    {
     "data": {
      "text/plain": "           date           team    opponent  fthg  ftag ftr  hthg  htag htr  \\\n612  2019-08-16  Bayern Munich  Hertha BSC     2     2   D     1     2   A   \n\n     hs  ...  bbmx>2.5  bbav>2.5  bbmx<2.5  bbav<2.5  bbah  bbahh  bbmxahh  \\\n612  17  ...       NaN       NaN       NaN       NaN   NaN    NaN      NaN   \n\n     bbavahh  bbmxaha  bbavaha  \n612      NaN      NaN      NaN  \n\n[1 rows x 124 columns]",
      "text/html": "<div>\n<style scoped>\n    .dataframe tbody tr th:only-of-type {\n        vertical-align: middle;\n    }\n\n    .dataframe tbody tr th {\n        vertical-align: top;\n    }\n\n    .dataframe thead th {\n        text-align: right;\n    }\n</style>\n<table border=\"1\" class=\"dataframe\">\n  <thead>\n    <tr style=\"text-align: right;\">\n      <th></th>\n      <th>date</th>\n      <th>team</th>\n      <th>opponent</th>\n      <th>fthg</th>\n      <th>ftag</th>\n      <th>ftr</th>\n      <th>hthg</th>\n      <th>htag</th>\n      <th>htr</th>\n      <th>hs</th>\n      <th>...</th>\n      <th>bbmx&gt;2.5</th>\n      <th>bbav&gt;2.5</th>\n      <th>bbmx&lt;2.5</th>\n      <th>bbav&lt;2.5</th>\n      <th>bbah</th>\n      <th>bbahh</th>\n      <th>bbmxahh</th>\n      <th>bbavahh</th>\n      <th>bbmxaha</th>\n      <th>bbavaha</th>\n    </tr>\n  </thead>\n  <tbody>\n    <tr>\n      <th>612</th>\n      <td>2019-08-16</td>\n      <td>Bayern Munich</td>\n      <td>Hertha BSC</td>\n      <td>2</td>\n      <td>2</td>\n      <td>D</td>\n      <td>1</td>\n      <td>2</td>\n      <td>A</td>\n      <td>17</td>\n      <td>...</td>\n      <td>NaN</td>\n      <td>NaN</td>\n      <td>NaN</td>\n      <td>NaN</td>\n      <td>NaN</td>\n      <td>NaN</td>\n      <td>NaN</td>\n      <td>NaN</td>\n      <td>NaN</td>\n      <td>NaN</td>\n    </tr>\n  </tbody>\n</table>\n<p>1 rows × 124 columns</p>\n</div>"
     },
     "execution_count": 24,
     "metadata": {},
     "output_type": "execute_result"
    }
   ],
   "source": [
    "odds_df[odds_df['date'] == '2019-08-16']"
   ],
   "metadata": {
    "collapsed": false,
    "ExecuteTime": {
     "end_time": "2023-11-23T18:33:39.401767041Z",
     "start_time": "2023-11-23T18:33:39.303931496Z"
    }
   },
   "id": "3255979ccee78d94"
  },
  {
   "cell_type": "code",
   "execution_count": 25,
   "outputs": [
    {
     "data": {
      "text/plain": "                                   key  gf_rolling_avg  ga_rolling_avg  \\\n0     2020-10-17_Arminia_Bayern Munich        0.666667        0.666667   \n1         2020-10-25_Wolfsburg_Arminia        0.666667        1.666667   \n2          2020-10-31_Arminia_Dortmund        0.666667        2.333333   \n3      2020-11-07_Union Berlin_Arminia        0.666667        2.666667   \n4  2020-11-21_Arminia_Bayer Leverkusen        0.333333        3.000000   \n\n   xg_rolling_avg  xga_rolling_avg  poss_rolling_avg  attendance_rolling_avg  \\\n0        0.700000         1.366667         49.000000             4086.666667   \n1        0.900000         1.633333         47.666667                     NaN   \n2        1.000000         1.900000         49.333333                     NaN   \n3        0.733333         2.566667         37.000000                     NaN   \n4        0.366667         2.200000         42.000000                     NaN   \n\n   shooting_standard_sh_rolling_avg  shooting_standard_sot_rolling_avg  \\\n0                          9.333333                           3.333333   \n1                          9.000000                           3.666667   \n2                          9.666667                           3.333333   \n3                          8.333333                           2.666667   \n4                          6.666667                           1.333333   \n\n   shooting_standard_sot%_rolling_avg  ...  opponent_code  venue_code  hour  \\\n0                           35.433333  ...              3           1    18   \n1                           39.500000  ...             26           0    15   \n2                           33.666667  ...              6           1    15   \n3                           32.200000  ...             24           0    15   \n4                           22.600000  ...              2           1    15   \n\n   day_code  month_code  target        date     team          opponent  venue  \n0         5          10       0  2020-10-17  Arminia     Bayern Munich   Home  \n1         6          10       0  2020-10-25  Arminia         Wolfsburg   Away  \n2         5          10       0  2020-10-31  Arminia          Dortmund   Home  \n3         5          11       0  2020-11-07  Arminia      Union Berlin   Away  \n4         5          11       0  2020-11-21  Arminia  Bayer Leverkusen   Home  \n\n[5 rows x 158 columns]",
      "text/html": "<div>\n<style scoped>\n    .dataframe tbody tr th:only-of-type {\n        vertical-align: middle;\n    }\n\n    .dataframe tbody tr th {\n        vertical-align: top;\n    }\n\n    .dataframe thead th {\n        text-align: right;\n    }\n</style>\n<table border=\"1\" class=\"dataframe\">\n  <thead>\n    <tr style=\"text-align: right;\">\n      <th></th>\n      <th>key</th>\n      <th>gf_rolling_avg</th>\n      <th>ga_rolling_avg</th>\n      <th>xg_rolling_avg</th>\n      <th>xga_rolling_avg</th>\n      <th>poss_rolling_avg</th>\n      <th>attendance_rolling_avg</th>\n      <th>shooting_standard_sh_rolling_avg</th>\n      <th>shooting_standard_sot_rolling_avg</th>\n      <th>shooting_standard_sot%_rolling_avg</th>\n      <th>...</th>\n      <th>opponent_code</th>\n      <th>venue_code</th>\n      <th>hour</th>\n      <th>day_code</th>\n      <th>month_code</th>\n      <th>target</th>\n      <th>date</th>\n      <th>team</th>\n      <th>opponent</th>\n      <th>venue</th>\n    </tr>\n  </thead>\n  <tbody>\n    <tr>\n      <th>0</th>\n      <td>2020-10-17_Arminia_Bayern Munich</td>\n      <td>0.666667</td>\n      <td>0.666667</td>\n      <td>0.700000</td>\n      <td>1.366667</td>\n      <td>49.000000</td>\n      <td>4086.666667</td>\n      <td>9.333333</td>\n      <td>3.333333</td>\n      <td>35.433333</td>\n      <td>...</td>\n      <td>3</td>\n      <td>1</td>\n      <td>18</td>\n      <td>5</td>\n      <td>10</td>\n      <td>0</td>\n      <td>2020-10-17</td>\n      <td>Arminia</td>\n      <td>Bayern Munich</td>\n      <td>Home</td>\n    </tr>\n    <tr>\n      <th>1</th>\n      <td>2020-10-25_Wolfsburg_Arminia</td>\n      <td>0.666667</td>\n      <td>1.666667</td>\n      <td>0.900000</td>\n      <td>1.633333</td>\n      <td>47.666667</td>\n      <td>NaN</td>\n      <td>9.000000</td>\n      <td>3.666667</td>\n      <td>39.500000</td>\n      <td>...</td>\n      <td>26</td>\n      <td>0</td>\n      <td>15</td>\n      <td>6</td>\n      <td>10</td>\n      <td>0</td>\n      <td>2020-10-25</td>\n      <td>Arminia</td>\n      <td>Wolfsburg</td>\n      <td>Away</td>\n    </tr>\n    <tr>\n      <th>2</th>\n      <td>2020-10-31_Arminia_Dortmund</td>\n      <td>0.666667</td>\n      <td>2.333333</td>\n      <td>1.000000</td>\n      <td>1.900000</td>\n      <td>49.333333</td>\n      <td>NaN</td>\n      <td>9.666667</td>\n      <td>3.333333</td>\n      <td>33.666667</td>\n      <td>...</td>\n      <td>6</td>\n      <td>1</td>\n      <td>15</td>\n      <td>5</td>\n      <td>10</td>\n      <td>0</td>\n      <td>2020-10-31</td>\n      <td>Arminia</td>\n      <td>Dortmund</td>\n      <td>Home</td>\n    </tr>\n    <tr>\n      <th>3</th>\n      <td>2020-11-07_Union Berlin_Arminia</td>\n      <td>0.666667</td>\n      <td>2.666667</td>\n      <td>0.733333</td>\n      <td>2.566667</td>\n      <td>37.000000</td>\n      <td>NaN</td>\n      <td>8.333333</td>\n      <td>2.666667</td>\n      <td>32.200000</td>\n      <td>...</td>\n      <td>24</td>\n      <td>0</td>\n      <td>15</td>\n      <td>5</td>\n      <td>11</td>\n      <td>0</td>\n      <td>2020-11-07</td>\n      <td>Arminia</td>\n      <td>Union Berlin</td>\n      <td>Away</td>\n    </tr>\n    <tr>\n      <th>4</th>\n      <td>2020-11-21_Arminia_Bayer Leverkusen</td>\n      <td>0.333333</td>\n      <td>3.000000</td>\n      <td>0.366667</td>\n      <td>2.200000</td>\n      <td>42.000000</td>\n      <td>NaN</td>\n      <td>6.666667</td>\n      <td>1.333333</td>\n      <td>22.600000</td>\n      <td>...</td>\n      <td>2</td>\n      <td>1</td>\n      <td>15</td>\n      <td>5</td>\n      <td>11</td>\n      <td>0</td>\n      <td>2020-11-21</td>\n      <td>Arminia</td>\n      <td>Bayer Leverkusen</td>\n      <td>Home</td>\n    </tr>\n  </tbody>\n</table>\n<p>5 rows × 158 columns</p>\n</div>"
     },
     "execution_count": 25,
     "metadata": {},
     "output_type": "execute_result"
    }
   ],
   "source": [
    "# create a uniqe identifier key for each match\n",
    "# for matches_df if venue == 'Home', key = date_team_opponent\n",
    "# for matches_df if venue == 'Away', key = date_opponent_team\n",
    "\n",
    "matches_df.insert(0,'key','')\n",
    "matches_df['key'] = matches_df.apply(\n",
    "    lambda x: f\"{x['date']}_{x['team']}_{x['opponent']}\" if x['venue'] == 'Home' else f\"{x['date']}_{x['opponent']}_{x['team']}\",\n",
    "    axis=1\n",
    ")\n",
    "matches_df.head()"
   ],
   "metadata": {
    "collapsed": false,
    "ExecuteTime": {
     "end_time": "2023-11-23T18:33:39.493150035Z",
     "start_time": "2023-11-23T18:33:39.321607098Z"
    }
   },
   "id": "24b9b70e90255c37"
  },
  {
   "cell_type": "code",
   "execution_count": 26,
   "outputs": [
    {
     "data": {
      "text/plain": "                                            key  fthg  ftag ftr  hthg  htag  \\\n0  2022-08-05_Eintracht Frankfurt_Bayern Munich     1     6   A     0     5   \n1                  2022-08-06_Augsburg_Freiburg     0     4   A     0     0   \n2                    2022-08-06_Bochum_Mainz 05     1     2   A     1     1   \n3         2022-08-06_Monchengladbach_Hoffenheim     3     1   H     1     1   \n4            2022-08-06_Union Berlin_Hertha BSC     3     1   H     1     0   \n\n  htr  hs  as  hst  ...  bbmx>2.5  bbav>2.5  bbmx<2.5  bbav<2.5  bbah  bbahh  \\\n0   A   8  23    2  ...       NaN       NaN       NaN       NaN   NaN    NaN   \n1   D  10  19    2  ...       NaN       NaN       NaN       NaN   NaN    NaN   \n2   D  16  13    3  ...       NaN       NaN       NaN       NaN   NaN    NaN   \n3   D  18   2    8  ...       NaN       NaN       NaN       NaN   NaN    NaN   \n4   H  18   9    8  ...       NaN       NaN       NaN       NaN   NaN    NaN   \n\n   bbmxahh  bbavahh  bbmxaha  bbavaha  \n0      NaN      NaN      NaN      NaN  \n1      NaN      NaN      NaN      NaN  \n2      NaN      NaN      NaN      NaN  \n3      NaN      NaN      NaN      NaN  \n4      NaN      NaN      NaN      NaN  \n\n[5 rows x 122 columns]",
      "text/html": "<div>\n<style scoped>\n    .dataframe tbody tr th:only-of-type {\n        vertical-align: middle;\n    }\n\n    .dataframe tbody tr th {\n        vertical-align: top;\n    }\n\n    .dataframe thead th {\n        text-align: right;\n    }\n</style>\n<table border=\"1\" class=\"dataframe\">\n  <thead>\n    <tr style=\"text-align: right;\">\n      <th></th>\n      <th>key</th>\n      <th>fthg</th>\n      <th>ftag</th>\n      <th>ftr</th>\n      <th>hthg</th>\n      <th>htag</th>\n      <th>htr</th>\n      <th>hs</th>\n      <th>as</th>\n      <th>hst</th>\n      <th>...</th>\n      <th>bbmx&gt;2.5</th>\n      <th>bbav&gt;2.5</th>\n      <th>bbmx&lt;2.5</th>\n      <th>bbav&lt;2.5</th>\n      <th>bbah</th>\n      <th>bbahh</th>\n      <th>bbmxahh</th>\n      <th>bbavahh</th>\n      <th>bbmxaha</th>\n      <th>bbavaha</th>\n    </tr>\n  </thead>\n  <tbody>\n    <tr>\n      <th>0</th>\n      <td>2022-08-05_Eintracht Frankfurt_Bayern Munich</td>\n      <td>1</td>\n      <td>6</td>\n      <td>A</td>\n      <td>0</td>\n      <td>5</td>\n      <td>A</td>\n      <td>8</td>\n      <td>23</td>\n      <td>2</td>\n      <td>...</td>\n      <td>NaN</td>\n      <td>NaN</td>\n      <td>NaN</td>\n      <td>NaN</td>\n      <td>NaN</td>\n      <td>NaN</td>\n      <td>NaN</td>\n      <td>NaN</td>\n      <td>NaN</td>\n      <td>NaN</td>\n    </tr>\n    <tr>\n      <th>1</th>\n      <td>2022-08-06_Augsburg_Freiburg</td>\n      <td>0</td>\n      <td>4</td>\n      <td>A</td>\n      <td>0</td>\n      <td>0</td>\n      <td>D</td>\n      <td>10</td>\n      <td>19</td>\n      <td>2</td>\n      <td>...</td>\n      <td>NaN</td>\n      <td>NaN</td>\n      <td>NaN</td>\n      <td>NaN</td>\n      <td>NaN</td>\n      <td>NaN</td>\n      <td>NaN</td>\n      <td>NaN</td>\n      <td>NaN</td>\n      <td>NaN</td>\n    </tr>\n    <tr>\n      <th>2</th>\n      <td>2022-08-06_Bochum_Mainz 05</td>\n      <td>1</td>\n      <td>2</td>\n      <td>A</td>\n      <td>1</td>\n      <td>1</td>\n      <td>D</td>\n      <td>16</td>\n      <td>13</td>\n      <td>3</td>\n      <td>...</td>\n      <td>NaN</td>\n      <td>NaN</td>\n      <td>NaN</td>\n      <td>NaN</td>\n      <td>NaN</td>\n      <td>NaN</td>\n      <td>NaN</td>\n      <td>NaN</td>\n      <td>NaN</td>\n      <td>NaN</td>\n    </tr>\n    <tr>\n      <th>3</th>\n      <td>2022-08-06_Monchengladbach_Hoffenheim</td>\n      <td>3</td>\n      <td>1</td>\n      <td>H</td>\n      <td>1</td>\n      <td>1</td>\n      <td>D</td>\n      <td>18</td>\n      <td>2</td>\n      <td>8</td>\n      <td>...</td>\n      <td>NaN</td>\n      <td>NaN</td>\n      <td>NaN</td>\n      <td>NaN</td>\n      <td>NaN</td>\n      <td>NaN</td>\n      <td>NaN</td>\n      <td>NaN</td>\n      <td>NaN</td>\n      <td>NaN</td>\n    </tr>\n    <tr>\n      <th>4</th>\n      <td>2022-08-06_Union Berlin_Hertha BSC</td>\n      <td>3</td>\n      <td>1</td>\n      <td>H</td>\n      <td>1</td>\n      <td>0</td>\n      <td>H</td>\n      <td>18</td>\n      <td>9</td>\n      <td>8</td>\n      <td>...</td>\n      <td>NaN</td>\n      <td>NaN</td>\n      <td>NaN</td>\n      <td>NaN</td>\n      <td>NaN</td>\n      <td>NaN</td>\n      <td>NaN</td>\n      <td>NaN</td>\n      <td>NaN</td>\n      <td>NaN</td>\n    </tr>\n  </tbody>\n</table>\n<p>5 rows × 122 columns</p>\n</div>"
     },
     "execution_count": 26,
     "metadata": {},
     "output_type": "execute_result"
    }
   ],
   "source": [
    "# for odds_df key = date_team_opponent\n",
    "odds_df.insert(0,'key','')\n",
    "odds_df['key'] = odds_df.apply(\n",
    "    lambda x: f\"{x['date']}_{x['team']}_{x['opponent']}\",\n",
    "    axis=1\n",
    ")\n",
    "# drop date, team, opponent columns to not create duplicates when merging\n",
    "odds_df.drop(columns=['date','team','opponent'], inplace=True)\n",
    "odds_df.head()"
   ],
   "metadata": {
    "collapsed": false,
    "ExecuteTime": {
     "end_time": "2023-11-23T18:33:39.493999792Z",
     "start_time": "2023-11-23T18:33:39.415591324Z"
    }
   },
   "id": "b011fc6acc47bff"
  },
  {
   "cell_type": "code",
   "execution_count": 27,
   "outputs": [
    {
     "name": "stdout",
     "output_type": "stream",
     "text": [
      "set()\n",
      "{'2017-09-09_Monchengladbach_Eintracht Frankfurt', '2017-08-19_Wolfsburg_Dortmund', '2017-08-27_RB Leipzig_Freiburg', '2017-08-20_Freiburg_Eintracht Frankfurt', '2017-08-18_Bayern Munich_Bayer Leverkusen', '2017-09-09_Augsburg_Koln', '2017-08-26_Bayer Leverkusen_Hoffenheim', '2017-09-08_Hamburger SV_RB Leipzig', '2017-09-09_Wolfsburg_Hannover 96', '2017-09-09_Mainz 05_Bayer Leverkusen', '2017-09-10_Hertha BSC_Werder Bremen', '2017-09-10_Schalke 04_Stuttgart', '2017-08-26_Stuttgart_Mainz 05', '2017-08-19_Hoffenheim_Werder Bremen', '2017-08-26_Werder Bremen_Bayern Munich', '2017-08-27_Hannover 96_Schalke 04', '2017-08-19_Hamburger SV_Augsburg', '2017-08-19_Schalke 04_RB Leipzig', '2017-08-25_Koln_Hamburger SV', '2017-08-19_Hertha BSC_Stuttgart', '2017-09-09_Freiburg_Dortmund', '2017-09-09_Hoffenheim_Bayern Munich', '2017-08-19_Mainz 05_Hannover 96', '2017-08-26_Dortmund_Hertha BSC', '2017-08-26_Augsburg_Monchengladbach', '2017-08-26_Eintracht Frankfurt_Wolfsburg', '2017-08-20_Monchengladbach_Koln'}\n",
      "---------------------\n",
      "2017\n",
      "2017\n",
      "2017\n",
      "2017\n",
      "2017\n",
      "2017\n",
      "2017\n",
      "2017\n",
      "2017\n",
      "2017\n",
      "2017\n",
      "2017\n",
      "2017\n",
      "2017\n",
      "2017\n",
      "2017\n",
      "2017\n",
      "2017\n",
      "2017\n",
      "2017\n",
      "2017\n",
      "2017\n",
      "2017\n",
      "2017\n",
      "2017\n",
      "2017\n",
      "2017\n"
     ]
    }
   ],
   "source": [
    "## see difference in keys\n",
    "print(set(matches_df['key'].unique()) - set(odds_df['key'].unique()))\n",
    "print(set(odds_df['key'].unique()) - set(matches_df['key'].unique()))\n",
    "print('---------------------')\n",
    "# We do expect to have matches missing from 2017 because we dropped them to create rolling averages\n",
    "# iterate and make sure each key starts with 2017\n",
    "for key in set(odds_df['key'].unique()) - set(matches_df['key'].unique()):\n",
    "    print(key[:4])"
   ],
   "metadata": {
    "collapsed": false,
    "ExecuteTime": {
     "end_time": "2023-11-23T18:33:39.551517312Z",
     "start_time": "2023-11-23T18:33:39.415873482Z"
    }
   },
   "id": "fa0e23c2e0745535"
  },
  {
   "cell_type": "code",
   "execution_count": 28,
   "outputs": [
    {
     "data": {
      "text/plain": "                                   key  gf_rolling_avg  ga_rolling_avg  \\\n0     2020-10-17_Arminia_Bayern Munich        0.666667        0.666667   \n1         2020-10-25_Wolfsburg_Arminia        0.666667        1.666667   \n2          2020-10-31_Arminia_Dortmund        0.666667        2.333333   \n3      2020-11-07_Union Berlin_Arminia        0.666667        2.666667   \n4  2020-11-21_Arminia_Bayer Leverkusen        0.333333        3.000000   \n\n   xg_rolling_avg  xga_rolling_avg  poss_rolling_avg  attendance_rolling_avg  \\\n0        0.700000         1.366667         49.000000             4086.666667   \n1        0.900000         1.633333         47.666667                     NaN   \n2        1.000000         1.900000         49.333333                     NaN   \n3        0.733333         2.566667         37.000000                     NaN   \n4        0.366667         2.200000         42.000000                     NaN   \n\n   shooting_standard_sh_rolling_avg  shooting_standard_sot_rolling_avg  \\\n0                          9.333333                           3.333333   \n1                          9.000000                           3.666667   \n2                          9.666667                           3.333333   \n3                          8.333333                           2.666667   \n4                          6.666667                           1.333333   \n\n   shooting_standard_sot%_rolling_avg  ...  bbmx>2.5  bbav>2.5  bbmx<2.5  \\\n0                           35.433333  ...       NaN       NaN       NaN   \n1                           39.500000  ...       NaN       NaN       NaN   \n2                           33.666667  ...       NaN       NaN       NaN   \n3                           32.200000  ...       NaN       NaN       NaN   \n4                           22.600000  ...       NaN       NaN       NaN   \n\n   bbav<2.5  bbah  bbahh  bbmxahh  bbavahh  bbmxaha  bbavaha  \n0       NaN   NaN    NaN      NaN      NaN      NaN      NaN  \n1       NaN   NaN    NaN      NaN      NaN      NaN      NaN  \n2       NaN   NaN    NaN      NaN      NaN      NaN      NaN  \n3       NaN   NaN    NaN      NaN      NaN      NaN      NaN  \n4       NaN   NaN    NaN      NaN      NaN      NaN      NaN  \n\n[5 rows x 279 columns]",
      "text/html": "<div>\n<style scoped>\n    .dataframe tbody tr th:only-of-type {\n        vertical-align: middle;\n    }\n\n    .dataframe tbody tr th {\n        vertical-align: top;\n    }\n\n    .dataframe thead th {\n        text-align: right;\n    }\n</style>\n<table border=\"1\" class=\"dataframe\">\n  <thead>\n    <tr style=\"text-align: right;\">\n      <th></th>\n      <th>key</th>\n      <th>gf_rolling_avg</th>\n      <th>ga_rolling_avg</th>\n      <th>xg_rolling_avg</th>\n      <th>xga_rolling_avg</th>\n      <th>poss_rolling_avg</th>\n      <th>attendance_rolling_avg</th>\n      <th>shooting_standard_sh_rolling_avg</th>\n      <th>shooting_standard_sot_rolling_avg</th>\n      <th>shooting_standard_sot%_rolling_avg</th>\n      <th>...</th>\n      <th>bbmx&gt;2.5</th>\n      <th>bbav&gt;2.5</th>\n      <th>bbmx&lt;2.5</th>\n      <th>bbav&lt;2.5</th>\n      <th>bbah</th>\n      <th>bbahh</th>\n      <th>bbmxahh</th>\n      <th>bbavahh</th>\n      <th>bbmxaha</th>\n      <th>bbavaha</th>\n    </tr>\n  </thead>\n  <tbody>\n    <tr>\n      <th>0</th>\n      <td>2020-10-17_Arminia_Bayern Munich</td>\n      <td>0.666667</td>\n      <td>0.666667</td>\n      <td>0.700000</td>\n      <td>1.366667</td>\n      <td>49.000000</td>\n      <td>4086.666667</td>\n      <td>9.333333</td>\n      <td>3.333333</td>\n      <td>35.433333</td>\n      <td>...</td>\n      <td>NaN</td>\n      <td>NaN</td>\n      <td>NaN</td>\n      <td>NaN</td>\n      <td>NaN</td>\n      <td>NaN</td>\n      <td>NaN</td>\n      <td>NaN</td>\n      <td>NaN</td>\n      <td>NaN</td>\n    </tr>\n    <tr>\n      <th>1</th>\n      <td>2020-10-25_Wolfsburg_Arminia</td>\n      <td>0.666667</td>\n      <td>1.666667</td>\n      <td>0.900000</td>\n      <td>1.633333</td>\n      <td>47.666667</td>\n      <td>NaN</td>\n      <td>9.000000</td>\n      <td>3.666667</td>\n      <td>39.500000</td>\n      <td>...</td>\n      <td>NaN</td>\n      <td>NaN</td>\n      <td>NaN</td>\n      <td>NaN</td>\n      <td>NaN</td>\n      <td>NaN</td>\n      <td>NaN</td>\n      <td>NaN</td>\n      <td>NaN</td>\n      <td>NaN</td>\n    </tr>\n    <tr>\n      <th>2</th>\n      <td>2020-10-31_Arminia_Dortmund</td>\n      <td>0.666667</td>\n      <td>2.333333</td>\n      <td>1.000000</td>\n      <td>1.900000</td>\n      <td>49.333333</td>\n      <td>NaN</td>\n      <td>9.666667</td>\n      <td>3.333333</td>\n      <td>33.666667</td>\n      <td>...</td>\n      <td>NaN</td>\n      <td>NaN</td>\n      <td>NaN</td>\n      <td>NaN</td>\n      <td>NaN</td>\n      <td>NaN</td>\n      <td>NaN</td>\n      <td>NaN</td>\n      <td>NaN</td>\n      <td>NaN</td>\n    </tr>\n    <tr>\n      <th>3</th>\n      <td>2020-11-07_Union Berlin_Arminia</td>\n      <td>0.666667</td>\n      <td>2.666667</td>\n      <td>0.733333</td>\n      <td>2.566667</td>\n      <td>37.000000</td>\n      <td>NaN</td>\n      <td>8.333333</td>\n      <td>2.666667</td>\n      <td>32.200000</td>\n      <td>...</td>\n      <td>NaN</td>\n      <td>NaN</td>\n      <td>NaN</td>\n      <td>NaN</td>\n      <td>NaN</td>\n      <td>NaN</td>\n      <td>NaN</td>\n      <td>NaN</td>\n      <td>NaN</td>\n      <td>NaN</td>\n    </tr>\n    <tr>\n      <th>4</th>\n      <td>2020-11-21_Arminia_Bayer Leverkusen</td>\n      <td>0.333333</td>\n      <td>3.000000</td>\n      <td>0.366667</td>\n      <td>2.200000</td>\n      <td>42.000000</td>\n      <td>NaN</td>\n      <td>6.666667</td>\n      <td>1.333333</td>\n      <td>22.600000</td>\n      <td>...</td>\n      <td>NaN</td>\n      <td>NaN</td>\n      <td>NaN</td>\n      <td>NaN</td>\n      <td>NaN</td>\n      <td>NaN</td>\n      <td>NaN</td>\n      <td>NaN</td>\n      <td>NaN</td>\n      <td>NaN</td>\n    </tr>\n  </tbody>\n</table>\n<p>5 rows × 279 columns</p>\n</div>"
     },
     "execution_count": 28,
     "metadata": {},
     "output_type": "execute_result"
    }
   ],
   "source": [
    "# merge the datasets based on those keys\n",
    "merged_df = pd.merge(matches_df, odds_df, on='key', how='left')\n",
    "merged_df.head()"
   ],
   "metadata": {
    "collapsed": false,
    "ExecuteTime": {
     "end_time": "2023-11-23T18:33:39.552750776Z",
     "start_time": "2023-11-23T18:33:39.459554358Z"
    }
   },
   "id": "ffc4432412654ed"
  },
  {
   "cell_type": "code",
   "execution_count": 29,
   "outputs": [
    {
     "name": "stdout",
     "output_type": "stream",
     "text": [
      "Memory usage of dataframe is 8.06539535522461 MB\n",
      "Memory usage of dataframe after reduction 2.0234336853027344 MB\n",
      "Reduced by 74.91215748038944 % \n"
     ]
    }
   ],
   "source": [
    "from reduce_memory_usage import reduce_memory_usage \n",
    "\n",
    "merged_df = reduce_memory_usage(merged_df)"
   ],
   "metadata": {
    "collapsed": false,
    "ExecuteTime": {
     "end_time": "2023-11-23T18:33:39.674515358Z",
     "start_time": "2023-11-23T18:33:39.459799011Z"
    }
   },
   "id": "cda3aa3de3121846"
  }
 ],
 "metadata": {
  "kernelspec": {
   "display_name": "Python 3",
   "language": "python",
   "name": "python3"
  },
  "language_info": {
   "codemirror_mode": {
    "name": "ipython",
    "version": 2
   },
   "file_extension": ".py",
   "mimetype": "text/x-python",
   "name": "python",
   "nbconvert_exporter": "python",
   "pygments_lexer": "ipython2",
   "version": "2.7.6"
  }
 },
 "nbformat": 4,
 "nbformat_minor": 5
}
