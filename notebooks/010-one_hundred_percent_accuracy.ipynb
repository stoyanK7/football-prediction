{
 "cells": [
  {
   "cell_type": "markdown",
   "source": [
    "# 100% Precision? Why?\n",
    "### By Stoyan Kostadinov (4092384)\n",
    "### For 'AI for Society' minor"
   ],
   "metadata": {
    "collapsed": false
   },
   "id": "e3ed389b8243fe50"
  },
  {
   "cell_type": "markdown",
   "source": [
    "## Introduction\n",
    "\n",
    "My personal project this semester is about predicting football match outcomes. Until now I have gathered 7 Bundesliga seasons of data which equates to over 1800 mathes. I have used this data to train a `RandomForestClassifier` model which predicts the outcome of a match based on the past performance of the two teams (goals, assists, saves, passes, etc...). The model has achieved 100% precision in predicting the outcome of 9 test cases. This is a very interesting result and makes me wonder why this is the case. I will investigate this issue in this project.\n",
    "\n",
    "The importance of finding out why the model achieves 100% precision is that it will help me understand the data better and will allow me to see how the model works under the hood.\n",
    "\n",
    "> Important note: The dataset contains two rows of data for each match. One for the home team and one for the away team.\n",
    "\n",
    "### Main Research Question and Sub-questions\n",
    "\n",
    "**Why does the `RandomForestClassifier` achieve 100% precision in predicting football match outcomes with a dataset of 1880 samples and 9 test cases, using only 50% of the features for training?**\n",
    "\n",
    "- What are the key characteristics of the dataset, such as the distribution of classes (win, lose, draw), feature types, and any notable patterns?\n",
    "- Which features contribute the most to the predictive performance? Are there specific features that consistently appear in the decision trees?\n",
    "- How well does the model generalize to new data? Evaluate the performance on a separate test set and check for signs of overfitting.\n",
    "- What happens to the model's precision when using more than 50% or fewer than 50% of the features during training? How does the number of features affect the model's performance?\n",
    "- Can you interpret the decision trees to understand why certain features are crucial for achieving high precision? Are there specific combinations of features leading to certain predictions?"
   ],
   "metadata": {
    "collapsed": false
   },
   "id": "ac463565d1cdeb31"
  },
  {
   "cell_type": "markdown",
   "source": [
    "## Dataset Overview\n",
    "\n"
   ],
   "metadata": {
    "collapsed": false
   },
   "id": "f37cf45515d21085"
  }
 ],
 "metadata": {
  "kernelspec": {
   "display_name": "Python 3",
   "language": "python",
   "name": "python3"
  },
  "language_info": {
   "codemirror_mode": {
    "name": "ipython",
    "version": 2
   },
   "file_extension": ".py",
   "mimetype": "text/x-python",
   "name": "python",
   "nbconvert_exporter": "python",
   "pygments_lexer": "ipython2",
   "version": "2.7.6"
  }
 },
 "nbformat": 4,
 "nbformat_minor": 5
}
