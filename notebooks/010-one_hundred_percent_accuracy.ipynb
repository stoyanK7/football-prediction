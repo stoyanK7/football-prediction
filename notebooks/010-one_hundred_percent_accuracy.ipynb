{
 "cells": [
  {
   "cell_type": "code",
   "execution_count": 16,
   "outputs": [
    {
     "name": "stdout",
     "output_type": "stream",
     "text": [
      "Memory usage of dataframe is 4.538646697998047 MB\n",
      "Memory usage of dataframe after reduction 1.1289539337158203 MB\n",
      "Reduced by 75.12575864929538 % \n",
      "Train: 3771 matches (99.52%)\n",
      "Test: 18 matches (0.48%)\n",
      "Precision: 40.00%\n",
      "Precision: 0.4 with percentile: 5\n",
      "Train: 3771 matches (99.52%)\n",
      "Test: 18 matches (0.48%)\n",
      "Precision: 66.67%\n",
      "Precision: 0.6666666666666666 with percentile: 10\n",
      "Train: 3771 matches (99.52%)\n",
      "Test: 18 matches (0.48%)\n",
      "Precision: 75.00%\n",
      "Precision: 0.75 with percentile: 15\n",
      "Train: 3771 matches (99.52%)\n",
      "Test: 18 matches (0.48%)\n",
      "Precision: 66.67%\n",
      "Precision: 0.6666666666666666 with percentile: 20\n",
      "Train: 3771 matches (99.52%)\n",
      "Test: 18 matches (0.48%)\n",
      "Precision: 66.67%\n",
      "Precision: 0.6666666666666666 with percentile: 25\n",
      "Train: 3771 matches (99.52%)\n",
      "Test: 18 matches (0.48%)\n",
      "Precision: 75.00%\n",
      "Precision: 0.75 with percentile: 30\n",
      "Train: 3771 matches (99.52%)\n",
      "Test: 18 matches (0.48%)\n",
      "Precision: 75.00%\n",
      "Precision: 0.75 with percentile: 35\n",
      "Train: 3771 matches (99.52%)\n",
      "Test: 18 matches (0.48%)\n",
      "Precision: 75.00%\n",
      "Precision: 0.75 with percentile: 40\n",
      "Train: 3771 matches (99.52%)\n",
      "Test: 18 matches (0.48%)\n",
      "Precision: 80.00%\n",
      "Precision: 0.8 with percentile: 45\n",
      "Train: 3771 matches (99.52%)\n",
      "Test: 18 matches (0.48%)\n",
      "Precision: 66.67%\n",
      "Precision: 0.6666666666666666 with percentile: 50\n",
      "Train: 3771 matches (99.52%)\n",
      "Test: 18 matches (0.48%)\n",
      "Precision: 75.00%\n",
      "Precision: 0.75 with percentile: 55\n",
      "Train: 3771 matches (99.52%)\n",
      "Test: 18 matches (0.48%)\n",
      "Precision: 75.00%\n",
      "Precision: 0.75 with percentile: 60\n",
      "Train: 3771 matches (99.52%)\n",
      "Test: 18 matches (0.48%)\n",
      "Precision: 75.00%\n",
      "Precision: 0.75 with percentile: 65\n",
      "Train: 3771 matches (99.52%)\n",
      "Test: 18 matches (0.48%)\n",
      "Precision: 75.00%\n",
      "Precision: 0.75 with percentile: 70\n",
      "Train: 3771 matches (99.52%)\n",
      "Test: 18 matches (0.48%)\n",
      "Precision: 100.00%\n",
      "Precision: 1.0 with percentile: 75\n",
      "Train: 3771 matches (99.52%)\n",
      "Test: 18 matches (0.48%)\n",
      "Precision: 75.00%\n",
      "Precision: 0.75 with percentile: 80\n",
      "Train: 3771 matches (99.52%)\n",
      "Test: 18 matches (0.48%)\n",
      "Precision: 75.00%\n",
      "Precision: 0.75 with percentile: 85\n",
      "Train: 3771 matches (99.52%)\n",
      "Test: 18 matches (0.48%)\n",
      "Precision: 75.00%\n",
      "Precision: 0.75 with percentile: 90\n",
      "Train: 3771 matches (99.52%)\n",
      "Test: 18 matches (0.48%)\n",
      "Precision: 75.00%\n",
      "Precision: 0.75 with percentile: 95\n",
      "Train: 3771 matches (99.52%)\n",
      "Test: 18 matches (0.48%)\n",
      "Precision: 75.00%\n",
      "Precision: 0.75 with percentile: 100\n",
      "----------------------------------\n",
      "Best precision: 1.0 with percentile: 75\n",
      "Len of predictors: 114\n",
      "Best predictors: \n",
      "['gf_rolling_avg', 'ga_rolling_avg', 'xg_rolling_avg', 'xga_rolling_avg', 'poss_rolling_avg', 'attendance_rolling_avg', 'shooting_standard_sh_rolling_avg', 'shooting_standard_sot_rolling_avg', 'shooting_standard_sot%_rolling_avg', 'shooting_standard_g/sh_rolling_avg', 'shooting_standard_g/sot_rolling_avg', 'shooting_standard_dist_rolling_avg', 'shooting_expected_npxg_rolling_avg', 'shooting_expected_npxg/sh_rolling_avg', 'shooting_expected_g-xg_rolling_avg', 'shooting_expected_np:g-xg_rolling_avg', 'keeper_performance_sota_rolling_avg', 'keeper_performance_saves_rolling_avg', 'keeper_performance_cs_rolling_avg', 'keeper_performance_psxg_rolling_avg', 'keeper_launched_cmp_rolling_avg', 'keeper_launched_att_rolling_avg', 'keeper_passes_thr_rolling_avg', 'keeper_passes_launch%_rolling_avg', 'keeper_passes_avglen_rolling_avg', 'keeper_goal_kicks_att_rolling_avg', 'keeper_goal_kicks_launch%_rolling_avg', 'keeper_goal_kicks_avglen_rolling_avg', 'keeper_crosses_opp_rolling_avg', 'keeper_crosses_stp_rolling_avg', 'keeper_sweeper_#opa_rolling_avg', 'keeper_sweeper_avgdist_rolling_avg', 'passing_total_cmp_rolling_avg', 'passing_total_att_rolling_avg', 'passing_total_cmp%_rolling_avg', 'passing_total_totdist_rolling_avg', 'passing_total_prgdist_rolling_avg', 'passing_short_cmp_rolling_avg', 'passing_short_att_rolling_avg', 'passing_short_cmp%_rolling_avg', 'passing_medium_cmp_rolling_avg', 'passing_medium_att_rolling_avg', 'passing_medium_cmp%_rolling_avg', 'passing_long_cmp_rolling_avg', 'passing_long_cmp%_rolling_avg', 'passing_ast_rolling_avg', 'passing_xag_rolling_avg', 'passing_xa_rolling_avg', 'passing_kp_rolling_avg', 'passing_1/3_rolling_avg', 'passing_ppa_rolling_avg', 'passing_crspa_rolling_avg', 'passing_prgp_rolling_avg', 'passing_types_pass_types_live_rolling_avg', 'passing_types_pass_types_dead_rolling_avg', 'passing_types_pass_types_fk_rolling_avg', 'passing_types_pass_types_tb_rolling_avg', 'passing_types_pass_types_sw_rolling_avg', 'passing_types_pass_types_crs_rolling_avg', 'passing_types_pass_types_ck_rolling_avg', 'passing_types_corner_kicks_in_rolling_avg', 'passing_types_outcomes_off_rolling_avg', 'gca_sca_types_sca_rolling_avg', 'gca_sca_types_passlive_rolling_avg', 'gca_sca_types_to_rolling_avg', 'gca_sca_types_sh_rolling_avg', 'gca_gca_types_gca_rolling_avg', 'gca_gca_types_passlive_rolling_avg', 'gca_gca_types_to_rolling_avg', 'gca_gca_types_sh_rolling_avg', 'gca_gca_types_def_rolling_avg', 'defense_tackles_tkl_rolling_avg', 'defense_tackles_tklw_rolling_avg', 'defense_tackles_def_3rd_rolling_avg', 'defense_tackles_att_3rd_rolling_avg', 'defense_challenges_tkl_rolling_avg', 'defense_challenges_att_rolling_avg', 'defense_challenges_lost_rolling_avg', 'defense_blocks_blocks_rolling_avg', 'defense_blocks_sh_rolling_avg', 'defense_int_rolling_avg', 'defense_tkl+int_rolling_avg', 'defense_clr_rolling_avg', 'defense_err_rolling_avg', 'possession_touches_touches_rolling_avg', 'possession_touches_def_pen_rolling_avg', 'possession_touches_mid_3rd_rolling_avg', 'possession_touches_att_3rd_rolling_avg', 'possession_touches_att_pen_rolling_avg', 'possession_touches_live_rolling_avg', 'possession_take-ons_att_rolling_avg', 'possession_take-ons_succ_rolling_avg', 'possession_take-ons_succ%_rolling_avg', 'possession_take-ons_tkld_rolling_avg', 'possession_take-ons_tkld%_rolling_avg', 'possession_carries_carries_rolling_avg', 'possession_carries_totdist_rolling_avg', 'possession_carries_prgdist_rolling_avg', 'possession_carries_prgc_rolling_avg', 'possession_carries_1/3_rolling_avg', 'possession_carries_cpa_rolling_avg', 'possession_receiving_rec_rolling_avg', 'possession_receiving_prgr_rolling_avg', 'misc_performance_crdy_rolling_avg', 'misc_performance_fls_rolling_avg', 'misc_performance_off_rolling_avg', 'misc_performance_og_rolling_avg', 'misc_performance_recov_rolling_avg', 'misc_aerial_duels_won_rolling_avg', 'misc_aerial_duels_lost_rolling_avg', 'misc_aerial_duels_won%_rolling_avg', 'team_code', 'opponent_code', 'venue_code']\n"
     ]
    }
   ],
   "source": [
    "import warnings\n",
    "warnings.filterwarnings(\"ignore\")\n",
    "from make_predictions import make_predictions\n",
    "from sklearn.metrics import precision_score\n",
    "from sklearn.ensemble import RandomForestClassifier\n",
    "from pathlib import Path\n",
    "\n",
    "import pandas as pd\n",
    "\n",
    "from settings import PROCESSED_DATA_DIR\n",
    "\n",
    "matches_df = pd.read_csv(Path(PROCESSED_DATA_DIR, 'bundesliga_matches.csv'))\n",
    "\n",
    "exclude_cols = ['team', 'opponent', 'date', 'venue', 'target']\n",
    "cols_to_fill = [col for col in matches_df.columns if col not in exclude_cols]\n",
    "matches_df[cols_to_fill] = matches_df[cols_to_fill].fillna(matches_df[cols_to_fill].mean())\n",
    "\n",
    "\n",
    "# move date,team, opponent, venue, target to the front\n",
    "# cols = matches_df.columns.tolist()\n",
    "# cols = cols[-5:] + cols[:-5]\n",
    "# matches_df = matches_df[cols]\n",
    "\n",
    "test_df = matches_df[matches_df['date'] >= '2023-11-10']\n",
    "train_df = matches_df[matches_df['date'] < '2023-11-10']\n",
    "\n",
    "from sklearn.feature_selection import f_classif, SelectPercentile\n",
    "from sklearn.impute import SimpleImputer\n",
    "from reduce_memory_usage import reduce_memory_usage\n",
    "\n",
    "# Copy and preprocess the DataFrame\n",
    "temp_df = matches_df.copy()\n",
    "temp_df = reduce_memory_usage(temp_df)\n",
    "temp_df = temp_df.select_dtypes(['number'])\n",
    "x = temp_df.drop('target', axis=1)\n",
    "y = temp_df['target']\n",
    "x = x.select_dtypes(exclude=['object'])\n",
    "\n",
    "exclude_cols = ['team', 'opponent', 'date', 'venue', 'target']\n",
    "cols_to_fill = [col for col in matches_df.columns if col not in exclude_cols]\n",
    "matches_df[cols_to_fill] = matches_df[cols_to_fill].fillna(matches_df[cols_to_fill].mean())\n",
    "\n",
    "matches_df.drop(columns=['team', 'opponent', 'venue'], axis=1, inplace=True)\n",
    "\n",
    "# Handle NaN values by imputing with the mean\n",
    "imputer = SimpleImputer(strategy='mean')\n",
    "x_imputed = imputer.fit_transform(x)\n",
    "\n",
    "best_percentile = 0\n",
    "best_precision = 0\n",
    "best_predictors = []\n",
    "best_model = None\n",
    "\n",
    "for percentile in range(5, 101, 5):\n",
    "    selector = SelectPercentile(f_classif, percentile=percentile)\n",
    "\n",
    "    # Fit and transform the imputed data\n",
    "    x_new = selector.fit_transform(x_imputed, y)\n",
    "\n",
    "    # Get selected feature indices\n",
    "    selected_indices = selector.get_support(indices=True)\n",
    "\n",
    "    # Get selected column names\n",
    "    selected_columns = x.columns[selected_indices]\n",
    "\n",
    "    # Check if matches_df has a column with rolling avg       at '2023-11-10' I GET 100%%%\n",
    "    precision, model = make_predictions(matches_df, selected_columns, cutoff_date='2023-11-10')\n",
    "\n",
    "    print(f'Precision: {precision} with percentile: {percentile}')\n",
    "\n",
    "    if precision > best_precision:\n",
    "        best_precision = precision\n",
    "        best_percentile = percentile\n",
    "        best_predictors = selected_columns\n",
    "        best_model = model\n",
    "\n",
    "print('----------------------------------')\n",
    "print(f'Best precision: {best_precision} with percentile: {best_percentile}')\n",
    "print(f'Len of predictors: {len(best_predictors)}')\n",
    "print(f'Best predictors: ')\n",
    "print(best_predictors.tolist())"
   ],
   "metadata": {
    "collapsed": false,
    "ExecuteTime": {
     "end_time": "2023-11-26T17:16:04.128817378Z",
     "start_time": "2023-11-26T17:15:35.924441524Z"
    }
   },
   "id": "e995f36223fbca49"
  },
  {
   "cell_type": "markdown",
   "source": [
    "# 100% Precision? Why?\n",
    "### By Stoyan Kostadinov (4092384)\n",
    "### For 'AI for Society' minor"
   ],
   "metadata": {
    "collapsed": false
   },
   "id": "e3ed389b8243fe50"
  },
  {
   "cell_type": "markdown",
   "source": [
    "## Introduction\n",
    "\n",
    "My personal project this semester is about predicting football match outcomes. Until now I have gathered 7 Bundesliga seasons of data which equates to over 1800 mathes. I have used this data to train a `RandomForestClassifier` model which predicts the outcome of a match based on the past performance of the two teams (goals, assists, saves, passes, etc...). The model has achieved 100% precision in predicting the outcome of 9 test cases. This is a very interesting result and makes me wonder why this is the case. I will investigate this issue in this project.\n",
    "\n",
    "The importance of finding out why the model achieves 100% precision is that it will help me understand the data better and will allow me to see how the model works under the hood.\n",
    "\n",
    "> Important note: The dataset contains two rows of data for each match. One for the home team and one for the away team.\n",
    "\n",
    "### Main Question\n",
    "\n",
    "**Why does the `RandomForestClassifier` achieve 100% precision in predicting football match outcomes with a dataset of 3771 samples and 18 test cases?"
   ],
   "metadata": {
    "collapsed": false
   },
   "id": "ac463565d1cdeb31"
  },
  {
   "cell_type": "markdown",
   "source": [
    "## Dataset Overview\n",
    "\n"
   ],
   "metadata": {
    "collapsed": false
   },
   "id": "f37cf45515d21085"
  },
  {
   "cell_type": "code",
   "execution_count": 17,
   "outputs": [
    {
     "data": {
      "text/plain": "      gf_rolling_avg  ga_rolling_avg  xg_rolling_avg  xga_rolling_avg  \\\n3788        1.666667        2.333333        1.466667         1.500000   \n2635        2.000000        2.333333        1.166667         2.133333   \n3254        1.666667        1.666667        2.533333         1.166667   \n2423        1.666667        1.666667        0.800000         1.233333   \n2211        1.333333        2.666667        1.866667         2.366667   \n2033        2.000000        2.666667        1.600000         2.333333   \n276         3.000000        1.666667        2.166667         1.633333   \n996         1.333333        2.333333        1.933333         1.933333   \n784         0.666667        4.333333        1.266667         2.966667   \n776         1.666667        1.666667        1.366667         1.133333   \n700         5.000000        0.333333        3.600000         0.933333   \n1620        1.666667        2.333333        1.033333         2.033333   \n1485        2.000000        2.000000        2.166667         1.700000   \n3576        1.333333        1.000000        0.800000         1.600000   \n2909        3.000000        1.000000        2.200000         1.400000   \n488         2.333333        1.333333        1.433333         1.333333   \n3398        0.000000        2.666667        0.633333         1.266667   \n1273        3.000000        1.333333        2.066667         1.433333   \n\n      poss_rolling_avg  attendance_rolling_avg  \\\n3788         52.666667            28611.333333   \n2635         44.666667            45413.666667   \n3254         66.000000            30070.666667   \n2423         40.333333            39305.047093   \n2211         52.333333            48593.333333   \n2033         42.666667            37833.333333   \n276          40.666667            30766.666667   \n996          55.000000            73076.666667   \n784          53.666667            36873.333333   \n776          44.666667            25903.333333   \n700          55.666667            39305.047093   \n1620         46.000000            27180.333333   \n1485         49.000000            32936.666667   \n3576         47.666667            50794.000000   \n2909         57.333333            31463.333333   \n488          60.333333            29759.000000   \n3398         45.666667            28708.000000   \n1273         45.666667            36220.666667   \n\n      shooting_standard_sh_rolling_avg  shooting_standard_sot_rolling_avg  \\\n3788                         14.666667                           5.000000   \n2635                          9.000000                           3.666667   \n3254                         16.000000                           5.000000   \n2423                         11.666667                           3.000000   \n2211                         17.666667                           6.000000   \n2033                         10.666667                           5.000000   \n276                          11.333333                           4.000000   \n996                          17.333333                           3.333333   \n784                          13.666667                           3.666667   \n776                          11.000000                           3.333333   \n700                          18.666667                           9.666667   \n1620                         14.333333                           4.000000   \n1485                         13.666667                           4.666667   \n3576                          9.333333                           3.000000   \n2909                         15.000000                           6.666667   \n488                          13.333333                           5.333333   \n3398                          9.000000                           2.000000   \n1273                         10.000000                           4.666667   \n\n      shooting_standard_sot%_rolling_avg  shooting_standard_g/sh_rolling_avg  \\\n3788                           34.533333                            0.093333   \n2635                           40.966667                            0.166667   \n3254                           32.400000                            0.130000   \n2423                           27.366667                            0.123333   \n2211                           29.200000                            0.030000   \n2033                           51.200000                            0.190000   \n276                            45.366667                            0.270000   \n996                            19.000000                            0.083333   \n784                            29.566667                            0.023333   \n776                            31.600000                            0.130000   \n700                            50.266667                            0.266667   \n1620                           31.166667                            0.116667   \n1485                           33.900000                            0.096667   \n3576                           30.266667                            0.083333   \n2909                           42.666667                            0.166667   \n488                            43.866667                            0.196667   \n3398                           22.333333                            0.000000   \n1273                           54.266667                            0.376667   \n\n      ...  opponent_code  venue_code  hour  day_code  month_code  target  \\\n3788  ...             18           0    20         4          11       0   \n2635  ...             26           1    20         4          11       1   \n3254  ...              6           1    15         5          11       1   \n2423  ...              5           0    15         5          11       0   \n2211  ...              4           0    18         5          11       0   \n2033  ...              1           0    15         5          11       0   \n276   ...             15           1    15         5          11       0   \n996   ...             23           0    15         5          11       0   \n784   ...             17           1    15         5          11       0   \n776   ...             16           1    18         5          11       0   \n700   ...             13           1    15         5          11       1   \n1620  ...              3           0    15         5          11       0   \n1485  ...             21           0    19         6          11       0   \n3576  ...              8           1    17         6          11       0   \n2909  ...              9           1    19         6          11       1   \n488   ...             24           1    15         6          11       1   \n3398  ...              2           0    15         6          11       0   \n1273  ...             25           0    17         6          11       0   \n\n            date                 team             opponent  venue  \n3788  2023-11-10            Wolfsburg      Monchengladbach   Away  \n2635  2023-11-10      Monchengladbach            Wolfsburg   Home  \n3254  2023-11-11            Stuttgart             Dortmund   Home  \n2423  2023-11-11             Mainz 05         Darmstadt 98   Away  \n2211  2023-11-11                 Koln               Bochum   Away  \n2033  2023-11-11           Hoffenheim             Augsburg   Away  \n276   2023-11-11             Augsburg           Hoffenheim   Home  \n996   2023-11-11             Dortmund            Stuttgart   Away  \n784   2023-11-11         Darmstadt 98             Mainz 05   Home  \n776   2023-11-11               Bochum                 Koln   Home  \n700   2023-11-11        Bayern Munich           Heidenheim   Home  \n1620  2023-11-11           Heidenheim        Bayern Munich   Away  \n1485  2023-11-12             Freiburg           RB Leipzig   Away  \n3576  2023-11-12        Werder Bremen  Eintracht Frankfurt   Home  \n2909  2023-11-12           RB Leipzig             Freiburg   Home  \n488   2023-11-12     Bayer Leverkusen         Union Berlin   Home  \n3398  2023-11-12         Union Berlin     Bayer Leverkusen   Away  \n1273  2023-11-12  Eintracht Frankfurt        Werder Bremen   Away  \n\n[18 rows x 157 columns]",
      "text/html": "<div>\n<style scoped>\n    .dataframe tbody tr th:only-of-type {\n        vertical-align: middle;\n    }\n\n    .dataframe tbody tr th {\n        vertical-align: top;\n    }\n\n    .dataframe thead th {\n        text-align: right;\n    }\n</style>\n<table border=\"1\" class=\"dataframe\">\n  <thead>\n    <tr style=\"text-align: right;\">\n      <th></th>\n      <th>gf_rolling_avg</th>\n      <th>ga_rolling_avg</th>\n      <th>xg_rolling_avg</th>\n      <th>xga_rolling_avg</th>\n      <th>poss_rolling_avg</th>\n      <th>attendance_rolling_avg</th>\n      <th>shooting_standard_sh_rolling_avg</th>\n      <th>shooting_standard_sot_rolling_avg</th>\n      <th>shooting_standard_sot%_rolling_avg</th>\n      <th>shooting_standard_g/sh_rolling_avg</th>\n      <th>...</th>\n      <th>opponent_code</th>\n      <th>venue_code</th>\n      <th>hour</th>\n      <th>day_code</th>\n      <th>month_code</th>\n      <th>target</th>\n      <th>date</th>\n      <th>team</th>\n      <th>opponent</th>\n      <th>venue</th>\n    </tr>\n  </thead>\n  <tbody>\n    <tr>\n      <th>3788</th>\n      <td>1.666667</td>\n      <td>2.333333</td>\n      <td>1.466667</td>\n      <td>1.500000</td>\n      <td>52.666667</td>\n      <td>28611.333333</td>\n      <td>14.666667</td>\n      <td>5.000000</td>\n      <td>34.533333</td>\n      <td>0.093333</td>\n      <td>...</td>\n      <td>18</td>\n      <td>0</td>\n      <td>20</td>\n      <td>4</td>\n      <td>11</td>\n      <td>0</td>\n      <td>2023-11-10</td>\n      <td>Wolfsburg</td>\n      <td>Monchengladbach</td>\n      <td>Away</td>\n    </tr>\n    <tr>\n      <th>2635</th>\n      <td>2.000000</td>\n      <td>2.333333</td>\n      <td>1.166667</td>\n      <td>2.133333</td>\n      <td>44.666667</td>\n      <td>45413.666667</td>\n      <td>9.000000</td>\n      <td>3.666667</td>\n      <td>40.966667</td>\n      <td>0.166667</td>\n      <td>...</td>\n      <td>26</td>\n      <td>1</td>\n      <td>20</td>\n      <td>4</td>\n      <td>11</td>\n      <td>1</td>\n      <td>2023-11-10</td>\n      <td>Monchengladbach</td>\n      <td>Wolfsburg</td>\n      <td>Home</td>\n    </tr>\n    <tr>\n      <th>3254</th>\n      <td>1.666667</td>\n      <td>1.666667</td>\n      <td>2.533333</td>\n      <td>1.166667</td>\n      <td>66.000000</td>\n      <td>30070.666667</td>\n      <td>16.000000</td>\n      <td>5.000000</td>\n      <td>32.400000</td>\n      <td>0.130000</td>\n      <td>...</td>\n      <td>6</td>\n      <td>1</td>\n      <td>15</td>\n      <td>5</td>\n      <td>11</td>\n      <td>1</td>\n      <td>2023-11-11</td>\n      <td>Stuttgart</td>\n      <td>Dortmund</td>\n      <td>Home</td>\n    </tr>\n    <tr>\n      <th>2423</th>\n      <td>1.666667</td>\n      <td>1.666667</td>\n      <td>0.800000</td>\n      <td>1.233333</td>\n      <td>40.333333</td>\n      <td>39305.047093</td>\n      <td>11.666667</td>\n      <td>3.000000</td>\n      <td>27.366667</td>\n      <td>0.123333</td>\n      <td>...</td>\n      <td>5</td>\n      <td>0</td>\n      <td>15</td>\n      <td>5</td>\n      <td>11</td>\n      <td>0</td>\n      <td>2023-11-11</td>\n      <td>Mainz 05</td>\n      <td>Darmstadt 98</td>\n      <td>Away</td>\n    </tr>\n    <tr>\n      <th>2211</th>\n      <td>1.333333</td>\n      <td>2.666667</td>\n      <td>1.866667</td>\n      <td>2.366667</td>\n      <td>52.333333</td>\n      <td>48593.333333</td>\n      <td>17.666667</td>\n      <td>6.000000</td>\n      <td>29.200000</td>\n      <td>0.030000</td>\n      <td>...</td>\n      <td>4</td>\n      <td>0</td>\n      <td>18</td>\n      <td>5</td>\n      <td>11</td>\n      <td>0</td>\n      <td>2023-11-11</td>\n      <td>Koln</td>\n      <td>Bochum</td>\n      <td>Away</td>\n    </tr>\n    <tr>\n      <th>2033</th>\n      <td>2.000000</td>\n      <td>2.666667</td>\n      <td>1.600000</td>\n      <td>2.333333</td>\n      <td>42.666667</td>\n      <td>37833.333333</td>\n      <td>10.666667</td>\n      <td>5.000000</td>\n      <td>51.200000</td>\n      <td>0.190000</td>\n      <td>...</td>\n      <td>1</td>\n      <td>0</td>\n      <td>15</td>\n      <td>5</td>\n      <td>11</td>\n      <td>0</td>\n      <td>2023-11-11</td>\n      <td>Hoffenheim</td>\n      <td>Augsburg</td>\n      <td>Away</td>\n    </tr>\n    <tr>\n      <th>276</th>\n      <td>3.000000</td>\n      <td>1.666667</td>\n      <td>2.166667</td>\n      <td>1.633333</td>\n      <td>40.666667</td>\n      <td>30766.666667</td>\n      <td>11.333333</td>\n      <td>4.000000</td>\n      <td>45.366667</td>\n      <td>0.270000</td>\n      <td>...</td>\n      <td>15</td>\n      <td>1</td>\n      <td>15</td>\n      <td>5</td>\n      <td>11</td>\n      <td>0</td>\n      <td>2023-11-11</td>\n      <td>Augsburg</td>\n      <td>Hoffenheim</td>\n      <td>Home</td>\n    </tr>\n    <tr>\n      <th>996</th>\n      <td>1.333333</td>\n      <td>2.333333</td>\n      <td>1.933333</td>\n      <td>1.933333</td>\n      <td>55.000000</td>\n      <td>73076.666667</td>\n      <td>17.333333</td>\n      <td>3.333333</td>\n      <td>19.000000</td>\n      <td>0.083333</td>\n      <td>...</td>\n      <td>23</td>\n      <td>0</td>\n      <td>15</td>\n      <td>5</td>\n      <td>11</td>\n      <td>0</td>\n      <td>2023-11-11</td>\n      <td>Dortmund</td>\n      <td>Stuttgart</td>\n      <td>Away</td>\n    </tr>\n    <tr>\n      <th>784</th>\n      <td>0.666667</td>\n      <td>4.333333</td>\n      <td>1.266667</td>\n      <td>2.966667</td>\n      <td>53.666667</td>\n      <td>36873.333333</td>\n      <td>13.666667</td>\n      <td>3.666667</td>\n      <td>29.566667</td>\n      <td>0.023333</td>\n      <td>...</td>\n      <td>17</td>\n      <td>1</td>\n      <td>15</td>\n      <td>5</td>\n      <td>11</td>\n      <td>0</td>\n      <td>2023-11-11</td>\n      <td>Darmstadt 98</td>\n      <td>Mainz 05</td>\n      <td>Home</td>\n    </tr>\n    <tr>\n      <th>776</th>\n      <td>1.666667</td>\n      <td>1.666667</td>\n      <td>1.366667</td>\n      <td>1.133333</td>\n      <td>44.666667</td>\n      <td>25903.333333</td>\n      <td>11.000000</td>\n      <td>3.333333</td>\n      <td>31.600000</td>\n      <td>0.130000</td>\n      <td>...</td>\n      <td>16</td>\n      <td>1</td>\n      <td>18</td>\n      <td>5</td>\n      <td>11</td>\n      <td>0</td>\n      <td>2023-11-11</td>\n      <td>Bochum</td>\n      <td>Koln</td>\n      <td>Home</td>\n    </tr>\n    <tr>\n      <th>700</th>\n      <td>5.000000</td>\n      <td>0.333333</td>\n      <td>3.600000</td>\n      <td>0.933333</td>\n      <td>55.666667</td>\n      <td>39305.047093</td>\n      <td>18.666667</td>\n      <td>9.666667</td>\n      <td>50.266667</td>\n      <td>0.266667</td>\n      <td>...</td>\n      <td>13</td>\n      <td>1</td>\n      <td>15</td>\n      <td>5</td>\n      <td>11</td>\n      <td>1</td>\n      <td>2023-11-11</td>\n      <td>Bayern Munich</td>\n      <td>Heidenheim</td>\n      <td>Home</td>\n    </tr>\n    <tr>\n      <th>1620</th>\n      <td>1.666667</td>\n      <td>2.333333</td>\n      <td>1.033333</td>\n      <td>2.033333</td>\n      <td>46.000000</td>\n      <td>27180.333333</td>\n      <td>14.333333</td>\n      <td>4.000000</td>\n      <td>31.166667</td>\n      <td>0.116667</td>\n      <td>...</td>\n      <td>3</td>\n      <td>0</td>\n      <td>15</td>\n      <td>5</td>\n      <td>11</td>\n      <td>0</td>\n      <td>2023-11-11</td>\n      <td>Heidenheim</td>\n      <td>Bayern Munich</td>\n      <td>Away</td>\n    </tr>\n    <tr>\n      <th>1485</th>\n      <td>2.000000</td>\n      <td>2.000000</td>\n      <td>2.166667</td>\n      <td>1.700000</td>\n      <td>49.000000</td>\n      <td>32936.666667</td>\n      <td>13.666667</td>\n      <td>4.666667</td>\n      <td>33.900000</td>\n      <td>0.096667</td>\n      <td>...</td>\n      <td>21</td>\n      <td>0</td>\n      <td>19</td>\n      <td>6</td>\n      <td>11</td>\n      <td>0</td>\n      <td>2023-11-12</td>\n      <td>Freiburg</td>\n      <td>RB Leipzig</td>\n      <td>Away</td>\n    </tr>\n    <tr>\n      <th>3576</th>\n      <td>1.333333</td>\n      <td>1.000000</td>\n      <td>0.800000</td>\n      <td>1.600000</td>\n      <td>47.666667</td>\n      <td>50794.000000</td>\n      <td>9.333333</td>\n      <td>3.000000</td>\n      <td>30.266667</td>\n      <td>0.083333</td>\n      <td>...</td>\n      <td>8</td>\n      <td>1</td>\n      <td>17</td>\n      <td>6</td>\n      <td>11</td>\n      <td>0</td>\n      <td>2023-11-12</td>\n      <td>Werder Bremen</td>\n      <td>Eintracht Frankfurt</td>\n      <td>Home</td>\n    </tr>\n    <tr>\n      <th>2909</th>\n      <td>3.000000</td>\n      <td>1.000000</td>\n      <td>2.200000</td>\n      <td>1.400000</td>\n      <td>57.333333</td>\n      <td>31463.333333</td>\n      <td>15.000000</td>\n      <td>6.666667</td>\n      <td>42.666667</td>\n      <td>0.166667</td>\n      <td>...</td>\n      <td>9</td>\n      <td>1</td>\n      <td>19</td>\n      <td>6</td>\n      <td>11</td>\n      <td>1</td>\n      <td>2023-11-12</td>\n      <td>RB Leipzig</td>\n      <td>Freiburg</td>\n      <td>Home</td>\n    </tr>\n    <tr>\n      <th>488</th>\n      <td>2.333333</td>\n      <td>1.333333</td>\n      <td>1.433333</td>\n      <td>1.333333</td>\n      <td>60.333333</td>\n      <td>29759.000000</td>\n      <td>13.333333</td>\n      <td>5.333333</td>\n      <td>43.866667</td>\n      <td>0.196667</td>\n      <td>...</td>\n      <td>24</td>\n      <td>1</td>\n      <td>15</td>\n      <td>6</td>\n      <td>11</td>\n      <td>1</td>\n      <td>2023-11-12</td>\n      <td>Bayer Leverkusen</td>\n      <td>Union Berlin</td>\n      <td>Home</td>\n    </tr>\n    <tr>\n      <th>3398</th>\n      <td>0.000000</td>\n      <td>2.666667</td>\n      <td>0.633333</td>\n      <td>1.266667</td>\n      <td>45.666667</td>\n      <td>28708.000000</td>\n      <td>9.000000</td>\n      <td>2.000000</td>\n      <td>22.333333</td>\n      <td>0.000000</td>\n      <td>...</td>\n      <td>2</td>\n      <td>0</td>\n      <td>15</td>\n      <td>6</td>\n      <td>11</td>\n      <td>0</td>\n      <td>2023-11-12</td>\n      <td>Union Berlin</td>\n      <td>Bayer Leverkusen</td>\n      <td>Away</td>\n    </tr>\n    <tr>\n      <th>1273</th>\n      <td>3.000000</td>\n      <td>1.333333</td>\n      <td>2.066667</td>\n      <td>1.433333</td>\n      <td>45.666667</td>\n      <td>36220.666667</td>\n      <td>10.000000</td>\n      <td>4.666667</td>\n      <td>54.266667</td>\n      <td>0.376667</td>\n      <td>...</td>\n      <td>25</td>\n      <td>0</td>\n      <td>17</td>\n      <td>6</td>\n      <td>11</td>\n      <td>0</td>\n      <td>2023-11-12</td>\n      <td>Eintracht Frankfurt</td>\n      <td>Werder Bremen</td>\n      <td>Away</td>\n    </tr>\n  </tbody>\n</table>\n<p>18 rows × 157 columns</p>\n</div>"
     },
     "execution_count": 17,
     "metadata": {},
     "output_type": "execute_result"
    }
   ],
   "source": [
    "# Show matches ordered by date.\n",
    "test_df.sort_values(by='date').head(20)"
   ],
   "metadata": {
    "collapsed": false,
    "ExecuteTime": {
     "end_time": "2023-11-26T17:16:04.144017113Z",
     "start_time": "2023-11-26T17:16:04.130318194Z"
    }
   },
   "id": "d8ef174870573bde"
  },
  {
   "cell_type": "code",
   "execution_count": 18,
   "outputs": [
    {
     "data": {
      "text/plain": "target\n0    13\n1     5\nName: count, dtype: int64"
     },
     "execution_count": 18,
     "metadata": {},
     "output_type": "execute_result"
    }
   ],
   "source": [
    "# Show distribution of target column.\n",
    "test_df['target'].value_counts()"
   ],
   "metadata": {
    "collapsed": false,
    "ExecuteTime": {
     "end_time": "2023-11-26T17:16:04.164040566Z",
     "start_time": "2023-11-26T17:16:04.143936586Z"
    }
   },
   "id": "adbb827199083a41"
  },
  {
   "cell_type": "code",
   "execution_count": 19,
   "outputs": [
    {
     "data": {
      "text/plain": "      gf_rolling_avg  ga_rolling_avg  xg_rolling_avg  xga_rolling_avg  \\\n2635        2.000000        2.333333        1.166667         2.133333   \n700         5.000000        0.333333        3.600000         0.933333   \n3254        1.666667        1.666667        2.533333         1.166667   \n488         2.333333        1.333333        1.433333         1.333333   \n2909        3.000000        1.000000        2.200000         1.400000   \n\n      poss_rolling_avg  attendance_rolling_avg  \\\n2635         44.666667            45413.666667   \n700          55.666667            39305.047093   \n3254         66.000000            30070.666667   \n488          60.333333            29759.000000   \n2909         57.333333            31463.333333   \n\n      shooting_standard_sh_rolling_avg  shooting_standard_sot_rolling_avg  \\\n2635                          9.000000                           3.666667   \n700                          18.666667                           9.666667   \n3254                         16.000000                           5.000000   \n488                          13.333333                           5.333333   \n2909                         15.000000                           6.666667   \n\n      shooting_standard_sot%_rolling_avg  shooting_standard_g/sh_rolling_avg  \\\n2635                           40.966667                            0.166667   \n700                            50.266667                            0.266667   \n3254                           32.400000                            0.130000   \n488                            43.866667                            0.196667   \n2909                           42.666667                            0.166667   \n\n      ...  opponent_code  venue_code  hour  day_code  month_code  target  \\\n2635  ...             26           1    20         4          11       1   \n700   ...             13           1    15         5          11       1   \n3254  ...              6           1    15         5          11       1   \n488   ...             24           1    15         6          11       1   \n2909  ...              9           1    19         6          11       1   \n\n            date              team      opponent  venue  \n2635  2023-11-10   Monchengladbach     Wolfsburg   Home  \n700   2023-11-11     Bayern Munich    Heidenheim   Home  \n3254  2023-11-11         Stuttgart      Dortmund   Home  \n488   2023-11-12  Bayer Leverkusen  Union Berlin   Home  \n2909  2023-11-12        RB Leipzig      Freiburg   Home  \n\n[5 rows x 157 columns]",
      "text/html": "<div>\n<style scoped>\n    .dataframe tbody tr th:only-of-type {\n        vertical-align: middle;\n    }\n\n    .dataframe tbody tr th {\n        vertical-align: top;\n    }\n\n    .dataframe thead th {\n        text-align: right;\n    }\n</style>\n<table border=\"1\" class=\"dataframe\">\n  <thead>\n    <tr style=\"text-align: right;\">\n      <th></th>\n      <th>gf_rolling_avg</th>\n      <th>ga_rolling_avg</th>\n      <th>xg_rolling_avg</th>\n      <th>xga_rolling_avg</th>\n      <th>poss_rolling_avg</th>\n      <th>attendance_rolling_avg</th>\n      <th>shooting_standard_sh_rolling_avg</th>\n      <th>shooting_standard_sot_rolling_avg</th>\n      <th>shooting_standard_sot%_rolling_avg</th>\n      <th>shooting_standard_g/sh_rolling_avg</th>\n      <th>...</th>\n      <th>opponent_code</th>\n      <th>venue_code</th>\n      <th>hour</th>\n      <th>day_code</th>\n      <th>month_code</th>\n      <th>target</th>\n      <th>date</th>\n      <th>team</th>\n      <th>opponent</th>\n      <th>venue</th>\n    </tr>\n  </thead>\n  <tbody>\n    <tr>\n      <th>2635</th>\n      <td>2.000000</td>\n      <td>2.333333</td>\n      <td>1.166667</td>\n      <td>2.133333</td>\n      <td>44.666667</td>\n      <td>45413.666667</td>\n      <td>9.000000</td>\n      <td>3.666667</td>\n      <td>40.966667</td>\n      <td>0.166667</td>\n      <td>...</td>\n      <td>26</td>\n      <td>1</td>\n      <td>20</td>\n      <td>4</td>\n      <td>11</td>\n      <td>1</td>\n      <td>2023-11-10</td>\n      <td>Monchengladbach</td>\n      <td>Wolfsburg</td>\n      <td>Home</td>\n    </tr>\n    <tr>\n      <th>700</th>\n      <td>5.000000</td>\n      <td>0.333333</td>\n      <td>3.600000</td>\n      <td>0.933333</td>\n      <td>55.666667</td>\n      <td>39305.047093</td>\n      <td>18.666667</td>\n      <td>9.666667</td>\n      <td>50.266667</td>\n      <td>0.266667</td>\n      <td>...</td>\n      <td>13</td>\n      <td>1</td>\n      <td>15</td>\n      <td>5</td>\n      <td>11</td>\n      <td>1</td>\n      <td>2023-11-11</td>\n      <td>Bayern Munich</td>\n      <td>Heidenheim</td>\n      <td>Home</td>\n    </tr>\n    <tr>\n      <th>3254</th>\n      <td>1.666667</td>\n      <td>1.666667</td>\n      <td>2.533333</td>\n      <td>1.166667</td>\n      <td>66.000000</td>\n      <td>30070.666667</td>\n      <td>16.000000</td>\n      <td>5.000000</td>\n      <td>32.400000</td>\n      <td>0.130000</td>\n      <td>...</td>\n      <td>6</td>\n      <td>1</td>\n      <td>15</td>\n      <td>5</td>\n      <td>11</td>\n      <td>1</td>\n      <td>2023-11-11</td>\n      <td>Stuttgart</td>\n      <td>Dortmund</td>\n      <td>Home</td>\n    </tr>\n    <tr>\n      <th>488</th>\n      <td>2.333333</td>\n      <td>1.333333</td>\n      <td>1.433333</td>\n      <td>1.333333</td>\n      <td>60.333333</td>\n      <td>29759.000000</td>\n      <td>13.333333</td>\n      <td>5.333333</td>\n      <td>43.866667</td>\n      <td>0.196667</td>\n      <td>...</td>\n      <td>24</td>\n      <td>1</td>\n      <td>15</td>\n      <td>6</td>\n      <td>11</td>\n      <td>1</td>\n      <td>2023-11-12</td>\n      <td>Bayer Leverkusen</td>\n      <td>Union Berlin</td>\n      <td>Home</td>\n    </tr>\n    <tr>\n      <th>2909</th>\n      <td>3.000000</td>\n      <td>1.000000</td>\n      <td>2.200000</td>\n      <td>1.400000</td>\n      <td>57.333333</td>\n      <td>31463.333333</td>\n      <td>15.000000</td>\n      <td>6.666667</td>\n      <td>42.666667</td>\n      <td>0.166667</td>\n      <td>...</td>\n      <td>9</td>\n      <td>1</td>\n      <td>19</td>\n      <td>6</td>\n      <td>11</td>\n      <td>1</td>\n      <td>2023-11-12</td>\n      <td>RB Leipzig</td>\n      <td>Freiburg</td>\n      <td>Home</td>\n    </tr>\n  </tbody>\n</table>\n<p>5 rows × 157 columns</p>\n</div>"
     },
     "execution_count": 19,
     "metadata": {},
     "output_type": "execute_result"
    }
   ],
   "source": [
    "# Show the matches with target = 1 since this is what the precision is based on.\n",
    "test_df[test_df['target'] == 1].sort_values(by='date')"
   ],
   "metadata": {
    "collapsed": false,
    "ExecuteTime": {
     "end_time": "2023-11-26T17:16:04.230569345Z",
     "start_time": "2023-11-26T17:16:04.154295284Z"
    }
   },
   "id": "57d014bfc3dec533"
  },
  {
   "cell_type": "code",
   "execution_count": 20,
   "outputs": [
    {
     "data": {
      "text/plain": "<Axes: ylabel='count'>"
     },
     "execution_count": 20,
     "metadata": {},
     "output_type": "execute_result"
    },
    {
     "data": {
      "text/plain": "<Figure size 640x480 with 1 Axes>",
      "image/png": "[encoded data removed]"
     },
     "metadata": {},
     "output_type": "display_data"
    }
   ],
   "source": [
    "# Show a pie chart of venue distribution for target = 1.\n",
    "test_df[test_df['target'] == 1]['venue'].value_counts().plot.pie()"
   ],
   "metadata": {
    "collapsed": false,
    "ExecuteTime": {
     "end_time": "2023-11-26T17:16:04.315724823Z",
     "start_time": "2023-11-26T17:16:04.176539894Z"
    }
   },
   "id": "58891f81ba3a60ad"
  },
  {
   "cell_type": "markdown",
   "source": [
    "Bundesliga rankings (as of 2023-11-10):\n",
    "1. Bayer Leverkusen\n",
    "2. Bayern Munich\n",
    "3. Stuttgart\n",
    "4. Dortmund\n",
    "5. RB Leipzig\n",
    "6. Hoffenheim\n",
    "7. Eintracht Frankfurt\n",
    "8. Wolfsburg\n",
    "9. SC Freiburg\n",
    "10. Augsburg\n",
    "11. Monchengladbach\n",
    "12. Werder Bremen\n",
    "13. Heidenheim\n",
    "14. Bochum\n",
    "15. Darmstadt\n",
    "16. Mainz\n",
    "17. Union Berlin\n",
    "18. Koln"
   ],
   "metadata": {
    "collapsed": false
   },
   "id": "beb60dd5bb1e6862"
  },
  {
   "cell_type": "markdown",
   "source": [
    "| Home Team | Away Team | Home Team Rank | Away Team Rank |\n",
    "|-----------|-----------|----------------|----------------|\n",
    "| Bayern    | Heidenheim| 2              | 13             |\n",
    "| Stuttgart | Dortmund  | 3              | 4              |\n",
    "| Leverkusen| Union     | 1              | 17             |\n",
    "| Leipzig   | Freiburg  | 5              | 9              |\n",
    "| Gladbach  | Wolfsburg | 11             | 8              |"
   ],
   "metadata": {
    "collapsed": false
   },
   "id": "d6b239b3a15eb98b"
  },
  {
   "cell_type": "markdown",
   "source": [
    "Monchengladbach vs Wolfsburg [pre-match insights](https://www.google.com/search?channel=fs&client=ubuntu-sn&q=bundesliga+standings#sie=m;/g/11kqnvpr32;2;/m/037169;tl;fp;1;;;):\n",
    "\n",
    "1. Borussia Mönchengladbach are unbeaten in their last seven competitive meetings with Wolfsburg (W3, D4 – all Bundesliga) since a 2-1 away loss in December 2019. It is currently the Foals’ best streak against a current Bundesliga club.\n",
    "2. Borussia Mönchengladbach have made their worst start to a Bundesliga season after 10 games (10 points) for 13 years. Gladbach only had six points at this stage in 2010/11, when they survived relegation via the play-off.\n",
    "3. VfL Wolfsburg are without a win in four Bundesliga games (D1, L3) for the first time since January/February of this year. Only Union Berlin have picked up fewer points over the last four matchdays (0) than the Wolves (1)."
   ],
   "metadata": {
    "collapsed": false
   },
   "id": "b1b2dacdf4d06637"
  },
  {
   "cell_type": "markdown",
   "source": [
    "## Visualizing the model"
   ],
   "metadata": {
    "collapsed": false
   },
   "id": "b083b242c1ade075"
  },
  {
   "cell_type": "code",
   "execution_count": 26,
   "outputs": [
    {
     "name": "stderr",
     "output_type": "stream",
     "text": [
      "dot: graph is too large for cairo-renderer bitmaps. Scaling by 0.139776 to fit\n"
     ]
    },
    {
     "data": {
      "text/plain": "0"
     },
     "execution_count": 26,
     "metadata": {},
     "output_type": "execute_result"
    }
   ],
   "source": [
    "estimator = best_model.estimators_[0]\n",
    "from sklearn.tree import export_graphviz\n",
    "# Export as dot file\n",
    "export_graphviz(estimator,\n",
    "                out_file='010-tree.dot',\n",
    "                feature_names=best_predictors,\n",
    "                filled=True,\n",
    "                rounded=True)\n",
    "\n",
    "# Convert to png using system command (requires Graphviz)\n",
    "from subprocess import call\n",
    "call(['dot', '-Tpng', '010-tree.dot', '-o', '010-tree.png', '-Gdpi=600'])"
   ],
   "metadata": {
    "collapsed": false,
    "ExecuteTime": {
     "end_time": "2023-11-26T17:30:46.145368187Z",
     "start_time": "2023-11-26T17:30:42.300374160Z"
    }
   },
   "id": "150c0bdb34795006"
  },
  {
   "cell_type": "code",
   "execution_count": 29,
   "outputs": [
    {
     "data": {
      "text/plain": "      gf_rolling_avg  ga_rolling_avg  xg_rolling_avg  xga_rolling_avg  \\\n2635             2.0        2.333333        1.166667         2.133333   \n\n      poss_rolling_avg  attendance_rolling_avg  \\\n2635         44.666667            45413.666667   \n\n      shooting_standard_sh_rolling_avg  shooting_standard_sot_rolling_avg  \\\n2635                               9.0                           3.666667   \n\n      shooting_standard_sot%_rolling_avg  shooting_standard_g/sh_rolling_avg  \\\n2635                           40.966667                            0.166667   \n\n      ...  misc_performance_fls_rolling_avg  misc_performance_off_rolling_avg  \\\n2635  ...                          8.333333                          1.666667   \n\n      misc_performance_og_rolling_avg  misc_performance_recov_rolling_avg  \\\n2635                              0.0                           55.333333   \n\n      misc_aerial_duels_won_rolling_avg  misc_aerial_duels_lost_rolling_avg  \\\n2635                          15.666667                           18.666667   \n\n      misc_aerial_duels_won%_rolling_avg  team_code  opponent_code  venue_code  \n2635                                45.1         18             26           1  \n\n[1 rows x 114 columns]",
      "text/html": "<div>\n<style scoped>\n    .dataframe tbody tr th:only-of-type {\n        vertical-align: middle;\n    }\n\n    .dataframe tbody tr th {\n        vertical-align: top;\n    }\n\n    .dataframe thead th {\n        text-align: right;\n    }\n</style>\n<table border=\"1\" class=\"dataframe\">\n  <thead>\n    <tr style=\"text-align: right;\">\n      <th></th>\n      <th>gf_rolling_avg</th>\n      <th>ga_rolling_avg</th>\n      <th>xg_rolling_avg</th>\n      <th>xga_rolling_avg</th>\n      <th>poss_rolling_avg</th>\n      <th>attendance_rolling_avg</th>\n      <th>shooting_standard_sh_rolling_avg</th>\n      <th>shooting_standard_sot_rolling_avg</th>\n      <th>shooting_standard_sot%_rolling_avg</th>\n      <th>shooting_standard_g/sh_rolling_avg</th>\n      <th>...</th>\n      <th>misc_performance_fls_rolling_avg</th>\n      <th>misc_performance_off_rolling_avg</th>\n      <th>misc_performance_og_rolling_avg</th>\n      <th>misc_performance_recov_rolling_avg</th>\n      <th>misc_aerial_duels_won_rolling_avg</th>\n      <th>misc_aerial_duels_lost_rolling_avg</th>\n      <th>misc_aerial_duels_won%_rolling_avg</th>\n      <th>team_code</th>\n      <th>opponent_code</th>\n      <th>venue_code</th>\n    </tr>\n  </thead>\n  <tbody>\n    <tr>\n      <th>2635</th>\n      <td>2.0</td>\n      <td>2.333333</td>\n      <td>1.166667</td>\n      <td>2.133333</td>\n      <td>44.666667</td>\n      <td>45413.666667</td>\n      <td>9.0</td>\n      <td>3.666667</td>\n      <td>40.966667</td>\n      <td>0.166667</td>\n      <td>...</td>\n      <td>8.333333</td>\n      <td>1.666667</td>\n      <td>0.0</td>\n      <td>55.333333</td>\n      <td>15.666667</td>\n      <td>18.666667</td>\n      <td>45.1</td>\n      <td>18</td>\n      <td>26</td>\n      <td>1</td>\n    </tr>\n  </tbody>\n</table>\n<p>1 rows × 114 columns</p>\n</div>"
     },
     "execution_count": 29,
     "metadata": {},
     "output_type": "execute_result"
    }
   ],
   "source": [
    "# show monchengladbach vs wolfsburg\n",
    "outlier = test_df[(test_df['team'] == 'Monchengladbach') & (test_df['opponent'] == 'Wolfsburg')][best_predictors]\n",
    "outlier"
   ],
   "metadata": {
    "collapsed": false,
    "ExecuteTime": {
     "end_time": "2023-11-26T17:42:16.083988099Z",
     "start_time": "2023-11-26T17:42:16.041326184Z"
    }
   },
   "id": "5e8eb168b7b7afbb"
  },
  {
   "cell_type": "code",
   "execution_count": 51,
   "outputs": [
    {
     "name": "stdout",
     "output_type": "stream",
     "text": [
      "2635    24.333333\n",
      "Name: passing_1/3_rolling_avg, dtype: float64\n",
      "2635    393.0\n",
      "Name: passing_total_cmp_rolling_avg, dtype: float64\n",
      "2635    0.833333\n",
      "Name: passing_xag_rolling_avg, dtype: float64\n",
      "2635    1\n",
      "Name: venue_code, dtype: int64\n",
      "2635    160.333333\n",
      "Name: passing_short_cmp_rolling_avg, dtype: float64\n",
      "2635    26\n",
      "Name: opponent_code, dtype: int64\n",
      "2635    4.333333\n",
      "Name: keeper_performance_saves_rolling_avg, dtype: float64\n",
      "2635    8.666667\n",
      "Name: possession_take-ons_succ_rolling_avg, dtype: float64\n",
      "2635    498.0\n",
      "Name: passing_total_att_rolling_avg, dtype: float64\n",
      "2635    4.666667\n",
      "Name: possession_carries_cpa_rolling_avg, dtype: float64\n",
      "2635    1.0\n",
      "Name: passing_ast_rolling_avg, dtype: float64\n",
      "2635    187.333333\n",
      "Name: passing_medium_cmp_rolling_avg, dtype: float64\n",
      "2635    50.666667\n",
      "Name: passing_long_cmp%_rolling_avg, dtype: float64\n",
      "2635    15.666667\n",
      "Name: misc_aerial_duels_won_rolling_avg, dtype: float64\n",
      "2635    160.333333\n",
      "Name: passing_short_cmp_rolling_avg, dtype: float64\n"
     ]
    }
   ],
   "source": [
    "print(outlier['passing_1/3_rolling_avg'])\n",
    "print(outlier['passing_total_cmp_rolling_avg'])\n",
    "print(outlier['passing_xag_rolling_avg'])\n",
    "print(outlier['venue_code'])\n",
    "print(outlier['passing_short_cmp_rolling_avg'])\n",
    "print(outlier['opponent_code'])\n",
    "print(outlier['keeper_performance_saves_rolling_avg'])\n",
    "print(outlier['possession_take-ons_succ_rolling_avg'])\n",
    "print(outlier['passing_total_att_rolling_avg'])\n",
    "print(outlier['possession_carries_cpa_rolling_avg'])\n",
    "print(outlier['passing_ast_rolling_avg'])\n",
    "print(outlier['passing_medium_cmp_rolling_avg'])\n",
    "print(outlier['passing_long_cmp%_rolling_avg'])\n",
    "print(outlier['misc_aerial_duels_won_rolling_avg'])\n",
    "print(outlier['passing_short_cmp_rolling_avg'])"
   ],
   "metadata": {
    "collapsed": false,
    "ExecuteTime": {
     "end_time": "2023-11-26T17:52:39.803458697Z",
     "start_time": "2023-11-26T17:52:39.761188457Z"
    }
   },
   "id": "e5a122be601e5f6b"
  },
  {
   "cell_type": "markdown",
   "source": [
    "## Conclusion\n",
    "- All 5 guessed matches are played at home.\n",
    "- 4 of the 5 guessed matches are against teams with a lower rank.\n",
    "- The outlier is Monchengladbach vs Wolfsburg but Monchengladbach has been consistently performing better than Wolfsburg in the past 7 matches."
   ],
   "metadata": {
    "collapsed": false
   },
   "id": "3bf8dceb9448050d"
  }
 ],
 "metadata": {
  "kernelspec": {
   "display_name": "Python 3",
   "language": "python",
   "name": "python3"
  },
  "language_info": {
   "codemirror_mode": {
    "name": "ipython",
    "version": 2
   },
   "file_extension": ".py",
   "mimetype": "text/x-python",
   "name": "python",
   "nbconvert_exporter": "python",
   "pygments_lexer": "ipython2",
   "version": "2.7.6"
  }
 },
 "nbformat": 4,
 "nbformat_minor": 5
}
