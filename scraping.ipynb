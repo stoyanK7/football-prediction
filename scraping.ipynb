{
 "cells": [
  {
   "cell_type": "code",
   "execution_count": 9,
   "id": "initial_id",
   "metadata": {
    "collapsed": true,
    "ExecuteTime": {
     "end_time": "2023-09-20T07:48:52.101433190Z",
     "start_time": "2023-09-20T07:48:52.099689460Z"
    }
   },
   "outputs": [],
   "source": [
    "import requests\n",
    "import pandas as pd\n",
    "from bs4 import BeautifulSoup\n",
    "from time import sleep"
   ]
  },
  {
   "cell_type": "code",
   "execution_count": 10,
   "outputs": [],
   "source": [
    "base_url = 'https://fbref.com'\n",
    "stats_url = f'{base_url}/en/comps/20/Bundesliga-Stats'"
   ],
   "metadata": {
    "collapsed": false,
    "ExecuteTime": {
     "end_time": "2023-09-20T07:48:52.990730620Z",
     "start_time": "2023-09-20T07:48:52.988212977Z"
    }
   },
   "id": "1d4d5877ffd98428"
  },
  {
   "cell_type": "code",
   "execution_count": 11,
   "outputs": [
    {
     "name": "stdout",
     "output_type": "stream",
     "text": [
      "Fetching https://fbref.com/en/comps/20/Bundesliga-Stats\n",
      " Scraping Bayer Leverkusen\n",
      " Scraping Bayern Munich\n",
      " Scraping RB Leipzig\n",
      " Scraping Stuttgart\n",
      " Scraping Hoffenheim\n",
      " Scraping Wolfsburg\n",
      " Scraping Dortmund\n",
      " Scraping Union Berlin\n",
      " Scraping Eintracht Frankfurt\n",
      " Scraping Freiburg\n",
      " Scraping Heidenheim\n",
      " Scraping Werder Bremen\n",
      " Scraping Bochum\n",
      " Scraping Monchengladbach\n",
      " Scraping Augsburg\n",
      " Scraping Koln\n",
      " Scraping Darmstadt 98\n",
      " Scraping Mainz 05\n",
      "Fetching https://fbref.com/en/comps/20/2022-2023/2022-2023-Bundesliga-Stats\n",
      " Scraping Bayern Munich\n",
      " Scraping Dortmund\n",
      " Scraping RB Leipzig\n",
      " Scraping Union Berlin\n",
      " Scraping Freiburg\n",
      " Scraping Bayer Leverkusen\n",
      " Scraping Eintracht Frankfurt\n",
      " Scraping Wolfsburg\n",
      " Scraping Mainz 05\n",
      " Scraping Monchengladbach\n",
      " Scraping Koln\n",
      " Scraping Hoffenheim\n",
      " Scraping Werder Bremen\n",
      " Scraping Bochum\n",
      " Scraping Augsburg\n",
      " Scraping Stuttgart\n",
      " Scraping Schalke 04\n",
      " Scraping Hertha BSC\n",
      "Fetching https://fbref.com/en/comps/20/2021-2022/2021-2022-Bundesliga-Stats\n",
      " Scraping Bayern Munich\n",
      " Scraping Dortmund\n",
      " Scraping Bayer Leverkusen\n",
      " Scraping RB Leipzig\n",
      " Scraping Union Berlin\n",
      " Scraping Freiburg\n",
      " Scraping Koln\n",
      " Scraping Mainz 05\n",
      " Scraping Hoffenheim\n",
      " Scraping Monchengladbach\n",
      " Scraping Eintracht Frankfurt\n",
      " Scraping Wolfsburg\n",
      " Scraping Bochum\n",
      " Scraping Augsburg\n",
      " Scraping Stuttgart\n",
      " Scraping Hertha BSC\n",
      " Scraping Arminia\n",
      " Scraping Greuther Furth\n",
      "Fetching https://fbref.com/en/comps/20/2020-2021/2020-2021-Bundesliga-Stats\n",
      " Scraping Bayern Munich\n",
      " Scraping RB Leipzig\n",
      " Scraping Dortmund\n",
      " Scraping Wolfsburg\n",
      " Scraping Eintracht Frankfurt\n",
      " Scraping Bayer Leverkusen\n",
      " Scraping Union Berlin\n",
      " Scraping Monchengladbach\n",
      " Scraping Stuttgart\n",
      " Scraping Freiburg\n",
      " Scraping Hoffenheim\n",
      " Scraping Mainz 05\n",
      " Scraping Augsburg\n",
      " Scraping Hertha BSC\n",
      " Scraping Arminia\n",
      " Scraping Koln\n",
      " Scraping Werder Bremen\n",
      " Scraping Schalke 04\n",
      "Fetching https://fbref.com/en/comps/20/2019-2020/2019-2020-Bundesliga-Stats\n",
      " Scraping Bayern Munich\n",
      " Scraping Dortmund\n",
      " Scraping RB Leipzig\n",
      " Scraping Monchengladbach\n",
      " Scraping Bayer Leverkusen\n",
      " Scraping Hoffenheim\n",
      " Scraping Wolfsburg\n",
      " Scraping Freiburg\n",
      " Scraping Eintracht Frankfurt\n",
      " Scraping Hertha BSC\n",
      " Scraping Union Berlin\n",
      " Scraping Schalke 04\n",
      " Scraping Mainz 05\n",
      " Scraping Koln\n",
      " Scraping Augsburg\n",
      " Scraping Werder Bremen\n",
      " Scraping Dusseldorf\n",
      " Scraping Paderborn 07\n",
      "Fetching https://fbref.com/en/comps/20/2018-2019/2018-2019-Bundesliga-Stats\n",
      " Scraping Bayern Munich\n",
      " Scraping Dortmund\n",
      " Scraping RB Leipzig\n",
      " Scraping Bayer Leverkusen\n",
      " Scraping Monchengladbach\n",
      " Scraping Wolfsburg\n",
      " Scraping Eintracht Frankfurt\n",
      " Scraping Werder Bremen\n",
      " Scraping Hoffenheim\n",
      " Scraping Dusseldorf\n",
      " Scraping Hertha BSC\n",
      " Scraping Mainz 05\n",
      " Scraping Freiburg\n",
      " Scraping Schalke 04\n",
      " Scraping Augsburg\n",
      " Scraping Stuttgart\n",
      " Scraping Hannover 96\n",
      " Scraping Nurnberg\n",
      "Fetching https://fbref.com/en/comps/20/2017-2018/2017-2018-Bundesliga-Stats\n",
      " Scraping Bayern Munich\n",
      " Scraping Schalke 04\n",
      " Scraping Hoffenheim\n",
      " Scraping Dortmund\n",
      " Scraping Bayer Leverkusen\n",
      " Scraping RB Leipzig\n",
      " Scraping Stuttgart\n",
      " Scraping Eintracht Frankfurt\n",
      " Scraping Monchengladbach\n",
      " Scraping Hertha BSC\n",
      " Scraping Werder Bremen\n",
      " Scraping Augsburg\n",
      " Scraping Hannover 96\n",
      " Scraping Mainz 05\n",
      " Scraping Freiburg\n",
      " Scraping Wolfsburg\n",
      " Scraping Hamburger SV\n",
      " Scraping Koln\n",
      "Fetching https://fbref.com/en/comps/20/2016-2017/2016-2017-Bundesliga-Stats\n",
      " Scraping Bayern Munich\n"
     ]
    },
    {
     "ename": "KeyError",
     "evalue": "\"['FK'] not in index\"",
     "output_type": "error",
     "traceback": [
      "\u001B[0;31m---------------------------------------------------------------------------\u001B[0m",
      "\u001B[0;31mKeyError\u001B[0m                                  Traceback (most recent call last)",
      "Cell \u001B[0;32mIn[11], line 34\u001B[0m\n\u001B[1;32m     28\u001B[0m shooting_stats_df\u001B[38;5;241m.\u001B[39mcolumns \u001B[38;5;241m=\u001B[39m shooting_stats_df\u001B[38;5;241m.\u001B[39mcolumns\u001B[38;5;241m.\u001B[39mdroplevel(\u001B[38;5;241m0\u001B[39m)\n\u001B[1;32m     31\u001B[0m \u001B[38;5;28;01mtry\u001B[39;00m:\n\u001B[1;32m     32\u001B[0m     team_matches_df \u001B[38;5;241m=\u001B[39m team_matches_df\\\n\u001B[1;32m     33\u001B[0m                         \u001B[38;5;241m.\u001B[39mmerge(\n\u001B[0;32m---> 34\u001B[0m         shooting_stats_df[[\u001B[38;5;124m\"\u001B[39m\u001B[38;5;124mDate\u001B[39m\u001B[38;5;124m\"\u001B[39m, \u001B[38;5;124m\"\u001B[39m\u001B[38;5;124mSh\u001B[39m\u001B[38;5;124m\"\u001B[39m, \u001B[38;5;124m\"\u001B[39m\u001B[38;5;124mSoT\u001B[39m\u001B[38;5;124m\"\u001B[39m, \u001B[38;5;124m\"\u001B[39m\u001B[38;5;124mDist\u001B[39m\u001B[38;5;124m\"\u001B[39m, \u001B[38;5;124m\"\u001B[39m\u001B[38;5;124mFK\u001B[39m\u001B[38;5;124m\"\u001B[39m, \u001B[38;5;124m\"\u001B[39m\u001B[38;5;124mPK\u001B[39m\u001B[38;5;124m\"\u001B[39m, \u001B[38;5;124m\"\u001B[39m\u001B[38;5;124mPKatt\u001B[39m\u001B[38;5;124m\"\u001B[39m]],\n\u001B[1;32m     35\u001B[0m         on\u001B[38;5;241m=\u001B[39m\u001B[38;5;124m\"\u001B[39m\u001B[38;5;124mDate\u001B[39m\u001B[38;5;124m\"\u001B[39m\n\u001B[1;32m     36\u001B[0m     )\n\u001B[1;32m     37\u001B[0m \u001B[38;5;28;01mexcept\u001B[39;00m \u001B[38;5;167;01mValueError\u001B[39;00m:\n\u001B[1;32m     38\u001B[0m     \u001B[38;5;28;01mcontinue\u001B[39;00m\n",
      "File \u001B[0;32m~/anaconda3/lib/python3.11/site-packages/pandas/core/frame.py:3813\u001B[0m, in \u001B[0;36mDataFrame.__getitem__\u001B[0;34m(self, key)\u001B[0m\n\u001B[1;32m   3811\u001B[0m     \u001B[38;5;28;01mif\u001B[39;00m is_iterator(key):\n\u001B[1;32m   3812\u001B[0m         key \u001B[38;5;241m=\u001B[39m \u001B[38;5;28mlist\u001B[39m(key)\n\u001B[0;32m-> 3813\u001B[0m     indexer \u001B[38;5;241m=\u001B[39m \u001B[38;5;28mself\u001B[39m\u001B[38;5;241m.\u001B[39mcolumns\u001B[38;5;241m.\u001B[39m_get_indexer_strict(key, \u001B[38;5;124m\"\u001B[39m\u001B[38;5;124mcolumns\u001B[39m\u001B[38;5;124m\"\u001B[39m)[\u001B[38;5;241m1\u001B[39m]\n\u001B[1;32m   3815\u001B[0m \u001B[38;5;66;03m# take() does not accept boolean indexers\u001B[39;00m\n\u001B[1;32m   3816\u001B[0m \u001B[38;5;28;01mif\u001B[39;00m \u001B[38;5;28mgetattr\u001B[39m(indexer, \u001B[38;5;124m\"\u001B[39m\u001B[38;5;124mdtype\u001B[39m\u001B[38;5;124m\"\u001B[39m, \u001B[38;5;28;01mNone\u001B[39;00m) \u001B[38;5;241m==\u001B[39m \u001B[38;5;28mbool\u001B[39m:\n",
      "File \u001B[0;32m~/anaconda3/lib/python3.11/site-packages/pandas/core/indexes/base.py:6070\u001B[0m, in \u001B[0;36mIndex._get_indexer_strict\u001B[0;34m(self, key, axis_name)\u001B[0m\n\u001B[1;32m   6067\u001B[0m \u001B[38;5;28;01melse\u001B[39;00m:\n\u001B[1;32m   6068\u001B[0m     keyarr, indexer, new_indexer \u001B[38;5;241m=\u001B[39m \u001B[38;5;28mself\u001B[39m\u001B[38;5;241m.\u001B[39m_reindex_non_unique(keyarr)\n\u001B[0;32m-> 6070\u001B[0m \u001B[38;5;28mself\u001B[39m\u001B[38;5;241m.\u001B[39m_raise_if_missing(keyarr, indexer, axis_name)\n\u001B[1;32m   6072\u001B[0m keyarr \u001B[38;5;241m=\u001B[39m \u001B[38;5;28mself\u001B[39m\u001B[38;5;241m.\u001B[39mtake(indexer)\n\u001B[1;32m   6073\u001B[0m \u001B[38;5;28;01mif\u001B[39;00m \u001B[38;5;28misinstance\u001B[39m(key, Index):\n\u001B[1;32m   6074\u001B[0m     \u001B[38;5;66;03m# GH 42790 - Preserve name from an Index\u001B[39;00m\n",
      "File \u001B[0;32m~/anaconda3/lib/python3.11/site-packages/pandas/core/indexes/base.py:6133\u001B[0m, in \u001B[0;36mIndex._raise_if_missing\u001B[0;34m(self, key, indexer, axis_name)\u001B[0m\n\u001B[1;32m   6130\u001B[0m     \u001B[38;5;28;01mraise\u001B[39;00m \u001B[38;5;167;01mKeyError\u001B[39;00m(\u001B[38;5;124mf\u001B[39m\u001B[38;5;124m\"\u001B[39m\u001B[38;5;124mNone of [\u001B[39m\u001B[38;5;132;01m{\u001B[39;00mkey\u001B[38;5;132;01m}\u001B[39;00m\u001B[38;5;124m] are in the [\u001B[39m\u001B[38;5;132;01m{\u001B[39;00maxis_name\u001B[38;5;132;01m}\u001B[39;00m\u001B[38;5;124m]\u001B[39m\u001B[38;5;124m\"\u001B[39m)\n\u001B[1;32m   6132\u001B[0m not_found \u001B[38;5;241m=\u001B[39m \u001B[38;5;28mlist\u001B[39m(ensure_index(key)[missing_mask\u001B[38;5;241m.\u001B[39mnonzero()[\u001B[38;5;241m0\u001B[39m]]\u001B[38;5;241m.\u001B[39munique())\n\u001B[0;32m-> 6133\u001B[0m \u001B[38;5;28;01mraise\u001B[39;00m \u001B[38;5;167;01mKeyError\u001B[39;00m(\u001B[38;5;124mf\u001B[39m\u001B[38;5;124m\"\u001B[39m\u001B[38;5;132;01m{\u001B[39;00mnot_found\u001B[38;5;132;01m}\u001B[39;00m\u001B[38;5;124m not in index\u001B[39m\u001B[38;5;124m\"\u001B[39m)\n",
      "\u001B[0;31mKeyError\u001B[0m: \"['FK'] not in index\""
     ]
    }
   ],
   "source": [
    "seasons_to_scrape = 7\n",
    "all_matches = []\n",
    "current_stats_url = stats_url\n",
    "\n",
    "for season_no in range(seasons_to_scrape):\n",
    "    print(f'Fetching {current_stats_url}')\n",
    "\n",
    "    stats_html = requests.get(current_stats_url, headers = {'User-agent': 'fontys4'})\n",
    "    stats_soup = BeautifulSoup(stats_html.text)\n",
    "\n",
    "    standings_table = stats_soup.select('table.stats_table')[0]\n",
    "    teams_anchors = standings_table.select('tr td:nth-of-type(1) a')\n",
    "    teams_urls = [f'https://fbref.com{anchor[\"href\"]}' for anchor in teams_anchors]\n",
    "\n",
    "    for team_url in teams_urls:\n",
    "        team_name = team_url\\\n",
    "                        .split('/')[-1]\\\n",
    "                        .replace('-Stats', '')\\\n",
    "                        .replace('-', ' ')\n",
    "        print(f' Scraping {team_name}')\n",
    "\n",
    "        team_html = requests.get(team_url, headers = {'User-agent': 'fontys5'})\n",
    "        team_matches_df = pd.read_html(team_html.text, match='Scores & Fixtures')[0]\n",
    "        team_soup = BeautifulSoup(team_html.text)\n",
    "\n",
    "        shooting_stats_link = team_soup.select('div.filter div a[href*=\"all_comps/shooting\"]')[0]['href']\n",
    "        shooting_stats_df = pd.read_html(f'https://fbref.com{shooting_stats_link}', match='Shooting')[0]\n",
    "        shooting_stats_df.columns = shooting_stats_df.columns.droplevel(0)\n",
    "\n",
    "\n",
    "        try:\n",
    "            team_matches_df = team_matches_df\\\n",
    "                                .merge(\n",
    "                shooting_stats_df[[\"Date\", \"Sh\", \"SoT\", \"Dist\", \"FK\", \"PK\", \"PKatt\"]],\n",
    "                on=\"Date\"\n",
    "            )\n",
    "        except ValueError:\n",
    "            continue\n",
    "\n",
    "        team_matches_df['Team'] = team_name\n",
    "        all_matches.append(team_matches_df)\n",
    "        sleep(5)\n",
    "        \n",
    "    href_to_previous_season = stats_soup.select('div.prevnext a:-soup-contains(\"Previous Season\")')[0]['href']\n",
    "    current_stats_url = f'{base_url}{href_to_previous_season}'\n",
    "    sleep(5)"
   ],
   "metadata": {
    "collapsed": false,
    "ExecuteTime": {
     "end_time": "2023-09-20T08:02:51.636764181Z",
     "start_time": "2023-09-20T07:49:11.993016143Z"
    }
   },
   "id": "135ca82d3d6ae317"
  },
  {
   "cell_type": "code",
   "execution_count": 12,
   "outputs": [],
   "source": [
    "all_matches_df = pd.concat(all_matches)\n",
    "all_matches_df.columns = [c.lower() for c in all_matches_df.columns]"
   ],
   "metadata": {
    "collapsed": false,
    "ExecuteTime": {
     "end_time": "2023-09-20T08:10:31.115350372Z",
     "start_time": "2023-09-20T08:10:31.073943573Z"
    }
   },
   "id": "d71cbcf9655a658d"
  },
  {
   "cell_type": "code",
   "execution_count": 14,
   "outputs": [
    {
     "data": {
      "text/plain": "(4511, 26)"
     },
     "execution_count": 14,
     "metadata": {},
     "output_type": "execute_result"
    }
   ],
   "source": [
    "all_matches_df.shape"
   ],
   "metadata": {
    "collapsed": false,
    "ExecuteTime": {
     "end_time": "2023-09-20T08:10:43.649687817Z",
     "start_time": "2023-09-20T08:10:43.641694496Z"
    }
   },
   "id": "e862691bd64dcd26"
  },
  {
   "cell_type": "code",
   "execution_count": 20,
   "outputs": [
    {
     "data": {
      "text/plain": "         date   time        comp        round  day venue result   gf   ga  \\\n0  2023-08-12  15:30   DFB-Pokal  Round of 64  Sat  Away      W  8.0  0.0   \n1  2023-08-19  15:30  Bundesliga  Matchweek 1  Sat  Home      W  3.0  2.0   \n2  2023-08-26  18:30  Bundesliga  Matchweek 2  Sat  Away      W  3.0  0.0   \n3  2023-09-02  15:30  Bundesliga  Matchweek 3  Sat  Home      W  5.0  1.0   \n4  2023-09-15  20:30  Bundesliga  Matchweek 4  Fri  Away      D  2.0  2.0   \n\n               opponent  ...            referee  match report  notes    sh  \\\n0  FC Teutonia Ottensen  ...          Tom Bauer  Match Report    NaN  22.0   \n1            RB Leipzig  ...        Felix Brych  Match Report    NaN  11.0   \n2            M'Gladbach  ...  Christian Dingert  Match Report    NaN  24.0   \n3          Darmstadt 98  ...     Sven Jablonski  Match Report    NaN  25.0   \n4         Bayern Munich  ...    Daniel Schlager  Match Report    NaN  12.0   \n\n    sot  dist   fk   pk pkatt              team  \n0  11.0   NaN  NaN  1.0   1.0  Bayer Leverkusen  \n1   7.0  19.0  0.0  0.0   0.0  Bayer Leverkusen  \n2  11.0  15.8  0.0  0.0   0.0  Bayer Leverkusen  \n3  13.0  17.3  1.0  0.0   0.0  Bayer Leverkusen  \n4   4.0  20.7  1.0  1.0   1.0  Bayer Leverkusen  \n\n[5 rows x 26 columns]",
      "text/html": "<div>\n<style scoped>\n    .dataframe tbody tr th:only-of-type {\n        vertical-align: middle;\n    }\n\n    .dataframe tbody tr th {\n        vertical-align: top;\n    }\n\n    .dataframe thead th {\n        text-align: right;\n    }\n</style>\n<table border=\"1\" class=\"dataframe\">\n  <thead>\n    <tr style=\"text-align: right;\">\n      <th></th>\n      <th>date</th>\n      <th>time</th>\n      <th>comp</th>\n      <th>round</th>\n      <th>day</th>\n      <th>venue</th>\n      <th>result</th>\n      <th>gf</th>\n      <th>ga</th>\n      <th>opponent</th>\n      <th>...</th>\n      <th>referee</th>\n      <th>match report</th>\n      <th>notes</th>\n      <th>sh</th>\n      <th>sot</th>\n      <th>dist</th>\n      <th>fk</th>\n      <th>pk</th>\n      <th>pkatt</th>\n      <th>team</th>\n    </tr>\n  </thead>\n  <tbody>\n    <tr>\n      <th>0</th>\n      <td>2023-08-12</td>\n      <td>15:30</td>\n      <td>DFB-Pokal</td>\n      <td>Round of 64</td>\n      <td>Sat</td>\n      <td>Away</td>\n      <td>W</td>\n      <td>8.0</td>\n      <td>0.0</td>\n      <td>FC Teutonia Ottensen</td>\n      <td>...</td>\n      <td>Tom Bauer</td>\n      <td>Match Report</td>\n      <td>NaN</td>\n      <td>22.0</td>\n      <td>11.0</td>\n      <td>NaN</td>\n      <td>NaN</td>\n      <td>1.0</td>\n      <td>1.0</td>\n      <td>Bayer Leverkusen</td>\n    </tr>\n    <tr>\n      <th>1</th>\n      <td>2023-08-19</td>\n      <td>15:30</td>\n      <td>Bundesliga</td>\n      <td>Matchweek 1</td>\n      <td>Sat</td>\n      <td>Home</td>\n      <td>W</td>\n      <td>3.0</td>\n      <td>2.0</td>\n      <td>RB Leipzig</td>\n      <td>...</td>\n      <td>Felix Brych</td>\n      <td>Match Report</td>\n      <td>NaN</td>\n      <td>11.0</td>\n      <td>7.0</td>\n      <td>19.0</td>\n      <td>0.0</td>\n      <td>0.0</td>\n      <td>0.0</td>\n      <td>Bayer Leverkusen</td>\n    </tr>\n    <tr>\n      <th>2</th>\n      <td>2023-08-26</td>\n      <td>18:30</td>\n      <td>Bundesliga</td>\n      <td>Matchweek 2</td>\n      <td>Sat</td>\n      <td>Away</td>\n      <td>W</td>\n      <td>3.0</td>\n      <td>0.0</td>\n      <td>M'Gladbach</td>\n      <td>...</td>\n      <td>Christian Dingert</td>\n      <td>Match Report</td>\n      <td>NaN</td>\n      <td>24.0</td>\n      <td>11.0</td>\n      <td>15.8</td>\n      <td>0.0</td>\n      <td>0.0</td>\n      <td>0.0</td>\n      <td>Bayer Leverkusen</td>\n    </tr>\n    <tr>\n      <th>3</th>\n      <td>2023-09-02</td>\n      <td>15:30</td>\n      <td>Bundesliga</td>\n      <td>Matchweek 3</td>\n      <td>Sat</td>\n      <td>Home</td>\n      <td>W</td>\n      <td>5.0</td>\n      <td>1.0</td>\n      <td>Darmstadt 98</td>\n      <td>...</td>\n      <td>Sven Jablonski</td>\n      <td>Match Report</td>\n      <td>NaN</td>\n      <td>25.0</td>\n      <td>13.0</td>\n      <td>17.3</td>\n      <td>1.0</td>\n      <td>0.0</td>\n      <td>0.0</td>\n      <td>Bayer Leverkusen</td>\n    </tr>\n    <tr>\n      <th>4</th>\n      <td>2023-09-15</td>\n      <td>20:30</td>\n      <td>Bundesliga</td>\n      <td>Matchweek 4</td>\n      <td>Fri</td>\n      <td>Away</td>\n      <td>D</td>\n      <td>2.0</td>\n      <td>2.0</td>\n      <td>Bayern Munich</td>\n      <td>...</td>\n      <td>Daniel Schlager</td>\n      <td>Match Report</td>\n      <td>NaN</td>\n      <td>12.0</td>\n      <td>4.0</td>\n      <td>20.7</td>\n      <td>1.0</td>\n      <td>1.0</td>\n      <td>1.0</td>\n      <td>Bayer Leverkusen</td>\n    </tr>\n  </tbody>\n</table>\n<p>5 rows × 26 columns</p>\n</div>"
     },
     "execution_count": 20,
     "metadata": {},
     "output_type": "execute_result"
    }
   ],
   "source": [
    "all_matches_df.head()"
   ],
   "metadata": {
    "collapsed": false,
    "ExecuteTime": {
     "end_time": "2023-09-20T08:16:09.787641120Z",
     "start_time": "2023-09-20T08:16:09.740164662Z"
    }
   },
   "id": "f7821f7c98dc8f50"
  },
  {
   "cell_type": "code",
   "execution_count": 17,
   "outputs": [],
   "source": [
    "all_matches_df.to_csv('./data/bundesliga_matches.csv', index=False)"
   ],
   "metadata": {
    "collapsed": false,
    "ExecuteTime": {
     "end_time": "2023-09-20T08:11:12.480969082Z",
     "start_time": "2023-09-20T08:11:12.436283793Z"
    }
   },
   "id": "beaab6faf44ef4e3"
  }
 ],
 "metadata": {
  "kernelspec": {
   "display_name": "Python 3",
   "language": "python",
   "name": "python3"
  },
  "language_info": {
   "codemirror_mode": {
    "name": "ipython",
    "version": 2
   },
   "file_extension": ".py",
   "mimetype": "text/x-python",
   "name": "python",
   "nbconvert_exporter": "python",
   "pygments_lexer": "ipython2",
   "version": "2.7.6"
  }
 },
 "nbformat": 4,
 "nbformat_minor": 5
}
