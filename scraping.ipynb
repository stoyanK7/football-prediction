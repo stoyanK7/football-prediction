{
 "cells": [
  {
   "cell_type": "markdown",
   "source": [
    "# Scraping data from fbref.com"
   ],
   "metadata": {
    "collapsed": false
   },
   "id": "c20bb8ba72ea5a14"
  },
  {
   "cell_type": "markdown",
   "source": [
    "The purpose of this notebook is to scrape football match and player data from [https://fbref.com](https://fbref.com). The data will be used to create a model that predicts certain events in a football match.\n",
    "\n",
    "The scraping will be done in the following steps:\n",
    "1. **Scrape the webpages with the standings of the Bundesliga for the last 7 seasons for each team**\n",
    "   The reason we scrape the webpages themselves is to avoid spamming the server with requests. We can later deal with the data in a more efficient way. The advantage here is that the crawler can be let to crawl all night with low chance of crashing.\n",
    "2. **Scrape the data off the saved webpages**\n",
    "    The data is saved in tables. We will iterate over the saved webpages and extract the data from the tables.\n",
    "3. **Merge the data into one dataframe**\n",
    "4. **Process the data further**"
   ],
   "metadata": {
    "collapsed": false
   },
   "id": "64cc48574283e118"
  },
  {
   "cell_type": "markdown",
   "source": [
    "## 1.Scraping webpages"
   ],
   "metadata": {
    "collapsed": false
   },
   "id": "b15c59b46f3cf5e2"
  },
  {
   "cell_type": "code",
   "execution_count": 20,
   "id": "initial_id",
   "metadata": {
    "collapsed": true,
    "ExecuteTime": {
     "end_time": "2023-09-29T14:54:14.056573913Z",
     "start_time": "2023-09-29T14:54:14.048333898Z"
    }
   },
   "outputs": [],
   "source": [
    "from time import sleep\n",
    "\n",
    "import requests\n",
    "from bs4 import BeautifulSoup\n",
    "from requests import Response"
   ]
  },
  {
   "cell_type": "code",
   "execution_count": 14,
   "outputs": [],
   "source": [
    "base_url = 'https://fbref.com'\n",
    "stats_href = '/en/comps/20/Bundesliga-Stats'"
   ],
   "metadata": {
    "collapsed": false,
    "ExecuteTime": {
     "end_time": "2023-09-28T16:57:11.796569073Z",
     "start_time": "2023-09-28T16:57:11.793207343Z"
    }
   },
   "id": "1d4d5877ffd98428"
  },
  {
   "cell_type": "markdown",
   "source": [
    "Save all webpages with team matches from the past seasons. Moreover, crawl the webpages with the stats for each match - shooting, passing, etc.\n",
    "\n",
    "Sleep for 7 seconds between each request to avoid spamming the server."
   ],
   "metadata": {
    "collapsed": false
   },
   "id": "a5cc137a63828dba"
  },
  {
   "cell_type": "code",
   "execution_count": 17,
   "outputs": [
    {
     "name": "stdout",
     "output_type": "stream",
     "text": [
      "✅ https_((fbref.com(en(comps(20(Bundesliga-Stats\n",
      "✅ https_((fbref.com(en(squads(054efa67(Bayern-Munich-Stats\n",
      "✅ https_((fbref.com(en(squads(054efa67(2023-2024(matchlogs(all_comps(shooting(Bayern-Munich-Match-Logs-All-Competitions\n",
      "✅ https_((fbref.com(en(squads(054efa67(2023-2024(matchlogs(all_comps(keeper(Bayern-Munich-Match-Logs-All-Competitions\n",
      "✅ https_((fbref.com(en(squads(054efa67(2023-2024(matchlogs(all_comps(passing(Bayern-Munich-Match-Logs-All-Competitions\n",
      "✅ https_((fbref.com(en(squads(054efa67(2023-2024(matchlogs(all_comps(passing_types(Bayern-Munich-Match-Logs-All-Competitions\n",
      "✅ https_((fbref.com(en(squads(054efa67(2023-2024(matchlogs(all_comps(gca(Bayern-Munich-Match-Logs-All-Competitions\n",
      "✅ https_((fbref.com(en(squads(054efa67(2023-2024(matchlogs(all_comps(defense(Bayern-Munich-Match-Logs-All-Competitions\n",
      "✅ https_((fbref.com(en(squads(054efa67(2023-2024(matchlogs(all_comps(possession(Bayern-Munich-Match-Logs-All-Competitions\n",
      "✅ https_((fbref.com(en(squads(054efa67(2023-2024(matchlogs(all_comps(misc(Bayern-Munich-Match-Logs-All-Competitions\n",
      "✅ https_((fbref.com(en(squads(c7a9f859(Bayer-Leverkusen-Stats\n",
      "✅ https_((fbref.com(en(squads(c7a9f859(2023-2024(matchlogs(all_comps(shooting(Bayer-Leverkusen-Match-Logs-All-Competitions\n",
      "✅ https_((fbref.com(en(squads(c7a9f859(2023-2024(matchlogs(all_comps(keeper(Bayer-Leverkusen-Match-Logs-All-Competitions\n",
      "✅ https_((fbref.com(en(squads(c7a9f859(2023-2024(matchlogs(all_comps(passing(Bayer-Leverkusen-Match-Logs-All-Competitions\n",
      "✅ https_((fbref.com(en(squads(c7a9f859(2023-2024(matchlogs(all_comps(passing_types(Bayer-Leverkusen-Match-Logs-All-Competitions\n",
      "✅ https_((fbref.com(en(squads(c7a9f859(2023-2024(matchlogs(all_comps(gca(Bayer-Leverkusen-Match-Logs-All-Competitions\n",
      "✅ https_((fbref.com(en(squads(c7a9f859(2023-2024(matchlogs(all_comps(defense(Bayer-Leverkusen-Match-Logs-All-Competitions\n",
      "✅ https_((fbref.com(en(squads(c7a9f859(2023-2024(matchlogs(all_comps(possession(Bayer-Leverkusen-Match-Logs-All-Competitions\n",
      "✅ https_((fbref.com(en(squads(c7a9f859(2023-2024(matchlogs(all_comps(misc(Bayer-Leverkusen-Match-Logs-All-Competitions\n",
      "✅ https_((fbref.com(en(squads(598bc722(Stuttgart-Stats\n",
      "✅ https_((fbref.com(en(squads(598bc722(2023-2024(matchlogs(all_comps(shooting(Stuttgart-Match-Logs-All-Competitions\n",
      "✅ https_((fbref.com(en(squads(598bc722(2023-2024(matchlogs(all_comps(keeper(Stuttgart-Match-Logs-All-Competitions\n",
      "✅ https_((fbref.com(en(squads(598bc722(2023-2024(matchlogs(all_comps(passing(Stuttgart-Match-Logs-All-Competitions\n",
      "✅ https_((fbref.com(en(squads(598bc722(2023-2024(matchlogs(all_comps(passing_types(Stuttgart-Match-Logs-All-Competitions\n",
      "✅ https_((fbref.com(en(squads(598bc722(2023-2024(matchlogs(all_comps(gca(Stuttgart-Match-Logs-All-Competitions\n",
      "✅ https_((fbref.com(en(squads(598bc722(2023-2024(matchlogs(all_comps(defense(Stuttgart-Match-Logs-All-Competitions\n",
      "✅ https_((fbref.com(en(squads(598bc722(2023-2024(matchlogs(all_comps(possession(Stuttgart-Match-Logs-All-Competitions\n",
      "✅ https_((fbref.com(en(squads(598bc722(2023-2024(matchlogs(all_comps(misc(Stuttgart-Match-Logs-All-Competitions\n",
      "✅ https_((fbref.com(en(squads(acbb6a5b(RB-Leipzig-Stats\n",
      "✅ https_((fbref.com(en(squads(acbb6a5b(2023-2024(matchlogs(all_comps(shooting(RB-Leipzig-Match-Logs-All-Competitions\n",
      "✅ https_((fbref.com(en(squads(acbb6a5b(2023-2024(matchlogs(all_comps(keeper(RB-Leipzig-Match-Logs-All-Competitions\n",
      "✅ https_((fbref.com(en(squads(acbb6a5b(2023-2024(matchlogs(all_comps(passing(RB-Leipzig-Match-Logs-All-Competitions\n",
      "✅ https_((fbref.com(en(squads(acbb6a5b(2023-2024(matchlogs(all_comps(passing_types(RB-Leipzig-Match-Logs-All-Competitions\n",
      "✅ https_((fbref.com(en(squads(acbb6a5b(2023-2024(matchlogs(all_comps(gca(RB-Leipzig-Match-Logs-All-Competitions\n",
      "✅ https_((fbref.com(en(squads(acbb6a5b(2023-2024(matchlogs(all_comps(defense(RB-Leipzig-Match-Logs-All-Competitions\n",
      "✅ https_((fbref.com(en(squads(acbb6a5b(2023-2024(matchlogs(all_comps(possession(RB-Leipzig-Match-Logs-All-Competitions\n",
      "✅ https_((fbref.com(en(squads(acbb6a5b(2023-2024(matchlogs(all_comps(misc(RB-Leipzig-Match-Logs-All-Competitions\n",
      "✅ https_((fbref.com(en(squads(033ea6b8(Hoffenheim-Stats\n",
      "✅ https_((fbref.com(en(squads(033ea6b8(2023-2024(matchlogs(all_comps(shooting(Hoffenheim-Match-Logs-All-Competitions\n",
      "✅ https_((fbref.com(en(squads(033ea6b8(2023-2024(matchlogs(all_comps(keeper(Hoffenheim-Match-Logs-All-Competitions\n",
      "✅ https_((fbref.com(en(squads(033ea6b8(2023-2024(matchlogs(all_comps(passing(Hoffenheim-Match-Logs-All-Competitions\n",
      "✅ https_((fbref.com(en(squads(033ea6b8(2023-2024(matchlogs(all_comps(passing_types(Hoffenheim-Match-Logs-All-Competitions\n",
      "✅ https_((fbref.com(en(squads(033ea6b8(2023-2024(matchlogs(all_comps(gca(Hoffenheim-Match-Logs-All-Competitions\n",
      "✅ https_((fbref.com(en(squads(033ea6b8(2023-2024(matchlogs(all_comps(defense(Hoffenheim-Match-Logs-All-Competitions\n",
      "✅ https_((fbref.com(en(squads(033ea6b8(2023-2024(matchlogs(all_comps(possession(Hoffenheim-Match-Logs-All-Competitions\n",
      "✅ https_((fbref.com(en(squads(033ea6b8(2023-2024(matchlogs(all_comps(misc(Hoffenheim-Match-Logs-All-Competitions\n",
      "✅ https_((fbref.com(en(squads(add600ae(Dortmund-Stats\n",
      "✅ https_((fbref.com(en(squads(add600ae(2023-2024(matchlogs(all_comps(shooting(Dortmund-Match-Logs-All-Competitions\n",
      "✅ https_((fbref.com(en(squads(add600ae(2023-2024(matchlogs(all_comps(keeper(Dortmund-Match-Logs-All-Competitions\n",
      "✅ https_((fbref.com(en(squads(add600ae(2023-2024(matchlogs(all_comps(passing(Dortmund-Match-Logs-All-Competitions\n",
      "✅ https_((fbref.com(en(squads(add600ae(2023-2024(matchlogs(all_comps(passing_types(Dortmund-Match-Logs-All-Competitions\n",
      "✅ https_((fbref.com(en(squads(add600ae(2023-2024(matchlogs(all_comps(gca(Dortmund-Match-Logs-All-Competitions\n",
      "✅ https_((fbref.com(en(squads(add600ae(2023-2024(matchlogs(all_comps(defense(Dortmund-Match-Logs-All-Competitions\n",
      "✅ https_((fbref.com(en(squads(add600ae(2023-2024(matchlogs(all_comps(possession(Dortmund-Match-Logs-All-Competitions\n",
      "✅ https_((fbref.com(en(squads(add600ae(2023-2024(matchlogs(all_comps(misc(Dortmund-Match-Logs-All-Competitions\n",
      "✅ https_((fbref.com(en(squads(4eaa11d7(Wolfsburg-Stats\n",
      "✅ https_((fbref.com(en(squads(4eaa11d7(2023-2024(matchlogs(all_comps(shooting(Wolfsburg-Match-Logs-All-Competitions\n",
      "✅ https_((fbref.com(en(squads(4eaa11d7(2023-2024(matchlogs(all_comps(keeper(Wolfsburg-Match-Logs-All-Competitions\n",
      "✅ https_((fbref.com(en(squads(4eaa11d7(2023-2024(matchlogs(all_comps(passing(Wolfsburg-Match-Logs-All-Competitions\n",
      "✅ https_((fbref.com(en(squads(4eaa11d7(2023-2024(matchlogs(all_comps(passing_types(Wolfsburg-Match-Logs-All-Competitions\n",
      "✅ https_((fbref.com(en(squads(4eaa11d7(2023-2024(matchlogs(all_comps(gca(Wolfsburg-Match-Logs-All-Competitions\n",
      "✅ https_((fbref.com(en(squads(4eaa11d7(2023-2024(matchlogs(all_comps(defense(Wolfsburg-Match-Logs-All-Competitions\n",
      "✅ https_((fbref.com(en(squads(4eaa11d7(2023-2024(matchlogs(all_comps(possession(Wolfsburg-Match-Logs-All-Competitions\n",
      "✅ https_((fbref.com(en(squads(4eaa11d7(2023-2024(matchlogs(all_comps(misc(Wolfsburg-Match-Logs-All-Competitions\n",
      "✅ https_((fbref.com(en(squads(f0ac8ee6(Eintracht-Frankfurt-Stats\n",
      "✅ https_((fbref.com(en(squads(f0ac8ee6(2023-2024(matchlogs(all_comps(shooting(Eintracht-Frankfurt-Match-Logs-All-Competitions\n",
      "✅ https_((fbref.com(en(squads(f0ac8ee6(2023-2024(matchlogs(all_comps(keeper(Eintracht-Frankfurt-Match-Logs-All-Competitions\n",
      "✅ https_((fbref.com(en(squads(f0ac8ee6(2023-2024(matchlogs(all_comps(passing(Eintracht-Frankfurt-Match-Logs-All-Competitions\n",
      "✅ https_((fbref.com(en(squads(f0ac8ee6(2023-2024(matchlogs(all_comps(passing_types(Eintracht-Frankfurt-Match-Logs-All-Competitions\n",
      "✅ https_((fbref.com(en(squads(f0ac8ee6(2023-2024(matchlogs(all_comps(gca(Eintracht-Frankfurt-Match-Logs-All-Competitions\n",
      "✅ https_((fbref.com(en(squads(f0ac8ee6(2023-2024(matchlogs(all_comps(defense(Eintracht-Frankfurt-Match-Logs-All-Competitions\n",
      "✅ https_((fbref.com(en(squads(f0ac8ee6(2023-2024(matchlogs(all_comps(possession(Eintracht-Frankfurt-Match-Logs-All-Competitions\n",
      "✅ https_((fbref.com(en(squads(f0ac8ee6(2023-2024(matchlogs(all_comps(misc(Eintracht-Frankfurt-Match-Logs-All-Competitions\n",
      "✅ https_((fbref.com(en(squads(a486e511(Freiburg-Stats\n",
      "✅ https_((fbref.com(en(squads(a486e511(2023-2024(matchlogs(all_comps(shooting(Freiburg-Match-Logs-All-Competitions\n",
      "✅ https_((fbref.com(en(squads(a486e511(2023-2024(matchlogs(all_comps(keeper(Freiburg-Match-Logs-All-Competitions\n",
      "✅ https_((fbref.com(en(squads(a486e511(2023-2024(matchlogs(all_comps(passing(Freiburg-Match-Logs-All-Competitions\n",
      "✅ https_((fbref.com(en(squads(a486e511(2023-2024(matchlogs(all_comps(passing_types(Freiburg-Match-Logs-All-Competitions\n",
      "✅ https_((fbref.com(en(squads(a486e511(2023-2024(matchlogs(all_comps(gca(Freiburg-Match-Logs-All-Competitions\n",
      "✅ https_((fbref.com(en(squads(a486e511(2023-2024(matchlogs(all_comps(defense(Freiburg-Match-Logs-All-Competitions\n",
      "✅ https_((fbref.com(en(squads(a486e511(2023-2024(matchlogs(all_comps(possession(Freiburg-Match-Logs-All-Competitions\n",
      "✅ https_((fbref.com(en(squads(a486e511(2023-2024(matchlogs(all_comps(misc(Freiburg-Match-Logs-All-Competitions\n",
      "✅ https_((fbref.com(en(squads(7a41008f(Union-Berlin-Stats\n",
      "✅ https_((fbref.com(en(squads(7a41008f(2023-2024(matchlogs(all_comps(shooting(Union-Berlin-Match-Logs-All-Competitions\n",
      "✅ https_((fbref.com(en(squads(7a41008f(2023-2024(matchlogs(all_comps(keeper(Union-Berlin-Match-Logs-All-Competitions\n",
      "✅ https_((fbref.com(en(squads(7a41008f(2023-2024(matchlogs(all_comps(passing(Union-Berlin-Match-Logs-All-Competitions\n",
      "✅ https_((fbref.com(en(squads(7a41008f(2023-2024(matchlogs(all_comps(passing_types(Union-Berlin-Match-Logs-All-Competitions\n",
      "✅ https_((fbref.com(en(squads(7a41008f(2023-2024(matchlogs(all_comps(gca(Union-Berlin-Match-Logs-All-Competitions\n",
      "✅ https_((fbref.com(en(squads(7a41008f(2023-2024(matchlogs(all_comps(defense(Union-Berlin-Match-Logs-All-Competitions\n",
      "✅ https_((fbref.com(en(squads(7a41008f(2023-2024(matchlogs(all_comps(possession(Union-Berlin-Match-Logs-All-Competitions\n",
      "✅ https_((fbref.com(en(squads(7a41008f(2023-2024(matchlogs(all_comps(misc(Union-Berlin-Match-Logs-All-Competitions\n",
      "✅ https_((fbref.com(en(squads(62add3bf(Werder-Bremen-Stats\n",
      "✅ https_((fbref.com(en(squads(62add3bf(2023-2024(matchlogs(all_comps(shooting(Werder-Bremen-Match-Logs-All-Competitions\n",
      "✅ https_((fbref.com(en(squads(62add3bf(2023-2024(matchlogs(all_comps(keeper(Werder-Bremen-Match-Logs-All-Competitions\n",
      "✅ https_((fbref.com(en(squads(62add3bf(2023-2024(matchlogs(all_comps(passing(Werder-Bremen-Match-Logs-All-Competitions\n",
      "✅ https_((fbref.com(en(squads(62add3bf(2023-2024(matchlogs(all_comps(passing_types(Werder-Bremen-Match-Logs-All-Competitions\n",
      "✅ https_((fbref.com(en(squads(62add3bf(2023-2024(matchlogs(all_comps(gca(Werder-Bremen-Match-Logs-All-Competitions\n",
      "✅ https_((fbref.com(en(squads(62add3bf(2023-2024(matchlogs(all_comps(defense(Werder-Bremen-Match-Logs-All-Competitions\n",
      "✅ https_((fbref.com(en(squads(62add3bf(2023-2024(matchlogs(all_comps(possession(Werder-Bremen-Match-Logs-All-Competitions\n",
      "✅ https_((fbref.com(en(squads(62add3bf(2023-2024(matchlogs(all_comps(misc(Werder-Bremen-Match-Logs-All-Competitions\n",
      "✅ https_((fbref.com(en(squads(0cdc4311(Augsburg-Stats\n",
      "✅ https_((fbref.com(en(squads(0cdc4311(2023-2024(matchlogs(all_comps(shooting(Augsburg-Match-Logs-All-Competitions\n",
      "✅ https_((fbref.com(en(squads(0cdc4311(2023-2024(matchlogs(all_comps(keeper(Augsburg-Match-Logs-All-Competitions\n",
      "✅ https_((fbref.com(en(squads(0cdc4311(2023-2024(matchlogs(all_comps(passing(Augsburg-Match-Logs-All-Competitions\n",
      "✅ https_((fbref.com(en(squads(0cdc4311(2023-2024(matchlogs(all_comps(passing_types(Augsburg-Match-Logs-All-Competitions\n",
      "✅ https_((fbref.com(en(squads(0cdc4311(2023-2024(matchlogs(all_comps(gca(Augsburg-Match-Logs-All-Competitions\n",
      "✅ https_((fbref.com(en(squads(0cdc4311(2023-2024(matchlogs(all_comps(defense(Augsburg-Match-Logs-All-Competitions\n",
      "✅ https_((fbref.com(en(squads(0cdc4311(2023-2024(matchlogs(all_comps(possession(Augsburg-Match-Logs-All-Competitions\n",
      "✅ https_((fbref.com(en(squads(0cdc4311(2023-2024(matchlogs(all_comps(misc(Augsburg-Match-Logs-All-Competitions\n",
      "✅ https_((fbref.com(en(squads(18d9d2a7(Heidenheim-Stats\n",
      "✅ https_((fbref.com(en(squads(18d9d2a7(2023-2024(matchlogs(all_comps(shooting(Heidenheim-Match-Logs-All-Competitions\n",
      "✅ https_((fbref.com(en(squads(18d9d2a7(2023-2024(matchlogs(all_comps(keeper(Heidenheim-Match-Logs-All-Competitions\n",
      "✅ https_((fbref.com(en(squads(18d9d2a7(2023-2024(matchlogs(all_comps(passing(Heidenheim-Match-Logs-All-Competitions\n",
      "✅ https_((fbref.com(en(squads(18d9d2a7(2023-2024(matchlogs(all_comps(passing_types(Heidenheim-Match-Logs-All-Competitions\n",
      "✅ https_((fbref.com(en(squads(18d9d2a7(2023-2024(matchlogs(all_comps(gca(Heidenheim-Match-Logs-All-Competitions\n",
      "✅ https_((fbref.com(en(squads(18d9d2a7(2023-2024(matchlogs(all_comps(defense(Heidenheim-Match-Logs-All-Competitions\n",
      "✅ https_((fbref.com(en(squads(18d9d2a7(2023-2024(matchlogs(all_comps(possession(Heidenheim-Match-Logs-All-Competitions\n",
      "✅ https_((fbref.com(en(squads(18d9d2a7(2023-2024(matchlogs(all_comps(misc(Heidenheim-Match-Logs-All-Competitions\n",
      "✅ https_((fbref.com(en(squads(b42c6323(Bochum-Stats\n",
      "✅ https_((fbref.com(en(squads(b42c6323(2023-2024(matchlogs(all_comps(shooting(Bochum-Match-Logs-All-Competitions\n",
      "✅ https_((fbref.com(en(squads(b42c6323(2023-2024(matchlogs(all_comps(keeper(Bochum-Match-Logs-All-Competitions\n",
      "✅ https_((fbref.com(en(squads(b42c6323(2023-2024(matchlogs(all_comps(passing(Bochum-Match-Logs-All-Competitions\n",
      "✅ https_((fbref.com(en(squads(b42c6323(2023-2024(matchlogs(all_comps(passing_types(Bochum-Match-Logs-All-Competitions\n",
      "✅ https_((fbref.com(en(squads(b42c6323(2023-2024(matchlogs(all_comps(gca(Bochum-Match-Logs-All-Competitions\n",
      "✅ https_((fbref.com(en(squads(b42c6323(2023-2024(matchlogs(all_comps(defense(Bochum-Match-Logs-All-Competitions\n",
      "✅ https_((fbref.com(en(squads(b42c6323(2023-2024(matchlogs(all_comps(possession(Bochum-Match-Logs-All-Competitions\n",
      "✅ https_((fbref.com(en(squads(b42c6323(2023-2024(matchlogs(all_comps(misc(Bochum-Match-Logs-All-Competitions\n",
      "✅ https_((fbref.com(en(squads(32f3ee20(Monchengladbach-Stats\n",
      "✅ https_((fbref.com(en(squads(32f3ee20(2023-2024(matchlogs(all_comps(shooting(Monchengladbach-Match-Logs-All-Competitions\n",
      "✅ https_((fbref.com(en(squads(32f3ee20(2023-2024(matchlogs(all_comps(keeper(Monchengladbach-Match-Logs-All-Competitions\n",
      "✅ https_((fbref.com(en(squads(32f3ee20(2023-2024(matchlogs(all_comps(passing(Monchengladbach-Match-Logs-All-Competitions\n",
      "✅ https_((fbref.com(en(squads(32f3ee20(2023-2024(matchlogs(all_comps(passing_types(Monchengladbach-Match-Logs-All-Competitions\n",
      "✅ https_((fbref.com(en(squads(32f3ee20(2023-2024(matchlogs(all_comps(gca(Monchengladbach-Match-Logs-All-Competitions\n",
      "✅ https_((fbref.com(en(squads(32f3ee20(2023-2024(matchlogs(all_comps(defense(Monchengladbach-Match-Logs-All-Competitions\n",
      "✅ https_((fbref.com(en(squads(32f3ee20(2023-2024(matchlogs(all_comps(possession(Monchengladbach-Match-Logs-All-Competitions\n",
      "✅ https_((fbref.com(en(squads(32f3ee20(2023-2024(matchlogs(all_comps(misc(Monchengladbach-Match-Logs-All-Competitions\n",
      "✅ https_((fbref.com(en(squads(bc357bf7(Koln-Stats\n",
      "✅ https_((fbref.com(en(squads(bc357bf7(2023-2024(matchlogs(all_comps(shooting(Koln-Match-Logs-All-Competitions\n",
      "✅ https_((fbref.com(en(squads(bc357bf7(2023-2024(matchlogs(all_comps(keeper(Koln-Match-Logs-All-Competitions\n",
      "✅ https_((fbref.com(en(squads(bc357bf7(2023-2024(matchlogs(all_comps(passing(Koln-Match-Logs-All-Competitions\n",
      "✅ https_((fbref.com(en(squads(bc357bf7(2023-2024(matchlogs(all_comps(passing_types(Koln-Match-Logs-All-Competitions\n",
      "✅ https_((fbref.com(en(squads(bc357bf7(2023-2024(matchlogs(all_comps(gca(Koln-Match-Logs-All-Competitions\n",
      "✅ https_((fbref.com(en(squads(bc357bf7(2023-2024(matchlogs(all_comps(defense(Koln-Match-Logs-All-Competitions\n",
      "✅ https_((fbref.com(en(squads(bc357bf7(2023-2024(matchlogs(all_comps(possession(Koln-Match-Logs-All-Competitions\n",
      "✅ https_((fbref.com(en(squads(bc357bf7(2023-2024(matchlogs(all_comps(misc(Koln-Match-Logs-All-Competitions\n",
      "✅ https_((fbref.com(en(squads(6a6967fc(Darmstadt-98-Stats\n",
      "✅ https_((fbref.com(en(squads(6a6967fc(2023-2024(matchlogs(all_comps(shooting(Darmstadt-98-Match-Logs-All-Competitions\n",
      "✅ https_((fbref.com(en(squads(6a6967fc(2023-2024(matchlogs(all_comps(keeper(Darmstadt-98-Match-Logs-All-Competitions\n",
      "✅ https_((fbref.com(en(squads(6a6967fc(2023-2024(matchlogs(all_comps(passing(Darmstadt-98-Match-Logs-All-Competitions\n",
      "✅ https_((fbref.com(en(squads(6a6967fc(2023-2024(matchlogs(all_comps(passing_types(Darmstadt-98-Match-Logs-All-Competitions\n",
      "✅ https_((fbref.com(en(squads(6a6967fc(2023-2024(matchlogs(all_comps(gca(Darmstadt-98-Match-Logs-All-Competitions\n",
      "✅ https_((fbref.com(en(squads(6a6967fc(2023-2024(matchlogs(all_comps(defense(Darmstadt-98-Match-Logs-All-Competitions\n",
      "✅ https_((fbref.com(en(squads(6a6967fc(2023-2024(matchlogs(all_comps(possession(Darmstadt-98-Match-Logs-All-Competitions\n",
      "✅ https_((fbref.com(en(squads(6a6967fc(2023-2024(matchlogs(all_comps(misc(Darmstadt-98-Match-Logs-All-Competitions\n",
      "✅ https_((fbref.com(en(squads(a224b06a(Mainz-05-Stats\n",
      "✅ https_((fbref.com(en(squads(a224b06a(2023-2024(matchlogs(all_comps(shooting(Mainz-05-Match-Logs-All-Competitions\n",
      "✅ https_((fbref.com(en(squads(a224b06a(2023-2024(matchlogs(all_comps(keeper(Mainz-05-Match-Logs-All-Competitions\n",
      "✅ https_((fbref.com(en(squads(a224b06a(2023-2024(matchlogs(all_comps(passing(Mainz-05-Match-Logs-All-Competitions\n",
      "✅ https_((fbref.com(en(squads(a224b06a(2023-2024(matchlogs(all_comps(passing_types(Mainz-05-Match-Logs-All-Competitions\n",
      "✅ https_((fbref.com(en(squads(a224b06a(2023-2024(matchlogs(all_comps(gca(Mainz-05-Match-Logs-All-Competitions\n",
      "✅ https_((fbref.com(en(squads(a224b06a(2023-2024(matchlogs(all_comps(defense(Mainz-05-Match-Logs-All-Competitions\n",
      "✅ https_((fbref.com(en(squads(a224b06a(2023-2024(matchlogs(all_comps(possession(Mainz-05-Match-Logs-All-Competitions\n",
      "✅ https_((fbref.com(en(squads(a224b06a(2023-2024(matchlogs(all_comps(misc(Mainz-05-Match-Logs-All-Competitions\n",
      "✅ https_((fbref.com(en(comps(20(2022-2023(2022-2023-Bundesliga-Stats\n",
      "✅ https_((fbref.com(en(squads(054efa67(2022-2023(Bayern-Munich-Stats\n",
      "✅ https_((fbref.com(en(squads(054efa67(2022-2023(matchlogs(all_comps(shooting(Bayern-Munich-Match-Logs-All-Competitions\n",
      "✅ https_((fbref.com(en(squads(054efa67(2022-2023(matchlogs(all_comps(keeper(Bayern-Munich-Match-Logs-All-Competitions\n",
      "✅ https_((fbref.com(en(squads(054efa67(2022-2023(matchlogs(all_comps(passing(Bayern-Munich-Match-Logs-All-Competitions\n",
      "✅ https_((fbref.com(en(squads(054efa67(2022-2023(matchlogs(all_comps(passing_types(Bayern-Munich-Match-Logs-All-Competitions\n",
      "✅ https_((fbref.com(en(squads(054efa67(2022-2023(matchlogs(all_comps(gca(Bayern-Munich-Match-Logs-All-Competitions\n",
      "✅ https_((fbref.com(en(squads(054efa67(2022-2023(matchlogs(all_comps(defense(Bayern-Munich-Match-Logs-All-Competitions\n",
      "✅ https_((fbref.com(en(squads(054efa67(2022-2023(matchlogs(all_comps(possession(Bayern-Munich-Match-Logs-All-Competitions\n",
      "✅ https_((fbref.com(en(squads(054efa67(2022-2023(matchlogs(all_comps(misc(Bayern-Munich-Match-Logs-All-Competitions\n",
      "✅ https_((fbref.com(en(squads(add600ae(2022-2023(Dortmund-Stats\n",
      "✅ https_((fbref.com(en(squads(add600ae(2022-2023(matchlogs(all_comps(shooting(Dortmund-Match-Logs-All-Competitions\n",
      "✅ https_((fbref.com(en(squads(add600ae(2022-2023(matchlogs(all_comps(keeper(Dortmund-Match-Logs-All-Competitions\n",
      "✅ https_((fbref.com(en(squads(add600ae(2022-2023(matchlogs(all_comps(passing(Dortmund-Match-Logs-All-Competitions\n",
      "✅ https_((fbref.com(en(squads(add600ae(2022-2023(matchlogs(all_comps(passing_types(Dortmund-Match-Logs-All-Competitions\n",
      "✅ https_((fbref.com(en(squads(add600ae(2022-2023(matchlogs(all_comps(gca(Dortmund-Match-Logs-All-Competitions\n",
      "✅ https_((fbref.com(en(squads(add600ae(2022-2023(matchlogs(all_comps(defense(Dortmund-Match-Logs-All-Competitions\n",
      "✅ https_((fbref.com(en(squads(add600ae(2022-2023(matchlogs(all_comps(possession(Dortmund-Match-Logs-All-Competitions\n",
      "✅ https_((fbref.com(en(squads(add600ae(2022-2023(matchlogs(all_comps(misc(Dortmund-Match-Logs-All-Competitions\n",
      "✅ https_((fbref.com(en(squads(acbb6a5b(2022-2023(RB-Leipzig-Stats\n",
      "✅ https_((fbref.com(en(squads(acbb6a5b(2022-2023(matchlogs(all_comps(shooting(RB-Leipzig-Match-Logs-All-Competitions\n",
      "✅ https_((fbref.com(en(squads(acbb6a5b(2022-2023(matchlogs(all_comps(keeper(RB-Leipzig-Match-Logs-All-Competitions\n",
      "✅ https_((fbref.com(en(squads(acbb6a5b(2022-2023(matchlogs(all_comps(passing(RB-Leipzig-Match-Logs-All-Competitions\n",
      "✅ https_((fbref.com(en(squads(acbb6a5b(2022-2023(matchlogs(all_comps(passing_types(RB-Leipzig-Match-Logs-All-Competitions\n",
      "✅ https_((fbref.com(en(squads(acbb6a5b(2022-2023(matchlogs(all_comps(gca(RB-Leipzig-Match-Logs-All-Competitions\n",
      "✅ https_((fbref.com(en(squads(acbb6a5b(2022-2023(matchlogs(all_comps(defense(RB-Leipzig-Match-Logs-All-Competitions\n",
      "✅ https_((fbref.com(en(squads(acbb6a5b(2022-2023(matchlogs(all_comps(possession(RB-Leipzig-Match-Logs-All-Competitions\n",
      "✅ https_((fbref.com(en(squads(acbb6a5b(2022-2023(matchlogs(all_comps(misc(RB-Leipzig-Match-Logs-All-Competitions\n",
      "✅ https_((fbref.com(en(squads(7a41008f(2022-2023(Union-Berlin-Stats\n",
      "✅ https_((fbref.com(en(squads(7a41008f(2022-2023(matchlogs(all_comps(shooting(Union-Berlin-Match-Logs-All-Competitions\n",
      "✅ https_((fbref.com(en(squads(7a41008f(2022-2023(matchlogs(all_comps(keeper(Union-Berlin-Match-Logs-All-Competitions\n",
      "✅ https_((fbref.com(en(squads(7a41008f(2022-2023(matchlogs(all_comps(passing(Union-Berlin-Match-Logs-All-Competitions\n",
      "✅ https_((fbref.com(en(squads(7a41008f(2022-2023(matchlogs(all_comps(passing_types(Union-Berlin-Match-Logs-All-Competitions\n",
      "✅ https_((fbref.com(en(squads(7a41008f(2022-2023(matchlogs(all_comps(gca(Union-Berlin-Match-Logs-All-Competitions\n",
      "✅ https_((fbref.com(en(squads(7a41008f(2022-2023(matchlogs(all_comps(defense(Union-Berlin-Match-Logs-All-Competitions\n",
      "✅ https_((fbref.com(en(squads(7a41008f(2022-2023(matchlogs(all_comps(possession(Union-Berlin-Match-Logs-All-Competitions\n",
      "✅ https_((fbref.com(en(squads(7a41008f(2022-2023(matchlogs(all_comps(misc(Union-Berlin-Match-Logs-All-Competitions\n",
      "✅ https_((fbref.com(en(squads(a486e511(2022-2023(Freiburg-Stats\n",
      "✅ https_((fbref.com(en(squads(a486e511(2022-2023(matchlogs(all_comps(shooting(Freiburg-Match-Logs-All-Competitions\n",
      "✅ https_((fbref.com(en(squads(a486e511(2022-2023(matchlogs(all_comps(keeper(Freiburg-Match-Logs-All-Competitions\n",
      "✅ https_((fbref.com(en(squads(a486e511(2022-2023(matchlogs(all_comps(passing(Freiburg-Match-Logs-All-Competitions\n",
      "✅ https_((fbref.com(en(squads(a486e511(2022-2023(matchlogs(all_comps(passing_types(Freiburg-Match-Logs-All-Competitions\n",
      "✅ https_((fbref.com(en(squads(a486e511(2022-2023(matchlogs(all_comps(gca(Freiburg-Match-Logs-All-Competitions\n",
      "✅ https_((fbref.com(en(squads(a486e511(2022-2023(matchlogs(all_comps(defense(Freiburg-Match-Logs-All-Competitions\n",
      "✅ https_((fbref.com(en(squads(a486e511(2022-2023(matchlogs(all_comps(possession(Freiburg-Match-Logs-All-Competitions\n",
      "✅ https_((fbref.com(en(squads(a486e511(2022-2023(matchlogs(all_comps(misc(Freiburg-Match-Logs-All-Competitions\n",
      "✅ https_((fbref.com(en(squads(c7a9f859(2022-2023(Bayer-Leverkusen-Stats\n",
      "✅ https_((fbref.com(en(squads(c7a9f859(2022-2023(matchlogs(all_comps(shooting(Bayer-Leverkusen-Match-Logs-All-Competitions\n",
      "✅ https_((fbref.com(en(squads(c7a9f859(2022-2023(matchlogs(all_comps(keeper(Bayer-Leverkusen-Match-Logs-All-Competitions\n",
      "✅ https_((fbref.com(en(squads(c7a9f859(2022-2023(matchlogs(all_comps(passing(Bayer-Leverkusen-Match-Logs-All-Competitions\n",
      "✅ https_((fbref.com(en(squads(c7a9f859(2022-2023(matchlogs(all_comps(passing_types(Bayer-Leverkusen-Match-Logs-All-Competitions\n",
      "✅ https_((fbref.com(en(squads(c7a9f859(2022-2023(matchlogs(all_comps(gca(Bayer-Leverkusen-Match-Logs-All-Competitions\n",
      "✅ https_((fbref.com(en(squads(c7a9f859(2022-2023(matchlogs(all_comps(defense(Bayer-Leverkusen-Match-Logs-All-Competitions\n",
      "✅ https_((fbref.com(en(squads(c7a9f859(2022-2023(matchlogs(all_comps(possession(Bayer-Leverkusen-Match-Logs-All-Competitions\n",
      "✅ https_((fbref.com(en(squads(c7a9f859(2022-2023(matchlogs(all_comps(misc(Bayer-Leverkusen-Match-Logs-All-Competitions\n",
      "✅ https_((fbref.com(en(squads(f0ac8ee6(2022-2023(Eintracht-Frankfurt-Stats\n",
      "✅ https_((fbref.com(en(squads(f0ac8ee6(2022-2023(matchlogs(all_comps(shooting(Eintracht-Frankfurt-Match-Logs-All-Competitions\n",
      "✅ https_((fbref.com(en(squads(f0ac8ee6(2022-2023(matchlogs(all_comps(keeper(Eintracht-Frankfurt-Match-Logs-All-Competitions\n",
      "✅ https_((fbref.com(en(squads(f0ac8ee6(2022-2023(matchlogs(all_comps(passing(Eintracht-Frankfurt-Match-Logs-All-Competitions\n",
      "✅ https_((fbref.com(en(squads(f0ac8ee6(2022-2023(matchlogs(all_comps(passing_types(Eintracht-Frankfurt-Match-Logs-All-Competitions\n",
      "✅ https_((fbref.com(en(squads(f0ac8ee6(2022-2023(matchlogs(all_comps(gca(Eintracht-Frankfurt-Match-Logs-All-Competitions\n",
      "✅ https_((fbref.com(en(squads(f0ac8ee6(2022-2023(matchlogs(all_comps(defense(Eintracht-Frankfurt-Match-Logs-All-Competitions\n",
      "✅ https_((fbref.com(en(squads(f0ac8ee6(2022-2023(matchlogs(all_comps(possession(Eintracht-Frankfurt-Match-Logs-All-Competitions\n",
      "✅ https_((fbref.com(en(squads(f0ac8ee6(2022-2023(matchlogs(all_comps(misc(Eintracht-Frankfurt-Match-Logs-All-Competitions\n",
      "✅ https_((fbref.com(en(squads(4eaa11d7(2022-2023(Wolfsburg-Stats\n",
      "✅ https_((fbref.com(en(squads(4eaa11d7(2022-2023(matchlogs(all_comps(shooting(Wolfsburg-Match-Logs-All-Competitions\n",
      "✅ https_((fbref.com(en(squads(4eaa11d7(2022-2023(matchlogs(all_comps(keeper(Wolfsburg-Match-Logs-All-Competitions\n",
      "✅ https_((fbref.com(en(squads(4eaa11d7(2022-2023(matchlogs(all_comps(passing(Wolfsburg-Match-Logs-All-Competitions\n",
      "✅ https_((fbref.com(en(squads(4eaa11d7(2022-2023(matchlogs(all_comps(passing_types(Wolfsburg-Match-Logs-All-Competitions\n",
      "✅ https_((fbref.com(en(squads(4eaa11d7(2022-2023(matchlogs(all_comps(gca(Wolfsburg-Match-Logs-All-Competitions\n",
      "✅ https_((fbref.com(en(squads(4eaa11d7(2022-2023(matchlogs(all_comps(defense(Wolfsburg-Match-Logs-All-Competitions\n",
      "✅ https_((fbref.com(en(squads(4eaa11d7(2022-2023(matchlogs(all_comps(possession(Wolfsburg-Match-Logs-All-Competitions\n",
      "✅ https_((fbref.com(en(squads(4eaa11d7(2022-2023(matchlogs(all_comps(misc(Wolfsburg-Match-Logs-All-Competitions\n",
      "✅ https_((fbref.com(en(squads(a224b06a(2022-2023(Mainz-05-Stats\n",
      "✅ https_((fbref.com(en(squads(a224b06a(2022-2023(matchlogs(all_comps(shooting(Mainz-05-Match-Logs-All-Competitions\n",
      "✅ https_((fbref.com(en(squads(a224b06a(2022-2023(matchlogs(all_comps(keeper(Mainz-05-Match-Logs-All-Competitions\n",
      "✅ https_((fbref.com(en(squads(a224b06a(2022-2023(matchlogs(all_comps(passing(Mainz-05-Match-Logs-All-Competitions\n",
      "✅ https_((fbref.com(en(squads(a224b06a(2022-2023(matchlogs(all_comps(passing_types(Mainz-05-Match-Logs-All-Competitions\n",
      "✅ https_((fbref.com(en(squads(a224b06a(2022-2023(matchlogs(all_comps(gca(Mainz-05-Match-Logs-All-Competitions\n",
      "✅ https_((fbref.com(en(squads(a224b06a(2022-2023(matchlogs(all_comps(defense(Mainz-05-Match-Logs-All-Competitions\n",
      "✅ https_((fbref.com(en(squads(a224b06a(2022-2023(matchlogs(all_comps(possession(Mainz-05-Match-Logs-All-Competitions\n",
      "✅ https_((fbref.com(en(squads(a224b06a(2022-2023(matchlogs(all_comps(misc(Mainz-05-Match-Logs-All-Competitions\n",
      "✅ https_((fbref.com(en(squads(32f3ee20(2022-2023(Monchengladbach-Stats\n",
      "✅ https_((fbref.com(en(squads(32f3ee20(2022-2023(matchlogs(all_comps(shooting(Monchengladbach-Match-Logs-All-Competitions\n",
      "✅ https_((fbref.com(en(squads(32f3ee20(2022-2023(matchlogs(all_comps(keeper(Monchengladbach-Match-Logs-All-Competitions\n",
      "✅ https_((fbref.com(en(squads(32f3ee20(2022-2023(matchlogs(all_comps(passing(Monchengladbach-Match-Logs-All-Competitions\n",
      "✅ https_((fbref.com(en(squads(32f3ee20(2022-2023(matchlogs(all_comps(passing_types(Monchengladbach-Match-Logs-All-Competitions\n",
      "✅ https_((fbref.com(en(squads(32f3ee20(2022-2023(matchlogs(all_comps(gca(Monchengladbach-Match-Logs-All-Competitions\n",
      "✅ https_((fbref.com(en(squads(32f3ee20(2022-2023(matchlogs(all_comps(defense(Monchengladbach-Match-Logs-All-Competitions\n",
      "✅ https_((fbref.com(en(squads(32f3ee20(2022-2023(matchlogs(all_comps(possession(Monchengladbach-Match-Logs-All-Competitions\n",
      "✅ https_((fbref.com(en(squads(32f3ee20(2022-2023(matchlogs(all_comps(misc(Monchengladbach-Match-Logs-All-Competitions\n",
      "✅ https_((fbref.com(en(squads(bc357bf7(2022-2023(Koln-Stats\n",
      "✅ https_((fbref.com(en(squads(bc357bf7(2022-2023(matchlogs(all_comps(shooting(Koln-Match-Logs-All-Competitions\n",
      "✅ https_((fbref.com(en(squads(bc357bf7(2022-2023(matchlogs(all_comps(keeper(Koln-Match-Logs-All-Competitions\n",
      "✅ https_((fbref.com(en(squads(bc357bf7(2022-2023(matchlogs(all_comps(passing(Koln-Match-Logs-All-Competitions\n",
      "✅ https_((fbref.com(en(squads(bc357bf7(2022-2023(matchlogs(all_comps(passing_types(Koln-Match-Logs-All-Competitions\n",
      "✅ https_((fbref.com(en(squads(bc357bf7(2022-2023(matchlogs(all_comps(gca(Koln-Match-Logs-All-Competitions\n",
      "✅ https_((fbref.com(en(squads(bc357bf7(2022-2023(matchlogs(all_comps(defense(Koln-Match-Logs-All-Competitions\n",
      "✅ https_((fbref.com(en(squads(bc357bf7(2022-2023(matchlogs(all_comps(possession(Koln-Match-Logs-All-Competitions\n",
      "✅ https_((fbref.com(en(squads(bc357bf7(2022-2023(matchlogs(all_comps(misc(Koln-Match-Logs-All-Competitions\n",
      "✅ https_((fbref.com(en(squads(033ea6b8(2022-2023(Hoffenheim-Stats\n",
      "✅ https_((fbref.com(en(squads(033ea6b8(2022-2023(matchlogs(all_comps(shooting(Hoffenheim-Match-Logs-All-Competitions\n",
      "✅ https_((fbref.com(en(squads(033ea6b8(2022-2023(matchlogs(all_comps(keeper(Hoffenheim-Match-Logs-All-Competitions\n",
      "✅ https_((fbref.com(en(squads(033ea6b8(2022-2023(matchlogs(all_comps(passing(Hoffenheim-Match-Logs-All-Competitions\n",
      "✅ https_((fbref.com(en(squads(033ea6b8(2022-2023(matchlogs(all_comps(passing_types(Hoffenheim-Match-Logs-All-Competitions\n",
      "✅ https_((fbref.com(en(squads(033ea6b8(2022-2023(matchlogs(all_comps(gca(Hoffenheim-Match-Logs-All-Competitions\n",
      "✅ https_((fbref.com(en(squads(033ea6b8(2022-2023(matchlogs(all_comps(defense(Hoffenheim-Match-Logs-All-Competitions\n",
      "✅ https_((fbref.com(en(squads(033ea6b8(2022-2023(matchlogs(all_comps(possession(Hoffenheim-Match-Logs-All-Competitions\n",
      "✅ https_((fbref.com(en(squads(033ea6b8(2022-2023(matchlogs(all_comps(misc(Hoffenheim-Match-Logs-All-Competitions\n",
      "✅ https_((fbref.com(en(squads(62add3bf(2022-2023(Werder-Bremen-Stats\n",
      "✅ https_((fbref.com(en(squads(62add3bf(2022-2023(matchlogs(all_comps(shooting(Werder-Bremen-Match-Logs-All-Competitions\n",
      "✅ https_((fbref.com(en(squads(62add3bf(2022-2023(matchlogs(all_comps(keeper(Werder-Bremen-Match-Logs-All-Competitions\n",
      "✅ https_((fbref.com(en(squads(62add3bf(2022-2023(matchlogs(all_comps(passing(Werder-Bremen-Match-Logs-All-Competitions\n",
      "✅ https_((fbref.com(en(squads(62add3bf(2022-2023(matchlogs(all_comps(passing_types(Werder-Bremen-Match-Logs-All-Competitions\n",
      "✅ https_((fbref.com(en(squads(62add3bf(2022-2023(matchlogs(all_comps(gca(Werder-Bremen-Match-Logs-All-Competitions\n",
      "✅ https_((fbref.com(en(squads(62add3bf(2022-2023(matchlogs(all_comps(defense(Werder-Bremen-Match-Logs-All-Competitions\n",
      "✅ https_((fbref.com(en(squads(62add3bf(2022-2023(matchlogs(all_comps(possession(Werder-Bremen-Match-Logs-All-Competitions\n",
      "✅ https_((fbref.com(en(squads(62add3bf(2022-2023(matchlogs(all_comps(misc(Werder-Bremen-Match-Logs-All-Competitions\n",
      "✅ https_((fbref.com(en(squads(b42c6323(2022-2023(Bochum-Stats\n",
      "✅ https_((fbref.com(en(squads(b42c6323(2022-2023(matchlogs(all_comps(shooting(Bochum-Match-Logs-All-Competitions\n",
      "✅ https_((fbref.com(en(squads(b42c6323(2022-2023(matchlogs(all_comps(keeper(Bochum-Match-Logs-All-Competitions\n",
      "✅ https_((fbref.com(en(squads(b42c6323(2022-2023(matchlogs(all_comps(passing(Bochum-Match-Logs-All-Competitions\n",
      "✅ https_((fbref.com(en(squads(b42c6323(2022-2023(matchlogs(all_comps(passing_types(Bochum-Match-Logs-All-Competitions\n",
      "✅ https_((fbref.com(en(squads(b42c6323(2022-2023(matchlogs(all_comps(gca(Bochum-Match-Logs-All-Competitions\n",
      "✅ https_((fbref.com(en(squads(b42c6323(2022-2023(matchlogs(all_comps(defense(Bochum-Match-Logs-All-Competitions\n",
      "✅ https_((fbref.com(en(squads(b42c6323(2022-2023(matchlogs(all_comps(possession(Bochum-Match-Logs-All-Competitions\n",
      "✅ https_((fbref.com(en(squads(b42c6323(2022-2023(matchlogs(all_comps(misc(Bochum-Match-Logs-All-Competitions\n",
      "✅ https_((fbref.com(en(squads(0cdc4311(2022-2023(Augsburg-Stats\n",
      "✅ https_((fbref.com(en(squads(0cdc4311(2022-2023(matchlogs(all_comps(shooting(Augsburg-Match-Logs-All-Competitions\n",
      "✅ https_((fbref.com(en(squads(0cdc4311(2022-2023(matchlogs(all_comps(keeper(Augsburg-Match-Logs-All-Competitions\n",
      "✅ https_((fbref.com(en(squads(0cdc4311(2022-2023(matchlogs(all_comps(passing(Augsburg-Match-Logs-All-Competitions\n",
      "✅ https_((fbref.com(en(squads(0cdc4311(2022-2023(matchlogs(all_comps(passing_types(Augsburg-Match-Logs-All-Competitions\n",
      "✅ https_((fbref.com(en(squads(0cdc4311(2022-2023(matchlogs(all_comps(gca(Augsburg-Match-Logs-All-Competitions\n",
      "✅ https_((fbref.com(en(squads(0cdc4311(2022-2023(matchlogs(all_comps(defense(Augsburg-Match-Logs-All-Competitions\n",
      "✅ https_((fbref.com(en(squads(0cdc4311(2022-2023(matchlogs(all_comps(possession(Augsburg-Match-Logs-All-Competitions\n",
      "✅ https_((fbref.com(en(squads(0cdc4311(2022-2023(matchlogs(all_comps(misc(Augsburg-Match-Logs-All-Competitions\n",
      "✅ https_((fbref.com(en(squads(598bc722(2022-2023(Stuttgart-Stats\n",
      "✅ https_((fbref.com(en(squads(598bc722(2022-2023(matchlogs(all_comps(shooting(Stuttgart-Match-Logs-All-Competitions\n",
      "✅ https_((fbref.com(en(squads(598bc722(2022-2023(matchlogs(all_comps(keeper(Stuttgart-Match-Logs-All-Competitions\n",
      "✅ https_((fbref.com(en(squads(598bc722(2022-2023(matchlogs(all_comps(passing(Stuttgart-Match-Logs-All-Competitions\n",
      "✅ https_((fbref.com(en(squads(598bc722(2022-2023(matchlogs(all_comps(passing_types(Stuttgart-Match-Logs-All-Competitions\n",
      "✅ https_((fbref.com(en(squads(598bc722(2022-2023(matchlogs(all_comps(gca(Stuttgart-Match-Logs-All-Competitions\n",
      "✅ https_((fbref.com(en(squads(598bc722(2022-2023(matchlogs(all_comps(defense(Stuttgart-Match-Logs-All-Competitions\n",
      "✅ https_((fbref.com(en(squads(598bc722(2022-2023(matchlogs(all_comps(possession(Stuttgart-Match-Logs-All-Competitions\n",
      "✅ https_((fbref.com(en(squads(598bc722(2022-2023(matchlogs(all_comps(misc(Stuttgart-Match-Logs-All-Competitions\n",
      "✅ https_((fbref.com(en(squads(c539e393(2022-2023(Schalke-04-Stats\n",
      "✅ https_((fbref.com(en(squads(c539e393(2022-2023(matchlogs(all_comps(shooting(Schalke-04-Match-Logs-All-Competitions\n",
      "✅ https_((fbref.com(en(squads(c539e393(2022-2023(matchlogs(all_comps(keeper(Schalke-04-Match-Logs-All-Competitions\n",
      "✅ https_((fbref.com(en(squads(c539e393(2022-2023(matchlogs(all_comps(passing(Schalke-04-Match-Logs-All-Competitions\n",
      "✅ https_((fbref.com(en(squads(c539e393(2022-2023(matchlogs(all_comps(passing_types(Schalke-04-Match-Logs-All-Competitions\n",
      "✅ https_((fbref.com(en(squads(c539e393(2022-2023(matchlogs(all_comps(gca(Schalke-04-Match-Logs-All-Competitions\n",
      "✅ https_((fbref.com(en(squads(c539e393(2022-2023(matchlogs(all_comps(defense(Schalke-04-Match-Logs-All-Competitions\n",
      "✅ https_((fbref.com(en(squads(c539e393(2022-2023(matchlogs(all_comps(possession(Schalke-04-Match-Logs-All-Competitions\n",
      "✅ https_((fbref.com(en(squads(c539e393(2022-2023(matchlogs(all_comps(misc(Schalke-04-Match-Logs-All-Competitions\n",
      "✅ https_((fbref.com(en(squads(2818f8bc(2022-2023(Hertha-BSC-Stats\n",
      "✅ https_((fbref.com(en(squads(2818f8bc(2022-2023(matchlogs(all_comps(shooting(Hertha-BSC-Match-Logs-All-Competitions\n",
      "✅ https_((fbref.com(en(squads(2818f8bc(2022-2023(matchlogs(all_comps(keeper(Hertha-BSC-Match-Logs-All-Competitions\n",
      "✅ https_((fbref.com(en(squads(2818f8bc(2022-2023(matchlogs(all_comps(passing(Hertha-BSC-Match-Logs-All-Competitions\n",
      "✅ https_((fbref.com(en(squads(2818f8bc(2022-2023(matchlogs(all_comps(passing_types(Hertha-BSC-Match-Logs-All-Competitions\n",
      "✅ https_((fbref.com(en(squads(2818f8bc(2022-2023(matchlogs(all_comps(gca(Hertha-BSC-Match-Logs-All-Competitions\n",
      "✅ https_((fbref.com(en(squads(2818f8bc(2022-2023(matchlogs(all_comps(defense(Hertha-BSC-Match-Logs-All-Competitions\n",
      "✅ https_((fbref.com(en(squads(2818f8bc(2022-2023(matchlogs(all_comps(possession(Hertha-BSC-Match-Logs-All-Competitions\n",
      "✅ https_((fbref.com(en(squads(2818f8bc(2022-2023(matchlogs(all_comps(misc(Hertha-BSC-Match-Logs-All-Competitions\n",
      "✅ https_((fbref.com(en(comps(20(2021-2022(2021-2022-Bundesliga-Stats\n",
      "✅ https_((fbref.com(en(squads(054efa67(2021-2022(Bayern-Munich-Stats\n",
      "✅ https_((fbref.com(en(squads(054efa67(2021-2022(matchlogs(all_comps(shooting(Bayern-Munich-Match-Logs-All-Competitions\n",
      "✅ https_((fbref.com(en(squads(054efa67(2021-2022(matchlogs(all_comps(keeper(Bayern-Munich-Match-Logs-All-Competitions\n",
      "✅ https_((fbref.com(en(squads(054efa67(2021-2022(matchlogs(all_comps(passing(Bayern-Munich-Match-Logs-All-Competitions\n",
      "✅ https_((fbref.com(en(squads(054efa67(2021-2022(matchlogs(all_comps(passing_types(Bayern-Munich-Match-Logs-All-Competitions\n",
      "✅ https_((fbref.com(en(squads(054efa67(2021-2022(matchlogs(all_comps(gca(Bayern-Munich-Match-Logs-All-Competitions\n",
      "✅ https_((fbref.com(en(squads(054efa67(2021-2022(matchlogs(all_comps(defense(Bayern-Munich-Match-Logs-All-Competitions\n",
      "✅ https_((fbref.com(en(squads(054efa67(2021-2022(matchlogs(all_comps(possession(Bayern-Munich-Match-Logs-All-Competitions\n",
      "✅ https_((fbref.com(en(squads(054efa67(2021-2022(matchlogs(all_comps(misc(Bayern-Munich-Match-Logs-All-Competitions\n",
      "✅ https_((fbref.com(en(squads(add600ae(2021-2022(Dortmund-Stats\n",
      "✅ https_((fbref.com(en(squads(add600ae(2021-2022(matchlogs(all_comps(shooting(Dortmund-Match-Logs-All-Competitions\n",
      "✅ https_((fbref.com(en(squads(add600ae(2021-2022(matchlogs(all_comps(keeper(Dortmund-Match-Logs-All-Competitions\n",
      "✅ https_((fbref.com(en(squads(add600ae(2021-2022(matchlogs(all_comps(passing(Dortmund-Match-Logs-All-Competitions\n",
      "✅ https_((fbref.com(en(squads(add600ae(2021-2022(matchlogs(all_comps(passing_types(Dortmund-Match-Logs-All-Competitions\n",
      "✅ https_((fbref.com(en(squads(add600ae(2021-2022(matchlogs(all_comps(gca(Dortmund-Match-Logs-All-Competitions\n",
      "✅ https_((fbref.com(en(squads(add600ae(2021-2022(matchlogs(all_comps(defense(Dortmund-Match-Logs-All-Competitions\n",
      "✅ https_((fbref.com(en(squads(add600ae(2021-2022(matchlogs(all_comps(possession(Dortmund-Match-Logs-All-Competitions\n",
      "✅ https_((fbref.com(en(squads(add600ae(2021-2022(matchlogs(all_comps(misc(Dortmund-Match-Logs-All-Competitions\n",
      "✅ https_((fbref.com(en(squads(c7a9f859(2021-2022(Bayer-Leverkusen-Stats\n",
      "✅ https_((fbref.com(en(squads(c7a9f859(2021-2022(matchlogs(all_comps(shooting(Bayer-Leverkusen-Match-Logs-All-Competitions\n",
      "✅ https_((fbref.com(en(squads(c7a9f859(2021-2022(matchlogs(all_comps(keeper(Bayer-Leverkusen-Match-Logs-All-Competitions\n",
      "✅ https_((fbref.com(en(squads(c7a9f859(2021-2022(matchlogs(all_comps(passing(Bayer-Leverkusen-Match-Logs-All-Competitions\n",
      "✅ https_((fbref.com(en(squads(c7a9f859(2021-2022(matchlogs(all_comps(passing_types(Bayer-Leverkusen-Match-Logs-All-Competitions\n",
      "✅ https_((fbref.com(en(squads(c7a9f859(2021-2022(matchlogs(all_comps(gca(Bayer-Leverkusen-Match-Logs-All-Competitions\n",
      "✅ https_((fbref.com(en(squads(c7a9f859(2021-2022(matchlogs(all_comps(defense(Bayer-Leverkusen-Match-Logs-All-Competitions\n",
      "✅ https_((fbref.com(en(squads(c7a9f859(2021-2022(matchlogs(all_comps(possession(Bayer-Leverkusen-Match-Logs-All-Competitions\n",
      "✅ https_((fbref.com(en(squads(c7a9f859(2021-2022(matchlogs(all_comps(misc(Bayer-Leverkusen-Match-Logs-All-Competitions\n",
      "✅ https_((fbref.com(en(squads(acbb6a5b(2021-2022(RB-Leipzig-Stats\n",
      "✅ https_((fbref.com(en(squads(acbb6a5b(2021-2022(matchlogs(all_comps(shooting(RB-Leipzig-Match-Logs-All-Competitions\n",
      "✅ https_((fbref.com(en(squads(acbb6a5b(2021-2022(matchlogs(all_comps(keeper(RB-Leipzig-Match-Logs-All-Competitions\n",
      "✅ https_((fbref.com(en(squads(acbb6a5b(2021-2022(matchlogs(all_comps(passing(RB-Leipzig-Match-Logs-All-Competitions\n",
      "✅ https_((fbref.com(en(squads(acbb6a5b(2021-2022(matchlogs(all_comps(passing_types(RB-Leipzig-Match-Logs-All-Competitions\n",
      "✅ https_((fbref.com(en(squads(acbb6a5b(2021-2022(matchlogs(all_comps(gca(RB-Leipzig-Match-Logs-All-Competitions\n",
      "✅ https_((fbref.com(en(squads(acbb6a5b(2021-2022(matchlogs(all_comps(defense(RB-Leipzig-Match-Logs-All-Competitions\n",
      "✅ https_((fbref.com(en(squads(acbb6a5b(2021-2022(matchlogs(all_comps(possession(RB-Leipzig-Match-Logs-All-Competitions\n",
      "✅ https_((fbref.com(en(squads(acbb6a5b(2021-2022(matchlogs(all_comps(misc(RB-Leipzig-Match-Logs-All-Competitions\n",
      "✅ https_((fbref.com(en(squads(7a41008f(2021-2022(Union-Berlin-Stats\n",
      "✅ https_((fbref.com(en(squads(7a41008f(2021-2022(matchlogs(all_comps(shooting(Union-Berlin-Match-Logs-All-Competitions\n",
      "✅ https_((fbref.com(en(squads(7a41008f(2021-2022(matchlogs(all_comps(keeper(Union-Berlin-Match-Logs-All-Competitions\n",
      "✅ https_((fbref.com(en(squads(7a41008f(2021-2022(matchlogs(all_comps(passing(Union-Berlin-Match-Logs-All-Competitions\n",
      "✅ https_((fbref.com(en(squads(7a41008f(2021-2022(matchlogs(all_comps(passing_types(Union-Berlin-Match-Logs-All-Competitions\n",
      "✅ https_((fbref.com(en(squads(7a41008f(2021-2022(matchlogs(all_comps(gca(Union-Berlin-Match-Logs-All-Competitions\n",
      "✅ https_((fbref.com(en(squads(7a41008f(2021-2022(matchlogs(all_comps(defense(Union-Berlin-Match-Logs-All-Competitions\n",
      "✅ https_((fbref.com(en(squads(7a41008f(2021-2022(matchlogs(all_comps(possession(Union-Berlin-Match-Logs-All-Competitions\n",
      "✅ https_((fbref.com(en(squads(7a41008f(2021-2022(matchlogs(all_comps(misc(Union-Berlin-Match-Logs-All-Competitions\n",
      "✅ https_((fbref.com(en(squads(a486e511(2021-2022(Freiburg-Stats\n",
      "✅ https_((fbref.com(en(squads(a486e511(2021-2022(matchlogs(all_comps(shooting(Freiburg-Match-Logs-All-Competitions\n",
      "✅ https_((fbref.com(en(squads(a486e511(2021-2022(matchlogs(all_comps(keeper(Freiburg-Match-Logs-All-Competitions\n",
      "✅ https_((fbref.com(en(squads(a486e511(2021-2022(matchlogs(all_comps(passing(Freiburg-Match-Logs-All-Competitions\n",
      "✅ https_((fbref.com(en(squads(a486e511(2021-2022(matchlogs(all_comps(passing_types(Freiburg-Match-Logs-All-Competitions\n",
      "✅ https_((fbref.com(en(squads(a486e511(2021-2022(matchlogs(all_comps(gca(Freiburg-Match-Logs-All-Competitions\n",
      "✅ https_((fbref.com(en(squads(a486e511(2021-2022(matchlogs(all_comps(defense(Freiburg-Match-Logs-All-Competitions\n",
      "✅ https_((fbref.com(en(squads(a486e511(2021-2022(matchlogs(all_comps(possession(Freiburg-Match-Logs-All-Competitions\n",
      "✅ https_((fbref.com(en(squads(a486e511(2021-2022(matchlogs(all_comps(misc(Freiburg-Match-Logs-All-Competitions\n",
      "✅ https_((fbref.com(en(squads(bc357bf7(2021-2022(Koln-Stats\n",
      "✅ https_((fbref.com(en(squads(bc357bf7(2021-2022(matchlogs(all_comps(shooting(Koln-Match-Logs-All-Competitions\n",
      "✅ https_((fbref.com(en(squads(bc357bf7(2021-2022(matchlogs(all_comps(keeper(Koln-Match-Logs-All-Competitions\n",
      "✅ https_((fbref.com(en(squads(bc357bf7(2021-2022(matchlogs(all_comps(passing(Koln-Match-Logs-All-Competitions\n",
      "✅ https_((fbref.com(en(squads(bc357bf7(2021-2022(matchlogs(all_comps(passing_types(Koln-Match-Logs-All-Competitions\n",
      "✅ https_((fbref.com(en(squads(bc357bf7(2021-2022(matchlogs(all_comps(gca(Koln-Match-Logs-All-Competitions\n",
      "✅ https_((fbref.com(en(squads(bc357bf7(2021-2022(matchlogs(all_comps(defense(Koln-Match-Logs-All-Competitions\n",
      "✅ https_((fbref.com(en(squads(bc357bf7(2021-2022(matchlogs(all_comps(possession(Koln-Match-Logs-All-Competitions\n",
      "✅ https_((fbref.com(en(squads(bc357bf7(2021-2022(matchlogs(all_comps(misc(Koln-Match-Logs-All-Competitions\n",
      "✅ https_((fbref.com(en(squads(a224b06a(2021-2022(Mainz-05-Stats\n",
      "✅ https_((fbref.com(en(squads(a224b06a(2021-2022(matchlogs(all_comps(shooting(Mainz-05-Match-Logs-All-Competitions\n",
      "✅ https_((fbref.com(en(squads(a224b06a(2021-2022(matchlogs(all_comps(keeper(Mainz-05-Match-Logs-All-Competitions\n",
      "✅ https_((fbref.com(en(squads(a224b06a(2021-2022(matchlogs(all_comps(passing(Mainz-05-Match-Logs-All-Competitions\n",
      "✅ https_((fbref.com(en(squads(a224b06a(2021-2022(matchlogs(all_comps(passing_types(Mainz-05-Match-Logs-All-Competitions\n",
      "✅ https_((fbref.com(en(squads(a224b06a(2021-2022(matchlogs(all_comps(gca(Mainz-05-Match-Logs-All-Competitions\n",
      "✅ https_((fbref.com(en(squads(a224b06a(2021-2022(matchlogs(all_comps(defense(Mainz-05-Match-Logs-All-Competitions\n",
      "✅ https_((fbref.com(en(squads(a224b06a(2021-2022(matchlogs(all_comps(possession(Mainz-05-Match-Logs-All-Competitions\n",
      "✅ https_((fbref.com(en(squads(a224b06a(2021-2022(matchlogs(all_comps(misc(Mainz-05-Match-Logs-All-Competitions\n",
      "✅ https_((fbref.com(en(squads(033ea6b8(2021-2022(Hoffenheim-Stats\n",
      "✅ https_((fbref.com(en(squads(033ea6b8(2021-2022(matchlogs(all_comps(shooting(Hoffenheim-Match-Logs-All-Competitions\n",
      "✅ https_((fbref.com(en(squads(033ea6b8(2021-2022(matchlogs(all_comps(keeper(Hoffenheim-Match-Logs-All-Competitions\n",
      "✅ https_((fbref.com(en(squads(033ea6b8(2021-2022(matchlogs(all_comps(passing(Hoffenheim-Match-Logs-All-Competitions\n",
      "✅ https_((fbref.com(en(squads(033ea6b8(2021-2022(matchlogs(all_comps(passing_types(Hoffenheim-Match-Logs-All-Competitions\n",
      "✅ https_((fbref.com(en(squads(033ea6b8(2021-2022(matchlogs(all_comps(gca(Hoffenheim-Match-Logs-All-Competitions\n",
      "✅ https_((fbref.com(en(squads(033ea6b8(2021-2022(matchlogs(all_comps(defense(Hoffenheim-Match-Logs-All-Competitions\n",
      "✅ https_((fbref.com(en(squads(033ea6b8(2021-2022(matchlogs(all_comps(possession(Hoffenheim-Match-Logs-All-Competitions\n",
      "✅ https_((fbref.com(en(squads(033ea6b8(2021-2022(matchlogs(all_comps(misc(Hoffenheim-Match-Logs-All-Competitions\n",
      "✅ https_((fbref.com(en(squads(32f3ee20(2021-2022(Monchengladbach-Stats\n",
      "✅ https_((fbref.com(en(squads(32f3ee20(2021-2022(matchlogs(all_comps(shooting(Monchengladbach-Match-Logs-All-Competitions\n",
      "✅ https_((fbref.com(en(squads(32f3ee20(2021-2022(matchlogs(all_comps(keeper(Monchengladbach-Match-Logs-All-Competitions\n",
      "✅ https_((fbref.com(en(squads(32f3ee20(2021-2022(matchlogs(all_comps(passing(Monchengladbach-Match-Logs-All-Competitions\n",
      "✅ https_((fbref.com(en(squads(32f3ee20(2021-2022(matchlogs(all_comps(passing_types(Monchengladbach-Match-Logs-All-Competitions\n",
      "✅ https_((fbref.com(en(squads(32f3ee20(2021-2022(matchlogs(all_comps(gca(Monchengladbach-Match-Logs-All-Competitions\n",
      "✅ https_((fbref.com(en(squads(32f3ee20(2021-2022(matchlogs(all_comps(defense(Monchengladbach-Match-Logs-All-Competitions\n",
      "✅ https_((fbref.com(en(squads(32f3ee20(2021-2022(matchlogs(all_comps(possession(Monchengladbach-Match-Logs-All-Competitions\n",
      "✅ https_((fbref.com(en(squads(32f3ee20(2021-2022(matchlogs(all_comps(misc(Monchengladbach-Match-Logs-All-Competitions\n",
      "✅ https_((fbref.com(en(squads(f0ac8ee6(2021-2022(Eintracht-Frankfurt-Stats\n",
      "✅ https_((fbref.com(en(squads(f0ac8ee6(2021-2022(matchlogs(all_comps(shooting(Eintracht-Frankfurt-Match-Logs-All-Competitions\n",
      "✅ https_((fbref.com(en(squads(f0ac8ee6(2021-2022(matchlogs(all_comps(keeper(Eintracht-Frankfurt-Match-Logs-All-Competitions\n",
      "✅ https_((fbref.com(en(squads(f0ac8ee6(2021-2022(matchlogs(all_comps(passing(Eintracht-Frankfurt-Match-Logs-All-Competitions\n",
      "✅ https_((fbref.com(en(squads(f0ac8ee6(2021-2022(matchlogs(all_comps(passing_types(Eintracht-Frankfurt-Match-Logs-All-Competitions\n",
      "✅ https_((fbref.com(en(squads(f0ac8ee6(2021-2022(matchlogs(all_comps(gca(Eintracht-Frankfurt-Match-Logs-All-Competitions\n",
      "✅ https_((fbref.com(en(squads(f0ac8ee6(2021-2022(matchlogs(all_comps(defense(Eintracht-Frankfurt-Match-Logs-All-Competitions\n",
      "✅ https_((fbref.com(en(squads(f0ac8ee6(2021-2022(matchlogs(all_comps(possession(Eintracht-Frankfurt-Match-Logs-All-Competitions\n",
      "✅ https_((fbref.com(en(squads(f0ac8ee6(2021-2022(matchlogs(all_comps(misc(Eintracht-Frankfurt-Match-Logs-All-Competitions\n",
      "✅ https_((fbref.com(en(squads(4eaa11d7(2021-2022(Wolfsburg-Stats\n",
      "✅ https_((fbref.com(en(squads(4eaa11d7(2021-2022(matchlogs(all_comps(shooting(Wolfsburg-Match-Logs-All-Competitions\n",
      "✅ https_((fbref.com(en(squads(4eaa11d7(2021-2022(matchlogs(all_comps(keeper(Wolfsburg-Match-Logs-All-Competitions\n",
      "✅ https_((fbref.com(en(squads(4eaa11d7(2021-2022(matchlogs(all_comps(passing(Wolfsburg-Match-Logs-All-Competitions\n",
      "✅ https_((fbref.com(en(squads(4eaa11d7(2021-2022(matchlogs(all_comps(passing_types(Wolfsburg-Match-Logs-All-Competitions\n",
      "✅ https_((fbref.com(en(squads(4eaa11d7(2021-2022(matchlogs(all_comps(gca(Wolfsburg-Match-Logs-All-Competitions\n",
      "✅ https_((fbref.com(en(squads(4eaa11d7(2021-2022(matchlogs(all_comps(defense(Wolfsburg-Match-Logs-All-Competitions\n",
      "✅ https_((fbref.com(en(squads(4eaa11d7(2021-2022(matchlogs(all_comps(possession(Wolfsburg-Match-Logs-All-Competitions\n",
      "✅ https_((fbref.com(en(squads(4eaa11d7(2021-2022(matchlogs(all_comps(misc(Wolfsburg-Match-Logs-All-Competitions\n",
      "✅ https_((fbref.com(en(squads(b42c6323(2021-2022(Bochum-Stats\n",
      "✅ https_((fbref.com(en(squads(b42c6323(2021-2022(matchlogs(all_comps(shooting(Bochum-Match-Logs-All-Competitions\n",
      "✅ https_((fbref.com(en(squads(b42c6323(2021-2022(matchlogs(all_comps(keeper(Bochum-Match-Logs-All-Competitions\n",
      "✅ https_((fbref.com(en(squads(b42c6323(2021-2022(matchlogs(all_comps(passing(Bochum-Match-Logs-All-Competitions\n",
      "✅ https_((fbref.com(en(squads(b42c6323(2021-2022(matchlogs(all_comps(passing_types(Bochum-Match-Logs-All-Competitions\n",
      "✅ https_((fbref.com(en(squads(b42c6323(2021-2022(matchlogs(all_comps(gca(Bochum-Match-Logs-All-Competitions\n",
      "✅ https_((fbref.com(en(squads(b42c6323(2021-2022(matchlogs(all_comps(defense(Bochum-Match-Logs-All-Competitions\n",
      "✅ https_((fbref.com(en(squads(b42c6323(2021-2022(matchlogs(all_comps(possession(Bochum-Match-Logs-All-Competitions\n",
      "✅ https_((fbref.com(en(squads(b42c6323(2021-2022(matchlogs(all_comps(misc(Bochum-Match-Logs-All-Competitions\n",
      "✅ https_((fbref.com(en(squads(0cdc4311(2021-2022(Augsburg-Stats\n",
      "✅ https_((fbref.com(en(squads(0cdc4311(2021-2022(matchlogs(all_comps(shooting(Augsburg-Match-Logs-All-Competitions\n",
      "✅ https_((fbref.com(en(squads(0cdc4311(2021-2022(matchlogs(all_comps(keeper(Augsburg-Match-Logs-All-Competitions\n",
      "✅ https_((fbref.com(en(squads(0cdc4311(2021-2022(matchlogs(all_comps(passing(Augsburg-Match-Logs-All-Competitions\n",
      "✅ https_((fbref.com(en(squads(0cdc4311(2021-2022(matchlogs(all_comps(passing_types(Augsburg-Match-Logs-All-Competitions\n",
      "✅ https_((fbref.com(en(squads(0cdc4311(2021-2022(matchlogs(all_comps(gca(Augsburg-Match-Logs-All-Competitions\n",
      "✅ https_((fbref.com(en(squads(0cdc4311(2021-2022(matchlogs(all_comps(defense(Augsburg-Match-Logs-All-Competitions\n",
      "✅ https_((fbref.com(en(squads(0cdc4311(2021-2022(matchlogs(all_comps(possession(Augsburg-Match-Logs-All-Competitions\n",
      "✅ https_((fbref.com(en(squads(0cdc4311(2021-2022(matchlogs(all_comps(misc(Augsburg-Match-Logs-All-Competitions\n",
      "✅ https_((fbref.com(en(squads(598bc722(2021-2022(Stuttgart-Stats\n",
      "✅ https_((fbref.com(en(squads(598bc722(2021-2022(matchlogs(all_comps(shooting(Stuttgart-Match-Logs-All-Competitions\n",
      "✅ https_((fbref.com(en(squads(598bc722(2021-2022(matchlogs(all_comps(keeper(Stuttgart-Match-Logs-All-Competitions\n",
      "✅ https_((fbref.com(en(squads(598bc722(2021-2022(matchlogs(all_comps(passing(Stuttgart-Match-Logs-All-Competitions\n",
      "✅ https_((fbref.com(en(squads(598bc722(2021-2022(matchlogs(all_comps(passing_types(Stuttgart-Match-Logs-All-Competitions\n",
      "✅ https_((fbref.com(en(squads(598bc722(2021-2022(matchlogs(all_comps(gca(Stuttgart-Match-Logs-All-Competitions\n",
      "✅ https_((fbref.com(en(squads(598bc722(2021-2022(matchlogs(all_comps(defense(Stuttgart-Match-Logs-All-Competitions\n",
      "✅ https_((fbref.com(en(squads(598bc722(2021-2022(matchlogs(all_comps(possession(Stuttgart-Match-Logs-All-Competitions\n",
      "✅ https_((fbref.com(en(squads(598bc722(2021-2022(matchlogs(all_comps(misc(Stuttgart-Match-Logs-All-Competitions\n",
      "✅ https_((fbref.com(en(squads(2818f8bc(2021-2022(Hertha-BSC-Stats\n",
      "✅ https_((fbref.com(en(squads(2818f8bc(2021-2022(matchlogs(all_comps(shooting(Hertha-BSC-Match-Logs-All-Competitions\n",
      "✅ https_((fbref.com(en(squads(2818f8bc(2021-2022(matchlogs(all_comps(keeper(Hertha-BSC-Match-Logs-All-Competitions\n",
      "✅ https_((fbref.com(en(squads(2818f8bc(2021-2022(matchlogs(all_comps(passing(Hertha-BSC-Match-Logs-All-Competitions\n",
      "✅ https_((fbref.com(en(squads(2818f8bc(2021-2022(matchlogs(all_comps(passing_types(Hertha-BSC-Match-Logs-All-Competitions\n",
      "✅ https_((fbref.com(en(squads(2818f8bc(2021-2022(matchlogs(all_comps(gca(Hertha-BSC-Match-Logs-All-Competitions\n",
      "✅ https_((fbref.com(en(squads(2818f8bc(2021-2022(matchlogs(all_comps(defense(Hertha-BSC-Match-Logs-All-Competitions\n",
      "✅ https_((fbref.com(en(squads(2818f8bc(2021-2022(matchlogs(all_comps(possession(Hertha-BSC-Match-Logs-All-Competitions\n",
      "✅ https_((fbref.com(en(squads(2818f8bc(2021-2022(matchlogs(all_comps(misc(Hertha-BSC-Match-Logs-All-Competitions\n",
      "✅ https_((fbref.com(en(squads(247c4b67(2021-2022(Arminia-Stats\n",
      "✅ https_((fbref.com(en(squads(247c4b67(2021-2022(matchlogs(all_comps(shooting(Arminia-Match-Logs-All-Competitions\n",
      "✅ https_((fbref.com(en(squads(247c4b67(2021-2022(matchlogs(all_comps(keeper(Arminia-Match-Logs-All-Competitions\n",
      "✅ https_((fbref.com(en(squads(247c4b67(2021-2022(matchlogs(all_comps(passing(Arminia-Match-Logs-All-Competitions\n",
      "✅ https_((fbref.com(en(squads(247c4b67(2021-2022(matchlogs(all_comps(passing_types(Arminia-Match-Logs-All-Competitions\n",
      "✅ https_((fbref.com(en(squads(247c4b67(2021-2022(matchlogs(all_comps(gca(Arminia-Match-Logs-All-Competitions\n",
      "✅ https_((fbref.com(en(squads(247c4b67(2021-2022(matchlogs(all_comps(defense(Arminia-Match-Logs-All-Competitions\n",
      "✅ https_((fbref.com(en(squads(247c4b67(2021-2022(matchlogs(all_comps(possession(Arminia-Match-Logs-All-Competitions\n",
      "✅ https_((fbref.com(en(squads(247c4b67(2021-2022(matchlogs(all_comps(misc(Arminia-Match-Logs-All-Competitions\n",
      "✅ https_((fbref.com(en(squads(12192a4c(2021-2022(Greuther-Furth-Stats\n",
      "✅ https_((fbref.com(en(squads(12192a4c(2021-2022(matchlogs(all_comps(shooting(Greuther-Furth-Match-Logs-All-Competitions\n",
      "✅ https_((fbref.com(en(squads(12192a4c(2021-2022(matchlogs(all_comps(keeper(Greuther-Furth-Match-Logs-All-Competitions\n",
      "✅ https_((fbref.com(en(squads(12192a4c(2021-2022(matchlogs(all_comps(passing(Greuther-Furth-Match-Logs-All-Competitions\n",
      "✅ https_((fbref.com(en(squads(12192a4c(2021-2022(matchlogs(all_comps(passing_types(Greuther-Furth-Match-Logs-All-Competitions\n",
      "✅ https_((fbref.com(en(squads(12192a4c(2021-2022(matchlogs(all_comps(gca(Greuther-Furth-Match-Logs-All-Competitions\n",
      "✅ https_((fbref.com(en(squads(12192a4c(2021-2022(matchlogs(all_comps(defense(Greuther-Furth-Match-Logs-All-Competitions\n",
      "✅ https_((fbref.com(en(squads(12192a4c(2021-2022(matchlogs(all_comps(possession(Greuther-Furth-Match-Logs-All-Competitions\n",
      "✅ https_((fbref.com(en(squads(12192a4c(2021-2022(matchlogs(all_comps(misc(Greuther-Furth-Match-Logs-All-Competitions\n",
      "✅ https_((fbref.com(en(comps(20(2020-2021(2020-2021-Bundesliga-Stats\n",
      "✅ https_((fbref.com(en(squads(054efa67(2020-2021(Bayern-Munich-Stats\n",
      "✅ https_((fbref.com(en(squads(054efa67(2020-2021(matchlogs(all_comps(shooting(Bayern-Munich-Match-Logs-All-Competitions\n",
      "✅ https_((fbref.com(en(squads(054efa67(2020-2021(matchlogs(all_comps(keeper(Bayern-Munich-Match-Logs-All-Competitions\n",
      "✅ https_((fbref.com(en(squads(054efa67(2020-2021(matchlogs(all_comps(passing(Bayern-Munich-Match-Logs-All-Competitions\n",
      "✅ https_((fbref.com(en(squads(054efa67(2020-2021(matchlogs(all_comps(passing_types(Bayern-Munich-Match-Logs-All-Competitions\n",
      "✅ https_((fbref.com(en(squads(054efa67(2020-2021(matchlogs(all_comps(gca(Bayern-Munich-Match-Logs-All-Competitions\n",
      "✅ https_((fbref.com(en(squads(054efa67(2020-2021(matchlogs(all_comps(defense(Bayern-Munich-Match-Logs-All-Competitions\n",
      "✅ https_((fbref.com(en(squads(054efa67(2020-2021(matchlogs(all_comps(possession(Bayern-Munich-Match-Logs-All-Competitions\n",
      "✅ https_((fbref.com(en(squads(054efa67(2020-2021(matchlogs(all_comps(misc(Bayern-Munich-Match-Logs-All-Competitions\n",
      "✅ https_((fbref.com(en(squads(acbb6a5b(2020-2021(RB-Leipzig-Stats\n",
      "✅ https_((fbref.com(en(squads(acbb6a5b(2020-2021(matchlogs(all_comps(shooting(RB-Leipzig-Match-Logs-All-Competitions\n",
      "✅ https_((fbref.com(en(squads(acbb6a5b(2020-2021(matchlogs(all_comps(keeper(RB-Leipzig-Match-Logs-All-Competitions\n",
      "✅ https_((fbref.com(en(squads(acbb6a5b(2020-2021(matchlogs(all_comps(passing(RB-Leipzig-Match-Logs-All-Competitions\n",
      "✅ https_((fbref.com(en(squads(acbb6a5b(2020-2021(matchlogs(all_comps(passing_types(RB-Leipzig-Match-Logs-All-Competitions\n",
      "✅ https_((fbref.com(en(squads(acbb6a5b(2020-2021(matchlogs(all_comps(gca(RB-Leipzig-Match-Logs-All-Competitions\n",
      "✅ https_((fbref.com(en(squads(acbb6a5b(2020-2021(matchlogs(all_comps(defense(RB-Leipzig-Match-Logs-All-Competitions\n",
      "✅ https_((fbref.com(en(squads(acbb6a5b(2020-2021(matchlogs(all_comps(possession(RB-Leipzig-Match-Logs-All-Competitions\n",
      "✅ https_((fbref.com(en(squads(acbb6a5b(2020-2021(matchlogs(all_comps(misc(RB-Leipzig-Match-Logs-All-Competitions\n",
      "✅ https_((fbref.com(en(squads(add600ae(2020-2021(Dortmund-Stats\n",
      "✅ https_((fbref.com(en(squads(add600ae(2020-2021(matchlogs(all_comps(shooting(Dortmund-Match-Logs-All-Competitions\n",
      "✅ https_((fbref.com(en(squads(add600ae(2020-2021(matchlogs(all_comps(keeper(Dortmund-Match-Logs-All-Competitions\n",
      "✅ https_((fbref.com(en(squads(add600ae(2020-2021(matchlogs(all_comps(passing(Dortmund-Match-Logs-All-Competitions\n",
      "✅ https_((fbref.com(en(squads(add600ae(2020-2021(matchlogs(all_comps(passing_types(Dortmund-Match-Logs-All-Competitions\n",
      "✅ https_((fbref.com(en(squads(add600ae(2020-2021(matchlogs(all_comps(gca(Dortmund-Match-Logs-All-Competitions\n",
      "✅ https_((fbref.com(en(squads(add600ae(2020-2021(matchlogs(all_comps(defense(Dortmund-Match-Logs-All-Competitions\n",
      "✅ https_((fbref.com(en(squads(add600ae(2020-2021(matchlogs(all_comps(possession(Dortmund-Match-Logs-All-Competitions\n",
      "✅ https_((fbref.com(en(squads(add600ae(2020-2021(matchlogs(all_comps(misc(Dortmund-Match-Logs-All-Competitions\n",
      "✅ https_((fbref.com(en(squads(4eaa11d7(2020-2021(Wolfsburg-Stats\n",
      "✅ https_((fbref.com(en(squads(4eaa11d7(2020-2021(matchlogs(all_comps(shooting(Wolfsburg-Match-Logs-All-Competitions\n",
      "✅ https_((fbref.com(en(squads(4eaa11d7(2020-2021(matchlogs(all_comps(keeper(Wolfsburg-Match-Logs-All-Competitions\n",
      "✅ https_((fbref.com(en(squads(4eaa11d7(2020-2021(matchlogs(all_comps(passing(Wolfsburg-Match-Logs-All-Competitions\n",
      "✅ https_((fbref.com(en(squads(4eaa11d7(2020-2021(matchlogs(all_comps(passing_types(Wolfsburg-Match-Logs-All-Competitions\n",
      "✅ https_((fbref.com(en(squads(4eaa11d7(2020-2021(matchlogs(all_comps(gca(Wolfsburg-Match-Logs-All-Competitions\n",
      "✅ https_((fbref.com(en(squads(4eaa11d7(2020-2021(matchlogs(all_comps(defense(Wolfsburg-Match-Logs-All-Competitions\n",
      "✅ https_((fbref.com(en(squads(4eaa11d7(2020-2021(matchlogs(all_comps(possession(Wolfsburg-Match-Logs-All-Competitions\n",
      "✅ https_((fbref.com(en(squads(4eaa11d7(2020-2021(matchlogs(all_comps(misc(Wolfsburg-Match-Logs-All-Competitions\n",
      "✅ https_((fbref.com(en(squads(f0ac8ee6(2020-2021(Eintracht-Frankfurt-Stats\n",
      "✅ https_((fbref.com(en(squads(f0ac8ee6(2020-2021(matchlogs(all_comps(shooting(Eintracht-Frankfurt-Match-Logs-All-Competitions\n",
      "✅ https_((fbref.com(en(squads(f0ac8ee6(2020-2021(matchlogs(all_comps(keeper(Eintracht-Frankfurt-Match-Logs-All-Competitions\n",
      "✅ https_((fbref.com(en(squads(f0ac8ee6(2020-2021(matchlogs(all_comps(passing(Eintracht-Frankfurt-Match-Logs-All-Competitions\n",
      "✅ https_((fbref.com(en(squads(f0ac8ee6(2020-2021(matchlogs(all_comps(passing_types(Eintracht-Frankfurt-Match-Logs-All-Competitions\n",
      "✅ https_((fbref.com(en(squads(f0ac8ee6(2020-2021(matchlogs(all_comps(gca(Eintracht-Frankfurt-Match-Logs-All-Competitions\n",
      "✅ https_((fbref.com(en(squads(f0ac8ee6(2020-2021(matchlogs(all_comps(defense(Eintracht-Frankfurt-Match-Logs-All-Competitions\n",
      "✅ https_((fbref.com(en(squads(f0ac8ee6(2020-2021(matchlogs(all_comps(possession(Eintracht-Frankfurt-Match-Logs-All-Competitions\n",
      "✅ https_((fbref.com(en(squads(f0ac8ee6(2020-2021(matchlogs(all_comps(misc(Eintracht-Frankfurt-Match-Logs-All-Competitions\n",
      "✅ https_((fbref.com(en(squads(c7a9f859(2020-2021(Bayer-Leverkusen-Stats\n",
      "✅ https_((fbref.com(en(squads(c7a9f859(2020-2021(matchlogs(all_comps(shooting(Bayer-Leverkusen-Match-Logs-All-Competitions\n",
      "✅ https_((fbref.com(en(squads(c7a9f859(2020-2021(matchlogs(all_comps(keeper(Bayer-Leverkusen-Match-Logs-All-Competitions\n",
      "✅ https_((fbref.com(en(squads(c7a9f859(2020-2021(matchlogs(all_comps(passing(Bayer-Leverkusen-Match-Logs-All-Competitions\n",
      "✅ https_((fbref.com(en(squads(c7a9f859(2020-2021(matchlogs(all_comps(passing_types(Bayer-Leverkusen-Match-Logs-All-Competitions\n",
      "✅ https_((fbref.com(en(squads(c7a9f859(2020-2021(matchlogs(all_comps(gca(Bayer-Leverkusen-Match-Logs-All-Competitions\n",
      "✅ https_((fbref.com(en(squads(c7a9f859(2020-2021(matchlogs(all_comps(defense(Bayer-Leverkusen-Match-Logs-All-Competitions\n",
      "✅ https_((fbref.com(en(squads(c7a9f859(2020-2021(matchlogs(all_comps(possession(Bayer-Leverkusen-Match-Logs-All-Competitions\n",
      "✅ https_((fbref.com(en(squads(c7a9f859(2020-2021(matchlogs(all_comps(misc(Bayer-Leverkusen-Match-Logs-All-Competitions\n",
      "✅ https_((fbref.com(en(squads(7a41008f(2020-2021(Union-Berlin-Stats\n",
      "✅ https_((fbref.com(en(squads(7a41008f(2020-2021(matchlogs(all_comps(shooting(Union-Berlin-Match-Logs-All-Competitions\n",
      "✅ https_((fbref.com(en(squads(7a41008f(2020-2021(matchlogs(all_comps(keeper(Union-Berlin-Match-Logs-All-Competitions\n",
      "✅ https_((fbref.com(en(squads(7a41008f(2020-2021(matchlogs(all_comps(passing(Union-Berlin-Match-Logs-All-Competitions\n",
      "✅ https_((fbref.com(en(squads(7a41008f(2020-2021(matchlogs(all_comps(passing_types(Union-Berlin-Match-Logs-All-Competitions\n",
      "✅ https_((fbref.com(en(squads(7a41008f(2020-2021(matchlogs(all_comps(gca(Union-Berlin-Match-Logs-All-Competitions\n",
      "✅ https_((fbref.com(en(squads(7a41008f(2020-2021(matchlogs(all_comps(defense(Union-Berlin-Match-Logs-All-Competitions\n",
      "✅ https_((fbref.com(en(squads(7a41008f(2020-2021(matchlogs(all_comps(possession(Union-Berlin-Match-Logs-All-Competitions\n",
      "✅ https_((fbref.com(en(squads(7a41008f(2020-2021(matchlogs(all_comps(misc(Union-Berlin-Match-Logs-All-Competitions\n",
      "✅ https_((fbref.com(en(squads(32f3ee20(2020-2021(Monchengladbach-Stats\n",
      "✅ https_((fbref.com(en(squads(32f3ee20(2020-2021(matchlogs(all_comps(shooting(Monchengladbach-Match-Logs-All-Competitions\n",
      "✅ https_((fbref.com(en(squads(32f3ee20(2020-2021(matchlogs(all_comps(keeper(Monchengladbach-Match-Logs-All-Competitions\n",
      "✅ https_((fbref.com(en(squads(32f3ee20(2020-2021(matchlogs(all_comps(passing(Monchengladbach-Match-Logs-All-Competitions\n",
      "✅ https_((fbref.com(en(squads(32f3ee20(2020-2021(matchlogs(all_comps(passing_types(Monchengladbach-Match-Logs-All-Competitions\n",
      "✅ https_((fbref.com(en(squads(32f3ee20(2020-2021(matchlogs(all_comps(gca(Monchengladbach-Match-Logs-All-Competitions\n",
      "✅ https_((fbref.com(en(squads(32f3ee20(2020-2021(matchlogs(all_comps(defense(Monchengladbach-Match-Logs-All-Competitions\n",
      "✅ https_((fbref.com(en(squads(32f3ee20(2020-2021(matchlogs(all_comps(possession(Monchengladbach-Match-Logs-All-Competitions\n",
      "✅ https_((fbref.com(en(squads(32f3ee20(2020-2021(matchlogs(all_comps(misc(Monchengladbach-Match-Logs-All-Competitions\n",
      "✅ https_((fbref.com(en(squads(598bc722(2020-2021(Stuttgart-Stats\n",
      "✅ https_((fbref.com(en(squads(598bc722(2020-2021(matchlogs(all_comps(shooting(Stuttgart-Match-Logs-All-Competitions\n",
      "✅ https_((fbref.com(en(squads(598bc722(2020-2021(matchlogs(all_comps(keeper(Stuttgart-Match-Logs-All-Competitions\n",
      "✅ https_((fbref.com(en(squads(598bc722(2020-2021(matchlogs(all_comps(passing(Stuttgart-Match-Logs-All-Competitions\n",
      "✅ https_((fbref.com(en(squads(598bc722(2020-2021(matchlogs(all_comps(passing_types(Stuttgart-Match-Logs-All-Competitions\n",
      "✅ https_((fbref.com(en(squads(598bc722(2020-2021(matchlogs(all_comps(gca(Stuttgart-Match-Logs-All-Competitions\n",
      "✅ https_((fbref.com(en(squads(598bc722(2020-2021(matchlogs(all_comps(defense(Stuttgart-Match-Logs-All-Competitions\n",
      "✅ https_((fbref.com(en(squads(598bc722(2020-2021(matchlogs(all_comps(possession(Stuttgart-Match-Logs-All-Competitions\n",
      "✅ https_((fbref.com(en(squads(598bc722(2020-2021(matchlogs(all_comps(misc(Stuttgart-Match-Logs-All-Competitions\n",
      "✅ https_((fbref.com(en(squads(a486e511(2020-2021(Freiburg-Stats\n",
      "✅ https_((fbref.com(en(squads(a486e511(2020-2021(matchlogs(all_comps(shooting(Freiburg-Match-Logs-All-Competitions\n",
      "✅ https_((fbref.com(en(squads(a486e511(2020-2021(matchlogs(all_comps(keeper(Freiburg-Match-Logs-All-Competitions\n",
      "✅ https_((fbref.com(en(squads(a486e511(2020-2021(matchlogs(all_comps(passing(Freiburg-Match-Logs-All-Competitions\n",
      "✅ https_((fbref.com(en(squads(a486e511(2020-2021(matchlogs(all_comps(passing_types(Freiburg-Match-Logs-All-Competitions\n",
      "✅ https_((fbref.com(en(squads(a486e511(2020-2021(matchlogs(all_comps(gca(Freiburg-Match-Logs-All-Competitions\n",
      "✅ https_((fbref.com(en(squads(a486e511(2020-2021(matchlogs(all_comps(defense(Freiburg-Match-Logs-All-Competitions\n",
      "✅ https_((fbref.com(en(squads(a486e511(2020-2021(matchlogs(all_comps(possession(Freiburg-Match-Logs-All-Competitions\n",
      "✅ https_((fbref.com(en(squads(a486e511(2020-2021(matchlogs(all_comps(misc(Freiburg-Match-Logs-All-Competitions\n",
      "✅ https_((fbref.com(en(squads(033ea6b8(2020-2021(Hoffenheim-Stats\n",
      "✅ https_((fbref.com(en(squads(033ea6b8(2020-2021(matchlogs(all_comps(shooting(Hoffenheim-Match-Logs-All-Competitions\n",
      "✅ https_((fbref.com(en(squads(033ea6b8(2020-2021(matchlogs(all_comps(keeper(Hoffenheim-Match-Logs-All-Competitions\n",
      "✅ https_((fbref.com(en(squads(033ea6b8(2020-2021(matchlogs(all_comps(passing(Hoffenheim-Match-Logs-All-Competitions\n",
      "✅ https_((fbref.com(en(squads(033ea6b8(2020-2021(matchlogs(all_comps(passing_types(Hoffenheim-Match-Logs-All-Competitions\n",
      "✅ https_((fbref.com(en(squads(033ea6b8(2020-2021(matchlogs(all_comps(gca(Hoffenheim-Match-Logs-All-Competitions\n",
      "✅ https_((fbref.com(en(squads(033ea6b8(2020-2021(matchlogs(all_comps(defense(Hoffenheim-Match-Logs-All-Competitions\n",
      "✅ https_((fbref.com(en(squads(033ea6b8(2020-2021(matchlogs(all_comps(possession(Hoffenheim-Match-Logs-All-Competitions\n",
      "✅ https_((fbref.com(en(squads(033ea6b8(2020-2021(matchlogs(all_comps(misc(Hoffenheim-Match-Logs-All-Competitions\n",
      "✅ https_((fbref.com(en(squads(a224b06a(2020-2021(Mainz-05-Stats\n",
      "✅ https_((fbref.com(en(squads(a224b06a(2020-2021(matchlogs(all_comps(shooting(Mainz-05-Match-Logs-All-Competitions\n",
      "✅ https_((fbref.com(en(squads(a224b06a(2020-2021(matchlogs(all_comps(keeper(Mainz-05-Match-Logs-All-Competitions\n",
      "✅ https_((fbref.com(en(squads(a224b06a(2020-2021(matchlogs(all_comps(passing(Mainz-05-Match-Logs-All-Competitions\n",
      "✅ https_((fbref.com(en(squads(a224b06a(2020-2021(matchlogs(all_comps(passing_types(Mainz-05-Match-Logs-All-Competitions\n",
      "✅ https_((fbref.com(en(squads(a224b06a(2020-2021(matchlogs(all_comps(gca(Mainz-05-Match-Logs-All-Competitions\n",
      "✅ https_((fbref.com(en(squads(a224b06a(2020-2021(matchlogs(all_comps(defense(Mainz-05-Match-Logs-All-Competitions\n",
      "✅ https_((fbref.com(en(squads(a224b06a(2020-2021(matchlogs(all_comps(possession(Mainz-05-Match-Logs-All-Competitions\n",
      "✅ https_((fbref.com(en(squads(a224b06a(2020-2021(matchlogs(all_comps(misc(Mainz-05-Match-Logs-All-Competitions\n",
      "✅ https_((fbref.com(en(squads(0cdc4311(2020-2021(Augsburg-Stats\n",
      "✅ https_((fbref.com(en(squads(0cdc4311(2020-2021(matchlogs(all_comps(shooting(Augsburg-Match-Logs-All-Competitions\n",
      "✅ https_((fbref.com(en(squads(0cdc4311(2020-2021(matchlogs(all_comps(keeper(Augsburg-Match-Logs-All-Competitions\n",
      "✅ https_((fbref.com(en(squads(0cdc4311(2020-2021(matchlogs(all_comps(passing(Augsburg-Match-Logs-All-Competitions\n",
      "✅ https_((fbref.com(en(squads(0cdc4311(2020-2021(matchlogs(all_comps(passing_types(Augsburg-Match-Logs-All-Competitions\n",
      "✅ https_((fbref.com(en(squads(0cdc4311(2020-2021(matchlogs(all_comps(gca(Augsburg-Match-Logs-All-Competitions\n",
      "✅ https_((fbref.com(en(squads(0cdc4311(2020-2021(matchlogs(all_comps(defense(Augsburg-Match-Logs-All-Competitions\n",
      "✅ https_((fbref.com(en(squads(0cdc4311(2020-2021(matchlogs(all_comps(possession(Augsburg-Match-Logs-All-Competitions\n",
      "✅ https_((fbref.com(en(squads(0cdc4311(2020-2021(matchlogs(all_comps(misc(Augsburg-Match-Logs-All-Competitions\n",
      "✅ https_((fbref.com(en(squads(2818f8bc(2020-2021(Hertha-BSC-Stats\n",
      "✅ https_((fbref.com(en(squads(2818f8bc(2020-2021(matchlogs(all_comps(shooting(Hertha-BSC-Match-Logs-All-Competitions\n",
      "✅ https_((fbref.com(en(squads(2818f8bc(2020-2021(matchlogs(all_comps(keeper(Hertha-BSC-Match-Logs-All-Competitions\n",
      "✅ https_((fbref.com(en(squads(2818f8bc(2020-2021(matchlogs(all_comps(passing(Hertha-BSC-Match-Logs-All-Competitions\n",
      "✅ https_((fbref.com(en(squads(2818f8bc(2020-2021(matchlogs(all_comps(passing_types(Hertha-BSC-Match-Logs-All-Competitions\n",
      "✅ https_((fbref.com(en(squads(2818f8bc(2020-2021(matchlogs(all_comps(gca(Hertha-BSC-Match-Logs-All-Competitions\n",
      "✅ https_((fbref.com(en(squads(2818f8bc(2020-2021(matchlogs(all_comps(defense(Hertha-BSC-Match-Logs-All-Competitions\n",
      "✅ https_((fbref.com(en(squads(2818f8bc(2020-2021(matchlogs(all_comps(possession(Hertha-BSC-Match-Logs-All-Competitions\n",
      "✅ https_((fbref.com(en(squads(2818f8bc(2020-2021(matchlogs(all_comps(misc(Hertha-BSC-Match-Logs-All-Competitions\n",
      "✅ https_((fbref.com(en(squads(247c4b67(2020-2021(Arminia-Stats\n",
      "✅ https_((fbref.com(en(squads(247c4b67(2020-2021(matchlogs(all_comps(shooting(Arminia-Match-Logs-All-Competitions\n",
      "✅ https_((fbref.com(en(squads(247c4b67(2020-2021(matchlogs(all_comps(keeper(Arminia-Match-Logs-All-Competitions\n",
      "✅ https_((fbref.com(en(squads(247c4b67(2020-2021(matchlogs(all_comps(passing(Arminia-Match-Logs-All-Competitions\n",
      "✅ https_((fbref.com(en(squads(247c4b67(2020-2021(matchlogs(all_comps(passing_types(Arminia-Match-Logs-All-Competitions\n",
      "✅ https_((fbref.com(en(squads(247c4b67(2020-2021(matchlogs(all_comps(gca(Arminia-Match-Logs-All-Competitions\n",
      "✅ https_((fbref.com(en(squads(247c4b67(2020-2021(matchlogs(all_comps(defense(Arminia-Match-Logs-All-Competitions\n",
      "✅ https_((fbref.com(en(squads(247c4b67(2020-2021(matchlogs(all_comps(possession(Arminia-Match-Logs-All-Competitions\n",
      "✅ https_((fbref.com(en(squads(247c4b67(2020-2021(matchlogs(all_comps(misc(Arminia-Match-Logs-All-Competitions\n",
      "✅ https_((fbref.com(en(squads(bc357bf7(2020-2021(Koln-Stats\n",
      "✅ https_((fbref.com(en(squads(bc357bf7(2020-2021(matchlogs(all_comps(shooting(Koln-Match-Logs-All-Competitions\n",
      "✅ https_((fbref.com(en(squads(bc357bf7(2020-2021(matchlogs(all_comps(keeper(Koln-Match-Logs-All-Competitions\n",
      "✅ https_((fbref.com(en(squads(bc357bf7(2020-2021(matchlogs(all_comps(passing(Koln-Match-Logs-All-Competitions\n",
      "✅ https_((fbref.com(en(squads(bc357bf7(2020-2021(matchlogs(all_comps(passing_types(Koln-Match-Logs-All-Competitions\n",
      "✅ https_((fbref.com(en(squads(bc357bf7(2020-2021(matchlogs(all_comps(gca(Koln-Match-Logs-All-Competitions\n",
      "✅ https_((fbref.com(en(squads(bc357bf7(2020-2021(matchlogs(all_comps(defense(Koln-Match-Logs-All-Competitions\n",
      "✅ https_((fbref.com(en(squads(bc357bf7(2020-2021(matchlogs(all_comps(possession(Koln-Match-Logs-All-Competitions\n",
      "✅ https_((fbref.com(en(squads(bc357bf7(2020-2021(matchlogs(all_comps(misc(Koln-Match-Logs-All-Competitions\n",
      "✅ https_((fbref.com(en(squads(62add3bf(2020-2021(Werder-Bremen-Stats\n",
      "✅ https_((fbref.com(en(squads(62add3bf(2020-2021(matchlogs(all_comps(shooting(Werder-Bremen-Match-Logs-All-Competitions\n",
      "✅ https_((fbref.com(en(squads(62add3bf(2020-2021(matchlogs(all_comps(keeper(Werder-Bremen-Match-Logs-All-Competitions\n",
      "✅ https_((fbref.com(en(squads(62add3bf(2020-2021(matchlogs(all_comps(passing(Werder-Bremen-Match-Logs-All-Competitions\n",
      "✅ https_((fbref.com(en(squads(62add3bf(2020-2021(matchlogs(all_comps(passing_types(Werder-Bremen-Match-Logs-All-Competitions\n",
      "✅ https_((fbref.com(en(squads(62add3bf(2020-2021(matchlogs(all_comps(gca(Werder-Bremen-Match-Logs-All-Competitions\n",
      "✅ https_((fbref.com(en(squads(62add3bf(2020-2021(matchlogs(all_comps(defense(Werder-Bremen-Match-Logs-All-Competitions\n",
      "✅ https_((fbref.com(en(squads(62add3bf(2020-2021(matchlogs(all_comps(possession(Werder-Bremen-Match-Logs-All-Competitions\n",
      "✅ https_((fbref.com(en(squads(62add3bf(2020-2021(matchlogs(all_comps(misc(Werder-Bremen-Match-Logs-All-Competitions\n",
      "✅ https_((fbref.com(en(squads(c539e393(2020-2021(Schalke-04-Stats\n",
      "✅ https_((fbref.com(en(squads(c539e393(2020-2021(matchlogs(all_comps(shooting(Schalke-04-Match-Logs-All-Competitions\n",
      "✅ https_((fbref.com(en(squads(c539e393(2020-2021(matchlogs(all_comps(keeper(Schalke-04-Match-Logs-All-Competitions\n",
      "✅ https_((fbref.com(en(squads(c539e393(2020-2021(matchlogs(all_comps(passing(Schalke-04-Match-Logs-All-Competitions\n",
      "✅ https_((fbref.com(en(squads(c539e393(2020-2021(matchlogs(all_comps(passing_types(Schalke-04-Match-Logs-All-Competitions\n",
      "✅ https_((fbref.com(en(squads(c539e393(2020-2021(matchlogs(all_comps(gca(Schalke-04-Match-Logs-All-Competitions\n",
      "✅ https_((fbref.com(en(squads(c539e393(2020-2021(matchlogs(all_comps(defense(Schalke-04-Match-Logs-All-Competitions\n",
      "✅ https_((fbref.com(en(squads(c539e393(2020-2021(matchlogs(all_comps(possession(Schalke-04-Match-Logs-All-Competitions\n",
      "✅ https_((fbref.com(en(squads(c539e393(2020-2021(matchlogs(all_comps(misc(Schalke-04-Match-Logs-All-Competitions\n",
      "✅ https_((fbref.com(en(comps(20(2019-2020(2019-2020-Bundesliga-Stats\n",
      "✅ https_((fbref.com(en(squads(054efa67(2019-2020(Bayern-Munich-Stats\n",
      "✅ https_((fbref.com(en(squads(054efa67(2019-2020(matchlogs(all_comps(shooting(Bayern-Munich-Match-Logs-All-Competitions\n",
      "✅ https_((fbref.com(en(squads(054efa67(2019-2020(matchlogs(all_comps(keeper(Bayern-Munich-Match-Logs-All-Competitions\n",
      "✅ https_((fbref.com(en(squads(054efa67(2019-2020(matchlogs(all_comps(passing(Bayern-Munich-Match-Logs-All-Competitions\n",
      "✅ https_((fbref.com(en(squads(054efa67(2019-2020(matchlogs(all_comps(passing_types(Bayern-Munich-Match-Logs-All-Competitions\n",
      "✅ https_((fbref.com(en(squads(054efa67(2019-2020(matchlogs(all_comps(gca(Bayern-Munich-Match-Logs-All-Competitions\n",
      "✅ https_((fbref.com(en(squads(054efa67(2019-2020(matchlogs(all_comps(defense(Bayern-Munich-Match-Logs-All-Competitions\n",
      "✅ https_((fbref.com(en(squads(054efa67(2019-2020(matchlogs(all_comps(possession(Bayern-Munich-Match-Logs-All-Competitions\n",
      "✅ https_((fbref.com(en(squads(054efa67(2019-2020(matchlogs(all_comps(misc(Bayern-Munich-Match-Logs-All-Competitions\n",
      "✅ https_((fbref.com(en(squads(add600ae(2019-2020(Dortmund-Stats\n",
      "✅ https_((fbref.com(en(squads(add600ae(2019-2020(matchlogs(all_comps(shooting(Dortmund-Match-Logs-All-Competitions\n",
      "✅ https_((fbref.com(en(squads(add600ae(2019-2020(matchlogs(all_comps(keeper(Dortmund-Match-Logs-All-Competitions\n",
      "✅ https_((fbref.com(en(squads(add600ae(2019-2020(matchlogs(all_comps(passing(Dortmund-Match-Logs-All-Competitions\n",
      "✅ https_((fbref.com(en(squads(add600ae(2019-2020(matchlogs(all_comps(passing_types(Dortmund-Match-Logs-All-Competitions\n",
      "✅ https_((fbref.com(en(squads(add600ae(2019-2020(matchlogs(all_comps(gca(Dortmund-Match-Logs-All-Competitions\n",
      "✅ https_((fbref.com(en(squads(add600ae(2019-2020(matchlogs(all_comps(defense(Dortmund-Match-Logs-All-Competitions\n",
      "✅ https_((fbref.com(en(squads(add600ae(2019-2020(matchlogs(all_comps(possession(Dortmund-Match-Logs-All-Competitions\n",
      "✅ https_((fbref.com(en(squads(add600ae(2019-2020(matchlogs(all_comps(misc(Dortmund-Match-Logs-All-Competitions\n",
      "✅ https_((fbref.com(en(squads(acbb6a5b(2019-2020(RB-Leipzig-Stats\n",
      "✅ https_((fbref.com(en(squads(acbb6a5b(2019-2020(matchlogs(all_comps(shooting(RB-Leipzig-Match-Logs-All-Competitions\n",
      "✅ https_((fbref.com(en(squads(acbb6a5b(2019-2020(matchlogs(all_comps(keeper(RB-Leipzig-Match-Logs-All-Competitions\n",
      "✅ https_((fbref.com(en(squads(acbb6a5b(2019-2020(matchlogs(all_comps(passing(RB-Leipzig-Match-Logs-All-Competitions\n",
      "✅ https_((fbref.com(en(squads(acbb6a5b(2019-2020(matchlogs(all_comps(passing_types(RB-Leipzig-Match-Logs-All-Competitions\n",
      "✅ https_((fbref.com(en(squads(acbb6a5b(2019-2020(matchlogs(all_comps(gca(RB-Leipzig-Match-Logs-All-Competitions\n",
      "✅ https_((fbref.com(en(squads(acbb6a5b(2019-2020(matchlogs(all_comps(defense(RB-Leipzig-Match-Logs-All-Competitions\n",
      "✅ https_((fbref.com(en(squads(acbb6a5b(2019-2020(matchlogs(all_comps(possession(RB-Leipzig-Match-Logs-All-Competitions\n",
      "✅ https_((fbref.com(en(squads(acbb6a5b(2019-2020(matchlogs(all_comps(misc(RB-Leipzig-Match-Logs-All-Competitions\n",
      "✅ https_((fbref.com(en(squads(32f3ee20(2019-2020(Monchengladbach-Stats\n",
      "✅ https_((fbref.com(en(squads(32f3ee20(2019-2020(matchlogs(all_comps(shooting(Monchengladbach-Match-Logs-All-Competitions\n",
      "✅ https_((fbref.com(en(squads(32f3ee20(2019-2020(matchlogs(all_comps(keeper(Monchengladbach-Match-Logs-All-Competitions\n",
      "✅ https_((fbref.com(en(squads(32f3ee20(2019-2020(matchlogs(all_comps(passing(Monchengladbach-Match-Logs-All-Competitions\n",
      "✅ https_((fbref.com(en(squads(32f3ee20(2019-2020(matchlogs(all_comps(passing_types(Monchengladbach-Match-Logs-All-Competitions\n",
      "✅ https_((fbref.com(en(squads(32f3ee20(2019-2020(matchlogs(all_comps(gca(Monchengladbach-Match-Logs-All-Competitions\n",
      "✅ https_((fbref.com(en(squads(32f3ee20(2019-2020(matchlogs(all_comps(defense(Monchengladbach-Match-Logs-All-Competitions\n",
      "✅ https_((fbref.com(en(squads(32f3ee20(2019-2020(matchlogs(all_comps(possession(Monchengladbach-Match-Logs-All-Competitions\n",
      "✅ https_((fbref.com(en(squads(32f3ee20(2019-2020(matchlogs(all_comps(misc(Monchengladbach-Match-Logs-All-Competitions\n",
      "✅ https_((fbref.com(en(squads(c7a9f859(2019-2020(Bayer-Leverkusen-Stats\n",
      "✅ https_((fbref.com(en(squads(c7a9f859(2019-2020(matchlogs(all_comps(shooting(Bayer-Leverkusen-Match-Logs-All-Competitions\n",
      "✅ https_((fbref.com(en(squads(c7a9f859(2019-2020(matchlogs(all_comps(keeper(Bayer-Leverkusen-Match-Logs-All-Competitions\n",
      "✅ https_((fbref.com(en(squads(c7a9f859(2019-2020(matchlogs(all_comps(passing(Bayer-Leverkusen-Match-Logs-All-Competitions\n",
      "✅ https_((fbref.com(en(squads(c7a9f859(2019-2020(matchlogs(all_comps(passing_types(Bayer-Leverkusen-Match-Logs-All-Competitions\n",
      "✅ https_((fbref.com(en(squads(c7a9f859(2019-2020(matchlogs(all_comps(gca(Bayer-Leverkusen-Match-Logs-All-Competitions\n",
      "✅ https_((fbref.com(en(squads(c7a9f859(2019-2020(matchlogs(all_comps(defense(Bayer-Leverkusen-Match-Logs-All-Competitions\n",
      "✅ https_((fbref.com(en(squads(c7a9f859(2019-2020(matchlogs(all_comps(possession(Bayer-Leverkusen-Match-Logs-All-Competitions\n",
      "✅ https_((fbref.com(en(squads(c7a9f859(2019-2020(matchlogs(all_comps(misc(Bayer-Leverkusen-Match-Logs-All-Competitions\n",
      "✅ https_((fbref.com(en(squads(033ea6b8(2019-2020(Hoffenheim-Stats\n",
      "✅ https_((fbref.com(en(squads(033ea6b8(2019-2020(matchlogs(all_comps(shooting(Hoffenheim-Match-Logs-All-Competitions\n",
      "✅ https_((fbref.com(en(squads(033ea6b8(2019-2020(matchlogs(all_comps(keeper(Hoffenheim-Match-Logs-All-Competitions\n",
      "✅ https_((fbref.com(en(squads(033ea6b8(2019-2020(matchlogs(all_comps(passing(Hoffenheim-Match-Logs-All-Competitions\n",
      "✅ https_((fbref.com(en(squads(033ea6b8(2019-2020(matchlogs(all_comps(passing_types(Hoffenheim-Match-Logs-All-Competitions\n",
      "✅ https_((fbref.com(en(squads(033ea6b8(2019-2020(matchlogs(all_comps(gca(Hoffenheim-Match-Logs-All-Competitions\n",
      "✅ https_((fbref.com(en(squads(033ea6b8(2019-2020(matchlogs(all_comps(defense(Hoffenheim-Match-Logs-All-Competitions\n",
      "✅ https_((fbref.com(en(squads(033ea6b8(2019-2020(matchlogs(all_comps(possession(Hoffenheim-Match-Logs-All-Competitions\n",
      "✅ https_((fbref.com(en(squads(033ea6b8(2019-2020(matchlogs(all_comps(misc(Hoffenheim-Match-Logs-All-Competitions\n",
      "✅ https_((fbref.com(en(squads(4eaa11d7(2019-2020(Wolfsburg-Stats\n",
      "✅ https_((fbref.com(en(squads(4eaa11d7(2019-2020(matchlogs(all_comps(shooting(Wolfsburg-Match-Logs-All-Competitions\n",
      "✅ https_((fbref.com(en(squads(4eaa11d7(2019-2020(matchlogs(all_comps(keeper(Wolfsburg-Match-Logs-All-Competitions\n",
      "✅ https_((fbref.com(en(squads(4eaa11d7(2019-2020(matchlogs(all_comps(passing(Wolfsburg-Match-Logs-All-Competitions\n",
      "✅ https_((fbref.com(en(squads(4eaa11d7(2019-2020(matchlogs(all_comps(passing_types(Wolfsburg-Match-Logs-All-Competitions\n",
      "✅ https_((fbref.com(en(squads(4eaa11d7(2019-2020(matchlogs(all_comps(gca(Wolfsburg-Match-Logs-All-Competitions\n",
      "✅ https_((fbref.com(en(squads(4eaa11d7(2019-2020(matchlogs(all_comps(defense(Wolfsburg-Match-Logs-All-Competitions\n",
      "✅ https_((fbref.com(en(squads(4eaa11d7(2019-2020(matchlogs(all_comps(possession(Wolfsburg-Match-Logs-All-Competitions\n",
      "✅ https_((fbref.com(en(squads(4eaa11d7(2019-2020(matchlogs(all_comps(misc(Wolfsburg-Match-Logs-All-Competitions\n",
      "✅ https_((fbref.com(en(squads(a486e511(2019-2020(Freiburg-Stats\n",
      "✅ https_((fbref.com(en(squads(a486e511(2019-2020(matchlogs(all_comps(shooting(Freiburg-Match-Logs-All-Competitions\n",
      "✅ https_((fbref.com(en(squads(a486e511(2019-2020(matchlogs(all_comps(keeper(Freiburg-Match-Logs-All-Competitions\n",
      "✅ https_((fbref.com(en(squads(a486e511(2019-2020(matchlogs(all_comps(passing(Freiburg-Match-Logs-All-Competitions\n",
      "✅ https_((fbref.com(en(squads(a486e511(2019-2020(matchlogs(all_comps(passing_types(Freiburg-Match-Logs-All-Competitions\n",
      "✅ https_((fbref.com(en(squads(a486e511(2019-2020(matchlogs(all_comps(gca(Freiburg-Match-Logs-All-Competitions\n",
      "✅ https_((fbref.com(en(squads(a486e511(2019-2020(matchlogs(all_comps(defense(Freiburg-Match-Logs-All-Competitions\n",
      "✅ https_((fbref.com(en(squads(a486e511(2019-2020(matchlogs(all_comps(possession(Freiburg-Match-Logs-All-Competitions\n",
      "✅ https_((fbref.com(en(squads(a486e511(2019-2020(matchlogs(all_comps(misc(Freiburg-Match-Logs-All-Competitions\n",
      "✅ https_((fbref.com(en(squads(f0ac8ee6(2019-2020(Eintracht-Frankfurt-Stats\n",
      "✅ https_((fbref.com(en(squads(f0ac8ee6(2019-2020(matchlogs(all_comps(shooting(Eintracht-Frankfurt-Match-Logs-All-Competitions\n",
      "✅ https_((fbref.com(en(squads(f0ac8ee6(2019-2020(matchlogs(all_comps(keeper(Eintracht-Frankfurt-Match-Logs-All-Competitions\n",
      "✅ https_((fbref.com(en(squads(f0ac8ee6(2019-2020(matchlogs(all_comps(passing(Eintracht-Frankfurt-Match-Logs-All-Competitions\n",
      "✅ https_((fbref.com(en(squads(f0ac8ee6(2019-2020(matchlogs(all_comps(passing_types(Eintracht-Frankfurt-Match-Logs-All-Competitions\n",
      "✅ https_((fbref.com(en(squads(f0ac8ee6(2019-2020(matchlogs(all_comps(gca(Eintracht-Frankfurt-Match-Logs-All-Competitions\n",
      "✅ https_((fbref.com(en(squads(f0ac8ee6(2019-2020(matchlogs(all_comps(defense(Eintracht-Frankfurt-Match-Logs-All-Competitions\n",
      "✅ https_((fbref.com(en(squads(f0ac8ee6(2019-2020(matchlogs(all_comps(possession(Eintracht-Frankfurt-Match-Logs-All-Competitions\n",
      "✅ https_((fbref.com(en(squads(f0ac8ee6(2019-2020(matchlogs(all_comps(misc(Eintracht-Frankfurt-Match-Logs-All-Competitions\n",
      "✅ https_((fbref.com(en(squads(2818f8bc(2019-2020(Hertha-BSC-Stats\n",
      "✅ https_((fbref.com(en(squads(2818f8bc(2019-2020(matchlogs(all_comps(shooting(Hertha-BSC-Match-Logs-All-Competitions\n",
      "✅ https_((fbref.com(en(squads(2818f8bc(2019-2020(matchlogs(all_comps(keeper(Hertha-BSC-Match-Logs-All-Competitions\n",
      "✅ https_((fbref.com(en(squads(2818f8bc(2019-2020(matchlogs(all_comps(passing(Hertha-BSC-Match-Logs-All-Competitions\n",
      "✅ https_((fbref.com(en(squads(2818f8bc(2019-2020(matchlogs(all_comps(passing_types(Hertha-BSC-Match-Logs-All-Competitions\n",
      "✅ https_((fbref.com(en(squads(2818f8bc(2019-2020(matchlogs(all_comps(gca(Hertha-BSC-Match-Logs-All-Competitions\n",
      "✅ https_((fbref.com(en(squads(2818f8bc(2019-2020(matchlogs(all_comps(defense(Hertha-BSC-Match-Logs-All-Competitions\n",
      "✅ https_((fbref.com(en(squads(2818f8bc(2019-2020(matchlogs(all_comps(possession(Hertha-BSC-Match-Logs-All-Competitions\n",
      "✅ https_((fbref.com(en(squads(2818f8bc(2019-2020(matchlogs(all_comps(misc(Hertha-BSC-Match-Logs-All-Competitions\n",
      "✅ https_((fbref.com(en(squads(7a41008f(2019-2020(Union-Berlin-Stats\n",
      "✅ https_((fbref.com(en(squads(7a41008f(2019-2020(matchlogs(all_comps(shooting(Union-Berlin-Match-Logs-All-Competitions\n",
      "✅ https_((fbref.com(en(squads(7a41008f(2019-2020(matchlogs(all_comps(keeper(Union-Berlin-Match-Logs-All-Competitions\n",
      "✅ https_((fbref.com(en(squads(7a41008f(2019-2020(matchlogs(all_comps(passing(Union-Berlin-Match-Logs-All-Competitions\n",
      "✅ https_((fbref.com(en(squads(7a41008f(2019-2020(matchlogs(all_comps(passing_types(Union-Berlin-Match-Logs-All-Competitions\n",
      "✅ https_((fbref.com(en(squads(7a41008f(2019-2020(matchlogs(all_comps(gca(Union-Berlin-Match-Logs-All-Competitions\n",
      "✅ https_((fbref.com(en(squads(7a41008f(2019-2020(matchlogs(all_comps(defense(Union-Berlin-Match-Logs-All-Competitions\n",
      "✅ https_((fbref.com(en(squads(7a41008f(2019-2020(matchlogs(all_comps(possession(Union-Berlin-Match-Logs-All-Competitions\n",
      "✅ https_((fbref.com(en(squads(7a41008f(2019-2020(matchlogs(all_comps(misc(Union-Berlin-Match-Logs-All-Competitions\n",
      "✅ https_((fbref.com(en(squads(c539e393(2019-2020(Schalke-04-Stats\n",
      "✅ https_((fbref.com(en(squads(c539e393(2019-2020(matchlogs(all_comps(shooting(Schalke-04-Match-Logs-All-Competitions\n",
      "✅ https_((fbref.com(en(squads(c539e393(2019-2020(matchlogs(all_comps(keeper(Schalke-04-Match-Logs-All-Competitions\n",
      "✅ https_((fbref.com(en(squads(c539e393(2019-2020(matchlogs(all_comps(passing(Schalke-04-Match-Logs-All-Competitions\n",
      "✅ https_((fbref.com(en(squads(c539e393(2019-2020(matchlogs(all_comps(passing_types(Schalke-04-Match-Logs-All-Competitions\n",
      "✅ https_((fbref.com(en(squads(c539e393(2019-2020(matchlogs(all_comps(gca(Schalke-04-Match-Logs-All-Competitions\n",
      "✅ https_((fbref.com(en(squads(c539e393(2019-2020(matchlogs(all_comps(defense(Schalke-04-Match-Logs-All-Competitions\n",
      "✅ https_((fbref.com(en(squads(c539e393(2019-2020(matchlogs(all_comps(possession(Schalke-04-Match-Logs-All-Competitions\n",
      "✅ https_((fbref.com(en(squads(c539e393(2019-2020(matchlogs(all_comps(misc(Schalke-04-Match-Logs-All-Competitions\n",
      "✅ https_((fbref.com(en(squads(a224b06a(2019-2020(Mainz-05-Stats\n",
      "✅ https_((fbref.com(en(squads(a224b06a(2019-2020(matchlogs(all_comps(shooting(Mainz-05-Match-Logs-All-Competitions\n",
      "✅ https_((fbref.com(en(squads(a224b06a(2019-2020(matchlogs(all_comps(keeper(Mainz-05-Match-Logs-All-Competitions\n",
      "✅ https_((fbref.com(en(squads(a224b06a(2019-2020(matchlogs(all_comps(passing(Mainz-05-Match-Logs-All-Competitions\n",
      "✅ https_((fbref.com(en(squads(a224b06a(2019-2020(matchlogs(all_comps(passing_types(Mainz-05-Match-Logs-All-Competitions\n",
      "✅ https_((fbref.com(en(squads(a224b06a(2019-2020(matchlogs(all_comps(gca(Mainz-05-Match-Logs-All-Competitions\n",
      "✅ https_((fbref.com(en(squads(a224b06a(2019-2020(matchlogs(all_comps(defense(Mainz-05-Match-Logs-All-Competitions\n",
      "✅ https_((fbref.com(en(squads(a224b06a(2019-2020(matchlogs(all_comps(possession(Mainz-05-Match-Logs-All-Competitions\n",
      "✅ https_((fbref.com(en(squads(a224b06a(2019-2020(matchlogs(all_comps(misc(Mainz-05-Match-Logs-All-Competitions\n",
      "✅ https_((fbref.com(en(squads(bc357bf7(2019-2020(Koln-Stats\n",
      "✅ https_((fbref.com(en(squads(bc357bf7(2019-2020(matchlogs(all_comps(shooting(Koln-Match-Logs-All-Competitions\n",
      "✅ https_((fbref.com(en(squads(bc357bf7(2019-2020(matchlogs(all_comps(keeper(Koln-Match-Logs-All-Competitions\n",
      "✅ https_((fbref.com(en(squads(bc357bf7(2019-2020(matchlogs(all_comps(passing(Koln-Match-Logs-All-Competitions\n",
      "✅ https_((fbref.com(en(squads(bc357bf7(2019-2020(matchlogs(all_comps(passing_types(Koln-Match-Logs-All-Competitions\n",
      "✅ https_((fbref.com(en(squads(bc357bf7(2019-2020(matchlogs(all_comps(gca(Koln-Match-Logs-All-Competitions\n",
      "✅ https_((fbref.com(en(squads(bc357bf7(2019-2020(matchlogs(all_comps(defense(Koln-Match-Logs-All-Competitions\n",
      "✅ https_((fbref.com(en(squads(bc357bf7(2019-2020(matchlogs(all_comps(possession(Koln-Match-Logs-All-Competitions\n",
      "✅ https_((fbref.com(en(squads(bc357bf7(2019-2020(matchlogs(all_comps(misc(Koln-Match-Logs-All-Competitions\n",
      "✅ https_((fbref.com(en(squads(0cdc4311(2019-2020(Augsburg-Stats\n",
      "✅ https_((fbref.com(en(squads(0cdc4311(2019-2020(matchlogs(all_comps(shooting(Augsburg-Match-Logs-All-Competitions\n",
      "✅ https_((fbref.com(en(squads(0cdc4311(2019-2020(matchlogs(all_comps(keeper(Augsburg-Match-Logs-All-Competitions\n",
      "✅ https_((fbref.com(en(squads(0cdc4311(2019-2020(matchlogs(all_comps(passing(Augsburg-Match-Logs-All-Competitions\n",
      "✅ https_((fbref.com(en(squads(0cdc4311(2019-2020(matchlogs(all_comps(passing_types(Augsburg-Match-Logs-All-Competitions\n",
      "✅ https_((fbref.com(en(squads(0cdc4311(2019-2020(matchlogs(all_comps(gca(Augsburg-Match-Logs-All-Competitions\n",
      "✅ https_((fbref.com(en(squads(0cdc4311(2019-2020(matchlogs(all_comps(defense(Augsburg-Match-Logs-All-Competitions\n",
      "✅ https_((fbref.com(en(squads(0cdc4311(2019-2020(matchlogs(all_comps(possession(Augsburg-Match-Logs-All-Competitions\n",
      "✅ https_((fbref.com(en(squads(0cdc4311(2019-2020(matchlogs(all_comps(misc(Augsburg-Match-Logs-All-Competitions\n",
      "✅ https_((fbref.com(en(squads(62add3bf(2019-2020(Werder-Bremen-Stats\n",
      "✅ https_((fbref.com(en(squads(62add3bf(2019-2020(matchlogs(all_comps(shooting(Werder-Bremen-Match-Logs-All-Competitions\n",
      "✅ https_((fbref.com(en(squads(62add3bf(2019-2020(matchlogs(all_comps(keeper(Werder-Bremen-Match-Logs-All-Competitions\n",
      "✅ https_((fbref.com(en(squads(62add3bf(2019-2020(matchlogs(all_comps(passing(Werder-Bremen-Match-Logs-All-Competitions\n",
      "✅ https_((fbref.com(en(squads(62add3bf(2019-2020(matchlogs(all_comps(passing_types(Werder-Bremen-Match-Logs-All-Competitions\n",
      "✅ https_((fbref.com(en(squads(62add3bf(2019-2020(matchlogs(all_comps(gca(Werder-Bremen-Match-Logs-All-Competitions\n",
      "✅ https_((fbref.com(en(squads(62add3bf(2019-2020(matchlogs(all_comps(defense(Werder-Bremen-Match-Logs-All-Competitions\n",
      "✅ https_((fbref.com(en(squads(62add3bf(2019-2020(matchlogs(all_comps(possession(Werder-Bremen-Match-Logs-All-Competitions\n",
      "✅ https_((fbref.com(en(squads(62add3bf(2019-2020(matchlogs(all_comps(misc(Werder-Bremen-Match-Logs-All-Competitions\n",
      "✅ https_((fbref.com(en(squads(b1278397(2019-2020(Dusseldorf-Stats\n",
      "✅ https_((fbref.com(en(squads(b1278397(2019-2020(matchlogs(all_comps(shooting(Dusseldorf-Match-Logs-All-Competitions\n",
      "✅ https_((fbref.com(en(squads(b1278397(2019-2020(matchlogs(all_comps(keeper(Dusseldorf-Match-Logs-All-Competitions\n",
      "✅ https_((fbref.com(en(squads(b1278397(2019-2020(matchlogs(all_comps(passing(Dusseldorf-Match-Logs-All-Competitions\n",
      "✅ https_((fbref.com(en(squads(b1278397(2019-2020(matchlogs(all_comps(passing_types(Dusseldorf-Match-Logs-All-Competitions\n",
      "✅ https_((fbref.com(en(squads(b1278397(2019-2020(matchlogs(all_comps(gca(Dusseldorf-Match-Logs-All-Competitions\n",
      "✅ https_((fbref.com(en(squads(b1278397(2019-2020(matchlogs(all_comps(defense(Dusseldorf-Match-Logs-All-Competitions\n",
      "✅ https_((fbref.com(en(squads(b1278397(2019-2020(matchlogs(all_comps(possession(Dusseldorf-Match-Logs-All-Competitions\n",
      "✅ https_((fbref.com(en(squads(b1278397(2019-2020(matchlogs(all_comps(misc(Dusseldorf-Match-Logs-All-Competitions\n",
      "✅ https_((fbref.com(en(squads(d9f93f02(2019-2020(Paderborn-07-Stats\n",
      "✅ https_((fbref.com(en(squads(d9f93f02(2019-2020(matchlogs(all_comps(shooting(Paderborn-07-Match-Logs-All-Competitions\n",
      "✅ https_((fbref.com(en(squads(d9f93f02(2019-2020(matchlogs(all_comps(keeper(Paderborn-07-Match-Logs-All-Competitions\n",
      "✅ https_((fbref.com(en(squads(d9f93f02(2019-2020(matchlogs(all_comps(passing(Paderborn-07-Match-Logs-All-Competitions\n",
      "✅ https_((fbref.com(en(squads(d9f93f02(2019-2020(matchlogs(all_comps(passing_types(Paderborn-07-Match-Logs-All-Competitions\n",
      "✅ https_((fbref.com(en(squads(d9f93f02(2019-2020(matchlogs(all_comps(gca(Paderborn-07-Match-Logs-All-Competitions\n",
      "✅ https_((fbref.com(en(squads(d9f93f02(2019-2020(matchlogs(all_comps(defense(Paderborn-07-Match-Logs-All-Competitions\n",
      "✅ https_((fbref.com(en(squads(d9f93f02(2019-2020(matchlogs(all_comps(possession(Paderborn-07-Match-Logs-All-Competitions\n",
      "✅ https_((fbref.com(en(squads(d9f93f02(2019-2020(matchlogs(all_comps(misc(Paderborn-07-Match-Logs-All-Competitions\n",
      "✅ https_((fbref.com(en(comps(20(2018-2019(2018-2019-Bundesliga-Stats\n",
      "✅ https_((fbref.com(en(squads(054efa67(2018-2019(Bayern-Munich-Stats\n",
      "✅ https_((fbref.com(en(squads(054efa67(2018-2019(matchlogs(all_comps(shooting(Bayern-Munich-Match-Logs-All-Competitions\n",
      "✅ https_((fbref.com(en(squads(054efa67(2018-2019(matchlogs(all_comps(keeper(Bayern-Munich-Match-Logs-All-Competitions\n",
      "✅ https_((fbref.com(en(squads(054efa67(2018-2019(matchlogs(all_comps(passing(Bayern-Munich-Match-Logs-All-Competitions\n",
      "✅ https_((fbref.com(en(squads(054efa67(2018-2019(matchlogs(all_comps(passing_types(Bayern-Munich-Match-Logs-All-Competitions\n",
      "✅ https_((fbref.com(en(squads(054efa67(2018-2019(matchlogs(all_comps(gca(Bayern-Munich-Match-Logs-All-Competitions\n",
      "✅ https_((fbref.com(en(squads(054efa67(2018-2019(matchlogs(all_comps(defense(Bayern-Munich-Match-Logs-All-Competitions\n",
      "✅ https_((fbref.com(en(squads(054efa67(2018-2019(matchlogs(all_comps(possession(Bayern-Munich-Match-Logs-All-Competitions\n",
      "✅ https_((fbref.com(en(squads(054efa67(2018-2019(matchlogs(all_comps(misc(Bayern-Munich-Match-Logs-All-Competitions\n",
      "✅ https_((fbref.com(en(squads(add600ae(2018-2019(Dortmund-Stats\n",
      "✅ https_((fbref.com(en(squads(add600ae(2018-2019(matchlogs(all_comps(shooting(Dortmund-Match-Logs-All-Competitions\n",
      "✅ https_((fbref.com(en(squads(add600ae(2018-2019(matchlogs(all_comps(keeper(Dortmund-Match-Logs-All-Competitions\n",
      "✅ https_((fbref.com(en(squads(add600ae(2018-2019(matchlogs(all_comps(passing(Dortmund-Match-Logs-All-Competitions\n",
      "✅ https_((fbref.com(en(squads(add600ae(2018-2019(matchlogs(all_comps(passing_types(Dortmund-Match-Logs-All-Competitions\n",
      "✅ https_((fbref.com(en(squads(add600ae(2018-2019(matchlogs(all_comps(gca(Dortmund-Match-Logs-All-Competitions\n",
      "✅ https_((fbref.com(en(squads(add600ae(2018-2019(matchlogs(all_comps(defense(Dortmund-Match-Logs-All-Competitions\n",
      "✅ https_((fbref.com(en(squads(add600ae(2018-2019(matchlogs(all_comps(possession(Dortmund-Match-Logs-All-Competitions\n",
      "✅ https_((fbref.com(en(squads(add600ae(2018-2019(matchlogs(all_comps(misc(Dortmund-Match-Logs-All-Competitions\n",
      "✅ https_((fbref.com(en(squads(acbb6a5b(2018-2019(RB-Leipzig-Stats\n",
      "✅ https_((fbref.com(en(squads(acbb6a5b(2018-2019(matchlogs(all_comps(shooting(RB-Leipzig-Match-Logs-All-Competitions\n",
      "✅ https_((fbref.com(en(squads(acbb6a5b(2018-2019(matchlogs(all_comps(keeper(RB-Leipzig-Match-Logs-All-Competitions\n",
      "✅ https_((fbref.com(en(squads(acbb6a5b(2018-2019(matchlogs(all_comps(passing(RB-Leipzig-Match-Logs-All-Competitions\n",
      "✅ https_((fbref.com(en(squads(acbb6a5b(2018-2019(matchlogs(all_comps(passing_types(RB-Leipzig-Match-Logs-All-Competitions\n",
      "✅ https_((fbref.com(en(squads(acbb6a5b(2018-2019(matchlogs(all_comps(gca(RB-Leipzig-Match-Logs-All-Competitions\n",
      "✅ https_((fbref.com(en(squads(acbb6a5b(2018-2019(matchlogs(all_comps(defense(RB-Leipzig-Match-Logs-All-Competitions\n",
      "✅ https_((fbref.com(en(squads(acbb6a5b(2018-2019(matchlogs(all_comps(possession(RB-Leipzig-Match-Logs-All-Competitions\n",
      "✅ https_((fbref.com(en(squads(acbb6a5b(2018-2019(matchlogs(all_comps(misc(RB-Leipzig-Match-Logs-All-Competitions\n",
      "✅ https_((fbref.com(en(squads(c7a9f859(2018-2019(Bayer-Leverkusen-Stats\n",
      "✅ https_((fbref.com(en(squads(c7a9f859(2018-2019(matchlogs(all_comps(shooting(Bayer-Leverkusen-Match-Logs-All-Competitions\n",
      "✅ https_((fbref.com(en(squads(c7a9f859(2018-2019(matchlogs(all_comps(keeper(Bayer-Leverkusen-Match-Logs-All-Competitions\n",
      "✅ https_((fbref.com(en(squads(c7a9f859(2018-2019(matchlogs(all_comps(passing(Bayer-Leverkusen-Match-Logs-All-Competitions\n",
      "✅ https_((fbref.com(en(squads(c7a9f859(2018-2019(matchlogs(all_comps(passing_types(Bayer-Leverkusen-Match-Logs-All-Competitions\n",
      "✅ https_((fbref.com(en(squads(c7a9f859(2018-2019(matchlogs(all_comps(gca(Bayer-Leverkusen-Match-Logs-All-Competitions\n",
      "✅ https_((fbref.com(en(squads(c7a9f859(2018-2019(matchlogs(all_comps(defense(Bayer-Leverkusen-Match-Logs-All-Competitions\n",
      "✅ https_((fbref.com(en(squads(c7a9f859(2018-2019(matchlogs(all_comps(possession(Bayer-Leverkusen-Match-Logs-All-Competitions\n",
      "✅ https_((fbref.com(en(squads(c7a9f859(2018-2019(matchlogs(all_comps(misc(Bayer-Leverkusen-Match-Logs-All-Competitions\n",
      "✅ https_((fbref.com(en(squads(32f3ee20(2018-2019(Monchengladbach-Stats\n",
      "✅ https_((fbref.com(en(squads(32f3ee20(2018-2019(matchlogs(all_comps(shooting(Monchengladbach-Match-Logs-All-Competitions\n",
      "✅ https_((fbref.com(en(squads(32f3ee20(2018-2019(matchlogs(all_comps(keeper(Monchengladbach-Match-Logs-All-Competitions\n",
      "✅ https_((fbref.com(en(squads(32f3ee20(2018-2019(matchlogs(all_comps(passing(Monchengladbach-Match-Logs-All-Competitions\n",
      "✅ https_((fbref.com(en(squads(32f3ee20(2018-2019(matchlogs(all_comps(passing_types(Monchengladbach-Match-Logs-All-Competitions\n",
      "✅ https_((fbref.com(en(squads(32f3ee20(2018-2019(matchlogs(all_comps(gca(Monchengladbach-Match-Logs-All-Competitions\n",
      "✅ https_((fbref.com(en(squads(32f3ee20(2018-2019(matchlogs(all_comps(defense(Monchengladbach-Match-Logs-All-Competitions\n",
      "✅ https_((fbref.com(en(squads(32f3ee20(2018-2019(matchlogs(all_comps(possession(Monchengladbach-Match-Logs-All-Competitions\n",
      "✅ https_((fbref.com(en(squads(32f3ee20(2018-2019(matchlogs(all_comps(misc(Monchengladbach-Match-Logs-All-Competitions\n",
      "✅ https_((fbref.com(en(squads(4eaa11d7(2018-2019(Wolfsburg-Stats\n",
      "✅ https_((fbref.com(en(squads(4eaa11d7(2018-2019(matchlogs(all_comps(shooting(Wolfsburg-Match-Logs-All-Competitions\n",
      "✅ https_((fbref.com(en(squads(4eaa11d7(2018-2019(matchlogs(all_comps(keeper(Wolfsburg-Match-Logs-All-Competitions\n",
      "✅ https_((fbref.com(en(squads(4eaa11d7(2018-2019(matchlogs(all_comps(passing(Wolfsburg-Match-Logs-All-Competitions\n",
      "✅ https_((fbref.com(en(squads(4eaa11d7(2018-2019(matchlogs(all_comps(passing_types(Wolfsburg-Match-Logs-All-Competitions\n",
      "✅ https_((fbref.com(en(squads(4eaa11d7(2018-2019(matchlogs(all_comps(gca(Wolfsburg-Match-Logs-All-Competitions\n",
      "✅ https_((fbref.com(en(squads(4eaa11d7(2018-2019(matchlogs(all_comps(defense(Wolfsburg-Match-Logs-All-Competitions\n",
      "✅ https_((fbref.com(en(squads(4eaa11d7(2018-2019(matchlogs(all_comps(possession(Wolfsburg-Match-Logs-All-Competitions\n",
      "✅ https_((fbref.com(en(squads(4eaa11d7(2018-2019(matchlogs(all_comps(misc(Wolfsburg-Match-Logs-All-Competitions\n",
      "✅ https_((fbref.com(en(squads(f0ac8ee6(2018-2019(Eintracht-Frankfurt-Stats\n",
      "✅ https_((fbref.com(en(squads(f0ac8ee6(2018-2019(matchlogs(all_comps(shooting(Eintracht-Frankfurt-Match-Logs-All-Competitions\n",
      "✅ https_((fbref.com(en(squads(f0ac8ee6(2018-2019(matchlogs(all_comps(keeper(Eintracht-Frankfurt-Match-Logs-All-Competitions\n",
      "✅ https_((fbref.com(en(squads(f0ac8ee6(2018-2019(matchlogs(all_comps(passing(Eintracht-Frankfurt-Match-Logs-All-Competitions\n",
      "✅ https_((fbref.com(en(squads(f0ac8ee6(2018-2019(matchlogs(all_comps(passing_types(Eintracht-Frankfurt-Match-Logs-All-Competitions\n",
      "✅ https_((fbref.com(en(squads(f0ac8ee6(2018-2019(matchlogs(all_comps(gca(Eintracht-Frankfurt-Match-Logs-All-Competitions\n",
      "✅ https_((fbref.com(en(squads(f0ac8ee6(2018-2019(matchlogs(all_comps(defense(Eintracht-Frankfurt-Match-Logs-All-Competitions\n",
      "✅ https_((fbref.com(en(squads(f0ac8ee6(2018-2019(matchlogs(all_comps(possession(Eintracht-Frankfurt-Match-Logs-All-Competitions\n",
      "✅ https_((fbref.com(en(squads(f0ac8ee6(2018-2019(matchlogs(all_comps(misc(Eintracht-Frankfurt-Match-Logs-All-Competitions\n",
      "✅ https_((fbref.com(en(squads(62add3bf(2018-2019(Werder-Bremen-Stats\n",
      "✅ https_((fbref.com(en(squads(62add3bf(2018-2019(matchlogs(all_comps(shooting(Werder-Bremen-Match-Logs-All-Competitions\n",
      "✅ https_((fbref.com(en(squads(62add3bf(2018-2019(matchlogs(all_comps(keeper(Werder-Bremen-Match-Logs-All-Competitions\n",
      "✅ https_((fbref.com(en(squads(62add3bf(2018-2019(matchlogs(all_comps(passing(Werder-Bremen-Match-Logs-All-Competitions\n",
      "✅ https_((fbref.com(en(squads(62add3bf(2018-2019(matchlogs(all_comps(passing_types(Werder-Bremen-Match-Logs-All-Competitions\n",
      "✅ https_((fbref.com(en(squads(62add3bf(2018-2019(matchlogs(all_comps(gca(Werder-Bremen-Match-Logs-All-Competitions\n",
      "✅ https_((fbref.com(en(squads(62add3bf(2018-2019(matchlogs(all_comps(defense(Werder-Bremen-Match-Logs-All-Competitions\n",
      "✅ https_((fbref.com(en(squads(62add3bf(2018-2019(matchlogs(all_comps(possession(Werder-Bremen-Match-Logs-All-Competitions\n",
      "✅ https_((fbref.com(en(squads(62add3bf(2018-2019(matchlogs(all_comps(misc(Werder-Bremen-Match-Logs-All-Competitions\n",
      "✅ https_((fbref.com(en(squads(033ea6b8(2018-2019(Hoffenheim-Stats\n",
      "✅ https_((fbref.com(en(squads(033ea6b8(2018-2019(matchlogs(all_comps(shooting(Hoffenheim-Match-Logs-All-Competitions\n",
      "✅ https_((fbref.com(en(squads(033ea6b8(2018-2019(matchlogs(all_comps(keeper(Hoffenheim-Match-Logs-All-Competitions\n",
      "✅ https_((fbref.com(en(squads(033ea6b8(2018-2019(matchlogs(all_comps(passing(Hoffenheim-Match-Logs-All-Competitions\n",
      "✅ https_((fbref.com(en(squads(033ea6b8(2018-2019(matchlogs(all_comps(passing_types(Hoffenheim-Match-Logs-All-Competitions\n",
      "✅ https_((fbref.com(en(squads(033ea6b8(2018-2019(matchlogs(all_comps(gca(Hoffenheim-Match-Logs-All-Competitions\n",
      "✅ https_((fbref.com(en(squads(033ea6b8(2018-2019(matchlogs(all_comps(defense(Hoffenheim-Match-Logs-All-Competitions\n",
      "✅ https_((fbref.com(en(squads(033ea6b8(2018-2019(matchlogs(all_comps(possession(Hoffenheim-Match-Logs-All-Competitions\n",
      "✅ https_((fbref.com(en(squads(033ea6b8(2018-2019(matchlogs(all_comps(misc(Hoffenheim-Match-Logs-All-Competitions\n",
      "✅ https_((fbref.com(en(squads(b1278397(2018-2019(Dusseldorf-Stats\n",
      "✅ https_((fbref.com(en(squads(b1278397(2018-2019(matchlogs(all_comps(shooting(Dusseldorf-Match-Logs-All-Competitions\n",
      "✅ https_((fbref.com(en(squads(b1278397(2018-2019(matchlogs(all_comps(keeper(Dusseldorf-Match-Logs-All-Competitions\n",
      "✅ https_((fbref.com(en(squads(b1278397(2018-2019(matchlogs(all_comps(passing(Dusseldorf-Match-Logs-All-Competitions\n",
      "✅ https_((fbref.com(en(squads(b1278397(2018-2019(matchlogs(all_comps(passing_types(Dusseldorf-Match-Logs-All-Competitions\n",
      "✅ https_((fbref.com(en(squads(b1278397(2018-2019(matchlogs(all_comps(gca(Dusseldorf-Match-Logs-All-Competitions\n",
      "✅ https_((fbref.com(en(squads(b1278397(2018-2019(matchlogs(all_comps(defense(Dusseldorf-Match-Logs-All-Competitions\n",
      "✅ https_((fbref.com(en(squads(b1278397(2018-2019(matchlogs(all_comps(possession(Dusseldorf-Match-Logs-All-Competitions\n",
      "✅ https_((fbref.com(en(squads(b1278397(2018-2019(matchlogs(all_comps(misc(Dusseldorf-Match-Logs-All-Competitions\n",
      "✅ https_((fbref.com(en(squads(2818f8bc(2018-2019(Hertha-BSC-Stats\n",
      "✅ https_((fbref.com(en(squads(2818f8bc(2018-2019(matchlogs(all_comps(shooting(Hertha-BSC-Match-Logs-All-Competitions\n",
      "✅ https_((fbref.com(en(squads(2818f8bc(2018-2019(matchlogs(all_comps(keeper(Hertha-BSC-Match-Logs-All-Competitions\n",
      "✅ https_((fbref.com(en(squads(2818f8bc(2018-2019(matchlogs(all_comps(passing(Hertha-BSC-Match-Logs-All-Competitions\n",
      "✅ https_((fbref.com(en(squads(2818f8bc(2018-2019(matchlogs(all_comps(passing_types(Hertha-BSC-Match-Logs-All-Competitions\n",
      "✅ https_((fbref.com(en(squads(2818f8bc(2018-2019(matchlogs(all_comps(gca(Hertha-BSC-Match-Logs-All-Competitions\n",
      "✅ https_((fbref.com(en(squads(2818f8bc(2018-2019(matchlogs(all_comps(defense(Hertha-BSC-Match-Logs-All-Competitions\n",
      "✅ https_((fbref.com(en(squads(2818f8bc(2018-2019(matchlogs(all_comps(possession(Hertha-BSC-Match-Logs-All-Competitions\n",
      "✅ https_((fbref.com(en(squads(2818f8bc(2018-2019(matchlogs(all_comps(misc(Hertha-BSC-Match-Logs-All-Competitions\n",
      "✅ https_((fbref.com(en(squads(a224b06a(2018-2019(Mainz-05-Stats\n",
      "✅ https_((fbref.com(en(squads(a224b06a(2018-2019(matchlogs(all_comps(shooting(Mainz-05-Match-Logs-All-Competitions\n",
      "✅ https_((fbref.com(en(squads(a224b06a(2018-2019(matchlogs(all_comps(keeper(Mainz-05-Match-Logs-All-Competitions\n",
      "✅ https_((fbref.com(en(squads(a224b06a(2018-2019(matchlogs(all_comps(passing(Mainz-05-Match-Logs-All-Competitions\n",
      "✅ https_((fbref.com(en(squads(a224b06a(2018-2019(matchlogs(all_comps(passing_types(Mainz-05-Match-Logs-All-Competitions\n",
      "✅ https_((fbref.com(en(squads(a224b06a(2018-2019(matchlogs(all_comps(gca(Mainz-05-Match-Logs-All-Competitions\n",
      "✅ https_((fbref.com(en(squads(a224b06a(2018-2019(matchlogs(all_comps(defense(Mainz-05-Match-Logs-All-Competitions\n",
      "✅ https_((fbref.com(en(squads(a224b06a(2018-2019(matchlogs(all_comps(possession(Mainz-05-Match-Logs-All-Competitions\n",
      "✅ https_((fbref.com(en(squads(a224b06a(2018-2019(matchlogs(all_comps(misc(Mainz-05-Match-Logs-All-Competitions\n",
      "✅ https_((fbref.com(en(squads(a486e511(2018-2019(Freiburg-Stats\n",
      "✅ https_((fbref.com(en(squads(a486e511(2018-2019(matchlogs(all_comps(shooting(Freiburg-Match-Logs-All-Competitions\n",
      "✅ https_((fbref.com(en(squads(a486e511(2018-2019(matchlogs(all_comps(keeper(Freiburg-Match-Logs-All-Competitions\n",
      "✅ https_((fbref.com(en(squads(a486e511(2018-2019(matchlogs(all_comps(passing(Freiburg-Match-Logs-All-Competitions\n",
      "✅ https_((fbref.com(en(squads(a486e511(2018-2019(matchlogs(all_comps(passing_types(Freiburg-Match-Logs-All-Competitions\n",
      "✅ https_((fbref.com(en(squads(a486e511(2018-2019(matchlogs(all_comps(gca(Freiburg-Match-Logs-All-Competitions\n",
      "✅ https_((fbref.com(en(squads(a486e511(2018-2019(matchlogs(all_comps(defense(Freiburg-Match-Logs-All-Competitions\n",
      "✅ https_((fbref.com(en(squads(a486e511(2018-2019(matchlogs(all_comps(possession(Freiburg-Match-Logs-All-Competitions\n",
      "✅ https_((fbref.com(en(squads(a486e511(2018-2019(matchlogs(all_comps(misc(Freiburg-Match-Logs-All-Competitions\n",
      "✅ https_((fbref.com(en(squads(c539e393(2018-2019(Schalke-04-Stats\n",
      "✅ https_((fbref.com(en(squads(c539e393(2018-2019(matchlogs(all_comps(shooting(Schalke-04-Match-Logs-All-Competitions\n",
      "✅ https_((fbref.com(en(squads(c539e393(2018-2019(matchlogs(all_comps(keeper(Schalke-04-Match-Logs-All-Competitions\n",
      "✅ https_((fbref.com(en(squads(c539e393(2018-2019(matchlogs(all_comps(passing(Schalke-04-Match-Logs-All-Competitions\n",
      "✅ https_((fbref.com(en(squads(c539e393(2018-2019(matchlogs(all_comps(passing_types(Schalke-04-Match-Logs-All-Competitions\n",
      "✅ https_((fbref.com(en(squads(c539e393(2018-2019(matchlogs(all_comps(gca(Schalke-04-Match-Logs-All-Competitions\n",
      "✅ https_((fbref.com(en(squads(c539e393(2018-2019(matchlogs(all_comps(defense(Schalke-04-Match-Logs-All-Competitions\n",
      "✅ https_((fbref.com(en(squads(c539e393(2018-2019(matchlogs(all_comps(possession(Schalke-04-Match-Logs-All-Competitions\n",
      "✅ https_((fbref.com(en(squads(c539e393(2018-2019(matchlogs(all_comps(misc(Schalke-04-Match-Logs-All-Competitions\n",
      "✅ https_((fbref.com(en(squads(0cdc4311(2018-2019(Augsburg-Stats\n",
      "✅ https_((fbref.com(en(squads(0cdc4311(2018-2019(matchlogs(all_comps(shooting(Augsburg-Match-Logs-All-Competitions\n",
      "✅ https_((fbref.com(en(squads(0cdc4311(2018-2019(matchlogs(all_comps(keeper(Augsburg-Match-Logs-All-Competitions\n",
      "✅ https_((fbref.com(en(squads(0cdc4311(2018-2019(matchlogs(all_comps(passing(Augsburg-Match-Logs-All-Competitions\n",
      "✅ https_((fbref.com(en(squads(0cdc4311(2018-2019(matchlogs(all_comps(passing_types(Augsburg-Match-Logs-All-Competitions\n",
      "✅ https_((fbref.com(en(squads(0cdc4311(2018-2019(matchlogs(all_comps(gca(Augsburg-Match-Logs-All-Competitions\n",
      "✅ https_((fbref.com(en(squads(0cdc4311(2018-2019(matchlogs(all_comps(defense(Augsburg-Match-Logs-All-Competitions\n",
      "✅ https_((fbref.com(en(squads(0cdc4311(2018-2019(matchlogs(all_comps(possession(Augsburg-Match-Logs-All-Competitions\n",
      "✅ https_((fbref.com(en(squads(0cdc4311(2018-2019(matchlogs(all_comps(misc(Augsburg-Match-Logs-All-Competitions\n",
      "✅ https_((fbref.com(en(squads(598bc722(2018-2019(Stuttgart-Stats\n",
      "✅ https_((fbref.com(en(squads(598bc722(2018-2019(matchlogs(all_comps(shooting(Stuttgart-Match-Logs-All-Competitions\n",
      "✅ https_((fbref.com(en(squads(598bc722(2018-2019(matchlogs(all_comps(keeper(Stuttgart-Match-Logs-All-Competitions\n",
      "✅ https_((fbref.com(en(squads(598bc722(2018-2019(matchlogs(all_comps(passing(Stuttgart-Match-Logs-All-Competitions\n",
      "✅ https_((fbref.com(en(squads(598bc722(2018-2019(matchlogs(all_comps(passing_types(Stuttgart-Match-Logs-All-Competitions\n",
      "✅ https_((fbref.com(en(squads(598bc722(2018-2019(matchlogs(all_comps(gca(Stuttgart-Match-Logs-All-Competitions\n",
      "✅ https_((fbref.com(en(squads(598bc722(2018-2019(matchlogs(all_comps(defense(Stuttgart-Match-Logs-All-Competitions\n",
      "✅ https_((fbref.com(en(squads(598bc722(2018-2019(matchlogs(all_comps(possession(Stuttgart-Match-Logs-All-Competitions\n",
      "✅ https_((fbref.com(en(squads(598bc722(2018-2019(matchlogs(all_comps(misc(Stuttgart-Match-Logs-All-Competitions\n",
      "✅ https_((fbref.com(en(squads(60b5e41f(2018-2019(Hannover-96-Stats\n",
      "✅ https_((fbref.com(en(squads(60b5e41f(2018-2019(matchlogs(all_comps(shooting(Hannover-96-Match-Logs-All-Competitions\n",
      "✅ https_((fbref.com(en(squads(60b5e41f(2018-2019(matchlogs(all_comps(keeper(Hannover-96-Match-Logs-All-Competitions\n",
      "✅ https_((fbref.com(en(squads(60b5e41f(2018-2019(matchlogs(all_comps(passing(Hannover-96-Match-Logs-All-Competitions\n",
      "✅ https_((fbref.com(en(squads(60b5e41f(2018-2019(matchlogs(all_comps(passing_types(Hannover-96-Match-Logs-All-Competitions\n",
      "✅ https_((fbref.com(en(squads(60b5e41f(2018-2019(matchlogs(all_comps(gca(Hannover-96-Match-Logs-All-Competitions\n",
      "✅ https_((fbref.com(en(squads(60b5e41f(2018-2019(matchlogs(all_comps(defense(Hannover-96-Match-Logs-All-Competitions\n",
      "✅ https_((fbref.com(en(squads(60b5e41f(2018-2019(matchlogs(all_comps(possession(Hannover-96-Match-Logs-All-Competitions\n",
      "✅ https_((fbref.com(en(squads(60b5e41f(2018-2019(matchlogs(all_comps(misc(Hannover-96-Match-Logs-All-Competitions\n",
      "✅ https_((fbref.com(en(squads(6f2c108c(2018-2019(Nurnberg-Stats\n",
      "✅ https_((fbref.com(en(squads(6f2c108c(2018-2019(matchlogs(all_comps(shooting(Nurnberg-Match-Logs-All-Competitions\n",
      "✅ https_((fbref.com(en(squads(6f2c108c(2018-2019(matchlogs(all_comps(keeper(Nurnberg-Match-Logs-All-Competitions\n",
      "✅ https_((fbref.com(en(squads(6f2c108c(2018-2019(matchlogs(all_comps(passing(Nurnberg-Match-Logs-All-Competitions\n",
      "✅ https_((fbref.com(en(squads(6f2c108c(2018-2019(matchlogs(all_comps(passing_types(Nurnberg-Match-Logs-All-Competitions\n",
      "✅ https_((fbref.com(en(squads(6f2c108c(2018-2019(matchlogs(all_comps(gca(Nurnberg-Match-Logs-All-Competitions\n",
      "✅ https_((fbref.com(en(squads(6f2c108c(2018-2019(matchlogs(all_comps(defense(Nurnberg-Match-Logs-All-Competitions\n",
      "✅ https_((fbref.com(en(squads(6f2c108c(2018-2019(matchlogs(all_comps(possession(Nurnberg-Match-Logs-All-Competitions\n",
      "✅ https_((fbref.com(en(squads(6f2c108c(2018-2019(matchlogs(all_comps(misc(Nurnberg-Match-Logs-All-Competitions\n",
      "✅ https_((fbref.com(en(comps(20(2017-2018(2017-2018-Bundesliga-Stats\n",
      "✅ https_((fbref.com(en(squads(054efa67(2017-2018(Bayern-Munich-Stats\n",
      "✅ https_((fbref.com(en(squads(054efa67(2017-2018(matchlogs(all_comps(shooting(Bayern-Munich-Match-Logs-All-Competitions\n",
      "✅ https_((fbref.com(en(squads(054efa67(2017-2018(matchlogs(all_comps(keeper(Bayern-Munich-Match-Logs-All-Competitions\n",
      "✅ https_((fbref.com(en(squads(054efa67(2017-2018(matchlogs(all_comps(passing(Bayern-Munich-Match-Logs-All-Competitions\n",
      "✅ https_((fbref.com(en(squads(054efa67(2017-2018(matchlogs(all_comps(passing_types(Bayern-Munich-Match-Logs-All-Competitions\n",
      "✅ https_((fbref.com(en(squads(054efa67(2017-2018(matchlogs(all_comps(gca(Bayern-Munich-Match-Logs-All-Competitions\n",
      "✅ https_((fbref.com(en(squads(054efa67(2017-2018(matchlogs(all_comps(defense(Bayern-Munich-Match-Logs-All-Competitions\n",
      "✅ https_((fbref.com(en(squads(054efa67(2017-2018(matchlogs(all_comps(possession(Bayern-Munich-Match-Logs-All-Competitions\n",
      "✅ https_((fbref.com(en(squads(054efa67(2017-2018(matchlogs(all_comps(misc(Bayern-Munich-Match-Logs-All-Competitions\n",
      "✅ https_((fbref.com(en(squads(c539e393(2017-2018(Schalke-04-Stats\n",
      "✅ https_((fbref.com(en(squads(c539e393(2017-2018(matchlogs(all_comps(shooting(Schalke-04-Match-Logs-All-Competitions\n",
      "✅ https_((fbref.com(en(squads(c539e393(2017-2018(matchlogs(all_comps(keeper(Schalke-04-Match-Logs-All-Competitions\n",
      "✅ https_((fbref.com(en(squads(c539e393(2017-2018(matchlogs(all_comps(passing(Schalke-04-Match-Logs-All-Competitions\n",
      "✅ https_((fbref.com(en(squads(c539e393(2017-2018(matchlogs(all_comps(passing_types(Schalke-04-Match-Logs-All-Competitions\n",
      "✅ https_((fbref.com(en(squads(c539e393(2017-2018(matchlogs(all_comps(gca(Schalke-04-Match-Logs-All-Competitions\n",
      "✅ https_((fbref.com(en(squads(c539e393(2017-2018(matchlogs(all_comps(defense(Schalke-04-Match-Logs-All-Competitions\n",
      "✅ https_((fbref.com(en(squads(c539e393(2017-2018(matchlogs(all_comps(possession(Schalke-04-Match-Logs-All-Competitions\n",
      "✅ https_((fbref.com(en(squads(c539e393(2017-2018(matchlogs(all_comps(misc(Schalke-04-Match-Logs-All-Competitions\n",
      "✅ https_((fbref.com(en(squads(033ea6b8(2017-2018(Hoffenheim-Stats\n",
      "✅ https_((fbref.com(en(squads(033ea6b8(2017-2018(matchlogs(all_comps(shooting(Hoffenheim-Match-Logs-All-Competitions\n",
      "✅ https_((fbref.com(en(squads(033ea6b8(2017-2018(matchlogs(all_comps(keeper(Hoffenheim-Match-Logs-All-Competitions\n",
      "✅ https_((fbref.com(en(squads(033ea6b8(2017-2018(matchlogs(all_comps(passing(Hoffenheim-Match-Logs-All-Competitions\n",
      "✅ https_((fbref.com(en(squads(033ea6b8(2017-2018(matchlogs(all_comps(passing_types(Hoffenheim-Match-Logs-All-Competitions\n",
      "✅ https_((fbref.com(en(squads(033ea6b8(2017-2018(matchlogs(all_comps(gca(Hoffenheim-Match-Logs-All-Competitions\n",
      "✅ https_((fbref.com(en(squads(033ea6b8(2017-2018(matchlogs(all_comps(defense(Hoffenheim-Match-Logs-All-Competitions\n",
      "✅ https_((fbref.com(en(squads(033ea6b8(2017-2018(matchlogs(all_comps(possession(Hoffenheim-Match-Logs-All-Competitions\n",
      "✅ https_((fbref.com(en(squads(033ea6b8(2017-2018(matchlogs(all_comps(misc(Hoffenheim-Match-Logs-All-Competitions\n",
      "✅ https_((fbref.com(en(squads(add600ae(2017-2018(Dortmund-Stats\n",
      "✅ https_((fbref.com(en(squads(add600ae(2017-2018(matchlogs(all_comps(shooting(Dortmund-Match-Logs-All-Competitions\n",
      "✅ https_((fbref.com(en(squads(add600ae(2017-2018(matchlogs(all_comps(keeper(Dortmund-Match-Logs-All-Competitions\n",
      "✅ https_((fbref.com(en(squads(add600ae(2017-2018(matchlogs(all_comps(passing(Dortmund-Match-Logs-All-Competitions\n",
      "✅ https_((fbref.com(en(squads(add600ae(2017-2018(matchlogs(all_comps(passing_types(Dortmund-Match-Logs-All-Competitions\n",
      "✅ https_((fbref.com(en(squads(add600ae(2017-2018(matchlogs(all_comps(gca(Dortmund-Match-Logs-All-Competitions\n",
      "✅ https_((fbref.com(en(squads(add600ae(2017-2018(matchlogs(all_comps(defense(Dortmund-Match-Logs-All-Competitions\n",
      "✅ https_((fbref.com(en(squads(add600ae(2017-2018(matchlogs(all_comps(possession(Dortmund-Match-Logs-All-Competitions\n",
      "✅ https_((fbref.com(en(squads(add600ae(2017-2018(matchlogs(all_comps(misc(Dortmund-Match-Logs-All-Competitions\n",
      "✅ https_((fbref.com(en(squads(c7a9f859(2017-2018(Bayer-Leverkusen-Stats\n",
      "✅ https_((fbref.com(en(squads(c7a9f859(2017-2018(matchlogs(all_comps(shooting(Bayer-Leverkusen-Match-Logs-All-Competitions\n",
      "✅ https_((fbref.com(en(squads(c7a9f859(2017-2018(matchlogs(all_comps(keeper(Bayer-Leverkusen-Match-Logs-All-Competitions\n",
      "✅ https_((fbref.com(en(squads(c7a9f859(2017-2018(matchlogs(all_comps(passing(Bayer-Leverkusen-Match-Logs-All-Competitions\n",
      "✅ https_((fbref.com(en(squads(c7a9f859(2017-2018(matchlogs(all_comps(passing_types(Bayer-Leverkusen-Match-Logs-All-Competitions\n",
      "✅ https_((fbref.com(en(squads(c7a9f859(2017-2018(matchlogs(all_comps(gca(Bayer-Leverkusen-Match-Logs-All-Competitions\n",
      "✅ https_((fbref.com(en(squads(c7a9f859(2017-2018(matchlogs(all_comps(defense(Bayer-Leverkusen-Match-Logs-All-Competitions\n",
      "✅ https_((fbref.com(en(squads(c7a9f859(2017-2018(matchlogs(all_comps(possession(Bayer-Leverkusen-Match-Logs-All-Competitions\n",
      "✅ https_((fbref.com(en(squads(c7a9f859(2017-2018(matchlogs(all_comps(misc(Bayer-Leverkusen-Match-Logs-All-Competitions\n",
      "✅ https_((fbref.com(en(squads(acbb6a5b(2017-2018(RB-Leipzig-Stats\n",
      "✅ https_((fbref.com(en(squads(acbb6a5b(2017-2018(matchlogs(all_comps(shooting(RB-Leipzig-Match-Logs-All-Competitions\n",
      "✅ https_((fbref.com(en(squads(acbb6a5b(2017-2018(matchlogs(all_comps(keeper(RB-Leipzig-Match-Logs-All-Competitions\n",
      "✅ https_((fbref.com(en(squads(acbb6a5b(2017-2018(matchlogs(all_comps(passing(RB-Leipzig-Match-Logs-All-Competitions\n",
      "✅ https_((fbref.com(en(squads(acbb6a5b(2017-2018(matchlogs(all_comps(passing_types(RB-Leipzig-Match-Logs-All-Competitions\n",
      "✅ https_((fbref.com(en(squads(acbb6a5b(2017-2018(matchlogs(all_comps(gca(RB-Leipzig-Match-Logs-All-Competitions\n",
      "✅ https_((fbref.com(en(squads(acbb6a5b(2017-2018(matchlogs(all_comps(defense(RB-Leipzig-Match-Logs-All-Competitions\n",
      "✅ https_((fbref.com(en(squads(acbb6a5b(2017-2018(matchlogs(all_comps(possession(RB-Leipzig-Match-Logs-All-Competitions\n",
      "✅ https_((fbref.com(en(squads(acbb6a5b(2017-2018(matchlogs(all_comps(misc(RB-Leipzig-Match-Logs-All-Competitions\n",
      "✅ https_((fbref.com(en(squads(598bc722(2017-2018(Stuttgart-Stats\n",
      "✅ https_((fbref.com(en(squads(598bc722(2017-2018(matchlogs(all_comps(shooting(Stuttgart-Match-Logs-All-Competitions\n",
      "✅ https_((fbref.com(en(squads(598bc722(2017-2018(matchlogs(all_comps(keeper(Stuttgart-Match-Logs-All-Competitions\n",
      "✅ https_((fbref.com(en(squads(598bc722(2017-2018(matchlogs(all_comps(passing(Stuttgart-Match-Logs-All-Competitions\n",
      "✅ https_((fbref.com(en(squads(598bc722(2017-2018(matchlogs(all_comps(passing_types(Stuttgart-Match-Logs-All-Competitions\n",
      "✅ https_((fbref.com(en(squads(598bc722(2017-2018(matchlogs(all_comps(gca(Stuttgart-Match-Logs-All-Competitions\n",
      "✅ https_((fbref.com(en(squads(598bc722(2017-2018(matchlogs(all_comps(defense(Stuttgart-Match-Logs-All-Competitions\n",
      "✅ https_((fbref.com(en(squads(598bc722(2017-2018(matchlogs(all_comps(possession(Stuttgart-Match-Logs-All-Competitions\n",
      "✅ https_((fbref.com(en(squads(598bc722(2017-2018(matchlogs(all_comps(misc(Stuttgart-Match-Logs-All-Competitions\n",
      "✅ https_((fbref.com(en(squads(f0ac8ee6(2017-2018(Eintracht-Frankfurt-Stats\n",
      "✅ https_((fbref.com(en(squads(f0ac8ee6(2017-2018(matchlogs(all_comps(shooting(Eintracht-Frankfurt-Match-Logs-All-Competitions\n",
      "✅ https_((fbref.com(en(squads(f0ac8ee6(2017-2018(matchlogs(all_comps(keeper(Eintracht-Frankfurt-Match-Logs-All-Competitions\n",
      "✅ https_((fbref.com(en(squads(f0ac8ee6(2017-2018(matchlogs(all_comps(passing(Eintracht-Frankfurt-Match-Logs-All-Competitions\n",
      "✅ https_((fbref.com(en(squads(f0ac8ee6(2017-2018(matchlogs(all_comps(passing_types(Eintracht-Frankfurt-Match-Logs-All-Competitions\n",
      "✅ https_((fbref.com(en(squads(f0ac8ee6(2017-2018(matchlogs(all_comps(gca(Eintracht-Frankfurt-Match-Logs-All-Competitions\n",
      "✅ https_((fbref.com(en(squads(f0ac8ee6(2017-2018(matchlogs(all_comps(defense(Eintracht-Frankfurt-Match-Logs-All-Competitions\n",
      "✅ https_((fbref.com(en(squads(f0ac8ee6(2017-2018(matchlogs(all_comps(possession(Eintracht-Frankfurt-Match-Logs-All-Competitions\n",
      "✅ https_((fbref.com(en(squads(f0ac8ee6(2017-2018(matchlogs(all_comps(misc(Eintracht-Frankfurt-Match-Logs-All-Competitions\n",
      "✅ https_((fbref.com(en(squads(32f3ee20(2017-2018(Monchengladbach-Stats\n",
      "✅ https_((fbref.com(en(squads(32f3ee20(2017-2018(matchlogs(all_comps(shooting(Monchengladbach-Match-Logs-All-Competitions\n",
      "✅ https_((fbref.com(en(squads(32f3ee20(2017-2018(matchlogs(all_comps(keeper(Monchengladbach-Match-Logs-All-Competitions\n",
      "✅ https_((fbref.com(en(squads(32f3ee20(2017-2018(matchlogs(all_comps(passing(Monchengladbach-Match-Logs-All-Competitions\n",
      "✅ https_((fbref.com(en(squads(32f3ee20(2017-2018(matchlogs(all_comps(passing_types(Monchengladbach-Match-Logs-All-Competitions\n",
      "✅ https_((fbref.com(en(squads(32f3ee20(2017-2018(matchlogs(all_comps(gca(Monchengladbach-Match-Logs-All-Competitions\n",
      "✅ https_((fbref.com(en(squads(32f3ee20(2017-2018(matchlogs(all_comps(defense(Monchengladbach-Match-Logs-All-Competitions\n",
      "✅ https_((fbref.com(en(squads(32f3ee20(2017-2018(matchlogs(all_comps(possession(Monchengladbach-Match-Logs-All-Competitions\n",
      "✅ https_((fbref.com(en(squads(32f3ee20(2017-2018(matchlogs(all_comps(misc(Monchengladbach-Match-Logs-All-Competitions\n",
      "✅ https_((fbref.com(en(squads(2818f8bc(2017-2018(Hertha-BSC-Stats\n",
      "✅ https_((fbref.com(en(squads(2818f8bc(2017-2018(matchlogs(all_comps(shooting(Hertha-BSC-Match-Logs-All-Competitions\n",
      "✅ https_((fbref.com(en(squads(2818f8bc(2017-2018(matchlogs(all_comps(keeper(Hertha-BSC-Match-Logs-All-Competitions\n",
      "✅ https_((fbref.com(en(squads(2818f8bc(2017-2018(matchlogs(all_comps(passing(Hertha-BSC-Match-Logs-All-Competitions\n",
      "✅ https_((fbref.com(en(squads(2818f8bc(2017-2018(matchlogs(all_comps(passing_types(Hertha-BSC-Match-Logs-All-Competitions\n",
      "✅ https_((fbref.com(en(squads(2818f8bc(2017-2018(matchlogs(all_comps(gca(Hertha-BSC-Match-Logs-All-Competitions\n",
      "✅ https_((fbref.com(en(squads(2818f8bc(2017-2018(matchlogs(all_comps(defense(Hertha-BSC-Match-Logs-All-Competitions\n",
      "✅ https_((fbref.com(en(squads(2818f8bc(2017-2018(matchlogs(all_comps(possession(Hertha-BSC-Match-Logs-All-Competitions\n",
      "✅ https_((fbref.com(en(squads(2818f8bc(2017-2018(matchlogs(all_comps(misc(Hertha-BSC-Match-Logs-All-Competitions\n",
      "✅ https_((fbref.com(en(squads(62add3bf(2017-2018(Werder-Bremen-Stats\n",
      "✅ https_((fbref.com(en(squads(62add3bf(2017-2018(matchlogs(all_comps(shooting(Werder-Bremen-Match-Logs-All-Competitions\n",
      "✅ https_((fbref.com(en(squads(62add3bf(2017-2018(matchlogs(all_comps(keeper(Werder-Bremen-Match-Logs-All-Competitions\n",
      "✅ https_((fbref.com(en(squads(62add3bf(2017-2018(matchlogs(all_comps(passing(Werder-Bremen-Match-Logs-All-Competitions\n",
      "✅ https_((fbref.com(en(squads(62add3bf(2017-2018(matchlogs(all_comps(passing_types(Werder-Bremen-Match-Logs-All-Competitions\n",
      "✅ https_((fbref.com(en(squads(62add3bf(2017-2018(matchlogs(all_comps(gca(Werder-Bremen-Match-Logs-All-Competitions\n",
      "✅ https_((fbref.com(en(squads(62add3bf(2017-2018(matchlogs(all_comps(defense(Werder-Bremen-Match-Logs-All-Competitions\n",
      "✅ https_((fbref.com(en(squads(62add3bf(2017-2018(matchlogs(all_comps(possession(Werder-Bremen-Match-Logs-All-Competitions\n",
      "✅ https_((fbref.com(en(squads(62add3bf(2017-2018(matchlogs(all_comps(misc(Werder-Bremen-Match-Logs-All-Competitions\n",
      "✅ https_((fbref.com(en(squads(0cdc4311(2017-2018(Augsburg-Stats\n",
      "✅ https_((fbref.com(en(squads(0cdc4311(2017-2018(matchlogs(all_comps(shooting(Augsburg-Match-Logs-All-Competitions\n",
      "✅ https_((fbref.com(en(squads(0cdc4311(2017-2018(matchlogs(all_comps(keeper(Augsburg-Match-Logs-All-Competitions\n",
      "✅ https_((fbref.com(en(squads(0cdc4311(2017-2018(matchlogs(all_comps(passing(Augsburg-Match-Logs-All-Competitions\n",
      "✅ https_((fbref.com(en(squads(0cdc4311(2017-2018(matchlogs(all_comps(passing_types(Augsburg-Match-Logs-All-Competitions\n",
      "✅ https_((fbref.com(en(squads(0cdc4311(2017-2018(matchlogs(all_comps(gca(Augsburg-Match-Logs-All-Competitions\n",
      "✅ https_((fbref.com(en(squads(0cdc4311(2017-2018(matchlogs(all_comps(defense(Augsburg-Match-Logs-All-Competitions\n",
      "✅ https_((fbref.com(en(squads(0cdc4311(2017-2018(matchlogs(all_comps(possession(Augsburg-Match-Logs-All-Competitions\n",
      "✅ https_((fbref.com(en(squads(0cdc4311(2017-2018(matchlogs(all_comps(misc(Augsburg-Match-Logs-All-Competitions\n",
      "✅ https_((fbref.com(en(squads(60b5e41f(2017-2018(Hannover-96-Stats\n",
      "✅ https_((fbref.com(en(squads(60b5e41f(2017-2018(matchlogs(all_comps(shooting(Hannover-96-Match-Logs-All-Competitions\n",
      "✅ https_((fbref.com(en(squads(60b5e41f(2017-2018(matchlogs(all_comps(keeper(Hannover-96-Match-Logs-All-Competitions\n",
      "✅ https_((fbref.com(en(squads(60b5e41f(2017-2018(matchlogs(all_comps(passing(Hannover-96-Match-Logs-All-Competitions\n",
      "✅ https_((fbref.com(en(squads(60b5e41f(2017-2018(matchlogs(all_comps(passing_types(Hannover-96-Match-Logs-All-Competitions\n",
      "✅ https_((fbref.com(en(squads(60b5e41f(2017-2018(matchlogs(all_comps(gca(Hannover-96-Match-Logs-All-Competitions\n",
      "✅ https_((fbref.com(en(squads(60b5e41f(2017-2018(matchlogs(all_comps(defense(Hannover-96-Match-Logs-All-Competitions\n",
      "✅ https_((fbref.com(en(squads(60b5e41f(2017-2018(matchlogs(all_comps(possession(Hannover-96-Match-Logs-All-Competitions\n",
      "✅ https_((fbref.com(en(squads(60b5e41f(2017-2018(matchlogs(all_comps(misc(Hannover-96-Match-Logs-All-Competitions\n",
      "✅ https_((fbref.com(en(squads(a224b06a(2017-2018(Mainz-05-Stats\n",
      "✅ https_((fbref.com(en(squads(a224b06a(2017-2018(matchlogs(all_comps(shooting(Mainz-05-Match-Logs-All-Competitions\n",
      "✅ https_((fbref.com(en(squads(a224b06a(2017-2018(matchlogs(all_comps(keeper(Mainz-05-Match-Logs-All-Competitions\n",
      "✅ https_((fbref.com(en(squads(a224b06a(2017-2018(matchlogs(all_comps(passing(Mainz-05-Match-Logs-All-Competitions\n",
      "✅ https_((fbref.com(en(squads(a224b06a(2017-2018(matchlogs(all_comps(passing_types(Mainz-05-Match-Logs-All-Competitions\n",
      "✅ https_((fbref.com(en(squads(a224b06a(2017-2018(matchlogs(all_comps(gca(Mainz-05-Match-Logs-All-Competitions\n",
      "✅ https_((fbref.com(en(squads(a224b06a(2017-2018(matchlogs(all_comps(defense(Mainz-05-Match-Logs-All-Competitions\n",
      "✅ https_((fbref.com(en(squads(a224b06a(2017-2018(matchlogs(all_comps(possession(Mainz-05-Match-Logs-All-Competitions\n",
      "✅ https_((fbref.com(en(squads(a224b06a(2017-2018(matchlogs(all_comps(misc(Mainz-05-Match-Logs-All-Competitions\n",
      "✅ https_((fbref.com(en(squads(a486e511(2017-2018(Freiburg-Stats\n",
      "✅ https_((fbref.com(en(squads(a486e511(2017-2018(matchlogs(all_comps(shooting(Freiburg-Match-Logs-All-Competitions\n",
      "✅ https_((fbref.com(en(squads(a486e511(2017-2018(matchlogs(all_comps(keeper(Freiburg-Match-Logs-All-Competitions\n",
      "✅ https_((fbref.com(en(squads(a486e511(2017-2018(matchlogs(all_comps(passing(Freiburg-Match-Logs-All-Competitions\n",
      "✅ https_((fbref.com(en(squads(a486e511(2017-2018(matchlogs(all_comps(passing_types(Freiburg-Match-Logs-All-Competitions\n",
      "✅ https_((fbref.com(en(squads(a486e511(2017-2018(matchlogs(all_comps(gca(Freiburg-Match-Logs-All-Competitions\n",
      "✅ https_((fbref.com(en(squads(a486e511(2017-2018(matchlogs(all_comps(defense(Freiburg-Match-Logs-All-Competitions\n",
      "✅ https_((fbref.com(en(squads(a486e511(2017-2018(matchlogs(all_comps(possession(Freiburg-Match-Logs-All-Competitions\n",
      "✅ https_((fbref.com(en(squads(a486e511(2017-2018(matchlogs(all_comps(misc(Freiburg-Match-Logs-All-Competitions\n",
      "✅ https_((fbref.com(en(squads(4eaa11d7(2017-2018(Wolfsburg-Stats\n",
      "✅ https_((fbref.com(en(squads(4eaa11d7(2017-2018(matchlogs(all_comps(shooting(Wolfsburg-Match-Logs-All-Competitions\n",
      "✅ https_((fbref.com(en(squads(4eaa11d7(2017-2018(matchlogs(all_comps(keeper(Wolfsburg-Match-Logs-All-Competitions\n",
      "✅ https_((fbref.com(en(squads(4eaa11d7(2017-2018(matchlogs(all_comps(passing(Wolfsburg-Match-Logs-All-Competitions\n",
      "✅ https_((fbref.com(en(squads(4eaa11d7(2017-2018(matchlogs(all_comps(passing_types(Wolfsburg-Match-Logs-All-Competitions\n",
      "✅ https_((fbref.com(en(squads(4eaa11d7(2017-2018(matchlogs(all_comps(gca(Wolfsburg-Match-Logs-All-Competitions\n",
      "✅ https_((fbref.com(en(squads(4eaa11d7(2017-2018(matchlogs(all_comps(defense(Wolfsburg-Match-Logs-All-Competitions\n",
      "✅ https_((fbref.com(en(squads(4eaa11d7(2017-2018(matchlogs(all_comps(possession(Wolfsburg-Match-Logs-All-Competitions\n",
      "✅ https_((fbref.com(en(squads(4eaa11d7(2017-2018(matchlogs(all_comps(misc(Wolfsburg-Match-Logs-All-Competitions\n",
      "✅ https_((fbref.com(en(squads(26790c6a(2017-2018(Hamburger-SV-Stats\n",
      "✅ https_((fbref.com(en(squads(26790c6a(2017-2018(matchlogs(all_comps(shooting(Hamburger-SV-Match-Logs-All-Competitions\n",
      "✅ https_((fbref.com(en(squads(26790c6a(2017-2018(matchlogs(all_comps(keeper(Hamburger-SV-Match-Logs-All-Competitions\n",
      "✅ https_((fbref.com(en(squads(26790c6a(2017-2018(matchlogs(all_comps(passing(Hamburger-SV-Match-Logs-All-Competitions\n",
      "✅ https_((fbref.com(en(squads(26790c6a(2017-2018(matchlogs(all_comps(passing_types(Hamburger-SV-Match-Logs-All-Competitions\n",
      "✅ https_((fbref.com(en(squads(26790c6a(2017-2018(matchlogs(all_comps(gca(Hamburger-SV-Match-Logs-All-Competitions\n",
      "✅ https_((fbref.com(en(squads(26790c6a(2017-2018(matchlogs(all_comps(defense(Hamburger-SV-Match-Logs-All-Competitions\n",
      "✅ https_((fbref.com(en(squads(26790c6a(2017-2018(matchlogs(all_comps(possession(Hamburger-SV-Match-Logs-All-Competitions\n",
      "✅ https_((fbref.com(en(squads(26790c6a(2017-2018(matchlogs(all_comps(misc(Hamburger-SV-Match-Logs-All-Competitions\n",
      "✅ https_((fbref.com(en(squads(bc357bf7(2017-2018(Koln-Stats\n",
      "✅ https_((fbref.com(en(squads(bc357bf7(2017-2018(matchlogs(all_comps(shooting(Koln-Match-Logs-All-Competitions\n",
      "✅ https_((fbref.com(en(squads(bc357bf7(2017-2018(matchlogs(all_comps(keeper(Koln-Match-Logs-All-Competitions\n",
      "✅ https_((fbref.com(en(squads(bc357bf7(2017-2018(matchlogs(all_comps(passing(Koln-Match-Logs-All-Competitions\n",
      "✅ https_((fbref.com(en(squads(bc357bf7(2017-2018(matchlogs(all_comps(passing_types(Koln-Match-Logs-All-Competitions\n",
      "✅ https_((fbref.com(en(squads(bc357bf7(2017-2018(matchlogs(all_comps(gca(Koln-Match-Logs-All-Competitions\n",
      "✅ https_((fbref.com(en(squads(bc357bf7(2017-2018(matchlogs(all_comps(defense(Koln-Match-Logs-All-Competitions\n",
      "✅ https_((fbref.com(en(squads(bc357bf7(2017-2018(matchlogs(all_comps(possession(Koln-Match-Logs-All-Competitions\n",
      "✅ https_((fbref.com(en(squads(bc357bf7(2017-2018(matchlogs(all_comps(misc(Koln-Match-Logs-All-Competitions\n"
     ]
    }
   ],
   "source": [
    "seasons_to_scrape = 7\n",
    "time_to_sleep = 7\n",
    "current_stats_href = stats_href\n",
    "\n",
    "def save_page(href) -> Response|None:\n",
    "    try:\n",
    "        url = f'{base_url}{href}'\n",
    "        html = requests.get(url, headers={'User-agent': 'bot123'})\n",
    "        url = url.replace('/', '(').replace(':', '_')\n",
    "        with open(f'./data/webpages/{url}', 'w') as f:\n",
    "            f.write(html.text)\n",
    "        sleep(time_to_sleep)\n",
    "        return html\n",
    "    except Exception as e:\n",
    "        print(e)\n",
    "        print(f'Failed to save {href}')\n",
    "        return None\n",
    "\n",
    "def get_category_href(soup, category):\n",
    "    try:\n",
    "        return soup.select(f'div.filter div a[href*=\"all_comps/{category}\"]')[0]['href']\n",
    "    except Exception as e:\n",
    "        print(f'Failed to get href for {category}')\n",
    "        print(e)\n",
    "        return ''\n",
    "\n",
    "for season_no in range(seasons_to_scrape):\n",
    "    stats_html = save_page(current_stats_href)\n",
    "    stats_soup = BeautifulSoup(stats_html.text)\n",
    "\n",
    "    standings_table = stats_soup.select('table.stats_table')[0]\n",
    "    teams_anchors = standings_table.select('tr td:nth-of-type(1) a')\n",
    "    team_hrefs = [anchor[\"href\"] for anchor in teams_anchors]\n",
    "\n",
    "    for team_href in team_hrefs:\n",
    "        team_html = save_page(team_href)\n",
    "        team_soup = BeautifulSoup(team_html.text)\n",
    "\n",
    "        save_page(get_category_href(team_soup, 'shooting'))\n",
    "        save_page(get_category_href(team_soup, 'keeper'))\n",
    "        save_page(get_category_href(team_soup, 'passing'))\n",
    "        save_page(get_category_href(team_soup, 'passing_types'))\n",
    "        save_page(get_category_href(team_soup, 'gca'))\n",
    "        save_page(get_category_href(team_soup, 'defense'))\n",
    "        save_page(get_category_href(team_soup, 'possession'))\n",
    "        save_page(get_category_href(team_soup, 'misc'))\n",
    "        \n",
    "    href_to_previous_season = stats_soup.select('div.prevnext a:-soup-contains(\"Previous Season\")')[0]['href']\n",
    "    current_stats_href = href_to_previous_season\n",
    "    sleep(time_to_sleep)"
   ],
   "metadata": {
    "collapsed": false,
    "ExecuteTime": {
     "end_time": "2023-09-28T19:43:04.810225320Z",
     "start_time": "2023-09-28T16:59:24.230740941Z"
    }
   },
   "id": "135ca82d3d6ae317"
  },
  {
   "cell_type": "markdown",
   "source": [
    "## 2.Scraping data off the webpages"
   ],
   "metadata": {
    "collapsed": false
   },
   "id": "1a71fcc00830db4"
  },
  {
   "cell_type": "code",
   "execution_count": 1,
   "outputs": [],
   "source": [
    "from os import listdir\n",
    "import re\n",
    "import pandas as pd\n",
    "from tqdm.notebook import tqdm"
   ],
   "metadata": {
    "collapsed": false,
    "ExecuteTime": {
     "end_time": "2023-10-02T11:06:46.344115833Z",
     "start_time": "2023-10-02T11:06:46.130980139Z"
    }
   },
   "id": "7b3de5fe314ad75b"
  },
  {
   "cell_type": "markdown",
   "source": [
    "Get a list of all the webpages we saved and check how many there are."
   ],
   "metadata": {
    "collapsed": false
   },
   "id": "e3e4830eae360ff2"
  },
  {
   "cell_type": "code",
   "execution_count": 2,
   "outputs": [
    {
     "data": {
      "text/plain": "1142"
     },
     "execution_count": 2,
     "metadata": {},
     "output_type": "execute_result"
    }
   ],
   "source": [
    "webpages = listdir('data/webpages')\n",
    "len(webpages)"
   ],
   "metadata": {
    "collapsed": false,
    "ExecuteTime": {
     "end_time": "2023-10-02T11:06:53.810430474Z",
     "start_time": "2023-10-02T11:06:53.801410501Z"
    }
   },
   "id": "9455e36124c853c7"
  },
  {
   "cell_type": "markdown",
   "source": [
    "Extract team stats pages. A team stats page is a page that contains the stats for a team for a given season. For example, Eintracht Frankfurt's stats for the 2019/2020 season. This page contains a table with all matches played by the team in the season, and links to the stats pages for each match. The stats are divided into categories, such as shooting, passing, etc. Each category has its own table.\n",
    "\n",
    "We exclude the Bundesliga-Stats page because it contains the standings for the Bundesliga, which we don't need at the current stage."
   ],
   "metadata": {
    "collapsed": false
   },
   "id": "843f8db297cb7c29"
  },
  {
   "cell_type": "code",
   "execution_count": 3,
   "outputs": [
    {
     "data": {
      "text/plain": "['https_((fbref.com(en(squads(f0ac8ee6(2020-2021(Eintracht-Frankfurt-Stats',\n 'https_((fbref.com(en(squads(2818f8bc(2018-2019(Hertha-BSC-Stats',\n 'https_((fbref.com(en(squads(32f3ee20(2021-2022(Monchengladbach-Stats',\n 'https_((fbref.com(en(squads(62add3bf(2020-2021(Werder-Bremen-Stats',\n 'https_((fbref.com(en(squads(60b5e41f(2018-2019(Hannover-96-Stats']"
     },
     "execution_count": 3,
     "metadata": {},
     "output_type": "execute_result"
    }
   ],
   "source": [
    "team_stats_pattern = re.compile(r'^(?!.*Bundesliga-Stats$).*-Stats$')\n",
    "team_stats_pages = list(filter(team_stats_pattern.match, webpages))\n",
    "team_stats_pages[:5]"
   ],
   "metadata": {
    "collapsed": false,
    "ExecuteTime": {
     "end_time": "2023-10-02T11:06:56.054292777Z",
     "start_time": "2023-10-02T11:06:56.046214820Z"
    }
   },
   "id": "f68d0aa68f6c9780"
  },
  {
   "cell_type": "markdown",
   "source": [
    "Iterate over team stats pages and create a dataframe for each team for each season. The initial dataframe contains basic statistics but we merge it with all the other statistics tables to get a complete picture of the team's performance in the season."
   ],
   "metadata": {
    "collapsed": false
   },
   "id": "2479c5fb943478f8"
  },
  {
   "cell_type": "code",
   "execution_count": 4,
   "outputs": [
    {
     "data": {
      "text/plain": "  0%|          | 0/126 [00:00<?, ?it/s]",
      "application/vnd.jupyter.widget-view+json": {
       "version_major": 2,
       "version_minor": 0,
       "model_id": "eb28581d84b24325bd203ccf72651dcd"
      }
     },
     "metadata": {},
     "output_type": "display_data"
    }
   ],
   "source": [
    "all_matches = []\n",
    "\n",
    "def get_stats_dataframe(team_stats_page, stats, table_caption):\n",
    "    link_without_team = '('.join(team_stats_page.split('(')[:-1])\n",
    "    stats_page = [page for page in webpages if link_without_team in page and f'({stats}(' in page][0]\n",
    "    try:\n",
    "        stats_file = open(f'data/webpages/{stats_page}', 'r')\n",
    "        stats_file_contents = stats_file.read()\n",
    "        stats_df = pd.read_html(stats_file_contents, match=table_caption)[0]\n",
    "        stats_df = stats_df.rename(columns=lambda x: re.sub('^For .+','',x))\n",
    "        stats_df.columns = stats_df.columns.map(' '.join)\n",
    "        stats_df.rename(columns={stats_df.columns[0]: 'Date', stats_df.columns[1]: 'Time'}, inplace=True)\n",
    "        stats_df.columns = ['Date', 'Time'] + [f'{stats} {column}' for column in stats_df.columns if column != 'Date' and column != 'Time']\n",
    "        return stats_df\n",
    "    except Exception as e:\n",
    "        print(f'Failed to create stats dataframe for {stats_page}')\n",
    "        print(e)\n",
    "        \n",
    "\n",
    "with tqdm(total=len(team_stats_pages)) as prog_bar:\n",
    "    for team_stats_page in team_stats_pages:\n",
    "        team_name = team_stats_page \\\n",
    "                        .split('(')[-1] \\\n",
    "                        .replace('-Stats', '') \\\n",
    "                        .replace('-', ' ')\n",
    "        team_stats_file = open(f'data/webpages/{team_stats_page}', 'r')\n",
    "        team_stats_file_contents = team_stats_file.read()\n",
    "\n",
    "        team_scores_and_fixtures_df = pd.read_html(team_stats_file_contents, match='Scores & Fixtures')[0]\n",
    "        team_scores_and_fixtures_df['Team'] = team_name\n",
    "\n",
    "        statistics_types = ['shooting', 'keeper', 'passing', 'passing_types', 'gca', 'defense', 'possession', 'misc']\n",
    "        statistics_titles = ['Shooting', 'Goalkeeping', 'Passing', 'Pass Types', 'Goal and Shot Creation', 'Defensive Actions', 'Possession', 'Miscellaneous Stats']\n",
    "\n",
    "        for stat_type, stat_title in zip(statistics_types, statistics_titles):\n",
    "            stat_df = get_stats_dataframe(team_stats_page, stat_type, stat_title)\n",
    "            team_scores_and_fixtures_df = team_scores_and_fixtures_df.merge(stat_df, on=['Date', 'Time'])\n",
    "\n",
    "        all_matches.append(team_scores_and_fixtures_df)\n",
    "        prog_bar.update(1)"
   ],
   "metadata": {
    "collapsed": false,
    "ExecuteTime": {
     "end_time": "2023-10-02T11:08:08.885978621Z",
     "start_time": "2023-10-02T11:06:58.927530273Z"
    }
   },
   "id": "1fb040385bdcbbda"
  },
  {
   "cell_type": "markdown",
   "source": [
    "## 3. Merging the data into one dataframe"
   ],
   "metadata": {
    "collapsed": false
   },
   "id": "59bfe6405d89f994"
  },
  {
   "cell_type": "code",
   "execution_count": 32,
   "outputs": [],
   "source": [
    "all_matches_df = pd.concat(all_matches)"
   ],
   "metadata": {
    "collapsed": false,
    "ExecuteTime": {
     "end_time": "2023-10-02T11:37:15.156393591Z",
     "start_time": "2023-10-02T11:37:15.008749135Z"
    }
   },
   "id": "510afb0c1e1d832e"
  },
  {
   "cell_type": "markdown",
   "source": [
    "## 4. Processing the data further"
   ],
   "metadata": {
    "collapsed": false
   },
   "id": "c3725eefe9029e8a"
  },
  {
   "cell_type": "markdown",
   "source": [
    "See the shape of the dataframe - rows and columns."
   ],
   "metadata": {
    "collapsed": false
   },
   "id": "3535d791e6683f76"
  },
  {
   "cell_type": "code",
   "execution_count": 33,
   "outputs": [
    {
     "data": {
      "text/plain": "(4425, 239)"
     },
     "execution_count": 33,
     "metadata": {},
     "output_type": "execute_result"
    }
   ],
   "source": [
    "all_matches_df.shape"
   ],
   "metadata": {
    "collapsed": false,
    "ExecuteTime": {
     "end_time": "2023-10-02T11:37:16.730068552Z",
     "start_time": "2023-10-02T11:37:16.689350607Z"
    }
   },
   "id": "32bd1df07c9ebcea"
  },
  {
   "cell_type": "markdown",
   "source": [
    "Inspect the columns to make sure there are no anomalies."
   ],
   "metadata": {
    "collapsed": false
   },
   "id": "3c723ca6e54cd661"
  },
  {
   "cell_type": "code",
   "execution_count": 34,
   "outputs": [
    {
     "data": {
      "text/plain": "['Date',\n 'Time',\n 'Comp',\n 'Round',\n 'Day',\n 'Venue',\n 'Result',\n 'GF',\n 'GA',\n 'Opponent',\n 'xG',\n 'xGA',\n 'Poss',\n 'Attendance',\n 'Captain',\n 'Formation',\n 'Referee',\n 'Match Report',\n 'Notes',\n 'Team',\n 'shooting  Comp',\n 'shooting  Round',\n 'shooting  Day',\n 'shooting  Venue',\n 'shooting  Result',\n 'shooting  GF',\n 'shooting  GA',\n 'shooting  Opponent',\n 'shooting Standard Gls',\n 'shooting Standard Sh',\n 'shooting Standard SoT',\n 'shooting Standard SoT%',\n 'shooting Standard G/Sh',\n 'shooting Standard G/SoT',\n 'shooting Standard Dist',\n 'shooting Standard FK',\n 'shooting Standard PK',\n 'shooting Standard PKatt',\n 'shooting Expected xG',\n 'shooting Expected npxG',\n 'shooting Expected npxG/Sh',\n 'shooting Expected G-xG',\n 'shooting Expected np:G-xG',\n 'shooting Unnamed: 25_level_0 Match Report',\n 'keeper  Comp',\n 'keeper  Round',\n 'keeper  Day',\n 'keeper  Venue',\n 'keeper  Result',\n 'keeper  GF',\n 'keeper  GA',\n 'keeper  Opponent',\n 'keeper Performance SoTA',\n 'keeper Performance GA',\n 'keeper Performance Saves',\n 'keeper Performance Save%',\n 'keeper Performance CS',\n 'keeper Performance PSxG',\n 'keeper Performance PSxG+/-',\n 'keeper Penalty Kicks PKatt',\n 'keeper Penalty Kicks PKA',\n 'keeper Penalty Kicks PKsv',\n 'keeper Penalty Kicks PKm',\n 'keeper Launched Cmp',\n 'keeper Launched Att',\n 'keeper Launched Cmp%',\n 'keeper Passes Att',\n 'keeper Passes Thr',\n 'keeper Passes Launch%',\n 'keeper Passes AvgLen',\n 'keeper Goal Kicks Att',\n 'keeper Goal Kicks Launch%',\n 'keeper Goal Kicks AvgLen',\n 'keeper Crosses Opp',\n 'keeper Crosses Stp',\n 'keeper Crosses Stp%',\n 'keeper Sweeper #OPA',\n 'keeper Sweeper AvgDist',\n 'keeper Unnamed: 36_level_0 Match Report',\n 'passing  Comp',\n 'passing  Round',\n 'passing  Day',\n 'passing  Venue',\n 'passing  Result',\n 'passing  GF',\n 'passing  GA',\n 'passing  Opponent',\n 'passing Total Cmp',\n 'passing Total Att',\n 'passing Total Cmp%',\n 'passing Total TotDist',\n 'passing Total PrgDist',\n 'passing Short Cmp',\n 'passing Short Att',\n 'passing Short Cmp%',\n 'passing Medium Cmp',\n 'passing Medium Att',\n 'passing Medium Cmp%',\n 'passing Long Cmp',\n 'passing Long Att',\n 'passing Long Cmp%',\n 'passing Unnamed: 24_level_0 Ast',\n 'passing Unnamed: 25_level_0 xAG',\n 'passing Unnamed: 26_level_0 xA',\n 'passing Unnamed: 27_level_0 KP',\n 'passing Unnamed: 28_level_0 1/3',\n 'passing Unnamed: 29_level_0 PPA',\n 'passing Unnamed: 30_level_0 CrsPA',\n 'passing Unnamed: 31_level_0 PrgP',\n 'passing Unnamed: 32_level_0 Match Report',\n 'passing_types  Comp',\n 'passing_types  Round',\n 'passing_types  Day',\n 'passing_types  Venue',\n 'passing_types  Result',\n 'passing_types  GF',\n 'passing_types  GA',\n 'passing_types  Opponent',\n 'passing_types  Att',\n 'passing_types Pass Types Live',\n 'passing_types Pass Types Dead',\n 'passing_types Pass Types FK',\n 'passing_types Pass Types TB',\n 'passing_types Pass Types Sw',\n 'passing_types Pass Types Crs',\n 'passing_types Pass Types TI',\n 'passing_types Pass Types CK',\n 'passing_types Corner Kicks In',\n 'passing_types Corner Kicks Out',\n 'passing_types Corner Kicks Str',\n 'passing_types Outcomes Cmp',\n 'passing_types Outcomes Off',\n 'passing_types Outcomes Blocks',\n 'passing_types Unnamed: 25_level_0 Match Report',\n 'gca  Comp',\n 'gca  Round',\n 'gca  Day',\n 'gca  Venue',\n 'gca  Result',\n 'gca  GF',\n 'gca  GA',\n 'gca  Opponent',\n 'gca SCA Types SCA',\n 'gca SCA Types PassLive',\n 'gca SCA Types PassDead',\n 'gca SCA Types TO',\n 'gca SCA Types Sh',\n 'gca SCA Types Fld',\n 'gca SCA Types Def',\n 'gca GCA Types GCA',\n 'gca GCA Types PassLive',\n 'gca GCA Types PassDead',\n 'gca GCA Types TO',\n 'gca GCA Types Sh',\n 'gca GCA Types Fld',\n 'gca GCA Types Def',\n 'gca Unnamed: 24_level_0 Match Report',\n 'defense  Comp',\n 'defense  Round',\n 'defense  Day',\n 'defense  Venue',\n 'defense  Result',\n 'defense  GF',\n 'defense  GA',\n 'defense  Opponent',\n 'defense Tackles Tkl',\n 'defense Tackles TklW',\n 'defense Tackles Def 3rd',\n 'defense Tackles Mid 3rd',\n 'defense Tackles Att 3rd',\n 'defense Challenges Tkl',\n 'defense Challenges Att',\n 'defense Challenges Tkl%',\n 'defense Challenges Lost',\n 'defense Blocks Blocks',\n 'defense Blocks Sh',\n 'defense Blocks Pass',\n 'defense Unnamed: 22_level_0 Int',\n 'defense Unnamed: 23_level_0 Tkl+Int',\n 'defense Unnamed: 24_level_0 Clr',\n 'defense Unnamed: 25_level_0 Err',\n 'defense Unnamed: 26_level_0 Match Report',\n 'possession  Comp',\n 'possession  Round',\n 'possession  Day',\n 'possession  Venue',\n 'possession  Result',\n 'possession  GF',\n 'possession  GA',\n 'possession  Opponent',\n 'possession  Poss',\n 'possession Touches Touches',\n 'possession Touches Def Pen',\n 'possession Touches Def 3rd',\n 'possession Touches Mid 3rd',\n 'possession Touches Att 3rd',\n 'possession Touches Att Pen',\n 'possession Touches Live',\n 'possession Take-Ons Att',\n 'possession Take-Ons Succ',\n 'possession Take-Ons Succ%',\n 'possession Take-Ons Tkld',\n 'possession Take-Ons Tkld%',\n 'possession Carries Carries',\n 'possession Carries TotDist',\n 'possession Carries PrgDist',\n 'possession Carries PrgC',\n 'possession Carries 1/3',\n 'possession Carries CPA',\n 'possession Carries Mis',\n 'possession Carries Dis',\n 'possession Receiving Rec',\n 'possession Receiving PrgR',\n 'possession Unnamed: 33_level_0 Match Report',\n 'misc  Comp',\n 'misc  Round',\n 'misc  Day',\n 'misc  Venue',\n 'misc  Result',\n 'misc  GF',\n 'misc  GA',\n 'misc  Opponent',\n 'misc Performance CrdY',\n 'misc Performance CrdR',\n 'misc Performance 2CrdY',\n 'misc Performance Fls',\n 'misc Performance Fld',\n 'misc Performance Off',\n 'misc Performance Crs',\n 'misc Performance Int',\n 'misc Performance TklW',\n 'misc Performance PKwon',\n 'misc Performance PKcon',\n 'misc Performance OG',\n 'misc Performance Recov',\n 'misc Aerial Duels Won',\n 'misc Aerial Duels Lost',\n 'misc Aerial Duels Won%',\n 'misc Unnamed: 26_level_0 Match Report']"
     },
     "execution_count": 34,
     "metadata": {},
     "output_type": "execute_result"
    }
   ],
   "source": [
    "all_matches_df.columns.tolist()"
   ],
   "metadata": {
    "collapsed": false,
    "ExecuteTime": {
     "end_time": "2023-10-02T11:37:18.960311578Z",
     "start_time": "2023-10-02T11:37:18.955936449Z"
    }
   },
   "id": "14cfae209d118ba2"
  },
  {
   "cell_type": "markdown",
   "source": [
    "There are numerous columns that have double spaces in their names. Replace them with single spaces."
   ],
   "metadata": {
    "collapsed": false
   },
   "id": "5396498d692f2c22"
  },
  {
   "cell_type": "code",
   "execution_count": 35,
   "outputs": [],
   "source": [
    "all_matches_df.columns = all_matches_df.columns.str.replace('  ', ' ')"
   ],
   "metadata": {
    "collapsed": false,
    "ExecuteTime": {
     "end_time": "2023-10-02T11:37:22.761364459Z",
     "start_time": "2023-10-02T11:37:22.757700872Z"
    }
   },
   "id": "67299ba76753e2"
  },
  {
   "cell_type": "markdown",
   "source": [
    "Get rid of all columns that contain `Match Report` as they are not needed."
   ],
   "metadata": {
    "collapsed": false
   },
   "id": "aee15fadf049d153"
  },
  {
   "cell_type": "code",
   "execution_count": 36,
   "outputs": [],
   "source": [
    "all_matches_df = all_matches_df.loc[:,~all_matches_df.columns.str.contains('Match Report')]"
   ],
   "metadata": {
    "collapsed": false,
    "ExecuteTime": {
     "end_time": "2023-10-02T11:37:24.279705110Z",
     "start_time": "2023-10-02T11:37:24.252811940Z"
    }
   },
   "id": "ae8be3a361888d58"
  },
  {
   "cell_type": "markdown",
   "source": [
    "Convert all columns to lowercase for consistency."
   ],
   "metadata": {
    "collapsed": false
   },
   "id": "e30a5232ee9dba7"
  },
  {
   "cell_type": "code",
   "execution_count": 37,
   "outputs": [],
   "source": [
    "all_matches_df.columns = all_matches_df.columns.str.lower()"
   ],
   "metadata": {
    "collapsed": false,
    "ExecuteTime": {
     "end_time": "2023-10-02T11:37:25.787605906Z",
     "start_time": "2023-10-02T11:37:25.784156033Z"
    }
   },
   "id": "b1036c88e91b422b"
  },
  {
   "cell_type": "markdown",
   "source": [
    "Replace all spaces in column names with underscores for ease of parsing later when the dataframe is saved to a csv file."
   ],
   "metadata": {
    "collapsed": false
   },
   "id": "83ccba6dd8091b03"
  },
  {
   "cell_type": "code",
   "execution_count": 38,
   "outputs": [],
   "source": [
    "all_matches_df.columns = all_matches_df.columns.str.replace(' ', '_')"
   ],
   "metadata": {
    "collapsed": false,
    "ExecuteTime": {
     "end_time": "2023-10-02T11:37:27.223378819Z",
     "start_time": "2023-10-02T11:37:27.218080809Z"
    }
   },
   "id": "b70dc22edc8cf886"
  },
  {
   "cell_type": "markdown",
   "source": [
    "Check the columns again to make sure everything is in order and look for further improvements."
   ],
   "metadata": {
    "collapsed": false
   },
   "id": "bbd667a28b6edef3"
  },
  {
   "cell_type": "code",
   "execution_count": 39,
   "outputs": [
    {
     "data": {
      "text/plain": "['date',\n 'time',\n 'comp',\n 'round',\n 'day',\n 'venue',\n 'result',\n 'gf',\n 'ga',\n 'opponent',\n 'xg',\n 'xga',\n 'poss',\n 'attendance',\n 'captain',\n 'formation',\n 'referee',\n 'notes',\n 'team',\n 'shooting_comp',\n 'shooting_round',\n 'shooting_day',\n 'shooting_venue',\n 'shooting_result',\n 'shooting_gf',\n 'shooting_ga',\n 'shooting_opponent',\n 'shooting_standard_gls',\n 'shooting_standard_sh',\n 'shooting_standard_sot',\n 'shooting_standard_sot%',\n 'shooting_standard_g/sh',\n 'shooting_standard_g/sot',\n 'shooting_standard_dist',\n 'shooting_standard_fk',\n 'shooting_standard_pk',\n 'shooting_standard_pkatt',\n 'shooting_expected_xg',\n 'shooting_expected_npxg',\n 'shooting_expected_npxg/sh',\n 'shooting_expected_g-xg',\n 'shooting_expected_np:g-xg',\n 'keeper_comp',\n 'keeper_round',\n 'keeper_day',\n 'keeper_venue',\n 'keeper_result',\n 'keeper_gf',\n 'keeper_ga',\n 'keeper_opponent',\n 'keeper_performance_sota',\n 'keeper_performance_ga',\n 'keeper_performance_saves',\n 'keeper_performance_save%',\n 'keeper_performance_cs',\n 'keeper_performance_psxg',\n 'keeper_performance_psxg+/-',\n 'keeper_penalty_kicks_pkatt',\n 'keeper_penalty_kicks_pka',\n 'keeper_penalty_kicks_pksv',\n 'keeper_penalty_kicks_pkm',\n 'keeper_launched_cmp',\n 'keeper_launched_att',\n 'keeper_launched_cmp%',\n 'keeper_passes_att',\n 'keeper_passes_thr',\n 'keeper_passes_launch%',\n 'keeper_passes_avglen',\n 'keeper_goal_kicks_att',\n 'keeper_goal_kicks_launch%',\n 'keeper_goal_kicks_avglen',\n 'keeper_crosses_opp',\n 'keeper_crosses_stp',\n 'keeper_crosses_stp%',\n 'keeper_sweeper_#opa',\n 'keeper_sweeper_avgdist',\n 'passing_comp',\n 'passing_round',\n 'passing_day',\n 'passing_venue',\n 'passing_result',\n 'passing_gf',\n 'passing_ga',\n 'passing_opponent',\n 'passing_total_cmp',\n 'passing_total_att',\n 'passing_total_cmp%',\n 'passing_total_totdist',\n 'passing_total_prgdist',\n 'passing_short_cmp',\n 'passing_short_att',\n 'passing_short_cmp%',\n 'passing_medium_cmp',\n 'passing_medium_att',\n 'passing_medium_cmp%',\n 'passing_long_cmp',\n 'passing_long_att',\n 'passing_long_cmp%',\n 'passing_unnamed:_24_level_0_ast',\n 'passing_unnamed:_25_level_0_xag',\n 'passing_unnamed:_26_level_0_xa',\n 'passing_unnamed:_27_level_0_kp',\n 'passing_unnamed:_28_level_0_1/3',\n 'passing_unnamed:_29_level_0_ppa',\n 'passing_unnamed:_30_level_0_crspa',\n 'passing_unnamed:_31_level_0_prgp',\n 'passing_types_comp',\n 'passing_types_round',\n 'passing_types_day',\n 'passing_types_venue',\n 'passing_types_result',\n 'passing_types_gf',\n 'passing_types_ga',\n 'passing_types_opponent',\n 'passing_types_att',\n 'passing_types_pass_types_live',\n 'passing_types_pass_types_dead',\n 'passing_types_pass_types_fk',\n 'passing_types_pass_types_tb',\n 'passing_types_pass_types_sw',\n 'passing_types_pass_types_crs',\n 'passing_types_pass_types_ti',\n 'passing_types_pass_types_ck',\n 'passing_types_corner_kicks_in',\n 'passing_types_corner_kicks_out',\n 'passing_types_corner_kicks_str',\n 'passing_types_outcomes_cmp',\n 'passing_types_outcomes_off',\n 'passing_types_outcomes_blocks',\n 'gca_comp',\n 'gca_round',\n 'gca_day',\n 'gca_venue',\n 'gca_result',\n 'gca_gf',\n 'gca_ga',\n 'gca_opponent',\n 'gca_sca_types_sca',\n 'gca_sca_types_passlive',\n 'gca_sca_types_passdead',\n 'gca_sca_types_to',\n 'gca_sca_types_sh',\n 'gca_sca_types_fld',\n 'gca_sca_types_def',\n 'gca_gca_types_gca',\n 'gca_gca_types_passlive',\n 'gca_gca_types_passdead',\n 'gca_gca_types_to',\n 'gca_gca_types_sh',\n 'gca_gca_types_fld',\n 'gca_gca_types_def',\n 'defense_comp',\n 'defense_round',\n 'defense_day',\n 'defense_venue',\n 'defense_result',\n 'defense_gf',\n 'defense_ga',\n 'defense_opponent',\n 'defense_tackles_tkl',\n 'defense_tackles_tklw',\n 'defense_tackles_def_3rd',\n 'defense_tackles_mid_3rd',\n 'defense_tackles_att_3rd',\n 'defense_challenges_tkl',\n 'defense_challenges_att',\n 'defense_challenges_tkl%',\n 'defense_challenges_lost',\n 'defense_blocks_blocks',\n 'defense_blocks_sh',\n 'defense_blocks_pass',\n 'defense_unnamed:_22_level_0_int',\n 'defense_unnamed:_23_level_0_tkl+int',\n 'defense_unnamed:_24_level_0_clr',\n 'defense_unnamed:_25_level_0_err',\n 'possession_comp',\n 'possession_round',\n 'possession_day',\n 'possession_venue',\n 'possession_result',\n 'possession_gf',\n 'possession_ga',\n 'possession_opponent',\n 'possession_poss',\n 'possession_touches_touches',\n 'possession_touches_def_pen',\n 'possession_touches_def_3rd',\n 'possession_touches_mid_3rd',\n 'possession_touches_att_3rd',\n 'possession_touches_att_pen',\n 'possession_touches_live',\n 'possession_take-ons_att',\n 'possession_take-ons_succ',\n 'possession_take-ons_succ%',\n 'possession_take-ons_tkld',\n 'possession_take-ons_tkld%',\n 'possession_carries_carries',\n 'possession_carries_totdist',\n 'possession_carries_prgdist',\n 'possession_carries_prgc',\n 'possession_carries_1/3',\n 'possession_carries_cpa',\n 'possession_carries_mis',\n 'possession_carries_dis',\n 'possession_receiving_rec',\n 'possession_receiving_prgr',\n 'misc_comp',\n 'misc_round',\n 'misc_day',\n 'misc_venue',\n 'misc_result',\n 'misc_gf',\n 'misc_ga',\n 'misc_opponent',\n 'misc_performance_crdy',\n 'misc_performance_crdr',\n 'misc_performance_2crdy',\n 'misc_performance_fls',\n 'misc_performance_fld',\n 'misc_performance_off',\n 'misc_performance_crs',\n 'misc_performance_int',\n 'misc_performance_tklw',\n 'misc_performance_pkwon',\n 'misc_performance_pkcon',\n 'misc_performance_og',\n 'misc_performance_recov',\n 'misc_aerial_duels_won',\n 'misc_aerial_duels_lost',\n 'misc_aerial_duels_won%']"
     },
     "execution_count": 39,
     "metadata": {},
     "output_type": "execute_result"
    }
   ],
   "source": [
    "all_matches_df.columns.tolist()"
   ],
   "metadata": {
    "collapsed": false,
    "ExecuteTime": {
     "end_time": "2023-10-02T11:37:28.856304824Z",
     "start_time": "2023-10-02T11:37:28.847083768Z"
    }
   },
   "id": "ddfdbb576d2491c"
  },
  {
   "cell_type": "markdown",
   "source": [
    "There are numerous columns from each category where we have `_unnamed_<some number>_level_0`.\n",
    "```\n",
    " 'passing_unnamed:_24_level_0_ast',\n",
    " 'passing_unnamed:_25_level_0_xag',\n",
    " 'passing_unnamed:_26_level_0_xa',\n",
    " 'passing_unnamed:_27_level_0_kp',\n",
    " 'passing_unnamed:_28_level_0_1/3',\n",
    " 'passing_unnamed:_29_level_0_ppa',\n",
    " 'passing_unnamed:_30_level_0_crspa',\n",
    " 'passing_unnamed:_31_level_0_prgp',\n",
    "```\n",
    "This is due to the table having no column name for the first column.\n",
    "![no-name-in-first-row](./no-name-in-first-row.png)"
   ],
   "metadata": {
    "collapsed": false
   },
   "id": "1bc73dbc50edbbdb"
  },
  {
   "cell_type": "code",
   "execution_count": 40,
   "outputs": [],
   "source": [
    "all_matches_df.columns = all_matches_df.columns.str.replace(r'(.*)_unnamed:_\\d+_level_0_(.*)', r'\\1_\\2', regex=True)"
   ],
   "metadata": {
    "collapsed": false,
    "ExecuteTime": {
     "end_time": "2023-10-02T11:37:32.126136518Z",
     "start_time": "2023-10-02T11:37:32.122367261Z"
    }
   },
   "id": "7c7ca8f0a579b6c4"
  },
  {
   "cell_type": "markdown",
   "source": [
    "One final check to column names. Everything looks good."
   ],
   "metadata": {
    "collapsed": false
   },
   "id": "d43265604f631429"
  },
  {
   "cell_type": "code",
   "execution_count": 21,
   "outputs": [
    {
     "data": {
      "text/plain": "['date',\n 'time',\n 'comp',\n 'round',\n 'day',\n 'venue',\n 'result',\n 'gf',\n 'ga',\n 'opponent',\n 'xg',\n 'xga',\n 'poss',\n 'attendance',\n 'captain',\n 'formation',\n 'referee',\n 'notes',\n 'team',\n 'shooting_comp',\n 'shooting_round',\n 'shooting_day',\n 'shooting_venue',\n 'shooting_result',\n 'shooting_gf',\n 'shooting_ga',\n 'shooting_opponent',\n 'shooting_standard_gls',\n 'shooting_standard_sh',\n 'shooting_standard_sot',\n 'shooting_standard_sot%',\n 'shooting_standard_g/sh',\n 'shooting_standard_g/sot',\n 'shooting_standard_dist',\n 'shooting_standard_fk',\n 'shooting_standard_pk',\n 'shooting_standard_pkatt',\n 'shooting_expected_xg',\n 'shooting_expected_npxg',\n 'shooting_expected_npxg/sh',\n 'shooting_expected_g-xg',\n 'shooting_expected_np:g-xg',\n 'keeper_comp',\n 'keeper_round',\n 'keeper_day',\n 'keeper_venue',\n 'keeper_result',\n 'keeper_gf',\n 'keeper_ga',\n 'keeper_opponent',\n 'keeper_performance_sota',\n 'keeper_performance_ga',\n 'keeper_performance_saves',\n 'keeper_performance_save%',\n 'keeper_performance_cs',\n 'keeper_performance_psxg',\n 'keeper_performance_psxg+/-',\n 'keeper_penalty_kicks_pkatt',\n 'keeper_penalty_kicks_pka',\n 'keeper_penalty_kicks_pksv',\n 'keeper_penalty_kicks_pkm',\n 'keeper_launched_cmp',\n 'keeper_launched_att',\n 'keeper_launched_cmp%',\n 'keeper_passes_att',\n 'keeper_passes_thr',\n 'keeper_passes_launch%',\n 'keeper_passes_avglen',\n 'keeper_goal_kicks_att',\n 'keeper_goal_kicks_launch%',\n 'keeper_goal_kicks_avglen',\n 'keeper_crosses_opp',\n 'keeper_crosses_stp',\n 'keeper_crosses_stp%',\n 'keeper_sweeper_#opa',\n 'keeper_sweeper_avgdist',\n 'passing_comp',\n 'passing_round',\n 'passing_day',\n 'passing_venue',\n 'passing_result',\n 'passing_gf',\n 'passing_ga',\n 'passing_opponent',\n 'passing_total_cmp',\n 'passing_total_att',\n 'passing_total_cmp%',\n 'passing_total_totdist',\n 'passing_total_prgdist',\n 'passing_short_cmp',\n 'passing_short_att',\n 'passing_short_cmp%',\n 'passing_medium_cmp',\n 'passing_medium_att',\n 'passing_medium_cmp%',\n 'passing_long_cmp',\n 'passing_long_att',\n 'passing_long_cmp%',\n 'passing_ast',\n 'passing_xag',\n 'passing_xa',\n 'passing_kp',\n 'passing_1/3',\n 'passing_ppa',\n 'passing_crspa',\n 'passing_prgp',\n 'passing_types_comp',\n 'passing_types_round',\n 'passing_types_day',\n 'passing_types_venue',\n 'passing_types_result',\n 'passing_types_gf',\n 'passing_types_ga',\n 'passing_types_opponent',\n 'passing_types_att',\n 'passing_types_pass_types_live',\n 'passing_types_pass_types_dead',\n 'passing_types_pass_types_fk',\n 'passing_types_pass_types_tb',\n 'passing_types_pass_types_sw',\n 'passing_types_pass_types_crs',\n 'passing_types_pass_types_ti',\n 'passing_types_pass_types_ck',\n 'passing_types_corner_kicks_in',\n 'passing_types_corner_kicks_out',\n 'passing_types_corner_kicks_str',\n 'passing_types_outcomes_cmp',\n 'passing_types_outcomes_off',\n 'passing_types_outcomes_blocks',\n 'gca_comp',\n 'gca_round',\n 'gca_day',\n 'gca_venue',\n 'gca_result',\n 'gca_gf',\n 'gca_ga',\n 'gca_opponent',\n 'gca_sca_types_sca',\n 'gca_sca_types_passlive',\n 'gca_sca_types_passdead',\n 'gca_sca_types_to',\n 'gca_sca_types_sh',\n 'gca_sca_types_fld',\n 'gca_sca_types_def',\n 'gca_gca_types_gca',\n 'gca_gca_types_passlive',\n 'gca_gca_types_passdead',\n 'gca_gca_types_to',\n 'gca_gca_types_sh',\n 'gca_gca_types_fld',\n 'gca_gca_types_def',\n 'defense_comp',\n 'defense_round',\n 'defense_day',\n 'defense_venue',\n 'defense_result',\n 'defense_gf',\n 'defense_ga',\n 'defense_opponent',\n 'defense_tackles_tkl',\n 'defense_tackles_tklw',\n 'defense_tackles_def_3rd',\n 'defense_tackles_mid_3rd',\n 'defense_tackles_att_3rd',\n 'defense_challenges_tkl',\n 'defense_challenges_att',\n 'defense_challenges_tkl%',\n 'defense_challenges_lost',\n 'defense_blocks_blocks',\n 'defense_blocks_sh',\n 'defense_blocks_pass',\n 'defense_int',\n 'defense_tkl+int',\n 'defense_clr',\n 'defense_err',\n 'possession_comp',\n 'possession_round',\n 'possession_day',\n 'possession_venue',\n 'possession_result',\n 'possession_gf',\n 'possession_ga',\n 'possession_opponent',\n 'possession_poss',\n 'possession_touches_touches',\n 'possession_touches_def_pen',\n 'possession_touches_def_3rd',\n 'possession_touches_mid_3rd',\n 'possession_touches_att_3rd',\n 'possession_touches_att_pen',\n 'possession_touches_live',\n 'possession_take-ons_att',\n 'possession_take-ons_succ',\n 'possession_take-ons_succ%',\n 'possession_take-ons_tkld',\n 'possession_take-ons_tkld%',\n 'possession_carries_carries',\n 'possession_carries_totdist',\n 'possession_carries_prgdist',\n 'possession_carries_prgc',\n 'possession_carries_1/3',\n 'possession_carries_cpa',\n 'possession_carries_mis',\n 'possession_carries_dis',\n 'possession_receiving_rec',\n 'possession_receiving_prgr',\n 'misc_comp',\n 'misc_round',\n 'misc_day',\n 'misc_venue',\n 'misc_result',\n 'misc_gf',\n 'misc_ga',\n 'misc_opponent',\n 'misc_performance_crdy',\n 'misc_performance_crdr',\n 'misc_performance_2crdy',\n 'misc_performance_fls',\n 'misc_performance_fld',\n 'misc_performance_off',\n 'misc_performance_crs',\n 'misc_performance_int',\n 'misc_performance_tklw',\n 'misc_performance_pkwon',\n 'misc_performance_pkcon',\n 'misc_performance_og',\n 'misc_performance_recov',\n 'misc_aerial_duels_won',\n 'misc_aerial_duels_lost',\n 'misc_aerial_duels_won%']"
     },
     "execution_count": 21,
     "metadata": {},
     "output_type": "execute_result"
    }
   ],
   "source": [
    "all_matches_df.columns.tolist()"
   ],
   "metadata": {
    "collapsed": false,
    "ExecuteTime": {
     "end_time": "2023-10-02T11:23:53.866228909Z",
     "start_time": "2023-10-02T11:23:53.854630582Z"
    }
   },
   "id": "c53c5acae76c52c9"
  },
  {
   "cell_type": "markdown",
   "source": [
    "See the first and last ten rows of the dataframe and inspect the data."
   ],
   "metadata": {
    "collapsed": false
   },
   "id": "cea93f3264a80841"
  },
  {
   "cell_type": "code",
   "execution_count": 41,
   "outputs": [
    {
     "data": {
      "text/plain": "         date   time        comp        round  day venue result gf ga  \\\n0  2020-09-12  15:30   DFB-Pokal  First round  Sat  Away      W  2  1   \n1  2020-09-19  15:30  Bundesliga  Matchweek 1  Sat  Home      D  1  1   \n2  2020-09-25  20:30  Bundesliga  Matchweek 2  Fri  Away      W  3  1   \n3  2020-10-03  15:30  Bundesliga  Matchweek 3  Sat  Home      W  2  1   \n4  2020-10-18  15:30  Bundesliga  Matchweek 4  Sun  Away      D  1  1   \n5  2020-10-24  15:30  Bundesliga  Matchweek 5  Sat  Away      L  0  5   \n6  2020-10-31  15:30  Bundesliga  Matchweek 6  Sat  Home      D  1  1   \n7  2020-11-07  15:30  Bundesliga  Matchweek 7  Sat  Away      D  2  2   \n8  2020-11-21  18:30  Bundesliga  Matchweek 8  Sat  Home      D  1  1   \n9  2020-11-28  15:30  Bundesliga  Matchweek 9  Sat  Away      D  3  3   \n\n        opponent  ...  misc_performance_crs  misc_performance_int  \\\n0    1860 Munich  ...                    22                     7   \n1        Arminia  ...                    35                    11   \n2     Hertha BSC  ...                    15                     8   \n3     Hoffenheim  ...                    22                     7   \n4           Köln  ...                    24                     7   \n5  Bayern Munich  ...                    14                     6   \n6  Werder Bremen  ...                    35                    11   \n7      Stuttgart  ...                    29                    12   \n8     RB Leipzig  ...                    15                    22   \n9   Union Berlin  ...                    19                    20   \n\n   misc_performance_tklw  misc_performance_pkwon misc_performance_pkcon  \\\n0                      8                     NaN                    NaN   \n1                     12                     0.0                    0.0   \n2                     12                     1.0                    0.0   \n3                      6                     0.0                    0.0   \n4                     10                     1.0                    0.0   \n5                     11                     0.0                    0.0   \n6                      8                     0.0                    0.0   \n7                     13                     0.0                    1.0   \n8                     13                     0.0                    0.0   \n9                      9                     0.0                    1.0   \n\n  misc_performance_og misc_performance_recov misc_aerial_duels_won  \\\n0                   0                    NaN                   NaN   \n1                   0                   63.0                  17.0   \n2                   1                   57.0                  23.0   \n3                   0                   56.0                  24.0   \n4                   0                   65.0                  36.0   \n5                   0                   66.0                  12.0   \n6                   0                   59.0                  14.0   \n7                   0                   55.0                  23.0   \n8                   0                   59.0                  16.0   \n9                   0                   49.0                  31.0   \n\n  misc_aerial_duels_lost misc_aerial_duels_won%  \n0                    NaN                    NaN  \n1                   15.0                   53.1  \n2                   12.0                   65.7  \n3                    9.0                   72.7  \n4                   32.0                   52.9  \n5                    8.0                   60.0  \n6                   19.0                   42.4  \n7                    9.0                   71.9  \n8                   23.0                   41.0  \n9                   19.0                   62.0  \n\n[10 rows x 230 columns]",
      "text/html": "<div>\n<style scoped>\n    .dataframe tbody tr th:only-of-type {\n        vertical-align: middle;\n    }\n\n    .dataframe tbody tr th {\n        vertical-align: top;\n    }\n\n    .dataframe thead th {\n        text-align: right;\n    }\n</style>\n<table border=\"1\" class=\"dataframe\">\n  <thead>\n    <tr style=\"text-align: right;\">\n      <th></th>\n      <th>date</th>\n      <th>time</th>\n      <th>comp</th>\n      <th>round</th>\n      <th>day</th>\n      <th>venue</th>\n      <th>result</th>\n      <th>gf</th>\n      <th>ga</th>\n      <th>opponent</th>\n      <th>...</th>\n      <th>misc_performance_crs</th>\n      <th>misc_performance_int</th>\n      <th>misc_performance_tklw</th>\n      <th>misc_performance_pkwon</th>\n      <th>misc_performance_pkcon</th>\n      <th>misc_performance_og</th>\n      <th>misc_performance_recov</th>\n      <th>misc_aerial_duels_won</th>\n      <th>misc_aerial_duels_lost</th>\n      <th>misc_aerial_duels_won%</th>\n    </tr>\n  </thead>\n  <tbody>\n    <tr>\n      <th>0</th>\n      <td>2020-09-12</td>\n      <td>15:30</td>\n      <td>DFB-Pokal</td>\n      <td>First round</td>\n      <td>Sat</td>\n      <td>Away</td>\n      <td>W</td>\n      <td>2</td>\n      <td>1</td>\n      <td>1860 Munich</td>\n      <td>...</td>\n      <td>22</td>\n      <td>7</td>\n      <td>8</td>\n      <td>NaN</td>\n      <td>NaN</td>\n      <td>0</td>\n      <td>NaN</td>\n      <td>NaN</td>\n      <td>NaN</td>\n      <td>NaN</td>\n    </tr>\n    <tr>\n      <th>1</th>\n      <td>2020-09-19</td>\n      <td>15:30</td>\n      <td>Bundesliga</td>\n      <td>Matchweek 1</td>\n      <td>Sat</td>\n      <td>Home</td>\n      <td>D</td>\n      <td>1</td>\n      <td>1</td>\n      <td>Arminia</td>\n      <td>...</td>\n      <td>35</td>\n      <td>11</td>\n      <td>12</td>\n      <td>0.0</td>\n      <td>0.0</td>\n      <td>0</td>\n      <td>63.0</td>\n      <td>17.0</td>\n      <td>15.0</td>\n      <td>53.1</td>\n    </tr>\n    <tr>\n      <th>2</th>\n      <td>2020-09-25</td>\n      <td>20:30</td>\n      <td>Bundesliga</td>\n      <td>Matchweek 2</td>\n      <td>Fri</td>\n      <td>Away</td>\n      <td>W</td>\n      <td>3</td>\n      <td>1</td>\n      <td>Hertha BSC</td>\n      <td>...</td>\n      <td>15</td>\n      <td>8</td>\n      <td>12</td>\n      <td>1.0</td>\n      <td>0.0</td>\n      <td>1</td>\n      <td>57.0</td>\n      <td>23.0</td>\n      <td>12.0</td>\n      <td>65.7</td>\n    </tr>\n    <tr>\n      <th>3</th>\n      <td>2020-10-03</td>\n      <td>15:30</td>\n      <td>Bundesliga</td>\n      <td>Matchweek 3</td>\n      <td>Sat</td>\n      <td>Home</td>\n      <td>W</td>\n      <td>2</td>\n      <td>1</td>\n      <td>Hoffenheim</td>\n      <td>...</td>\n      <td>22</td>\n      <td>7</td>\n      <td>6</td>\n      <td>0.0</td>\n      <td>0.0</td>\n      <td>0</td>\n      <td>56.0</td>\n      <td>24.0</td>\n      <td>9.0</td>\n      <td>72.7</td>\n    </tr>\n    <tr>\n      <th>4</th>\n      <td>2020-10-18</td>\n      <td>15:30</td>\n      <td>Bundesliga</td>\n      <td>Matchweek 4</td>\n      <td>Sun</td>\n      <td>Away</td>\n      <td>D</td>\n      <td>1</td>\n      <td>1</td>\n      <td>Köln</td>\n      <td>...</td>\n      <td>24</td>\n      <td>7</td>\n      <td>10</td>\n      <td>1.0</td>\n      <td>0.0</td>\n      <td>0</td>\n      <td>65.0</td>\n      <td>36.0</td>\n      <td>32.0</td>\n      <td>52.9</td>\n    </tr>\n    <tr>\n      <th>5</th>\n      <td>2020-10-24</td>\n      <td>15:30</td>\n      <td>Bundesliga</td>\n      <td>Matchweek 5</td>\n      <td>Sat</td>\n      <td>Away</td>\n      <td>L</td>\n      <td>0</td>\n      <td>5</td>\n      <td>Bayern Munich</td>\n      <td>...</td>\n      <td>14</td>\n      <td>6</td>\n      <td>11</td>\n      <td>0.0</td>\n      <td>0.0</td>\n      <td>0</td>\n      <td>66.0</td>\n      <td>12.0</td>\n      <td>8.0</td>\n      <td>60.0</td>\n    </tr>\n    <tr>\n      <th>6</th>\n      <td>2020-10-31</td>\n      <td>15:30</td>\n      <td>Bundesliga</td>\n      <td>Matchweek 6</td>\n      <td>Sat</td>\n      <td>Home</td>\n      <td>D</td>\n      <td>1</td>\n      <td>1</td>\n      <td>Werder Bremen</td>\n      <td>...</td>\n      <td>35</td>\n      <td>11</td>\n      <td>8</td>\n      <td>0.0</td>\n      <td>0.0</td>\n      <td>0</td>\n      <td>59.0</td>\n      <td>14.0</td>\n      <td>19.0</td>\n      <td>42.4</td>\n    </tr>\n    <tr>\n      <th>7</th>\n      <td>2020-11-07</td>\n      <td>15:30</td>\n      <td>Bundesliga</td>\n      <td>Matchweek 7</td>\n      <td>Sat</td>\n      <td>Away</td>\n      <td>D</td>\n      <td>2</td>\n      <td>2</td>\n      <td>Stuttgart</td>\n      <td>...</td>\n      <td>29</td>\n      <td>12</td>\n      <td>13</td>\n      <td>0.0</td>\n      <td>1.0</td>\n      <td>0</td>\n      <td>55.0</td>\n      <td>23.0</td>\n      <td>9.0</td>\n      <td>71.9</td>\n    </tr>\n    <tr>\n      <th>8</th>\n      <td>2020-11-21</td>\n      <td>18:30</td>\n      <td>Bundesliga</td>\n      <td>Matchweek 8</td>\n      <td>Sat</td>\n      <td>Home</td>\n      <td>D</td>\n      <td>1</td>\n      <td>1</td>\n      <td>RB Leipzig</td>\n      <td>...</td>\n      <td>15</td>\n      <td>22</td>\n      <td>13</td>\n      <td>0.0</td>\n      <td>0.0</td>\n      <td>0</td>\n      <td>59.0</td>\n      <td>16.0</td>\n      <td>23.0</td>\n      <td>41.0</td>\n    </tr>\n    <tr>\n      <th>9</th>\n      <td>2020-11-28</td>\n      <td>15:30</td>\n      <td>Bundesliga</td>\n      <td>Matchweek 9</td>\n      <td>Sat</td>\n      <td>Away</td>\n      <td>D</td>\n      <td>3</td>\n      <td>3</td>\n      <td>Union Berlin</td>\n      <td>...</td>\n      <td>19</td>\n      <td>20</td>\n      <td>9</td>\n      <td>0.0</td>\n      <td>1.0</td>\n      <td>0</td>\n      <td>49.0</td>\n      <td>31.0</td>\n      <td>19.0</td>\n      <td>62.0</td>\n    </tr>\n  </tbody>\n</table>\n<p>10 rows × 230 columns</p>\n</div>"
     },
     "execution_count": 41,
     "metadata": {},
     "output_type": "execute_result"
    }
   ],
   "source": [
    "all_matches_df.head(10)"
   ],
   "metadata": {
    "collapsed": false,
    "ExecuteTime": {
     "end_time": "2023-10-02T11:37:35.226501953Z",
     "start_time": "2023-10-02T11:37:35.223364969Z"
    }
   },
   "id": "c2e9a757c86af2f9"
  },
  {
   "cell_type": "code",
   "execution_count": 42,
   "outputs": [
    {
     "data": {
      "text/plain": "          date   time        comp         round  day venue result gf ga  \\\n27  2022-03-06  17:30  Bundesliga  Matchweek 25  Sun  Home      L  0  1   \n28  2022-03-13  15:30  Bundesliga  Matchweek 26  Sun  Away      W  1  0   \n29  2022-03-20  19:30  Bundesliga  Matchweek 27  Sun  Home      D  1  1   \n30  2022-04-01  20:30  Bundesliga  Matchweek 28  Fri  Away      L  0  1   \n31  2022-04-09  15:30  Bundesliga  Matchweek 29  Sat  Home      W  3  2   \n32  2022-04-16  18:30  Bundesliga  Matchweek 30  Sat  Away      W  3  1   \n33  2022-04-23  15:30  Bundesliga  Matchweek 31  Sat  Home      W  3  1   \n34  2022-04-30  15:30  Bundesliga  Matchweek 32  Sat  Away      W  4  1   \n35  2022-05-07  15:30  Bundesliga  Matchweek 33  Sat  Home      L  0  1   \n36  2022-05-14  15:30  Bundesliga  Matchweek 34  Sat  Away      L  1  2   \n\n        opponent  ...  misc_performance_crs  misc_performance_int  \\\n27    Hoffenheim  ...                    25                     7   \n28    Leverkusen  ...                     9                    20   \n29      Dortmund  ...                    25                    18   \n30  Union Berlin  ...                    18                    16   \n31      Mainz 05  ...                    23                     5   \n32    M'Gladbach  ...                    23                    12   \n33       Arminia  ...                    22                     6   \n34      Augsburg  ...                    19                     9   \n35     Wolfsburg  ...                    49                    11   \n36     Stuttgart  ...                    35                     2   \n\n    misc_performance_tklw  misc_performance_pkwon misc_performance_pkcon  \\\n27                      6                     0.0                    0.0   \n28                      8                     0.0                    0.0   \n29                     15                     0.0                    0.0   \n30                     11                     0.0                    0.0   \n31                     10                     0.0                    0.0   \n32                     12                     0.0                    0.0   \n33                     12                     0.0                    0.0   \n34                     16                     1.0                    0.0   \n35                      9                     0.0                    0.0   \n36                     14                     0.0                    1.0   \n\n   misc_performance_og misc_performance_recov misc_aerial_duels_won  \\\n27                   0                   53.0                  19.0   \n28                   0                   59.0                  19.0   \n29                   0                   66.0                  13.0   \n30                   0                   68.0                  17.0   \n31                   0                   71.0                  24.0   \n32                   0                   63.0                  16.0   \n33                   1                   63.0                  20.0   \n34                   0                   54.0                  15.0   \n35                   0                   57.0                  18.0   \n36                   0                   52.0                   7.0   \n\n   misc_aerial_duels_lost misc_aerial_duels_won%  \n27                   17.0                   52.8  \n28                   17.0                   52.8  \n29                   16.0                   44.8  \n30                   18.0                   48.6  \n31                   23.0                   51.1  \n32                   14.0                   53.3  \n33                   18.0                   52.6  \n34                   21.0                   41.7  \n35                   25.0                   41.9  \n36                   24.0                   22.6  \n\n[10 rows x 230 columns]",
      "text/html": "<div>\n<style scoped>\n    .dataframe tbody tr th:only-of-type {\n        vertical-align: middle;\n    }\n\n    .dataframe tbody tr th {\n        vertical-align: top;\n    }\n\n    .dataframe thead th {\n        text-align: right;\n    }\n</style>\n<table border=\"1\" class=\"dataframe\">\n  <thead>\n    <tr style=\"text-align: right;\">\n      <th></th>\n      <th>date</th>\n      <th>time</th>\n      <th>comp</th>\n      <th>round</th>\n      <th>day</th>\n      <th>venue</th>\n      <th>result</th>\n      <th>gf</th>\n      <th>ga</th>\n      <th>opponent</th>\n      <th>...</th>\n      <th>misc_performance_crs</th>\n      <th>misc_performance_int</th>\n      <th>misc_performance_tklw</th>\n      <th>misc_performance_pkwon</th>\n      <th>misc_performance_pkcon</th>\n      <th>misc_performance_og</th>\n      <th>misc_performance_recov</th>\n      <th>misc_aerial_duels_won</th>\n      <th>misc_aerial_duels_lost</th>\n      <th>misc_aerial_duels_won%</th>\n    </tr>\n  </thead>\n  <tbody>\n    <tr>\n      <th>27</th>\n      <td>2022-03-06</td>\n      <td>17:30</td>\n      <td>Bundesliga</td>\n      <td>Matchweek 25</td>\n      <td>Sun</td>\n      <td>Home</td>\n      <td>L</td>\n      <td>0</td>\n      <td>1</td>\n      <td>Hoffenheim</td>\n      <td>...</td>\n      <td>25</td>\n      <td>7</td>\n      <td>6</td>\n      <td>0.0</td>\n      <td>0.0</td>\n      <td>0</td>\n      <td>53.0</td>\n      <td>19.0</td>\n      <td>17.0</td>\n      <td>52.8</td>\n    </tr>\n    <tr>\n      <th>28</th>\n      <td>2022-03-13</td>\n      <td>15:30</td>\n      <td>Bundesliga</td>\n      <td>Matchweek 26</td>\n      <td>Sun</td>\n      <td>Away</td>\n      <td>W</td>\n      <td>1</td>\n      <td>0</td>\n      <td>Leverkusen</td>\n      <td>...</td>\n      <td>9</td>\n      <td>20</td>\n      <td>8</td>\n      <td>0.0</td>\n      <td>0.0</td>\n      <td>0</td>\n      <td>59.0</td>\n      <td>19.0</td>\n      <td>17.0</td>\n      <td>52.8</td>\n    </tr>\n    <tr>\n      <th>29</th>\n      <td>2022-03-20</td>\n      <td>19:30</td>\n      <td>Bundesliga</td>\n      <td>Matchweek 27</td>\n      <td>Sun</td>\n      <td>Home</td>\n      <td>D</td>\n      <td>1</td>\n      <td>1</td>\n      <td>Dortmund</td>\n      <td>...</td>\n      <td>25</td>\n      <td>18</td>\n      <td>15</td>\n      <td>0.0</td>\n      <td>0.0</td>\n      <td>0</td>\n      <td>66.0</td>\n      <td>13.0</td>\n      <td>16.0</td>\n      <td>44.8</td>\n    </tr>\n    <tr>\n      <th>30</th>\n      <td>2022-04-01</td>\n      <td>20:30</td>\n      <td>Bundesliga</td>\n      <td>Matchweek 28</td>\n      <td>Fri</td>\n      <td>Away</td>\n      <td>L</td>\n      <td>0</td>\n      <td>1</td>\n      <td>Union Berlin</td>\n      <td>...</td>\n      <td>18</td>\n      <td>16</td>\n      <td>11</td>\n      <td>0.0</td>\n      <td>0.0</td>\n      <td>0</td>\n      <td>68.0</td>\n      <td>17.0</td>\n      <td>18.0</td>\n      <td>48.6</td>\n    </tr>\n    <tr>\n      <th>31</th>\n      <td>2022-04-09</td>\n      <td>15:30</td>\n      <td>Bundesliga</td>\n      <td>Matchweek 29</td>\n      <td>Sat</td>\n      <td>Home</td>\n      <td>W</td>\n      <td>3</td>\n      <td>2</td>\n      <td>Mainz 05</td>\n      <td>...</td>\n      <td>23</td>\n      <td>5</td>\n      <td>10</td>\n      <td>0.0</td>\n      <td>0.0</td>\n      <td>0</td>\n      <td>71.0</td>\n      <td>24.0</td>\n      <td>23.0</td>\n      <td>51.1</td>\n    </tr>\n    <tr>\n      <th>32</th>\n      <td>2022-04-16</td>\n      <td>18:30</td>\n      <td>Bundesliga</td>\n      <td>Matchweek 30</td>\n      <td>Sat</td>\n      <td>Away</td>\n      <td>W</td>\n      <td>3</td>\n      <td>1</td>\n      <td>M'Gladbach</td>\n      <td>...</td>\n      <td>23</td>\n      <td>12</td>\n      <td>12</td>\n      <td>0.0</td>\n      <td>0.0</td>\n      <td>0</td>\n      <td>63.0</td>\n      <td>16.0</td>\n      <td>14.0</td>\n      <td>53.3</td>\n    </tr>\n    <tr>\n      <th>33</th>\n      <td>2022-04-23</td>\n      <td>15:30</td>\n      <td>Bundesliga</td>\n      <td>Matchweek 31</td>\n      <td>Sat</td>\n      <td>Home</td>\n      <td>W</td>\n      <td>3</td>\n      <td>1</td>\n      <td>Arminia</td>\n      <td>...</td>\n      <td>22</td>\n      <td>6</td>\n      <td>12</td>\n      <td>0.0</td>\n      <td>0.0</td>\n      <td>1</td>\n      <td>63.0</td>\n      <td>20.0</td>\n      <td>18.0</td>\n      <td>52.6</td>\n    </tr>\n    <tr>\n      <th>34</th>\n      <td>2022-04-30</td>\n      <td>15:30</td>\n      <td>Bundesliga</td>\n      <td>Matchweek 32</td>\n      <td>Sat</td>\n      <td>Away</td>\n      <td>W</td>\n      <td>4</td>\n      <td>1</td>\n      <td>Augsburg</td>\n      <td>...</td>\n      <td>19</td>\n      <td>9</td>\n      <td>16</td>\n      <td>1.0</td>\n      <td>0.0</td>\n      <td>0</td>\n      <td>54.0</td>\n      <td>15.0</td>\n      <td>21.0</td>\n      <td>41.7</td>\n    </tr>\n    <tr>\n      <th>35</th>\n      <td>2022-05-07</td>\n      <td>15:30</td>\n      <td>Bundesliga</td>\n      <td>Matchweek 33</td>\n      <td>Sat</td>\n      <td>Home</td>\n      <td>L</td>\n      <td>0</td>\n      <td>1</td>\n      <td>Wolfsburg</td>\n      <td>...</td>\n      <td>49</td>\n      <td>11</td>\n      <td>9</td>\n      <td>0.0</td>\n      <td>0.0</td>\n      <td>0</td>\n      <td>57.0</td>\n      <td>18.0</td>\n      <td>25.0</td>\n      <td>41.9</td>\n    </tr>\n    <tr>\n      <th>36</th>\n      <td>2022-05-14</td>\n      <td>15:30</td>\n      <td>Bundesliga</td>\n      <td>Matchweek 34</td>\n      <td>Sat</td>\n      <td>Away</td>\n      <td>L</td>\n      <td>1</td>\n      <td>2</td>\n      <td>Stuttgart</td>\n      <td>...</td>\n      <td>35</td>\n      <td>2</td>\n      <td>14</td>\n      <td>0.0</td>\n      <td>1.0</td>\n      <td>0</td>\n      <td>52.0</td>\n      <td>7.0</td>\n      <td>24.0</td>\n      <td>22.6</td>\n    </tr>\n  </tbody>\n</table>\n<p>10 rows × 230 columns</p>\n</div>"
     },
     "execution_count": 42,
     "metadata": {},
     "output_type": "execute_result"
    }
   ],
   "source": [
    "all_matches_df.tail(10)"
   ],
   "metadata": {
    "collapsed": false,
    "ExecuteTime": {
     "end_time": "2023-10-02T11:37:37.476088917Z",
     "start_time": "2023-10-02T11:37:37.471122374Z"
    }
   },
   "id": "350eabefe399d4df"
  },
  {
   "cell_type": "markdown",
   "source": [
    "From the above extraction, we can further clean the data:"
   ],
   "metadata": {
    "collapsed": false
   },
   "id": "efe100b3cca998c"
  },
  {
   "cell_type": "markdown",
   "source": [
    "The first observation is that `comp` and `shooting_comp` contain the same information. We know that there are other categories' `comp` column. Check all columns that contain `comp` in their name. Same applies to `round`, `day`, `venue`, `result`, `gf`, `ga` and `opponent`."
   ],
   "metadata": {
    "collapsed": false
   },
   "id": "92dd72068a240e34"
  },
  {
   "cell_type": "code",
   "execution_count": 43,
   "outputs": [
    {
     "data": {
      "text/plain": "         comp shooting_comp keeper_comp passing_comp passing_types_comp  \\\n0   DFB-Pokal     DFB-Pokal   DFB-Pokal    DFB-Pokal          DFB-Pokal   \n1  Bundesliga    Bundesliga  Bundesliga   Bundesliga         Bundesliga   \n2  Bundesliga    Bundesliga  Bundesliga   Bundesliga         Bundesliga   \n3  Bundesliga    Bundesliga  Bundesliga   Bundesliga         Bundesliga   \n4  Bundesliga    Bundesliga  Bundesliga   Bundesliga         Bundesliga   \n\n     gca_comp defense_comp possession_comp   misc_comp  \n0   DFB-Pokal    DFB-Pokal       DFB-Pokal   DFB-Pokal  \n1  Bundesliga   Bundesliga      Bundesliga  Bundesliga  \n2  Bundesliga   Bundesliga      Bundesliga  Bundesliga  \n3  Bundesliga   Bundesliga      Bundesliga  Bundesliga  \n4  Bundesliga   Bundesliga      Bundesliga  Bundesliga  ",
      "text/html": "<div>\n<style scoped>\n    .dataframe tbody tr th:only-of-type {\n        vertical-align: middle;\n    }\n\n    .dataframe tbody tr th {\n        vertical-align: top;\n    }\n\n    .dataframe thead th {\n        text-align: right;\n    }\n</style>\n<table border=\"1\" class=\"dataframe\">\n  <thead>\n    <tr style=\"text-align: right;\">\n      <th></th>\n      <th>comp</th>\n      <th>shooting_comp</th>\n      <th>keeper_comp</th>\n      <th>passing_comp</th>\n      <th>passing_types_comp</th>\n      <th>gca_comp</th>\n      <th>defense_comp</th>\n      <th>possession_comp</th>\n      <th>misc_comp</th>\n    </tr>\n  </thead>\n  <tbody>\n    <tr>\n      <th>0</th>\n      <td>DFB-Pokal</td>\n      <td>DFB-Pokal</td>\n      <td>DFB-Pokal</td>\n      <td>DFB-Pokal</td>\n      <td>DFB-Pokal</td>\n      <td>DFB-Pokal</td>\n      <td>DFB-Pokal</td>\n      <td>DFB-Pokal</td>\n      <td>DFB-Pokal</td>\n    </tr>\n    <tr>\n      <th>1</th>\n      <td>Bundesliga</td>\n      <td>Bundesliga</td>\n      <td>Bundesliga</td>\n      <td>Bundesliga</td>\n      <td>Bundesliga</td>\n      <td>Bundesliga</td>\n      <td>Bundesliga</td>\n      <td>Bundesliga</td>\n      <td>Bundesliga</td>\n    </tr>\n    <tr>\n      <th>2</th>\n      <td>Bundesliga</td>\n      <td>Bundesliga</td>\n      <td>Bundesliga</td>\n      <td>Bundesliga</td>\n      <td>Bundesliga</td>\n      <td>Bundesliga</td>\n      <td>Bundesliga</td>\n      <td>Bundesliga</td>\n      <td>Bundesliga</td>\n    </tr>\n    <tr>\n      <th>3</th>\n      <td>Bundesliga</td>\n      <td>Bundesliga</td>\n      <td>Bundesliga</td>\n      <td>Bundesliga</td>\n      <td>Bundesliga</td>\n      <td>Bundesliga</td>\n      <td>Bundesliga</td>\n      <td>Bundesliga</td>\n      <td>Bundesliga</td>\n    </tr>\n    <tr>\n      <th>4</th>\n      <td>Bundesliga</td>\n      <td>Bundesliga</td>\n      <td>Bundesliga</td>\n      <td>Bundesliga</td>\n      <td>Bundesliga</td>\n      <td>Bundesliga</td>\n      <td>Bundesliga</td>\n      <td>Bundesliga</td>\n      <td>Bundesliga</td>\n    </tr>\n  </tbody>\n</table>\n</div>"
     },
     "execution_count": 43,
     "metadata": {},
     "output_type": "execute_result"
    }
   ],
   "source": [
    "all_matches_df.filter(regex='.*comp.*').head(5)"
   ],
   "metadata": {
    "collapsed": false,
    "ExecuteTime": {
     "end_time": "2023-10-02T11:37:41.307899154Z",
     "start_time": "2023-10-02T11:37:41.304908417Z"
    }
   },
   "id": "b268ba5ee3b53995"
  },
  {
   "cell_type": "code",
   "execution_count": 44,
   "outputs": [
    {
     "data": {
      "text/plain": "         round shooting_round keeper_round passing_round passing_types_round  \\\n0  First round    First round  First round   First round         First round   \n1  Matchweek 1    Matchweek 1  Matchweek 1   Matchweek 1         Matchweek 1   \n2  Matchweek 2    Matchweek 2  Matchweek 2   Matchweek 2         Matchweek 2   \n3  Matchweek 3    Matchweek 3  Matchweek 3   Matchweek 3         Matchweek 3   \n4  Matchweek 4    Matchweek 4  Matchweek 4   Matchweek 4         Matchweek 4   \n\n     gca_round defense_round possession_round   misc_round  \n0  First round   First round      First round  First round  \n1  Matchweek 1   Matchweek 1      Matchweek 1  Matchweek 1  \n2  Matchweek 2   Matchweek 2      Matchweek 2  Matchweek 2  \n3  Matchweek 3   Matchweek 3      Matchweek 3  Matchweek 3  \n4  Matchweek 4   Matchweek 4      Matchweek 4  Matchweek 4  ",
      "text/html": "<div>\n<style scoped>\n    .dataframe tbody tr th:only-of-type {\n        vertical-align: middle;\n    }\n\n    .dataframe tbody tr th {\n        vertical-align: top;\n    }\n\n    .dataframe thead th {\n        text-align: right;\n    }\n</style>\n<table border=\"1\" class=\"dataframe\">\n  <thead>\n    <tr style=\"text-align: right;\">\n      <th></th>\n      <th>round</th>\n      <th>shooting_round</th>\n      <th>keeper_round</th>\n      <th>passing_round</th>\n      <th>passing_types_round</th>\n      <th>gca_round</th>\n      <th>defense_round</th>\n      <th>possession_round</th>\n      <th>misc_round</th>\n    </tr>\n  </thead>\n  <tbody>\n    <tr>\n      <th>0</th>\n      <td>First round</td>\n      <td>First round</td>\n      <td>First round</td>\n      <td>First round</td>\n      <td>First round</td>\n      <td>First round</td>\n      <td>First round</td>\n      <td>First round</td>\n      <td>First round</td>\n    </tr>\n    <tr>\n      <th>1</th>\n      <td>Matchweek 1</td>\n      <td>Matchweek 1</td>\n      <td>Matchweek 1</td>\n      <td>Matchweek 1</td>\n      <td>Matchweek 1</td>\n      <td>Matchweek 1</td>\n      <td>Matchweek 1</td>\n      <td>Matchweek 1</td>\n      <td>Matchweek 1</td>\n    </tr>\n    <tr>\n      <th>2</th>\n      <td>Matchweek 2</td>\n      <td>Matchweek 2</td>\n      <td>Matchweek 2</td>\n      <td>Matchweek 2</td>\n      <td>Matchweek 2</td>\n      <td>Matchweek 2</td>\n      <td>Matchweek 2</td>\n      <td>Matchweek 2</td>\n      <td>Matchweek 2</td>\n    </tr>\n    <tr>\n      <th>3</th>\n      <td>Matchweek 3</td>\n      <td>Matchweek 3</td>\n      <td>Matchweek 3</td>\n      <td>Matchweek 3</td>\n      <td>Matchweek 3</td>\n      <td>Matchweek 3</td>\n      <td>Matchweek 3</td>\n      <td>Matchweek 3</td>\n      <td>Matchweek 3</td>\n    </tr>\n    <tr>\n      <th>4</th>\n      <td>Matchweek 4</td>\n      <td>Matchweek 4</td>\n      <td>Matchweek 4</td>\n      <td>Matchweek 4</td>\n      <td>Matchweek 4</td>\n      <td>Matchweek 4</td>\n      <td>Matchweek 4</td>\n      <td>Matchweek 4</td>\n      <td>Matchweek 4</td>\n    </tr>\n  </tbody>\n</table>\n</div>"
     },
     "execution_count": 44,
     "metadata": {},
     "output_type": "execute_result"
    }
   ],
   "source": [
    "all_matches_df.filter(regex='.*round.*').head(5)"
   ],
   "metadata": {
    "collapsed": false,
    "ExecuteTime": {
     "end_time": "2023-10-02T11:38:01.019508903Z",
     "start_time": "2023-10-02T11:38:00.986014279Z"
    }
   },
   "id": "5920cbdea82151a2"
  },
  {
   "cell_type": "code",
   "execution_count": 45,
   "outputs": [
    {
     "data": {
      "text/plain": "   day shooting_day keeper_day passing_day passing_types_day gca_day  \\\n0  Sat          Sat        Sat         Sat               Sat     Sat   \n1  Sat          Sat        Sat         Sat               Sat     Sat   \n2  Fri          Fri        Fri         Fri               Fri     Fri   \n3  Sat          Sat        Sat         Sat               Sat     Sat   \n4  Sun          Sun        Sun         Sun               Sun     Sun   \n\n  defense_day possession_day misc_day  \n0         Sat            Sat      Sat  \n1         Sat            Sat      Sat  \n2         Fri            Fri      Fri  \n3         Sat            Sat      Sat  \n4         Sun            Sun      Sun  ",
      "text/html": "<div>\n<style scoped>\n    .dataframe tbody tr th:only-of-type {\n        vertical-align: middle;\n    }\n\n    .dataframe tbody tr th {\n        vertical-align: top;\n    }\n\n    .dataframe thead th {\n        text-align: right;\n    }\n</style>\n<table border=\"1\" class=\"dataframe\">\n  <thead>\n    <tr style=\"text-align: right;\">\n      <th></th>\n      <th>day</th>\n      <th>shooting_day</th>\n      <th>keeper_day</th>\n      <th>passing_day</th>\n      <th>passing_types_day</th>\n      <th>gca_day</th>\n      <th>defense_day</th>\n      <th>possession_day</th>\n      <th>misc_day</th>\n    </tr>\n  </thead>\n  <tbody>\n    <tr>\n      <th>0</th>\n      <td>Sat</td>\n      <td>Sat</td>\n      <td>Sat</td>\n      <td>Sat</td>\n      <td>Sat</td>\n      <td>Sat</td>\n      <td>Sat</td>\n      <td>Sat</td>\n      <td>Sat</td>\n    </tr>\n    <tr>\n      <th>1</th>\n      <td>Sat</td>\n      <td>Sat</td>\n      <td>Sat</td>\n      <td>Sat</td>\n      <td>Sat</td>\n      <td>Sat</td>\n      <td>Sat</td>\n      <td>Sat</td>\n      <td>Sat</td>\n    </tr>\n    <tr>\n      <th>2</th>\n      <td>Fri</td>\n      <td>Fri</td>\n      <td>Fri</td>\n      <td>Fri</td>\n      <td>Fri</td>\n      <td>Fri</td>\n      <td>Fri</td>\n      <td>Fri</td>\n      <td>Fri</td>\n    </tr>\n    <tr>\n      <th>3</th>\n      <td>Sat</td>\n      <td>Sat</td>\n      <td>Sat</td>\n      <td>Sat</td>\n      <td>Sat</td>\n      <td>Sat</td>\n      <td>Sat</td>\n      <td>Sat</td>\n      <td>Sat</td>\n    </tr>\n    <tr>\n      <th>4</th>\n      <td>Sun</td>\n      <td>Sun</td>\n      <td>Sun</td>\n      <td>Sun</td>\n      <td>Sun</td>\n      <td>Sun</td>\n      <td>Sun</td>\n      <td>Sun</td>\n      <td>Sun</td>\n    </tr>\n  </tbody>\n</table>\n</div>"
     },
     "execution_count": 45,
     "metadata": {},
     "output_type": "execute_result"
    }
   ],
   "source": [
    "all_matches_df.filter(regex='.*day.*').head(5)"
   ],
   "metadata": {
    "collapsed": false,
    "ExecuteTime": {
     "end_time": "2023-10-02T11:38:04.662296538Z",
     "start_time": "2023-10-02T11:38:04.631637744Z"
    }
   },
   "id": "ec9bef8b688c6d50"
  },
  {
   "cell_type": "code",
   "execution_count": 46,
   "outputs": [
    {
     "data": {
      "text/plain": "  venue shooting_venue keeper_venue passing_venue passing_types_venue  \\\n0  Away           Away         Away          Away                Away   \n1  Home           Home         Home          Home                Home   \n2  Away           Away         Away          Away                Away   \n3  Home           Home         Home          Home                Home   \n4  Away           Away         Away          Away                Away   \n\n  gca_venue defense_venue possession_venue misc_venue  \n0      Away          Away             Away       Away  \n1      Home          Home             Home       Home  \n2      Away          Away             Away       Away  \n3      Home          Home             Home       Home  \n4      Away          Away             Away       Away  ",
      "text/html": "<div>\n<style scoped>\n    .dataframe tbody tr th:only-of-type {\n        vertical-align: middle;\n    }\n\n    .dataframe tbody tr th {\n        vertical-align: top;\n    }\n\n    .dataframe thead th {\n        text-align: right;\n    }\n</style>\n<table border=\"1\" class=\"dataframe\">\n  <thead>\n    <tr style=\"text-align: right;\">\n      <th></th>\n      <th>venue</th>\n      <th>shooting_venue</th>\n      <th>keeper_venue</th>\n      <th>passing_venue</th>\n      <th>passing_types_venue</th>\n      <th>gca_venue</th>\n      <th>defense_venue</th>\n      <th>possession_venue</th>\n      <th>misc_venue</th>\n    </tr>\n  </thead>\n  <tbody>\n    <tr>\n      <th>0</th>\n      <td>Away</td>\n      <td>Away</td>\n      <td>Away</td>\n      <td>Away</td>\n      <td>Away</td>\n      <td>Away</td>\n      <td>Away</td>\n      <td>Away</td>\n      <td>Away</td>\n    </tr>\n    <tr>\n      <th>1</th>\n      <td>Home</td>\n      <td>Home</td>\n      <td>Home</td>\n      <td>Home</td>\n      <td>Home</td>\n      <td>Home</td>\n      <td>Home</td>\n      <td>Home</td>\n      <td>Home</td>\n    </tr>\n    <tr>\n      <th>2</th>\n      <td>Away</td>\n      <td>Away</td>\n      <td>Away</td>\n      <td>Away</td>\n      <td>Away</td>\n      <td>Away</td>\n      <td>Away</td>\n      <td>Away</td>\n      <td>Away</td>\n    </tr>\n    <tr>\n      <th>3</th>\n      <td>Home</td>\n      <td>Home</td>\n      <td>Home</td>\n      <td>Home</td>\n      <td>Home</td>\n      <td>Home</td>\n      <td>Home</td>\n      <td>Home</td>\n      <td>Home</td>\n    </tr>\n    <tr>\n      <th>4</th>\n      <td>Away</td>\n      <td>Away</td>\n      <td>Away</td>\n      <td>Away</td>\n      <td>Away</td>\n      <td>Away</td>\n      <td>Away</td>\n      <td>Away</td>\n      <td>Away</td>\n    </tr>\n  </tbody>\n</table>\n</div>"
     },
     "execution_count": 46,
     "metadata": {},
     "output_type": "execute_result"
    }
   ],
   "source": [
    "all_matches_df.filter(regex='.*venue.*').head(5)"
   ],
   "metadata": {
    "collapsed": false,
    "ExecuteTime": {
     "end_time": "2023-10-02T11:38:08.965041317Z",
     "start_time": "2023-10-02T11:38:08.938319119Z"
    }
   },
   "id": "11950c323588861a"
  },
  {
   "cell_type": "code",
   "execution_count": 47,
   "outputs": [
    {
     "data": {
      "text/plain": "  result shooting_result keeper_result passing_result passing_types_result  \\\n0      W               W             W              W                    W   \n1      D               D             D              D                    D   \n2      W               W             W              W                    W   \n3      W               W             W              W                    W   \n4      D               D             D              D                    D   \n\n  gca_result defense_result possession_result misc_result  \n0          W              W                 W           W  \n1          D              D                 D           D  \n2          W              W                 W           W  \n3          W              W                 W           W  \n4          D              D                 D           D  ",
      "text/html": "<div>\n<style scoped>\n    .dataframe tbody tr th:only-of-type {\n        vertical-align: middle;\n    }\n\n    .dataframe tbody tr th {\n        vertical-align: top;\n    }\n\n    .dataframe thead th {\n        text-align: right;\n    }\n</style>\n<table border=\"1\" class=\"dataframe\">\n  <thead>\n    <tr style=\"text-align: right;\">\n      <th></th>\n      <th>result</th>\n      <th>shooting_result</th>\n      <th>keeper_result</th>\n      <th>passing_result</th>\n      <th>passing_types_result</th>\n      <th>gca_result</th>\n      <th>defense_result</th>\n      <th>possession_result</th>\n      <th>misc_result</th>\n    </tr>\n  </thead>\n  <tbody>\n    <tr>\n      <th>0</th>\n      <td>W</td>\n      <td>W</td>\n      <td>W</td>\n      <td>W</td>\n      <td>W</td>\n      <td>W</td>\n      <td>W</td>\n      <td>W</td>\n      <td>W</td>\n    </tr>\n    <tr>\n      <th>1</th>\n      <td>D</td>\n      <td>D</td>\n      <td>D</td>\n      <td>D</td>\n      <td>D</td>\n      <td>D</td>\n      <td>D</td>\n      <td>D</td>\n      <td>D</td>\n    </tr>\n    <tr>\n      <th>2</th>\n      <td>W</td>\n      <td>W</td>\n      <td>W</td>\n      <td>W</td>\n      <td>W</td>\n      <td>W</td>\n      <td>W</td>\n      <td>W</td>\n      <td>W</td>\n    </tr>\n    <tr>\n      <th>3</th>\n      <td>W</td>\n      <td>W</td>\n      <td>W</td>\n      <td>W</td>\n      <td>W</td>\n      <td>W</td>\n      <td>W</td>\n      <td>W</td>\n      <td>W</td>\n    </tr>\n    <tr>\n      <th>4</th>\n      <td>D</td>\n      <td>D</td>\n      <td>D</td>\n      <td>D</td>\n      <td>D</td>\n      <td>D</td>\n      <td>D</td>\n      <td>D</td>\n      <td>D</td>\n    </tr>\n  </tbody>\n</table>\n</div>"
     },
     "execution_count": 47,
     "metadata": {},
     "output_type": "execute_result"
    }
   ],
   "source": [
    "all_matches_df.filter(regex='.*result.*').head(5)"
   ],
   "metadata": {
    "collapsed": false,
    "ExecuteTime": {
     "end_time": "2023-10-02T11:38:12.121955641Z",
     "start_time": "2023-10-02T11:38:12.109346592Z"
    }
   },
   "id": "e6437addfb13915d"
  },
  {
   "cell_type": "code",
   "execution_count": 48,
   "outputs": [
    {
     "data": {
      "text/plain": "  gf shooting_gf keeper_gf passing_gf passing_types_gf gca_gf defense_gf  \\\n0  2           2         2          2                2      2          2   \n1  1           1         1          1                1      1          1   \n2  3           3         3          3                3      3          3   \n3  2           2         2          2                2      2          2   \n4  1           1         1          1                1      1          1   \n\n  possession_gf misc_gf  \n0             2       2  \n1             1       1  \n2             3       3  \n3             2       2  \n4             1       1  ",
      "text/html": "<div>\n<style scoped>\n    .dataframe tbody tr th:only-of-type {\n        vertical-align: middle;\n    }\n\n    .dataframe tbody tr th {\n        vertical-align: top;\n    }\n\n    .dataframe thead th {\n        text-align: right;\n    }\n</style>\n<table border=\"1\" class=\"dataframe\">\n  <thead>\n    <tr style=\"text-align: right;\">\n      <th></th>\n      <th>gf</th>\n      <th>shooting_gf</th>\n      <th>keeper_gf</th>\n      <th>passing_gf</th>\n      <th>passing_types_gf</th>\n      <th>gca_gf</th>\n      <th>defense_gf</th>\n      <th>possession_gf</th>\n      <th>misc_gf</th>\n    </tr>\n  </thead>\n  <tbody>\n    <tr>\n      <th>0</th>\n      <td>2</td>\n      <td>2</td>\n      <td>2</td>\n      <td>2</td>\n      <td>2</td>\n      <td>2</td>\n      <td>2</td>\n      <td>2</td>\n      <td>2</td>\n    </tr>\n    <tr>\n      <th>1</th>\n      <td>1</td>\n      <td>1</td>\n      <td>1</td>\n      <td>1</td>\n      <td>1</td>\n      <td>1</td>\n      <td>1</td>\n      <td>1</td>\n      <td>1</td>\n    </tr>\n    <tr>\n      <th>2</th>\n      <td>3</td>\n      <td>3</td>\n      <td>3</td>\n      <td>3</td>\n      <td>3</td>\n      <td>3</td>\n      <td>3</td>\n      <td>3</td>\n      <td>3</td>\n    </tr>\n    <tr>\n      <th>3</th>\n      <td>2</td>\n      <td>2</td>\n      <td>2</td>\n      <td>2</td>\n      <td>2</td>\n      <td>2</td>\n      <td>2</td>\n      <td>2</td>\n      <td>2</td>\n    </tr>\n    <tr>\n      <th>4</th>\n      <td>1</td>\n      <td>1</td>\n      <td>1</td>\n      <td>1</td>\n      <td>1</td>\n      <td>1</td>\n      <td>1</td>\n      <td>1</td>\n      <td>1</td>\n    </tr>\n  </tbody>\n</table>\n</div>"
     },
     "execution_count": 48,
     "metadata": {},
     "output_type": "execute_result"
    }
   ],
   "source": [
    "all_matches_df.filter(regex='.*gf.*').head(5)"
   ],
   "metadata": {
    "collapsed": false,
    "ExecuteTime": {
     "end_time": "2023-10-02T11:39:05.468427553Z",
     "start_time": "2023-10-02T11:39:05.438307585Z"
    }
   },
   "id": "43d711095a49db82"
  },
  {
   "cell_type": "code",
   "execution_count": 50,
   "outputs": [
    {
     "data": {
      "text/plain": "  ga  xga shooting_ga keeper_ga keeper_performance_ga passing_ga  \\\n0  1  NaN           1         1                     1          1   \n1  1  0.8           1         1                     1          1   \n2  1  1.2           1         1                     1          1   \n3  1  1.4           1         1                     1          1   \n4  1  1.4           1         1                     1          1   \n\n  passing_types_ga gca_ga defense_ga possession_ga misc_ga  \n0                1      1          1             1       1  \n1                1      1          1             1       1  \n2                1      1          1             1       1  \n3                1      1          1             1       1  \n4                1      1          1             1       1  ",
      "text/html": "<div>\n<style scoped>\n    .dataframe tbody tr th:only-of-type {\n        vertical-align: middle;\n    }\n\n    .dataframe tbody tr th {\n        vertical-align: top;\n    }\n\n    .dataframe thead th {\n        text-align: right;\n    }\n</style>\n<table border=\"1\" class=\"dataframe\">\n  <thead>\n    <tr style=\"text-align: right;\">\n      <th></th>\n      <th>ga</th>\n      <th>xga</th>\n      <th>shooting_ga</th>\n      <th>keeper_ga</th>\n      <th>keeper_performance_ga</th>\n      <th>passing_ga</th>\n      <th>passing_types_ga</th>\n      <th>gca_ga</th>\n      <th>defense_ga</th>\n      <th>possession_ga</th>\n      <th>misc_ga</th>\n    </tr>\n  </thead>\n  <tbody>\n    <tr>\n      <th>0</th>\n      <td>1</td>\n      <td>NaN</td>\n      <td>1</td>\n      <td>1</td>\n      <td>1</td>\n      <td>1</td>\n      <td>1</td>\n      <td>1</td>\n      <td>1</td>\n      <td>1</td>\n      <td>1</td>\n    </tr>\n    <tr>\n      <th>1</th>\n      <td>1</td>\n      <td>0.8</td>\n      <td>1</td>\n      <td>1</td>\n      <td>1</td>\n      <td>1</td>\n      <td>1</td>\n      <td>1</td>\n      <td>1</td>\n      <td>1</td>\n      <td>1</td>\n    </tr>\n    <tr>\n      <th>2</th>\n      <td>1</td>\n      <td>1.2</td>\n      <td>1</td>\n      <td>1</td>\n      <td>1</td>\n      <td>1</td>\n      <td>1</td>\n      <td>1</td>\n      <td>1</td>\n      <td>1</td>\n      <td>1</td>\n    </tr>\n    <tr>\n      <th>3</th>\n      <td>1</td>\n      <td>1.4</td>\n      <td>1</td>\n      <td>1</td>\n      <td>1</td>\n      <td>1</td>\n      <td>1</td>\n      <td>1</td>\n      <td>1</td>\n      <td>1</td>\n      <td>1</td>\n    </tr>\n    <tr>\n      <th>4</th>\n      <td>1</td>\n      <td>1.4</td>\n      <td>1</td>\n      <td>1</td>\n      <td>1</td>\n      <td>1</td>\n      <td>1</td>\n      <td>1</td>\n      <td>1</td>\n      <td>1</td>\n      <td>1</td>\n    </tr>\n  </tbody>\n</table>\n</div>"
     },
     "execution_count": 50,
     "metadata": {},
     "output_type": "execute_result"
    }
   ],
   "source": [
    "all_matches_df.filter(regex='.*ga.*').head(5)"
   ],
   "metadata": {
    "collapsed": false,
    "ExecuteTime": {
     "end_time": "2023-10-02T11:39:09.954004517Z",
     "start_time": "2023-10-02T11:39:09.920051807Z"
    }
   },
   "id": "24fa2fd4ab4c7aeb"
  },
  {
   "cell_type": "code",
   "execution_count": 52,
   "outputs": [
    {
     "data": {
      "text/plain": "      opponent shooting_opponent keeper_opponent passing_opponent  \\\n0  1860 Munich       1860 Munich     1860 Munich      1860 Munich   \n1      Arminia           Arminia         Arminia          Arminia   \n2   Hertha BSC        Hertha BSC      Hertha BSC       Hertha BSC   \n3   Hoffenheim        Hoffenheim      Hoffenheim       Hoffenheim   \n4         Köln              Köln            Köln             Köln   \n\n  passing_types_opponent gca_opponent defense_opponent possession_opponent  \\\n0            1860 Munich  1860 Munich      1860 Munich         1860 Munich   \n1                Arminia      Arminia          Arminia             Arminia   \n2             Hertha BSC   Hertha BSC       Hertha BSC          Hertha BSC   \n3             Hoffenheim   Hoffenheim       Hoffenheim          Hoffenheim   \n4                   Köln         Köln             Köln                Köln   \n\n  misc_opponent  \n0   1860 Munich  \n1       Arminia  \n2    Hertha BSC  \n3    Hoffenheim  \n4          Köln  ",
      "text/html": "<div>\n<style scoped>\n    .dataframe tbody tr th:only-of-type {\n        vertical-align: middle;\n    }\n\n    .dataframe tbody tr th {\n        vertical-align: top;\n    }\n\n    .dataframe thead th {\n        text-align: right;\n    }\n</style>\n<table border=\"1\" class=\"dataframe\">\n  <thead>\n    <tr style=\"text-align: right;\">\n      <th></th>\n      <th>opponent</th>\n      <th>shooting_opponent</th>\n      <th>keeper_opponent</th>\n      <th>passing_opponent</th>\n      <th>passing_types_opponent</th>\n      <th>gca_opponent</th>\n      <th>defense_opponent</th>\n      <th>possession_opponent</th>\n      <th>misc_opponent</th>\n    </tr>\n  </thead>\n  <tbody>\n    <tr>\n      <th>0</th>\n      <td>1860 Munich</td>\n      <td>1860 Munich</td>\n      <td>1860 Munich</td>\n      <td>1860 Munich</td>\n      <td>1860 Munich</td>\n      <td>1860 Munich</td>\n      <td>1860 Munich</td>\n      <td>1860 Munich</td>\n      <td>1860 Munich</td>\n    </tr>\n    <tr>\n      <th>1</th>\n      <td>Arminia</td>\n      <td>Arminia</td>\n      <td>Arminia</td>\n      <td>Arminia</td>\n      <td>Arminia</td>\n      <td>Arminia</td>\n      <td>Arminia</td>\n      <td>Arminia</td>\n      <td>Arminia</td>\n    </tr>\n    <tr>\n      <th>2</th>\n      <td>Hertha BSC</td>\n      <td>Hertha BSC</td>\n      <td>Hertha BSC</td>\n      <td>Hertha BSC</td>\n      <td>Hertha BSC</td>\n      <td>Hertha BSC</td>\n      <td>Hertha BSC</td>\n      <td>Hertha BSC</td>\n      <td>Hertha BSC</td>\n    </tr>\n    <tr>\n      <th>3</th>\n      <td>Hoffenheim</td>\n      <td>Hoffenheim</td>\n      <td>Hoffenheim</td>\n      <td>Hoffenheim</td>\n      <td>Hoffenheim</td>\n      <td>Hoffenheim</td>\n      <td>Hoffenheim</td>\n      <td>Hoffenheim</td>\n      <td>Hoffenheim</td>\n    </tr>\n    <tr>\n      <th>4</th>\n      <td>Köln</td>\n      <td>Köln</td>\n      <td>Köln</td>\n      <td>Köln</td>\n      <td>Köln</td>\n      <td>Köln</td>\n      <td>Köln</td>\n      <td>Köln</td>\n      <td>Köln</td>\n    </tr>\n  </tbody>\n</table>\n</div>"
     },
     "execution_count": 52,
     "metadata": {},
     "output_type": "execute_result"
    }
   ],
   "source": [
    "all_matches_df.filter(regex='.*opponent.*').head(5)"
   ],
   "metadata": {
    "collapsed": false,
    "ExecuteTime": {
     "end_time": "2023-10-02T11:39:15.563586575Z",
     "start_time": "2023-10-02T11:39:15.530488650Z"
    }
   },
   "id": "7adde88ca9d9a764"
  },
  {
   "cell_type": "markdown",
   "source": [
    "Drop all columns that contain the same information as other columns."
   ],
   "metadata": {
    "collapsed": false
   },
   "id": "d606d13cde019115"
  },
  {
   "cell_type": "code",
   "execution_count": 57,
   "outputs": [],
   "source": [
    "all_matches_df = all_matches_df.loc[:,~all_matches_df.columns.str.contains('_comp')]\n",
    "all_matches_df = all_matches_df.loc[:,~all_matches_df.columns.str.contains('_round')]\n",
    "all_matches_df = all_matches_df.loc[:,~all_matches_df.columns.str.contains('_day')]\n",
    "all_matches_df = all_matches_df.loc[:,~all_matches_df.columns.str.contains('_venue')]\n",
    "all_matches_df = all_matches_df.loc[:,~all_matches_df.columns.str.contains('_result')]\n",
    "all_matches_df = all_matches_df.loc[:,~all_matches_df.columns.str.contains('_gf')]\n",
    "all_matches_df = all_matches_df.loc[:,~all_matches_df.columns.str.contains('_ga')]\n",
    "all_matches_df = all_matches_df.loc[:,~all_matches_df.columns.str.contains('_opponent')]"
   ],
   "metadata": {
    "collapsed": false,
    "ExecuteTime": {
     "end_time": "2023-10-02T11:44:05.706017259Z",
     "start_time": "2023-10-02T11:44:05.666091321Z"
    }
   },
   "id": "c7853a0f3468a6c3"
  },
  {
   "cell_type": "markdown",
   "source": [
    "The columns above were simple to spot but I assume there are other ones that contain the same information. I looked on the Internet on how to do this and found the following solution at [https://stackoverflow.com/a/58002867/9553927](https://stackoverflow.com/a/58002867/9553927)."
   ],
   "metadata": {
    "collapsed": false
   },
   "id": "9c12dc7494182e59"
  },
  {
   "cell_type": "code",
   "execution_count": 65,
   "outputs": [
    {
     "data": {
      "text/plain": "[('xg', 'shooting_expected_xg'),\n ('poss', 'possession_poss'),\n ('defense_tackles_tklw', 'misc_performance_tklw'),\n ('defense_int', 'misc_performance_int')]"
     },
     "execution_count": 65,
     "metadata": {},
     "output_type": "execute_result"
    }
   ],
   "source": [
    "from itertools import combinations\n",
    "\n",
    "list_of_equal_cols = [(i, j) for i,j in combinations(all_matches_df, 2) if all_matches_df[i].equals(all_matches_df[j])]\n",
    "list_of_equal_cols"
   ],
   "metadata": {
    "collapsed": false,
    "ExecuteTime": {
     "end_time": "2023-10-02T11:51:31.221062124Z",
     "start_time": "2023-10-02T11:51:31.135171585Z"
    }
   },
   "id": "eae6c02f37ce4b"
  },
  {
   "cell_type": "markdown",
   "source": [
    "Pick the second item from each tuple and drop it from the dataframe."
   ],
   "metadata": {
    "collapsed": false
   },
   "id": "346acca510802a1a"
  },
  {
   "cell_type": "code",
   "execution_count": 67,
   "outputs": [],
   "source": [
    "cols_to_drop = [item[1] for item in list_of_equal_cols]\n",
    "all_matches_df = all_matches_df.drop(cols_to_drop, axis=1)"
   ],
   "metadata": {
    "collapsed": false,
    "ExecuteTime": {
     "end_time": "2023-10-02T11:52:57.906798575Z",
     "start_time": "2023-10-02T11:52:57.903815242Z"
    }
   },
   "id": "d401c6832808d983"
  },
  {
   "cell_type": "markdown",
   "source": [
    "Remove the `notes` column as it doesn't provide any useful information."
   ],
   "metadata": {
    "collapsed": false
   },
   "id": "a37344bb4997fb28"
  },
  {
   "cell_type": "code",
   "execution_count": 73,
   "outputs": [],
   "source": [
    "all_matches_df = all_matches_df.drop('notes', axis=1)"
   ],
   "metadata": {
    "collapsed": false,
    "ExecuteTime": {
     "end_time": "2023-10-02T12:00:42.431700814Z",
     "start_time": "2023-10-02T12:00:42.382026089Z"
    }
   },
   "id": "dab6050557b5a48d"
  },
  {
   "cell_type": "markdown",
   "source": [
    "Show 3 matches from the Bundesliga and 3 matches from other competitions. Matches that are not in Bundesliga have a visibly high amount of `NaN` values.\n",
    "\n",
    "Add first column that shows how many `NaN` values there are in each row."
   ],
   "metadata": {
    "collapsed": false
   },
   "id": "336777f3cb2c3f17"
  },
  {
   "cell_type": "code",
   "execution_count": 86,
   "outputs": [
    {
     "data": {
      "text/plain": "    NaNs        date   time        comp         round  day venue result gf ga  \\\n1      0  2020-09-19  15:30  Bundesliga   Matchweek 1  Sat  Home      D  1  1   \n2      0  2020-09-25  20:30  Bundesliga   Matchweek 2  Fri  Away      W  3  1   \n3      0  2020-10-03  15:30  Bundesliga   Matchweek 3  Sat  Home      W  2  1   \n0    116  2020-09-12  15:30   DFB-Pokal   First round  Sat  Away      W  2  1   \n16   116  2021-01-12  20:45   DFB-Pokal  Second round  Tue  Away      L  1  4   \n0    115  2018-08-20  18:30   DFB-Pokal   First round  Mon  Away      W  2  1   \n\n    ... misc_performance_fld  misc_performance_off  misc_performance_crs  \\\n1   ...                   11                     2                    35   \n2   ...                   13                     0                    15   \n3   ...                    7                     9                    22   \n0   ...                   13                     6                    22   \n16  ...                    7                     6                    12   \n0   ...                   13                     1                    11   \n\n    misc_performance_pkwon  misc_performance_pkcon misc_performance_og  \\\n1                      0.0                     0.0                   0   \n2                      1.0                     0.0                   1   \n3                      0.0                     0.0                   0   \n0                      NaN                     NaN                   0   \n16                     NaN                     NaN                   0   \n0                      NaN                     NaN                   0   \n\n   misc_performance_recov misc_aerial_duels_won misc_aerial_duels_lost  \\\n1                    63.0                  17.0                   15.0   \n2                    57.0                  23.0                   12.0   \n3                    56.0                  24.0                    9.0   \n0                     NaN                   NaN                    NaN   \n16                    NaN                   NaN                    NaN   \n0                     NaN                   NaN                    NaN   \n\n    misc_aerial_duels_won%  \n1                     53.1  \n2                     65.7  \n3                     72.7  \n0                      NaN  \n16                     NaN  \n0                      NaN  \n\n[6 rows x 161 columns]",
      "text/html": "<div>\n<style scoped>\n    .dataframe tbody tr th:only-of-type {\n        vertical-align: middle;\n    }\n\n    .dataframe tbody tr th {\n        vertical-align: top;\n    }\n\n    .dataframe thead th {\n        text-align: right;\n    }\n</style>\n<table border=\"1\" class=\"dataframe\">\n  <thead>\n    <tr style=\"text-align: right;\">\n      <th></th>\n      <th>NaNs</th>\n      <th>date</th>\n      <th>time</th>\n      <th>comp</th>\n      <th>round</th>\n      <th>day</th>\n      <th>venue</th>\n      <th>result</th>\n      <th>gf</th>\n      <th>ga</th>\n      <th>...</th>\n      <th>misc_performance_fld</th>\n      <th>misc_performance_off</th>\n      <th>misc_performance_crs</th>\n      <th>misc_performance_pkwon</th>\n      <th>misc_performance_pkcon</th>\n      <th>misc_performance_og</th>\n      <th>misc_performance_recov</th>\n      <th>misc_aerial_duels_won</th>\n      <th>misc_aerial_duels_lost</th>\n      <th>misc_aerial_duels_won%</th>\n    </tr>\n  </thead>\n  <tbody>\n    <tr>\n      <th>1</th>\n      <td>0</td>\n      <td>2020-09-19</td>\n      <td>15:30</td>\n      <td>Bundesliga</td>\n      <td>Matchweek 1</td>\n      <td>Sat</td>\n      <td>Home</td>\n      <td>D</td>\n      <td>1</td>\n      <td>1</td>\n      <td>...</td>\n      <td>11</td>\n      <td>2</td>\n      <td>35</td>\n      <td>0.0</td>\n      <td>0.0</td>\n      <td>0</td>\n      <td>63.0</td>\n      <td>17.0</td>\n      <td>15.0</td>\n      <td>53.1</td>\n    </tr>\n    <tr>\n      <th>2</th>\n      <td>0</td>\n      <td>2020-09-25</td>\n      <td>20:30</td>\n      <td>Bundesliga</td>\n      <td>Matchweek 2</td>\n      <td>Fri</td>\n      <td>Away</td>\n      <td>W</td>\n      <td>3</td>\n      <td>1</td>\n      <td>...</td>\n      <td>13</td>\n      <td>0</td>\n      <td>15</td>\n      <td>1.0</td>\n      <td>0.0</td>\n      <td>1</td>\n      <td>57.0</td>\n      <td>23.0</td>\n      <td>12.0</td>\n      <td>65.7</td>\n    </tr>\n    <tr>\n      <th>3</th>\n      <td>0</td>\n      <td>2020-10-03</td>\n      <td>15:30</td>\n      <td>Bundesliga</td>\n      <td>Matchweek 3</td>\n      <td>Sat</td>\n      <td>Home</td>\n      <td>W</td>\n      <td>2</td>\n      <td>1</td>\n      <td>...</td>\n      <td>7</td>\n      <td>9</td>\n      <td>22</td>\n      <td>0.0</td>\n      <td>0.0</td>\n      <td>0</td>\n      <td>56.0</td>\n      <td>24.0</td>\n      <td>9.0</td>\n      <td>72.7</td>\n    </tr>\n    <tr>\n      <th>0</th>\n      <td>116</td>\n      <td>2020-09-12</td>\n      <td>15:30</td>\n      <td>DFB-Pokal</td>\n      <td>First round</td>\n      <td>Sat</td>\n      <td>Away</td>\n      <td>W</td>\n      <td>2</td>\n      <td>1</td>\n      <td>...</td>\n      <td>13</td>\n      <td>6</td>\n      <td>22</td>\n      <td>NaN</td>\n      <td>NaN</td>\n      <td>0</td>\n      <td>NaN</td>\n      <td>NaN</td>\n      <td>NaN</td>\n      <td>NaN</td>\n    </tr>\n    <tr>\n      <th>16</th>\n      <td>116</td>\n      <td>2021-01-12</td>\n      <td>20:45</td>\n      <td>DFB-Pokal</td>\n      <td>Second round</td>\n      <td>Tue</td>\n      <td>Away</td>\n      <td>L</td>\n      <td>1</td>\n      <td>4</td>\n      <td>...</td>\n      <td>7</td>\n      <td>6</td>\n      <td>12</td>\n      <td>NaN</td>\n      <td>NaN</td>\n      <td>0</td>\n      <td>NaN</td>\n      <td>NaN</td>\n      <td>NaN</td>\n      <td>NaN</td>\n    </tr>\n    <tr>\n      <th>0</th>\n      <td>115</td>\n      <td>2018-08-20</td>\n      <td>18:30</td>\n      <td>DFB-Pokal</td>\n      <td>First round</td>\n      <td>Mon</td>\n      <td>Away</td>\n      <td>W</td>\n      <td>2</td>\n      <td>1</td>\n      <td>...</td>\n      <td>13</td>\n      <td>1</td>\n      <td>11</td>\n      <td>NaN</td>\n      <td>NaN</td>\n      <td>0</td>\n      <td>NaN</td>\n      <td>NaN</td>\n      <td>NaN</td>\n      <td>NaN</td>\n    </tr>\n  </tbody>\n</table>\n<p>6 rows × 161 columns</p>\n</div>"
     },
     "execution_count": 86,
     "metadata": {},
     "output_type": "execute_result"
    }
   ],
   "source": [
    "bundesliga_df = all_matches_df[all_matches_df['comp'] == 'Bundesliga'].head(3)\n",
    "other_df = all_matches_df[all_matches_df['comp'] != 'Bundesliga'].head(3)\n",
    "\n",
    "combined_df = pd.concat([bundesliga_df, other_df])\n",
    "combined_df.insert(loc=0, column='NaNs', value=combined_df.isnull().sum(axis=1))\n",
    "combined_df"
   ],
   "metadata": {
    "collapsed": false,
    "ExecuteTime": {
     "end_time": "2023-10-02T12:06:53.878765267Z",
     "start_time": "2023-10-02T12:06:53.861937479Z"
    }
   },
   "id": "5222c78a9e9b0a04"
  },
  {
   "cell_type": "markdown",
   "source": [
    "Drop all rows whose comp isn't `Bundesliga`."
   ],
   "metadata": {
    "collapsed": false
   },
   "id": "24ecbf54d9727f6c"
  },
  {
   "cell_type": "code",
   "execution_count": 87,
   "outputs": [],
   "source": [
    "all_matches_df = all_matches_df[all_matches_df['comp'] == 'Bundesliga']"
   ],
   "metadata": {
    "collapsed": false,
    "ExecuteTime": {
     "end_time": "2023-10-02T12:09:04.395362828Z",
     "start_time": "2023-10-02T12:09:04.349445600Z"
    }
   },
   "id": "76916d5c0ab4cfaf"
  },
  {
   "cell_type": "code",
   "execution_count": 88,
   "outputs": [
    {
     "data": {
      "text/plain": "(3682, 160)"
     },
     "execution_count": 88,
     "metadata": {},
     "output_type": "execute_result"
    }
   ],
   "source": [
    "all_matches_df.shape"
   ],
   "metadata": {
    "collapsed": false,
    "ExecuteTime": {
     "end_time": "2023-10-02T12:09:11.444414784Z",
     "start_time": "2023-10-02T12:09:11.427320271Z"
    }
   },
   "id": "7e4b9ddd70d4d5b8"
  },
  {
   "cell_type": "markdown",
   "source": [
    "Save the dataframe to a csv file."
   ],
   "metadata": {
    "collapsed": false
   },
   "id": "a1254a7f9f9a5664"
  },
  {
   "cell_type": "code",
   "execution_count": 90,
   "outputs": [],
   "source": [
    "all_matches_df.to_csv('./data/all_bundesliga_matches.csv', index=False)"
   ],
   "metadata": {
    "collapsed": false,
    "ExecuteTime": {
     "end_time": "2023-10-02T12:10:09.664741328Z",
     "start_time": "2023-10-02T12:10:09.516709521Z"
    }
   },
   "id": "f09b37da3a6443c8"
  }
 ],
 "metadata": {
  "kernelspec": {
   "display_name": "Python 3",
   "language": "python",
   "name": "python3"
  },
  "language_info": {
   "codemirror_mode": {
    "name": "ipython",
    "version": 2
   },
   "file_extension": ".py",
   "mimetype": "text/x-python",
   "name": "python",
   "nbconvert_exporter": "python",
   "pygments_lexer": "ipython2",
   "version": "2.7.6"
  }
 },
 "nbformat": 4,
 "nbformat_minor": 5
}
