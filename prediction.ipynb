{
 "cells": [
  {
   "cell_type": "code",
   "execution_count": 1,
   "id": "initial_id",
   "metadata": {
    "collapsed": true,
    "ExecuteTime": {
     "end_time": "2023-09-20T11:12:36.894439931Z",
     "start_time": "2023-09-20T11:12:36.715201930Z"
    }
   },
   "outputs": [],
   "source": [
    "import pandas as pd"
   ]
  },
  {
   "cell_type": "code",
   "execution_count": 2,
   "outputs": [],
   "source": [
    "matches = pd.read_csv('./data/matches.csv', index_col=0)"
   ],
   "metadata": {
    "collapsed": false,
    "ExecuteTime": {
     "end_time": "2023-09-20T11:12:52.230358280Z",
     "start_time": "2023-09-20T11:12:52.204974048Z"
    }
   },
   "id": "c5df5eee7b971be7"
  },
  {
   "cell_type": "code",
   "execution_count": 3,
   "outputs": [
    {
     "data": {
      "text/plain": "         date   time            comp        round  day venue result   gf   ga  \\\n1  2021-08-15  16:30  Premier League  Matchweek 1  Sun  Away      L  0.0  1.0   \n2  2021-08-21  15:00  Premier League  Matchweek 2  Sat  Home      W  5.0  0.0   \n3  2021-08-28  12:30  Premier League  Matchweek 3  Sat  Home      W  5.0  0.0   \n4  2021-09-11  15:00  Premier League  Matchweek 4  Sat  Away      W  1.0  0.0   \n6  2021-09-18  15:00  Premier League  Matchweek 5  Sat  Home      D  0.0  0.0   \n\n         opponent  ...  match report  notes    sh   sot  dist   fk   pk pkatt  \\\n1       Tottenham  ...  Match Report    NaN  18.0   4.0  16.9  1.0  0.0   0.0   \n2    Norwich City  ...  Match Report    NaN  16.0   4.0  17.3  1.0  0.0   0.0   \n3         Arsenal  ...  Match Report    NaN  25.0  10.0  14.3  0.0  0.0   0.0   \n4  Leicester City  ...  Match Report    NaN  25.0   8.0  14.0  0.0  0.0   0.0   \n6     Southampton  ...  Match Report    NaN  16.0   1.0  15.7  1.0  0.0   0.0   \n\n   season             team  \n1    2022  Manchester City  \n2    2022  Manchester City  \n3    2022  Manchester City  \n4    2022  Manchester City  \n6    2022  Manchester City  \n\n[5 rows x 27 columns]",
      "text/html": "<div>\n<style scoped>\n    .dataframe tbody tr th:only-of-type {\n        vertical-align: middle;\n    }\n\n    .dataframe tbody tr th {\n        vertical-align: top;\n    }\n\n    .dataframe thead th {\n        text-align: right;\n    }\n</style>\n<table border=\"1\" class=\"dataframe\">\n  <thead>\n    <tr style=\"text-align: right;\">\n      <th></th>\n      <th>date</th>\n      <th>time</th>\n      <th>comp</th>\n      <th>round</th>\n      <th>day</th>\n      <th>venue</th>\n      <th>result</th>\n      <th>gf</th>\n      <th>ga</th>\n      <th>opponent</th>\n      <th>...</th>\n      <th>match report</th>\n      <th>notes</th>\n      <th>sh</th>\n      <th>sot</th>\n      <th>dist</th>\n      <th>fk</th>\n      <th>pk</th>\n      <th>pkatt</th>\n      <th>season</th>\n      <th>team</th>\n    </tr>\n  </thead>\n  <tbody>\n    <tr>\n      <th>1</th>\n      <td>2021-08-15</td>\n      <td>16:30</td>\n      <td>Premier League</td>\n      <td>Matchweek 1</td>\n      <td>Sun</td>\n      <td>Away</td>\n      <td>L</td>\n      <td>0.0</td>\n      <td>1.0</td>\n      <td>Tottenham</td>\n      <td>...</td>\n      <td>Match Report</td>\n      <td>NaN</td>\n      <td>18.0</td>\n      <td>4.0</td>\n      <td>16.9</td>\n      <td>1.0</td>\n      <td>0.0</td>\n      <td>0.0</td>\n      <td>2022</td>\n      <td>Manchester City</td>\n    </tr>\n    <tr>\n      <th>2</th>\n      <td>2021-08-21</td>\n      <td>15:00</td>\n      <td>Premier League</td>\n      <td>Matchweek 2</td>\n      <td>Sat</td>\n      <td>Home</td>\n      <td>W</td>\n      <td>5.0</td>\n      <td>0.0</td>\n      <td>Norwich City</td>\n      <td>...</td>\n      <td>Match Report</td>\n      <td>NaN</td>\n      <td>16.0</td>\n      <td>4.0</td>\n      <td>17.3</td>\n      <td>1.0</td>\n      <td>0.0</td>\n      <td>0.0</td>\n      <td>2022</td>\n      <td>Manchester City</td>\n    </tr>\n    <tr>\n      <th>3</th>\n      <td>2021-08-28</td>\n      <td>12:30</td>\n      <td>Premier League</td>\n      <td>Matchweek 3</td>\n      <td>Sat</td>\n      <td>Home</td>\n      <td>W</td>\n      <td>5.0</td>\n      <td>0.0</td>\n      <td>Arsenal</td>\n      <td>...</td>\n      <td>Match Report</td>\n      <td>NaN</td>\n      <td>25.0</td>\n      <td>10.0</td>\n      <td>14.3</td>\n      <td>0.0</td>\n      <td>0.0</td>\n      <td>0.0</td>\n      <td>2022</td>\n      <td>Manchester City</td>\n    </tr>\n    <tr>\n      <th>4</th>\n      <td>2021-09-11</td>\n      <td>15:00</td>\n      <td>Premier League</td>\n      <td>Matchweek 4</td>\n      <td>Sat</td>\n      <td>Away</td>\n      <td>W</td>\n      <td>1.0</td>\n      <td>0.0</td>\n      <td>Leicester City</td>\n      <td>...</td>\n      <td>Match Report</td>\n      <td>NaN</td>\n      <td>25.0</td>\n      <td>8.0</td>\n      <td>14.0</td>\n      <td>0.0</td>\n      <td>0.0</td>\n      <td>0.0</td>\n      <td>2022</td>\n      <td>Manchester City</td>\n    </tr>\n    <tr>\n      <th>6</th>\n      <td>2021-09-18</td>\n      <td>15:00</td>\n      <td>Premier League</td>\n      <td>Matchweek 5</td>\n      <td>Sat</td>\n      <td>Home</td>\n      <td>D</td>\n      <td>0.0</td>\n      <td>0.0</td>\n      <td>Southampton</td>\n      <td>...</td>\n      <td>Match Report</td>\n      <td>NaN</td>\n      <td>16.0</td>\n      <td>1.0</td>\n      <td>15.7</td>\n      <td>1.0</td>\n      <td>0.0</td>\n      <td>0.0</td>\n      <td>2022</td>\n      <td>Manchester City</td>\n    </tr>\n  </tbody>\n</table>\n<p>5 rows × 27 columns</p>\n</div>"
     },
     "execution_count": 3,
     "metadata": {},
     "output_type": "execute_result"
    }
   ],
   "source": [
    "matches.head()"
   ],
   "metadata": {
    "collapsed": false,
    "ExecuteTime": {
     "end_time": "2023-09-20T11:13:00.053602978Z",
     "start_time": "2023-09-20T11:13:00.033408036Z"
    }
   },
   "id": "cacd1a97a12363e4"
  },
  {
   "cell_type": "code",
   "execution_count": 4,
   "outputs": [
    {
     "data": {
      "text/plain": "(1389, 27)"
     },
     "execution_count": 4,
     "metadata": {},
     "output_type": "execute_result"
    }
   ],
   "source": [
    "matches.shape"
   ],
   "metadata": {
    "collapsed": false,
    "ExecuteTime": {
     "end_time": "2023-09-20T11:13:14.595364962Z",
     "start_time": "2023-09-20T11:13:14.548505991Z"
    }
   },
   "id": "3fa1b9ed13ed8101"
  },
  {
   "cell_type": "code",
   "execution_count": 5,
   "outputs": [
    {
     "data": {
      "text/plain": "1520"
     },
     "execution_count": 5,
     "metadata": {},
     "output_type": "execute_result"
    }
   ],
   "source": [
    "38 * 20 * 2"
   ],
   "metadata": {
    "collapsed": false,
    "ExecuteTime": {
     "end_time": "2023-09-20T11:13:43.378958766Z",
     "start_time": "2023-09-20T11:13:43.370559184Z"
    }
   },
   "id": "8299eda73dfd6ea8"
  },
  {
   "cell_type": "code",
   "execution_count": 6,
   "outputs": [
    {
     "data": {
      "text/plain": "Southampton                 72\nBrighton and Hove Albion    72\nManchester United           72\nWest Ham United             72\nNewcastle United            72\nBurnley                     71\nLeeds United                71\nCrystal Palace              71\nManchester City             71\nWolverhampton Wanderers     71\nTottenham Hotspur           71\nArsenal                     71\nLeicester City              70\nChelsea                     70\nAston Villa                 70\nEverton                     70\nLiverpool                   38\nFulham                      38\nWest Bromwich Albion        38\nSheffield United            38\nBrentford                   34\nWatford                     33\nNorwich City                33\nName: team, dtype: int64"
     },
     "execution_count": 6,
     "metadata": {},
     "output_type": "execute_result"
    }
   ],
   "source": [
    "matches['team'].value_counts()"
   ],
   "metadata": {
    "collapsed": false,
    "ExecuteTime": {
     "end_time": "2023-09-20T11:13:59.959764119Z",
     "start_time": "2023-09-20T11:13:59.951440915Z"
    }
   },
   "id": "5bfa7a745345de2"
  },
  {
   "cell_type": "code",
   "execution_count": 8,
   "outputs": [
    {
     "data": {
      "text/plain": "          date   time            comp         round  day venue result   gf  \\\n1   2020-09-12  17:30  Premier League   Matchweek 1  Sat  Home      W  4.0   \n2   2020-09-20  16:30  Premier League   Matchweek 2  Sun  Away      W  2.0   \n4   2020-09-28  20:00  Premier League   Matchweek 3  Mon  Home      W  3.0   \n6   2020-10-04  19:15  Premier League   Matchweek 4  Sun  Away      L  2.0   \n7   2020-10-17  12:30  Premier League   Matchweek 5  Sat  Away      D  2.0   \n9   2020-10-24  20:00  Premier League   Matchweek 6  Sat  Home      W  2.0   \n11  2020-10-31  17:30  Premier League   Matchweek 7  Sat  Home      W  2.0   \n13  2020-11-08  16:30  Premier League   Matchweek 8  Sun  Away      D  1.0   \n14  2020-11-22  19:15  Premier League   Matchweek 9  Sun  Home      W  3.0   \n16  2020-11-28  12:30  Premier League  Matchweek 10  Sat  Away      D  1.0   \n18  2020-12-06  19:15  Premier League  Matchweek 11  Sun  Home      W  4.0   \n20  2020-12-13  16:30  Premier League  Matchweek 12  Sun  Away      D  1.0   \n21  2020-12-16  20:00  Premier League  Matchweek 13  Wed  Home      W  2.0   \n22  2020-12-19  12:30  Premier League  Matchweek 14  Sat  Away      W  7.0   \n23  2020-12-27  16:30  Premier League  Matchweek 15  Sun  Home      D  1.0   \n24  2020-12-30  20:00  Premier League  Matchweek 16  Wed  Away      D  0.0   \n25  2021-01-04  20:00  Premier League  Matchweek 17  Mon  Away      L  0.0   \n27  2021-01-17  16:30  Premier League  Matchweek 19  Sun  Home      D  0.0   \n28  2021-01-21  20:00  Premier League  Matchweek 18  Thu  Home      L  0.0   \n30  2021-01-28  20:00  Premier League  Matchweek 20  Thu  Away      W  3.0   \n31  2021-01-31  16:30  Premier League  Matchweek 21  Sun  Away      W  3.0   \n32  2021-02-03  20:15  Premier League  Matchweek 22  Wed  Home      L  0.0   \n33  2021-02-07  16:30  Premier League  Matchweek 23  Sun  Home      L  1.0   \n34  2021-02-13  12:30  Premier League  Matchweek 24  Sat  Away      L  1.0   \n36  2021-02-20  17:30  Premier League  Matchweek 25  Sat  Home      L  0.0   \n37  2021-02-28  19:15  Premier League  Matchweek 26  Sun  Away      W  2.0   \n38  2021-03-04  20:15  Premier League  Matchweek 29  Thu  Home      L  0.0   \n39  2021-03-07  14:00  Premier League  Matchweek 27  Sun  Home      L  0.0   \n41  2021-03-15  20:00  Premier League  Matchweek 28  Mon  Away      W  1.0   \n42  2021-04-03  20:00  Premier League  Matchweek 30  Sat  Away      W  3.0   \n44  2021-04-10  15:00  Premier League  Matchweek 31  Sat  Home      W  2.0   \n46  2021-04-19  20:00  Premier League  Matchweek 32  Mon  Away      D  1.0   \n47  2021-04-24  12:30  Premier League  Matchweek 33  Sat  Home      D  1.0   \n48  2021-05-08  20:15  Premier League  Matchweek 35  Sat  Home      W  2.0   \n49  2021-05-13  20:15  Premier League  Matchweek 34  Thu  Away      W  4.0   \n50  2021-05-16  16:30  Premier League  Matchweek 36  Sun  Away      W  2.0   \n51  2021-05-19  20:15  Premier League  Matchweek 37  Wed  Away      W  3.0   \n52  2021-05-23  16:00  Premier League  Matchweek 38  Sun  Home      W  2.0   \n\n     ga         opponent  ...  match report  notes    sh   sot  dist   fk  \\\n1   3.0     Leeds United  ...  Match Report    NaN  20.0   4.0  17.0  0.0   \n2   0.0          Chelsea  ...  Match Report    NaN  17.0   5.0  17.7  1.0   \n4   1.0          Arsenal  ...  Match Report    NaN  21.0   9.0  16.8  0.0   \n6   7.0      Aston Villa  ...  Match Report    NaN  14.0   8.0  15.8  1.0   \n7   2.0          Everton  ...  Match Report    NaN  22.0   8.0  15.0  1.0   \n9   1.0    Sheffield Utd  ...  Match Report    NaN  17.0   5.0  18.2  1.0   \n11  1.0         West Ham  ...  Match Report    NaN   8.0   2.0  18.6  1.0   \n13  1.0  Manchester City  ...  Match Report    NaN   9.0   2.0  21.5  0.0   \n14  0.0   Leicester City  ...  Match Report    NaN  24.0  12.0  11.9  0.0   \n16  1.0         Brighton  ...  Match Report    NaN   6.0   2.0  20.9  0.0   \n18  0.0           Wolves  ...  Match Report    NaN  11.0   6.0  16.6  1.0   \n20  1.0           Fulham  ...  Match Report    NaN  11.0   5.0  20.0  1.0   \n21  1.0        Tottenham  ...  Match Report    NaN  17.0  11.0  15.5  0.0   \n22  0.0   Crystal Palace  ...  Match Report    NaN  14.0   7.0  13.2  1.0   \n23  1.0        West Brom  ...  Match Report    NaN  17.0   2.0  17.8  2.0   \n24  0.0    Newcastle Utd  ...  Match Report    NaN  11.0   4.0  16.7  0.0   \n25  1.0      Southampton  ...  Match Report    NaN  17.0   1.0  14.3  0.0   \n27  0.0   Manchester Utd  ...  Match Report    NaN  17.0   3.0  17.1  0.0   \n28  1.0          Burnley  ...  Match Report    NaN  27.0   6.0  17.3  0.0   \n30  1.0        Tottenham  ...  Match Report    NaN  14.0   7.0  14.7  0.0   \n31  1.0         West Ham  ...  Match Report    NaN  14.0   5.0  15.3  0.0   \n32  1.0         Brighton  ...  Match Report    NaN  11.0   0.0  19.9  0.0   \n33  4.0  Manchester City  ...  Match Report    NaN   7.0   2.0  17.9  1.0   \n34  3.0   Leicester City  ...  Match Report    NaN  15.0   4.0  15.4  2.0   \n36  2.0          Everton  ...  Match Report    NaN  16.0   6.0  15.9  1.0   \n37  0.0    Sheffield Utd  ...  Match Report    NaN  15.0   8.0  14.2  0.0   \n38  1.0          Chelsea  ...  Match Report    NaN   7.0   1.0  18.4  0.0   \n39  1.0           Fulham  ...  Match Report    NaN  16.0   3.0  17.0  1.0   \n41  0.0           Wolves  ...  Match Report    NaN  12.0   4.0  15.9  0.0   \n42  0.0          Arsenal  ...  Match Report    NaN  16.0   7.0  17.0  0.0   \n44  1.0      Aston Villa  ...  Match Report    NaN  23.0   8.0  16.7  1.0   \n46  1.0     Leeds United  ...  Match Report    NaN  17.0   7.0  15.7  0.0   \n47  1.0    Newcastle Utd  ...  Match Report    NaN  21.0   9.0  17.0  1.0   \n48  0.0      Southampton  ...  Match Report    NaN  14.0   6.0  12.4  0.0   \n49  2.0   Manchester Utd  ...  Match Report    NaN  17.0   8.0  14.9  0.0   \n50  1.0        West Brom  ...  Match Report    NaN  26.0   6.0  16.9  1.0   \n51  0.0          Burnley  ...  Match Report    NaN  20.0   3.0  15.5  1.0   \n52  0.0   Crystal Palace  ...  Match Report    NaN  19.0   5.0  14.2  1.0   \n\n     pk pkatt  season       team  \n1   2.0   2.0    2021  Liverpool  \n2   0.0   0.0    2021  Liverpool  \n4   0.0   0.0    2021  Liverpool  \n6   0.0   0.0    2021  Liverpool  \n7   0.0   0.0    2021  Liverpool  \n9   0.0   0.0    2021  Liverpool  \n11  1.0   1.0    2021  Liverpool  \n13  1.0   1.0    2021  Liverpool  \n14  0.0   0.0    2021  Liverpool  \n16  0.0   0.0    2021  Liverpool  \n18  0.0   0.0    2021  Liverpool  \n20  1.0   1.0    2021  Liverpool  \n21  0.0   0.0    2021  Liverpool  \n22  0.0   0.0    2021  Liverpool  \n23  0.0   0.0    2021  Liverpool  \n24  0.0   0.0    2021  Liverpool  \n25  0.0   0.0    2021  Liverpool  \n27  0.0   0.0    2021  Liverpool  \n28  0.0   0.0    2021  Liverpool  \n30  0.0   0.0    2021  Liverpool  \n31  0.0   0.0    2021  Liverpool  \n32  0.0   0.0    2021  Liverpool  \n33  1.0   1.0    2021  Liverpool  \n34  0.0   0.0    2021  Liverpool  \n36  0.0   0.0    2021  Liverpool  \n37  0.0   0.0    2021  Liverpool  \n38  0.0   0.0    2021  Liverpool  \n39  0.0   0.0    2021  Liverpool  \n41  0.0   0.0    2021  Liverpool  \n42  0.0   0.0    2021  Liverpool  \n44  0.0   0.0    2021  Liverpool  \n46  0.0   0.0    2021  Liverpool  \n47  0.0   0.0    2021  Liverpool  \n48  0.0   0.0    2021  Liverpool  \n49  0.0   0.0    2021  Liverpool  \n50  0.0   0.0    2021  Liverpool  \n51  0.0   0.0    2021  Liverpool  \n52  0.0   0.0    2021  Liverpool  \n\n[38 rows x 27 columns]",
      "text/html": "<div>\n<style scoped>\n    .dataframe tbody tr th:only-of-type {\n        vertical-align: middle;\n    }\n\n    .dataframe tbody tr th {\n        vertical-align: top;\n    }\n\n    .dataframe thead th {\n        text-align: right;\n    }\n</style>\n<table border=\"1\" class=\"dataframe\">\n  <thead>\n    <tr style=\"text-align: right;\">\n      <th></th>\n      <th>date</th>\n      <th>time</th>\n      <th>comp</th>\n      <th>round</th>\n      <th>day</th>\n      <th>venue</th>\n      <th>result</th>\n      <th>gf</th>\n      <th>ga</th>\n      <th>opponent</th>\n      <th>...</th>\n      <th>match report</th>\n      <th>notes</th>\n      <th>sh</th>\n      <th>sot</th>\n      <th>dist</th>\n      <th>fk</th>\n      <th>pk</th>\n      <th>pkatt</th>\n      <th>season</th>\n      <th>team</th>\n    </tr>\n  </thead>\n  <tbody>\n    <tr>\n      <th>1</th>\n      <td>2020-09-12</td>\n      <td>17:30</td>\n      <td>Premier League</td>\n      <td>Matchweek 1</td>\n      <td>Sat</td>\n      <td>Home</td>\n      <td>W</td>\n      <td>4.0</td>\n      <td>3.0</td>\n      <td>Leeds United</td>\n      <td>...</td>\n      <td>Match Report</td>\n      <td>NaN</td>\n      <td>20.0</td>\n      <td>4.0</td>\n      <td>17.0</td>\n      <td>0.0</td>\n      <td>2.0</td>\n      <td>2.0</td>\n      <td>2021</td>\n      <td>Liverpool</td>\n    </tr>\n    <tr>\n      <th>2</th>\n      <td>2020-09-20</td>\n      <td>16:30</td>\n      <td>Premier League</td>\n      <td>Matchweek 2</td>\n      <td>Sun</td>\n      <td>Away</td>\n      <td>W</td>\n      <td>2.0</td>\n      <td>0.0</td>\n      <td>Chelsea</td>\n      <td>...</td>\n      <td>Match Report</td>\n      <td>NaN</td>\n      <td>17.0</td>\n      <td>5.0</td>\n      <td>17.7</td>\n      <td>1.0</td>\n      <td>0.0</td>\n      <td>0.0</td>\n      <td>2021</td>\n      <td>Liverpool</td>\n    </tr>\n    <tr>\n      <th>4</th>\n      <td>2020-09-28</td>\n      <td>20:00</td>\n      <td>Premier League</td>\n      <td>Matchweek 3</td>\n      <td>Mon</td>\n      <td>Home</td>\n      <td>W</td>\n      <td>3.0</td>\n      <td>1.0</td>\n      <td>Arsenal</td>\n      <td>...</td>\n      <td>Match Report</td>\n      <td>NaN</td>\n      <td>21.0</td>\n      <td>9.0</td>\n      <td>16.8</td>\n      <td>0.0</td>\n      <td>0.0</td>\n      <td>0.0</td>\n      <td>2021</td>\n      <td>Liverpool</td>\n    </tr>\n    <tr>\n      <th>6</th>\n      <td>2020-10-04</td>\n      <td>19:15</td>\n      <td>Premier League</td>\n      <td>Matchweek 4</td>\n      <td>Sun</td>\n      <td>Away</td>\n      <td>L</td>\n      <td>2.0</td>\n      <td>7.0</td>\n      <td>Aston Villa</td>\n      <td>...</td>\n      <td>Match Report</td>\n      <td>NaN</td>\n      <td>14.0</td>\n      <td>8.0</td>\n      <td>15.8</td>\n      <td>1.0</td>\n      <td>0.0</td>\n      <td>0.0</td>\n      <td>2021</td>\n      <td>Liverpool</td>\n    </tr>\n    <tr>\n      <th>7</th>\n      <td>2020-10-17</td>\n      <td>12:30</td>\n      <td>Premier League</td>\n      <td>Matchweek 5</td>\n      <td>Sat</td>\n      <td>Away</td>\n      <td>D</td>\n      <td>2.0</td>\n      <td>2.0</td>\n      <td>Everton</td>\n      <td>...</td>\n      <td>Match Report</td>\n      <td>NaN</td>\n      <td>22.0</td>\n      <td>8.0</td>\n      <td>15.0</td>\n      <td>1.0</td>\n      <td>0.0</td>\n      <td>0.0</td>\n      <td>2021</td>\n      <td>Liverpool</td>\n    </tr>\n    <tr>\n      <th>9</th>\n      <td>2020-10-24</td>\n      <td>20:00</td>\n      <td>Premier League</td>\n      <td>Matchweek 6</td>\n      <td>Sat</td>\n      <td>Home</td>\n      <td>W</td>\n      <td>2.0</td>\n      <td>1.0</td>\n      <td>Sheffield Utd</td>\n      <td>...</td>\n      <td>Match Report</td>\n      <td>NaN</td>\n      <td>17.0</td>\n      <td>5.0</td>\n      <td>18.2</td>\n      <td>1.0</td>\n      <td>0.0</td>\n      <td>0.0</td>\n      <td>2021</td>\n      <td>Liverpool</td>\n    </tr>\n    <tr>\n      <th>11</th>\n      <td>2020-10-31</td>\n      <td>17:30</td>\n      <td>Premier League</td>\n      <td>Matchweek 7</td>\n      <td>Sat</td>\n      <td>Home</td>\n      <td>W</td>\n      <td>2.0</td>\n      <td>1.0</td>\n      <td>West Ham</td>\n      <td>...</td>\n      <td>Match Report</td>\n      <td>NaN</td>\n      <td>8.0</td>\n      <td>2.0</td>\n      <td>18.6</td>\n      <td>1.0</td>\n      <td>1.0</td>\n      <td>1.0</td>\n      <td>2021</td>\n      <td>Liverpool</td>\n    </tr>\n    <tr>\n      <th>13</th>\n      <td>2020-11-08</td>\n      <td>16:30</td>\n      <td>Premier League</td>\n      <td>Matchweek 8</td>\n      <td>Sun</td>\n      <td>Away</td>\n      <td>D</td>\n      <td>1.0</td>\n      <td>1.0</td>\n      <td>Manchester City</td>\n      <td>...</td>\n      <td>Match Report</td>\n      <td>NaN</td>\n      <td>9.0</td>\n      <td>2.0</td>\n      <td>21.5</td>\n      <td>0.0</td>\n      <td>1.0</td>\n      <td>1.0</td>\n      <td>2021</td>\n      <td>Liverpool</td>\n    </tr>\n    <tr>\n      <th>14</th>\n      <td>2020-11-22</td>\n      <td>19:15</td>\n      <td>Premier League</td>\n      <td>Matchweek 9</td>\n      <td>Sun</td>\n      <td>Home</td>\n      <td>W</td>\n      <td>3.0</td>\n      <td>0.0</td>\n      <td>Leicester City</td>\n      <td>...</td>\n      <td>Match Report</td>\n      <td>NaN</td>\n      <td>24.0</td>\n      <td>12.0</td>\n      <td>11.9</td>\n      <td>0.0</td>\n      <td>0.0</td>\n      <td>0.0</td>\n      <td>2021</td>\n      <td>Liverpool</td>\n    </tr>\n    <tr>\n      <th>16</th>\n      <td>2020-11-28</td>\n      <td>12:30</td>\n      <td>Premier League</td>\n      <td>Matchweek 10</td>\n      <td>Sat</td>\n      <td>Away</td>\n      <td>D</td>\n      <td>1.0</td>\n      <td>1.0</td>\n      <td>Brighton</td>\n      <td>...</td>\n      <td>Match Report</td>\n      <td>NaN</td>\n      <td>6.0</td>\n      <td>2.0</td>\n      <td>20.9</td>\n      <td>0.0</td>\n      <td>0.0</td>\n      <td>0.0</td>\n      <td>2021</td>\n      <td>Liverpool</td>\n    </tr>\n    <tr>\n      <th>18</th>\n      <td>2020-12-06</td>\n      <td>19:15</td>\n      <td>Premier League</td>\n      <td>Matchweek 11</td>\n      <td>Sun</td>\n      <td>Home</td>\n      <td>W</td>\n      <td>4.0</td>\n      <td>0.0</td>\n      <td>Wolves</td>\n      <td>...</td>\n      <td>Match Report</td>\n      <td>NaN</td>\n      <td>11.0</td>\n      <td>6.0</td>\n      <td>16.6</td>\n      <td>1.0</td>\n      <td>0.0</td>\n      <td>0.0</td>\n      <td>2021</td>\n      <td>Liverpool</td>\n    </tr>\n    <tr>\n      <th>20</th>\n      <td>2020-12-13</td>\n      <td>16:30</td>\n      <td>Premier League</td>\n      <td>Matchweek 12</td>\n      <td>Sun</td>\n      <td>Away</td>\n      <td>D</td>\n      <td>1.0</td>\n      <td>1.0</td>\n      <td>Fulham</td>\n      <td>...</td>\n      <td>Match Report</td>\n      <td>NaN</td>\n      <td>11.0</td>\n      <td>5.0</td>\n      <td>20.0</td>\n      <td>1.0</td>\n      <td>1.0</td>\n      <td>1.0</td>\n      <td>2021</td>\n      <td>Liverpool</td>\n    </tr>\n    <tr>\n      <th>21</th>\n      <td>2020-12-16</td>\n      <td>20:00</td>\n      <td>Premier League</td>\n      <td>Matchweek 13</td>\n      <td>Wed</td>\n      <td>Home</td>\n      <td>W</td>\n      <td>2.0</td>\n      <td>1.0</td>\n      <td>Tottenham</td>\n      <td>...</td>\n      <td>Match Report</td>\n      <td>NaN</td>\n      <td>17.0</td>\n      <td>11.0</td>\n      <td>15.5</td>\n      <td>0.0</td>\n      <td>0.0</td>\n      <td>0.0</td>\n      <td>2021</td>\n      <td>Liverpool</td>\n    </tr>\n    <tr>\n      <th>22</th>\n      <td>2020-12-19</td>\n      <td>12:30</td>\n      <td>Premier League</td>\n      <td>Matchweek 14</td>\n      <td>Sat</td>\n      <td>Away</td>\n      <td>W</td>\n      <td>7.0</td>\n      <td>0.0</td>\n      <td>Crystal Palace</td>\n      <td>...</td>\n      <td>Match Report</td>\n      <td>NaN</td>\n      <td>14.0</td>\n      <td>7.0</td>\n      <td>13.2</td>\n      <td>1.0</td>\n      <td>0.0</td>\n      <td>0.0</td>\n      <td>2021</td>\n      <td>Liverpool</td>\n    </tr>\n    <tr>\n      <th>23</th>\n      <td>2020-12-27</td>\n      <td>16:30</td>\n      <td>Premier League</td>\n      <td>Matchweek 15</td>\n      <td>Sun</td>\n      <td>Home</td>\n      <td>D</td>\n      <td>1.0</td>\n      <td>1.0</td>\n      <td>West Brom</td>\n      <td>...</td>\n      <td>Match Report</td>\n      <td>NaN</td>\n      <td>17.0</td>\n      <td>2.0</td>\n      <td>17.8</td>\n      <td>2.0</td>\n      <td>0.0</td>\n      <td>0.0</td>\n      <td>2021</td>\n      <td>Liverpool</td>\n    </tr>\n    <tr>\n      <th>24</th>\n      <td>2020-12-30</td>\n      <td>20:00</td>\n      <td>Premier League</td>\n      <td>Matchweek 16</td>\n      <td>Wed</td>\n      <td>Away</td>\n      <td>D</td>\n      <td>0.0</td>\n      <td>0.0</td>\n      <td>Newcastle Utd</td>\n      <td>...</td>\n      <td>Match Report</td>\n      <td>NaN</td>\n      <td>11.0</td>\n      <td>4.0</td>\n      <td>16.7</td>\n      <td>0.0</td>\n      <td>0.0</td>\n      <td>0.0</td>\n      <td>2021</td>\n      <td>Liverpool</td>\n    </tr>\n    <tr>\n      <th>25</th>\n      <td>2021-01-04</td>\n      <td>20:00</td>\n      <td>Premier League</td>\n      <td>Matchweek 17</td>\n      <td>Mon</td>\n      <td>Away</td>\n      <td>L</td>\n      <td>0.0</td>\n      <td>1.0</td>\n      <td>Southampton</td>\n      <td>...</td>\n      <td>Match Report</td>\n      <td>NaN</td>\n      <td>17.0</td>\n      <td>1.0</td>\n      <td>14.3</td>\n      <td>0.0</td>\n      <td>0.0</td>\n      <td>0.0</td>\n      <td>2021</td>\n      <td>Liverpool</td>\n    </tr>\n    <tr>\n      <th>27</th>\n      <td>2021-01-17</td>\n      <td>16:30</td>\n      <td>Premier League</td>\n      <td>Matchweek 19</td>\n      <td>Sun</td>\n      <td>Home</td>\n      <td>D</td>\n      <td>0.0</td>\n      <td>0.0</td>\n      <td>Manchester Utd</td>\n      <td>...</td>\n      <td>Match Report</td>\n      <td>NaN</td>\n      <td>17.0</td>\n      <td>3.0</td>\n      <td>17.1</td>\n      <td>0.0</td>\n      <td>0.0</td>\n      <td>0.0</td>\n      <td>2021</td>\n      <td>Liverpool</td>\n    </tr>\n    <tr>\n      <th>28</th>\n      <td>2021-01-21</td>\n      <td>20:00</td>\n      <td>Premier League</td>\n      <td>Matchweek 18</td>\n      <td>Thu</td>\n      <td>Home</td>\n      <td>L</td>\n      <td>0.0</td>\n      <td>1.0</td>\n      <td>Burnley</td>\n      <td>...</td>\n      <td>Match Report</td>\n      <td>NaN</td>\n      <td>27.0</td>\n      <td>6.0</td>\n      <td>17.3</td>\n      <td>0.0</td>\n      <td>0.0</td>\n      <td>0.0</td>\n      <td>2021</td>\n      <td>Liverpool</td>\n    </tr>\n    <tr>\n      <th>30</th>\n      <td>2021-01-28</td>\n      <td>20:00</td>\n      <td>Premier League</td>\n      <td>Matchweek 20</td>\n      <td>Thu</td>\n      <td>Away</td>\n      <td>W</td>\n      <td>3.0</td>\n      <td>1.0</td>\n      <td>Tottenham</td>\n      <td>...</td>\n      <td>Match Report</td>\n      <td>NaN</td>\n      <td>14.0</td>\n      <td>7.0</td>\n      <td>14.7</td>\n      <td>0.0</td>\n      <td>0.0</td>\n      <td>0.0</td>\n      <td>2021</td>\n      <td>Liverpool</td>\n    </tr>\n    <tr>\n      <th>31</th>\n      <td>2021-01-31</td>\n      <td>16:30</td>\n      <td>Premier League</td>\n      <td>Matchweek 21</td>\n      <td>Sun</td>\n      <td>Away</td>\n      <td>W</td>\n      <td>3.0</td>\n      <td>1.0</td>\n      <td>West Ham</td>\n      <td>...</td>\n      <td>Match Report</td>\n      <td>NaN</td>\n      <td>14.0</td>\n      <td>5.0</td>\n      <td>15.3</td>\n      <td>0.0</td>\n      <td>0.0</td>\n      <td>0.0</td>\n      <td>2021</td>\n      <td>Liverpool</td>\n    </tr>\n    <tr>\n      <th>32</th>\n      <td>2021-02-03</td>\n      <td>20:15</td>\n      <td>Premier League</td>\n      <td>Matchweek 22</td>\n      <td>Wed</td>\n      <td>Home</td>\n      <td>L</td>\n      <td>0.0</td>\n      <td>1.0</td>\n      <td>Brighton</td>\n      <td>...</td>\n      <td>Match Report</td>\n      <td>NaN</td>\n      <td>11.0</td>\n      <td>0.0</td>\n      <td>19.9</td>\n      <td>0.0</td>\n      <td>0.0</td>\n      <td>0.0</td>\n      <td>2021</td>\n      <td>Liverpool</td>\n    </tr>\n    <tr>\n      <th>33</th>\n      <td>2021-02-07</td>\n      <td>16:30</td>\n      <td>Premier League</td>\n      <td>Matchweek 23</td>\n      <td>Sun</td>\n      <td>Home</td>\n      <td>L</td>\n      <td>1.0</td>\n      <td>4.0</td>\n      <td>Manchester City</td>\n      <td>...</td>\n      <td>Match Report</td>\n      <td>NaN</td>\n      <td>7.0</td>\n      <td>2.0</td>\n      <td>17.9</td>\n      <td>1.0</td>\n      <td>1.0</td>\n      <td>1.0</td>\n      <td>2021</td>\n      <td>Liverpool</td>\n    </tr>\n    <tr>\n      <th>34</th>\n      <td>2021-02-13</td>\n      <td>12:30</td>\n      <td>Premier League</td>\n      <td>Matchweek 24</td>\n      <td>Sat</td>\n      <td>Away</td>\n      <td>L</td>\n      <td>1.0</td>\n      <td>3.0</td>\n      <td>Leicester City</td>\n      <td>...</td>\n      <td>Match Report</td>\n      <td>NaN</td>\n      <td>15.0</td>\n      <td>4.0</td>\n      <td>15.4</td>\n      <td>2.0</td>\n      <td>0.0</td>\n      <td>0.0</td>\n      <td>2021</td>\n      <td>Liverpool</td>\n    </tr>\n    <tr>\n      <th>36</th>\n      <td>2021-02-20</td>\n      <td>17:30</td>\n      <td>Premier League</td>\n      <td>Matchweek 25</td>\n      <td>Sat</td>\n      <td>Home</td>\n      <td>L</td>\n      <td>0.0</td>\n      <td>2.0</td>\n      <td>Everton</td>\n      <td>...</td>\n      <td>Match Report</td>\n      <td>NaN</td>\n      <td>16.0</td>\n      <td>6.0</td>\n      <td>15.9</td>\n      <td>1.0</td>\n      <td>0.0</td>\n      <td>0.0</td>\n      <td>2021</td>\n      <td>Liverpool</td>\n    </tr>\n    <tr>\n      <th>37</th>\n      <td>2021-02-28</td>\n      <td>19:15</td>\n      <td>Premier League</td>\n      <td>Matchweek 26</td>\n      <td>Sun</td>\n      <td>Away</td>\n      <td>W</td>\n      <td>2.0</td>\n      <td>0.0</td>\n      <td>Sheffield Utd</td>\n      <td>...</td>\n      <td>Match Report</td>\n      <td>NaN</td>\n      <td>15.0</td>\n      <td>8.0</td>\n      <td>14.2</td>\n      <td>0.0</td>\n      <td>0.0</td>\n      <td>0.0</td>\n      <td>2021</td>\n      <td>Liverpool</td>\n    </tr>\n    <tr>\n      <th>38</th>\n      <td>2021-03-04</td>\n      <td>20:15</td>\n      <td>Premier League</td>\n      <td>Matchweek 29</td>\n      <td>Thu</td>\n      <td>Home</td>\n      <td>L</td>\n      <td>0.0</td>\n      <td>1.0</td>\n      <td>Chelsea</td>\n      <td>...</td>\n      <td>Match Report</td>\n      <td>NaN</td>\n      <td>7.0</td>\n      <td>1.0</td>\n      <td>18.4</td>\n      <td>0.0</td>\n      <td>0.0</td>\n      <td>0.0</td>\n      <td>2021</td>\n      <td>Liverpool</td>\n    </tr>\n    <tr>\n      <th>39</th>\n      <td>2021-03-07</td>\n      <td>14:00</td>\n      <td>Premier League</td>\n      <td>Matchweek 27</td>\n      <td>Sun</td>\n      <td>Home</td>\n      <td>L</td>\n      <td>0.0</td>\n      <td>1.0</td>\n      <td>Fulham</td>\n      <td>...</td>\n      <td>Match Report</td>\n      <td>NaN</td>\n      <td>16.0</td>\n      <td>3.0</td>\n      <td>17.0</td>\n      <td>1.0</td>\n      <td>0.0</td>\n      <td>0.0</td>\n      <td>2021</td>\n      <td>Liverpool</td>\n    </tr>\n    <tr>\n      <th>41</th>\n      <td>2021-03-15</td>\n      <td>20:00</td>\n      <td>Premier League</td>\n      <td>Matchweek 28</td>\n      <td>Mon</td>\n      <td>Away</td>\n      <td>W</td>\n      <td>1.0</td>\n      <td>0.0</td>\n      <td>Wolves</td>\n      <td>...</td>\n      <td>Match Report</td>\n      <td>NaN</td>\n      <td>12.0</td>\n      <td>4.0</td>\n      <td>15.9</td>\n      <td>0.0</td>\n      <td>0.0</td>\n      <td>0.0</td>\n      <td>2021</td>\n      <td>Liverpool</td>\n    </tr>\n    <tr>\n      <th>42</th>\n      <td>2021-04-03</td>\n      <td>20:00</td>\n      <td>Premier League</td>\n      <td>Matchweek 30</td>\n      <td>Sat</td>\n      <td>Away</td>\n      <td>W</td>\n      <td>3.0</td>\n      <td>0.0</td>\n      <td>Arsenal</td>\n      <td>...</td>\n      <td>Match Report</td>\n      <td>NaN</td>\n      <td>16.0</td>\n      <td>7.0</td>\n      <td>17.0</td>\n      <td>0.0</td>\n      <td>0.0</td>\n      <td>0.0</td>\n      <td>2021</td>\n      <td>Liverpool</td>\n    </tr>\n    <tr>\n      <th>44</th>\n      <td>2021-04-10</td>\n      <td>15:00</td>\n      <td>Premier League</td>\n      <td>Matchweek 31</td>\n      <td>Sat</td>\n      <td>Home</td>\n      <td>W</td>\n      <td>2.0</td>\n      <td>1.0</td>\n      <td>Aston Villa</td>\n      <td>...</td>\n      <td>Match Report</td>\n      <td>NaN</td>\n      <td>23.0</td>\n      <td>8.0</td>\n      <td>16.7</td>\n      <td>1.0</td>\n      <td>0.0</td>\n      <td>0.0</td>\n      <td>2021</td>\n      <td>Liverpool</td>\n    </tr>\n    <tr>\n      <th>46</th>\n      <td>2021-04-19</td>\n      <td>20:00</td>\n      <td>Premier League</td>\n      <td>Matchweek 32</td>\n      <td>Mon</td>\n      <td>Away</td>\n      <td>D</td>\n      <td>1.0</td>\n      <td>1.0</td>\n      <td>Leeds United</td>\n      <td>...</td>\n      <td>Match Report</td>\n      <td>NaN</td>\n      <td>17.0</td>\n      <td>7.0</td>\n      <td>15.7</td>\n      <td>0.0</td>\n      <td>0.0</td>\n      <td>0.0</td>\n      <td>2021</td>\n      <td>Liverpool</td>\n    </tr>\n    <tr>\n      <th>47</th>\n      <td>2021-04-24</td>\n      <td>12:30</td>\n      <td>Premier League</td>\n      <td>Matchweek 33</td>\n      <td>Sat</td>\n      <td>Home</td>\n      <td>D</td>\n      <td>1.0</td>\n      <td>1.0</td>\n      <td>Newcastle Utd</td>\n      <td>...</td>\n      <td>Match Report</td>\n      <td>NaN</td>\n      <td>21.0</td>\n      <td>9.0</td>\n      <td>17.0</td>\n      <td>1.0</td>\n      <td>0.0</td>\n      <td>0.0</td>\n      <td>2021</td>\n      <td>Liverpool</td>\n    </tr>\n    <tr>\n      <th>48</th>\n      <td>2021-05-08</td>\n      <td>20:15</td>\n      <td>Premier League</td>\n      <td>Matchweek 35</td>\n      <td>Sat</td>\n      <td>Home</td>\n      <td>W</td>\n      <td>2.0</td>\n      <td>0.0</td>\n      <td>Southampton</td>\n      <td>...</td>\n      <td>Match Report</td>\n      <td>NaN</td>\n      <td>14.0</td>\n      <td>6.0</td>\n      <td>12.4</td>\n      <td>0.0</td>\n      <td>0.0</td>\n      <td>0.0</td>\n      <td>2021</td>\n      <td>Liverpool</td>\n    </tr>\n    <tr>\n      <th>49</th>\n      <td>2021-05-13</td>\n      <td>20:15</td>\n      <td>Premier League</td>\n      <td>Matchweek 34</td>\n      <td>Thu</td>\n      <td>Away</td>\n      <td>W</td>\n      <td>4.0</td>\n      <td>2.0</td>\n      <td>Manchester Utd</td>\n      <td>...</td>\n      <td>Match Report</td>\n      <td>NaN</td>\n      <td>17.0</td>\n      <td>8.0</td>\n      <td>14.9</td>\n      <td>0.0</td>\n      <td>0.0</td>\n      <td>0.0</td>\n      <td>2021</td>\n      <td>Liverpool</td>\n    </tr>\n    <tr>\n      <th>50</th>\n      <td>2021-05-16</td>\n      <td>16:30</td>\n      <td>Premier League</td>\n      <td>Matchweek 36</td>\n      <td>Sun</td>\n      <td>Away</td>\n      <td>W</td>\n      <td>2.0</td>\n      <td>1.0</td>\n      <td>West Brom</td>\n      <td>...</td>\n      <td>Match Report</td>\n      <td>NaN</td>\n      <td>26.0</td>\n      <td>6.0</td>\n      <td>16.9</td>\n      <td>1.0</td>\n      <td>0.0</td>\n      <td>0.0</td>\n      <td>2021</td>\n      <td>Liverpool</td>\n    </tr>\n    <tr>\n      <th>51</th>\n      <td>2021-05-19</td>\n      <td>20:15</td>\n      <td>Premier League</td>\n      <td>Matchweek 37</td>\n      <td>Wed</td>\n      <td>Away</td>\n      <td>W</td>\n      <td>3.0</td>\n      <td>0.0</td>\n      <td>Burnley</td>\n      <td>...</td>\n      <td>Match Report</td>\n      <td>NaN</td>\n      <td>20.0</td>\n      <td>3.0</td>\n      <td>15.5</td>\n      <td>1.0</td>\n      <td>0.0</td>\n      <td>0.0</td>\n      <td>2021</td>\n      <td>Liverpool</td>\n    </tr>\n    <tr>\n      <th>52</th>\n      <td>2021-05-23</td>\n      <td>16:00</td>\n      <td>Premier League</td>\n      <td>Matchweek 38</td>\n      <td>Sun</td>\n      <td>Home</td>\n      <td>W</td>\n      <td>2.0</td>\n      <td>0.0</td>\n      <td>Crystal Palace</td>\n      <td>...</td>\n      <td>Match Report</td>\n      <td>NaN</td>\n      <td>19.0</td>\n      <td>5.0</td>\n      <td>14.2</td>\n      <td>1.0</td>\n      <td>0.0</td>\n      <td>0.0</td>\n      <td>2021</td>\n      <td>Liverpool</td>\n    </tr>\n  </tbody>\n</table>\n<p>38 rows × 27 columns</p>\n</div>"
     },
     "execution_count": 8,
     "metadata": {},
     "output_type": "execute_result"
    }
   ],
   "source": [
    "matches[matches['team'] == 'Liverpool']"
   ],
   "metadata": {
    "collapsed": false,
    "ExecuteTime": {
     "end_time": "2023-09-20T11:15:49.297480475Z",
     "start_time": "2023-09-20T11:15:49.243237133Z"
    }
   },
   "id": "c6382a96e5c9329a"
  },
  {
   "cell_type": "code",
   "execution_count": 9,
   "outputs": [
    {
     "data": {
      "text/plain": "Matchweek 1     39\nMatchweek 16    39\nMatchweek 34    39\nMatchweek 32    39\nMatchweek 31    39\nMatchweek 29    39\nMatchweek 28    39\nMatchweek 26    39\nMatchweek 25    39\nMatchweek 24    39\nMatchweek 23    39\nMatchweek 2     39\nMatchweek 19    39\nMatchweek 17    39\nMatchweek 20    39\nMatchweek 15    39\nMatchweek 5     39\nMatchweek 3     39\nMatchweek 13    39\nMatchweek 12    39\nMatchweek 4     39\nMatchweek 11    39\nMatchweek 10    39\nMatchweek 9     39\nMatchweek 8     39\nMatchweek 14    39\nMatchweek 7     39\nMatchweek 6     39\nMatchweek 30    37\nMatchweek 27    37\nMatchweek 22    37\nMatchweek 21    37\nMatchweek 18    37\nMatchweek 33    32\nMatchweek 35    20\nMatchweek 36    20\nMatchweek 37    20\nMatchweek 38    20\nName: round, dtype: int64"
     },
     "execution_count": 9,
     "metadata": {},
     "output_type": "execute_result"
    }
   ],
   "source": [
    "matches['round'].value_counts()"
   ],
   "metadata": {
    "collapsed": false,
    "ExecuteTime": {
     "end_time": "2023-09-20T11:15:51.298423927Z",
     "start_time": "2023-09-20T11:15:51.286195190Z"
    }
   },
   "id": "93839a02fb0994fc"
  },
  {
   "cell_type": "code",
   "execution_count": 10,
   "outputs": [
    {
     "data": {
      "text/plain": "date             object\ntime             object\ncomp             object\nround            object\nday              object\nvenue            object\nresult           object\ngf              float64\nga              float64\nopponent         object\nxg              float64\nxga             float64\nposs            float64\nattendance      float64\ncaptain          object\nformation        object\nreferee          object\nmatch report     object\nnotes           float64\nsh              float64\nsot             float64\ndist            float64\nfk              float64\npk              float64\npkatt           float64\nseason            int64\nteam             object\ndtype: object"
     },
     "execution_count": 10,
     "metadata": {},
     "output_type": "execute_result"
    }
   ],
   "source": [
    "matches.dtypes"
   ],
   "metadata": {
    "collapsed": false,
    "ExecuteTime": {
     "end_time": "2023-09-20T11:16:49.699356540Z",
     "start_time": "2023-09-20T11:16:49.682171750Z"
    }
   },
   "id": "43ed3ecfed3ee996"
  },
  {
   "cell_type": "code",
   "execution_count": 11,
   "outputs": [],
   "source": [
    "matches['date'] = pd.to_datetime(matches['date'])"
   ],
   "metadata": {
    "collapsed": false,
    "ExecuteTime": {
     "end_time": "2023-09-20T11:18:07.266602732Z",
     "start_time": "2023-09-20T11:18:07.223050412Z"
    }
   },
   "id": "f761e8cd102f2598"
  },
  {
   "cell_type": "code",
   "execution_count": 12,
   "outputs": [
    {
     "data": {
      "text/plain": "date            datetime64[ns]\ntime                    object\ncomp                    object\nround                   object\nday                     object\nvenue                   object\nresult                  object\ngf                     float64\nga                     float64\nopponent                object\nxg                     float64\nxga                    float64\nposs                   float64\nattendance             float64\ncaptain                 object\nformation               object\nreferee                 object\nmatch report            object\nnotes                  float64\nsh                     float64\nsot                    float64\ndist                   float64\nfk                     float64\npk                     float64\npkatt                  float64\nseason                   int64\nteam                    object\ndtype: object"
     },
     "execution_count": 12,
     "metadata": {},
     "output_type": "execute_result"
    }
   ],
   "source": [
    "matches.dtypes"
   ],
   "metadata": {
    "collapsed": false,
    "ExecuteTime": {
     "end_time": "2023-09-20T11:18:16.038792908Z",
     "start_time": "2023-09-20T11:18:16.029496056Z"
    }
   },
   "id": "69335d728950ad24"
  },
  {
   "cell_type": "code",
   "execution_count": 13,
   "outputs": [],
   "source": [
    "matches['venue_code'] = matches['venue'].astype('category').cat.codes"
   ],
   "metadata": {
    "collapsed": false,
    "ExecuteTime": {
     "end_time": "2023-09-20T11:19:50.410415762Z",
     "start_time": "2023-09-20T11:19:50.400723620Z"
    }
   },
   "id": "4d836594a78ce247"
  },
  {
   "cell_type": "code",
   "execution_count": 15,
   "outputs": [],
   "source": [
    "matches['opp_code'] = matches['opponent'].astype('category').cat.codes"
   ],
   "metadata": {
    "collapsed": false,
    "ExecuteTime": {
     "end_time": "2023-09-20T11:20:32.244402089Z",
     "start_time": "2023-09-20T11:20:32.195679866Z"
    }
   },
   "id": "980c4e80cbe0ae33"
  },
  {
   "cell_type": "code",
   "execution_count": 17,
   "outputs": [],
   "source": [
    "matches['hour'] = matches['time'].str.replace(':.+', '', regex=True).astype('int')"
   ],
   "metadata": {
    "collapsed": false,
    "ExecuteTime": {
     "end_time": "2023-09-20T11:21:49.493963737Z",
     "start_time": "2023-09-20T11:21:49.477447538Z"
    }
   },
   "id": "bbc96fdf0025eb90"
  },
  {
   "cell_type": "code",
   "execution_count": 18,
   "outputs": [],
   "source": [
    "matches['day_code'] = matches['date'].dt.dayofweek"
   ],
   "metadata": {
    "collapsed": false,
    "ExecuteTime": {
     "end_time": "2023-09-20T11:22:42.947026529Z",
     "start_time": "2023-09-20T11:22:42.933393640Z"
    }
   },
   "id": "82212579f9ad69b9"
  },
  {
   "cell_type": "code",
   "execution_count": 19,
   "outputs": [],
   "source": [
    "matches['target'] = (matches['result'] == 'W').astype('int')"
   ],
   "metadata": {
    "collapsed": false,
    "ExecuteTime": {
     "end_time": "2023-09-20T11:24:28.848096934Z",
     "start_time": "2023-09-20T11:24:28.804939449Z"
    }
   },
   "id": "500c4c68e6ed1247"
  },
  {
   "cell_type": "code",
   "execution_count": 20,
   "outputs": [],
   "source": [
    "from sklearn.ensemble import RandomForestClassifier"
   ],
   "metadata": {
    "collapsed": false,
    "ExecuteTime": {
     "end_time": "2023-09-20T11:25:00.864953058Z",
     "start_time": "2023-09-20T11:25:00.389733957Z"
    }
   },
   "id": "c3c0643c403b11bf"
  },
  {
   "cell_type": "code",
   "execution_count": 21,
   "outputs": [],
   "source": [
    "rf = RandomForestClassifier(n_estimators=50, min_samples_split=10, random_state=1)"
   ],
   "metadata": {
    "collapsed": false,
    "ExecuteTime": {
     "end_time": "2023-09-20T11:27:28.397309332Z",
     "start_time": "2023-09-20T11:27:28.346510975Z"
    }
   },
   "id": "79bd44eaeb432a3d"
  },
  {
   "cell_type": "code",
   "execution_count": 22,
   "outputs": [],
   "source": [
    "train = matches[matches['date'] < '2022-01-01']"
   ],
   "metadata": {
    "collapsed": false,
    "ExecuteTime": {
     "end_time": "2023-09-20T11:28:04.451598143Z",
     "start_time": "2023-09-20T11:28:04.404018907Z"
    }
   },
   "id": "da1aae96b2dfc3e7"
  },
  {
   "cell_type": "code",
   "execution_count": 23,
   "outputs": [],
   "source": [
    "test = matches[matches['date'] > '2022-01-01']"
   ],
   "metadata": {
    "collapsed": false,
    "ExecuteTime": {
     "end_time": "2023-09-20T11:28:18.122315883Z",
     "start_time": "2023-09-20T11:28:18.079222647Z"
    }
   },
   "id": "1b1feecaf598931c"
  },
  {
   "cell_type": "code",
   "execution_count": 24,
   "outputs": [],
   "source": [
    "predictors = ['venue_code', 'opp_code', 'hour', 'day_code']"
   ],
   "metadata": {
    "collapsed": false,
    "ExecuteTime": {
     "end_time": "2023-09-20T11:28:39.999612666Z",
     "start_time": "2023-09-20T11:28:39.954076075Z"
    }
   },
   "id": "8821c2473b25c193"
  },
  {
   "cell_type": "code",
   "execution_count": 25,
   "outputs": [
    {
     "data": {
      "text/plain": "RandomForestClassifier(min_samples_split=10, n_estimators=50, random_state=1)",
      "text/html": "<style>#sk-container-id-1 {color: black;}#sk-container-id-1 pre{padding: 0;}#sk-container-id-1 div.sk-toggleable {background-color: white;}#sk-container-id-1 label.sk-toggleable__label {cursor: pointer;display: block;width: 100%;margin-bottom: 0;padding: 0.3em;box-sizing: border-box;text-align: center;}#sk-container-id-1 label.sk-toggleable__label-arrow:before {content: \"▸\";float: left;margin-right: 0.25em;color: #696969;}#sk-container-id-1 label.sk-toggleable__label-arrow:hover:before {color: black;}#sk-container-id-1 div.sk-estimator:hover label.sk-toggleable__label-arrow:before {color: black;}#sk-container-id-1 div.sk-toggleable__content {max-height: 0;max-width: 0;overflow: hidden;text-align: left;background-color: #f0f8ff;}#sk-container-id-1 div.sk-toggleable__content pre {margin: 0.2em;color: black;border-radius: 0.25em;background-color: #f0f8ff;}#sk-container-id-1 input.sk-toggleable__control:checked~div.sk-toggleable__content {max-height: 200px;max-width: 100%;overflow: auto;}#sk-container-id-1 input.sk-toggleable__control:checked~label.sk-toggleable__label-arrow:before {content: \"▾\";}#sk-container-id-1 div.sk-estimator input.sk-toggleable__control:checked~label.sk-toggleable__label {background-color: #d4ebff;}#sk-container-id-1 div.sk-label input.sk-toggleable__control:checked~label.sk-toggleable__label {background-color: #d4ebff;}#sk-container-id-1 input.sk-hidden--visually {border: 0;clip: rect(1px 1px 1px 1px);clip: rect(1px, 1px, 1px, 1px);height: 1px;margin: -1px;overflow: hidden;padding: 0;position: absolute;width: 1px;}#sk-container-id-1 div.sk-estimator {font-family: monospace;background-color: #f0f8ff;border: 1px dotted black;border-radius: 0.25em;box-sizing: border-box;margin-bottom: 0.5em;}#sk-container-id-1 div.sk-estimator:hover {background-color: #d4ebff;}#sk-container-id-1 div.sk-parallel-item::after {content: \"\";width: 100%;border-bottom: 1px solid gray;flex-grow: 1;}#sk-container-id-1 div.sk-label:hover label.sk-toggleable__label {background-color: #d4ebff;}#sk-container-id-1 div.sk-serial::before {content: \"\";position: absolute;border-left: 1px solid gray;box-sizing: border-box;top: 0;bottom: 0;left: 50%;z-index: 0;}#sk-container-id-1 div.sk-serial {display: flex;flex-direction: column;align-items: center;background-color: white;padding-right: 0.2em;padding-left: 0.2em;position: relative;}#sk-container-id-1 div.sk-item {position: relative;z-index: 1;}#sk-container-id-1 div.sk-parallel {display: flex;align-items: stretch;justify-content: center;background-color: white;position: relative;}#sk-container-id-1 div.sk-item::before, #sk-container-id-1 div.sk-parallel-item::before {content: \"\";position: absolute;border-left: 1px solid gray;box-sizing: border-box;top: 0;bottom: 0;left: 50%;z-index: -1;}#sk-container-id-1 div.sk-parallel-item {display: flex;flex-direction: column;z-index: 1;position: relative;background-color: white;}#sk-container-id-1 div.sk-parallel-item:first-child::after {align-self: flex-end;width: 50%;}#sk-container-id-1 div.sk-parallel-item:last-child::after {align-self: flex-start;width: 50%;}#sk-container-id-1 div.sk-parallel-item:only-child::after {width: 0;}#sk-container-id-1 div.sk-dashed-wrapped {border: 1px dashed gray;margin: 0 0.4em 0.5em 0.4em;box-sizing: border-box;padding-bottom: 0.4em;background-color: white;}#sk-container-id-1 div.sk-label label {font-family: monospace;font-weight: bold;display: inline-block;line-height: 1.2em;}#sk-container-id-1 div.sk-label-container {text-align: center;}#sk-container-id-1 div.sk-container {/* jupyter's `normalize.less` sets `[hidden] { display: none; }` but bootstrap.min.css set `[hidden] { display: none !important; }` so we also need the `!important` here to be able to override the default hidden behavior on the sphinx rendered scikit-learn.org. See: https://github.com/scikit-learn/scikit-learn/issues/21755 */display: inline-block !important;position: relative;}#sk-container-id-1 div.sk-text-repr-fallback {display: none;}</style><div id=\"sk-container-id-1\" class=\"sk-top-container\"><div class=\"sk-text-repr-fallback\"><pre>RandomForestClassifier(min_samples_split=10, n_estimators=50, random_state=1)</pre><b>In a Jupyter environment, please rerun this cell to show the HTML representation or trust the notebook. <br />On GitHub, the HTML representation is unable to render, please try loading this page with nbviewer.org.</b></div><div class=\"sk-container\" hidden><div class=\"sk-item\"><div class=\"sk-estimator sk-toggleable\"><input class=\"sk-toggleable__control sk-hidden--visually\" id=\"sk-estimator-id-1\" type=\"checkbox\" checked><label for=\"sk-estimator-id-1\" class=\"sk-toggleable__label sk-toggleable__label-arrow\">RandomForestClassifier</label><div class=\"sk-toggleable__content\"><pre>RandomForestClassifier(min_samples_split=10, n_estimators=50, random_state=1)</pre></div></div></div></div></div>"
     },
     "execution_count": 25,
     "metadata": {},
     "output_type": "execute_result"
    }
   ],
   "source": [
    "rf.fit(train[predictors], train['target'])"
   ],
   "metadata": {
    "collapsed": false,
    "ExecuteTime": {
     "end_time": "2023-09-20T11:29:06.091787668Z",
     "start_time": "2023-09-20T11:29:06.040072869Z"
    }
   },
   "id": "4aea2b2dfd70e150"
  },
  {
   "cell_type": "code",
   "execution_count": 26,
   "outputs": [],
   "source": [
    "preds = rf.predict(test[predictors])"
   ],
   "metadata": {
    "collapsed": false,
    "ExecuteTime": {
     "end_time": "2023-09-20T11:29:21.086376862Z",
     "start_time": "2023-09-20T11:29:21.042615914Z"
    }
   },
   "id": "23ba76f90766be29"
  },
  {
   "cell_type": "code",
   "execution_count": 27,
   "outputs": [],
   "source": [
    "from sklearn.metrics import accuracy_score"
   ],
   "metadata": {
    "collapsed": false,
    "ExecuteTime": {
     "end_time": "2023-09-20T11:29:43.036051197Z",
     "start_time": "2023-09-20T11:29:43.011217150Z"
    }
   },
   "id": "24822e322afb8d8b"
  },
  {
   "cell_type": "code",
   "execution_count": 28,
   "outputs": [],
   "source": [
    "acc = accuracy_score(test['target'], preds)"
   ],
   "metadata": {
    "collapsed": false,
    "ExecuteTime": {
     "end_time": "2023-09-20T11:30:15.423971188Z",
     "start_time": "2023-09-20T11:30:15.381093872Z"
    }
   },
   "id": "da2a2c0464aa182a"
  },
  {
   "cell_type": "code",
   "execution_count": 29,
   "outputs": [
    {
     "data": {
      "text/plain": "0.6123188405797102"
     },
     "execution_count": 29,
     "metadata": {},
     "output_type": "execute_result"
    }
   ],
   "source": [
    "acc"
   ],
   "metadata": {
    "collapsed": false,
    "ExecuteTime": {
     "end_time": "2023-09-20T11:30:21.560232091Z",
     "start_time": "2023-09-20T11:30:21.534509461Z"
    }
   },
   "id": "f8e61d0e1a51a1a8"
  },
  {
   "cell_type": "code",
   "execution_count": 32,
   "outputs": [],
   "source": [
    "combined = pd.DataFrame(dict(actual=test['target'], prediction=preds))"
   ],
   "metadata": {
    "collapsed": false,
    "ExecuteTime": {
     "end_time": "2023-09-20T11:32:01.802428207Z",
     "start_time": "2023-09-20T11:32:01.801144675Z"
    }
   },
   "id": "8e0a1323f9139d38"
  },
  {
   "cell_type": "code",
   "execution_count": 34,
   "outputs": [
    {
     "data": {
      "text/plain": "prediction    0   1\nactual             \n0           141  31\n1            76  28",
      "text/html": "<div>\n<style scoped>\n    .dataframe tbody tr th:only-of-type {\n        vertical-align: middle;\n    }\n\n    .dataframe tbody tr th {\n        vertical-align: top;\n    }\n\n    .dataframe thead th {\n        text-align: right;\n    }\n</style>\n<table border=\"1\" class=\"dataframe\">\n  <thead>\n    <tr style=\"text-align: right;\">\n      <th>prediction</th>\n      <th>0</th>\n      <th>1</th>\n    </tr>\n    <tr>\n      <th>actual</th>\n      <th></th>\n      <th></th>\n    </tr>\n  </thead>\n  <tbody>\n    <tr>\n      <th>0</th>\n      <td>141</td>\n      <td>31</td>\n    </tr>\n    <tr>\n      <th>1</th>\n      <td>76</td>\n      <td>28</td>\n    </tr>\n  </tbody>\n</table>\n</div>"
     },
     "execution_count": 34,
     "metadata": {},
     "output_type": "execute_result"
    }
   ],
   "source": [
    "pd.crosstab(index=combined['actual'], columns=combined['prediction'])"
   ],
   "metadata": {
    "collapsed": false,
    "ExecuteTime": {
     "end_time": "2023-09-20T11:32:56.762229462Z",
     "start_time": "2023-09-20T11:32:56.740275949Z"
    }
   },
   "id": "751e145bd83375ca"
  },
  {
   "cell_type": "code",
   "execution_count": 35,
   "outputs": [],
   "source": [
    "from sklearn.metrics import precision_score"
   ],
   "metadata": {
    "collapsed": false,
    "ExecuteTime": {
     "end_time": "2023-09-20T11:33:11.220402600Z",
     "start_time": "2023-09-20T11:33:11.171808229Z"
    }
   },
   "id": "d8cf913db68d8b99"
  },
  {
   "cell_type": "code",
   "execution_count": 36,
   "outputs": [
    {
     "data": {
      "text/plain": "0.4745762711864407"
     },
     "execution_count": 36,
     "metadata": {},
     "output_type": "execute_result"
    }
   ],
   "source": [
    "precision_score(test['target'], preds)"
   ],
   "metadata": {
    "collapsed": false,
    "ExecuteTime": {
     "end_time": "2023-09-20T11:33:25.380543872Z",
     "start_time": "2023-09-20T11:33:25.360061246Z"
    }
   },
   "id": "b5d980a927405e6b"
  },
  {
   "cell_type": "code",
   "execution_count": 37,
   "outputs": [],
   "source": [
    "grouped_matches = matches.groupby('team')"
   ],
   "metadata": {
    "collapsed": false,
    "ExecuteTime": {
     "end_time": "2023-09-20T11:35:25.266829538Z",
     "start_time": "2023-09-20T11:35:25.222956549Z"
    }
   },
   "id": "7c6575aeb24def3"
  },
  {
   "cell_type": "code",
   "execution_count": 38,
   "outputs": [],
   "source": [
    "group = grouped_matches.get_group('Manchester City')"
   ],
   "metadata": {
    "collapsed": false,
    "ExecuteTime": {
     "end_time": "2023-09-20T11:35:37.128819687Z",
     "start_time": "2023-09-20T11:35:37.107333799Z"
    }
   },
   "id": "7fad1168733c9b49"
  },
  {
   "cell_type": "code",
   "execution_count": 39,
   "outputs": [
    {
     "data": {
      "text/plain": "         date   time            comp         round  day venue result   gf  \\\n1  2021-08-15  16:30  Premier League   Matchweek 1  Sun  Away      L  0.0   \n2  2021-08-21  15:00  Premier League   Matchweek 2  Sat  Home      W  5.0   \n3  2021-08-28  12:30  Premier League   Matchweek 3  Sat  Home      W  5.0   \n4  2021-09-11  15:00  Premier League   Matchweek 4  Sat  Away      W  1.0   \n6  2021-09-18  15:00  Premier League   Matchweek 5  Sat  Home      D  0.0   \n..        ...    ...             ...           ...  ...   ...    ...  ...   \n54 2021-05-01  12:30  Premier League  Matchweek 34  Sat  Away      W  2.0   \n56 2021-05-08  17:30  Premier League  Matchweek 35  Sat  Home      L  1.0   \n57 2021-05-14  20:00  Premier League  Matchweek 36  Fri  Away      W  4.0   \n58 2021-05-18  19:00  Premier League  Matchweek 37  Tue  Away      L  2.0   \n59 2021-05-23  16:00  Premier League  Matchweek 38  Sun  Home      W  5.0   \n\n     ga        opponent  ...   fk   pk  pkatt  season             team  \\\n1   1.0       Tottenham  ...  1.0  0.0    0.0    2022  Manchester City   \n2   0.0    Norwich City  ...  1.0  0.0    0.0    2022  Manchester City   \n3   0.0         Arsenal  ...  0.0  0.0    0.0    2022  Manchester City   \n4   0.0  Leicester City  ...  0.0  0.0    0.0    2022  Manchester City   \n6   0.0     Southampton  ...  1.0  0.0    0.0    2022  Manchester City   \n..  ...             ...  ...  ...  ...    ...     ...              ...   \n54  0.0  Crystal Palace  ...  1.0  0.0    0.0    2021  Manchester City   \n56  2.0         Chelsea  ...  0.0  0.0    1.0    2021  Manchester City   \n57  3.0   Newcastle Utd  ...  1.0  0.0    0.0    2021  Manchester City   \n58  3.0        Brighton  ...  1.0  0.0    0.0    2021  Manchester City   \n59  0.0         Everton  ...  0.0  0.0    0.0    2021  Manchester City   \n\n   venue_code opp_code hour  day_code  target  \n1           0       18   16         6       0  \n2           1       15   15         5       1  \n3           1        0   12         5       1  \n4           0       10   15         5       1  \n6           1       17   15         5       0  \n..        ...      ...  ...       ...     ...  \n54          0        6   12         5       1  \n56          1        5   17         5       0  \n57          0       14   20         4       1  \n58          0        3   19         1       0  \n59          1        7   16         6       1  \n\n[71 rows x 32 columns]",
      "text/html": "<div>\n<style scoped>\n    .dataframe tbody tr th:only-of-type {\n        vertical-align: middle;\n    }\n\n    .dataframe tbody tr th {\n        vertical-align: top;\n    }\n\n    .dataframe thead th {\n        text-align: right;\n    }\n</style>\n<table border=\"1\" class=\"dataframe\">\n  <thead>\n    <tr style=\"text-align: right;\">\n      <th></th>\n      <th>date</th>\n      <th>time</th>\n      <th>comp</th>\n      <th>round</th>\n      <th>day</th>\n      <th>venue</th>\n      <th>result</th>\n      <th>gf</th>\n      <th>ga</th>\n      <th>opponent</th>\n      <th>...</th>\n      <th>fk</th>\n      <th>pk</th>\n      <th>pkatt</th>\n      <th>season</th>\n      <th>team</th>\n      <th>venue_code</th>\n      <th>opp_code</th>\n      <th>hour</th>\n      <th>day_code</th>\n      <th>target</th>\n    </tr>\n  </thead>\n  <tbody>\n    <tr>\n      <th>1</th>\n      <td>2021-08-15</td>\n      <td>16:30</td>\n      <td>Premier League</td>\n      <td>Matchweek 1</td>\n      <td>Sun</td>\n      <td>Away</td>\n      <td>L</td>\n      <td>0.0</td>\n      <td>1.0</td>\n      <td>Tottenham</td>\n      <td>...</td>\n      <td>1.0</td>\n      <td>0.0</td>\n      <td>0.0</td>\n      <td>2022</td>\n      <td>Manchester City</td>\n      <td>0</td>\n      <td>18</td>\n      <td>16</td>\n      <td>6</td>\n      <td>0</td>\n    </tr>\n    <tr>\n      <th>2</th>\n      <td>2021-08-21</td>\n      <td>15:00</td>\n      <td>Premier League</td>\n      <td>Matchweek 2</td>\n      <td>Sat</td>\n      <td>Home</td>\n      <td>W</td>\n      <td>5.0</td>\n      <td>0.0</td>\n      <td>Norwich City</td>\n      <td>...</td>\n      <td>1.0</td>\n      <td>0.0</td>\n      <td>0.0</td>\n      <td>2022</td>\n      <td>Manchester City</td>\n      <td>1</td>\n      <td>15</td>\n      <td>15</td>\n      <td>5</td>\n      <td>1</td>\n    </tr>\n    <tr>\n      <th>3</th>\n      <td>2021-08-28</td>\n      <td>12:30</td>\n      <td>Premier League</td>\n      <td>Matchweek 3</td>\n      <td>Sat</td>\n      <td>Home</td>\n      <td>W</td>\n      <td>5.0</td>\n      <td>0.0</td>\n      <td>Arsenal</td>\n      <td>...</td>\n      <td>0.0</td>\n      <td>0.0</td>\n      <td>0.0</td>\n      <td>2022</td>\n      <td>Manchester City</td>\n      <td>1</td>\n      <td>0</td>\n      <td>12</td>\n      <td>5</td>\n      <td>1</td>\n    </tr>\n    <tr>\n      <th>4</th>\n      <td>2021-09-11</td>\n      <td>15:00</td>\n      <td>Premier League</td>\n      <td>Matchweek 4</td>\n      <td>Sat</td>\n      <td>Away</td>\n      <td>W</td>\n      <td>1.0</td>\n      <td>0.0</td>\n      <td>Leicester City</td>\n      <td>...</td>\n      <td>0.0</td>\n      <td>0.0</td>\n      <td>0.0</td>\n      <td>2022</td>\n      <td>Manchester City</td>\n      <td>0</td>\n      <td>10</td>\n      <td>15</td>\n      <td>5</td>\n      <td>1</td>\n    </tr>\n    <tr>\n      <th>6</th>\n      <td>2021-09-18</td>\n      <td>15:00</td>\n      <td>Premier League</td>\n      <td>Matchweek 5</td>\n      <td>Sat</td>\n      <td>Home</td>\n      <td>D</td>\n      <td>0.0</td>\n      <td>0.0</td>\n      <td>Southampton</td>\n      <td>...</td>\n      <td>1.0</td>\n      <td>0.0</td>\n      <td>0.0</td>\n      <td>2022</td>\n      <td>Manchester City</td>\n      <td>1</td>\n      <td>17</td>\n      <td>15</td>\n      <td>5</td>\n      <td>0</td>\n    </tr>\n    <tr>\n      <th>...</th>\n      <td>...</td>\n      <td>...</td>\n      <td>...</td>\n      <td>...</td>\n      <td>...</td>\n      <td>...</td>\n      <td>...</td>\n      <td>...</td>\n      <td>...</td>\n      <td>...</td>\n      <td>...</td>\n      <td>...</td>\n      <td>...</td>\n      <td>...</td>\n      <td>...</td>\n      <td>...</td>\n      <td>...</td>\n      <td>...</td>\n      <td>...</td>\n      <td>...</td>\n      <td>...</td>\n    </tr>\n    <tr>\n      <th>54</th>\n      <td>2021-05-01</td>\n      <td>12:30</td>\n      <td>Premier League</td>\n      <td>Matchweek 34</td>\n      <td>Sat</td>\n      <td>Away</td>\n      <td>W</td>\n      <td>2.0</td>\n      <td>0.0</td>\n      <td>Crystal Palace</td>\n      <td>...</td>\n      <td>1.0</td>\n      <td>0.0</td>\n      <td>0.0</td>\n      <td>2021</td>\n      <td>Manchester City</td>\n      <td>0</td>\n      <td>6</td>\n      <td>12</td>\n      <td>5</td>\n      <td>1</td>\n    </tr>\n    <tr>\n      <th>56</th>\n      <td>2021-05-08</td>\n      <td>17:30</td>\n      <td>Premier League</td>\n      <td>Matchweek 35</td>\n      <td>Sat</td>\n      <td>Home</td>\n      <td>L</td>\n      <td>1.0</td>\n      <td>2.0</td>\n      <td>Chelsea</td>\n      <td>...</td>\n      <td>0.0</td>\n      <td>0.0</td>\n      <td>1.0</td>\n      <td>2021</td>\n      <td>Manchester City</td>\n      <td>1</td>\n      <td>5</td>\n      <td>17</td>\n      <td>5</td>\n      <td>0</td>\n    </tr>\n    <tr>\n      <th>57</th>\n      <td>2021-05-14</td>\n      <td>20:00</td>\n      <td>Premier League</td>\n      <td>Matchweek 36</td>\n      <td>Fri</td>\n      <td>Away</td>\n      <td>W</td>\n      <td>4.0</td>\n      <td>3.0</td>\n      <td>Newcastle Utd</td>\n      <td>...</td>\n      <td>1.0</td>\n      <td>0.0</td>\n      <td>0.0</td>\n      <td>2021</td>\n      <td>Manchester City</td>\n      <td>0</td>\n      <td>14</td>\n      <td>20</td>\n      <td>4</td>\n      <td>1</td>\n    </tr>\n    <tr>\n      <th>58</th>\n      <td>2021-05-18</td>\n      <td>19:00</td>\n      <td>Premier League</td>\n      <td>Matchweek 37</td>\n      <td>Tue</td>\n      <td>Away</td>\n      <td>L</td>\n      <td>2.0</td>\n      <td>3.0</td>\n      <td>Brighton</td>\n      <td>...</td>\n      <td>1.0</td>\n      <td>0.0</td>\n      <td>0.0</td>\n      <td>2021</td>\n      <td>Manchester City</td>\n      <td>0</td>\n      <td>3</td>\n      <td>19</td>\n      <td>1</td>\n      <td>0</td>\n    </tr>\n    <tr>\n      <th>59</th>\n      <td>2021-05-23</td>\n      <td>16:00</td>\n      <td>Premier League</td>\n      <td>Matchweek 38</td>\n      <td>Sun</td>\n      <td>Home</td>\n      <td>W</td>\n      <td>5.0</td>\n      <td>0.0</td>\n      <td>Everton</td>\n      <td>...</td>\n      <td>0.0</td>\n      <td>0.0</td>\n      <td>0.0</td>\n      <td>2021</td>\n      <td>Manchester City</td>\n      <td>1</td>\n      <td>7</td>\n      <td>16</td>\n      <td>6</td>\n      <td>1</td>\n    </tr>\n  </tbody>\n</table>\n<p>71 rows × 32 columns</p>\n</div>"
     },
     "execution_count": 39,
     "metadata": {},
     "output_type": "execute_result"
    }
   ],
   "source": [
    "group"
   ],
   "metadata": {
    "collapsed": false,
    "ExecuteTime": {
     "end_time": "2023-09-20T11:35:38.550800801Z",
     "start_time": "2023-09-20T11:35:38.533228269Z"
    }
   },
   "id": "1d05ad1ccb1e4353"
  },
  {
   "cell_type": "code",
   "execution_count": 40,
   "outputs": [],
   "source": [
    "def rolling_averages(group, cols, new_cols):\n",
    "    group = group.sort_values('date')\n",
    "    rolling_stats = group[cols].rolling(3, closed='left').mean()\n",
    "    group[new_cols] = rolling_stats\n",
    "    group = group.dropna(subset=new_cols)\n",
    "    return group"
   ],
   "metadata": {
    "collapsed": false,
    "ExecuteTime": {
     "end_time": "2023-09-20T11:39:24.306994787Z",
     "start_time": "2023-09-20T11:39:24.265722355Z"
    }
   },
   "id": "df9fd12b8c6e7851"
  },
  {
   "cell_type": "code",
   "execution_count": 41,
   "outputs": [],
   "source": [
    "cols = ['gf', 'ga', 'sh', 'sot', 'dist', 'fk', 'pk', 'pkatt']\n",
    "new_cols = [f'{c}_rolling' for c in cols]"
   ],
   "metadata": {
    "collapsed": false,
    "ExecuteTime": {
     "end_time": "2023-09-20T11:40:09.260755046Z",
     "start_time": "2023-09-20T11:40:09.210297355Z"
    }
   },
   "id": "45dcb9f878a5724d"
  },
  {
   "cell_type": "code",
   "execution_count": 42,
   "outputs": [
    {
     "data": {
      "text/plain": "['gf_rolling',\n 'ga_rolling',\n 'sh_rolling',\n 'sot_rolling',\n 'dist_rolling',\n 'fk_rolling',\n 'pk_rolling',\n 'pkatt_rolling']"
     },
     "execution_count": 42,
     "metadata": {},
     "output_type": "execute_result"
    }
   ],
   "source": [
    "new_cols"
   ],
   "metadata": {
    "collapsed": false,
    "ExecuteTime": {
     "end_time": "2023-09-20T11:40:10.856076211Z",
     "start_time": "2023-09-20T11:40:10.824361480Z"
    }
   },
   "id": "1e5a65aeffda2d31"
  },
  {
   "cell_type": "code",
   "execution_count": 43,
   "outputs": [
    {
     "data": {
      "text/plain": "         date   time            comp         round  day venue result   gf  \\\n5  2020-10-17  17:30  Premier League   Matchweek 5  Sat  Home      W  1.0   \n7  2020-10-24  12:30  Premier League   Matchweek 6  Sat  Away      D  1.0   \n9  2020-10-31  12:30  Premier League   Matchweek 7  Sat  Away      W  1.0   \n11 2020-11-08  16:30  Premier League   Matchweek 8  Sun  Home      D  1.0   \n12 2020-11-21  17:30  Premier League   Matchweek 9  Sat  Away      L  0.0   \n..        ...    ...             ...           ...  ...   ...    ...  ...   \n42 2022-03-14  20:00  Premier League  Matchweek 29  Mon  Away      D  0.0   \n44 2022-04-02  15:00  Premier League  Matchweek 31  Sat  Away      W  2.0   \n46 2022-04-10  16:30  Premier League  Matchweek 32  Sun  Home      D  2.0   \n49 2022-04-20  20:00  Premier League  Matchweek 30  Wed  Home      W  3.0   \n50 2022-04-23  15:00  Premier League  Matchweek 34  Sat  Home      W  5.0   \n\n     ga        opponent  ...  day_code  target  gf_rolling  ga_rolling  \\\n5   0.0         Arsenal  ...         5       1    2.000000    2.333333   \n7   1.0        West Ham  ...         5       0    1.333333    2.000000   \n9   0.0   Sheffield Utd  ...         5       1    1.000000    0.666667   \n11  1.0       Liverpool  ...         6       0    1.000000    0.333333   \n12  2.0       Tottenham  ...         5       0    1.000000    0.666667   \n..  ...             ...  ...       ...     ...         ...         ...   \n42  0.0  Crystal Palace  ...         0       0    2.333333    1.333333   \n44  0.0         Burnley  ...         5       1    1.666667    0.333333   \n46  2.0       Liverpool  ...         6       0    2.000000    0.333333   \n49  0.0        Brighton  ...         2       1    1.333333    0.666667   \n50  1.0         Watford  ...         5       1    2.333333    0.666667   \n\n   sh_rolling sot_rolling dist_rolling fk_rolling  pk_rolling  pkatt_rolling  \n5   17.333333    4.666667    18.900000   1.333333    0.333333       0.333333  \n7   17.333333    3.666667    17.733333   0.666667    0.000000       0.000000  \n9   16.666667    4.333333    18.233333   0.666667    0.000000       0.000000  \n11  14.333333    6.666667    18.466667   1.000000    0.000000       0.000000  \n12  12.000000    5.666667    19.366667   1.000000    0.000000       0.333333  \n..        ...         ...          ...        ...         ...            ...  \n42  19.000000    7.000000    15.366667   0.333333    0.333333       0.333333  \n44  18.333333    7.333333    16.000000   0.333333    0.000000       0.000000  \n46  20.000000    6.666667    16.133333   0.333333    0.000000       0.000000  \n49  15.666667    4.666667    16.700000   0.333333    0.000000       0.000000  \n50  15.333333    5.000000    17.200000   0.333333    0.000000       0.000000  \n\n[68 rows x 40 columns]",
      "text/html": "<div>\n<style scoped>\n    .dataframe tbody tr th:only-of-type {\n        vertical-align: middle;\n    }\n\n    .dataframe tbody tr th {\n        vertical-align: top;\n    }\n\n    .dataframe thead th {\n        text-align: right;\n    }\n</style>\n<table border=\"1\" class=\"dataframe\">\n  <thead>\n    <tr style=\"text-align: right;\">\n      <th></th>\n      <th>date</th>\n      <th>time</th>\n      <th>comp</th>\n      <th>round</th>\n      <th>day</th>\n      <th>venue</th>\n      <th>result</th>\n      <th>gf</th>\n      <th>ga</th>\n      <th>opponent</th>\n      <th>...</th>\n      <th>day_code</th>\n      <th>target</th>\n      <th>gf_rolling</th>\n      <th>ga_rolling</th>\n      <th>sh_rolling</th>\n      <th>sot_rolling</th>\n      <th>dist_rolling</th>\n      <th>fk_rolling</th>\n      <th>pk_rolling</th>\n      <th>pkatt_rolling</th>\n    </tr>\n  </thead>\n  <tbody>\n    <tr>\n      <th>5</th>\n      <td>2020-10-17</td>\n      <td>17:30</td>\n      <td>Premier League</td>\n      <td>Matchweek 5</td>\n      <td>Sat</td>\n      <td>Home</td>\n      <td>W</td>\n      <td>1.0</td>\n      <td>0.0</td>\n      <td>Arsenal</td>\n      <td>...</td>\n      <td>5</td>\n      <td>1</td>\n      <td>2.000000</td>\n      <td>2.333333</td>\n      <td>17.333333</td>\n      <td>4.666667</td>\n      <td>18.900000</td>\n      <td>1.333333</td>\n      <td>0.333333</td>\n      <td>0.333333</td>\n    </tr>\n    <tr>\n      <th>7</th>\n      <td>2020-10-24</td>\n      <td>12:30</td>\n      <td>Premier League</td>\n      <td>Matchweek 6</td>\n      <td>Sat</td>\n      <td>Away</td>\n      <td>D</td>\n      <td>1.0</td>\n      <td>1.0</td>\n      <td>West Ham</td>\n      <td>...</td>\n      <td>5</td>\n      <td>0</td>\n      <td>1.333333</td>\n      <td>2.000000</td>\n      <td>17.333333</td>\n      <td>3.666667</td>\n      <td>17.733333</td>\n      <td>0.666667</td>\n      <td>0.000000</td>\n      <td>0.000000</td>\n    </tr>\n    <tr>\n      <th>9</th>\n      <td>2020-10-31</td>\n      <td>12:30</td>\n      <td>Premier League</td>\n      <td>Matchweek 7</td>\n      <td>Sat</td>\n      <td>Away</td>\n      <td>W</td>\n      <td>1.0</td>\n      <td>0.0</td>\n      <td>Sheffield Utd</td>\n      <td>...</td>\n      <td>5</td>\n      <td>1</td>\n      <td>1.000000</td>\n      <td>0.666667</td>\n      <td>16.666667</td>\n      <td>4.333333</td>\n      <td>18.233333</td>\n      <td>0.666667</td>\n      <td>0.000000</td>\n      <td>0.000000</td>\n    </tr>\n    <tr>\n      <th>11</th>\n      <td>2020-11-08</td>\n      <td>16:30</td>\n      <td>Premier League</td>\n      <td>Matchweek 8</td>\n      <td>Sun</td>\n      <td>Home</td>\n      <td>D</td>\n      <td>1.0</td>\n      <td>1.0</td>\n      <td>Liverpool</td>\n      <td>...</td>\n      <td>6</td>\n      <td>0</td>\n      <td>1.000000</td>\n      <td>0.333333</td>\n      <td>14.333333</td>\n      <td>6.666667</td>\n      <td>18.466667</td>\n      <td>1.000000</td>\n      <td>0.000000</td>\n      <td>0.000000</td>\n    </tr>\n    <tr>\n      <th>12</th>\n      <td>2020-11-21</td>\n      <td>17:30</td>\n      <td>Premier League</td>\n      <td>Matchweek 9</td>\n      <td>Sat</td>\n      <td>Away</td>\n      <td>L</td>\n      <td>0.0</td>\n      <td>2.0</td>\n      <td>Tottenham</td>\n      <td>...</td>\n      <td>5</td>\n      <td>0</td>\n      <td>1.000000</td>\n      <td>0.666667</td>\n      <td>12.000000</td>\n      <td>5.666667</td>\n      <td>19.366667</td>\n      <td>1.000000</td>\n      <td>0.000000</td>\n      <td>0.333333</td>\n    </tr>\n    <tr>\n      <th>...</th>\n      <td>...</td>\n      <td>...</td>\n      <td>...</td>\n      <td>...</td>\n      <td>...</td>\n      <td>...</td>\n      <td>...</td>\n      <td>...</td>\n      <td>...</td>\n      <td>...</td>\n      <td>...</td>\n      <td>...</td>\n      <td>...</td>\n      <td>...</td>\n      <td>...</td>\n      <td>...</td>\n      <td>...</td>\n      <td>...</td>\n      <td>...</td>\n      <td>...</td>\n      <td>...</td>\n    </tr>\n    <tr>\n      <th>42</th>\n      <td>2022-03-14</td>\n      <td>20:00</td>\n      <td>Premier League</td>\n      <td>Matchweek 29</td>\n      <td>Mon</td>\n      <td>Away</td>\n      <td>D</td>\n      <td>0.0</td>\n      <td>0.0</td>\n      <td>Crystal Palace</td>\n      <td>...</td>\n      <td>0</td>\n      <td>0</td>\n      <td>2.333333</td>\n      <td>1.333333</td>\n      <td>19.000000</td>\n      <td>7.000000</td>\n      <td>15.366667</td>\n      <td>0.333333</td>\n      <td>0.333333</td>\n      <td>0.333333</td>\n    </tr>\n    <tr>\n      <th>44</th>\n      <td>2022-04-02</td>\n      <td>15:00</td>\n      <td>Premier League</td>\n      <td>Matchweek 31</td>\n      <td>Sat</td>\n      <td>Away</td>\n      <td>W</td>\n      <td>2.0</td>\n      <td>0.0</td>\n      <td>Burnley</td>\n      <td>...</td>\n      <td>5</td>\n      <td>1</td>\n      <td>1.666667</td>\n      <td>0.333333</td>\n      <td>18.333333</td>\n      <td>7.333333</td>\n      <td>16.000000</td>\n      <td>0.333333</td>\n      <td>0.000000</td>\n      <td>0.000000</td>\n    </tr>\n    <tr>\n      <th>46</th>\n      <td>2022-04-10</td>\n      <td>16:30</td>\n      <td>Premier League</td>\n      <td>Matchweek 32</td>\n      <td>Sun</td>\n      <td>Home</td>\n      <td>D</td>\n      <td>2.0</td>\n      <td>2.0</td>\n      <td>Liverpool</td>\n      <td>...</td>\n      <td>6</td>\n      <td>0</td>\n      <td>2.000000</td>\n      <td>0.333333</td>\n      <td>20.000000</td>\n      <td>6.666667</td>\n      <td>16.133333</td>\n      <td>0.333333</td>\n      <td>0.000000</td>\n      <td>0.000000</td>\n    </tr>\n    <tr>\n      <th>49</th>\n      <td>2022-04-20</td>\n      <td>20:00</td>\n      <td>Premier League</td>\n      <td>Matchweek 30</td>\n      <td>Wed</td>\n      <td>Home</td>\n      <td>W</td>\n      <td>3.0</td>\n      <td>0.0</td>\n      <td>Brighton</td>\n      <td>...</td>\n      <td>2</td>\n      <td>1</td>\n      <td>1.333333</td>\n      <td>0.666667</td>\n      <td>15.666667</td>\n      <td>4.666667</td>\n      <td>16.700000</td>\n      <td>0.333333</td>\n      <td>0.000000</td>\n      <td>0.000000</td>\n    </tr>\n    <tr>\n      <th>50</th>\n      <td>2022-04-23</td>\n      <td>15:00</td>\n      <td>Premier League</td>\n      <td>Matchweek 34</td>\n      <td>Sat</td>\n      <td>Home</td>\n      <td>W</td>\n      <td>5.0</td>\n      <td>1.0</td>\n      <td>Watford</td>\n      <td>...</td>\n      <td>5</td>\n      <td>1</td>\n      <td>2.333333</td>\n      <td>0.666667</td>\n      <td>15.333333</td>\n      <td>5.000000</td>\n      <td>17.200000</td>\n      <td>0.333333</td>\n      <td>0.000000</td>\n      <td>0.000000</td>\n    </tr>\n  </tbody>\n</table>\n<p>68 rows × 40 columns</p>\n</div>"
     },
     "execution_count": 43,
     "metadata": {},
     "output_type": "execute_result"
    }
   ],
   "source": [
    "rolling_averages(group, cols, new_cols)"
   ],
   "metadata": {
    "collapsed": false,
    "ExecuteTime": {
     "end_time": "2023-09-20T11:40:38.602264395Z",
     "start_time": "2023-09-20T11:40:38.565654059Z"
    }
   },
   "id": "8840b14ca32cdb31"
  },
  {
   "cell_type": "code",
   "execution_count": 44,
   "outputs": [],
   "source": [
    "matches_rolling = matches.groupby('team').apply(lambda x: rolling_averages(x, cols, new_cols))"
   ],
   "metadata": {
    "collapsed": false,
    "ExecuteTime": {
     "end_time": "2023-09-20T11:41:23.251225923Z",
     "start_time": "2023-09-20T11:41:23.179459990Z"
    }
   },
   "id": "434563c2a21eeb92"
  },
  {
   "cell_type": "code",
   "execution_count": 45,
   "outputs": [
    {
     "data": {
      "text/plain": "                                 date   time            comp         round  \\\nteam                                                                         \nArsenal                 6  2020-10-04  14:00  Premier League   Matchweek 4   \n                        7  2020-10-17  17:30  Premier League   Matchweek 5   \n                        9  2020-10-25  19:15  Premier League   Matchweek 6   \n                        11 2020-11-01  16:30  Premier League   Matchweek 7   \n                        13 2020-11-08  19:15  Premier League   Matchweek 8   \n...                               ...    ...             ...           ...   \nWolverhampton Wanderers 32 2022-03-13  14:00  Premier League  Matchweek 29   \n                        33 2022-03-18  20:00  Premier League  Matchweek 30   \n                        34 2022-04-02  15:00  Premier League  Matchweek 31   \n                        35 2022-04-08  20:00  Premier League  Matchweek 32   \n                        36 2022-04-24  14:00  Premier League  Matchweek 34   \n\n                            day venue result   gf   ga         opponent  ...  \\\nteam                                                                     ...   \nArsenal                 6   Sun  Home      W  2.0  1.0    Sheffield Utd  ...   \n                        7   Sat  Away      L  0.0  1.0  Manchester City  ...   \n                        9   Sun  Home      L  0.0  1.0   Leicester City  ...   \n                        11  Sun  Away      W  1.0  0.0   Manchester Utd  ...   \n                        13  Sun  Home      L  0.0  3.0      Aston Villa  ...   \n...                         ...   ...    ...  ...  ...              ...  ...   \nWolverhampton Wanderers 32  Sun  Away      W  1.0  0.0          Everton  ...   \n                        33  Fri  Home      L  2.0  3.0     Leeds United  ...   \n                        34  Sat  Home      W  2.0  1.0      Aston Villa  ...   \n                        35  Fri  Away      L  0.0  1.0    Newcastle Utd  ...   \n                        36  Sun  Away      L  0.0  1.0          Burnley  ...   \n\n                            day_code  target  gf_rolling  ga_rolling  \\\nteam                                                                   \nArsenal                 6          6       1    2.000000    1.333333   \n                        7          5       0    1.666667    1.666667   \n                        9          6       0    1.000000    1.666667   \n                        11         6       1    0.666667    1.000000   \n                        13         6       0    0.333333    0.666667   \n...                              ...     ...         ...         ...   \nWolverhampton Wanderers 32         6       1    1.333333    1.000000   \n                        33         4       0    1.666667    0.666667   \n                        34         5       1    2.333333    1.000000   \n                        35         4       0    1.666667    1.333333   \n                        36         6       0    1.333333    1.666667   \n\n                           sh_rolling sot_rolling dist_rolling fk_rolling  \\\nteam                                                                        \nArsenal                 6    7.666667    3.666667    14.733333   0.666667   \n                        7    5.333333    3.666667    15.766667   0.000000   \n                        9    7.000000    3.666667    16.733333   0.666667   \n                        11   9.666667    4.000000    16.033333   1.000000   \n                        13   9.666667    2.666667    18.033333   1.000000   \n...                               ...         ...          ...        ...   \nWolverhampton Wanderers 32  12.333333    3.666667    19.300000   0.000000   \n                        33  12.333333    4.333333    19.600000   0.000000   \n                        34  13.000000    5.333333    19.833333   0.000000   \n                        35  13.000000    5.000000    18.533333   0.000000   \n                        36  10.000000    4.666667    17.633333   0.000000   \n\n                            pk_rolling  pkatt_rolling  \nteam                                                   \nArsenal                 6     0.000000       0.000000  \n                        7     0.000000       0.000000  \n                        9     0.000000       0.000000  \n                        11    0.000000       0.000000  \n                        13    0.333333       0.333333  \n...                                ...            ...  \nWolverhampton Wanderers 32    0.000000       0.000000  \n                        33    0.000000       0.000000  \n                        34    0.000000       0.000000  \n                        35    0.000000       0.000000  \n                        36    0.000000       0.000000  \n\n[1317 rows x 40 columns]",
      "text/html": "<div>\n<style scoped>\n    .dataframe tbody tr th:only-of-type {\n        vertical-align: middle;\n    }\n\n    .dataframe tbody tr th {\n        vertical-align: top;\n    }\n\n    .dataframe thead th {\n        text-align: right;\n    }\n</style>\n<table border=\"1\" class=\"dataframe\">\n  <thead>\n    <tr style=\"text-align: right;\">\n      <th></th>\n      <th></th>\n      <th>date</th>\n      <th>time</th>\n      <th>comp</th>\n      <th>round</th>\n      <th>day</th>\n      <th>venue</th>\n      <th>result</th>\n      <th>gf</th>\n      <th>ga</th>\n      <th>opponent</th>\n      <th>...</th>\n      <th>day_code</th>\n      <th>target</th>\n      <th>gf_rolling</th>\n      <th>ga_rolling</th>\n      <th>sh_rolling</th>\n      <th>sot_rolling</th>\n      <th>dist_rolling</th>\n      <th>fk_rolling</th>\n      <th>pk_rolling</th>\n      <th>pkatt_rolling</th>\n    </tr>\n    <tr>\n      <th>team</th>\n      <th></th>\n      <th></th>\n      <th></th>\n      <th></th>\n      <th></th>\n      <th></th>\n      <th></th>\n      <th></th>\n      <th></th>\n      <th></th>\n      <th></th>\n      <th></th>\n      <th></th>\n      <th></th>\n      <th></th>\n      <th></th>\n      <th></th>\n      <th></th>\n      <th></th>\n      <th></th>\n      <th></th>\n      <th></th>\n    </tr>\n  </thead>\n  <tbody>\n    <tr>\n      <th rowspan=\"5\" valign=\"top\">Arsenal</th>\n      <th>6</th>\n      <td>2020-10-04</td>\n      <td>14:00</td>\n      <td>Premier League</td>\n      <td>Matchweek 4</td>\n      <td>Sun</td>\n      <td>Home</td>\n      <td>W</td>\n      <td>2.0</td>\n      <td>1.0</td>\n      <td>Sheffield Utd</td>\n      <td>...</td>\n      <td>6</td>\n      <td>1</td>\n      <td>2.000000</td>\n      <td>1.333333</td>\n      <td>7.666667</td>\n      <td>3.666667</td>\n      <td>14.733333</td>\n      <td>0.666667</td>\n      <td>0.000000</td>\n      <td>0.000000</td>\n    </tr>\n    <tr>\n      <th>7</th>\n      <td>2020-10-17</td>\n      <td>17:30</td>\n      <td>Premier League</td>\n      <td>Matchweek 5</td>\n      <td>Sat</td>\n      <td>Away</td>\n      <td>L</td>\n      <td>0.0</td>\n      <td>1.0</td>\n      <td>Manchester City</td>\n      <td>...</td>\n      <td>5</td>\n      <td>0</td>\n      <td>1.666667</td>\n      <td>1.666667</td>\n      <td>5.333333</td>\n      <td>3.666667</td>\n      <td>15.766667</td>\n      <td>0.000000</td>\n      <td>0.000000</td>\n      <td>0.000000</td>\n    </tr>\n    <tr>\n      <th>9</th>\n      <td>2020-10-25</td>\n      <td>19:15</td>\n      <td>Premier League</td>\n      <td>Matchweek 6</td>\n      <td>Sun</td>\n      <td>Home</td>\n      <td>L</td>\n      <td>0.0</td>\n      <td>1.0</td>\n      <td>Leicester City</td>\n      <td>...</td>\n      <td>6</td>\n      <td>0</td>\n      <td>1.000000</td>\n      <td>1.666667</td>\n      <td>7.000000</td>\n      <td>3.666667</td>\n      <td>16.733333</td>\n      <td>0.666667</td>\n      <td>0.000000</td>\n      <td>0.000000</td>\n    </tr>\n    <tr>\n      <th>11</th>\n      <td>2020-11-01</td>\n      <td>16:30</td>\n      <td>Premier League</td>\n      <td>Matchweek 7</td>\n      <td>Sun</td>\n      <td>Away</td>\n      <td>W</td>\n      <td>1.0</td>\n      <td>0.0</td>\n      <td>Manchester Utd</td>\n      <td>...</td>\n      <td>6</td>\n      <td>1</td>\n      <td>0.666667</td>\n      <td>1.000000</td>\n      <td>9.666667</td>\n      <td>4.000000</td>\n      <td>16.033333</td>\n      <td>1.000000</td>\n      <td>0.000000</td>\n      <td>0.000000</td>\n    </tr>\n    <tr>\n      <th>13</th>\n      <td>2020-11-08</td>\n      <td>19:15</td>\n      <td>Premier League</td>\n      <td>Matchweek 8</td>\n      <td>Sun</td>\n      <td>Home</td>\n      <td>L</td>\n      <td>0.0</td>\n      <td>3.0</td>\n      <td>Aston Villa</td>\n      <td>...</td>\n      <td>6</td>\n      <td>0</td>\n      <td>0.333333</td>\n      <td>0.666667</td>\n      <td>9.666667</td>\n      <td>2.666667</td>\n      <td>18.033333</td>\n      <td>1.000000</td>\n      <td>0.333333</td>\n      <td>0.333333</td>\n    </tr>\n    <tr>\n      <th>...</th>\n      <th>...</th>\n      <td>...</td>\n      <td>...</td>\n      <td>...</td>\n      <td>...</td>\n      <td>...</td>\n      <td>...</td>\n      <td>...</td>\n      <td>...</td>\n      <td>...</td>\n      <td>...</td>\n      <td>...</td>\n      <td>...</td>\n      <td>...</td>\n      <td>...</td>\n      <td>...</td>\n      <td>...</td>\n      <td>...</td>\n      <td>...</td>\n      <td>...</td>\n      <td>...</td>\n      <td>...</td>\n    </tr>\n    <tr>\n      <th rowspan=\"5\" valign=\"top\">Wolverhampton Wanderers</th>\n      <th>32</th>\n      <td>2022-03-13</td>\n      <td>14:00</td>\n      <td>Premier League</td>\n      <td>Matchweek 29</td>\n      <td>Sun</td>\n      <td>Away</td>\n      <td>W</td>\n      <td>1.0</td>\n      <td>0.0</td>\n      <td>Everton</td>\n      <td>...</td>\n      <td>6</td>\n      <td>1</td>\n      <td>1.333333</td>\n      <td>1.000000</td>\n      <td>12.333333</td>\n      <td>3.666667</td>\n      <td>19.300000</td>\n      <td>0.000000</td>\n      <td>0.000000</td>\n      <td>0.000000</td>\n    </tr>\n    <tr>\n      <th>33</th>\n      <td>2022-03-18</td>\n      <td>20:00</td>\n      <td>Premier League</td>\n      <td>Matchweek 30</td>\n      <td>Fri</td>\n      <td>Home</td>\n      <td>L</td>\n      <td>2.0</td>\n      <td>3.0</td>\n      <td>Leeds United</td>\n      <td>...</td>\n      <td>4</td>\n      <td>0</td>\n      <td>1.666667</td>\n      <td>0.666667</td>\n      <td>12.333333</td>\n      <td>4.333333</td>\n      <td>19.600000</td>\n      <td>0.000000</td>\n      <td>0.000000</td>\n      <td>0.000000</td>\n    </tr>\n    <tr>\n      <th>34</th>\n      <td>2022-04-02</td>\n      <td>15:00</td>\n      <td>Premier League</td>\n      <td>Matchweek 31</td>\n      <td>Sat</td>\n      <td>Home</td>\n      <td>W</td>\n      <td>2.0</td>\n      <td>1.0</td>\n      <td>Aston Villa</td>\n      <td>...</td>\n      <td>5</td>\n      <td>1</td>\n      <td>2.333333</td>\n      <td>1.000000</td>\n      <td>13.000000</td>\n      <td>5.333333</td>\n      <td>19.833333</td>\n      <td>0.000000</td>\n      <td>0.000000</td>\n      <td>0.000000</td>\n    </tr>\n    <tr>\n      <th>35</th>\n      <td>2022-04-08</td>\n      <td>20:00</td>\n      <td>Premier League</td>\n      <td>Matchweek 32</td>\n      <td>Fri</td>\n      <td>Away</td>\n      <td>L</td>\n      <td>0.0</td>\n      <td>1.0</td>\n      <td>Newcastle Utd</td>\n      <td>...</td>\n      <td>4</td>\n      <td>0</td>\n      <td>1.666667</td>\n      <td>1.333333</td>\n      <td>13.000000</td>\n      <td>5.000000</td>\n      <td>18.533333</td>\n      <td>0.000000</td>\n      <td>0.000000</td>\n      <td>0.000000</td>\n    </tr>\n    <tr>\n      <th>36</th>\n      <td>2022-04-24</td>\n      <td>14:00</td>\n      <td>Premier League</td>\n      <td>Matchweek 34</td>\n      <td>Sun</td>\n      <td>Away</td>\n      <td>L</td>\n      <td>0.0</td>\n      <td>1.0</td>\n      <td>Burnley</td>\n      <td>...</td>\n      <td>6</td>\n      <td>0</td>\n      <td>1.333333</td>\n      <td>1.666667</td>\n      <td>10.000000</td>\n      <td>4.666667</td>\n      <td>17.633333</td>\n      <td>0.000000</td>\n      <td>0.000000</td>\n      <td>0.000000</td>\n    </tr>\n  </tbody>\n</table>\n<p>1317 rows × 40 columns</p>\n</div>"
     },
     "execution_count": 45,
     "metadata": {},
     "output_type": "execute_result"
    }
   ],
   "source": [
    "matches_rolling"
   ],
   "metadata": {
    "collapsed": false,
    "ExecuteTime": {
     "end_time": "2023-09-20T11:41:27.605663708Z",
     "start_time": "2023-09-20T11:41:27.554444089Z"
    }
   },
   "id": "87cdda5e702d2df2"
  },
  {
   "cell_type": "code",
   "execution_count": 46,
   "outputs": [],
   "source": [
    "matches_rolling = matches_rolling.droplevel('team')"
   ],
   "metadata": {
    "collapsed": false,
    "ExecuteTime": {
     "end_time": "2023-09-20T11:42:18.014145051Z",
     "start_time": "2023-09-20T11:42:17.961548859Z"
    }
   },
   "id": "c87a10c91cffaa58"
  },
  {
   "cell_type": "code",
   "execution_count": 47,
   "outputs": [
    {
     "data": {
      "text/plain": "         date   time            comp         round  day venue result   gf  \\\n6  2020-10-04  14:00  Premier League   Matchweek 4  Sun  Home      W  2.0   \n7  2020-10-17  17:30  Premier League   Matchweek 5  Sat  Away      L  0.0   \n9  2020-10-25  19:15  Premier League   Matchweek 6  Sun  Home      L  0.0   \n11 2020-11-01  16:30  Premier League   Matchweek 7  Sun  Away      W  1.0   \n13 2020-11-08  19:15  Premier League   Matchweek 8  Sun  Home      L  0.0   \n..        ...    ...             ...           ...  ...   ...    ...  ...   \n32 2022-03-13  14:00  Premier League  Matchweek 29  Sun  Away      W  1.0   \n33 2022-03-18  20:00  Premier League  Matchweek 30  Fri  Home      L  2.0   \n34 2022-04-02  15:00  Premier League  Matchweek 31  Sat  Home      W  2.0   \n35 2022-04-08  20:00  Premier League  Matchweek 32  Fri  Away      L  0.0   \n36 2022-04-24  14:00  Premier League  Matchweek 34  Sun  Away      L  0.0   \n\n     ga         opponent  ...  day_code  target  gf_rolling  ga_rolling  \\\n6   1.0    Sheffield Utd  ...         6       1    2.000000    1.333333   \n7   1.0  Manchester City  ...         5       0    1.666667    1.666667   \n9   1.0   Leicester City  ...         6       0    1.000000    1.666667   \n11  0.0   Manchester Utd  ...         6       1    0.666667    1.000000   \n13  3.0      Aston Villa  ...         6       0    0.333333    0.666667   \n..  ...              ...  ...       ...     ...         ...         ...   \n32  0.0          Everton  ...         6       1    1.333333    1.000000   \n33  3.0     Leeds United  ...         4       0    1.666667    0.666667   \n34  1.0      Aston Villa  ...         5       1    2.333333    1.000000   \n35  1.0    Newcastle Utd  ...         4       0    1.666667    1.333333   \n36  1.0          Burnley  ...         6       0    1.333333    1.666667   \n\n   sh_rolling sot_rolling dist_rolling fk_rolling  pk_rolling  pkatt_rolling  \n6    7.666667    3.666667    14.733333   0.666667    0.000000       0.000000  \n7    5.333333    3.666667    15.766667   0.000000    0.000000       0.000000  \n9    7.000000    3.666667    16.733333   0.666667    0.000000       0.000000  \n11   9.666667    4.000000    16.033333   1.000000    0.000000       0.000000  \n13   9.666667    2.666667    18.033333   1.000000    0.333333       0.333333  \n..        ...         ...          ...        ...         ...            ...  \n32  12.333333    3.666667    19.300000   0.000000    0.000000       0.000000  \n33  12.333333    4.333333    19.600000   0.000000    0.000000       0.000000  \n34  13.000000    5.333333    19.833333   0.000000    0.000000       0.000000  \n35  13.000000    5.000000    18.533333   0.000000    0.000000       0.000000  \n36  10.000000    4.666667    17.633333   0.000000    0.000000       0.000000  \n\n[1317 rows x 40 columns]",
      "text/html": "<div>\n<style scoped>\n    .dataframe tbody tr th:only-of-type {\n        vertical-align: middle;\n    }\n\n    .dataframe tbody tr th {\n        vertical-align: top;\n    }\n\n    .dataframe thead th {\n        text-align: right;\n    }\n</style>\n<table border=\"1\" class=\"dataframe\">\n  <thead>\n    <tr style=\"text-align: right;\">\n      <th></th>\n      <th>date</th>\n      <th>time</th>\n      <th>comp</th>\n      <th>round</th>\n      <th>day</th>\n      <th>venue</th>\n      <th>result</th>\n      <th>gf</th>\n      <th>ga</th>\n      <th>opponent</th>\n      <th>...</th>\n      <th>day_code</th>\n      <th>target</th>\n      <th>gf_rolling</th>\n      <th>ga_rolling</th>\n      <th>sh_rolling</th>\n      <th>sot_rolling</th>\n      <th>dist_rolling</th>\n      <th>fk_rolling</th>\n      <th>pk_rolling</th>\n      <th>pkatt_rolling</th>\n    </tr>\n  </thead>\n  <tbody>\n    <tr>\n      <th>6</th>\n      <td>2020-10-04</td>\n      <td>14:00</td>\n      <td>Premier League</td>\n      <td>Matchweek 4</td>\n      <td>Sun</td>\n      <td>Home</td>\n      <td>W</td>\n      <td>2.0</td>\n      <td>1.0</td>\n      <td>Sheffield Utd</td>\n      <td>...</td>\n      <td>6</td>\n      <td>1</td>\n      <td>2.000000</td>\n      <td>1.333333</td>\n      <td>7.666667</td>\n      <td>3.666667</td>\n      <td>14.733333</td>\n      <td>0.666667</td>\n      <td>0.000000</td>\n      <td>0.000000</td>\n    </tr>\n    <tr>\n      <th>7</th>\n      <td>2020-10-17</td>\n      <td>17:30</td>\n      <td>Premier League</td>\n      <td>Matchweek 5</td>\n      <td>Sat</td>\n      <td>Away</td>\n      <td>L</td>\n      <td>0.0</td>\n      <td>1.0</td>\n      <td>Manchester City</td>\n      <td>...</td>\n      <td>5</td>\n      <td>0</td>\n      <td>1.666667</td>\n      <td>1.666667</td>\n      <td>5.333333</td>\n      <td>3.666667</td>\n      <td>15.766667</td>\n      <td>0.000000</td>\n      <td>0.000000</td>\n      <td>0.000000</td>\n    </tr>\n    <tr>\n      <th>9</th>\n      <td>2020-10-25</td>\n      <td>19:15</td>\n      <td>Premier League</td>\n      <td>Matchweek 6</td>\n      <td>Sun</td>\n      <td>Home</td>\n      <td>L</td>\n      <td>0.0</td>\n      <td>1.0</td>\n      <td>Leicester City</td>\n      <td>...</td>\n      <td>6</td>\n      <td>0</td>\n      <td>1.000000</td>\n      <td>1.666667</td>\n      <td>7.000000</td>\n      <td>3.666667</td>\n      <td>16.733333</td>\n      <td>0.666667</td>\n      <td>0.000000</td>\n      <td>0.000000</td>\n    </tr>\n    <tr>\n      <th>11</th>\n      <td>2020-11-01</td>\n      <td>16:30</td>\n      <td>Premier League</td>\n      <td>Matchweek 7</td>\n      <td>Sun</td>\n      <td>Away</td>\n      <td>W</td>\n      <td>1.0</td>\n      <td>0.0</td>\n      <td>Manchester Utd</td>\n      <td>...</td>\n      <td>6</td>\n      <td>1</td>\n      <td>0.666667</td>\n      <td>1.000000</td>\n      <td>9.666667</td>\n      <td>4.000000</td>\n      <td>16.033333</td>\n      <td>1.000000</td>\n      <td>0.000000</td>\n      <td>0.000000</td>\n    </tr>\n    <tr>\n      <th>13</th>\n      <td>2020-11-08</td>\n      <td>19:15</td>\n      <td>Premier League</td>\n      <td>Matchweek 8</td>\n      <td>Sun</td>\n      <td>Home</td>\n      <td>L</td>\n      <td>0.0</td>\n      <td>3.0</td>\n      <td>Aston Villa</td>\n      <td>...</td>\n      <td>6</td>\n      <td>0</td>\n      <td>0.333333</td>\n      <td>0.666667</td>\n      <td>9.666667</td>\n      <td>2.666667</td>\n      <td>18.033333</td>\n      <td>1.000000</td>\n      <td>0.333333</td>\n      <td>0.333333</td>\n    </tr>\n    <tr>\n      <th>...</th>\n      <td>...</td>\n      <td>...</td>\n      <td>...</td>\n      <td>...</td>\n      <td>...</td>\n      <td>...</td>\n      <td>...</td>\n      <td>...</td>\n      <td>...</td>\n      <td>...</td>\n      <td>...</td>\n      <td>...</td>\n      <td>...</td>\n      <td>...</td>\n      <td>...</td>\n      <td>...</td>\n      <td>...</td>\n      <td>...</td>\n      <td>...</td>\n      <td>...</td>\n      <td>...</td>\n    </tr>\n    <tr>\n      <th>32</th>\n      <td>2022-03-13</td>\n      <td>14:00</td>\n      <td>Premier League</td>\n      <td>Matchweek 29</td>\n      <td>Sun</td>\n      <td>Away</td>\n      <td>W</td>\n      <td>1.0</td>\n      <td>0.0</td>\n      <td>Everton</td>\n      <td>...</td>\n      <td>6</td>\n      <td>1</td>\n      <td>1.333333</td>\n      <td>1.000000</td>\n      <td>12.333333</td>\n      <td>3.666667</td>\n      <td>19.300000</td>\n      <td>0.000000</td>\n      <td>0.000000</td>\n      <td>0.000000</td>\n    </tr>\n    <tr>\n      <th>33</th>\n      <td>2022-03-18</td>\n      <td>20:00</td>\n      <td>Premier League</td>\n      <td>Matchweek 30</td>\n      <td>Fri</td>\n      <td>Home</td>\n      <td>L</td>\n      <td>2.0</td>\n      <td>3.0</td>\n      <td>Leeds United</td>\n      <td>...</td>\n      <td>4</td>\n      <td>0</td>\n      <td>1.666667</td>\n      <td>0.666667</td>\n      <td>12.333333</td>\n      <td>4.333333</td>\n      <td>19.600000</td>\n      <td>0.000000</td>\n      <td>0.000000</td>\n      <td>0.000000</td>\n    </tr>\n    <tr>\n      <th>34</th>\n      <td>2022-04-02</td>\n      <td>15:00</td>\n      <td>Premier League</td>\n      <td>Matchweek 31</td>\n      <td>Sat</td>\n      <td>Home</td>\n      <td>W</td>\n      <td>2.0</td>\n      <td>1.0</td>\n      <td>Aston Villa</td>\n      <td>...</td>\n      <td>5</td>\n      <td>1</td>\n      <td>2.333333</td>\n      <td>1.000000</td>\n      <td>13.000000</td>\n      <td>5.333333</td>\n      <td>19.833333</td>\n      <td>0.000000</td>\n      <td>0.000000</td>\n      <td>0.000000</td>\n    </tr>\n    <tr>\n      <th>35</th>\n      <td>2022-04-08</td>\n      <td>20:00</td>\n      <td>Premier League</td>\n      <td>Matchweek 32</td>\n      <td>Fri</td>\n      <td>Away</td>\n      <td>L</td>\n      <td>0.0</td>\n      <td>1.0</td>\n      <td>Newcastle Utd</td>\n      <td>...</td>\n      <td>4</td>\n      <td>0</td>\n      <td>1.666667</td>\n      <td>1.333333</td>\n      <td>13.000000</td>\n      <td>5.000000</td>\n      <td>18.533333</td>\n      <td>0.000000</td>\n      <td>0.000000</td>\n      <td>0.000000</td>\n    </tr>\n    <tr>\n      <th>36</th>\n      <td>2022-04-24</td>\n      <td>14:00</td>\n      <td>Premier League</td>\n      <td>Matchweek 34</td>\n      <td>Sun</td>\n      <td>Away</td>\n      <td>L</td>\n      <td>0.0</td>\n      <td>1.0</td>\n      <td>Burnley</td>\n      <td>...</td>\n      <td>6</td>\n      <td>0</td>\n      <td>1.333333</td>\n      <td>1.666667</td>\n      <td>10.000000</td>\n      <td>4.666667</td>\n      <td>17.633333</td>\n      <td>0.000000</td>\n      <td>0.000000</td>\n      <td>0.000000</td>\n    </tr>\n  </tbody>\n</table>\n<p>1317 rows × 40 columns</p>\n</div>"
     },
     "execution_count": 47,
     "metadata": {},
     "output_type": "execute_result"
    }
   ],
   "source": [
    "matches_rolling"
   ],
   "metadata": {
    "collapsed": false,
    "ExecuteTime": {
     "end_time": "2023-09-20T11:42:19.970290339Z",
     "start_time": "2023-09-20T11:42:19.931374152Z"
    }
   },
   "id": "8d48f14654101e13"
  },
  {
   "cell_type": "code",
   "execution_count": 48,
   "outputs": [],
   "source": [
    "matches_rolling.index = range(matches_rolling.shape[0])"
   ],
   "metadata": {
    "collapsed": false,
    "ExecuteTime": {
     "end_time": "2023-09-20T11:43:16.528428745Z",
     "start_time": "2023-09-20T11:43:16.462250954Z"
    }
   },
   "id": "63bcc4b31b162c08"
  },
  {
   "cell_type": "code",
   "execution_count": 49,
   "outputs": [
    {
     "data": {
      "text/plain": "           date   time            comp         round  day venue result   gf  \\\n0    2020-10-04  14:00  Premier League   Matchweek 4  Sun  Home      W  2.0   \n1    2020-10-17  17:30  Premier League   Matchweek 5  Sat  Away      L  0.0   \n2    2020-10-25  19:15  Premier League   Matchweek 6  Sun  Home      L  0.0   \n3    2020-11-01  16:30  Premier League   Matchweek 7  Sun  Away      W  1.0   \n4    2020-11-08  19:15  Premier League   Matchweek 8  Sun  Home      L  0.0   \n...         ...    ...             ...           ...  ...   ...    ...  ...   \n1312 2022-03-13  14:00  Premier League  Matchweek 29  Sun  Away      W  1.0   \n1313 2022-03-18  20:00  Premier League  Matchweek 30  Fri  Home      L  2.0   \n1314 2022-04-02  15:00  Premier League  Matchweek 31  Sat  Home      W  2.0   \n1315 2022-04-08  20:00  Premier League  Matchweek 32  Fri  Away      L  0.0   \n1316 2022-04-24  14:00  Premier League  Matchweek 34  Sun  Away      L  0.0   \n\n       ga         opponent  ...  day_code  target  gf_rolling  ga_rolling  \\\n0     1.0    Sheffield Utd  ...         6       1    2.000000    1.333333   \n1     1.0  Manchester City  ...         5       0    1.666667    1.666667   \n2     1.0   Leicester City  ...         6       0    1.000000    1.666667   \n3     0.0   Manchester Utd  ...         6       1    0.666667    1.000000   \n4     3.0      Aston Villa  ...         6       0    0.333333    0.666667   \n...   ...              ...  ...       ...     ...         ...         ...   \n1312  0.0          Everton  ...         6       1    1.333333    1.000000   \n1313  3.0     Leeds United  ...         4       0    1.666667    0.666667   \n1314  1.0      Aston Villa  ...         5       1    2.333333    1.000000   \n1315  1.0    Newcastle Utd  ...         4       0    1.666667    1.333333   \n1316  1.0          Burnley  ...         6       0    1.333333    1.666667   \n\n     sh_rolling sot_rolling dist_rolling fk_rolling  pk_rolling  pkatt_rolling  \n0      7.666667    3.666667    14.733333   0.666667    0.000000       0.000000  \n1      5.333333    3.666667    15.766667   0.000000    0.000000       0.000000  \n2      7.000000    3.666667    16.733333   0.666667    0.000000       0.000000  \n3      9.666667    4.000000    16.033333   1.000000    0.000000       0.000000  \n4      9.666667    2.666667    18.033333   1.000000    0.333333       0.333333  \n...         ...         ...          ...        ...         ...            ...  \n1312  12.333333    3.666667    19.300000   0.000000    0.000000       0.000000  \n1313  12.333333    4.333333    19.600000   0.000000    0.000000       0.000000  \n1314  13.000000    5.333333    19.833333   0.000000    0.000000       0.000000  \n1315  13.000000    5.000000    18.533333   0.000000    0.000000       0.000000  \n1316  10.000000    4.666667    17.633333   0.000000    0.000000       0.000000  \n\n[1317 rows x 40 columns]",
      "text/html": "<div>\n<style scoped>\n    .dataframe tbody tr th:only-of-type {\n        vertical-align: middle;\n    }\n\n    .dataframe tbody tr th {\n        vertical-align: top;\n    }\n\n    .dataframe thead th {\n        text-align: right;\n    }\n</style>\n<table border=\"1\" class=\"dataframe\">\n  <thead>\n    <tr style=\"text-align: right;\">\n      <th></th>\n      <th>date</th>\n      <th>time</th>\n      <th>comp</th>\n      <th>round</th>\n      <th>day</th>\n      <th>venue</th>\n      <th>result</th>\n      <th>gf</th>\n      <th>ga</th>\n      <th>opponent</th>\n      <th>...</th>\n      <th>day_code</th>\n      <th>target</th>\n      <th>gf_rolling</th>\n      <th>ga_rolling</th>\n      <th>sh_rolling</th>\n      <th>sot_rolling</th>\n      <th>dist_rolling</th>\n      <th>fk_rolling</th>\n      <th>pk_rolling</th>\n      <th>pkatt_rolling</th>\n    </tr>\n  </thead>\n  <tbody>\n    <tr>\n      <th>0</th>\n      <td>2020-10-04</td>\n      <td>14:00</td>\n      <td>Premier League</td>\n      <td>Matchweek 4</td>\n      <td>Sun</td>\n      <td>Home</td>\n      <td>W</td>\n      <td>2.0</td>\n      <td>1.0</td>\n      <td>Sheffield Utd</td>\n      <td>...</td>\n      <td>6</td>\n      <td>1</td>\n      <td>2.000000</td>\n      <td>1.333333</td>\n      <td>7.666667</td>\n      <td>3.666667</td>\n      <td>14.733333</td>\n      <td>0.666667</td>\n      <td>0.000000</td>\n      <td>0.000000</td>\n    </tr>\n    <tr>\n      <th>1</th>\n      <td>2020-10-17</td>\n      <td>17:30</td>\n      <td>Premier League</td>\n      <td>Matchweek 5</td>\n      <td>Sat</td>\n      <td>Away</td>\n      <td>L</td>\n      <td>0.0</td>\n      <td>1.0</td>\n      <td>Manchester City</td>\n      <td>...</td>\n      <td>5</td>\n      <td>0</td>\n      <td>1.666667</td>\n      <td>1.666667</td>\n      <td>5.333333</td>\n      <td>3.666667</td>\n      <td>15.766667</td>\n      <td>0.000000</td>\n      <td>0.000000</td>\n      <td>0.000000</td>\n    </tr>\n    <tr>\n      <th>2</th>\n      <td>2020-10-25</td>\n      <td>19:15</td>\n      <td>Premier League</td>\n      <td>Matchweek 6</td>\n      <td>Sun</td>\n      <td>Home</td>\n      <td>L</td>\n      <td>0.0</td>\n      <td>1.0</td>\n      <td>Leicester City</td>\n      <td>...</td>\n      <td>6</td>\n      <td>0</td>\n      <td>1.000000</td>\n      <td>1.666667</td>\n      <td>7.000000</td>\n      <td>3.666667</td>\n      <td>16.733333</td>\n      <td>0.666667</td>\n      <td>0.000000</td>\n      <td>0.000000</td>\n    </tr>\n    <tr>\n      <th>3</th>\n      <td>2020-11-01</td>\n      <td>16:30</td>\n      <td>Premier League</td>\n      <td>Matchweek 7</td>\n      <td>Sun</td>\n      <td>Away</td>\n      <td>W</td>\n      <td>1.0</td>\n      <td>0.0</td>\n      <td>Manchester Utd</td>\n      <td>...</td>\n      <td>6</td>\n      <td>1</td>\n      <td>0.666667</td>\n      <td>1.000000</td>\n      <td>9.666667</td>\n      <td>4.000000</td>\n      <td>16.033333</td>\n      <td>1.000000</td>\n      <td>0.000000</td>\n      <td>0.000000</td>\n    </tr>\n    <tr>\n      <th>4</th>\n      <td>2020-11-08</td>\n      <td>19:15</td>\n      <td>Premier League</td>\n      <td>Matchweek 8</td>\n      <td>Sun</td>\n      <td>Home</td>\n      <td>L</td>\n      <td>0.0</td>\n      <td>3.0</td>\n      <td>Aston Villa</td>\n      <td>...</td>\n      <td>6</td>\n      <td>0</td>\n      <td>0.333333</td>\n      <td>0.666667</td>\n      <td>9.666667</td>\n      <td>2.666667</td>\n      <td>18.033333</td>\n      <td>1.000000</td>\n      <td>0.333333</td>\n      <td>0.333333</td>\n    </tr>\n    <tr>\n      <th>...</th>\n      <td>...</td>\n      <td>...</td>\n      <td>...</td>\n      <td>...</td>\n      <td>...</td>\n      <td>...</td>\n      <td>...</td>\n      <td>...</td>\n      <td>...</td>\n      <td>...</td>\n      <td>...</td>\n      <td>...</td>\n      <td>...</td>\n      <td>...</td>\n      <td>...</td>\n      <td>...</td>\n      <td>...</td>\n      <td>...</td>\n      <td>...</td>\n      <td>...</td>\n      <td>...</td>\n    </tr>\n    <tr>\n      <th>1312</th>\n      <td>2022-03-13</td>\n      <td>14:00</td>\n      <td>Premier League</td>\n      <td>Matchweek 29</td>\n      <td>Sun</td>\n      <td>Away</td>\n      <td>W</td>\n      <td>1.0</td>\n      <td>0.0</td>\n      <td>Everton</td>\n      <td>...</td>\n      <td>6</td>\n      <td>1</td>\n      <td>1.333333</td>\n      <td>1.000000</td>\n      <td>12.333333</td>\n      <td>3.666667</td>\n      <td>19.300000</td>\n      <td>0.000000</td>\n      <td>0.000000</td>\n      <td>0.000000</td>\n    </tr>\n    <tr>\n      <th>1313</th>\n      <td>2022-03-18</td>\n      <td>20:00</td>\n      <td>Premier League</td>\n      <td>Matchweek 30</td>\n      <td>Fri</td>\n      <td>Home</td>\n      <td>L</td>\n      <td>2.0</td>\n      <td>3.0</td>\n      <td>Leeds United</td>\n      <td>...</td>\n      <td>4</td>\n      <td>0</td>\n      <td>1.666667</td>\n      <td>0.666667</td>\n      <td>12.333333</td>\n      <td>4.333333</td>\n      <td>19.600000</td>\n      <td>0.000000</td>\n      <td>0.000000</td>\n      <td>0.000000</td>\n    </tr>\n    <tr>\n      <th>1314</th>\n      <td>2022-04-02</td>\n      <td>15:00</td>\n      <td>Premier League</td>\n      <td>Matchweek 31</td>\n      <td>Sat</td>\n      <td>Home</td>\n      <td>W</td>\n      <td>2.0</td>\n      <td>1.0</td>\n      <td>Aston Villa</td>\n      <td>...</td>\n      <td>5</td>\n      <td>1</td>\n      <td>2.333333</td>\n      <td>1.000000</td>\n      <td>13.000000</td>\n      <td>5.333333</td>\n      <td>19.833333</td>\n      <td>0.000000</td>\n      <td>0.000000</td>\n      <td>0.000000</td>\n    </tr>\n    <tr>\n      <th>1315</th>\n      <td>2022-04-08</td>\n      <td>20:00</td>\n      <td>Premier League</td>\n      <td>Matchweek 32</td>\n      <td>Fri</td>\n      <td>Away</td>\n      <td>L</td>\n      <td>0.0</td>\n      <td>1.0</td>\n      <td>Newcastle Utd</td>\n      <td>...</td>\n      <td>4</td>\n      <td>0</td>\n      <td>1.666667</td>\n      <td>1.333333</td>\n      <td>13.000000</td>\n      <td>5.000000</td>\n      <td>18.533333</td>\n      <td>0.000000</td>\n      <td>0.000000</td>\n      <td>0.000000</td>\n    </tr>\n    <tr>\n      <th>1316</th>\n      <td>2022-04-24</td>\n      <td>14:00</td>\n      <td>Premier League</td>\n      <td>Matchweek 34</td>\n      <td>Sun</td>\n      <td>Away</td>\n      <td>L</td>\n      <td>0.0</td>\n      <td>1.0</td>\n      <td>Burnley</td>\n      <td>...</td>\n      <td>6</td>\n      <td>0</td>\n      <td>1.333333</td>\n      <td>1.666667</td>\n      <td>10.000000</td>\n      <td>4.666667</td>\n      <td>17.633333</td>\n      <td>0.000000</td>\n      <td>0.000000</td>\n      <td>0.000000</td>\n    </tr>\n  </tbody>\n</table>\n<p>1317 rows × 40 columns</p>\n</div>"
     },
     "execution_count": 49,
     "metadata": {},
     "output_type": "execute_result"
    }
   ],
   "source": [
    "matches_rolling"
   ],
   "metadata": {
    "collapsed": false,
    "ExecuteTime": {
     "end_time": "2023-09-20T11:43:18.657193494Z",
     "start_time": "2023-09-20T11:43:18.624833646Z"
    }
   },
   "id": "2d238e4ab704b01c"
  },
  {
   "cell_type": "code",
   "execution_count": 50,
   "outputs": [],
   "source": [
    "def make_predictions(data, predictors):\n",
    "    train = data[data['date'] < '2022-01-01']\n",
    "    test = data[data['date'] > '2022-01-01']\n",
    "    rf.fit(train[predictors], train['target'])\n",
    "    preds = rf.predict(test[predictors])\n",
    "    combined = pd.DataFrame(dict(actual=test['target'], prediction=preds), index=test.index)\n",
    "    precision = precision_score(test['target'], preds)\n",
    "    return combined, precision"
   ],
   "metadata": {
    "collapsed": false,
    "ExecuteTime": {
     "end_time": "2023-09-20T11:45:02.787791053Z",
     "start_time": "2023-09-20T11:45:02.757279954Z"
    }
   },
   "id": "27120c7b8d103b7e"
  },
  {
   "cell_type": "code",
   "execution_count": 51,
   "outputs": [],
   "source": [
    "combined, precision = make_predictions(matches_rolling, predictors + new_cols)"
   ],
   "metadata": {
    "collapsed": false,
    "ExecuteTime": {
     "end_time": "2023-09-20T11:45:22.391972308Z",
     "start_time": "2023-09-20T11:45:22.321147700Z"
    }
   },
   "id": "4a76ad1708f955ac"
  },
  {
   "cell_type": "code",
   "execution_count": 52,
   "outputs": [
    {
     "data": {
      "text/plain": "0.625"
     },
     "execution_count": 52,
     "metadata": {},
     "output_type": "execute_result"
    }
   ],
   "source": [
    "precision"
   ],
   "metadata": {
    "collapsed": false,
    "ExecuteTime": {
     "end_time": "2023-09-20T11:45:26.136704968Z",
     "start_time": "2023-09-20T11:45:26.104741904Z"
    }
   },
   "id": "54759c54cc14a6e6"
  },
  {
   "cell_type": "code",
   "execution_count": 53,
   "outputs": [
    {
     "data": {
      "text/plain": "      actual  prediction\n55         0           0\n56         1           0\n57         1           0\n58         1           1\n59         1           1\n...      ...         ...\n1312       1           0\n1313       0           0\n1314       1           0\n1315       0           0\n1316       0           0\n\n[276 rows x 2 columns]",
      "text/html": "<div>\n<style scoped>\n    .dataframe tbody tr th:only-of-type {\n        vertical-align: middle;\n    }\n\n    .dataframe tbody tr th {\n        vertical-align: top;\n    }\n\n    .dataframe thead th {\n        text-align: right;\n    }\n</style>\n<table border=\"1\" class=\"dataframe\">\n  <thead>\n    <tr style=\"text-align: right;\">\n      <th></th>\n      <th>actual</th>\n      <th>prediction</th>\n    </tr>\n  </thead>\n  <tbody>\n    <tr>\n      <th>55</th>\n      <td>0</td>\n      <td>0</td>\n    </tr>\n    <tr>\n      <th>56</th>\n      <td>1</td>\n      <td>0</td>\n    </tr>\n    <tr>\n      <th>57</th>\n      <td>1</td>\n      <td>0</td>\n    </tr>\n    <tr>\n      <th>58</th>\n      <td>1</td>\n      <td>1</td>\n    </tr>\n    <tr>\n      <th>59</th>\n      <td>1</td>\n      <td>1</td>\n    </tr>\n    <tr>\n      <th>...</th>\n      <td>...</td>\n      <td>...</td>\n    </tr>\n    <tr>\n      <th>1312</th>\n      <td>1</td>\n      <td>0</td>\n    </tr>\n    <tr>\n      <th>1313</th>\n      <td>0</td>\n      <td>0</td>\n    </tr>\n    <tr>\n      <th>1314</th>\n      <td>1</td>\n      <td>0</td>\n    </tr>\n    <tr>\n      <th>1315</th>\n      <td>0</td>\n      <td>0</td>\n    </tr>\n    <tr>\n      <th>1316</th>\n      <td>0</td>\n      <td>0</td>\n    </tr>\n  </tbody>\n</table>\n<p>276 rows × 2 columns</p>\n</div>"
     },
     "execution_count": 53,
     "metadata": {},
     "output_type": "execute_result"
    }
   ],
   "source": [
    "combined"
   ],
   "metadata": {
    "collapsed": false,
    "ExecuteTime": {
     "end_time": "2023-09-20T11:45:36.638344214Z",
     "start_time": "2023-09-20T11:45:36.605280427Z"
    }
   },
   "id": "393b585b0c959118"
  },
  {
   "cell_type": "code",
   "execution_count": 56,
   "outputs": [],
   "source": [
    "combined = combined.merge(matches_rolling[['date', 'team', 'opponent', 'result']], left_index=True, right_index=True)"
   ],
   "metadata": {
    "collapsed": false,
    "ExecuteTime": {
     "end_time": "2023-09-20T11:46:49.756835899Z",
     "start_time": "2023-09-20T11:46:49.746342195Z"
    }
   },
   "id": "3e09b7033ceea7f7"
  },
  {
   "cell_type": "code",
   "execution_count": 57,
   "outputs": [
    {
     "data": {
      "text/plain": "      actual  prediction       date                     team       opponent  \\\n55         0           0 2022-01-23                  Arsenal        Burnley   \n56         1           0 2022-02-10                  Arsenal         Wolves   \n57         1           0 2022-02-19                  Arsenal      Brentford   \n58         1           1 2022-02-24                  Arsenal         Wolves   \n59         1           1 2022-03-06                  Arsenal        Watford   \n...      ...         ...        ...                      ...            ...   \n1312       1           0 2022-03-13  Wolverhampton Wanderers        Everton   \n1313       0           0 2022-03-18  Wolverhampton Wanderers   Leeds United   \n1314       1           0 2022-04-02  Wolverhampton Wanderers    Aston Villa   \n1315       0           0 2022-04-08  Wolverhampton Wanderers  Newcastle Utd   \n1316       0           0 2022-04-24  Wolverhampton Wanderers        Burnley   \n\n     result  \n55        D  \n56        W  \n57        W  \n58        W  \n59        W  \n...     ...  \n1312      W  \n1313      L  \n1314      W  \n1315      L  \n1316      L  \n\n[276 rows x 6 columns]",
      "text/html": "<div>\n<style scoped>\n    .dataframe tbody tr th:only-of-type {\n        vertical-align: middle;\n    }\n\n    .dataframe tbody tr th {\n        vertical-align: top;\n    }\n\n    .dataframe thead th {\n        text-align: right;\n    }\n</style>\n<table border=\"1\" class=\"dataframe\">\n  <thead>\n    <tr style=\"text-align: right;\">\n      <th></th>\n      <th>actual</th>\n      <th>prediction</th>\n      <th>date</th>\n      <th>team</th>\n      <th>opponent</th>\n      <th>result</th>\n    </tr>\n  </thead>\n  <tbody>\n    <tr>\n      <th>55</th>\n      <td>0</td>\n      <td>0</td>\n      <td>2022-01-23</td>\n      <td>Arsenal</td>\n      <td>Burnley</td>\n      <td>D</td>\n    </tr>\n    <tr>\n      <th>56</th>\n      <td>1</td>\n      <td>0</td>\n      <td>2022-02-10</td>\n      <td>Arsenal</td>\n      <td>Wolves</td>\n      <td>W</td>\n    </tr>\n    <tr>\n      <th>57</th>\n      <td>1</td>\n      <td>0</td>\n      <td>2022-02-19</td>\n      <td>Arsenal</td>\n      <td>Brentford</td>\n      <td>W</td>\n    </tr>\n    <tr>\n      <th>58</th>\n      <td>1</td>\n      <td>1</td>\n      <td>2022-02-24</td>\n      <td>Arsenal</td>\n      <td>Wolves</td>\n      <td>W</td>\n    </tr>\n    <tr>\n      <th>59</th>\n      <td>1</td>\n      <td>1</td>\n      <td>2022-03-06</td>\n      <td>Arsenal</td>\n      <td>Watford</td>\n      <td>W</td>\n    </tr>\n    <tr>\n      <th>...</th>\n      <td>...</td>\n      <td>...</td>\n      <td>...</td>\n      <td>...</td>\n      <td>...</td>\n      <td>...</td>\n    </tr>\n    <tr>\n      <th>1312</th>\n      <td>1</td>\n      <td>0</td>\n      <td>2022-03-13</td>\n      <td>Wolverhampton Wanderers</td>\n      <td>Everton</td>\n      <td>W</td>\n    </tr>\n    <tr>\n      <th>1313</th>\n      <td>0</td>\n      <td>0</td>\n      <td>2022-03-18</td>\n      <td>Wolverhampton Wanderers</td>\n      <td>Leeds United</td>\n      <td>L</td>\n    </tr>\n    <tr>\n      <th>1314</th>\n      <td>1</td>\n      <td>0</td>\n      <td>2022-04-02</td>\n      <td>Wolverhampton Wanderers</td>\n      <td>Aston Villa</td>\n      <td>W</td>\n    </tr>\n    <tr>\n      <th>1315</th>\n      <td>0</td>\n      <td>0</td>\n      <td>2022-04-08</td>\n      <td>Wolverhampton Wanderers</td>\n      <td>Newcastle Utd</td>\n      <td>L</td>\n    </tr>\n    <tr>\n      <th>1316</th>\n      <td>0</td>\n      <td>0</td>\n      <td>2022-04-24</td>\n      <td>Wolverhampton Wanderers</td>\n      <td>Burnley</td>\n      <td>L</td>\n    </tr>\n  </tbody>\n</table>\n<p>276 rows × 6 columns</p>\n</div>"
     },
     "execution_count": 57,
     "metadata": {},
     "output_type": "execute_result"
    }
   ],
   "source": [
    "combined"
   ],
   "metadata": {
    "collapsed": false,
    "ExecuteTime": {
     "end_time": "2023-09-20T11:46:50.844142319Z",
     "start_time": "2023-09-20T11:46:50.841259358Z"
    }
   },
   "id": "d41376beca3bf566"
  },
  {
   "cell_type": "code",
   "execution_count": 58,
   "outputs": [],
   "source": [
    "class MissingDict(dict):\n",
    "    __missing__ = lambda self, key: key\n",
    "    \n",
    "map_values = {\n",
    "    'Brighton and Hove Albion': 'Brighton',\n",
    "    'Manchester United': 'Manchester Utd',\n",
    "    'Newcastle United': 'Newcastle Utd',\n",
    "    'Tottenham Hotspur': 'Tottenham',\n",
    "    'Westham United': 'West Ham',\n",
    "    'Wolverhampton Wanderers': 'Wolves'\n",
    "}\n",
    "\n",
    "mapping = MissingDict(**map_values)"
   ],
   "metadata": {
    "collapsed": false,
    "ExecuteTime": {
     "end_time": "2023-09-20T11:51:02.817285478Z",
     "start_time": "2023-09-20T11:51:02.781081809Z"
    }
   },
   "id": "3de605519415f213"
  },
  {
   "cell_type": "code",
   "execution_count": 59,
   "outputs": [],
   "source": [
    "combined['new_team'] = combined['team'].map(mapping)"
   ],
   "metadata": {
    "collapsed": false,
    "ExecuteTime": {
     "end_time": "2023-09-20T11:51:58.062061665Z",
     "start_time": "2023-09-20T11:51:58.027890336Z"
    }
   },
   "id": "8d95127f8e4cad7e"
  },
  {
   "cell_type": "code",
   "execution_count": 60,
   "outputs": [
    {
     "data": {
      "text/plain": "      actual  prediction       date                     team       opponent  \\\n55         0           0 2022-01-23                  Arsenal        Burnley   \n56         1           0 2022-02-10                  Arsenal         Wolves   \n57         1           0 2022-02-19                  Arsenal      Brentford   \n58         1           1 2022-02-24                  Arsenal         Wolves   \n59         1           1 2022-03-06                  Arsenal        Watford   \n...      ...         ...        ...                      ...            ...   \n1312       1           0 2022-03-13  Wolverhampton Wanderers        Everton   \n1313       0           0 2022-03-18  Wolverhampton Wanderers   Leeds United   \n1314       1           0 2022-04-02  Wolverhampton Wanderers    Aston Villa   \n1315       0           0 2022-04-08  Wolverhampton Wanderers  Newcastle Utd   \n1316       0           0 2022-04-24  Wolverhampton Wanderers        Burnley   \n\n     result new_team  \n55        D  Arsenal  \n56        W  Arsenal  \n57        W  Arsenal  \n58        W  Arsenal  \n59        W  Arsenal  \n...     ...      ...  \n1312      W   Wolves  \n1313      L   Wolves  \n1314      W   Wolves  \n1315      L   Wolves  \n1316      L   Wolves  \n\n[276 rows x 7 columns]",
      "text/html": "<div>\n<style scoped>\n    .dataframe tbody tr th:only-of-type {\n        vertical-align: middle;\n    }\n\n    .dataframe tbody tr th {\n        vertical-align: top;\n    }\n\n    .dataframe thead th {\n        text-align: right;\n    }\n</style>\n<table border=\"1\" class=\"dataframe\">\n  <thead>\n    <tr style=\"text-align: right;\">\n      <th></th>\n      <th>actual</th>\n      <th>prediction</th>\n      <th>date</th>\n      <th>team</th>\n      <th>opponent</th>\n      <th>result</th>\n      <th>new_team</th>\n    </tr>\n  </thead>\n  <tbody>\n    <tr>\n      <th>55</th>\n      <td>0</td>\n      <td>0</td>\n      <td>2022-01-23</td>\n      <td>Arsenal</td>\n      <td>Burnley</td>\n      <td>D</td>\n      <td>Arsenal</td>\n    </tr>\n    <tr>\n      <th>56</th>\n      <td>1</td>\n      <td>0</td>\n      <td>2022-02-10</td>\n      <td>Arsenal</td>\n      <td>Wolves</td>\n      <td>W</td>\n      <td>Arsenal</td>\n    </tr>\n    <tr>\n      <th>57</th>\n      <td>1</td>\n      <td>0</td>\n      <td>2022-02-19</td>\n      <td>Arsenal</td>\n      <td>Brentford</td>\n      <td>W</td>\n      <td>Arsenal</td>\n    </tr>\n    <tr>\n      <th>58</th>\n      <td>1</td>\n      <td>1</td>\n      <td>2022-02-24</td>\n      <td>Arsenal</td>\n      <td>Wolves</td>\n      <td>W</td>\n      <td>Arsenal</td>\n    </tr>\n    <tr>\n      <th>59</th>\n      <td>1</td>\n      <td>1</td>\n      <td>2022-03-06</td>\n      <td>Arsenal</td>\n      <td>Watford</td>\n      <td>W</td>\n      <td>Arsenal</td>\n    </tr>\n    <tr>\n      <th>...</th>\n      <td>...</td>\n      <td>...</td>\n      <td>...</td>\n      <td>...</td>\n      <td>...</td>\n      <td>...</td>\n      <td>...</td>\n    </tr>\n    <tr>\n      <th>1312</th>\n      <td>1</td>\n      <td>0</td>\n      <td>2022-03-13</td>\n      <td>Wolverhampton Wanderers</td>\n      <td>Everton</td>\n      <td>W</td>\n      <td>Wolves</td>\n    </tr>\n    <tr>\n      <th>1313</th>\n      <td>0</td>\n      <td>0</td>\n      <td>2022-03-18</td>\n      <td>Wolverhampton Wanderers</td>\n      <td>Leeds United</td>\n      <td>L</td>\n      <td>Wolves</td>\n    </tr>\n    <tr>\n      <th>1314</th>\n      <td>1</td>\n      <td>0</td>\n      <td>2022-04-02</td>\n      <td>Wolverhampton Wanderers</td>\n      <td>Aston Villa</td>\n      <td>W</td>\n      <td>Wolves</td>\n    </tr>\n    <tr>\n      <th>1315</th>\n      <td>0</td>\n      <td>0</td>\n      <td>2022-04-08</td>\n      <td>Wolverhampton Wanderers</td>\n      <td>Newcastle Utd</td>\n      <td>L</td>\n      <td>Wolves</td>\n    </tr>\n    <tr>\n      <th>1316</th>\n      <td>0</td>\n      <td>0</td>\n      <td>2022-04-24</td>\n      <td>Wolverhampton Wanderers</td>\n      <td>Burnley</td>\n      <td>L</td>\n      <td>Wolves</td>\n    </tr>\n  </tbody>\n</table>\n<p>276 rows × 7 columns</p>\n</div>"
     },
     "execution_count": 60,
     "metadata": {},
     "output_type": "execute_result"
    }
   ],
   "source": [
    "combined"
   ],
   "metadata": {
    "collapsed": false,
    "ExecuteTime": {
     "end_time": "2023-09-20T11:51:59.743317616Z",
     "start_time": "2023-09-20T11:51:59.713197725Z"
    }
   },
   "id": "37b2fd258809415e"
  },
  {
   "cell_type": "code",
   "execution_count": 61,
   "outputs": [],
   "source": [
    "merged = combined.merge(combined, left_on=['date', 'new_team'], right_on=['date', 'opponent'])"
   ],
   "metadata": {
    "collapsed": false,
    "ExecuteTime": {
     "end_time": "2023-09-20T11:53:07.950266317Z",
     "start_time": "2023-09-20T11:53:07.885108743Z"
    }
   },
   "id": "5678b55c9afd4bbd"
  },
  {
   "cell_type": "code",
   "execution_count": 62,
   "outputs": [
    {
     "data": {
      "text/plain": "     actual_x  prediction_x       date                   team_x  \\\n0           0             0 2022-01-23                  Arsenal   \n1           1             0 2022-02-10                  Arsenal   \n2           1             0 2022-02-19                  Arsenal   \n3           1             1 2022-02-24                  Arsenal   \n4           1             1 2022-03-06                  Arsenal   \n..        ...           ...        ...                      ...   \n244         1             0 2022-03-13  Wolverhampton Wanderers   \n245         0             0 2022-03-18  Wolverhampton Wanderers   \n246         1             0 2022-04-02  Wolverhampton Wanderers   \n247         0             0 2022-04-08  Wolverhampton Wanderers   \n248         0             0 2022-04-24  Wolverhampton Wanderers   \n\n        opponent_x result_x new_team_x  actual_y  prediction_y  \\\n0          Burnley        D    Arsenal         0             0   \n1           Wolves        W    Arsenal         0             0   \n2        Brentford        W    Arsenal         0             0   \n3           Wolves        W    Arsenal         0             0   \n4          Watford        W    Arsenal         0             0   \n..             ...      ...        ...       ...           ...   \n244        Everton        W     Wolves         0             0   \n245   Leeds United        L     Wolves         1             0   \n246    Aston Villa        W     Wolves         0             0   \n247  Newcastle Utd        L     Wolves         1             0   \n248        Burnley        L     Wolves         1             0   \n\n                      team_y opponent_y result_y     new_team_y  \n0                    Burnley    Arsenal        D        Burnley  \n1    Wolverhampton Wanderers    Arsenal        L         Wolves  \n2                  Brentford    Arsenal        L      Brentford  \n3    Wolverhampton Wanderers    Arsenal        L         Wolves  \n4                    Watford    Arsenal        L        Watford  \n..                       ...        ...      ...            ...  \n244                  Everton     Wolves        L        Everton  \n245             Leeds United     Wolves        W   Leeds United  \n246              Aston Villa     Wolves        L    Aston Villa  \n247         Newcastle United     Wolves        W  Newcastle Utd  \n248                  Burnley     Wolves        W        Burnley  \n\n[249 rows x 13 columns]",
      "text/html": "<div>\n<style scoped>\n    .dataframe tbody tr th:only-of-type {\n        vertical-align: middle;\n    }\n\n    .dataframe tbody tr th {\n        vertical-align: top;\n    }\n\n    .dataframe thead th {\n        text-align: right;\n    }\n</style>\n<table border=\"1\" class=\"dataframe\">\n  <thead>\n    <tr style=\"text-align: right;\">\n      <th></th>\n      <th>actual_x</th>\n      <th>prediction_x</th>\n      <th>date</th>\n      <th>team_x</th>\n      <th>opponent_x</th>\n      <th>result_x</th>\n      <th>new_team_x</th>\n      <th>actual_y</th>\n      <th>prediction_y</th>\n      <th>team_y</th>\n      <th>opponent_y</th>\n      <th>result_y</th>\n      <th>new_team_y</th>\n    </tr>\n  </thead>\n  <tbody>\n    <tr>\n      <th>0</th>\n      <td>0</td>\n      <td>0</td>\n      <td>2022-01-23</td>\n      <td>Arsenal</td>\n      <td>Burnley</td>\n      <td>D</td>\n      <td>Arsenal</td>\n      <td>0</td>\n      <td>0</td>\n      <td>Burnley</td>\n      <td>Arsenal</td>\n      <td>D</td>\n      <td>Burnley</td>\n    </tr>\n    <tr>\n      <th>1</th>\n      <td>1</td>\n      <td>0</td>\n      <td>2022-02-10</td>\n      <td>Arsenal</td>\n      <td>Wolves</td>\n      <td>W</td>\n      <td>Arsenal</td>\n      <td>0</td>\n      <td>0</td>\n      <td>Wolverhampton Wanderers</td>\n      <td>Arsenal</td>\n      <td>L</td>\n      <td>Wolves</td>\n    </tr>\n    <tr>\n      <th>2</th>\n      <td>1</td>\n      <td>0</td>\n      <td>2022-02-19</td>\n      <td>Arsenal</td>\n      <td>Brentford</td>\n      <td>W</td>\n      <td>Arsenal</td>\n      <td>0</td>\n      <td>0</td>\n      <td>Brentford</td>\n      <td>Arsenal</td>\n      <td>L</td>\n      <td>Brentford</td>\n    </tr>\n    <tr>\n      <th>3</th>\n      <td>1</td>\n      <td>1</td>\n      <td>2022-02-24</td>\n      <td>Arsenal</td>\n      <td>Wolves</td>\n      <td>W</td>\n      <td>Arsenal</td>\n      <td>0</td>\n      <td>0</td>\n      <td>Wolverhampton Wanderers</td>\n      <td>Arsenal</td>\n      <td>L</td>\n      <td>Wolves</td>\n    </tr>\n    <tr>\n      <th>4</th>\n      <td>1</td>\n      <td>1</td>\n      <td>2022-03-06</td>\n      <td>Arsenal</td>\n      <td>Watford</td>\n      <td>W</td>\n      <td>Arsenal</td>\n      <td>0</td>\n      <td>0</td>\n      <td>Watford</td>\n      <td>Arsenal</td>\n      <td>L</td>\n      <td>Watford</td>\n    </tr>\n    <tr>\n      <th>...</th>\n      <td>...</td>\n      <td>...</td>\n      <td>...</td>\n      <td>...</td>\n      <td>...</td>\n      <td>...</td>\n      <td>...</td>\n      <td>...</td>\n      <td>...</td>\n      <td>...</td>\n      <td>...</td>\n      <td>...</td>\n      <td>...</td>\n    </tr>\n    <tr>\n      <th>244</th>\n      <td>1</td>\n      <td>0</td>\n      <td>2022-03-13</td>\n      <td>Wolverhampton Wanderers</td>\n      <td>Everton</td>\n      <td>W</td>\n      <td>Wolves</td>\n      <td>0</td>\n      <td>0</td>\n      <td>Everton</td>\n      <td>Wolves</td>\n      <td>L</td>\n      <td>Everton</td>\n    </tr>\n    <tr>\n      <th>245</th>\n      <td>0</td>\n      <td>0</td>\n      <td>2022-03-18</td>\n      <td>Wolverhampton Wanderers</td>\n      <td>Leeds United</td>\n      <td>L</td>\n      <td>Wolves</td>\n      <td>1</td>\n      <td>0</td>\n      <td>Leeds United</td>\n      <td>Wolves</td>\n      <td>W</td>\n      <td>Leeds United</td>\n    </tr>\n    <tr>\n      <th>246</th>\n      <td>1</td>\n      <td>0</td>\n      <td>2022-04-02</td>\n      <td>Wolverhampton Wanderers</td>\n      <td>Aston Villa</td>\n      <td>W</td>\n      <td>Wolves</td>\n      <td>0</td>\n      <td>0</td>\n      <td>Aston Villa</td>\n      <td>Wolves</td>\n      <td>L</td>\n      <td>Aston Villa</td>\n    </tr>\n    <tr>\n      <th>247</th>\n      <td>0</td>\n      <td>0</td>\n      <td>2022-04-08</td>\n      <td>Wolverhampton Wanderers</td>\n      <td>Newcastle Utd</td>\n      <td>L</td>\n      <td>Wolves</td>\n      <td>1</td>\n      <td>0</td>\n      <td>Newcastle United</td>\n      <td>Wolves</td>\n      <td>W</td>\n      <td>Newcastle Utd</td>\n    </tr>\n    <tr>\n      <th>248</th>\n      <td>0</td>\n      <td>0</td>\n      <td>2022-04-24</td>\n      <td>Wolverhampton Wanderers</td>\n      <td>Burnley</td>\n      <td>L</td>\n      <td>Wolves</td>\n      <td>1</td>\n      <td>0</td>\n      <td>Burnley</td>\n      <td>Wolves</td>\n      <td>W</td>\n      <td>Burnley</td>\n    </tr>\n  </tbody>\n</table>\n<p>249 rows × 13 columns</p>\n</div>"
     },
     "execution_count": 62,
     "metadata": {},
     "output_type": "execute_result"
    }
   ],
   "source": [
    "merged"
   ],
   "metadata": {
    "collapsed": false,
    "ExecuteTime": {
     "end_time": "2023-09-20T11:53:10.221006934Z",
     "start_time": "2023-09-20T11:53:10.186720282Z"
    }
   },
   "id": "ca0117c82ddcc476"
  },
  {
   "cell_type": "code",
   "execution_count": 64,
   "outputs": [
    {
     "data": {
      "text/plain": "1    25\n0    13\nName: actual_x, dtype: int64"
     },
     "execution_count": 64,
     "metadata": {},
     "output_type": "execute_result"
    }
   ],
   "source": [
    "merged[(merged['prediction_x'] == 1) & (merged['prediction_y'] == 0)]['actual_x'].value_counts()"
   ],
   "metadata": {
    "collapsed": false,
    "ExecuteTime": {
     "end_time": "2023-09-20T11:54:51.466995526Z",
     "start_time": "2023-09-20T11:54:51.449022110Z"
    }
   },
   "id": "9db664ff3746b40f"
  },
  {
   "cell_type": "code",
   "execution_count": null,
   "outputs": [],
   "source": [],
   "metadata": {
    "collapsed": false
   },
   "id": "3d73c2ee0e77f750"
  }
 ],
 "metadata": {
  "kernelspec": {
   "display_name": "Python 3",
   "language": "python",
   "name": "python3"
  },
  "language_info": {
   "codemirror_mode": {
    "name": "ipython",
    "version": 2
   },
   "file_extension": ".py",
   "mimetype": "text/x-python",
   "name": "python",
   "nbconvert_exporter": "python",
   "pygments_lexer": "ipython2",
   "version": "2.7.6"
  }
 },
 "nbformat": 4,
 "nbformat_minor": 5
}
