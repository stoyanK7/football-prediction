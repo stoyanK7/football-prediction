{
 "cells": [
  {
   "cell_type": "markdown",
   "source": [
    "# Training the model"
   ],
   "metadata": {
    "collapsed": false
   },
   "id": "af03889ba38d1232"
  },
  {
   "cell_type": "markdown",
   "source": [
    "Imports."
   ],
   "metadata": {
    "collapsed": false
   },
   "id": "174fc7db1c2e5f3e"
  },
  {
   "cell_type": "code",
   "execution_count": 94,
   "outputs": [],
   "source": [
    "import pandas as pd\n",
    "from sklearn.ensemble import RandomForestClassifier\n",
    "from sklearn.metrics import precision_score"
   ],
   "metadata": {
    "collapsed": false,
    "ExecuteTime": {
     "end_time": "2023-11-07T11:01:44.042490743Z",
     "start_time": "2023-11-07T11:01:43.955008963Z"
    }
   },
   "id": "70716b6127abf94"
  },
  {
   "cell_type": "markdown",
   "source": [
    "Pathing to the data."
   ],
   "metadata": {
    "collapsed": false
   },
   "id": "d5d4ce6133888ffa"
  },
  {
   "cell_type": "code",
   "execution_count": 95,
   "outputs": [],
   "source": [
    "data_path = '../data'\n",
    "clean_data_path = f'{data_path}/csv/clean'"
   ],
   "metadata": {
    "collapsed": false,
    "ExecuteTime": {
     "end_time": "2023-11-07T11:01:44.172230983Z",
     "start_time": "2023-11-07T11:01:43.960847556Z"
    }
   },
   "id": "8f089a32f7cdf914"
  },
  {
   "cell_type": "markdown",
   "source": [
    "Open cleaned data."
   ],
   "metadata": {
    "collapsed": false
   },
   "id": "c34056ed649040cd"
  },
  {
   "cell_type": "code",
   "execution_count": 96,
   "outputs": [],
   "source": [
    "matches_df = pd.read_csv(f'{clean_data_path}/bundesliga_matches.csv')"
   ],
   "metadata": {
    "collapsed": false,
    "ExecuteTime": {
     "end_time": "2023-11-07T11:01:44.314194821Z",
     "start_time": "2023-11-07T11:01:43.981300810Z"
    }
   },
   "id": "fafbc1b5a2c4407c"
  },
  {
   "cell_type": "markdown",
   "source": [
    "Check types of columns to make sure they are numeric."
   ],
   "metadata": {
    "collapsed": false
   },
   "id": "9707754745e0557c"
  },
  {
   "cell_type": "code",
   "execution_count": 97,
   "outputs": [
    {
     "data": {
      "text/plain": "date                       object\ntime                       object\ncomp                       object\nround                      object\nday                        object\n                           ...   \nmisc_aerial_duels_won     float64\nmisc_aerial_duels_lost    float64\nmisc_aerial_duels_won%    float64\npgf                       float64\npga                       float64\nLength: 159, dtype: object"
     },
     "execution_count": 97,
     "metadata": {},
     "output_type": "execute_result"
    }
   ],
   "source": [
    "matches_df.dtypes"
   ],
   "metadata": {
    "collapsed": false,
    "ExecuteTime": {
     "end_time": "2023-11-07T11:01:44.315642296Z",
     "start_time": "2023-11-07T11:01:44.150708483Z"
    }
   },
   "id": "826f9b997072a4df"
  },
  {
   "cell_type": "markdown",
   "source": [
    "Convert `date` column to datetime."
   ],
   "metadata": {
    "collapsed": false
   },
   "id": "9b3d8e8691c72aaa"
  },
  {
   "cell_type": "code",
   "execution_count": 98,
   "outputs": [
    {
     "data": {
      "text/plain": "dtype('<M8[ns]')"
     },
     "execution_count": 98,
     "metadata": {},
     "output_type": "execute_result"
    }
   ],
   "source": [
    "matches_df['date'] = pd.to_datetime(matches_df['date'])\n",
    "matches_df['date'].dtypes"
   ],
   "metadata": {
    "collapsed": false,
    "ExecuteTime": {
     "end_time": "2023-11-07T11:01:44.316407987Z",
     "start_time": "2023-11-07T11:01:44.151086194Z"
    }
   },
   "id": "8bcef95a7902acae"
  },
  {
   "cell_type": "markdown",
   "source": [
    "Convert `opponent` column to categorical."
   ],
   "metadata": {
    "collapsed": false
   },
   "id": "7e4479350f5eb099"
  },
  {
   "cell_type": "code",
   "execution_count": 99,
   "outputs": [
    {
     "data": {
      "text/plain": "                opponent  opponent_code\n0                Arminia              0\n1             Hertha BSC             12\n2             Hoffenheim             13\n3                   Koln             14\n4          Bayern Munich              3\n5          Werder Bremen             23\n6              Stuttgart             21\n7             RB Leipzig             19\n8           Union Berlin             22\n9               Dortmund              5\n10             Wolfsburg             24\n11       Monchengladbach             16\n12              Augsburg              1\n13      Bayer Leverkusen              2\n14              Mainz 05             15\n15            Schalke 04             20\n16              Freiburg              8\n34              Nurnberg             17\n44            Dusseldorf              6\n46           Hannover 96             11\n47   Eintracht Frankfurt              7\n77                Bochum              4\n79        Greuther Furth              9\n177         Paderborn 07             18\n215         Hamburger SV             10",
      "text/html": "<div>\n<style scoped>\n    .dataframe tbody tr th:only-of-type {\n        vertical-align: middle;\n    }\n\n    .dataframe tbody tr th {\n        vertical-align: top;\n    }\n\n    .dataframe thead th {\n        text-align: right;\n    }\n</style>\n<table border=\"1\" class=\"dataframe\">\n  <thead>\n    <tr style=\"text-align: right;\">\n      <th></th>\n      <th>opponent</th>\n      <th>opponent_code</th>\n    </tr>\n  </thead>\n  <tbody>\n    <tr>\n      <th>0</th>\n      <td>Arminia</td>\n      <td>0</td>\n    </tr>\n    <tr>\n      <th>1</th>\n      <td>Hertha BSC</td>\n      <td>12</td>\n    </tr>\n    <tr>\n      <th>2</th>\n      <td>Hoffenheim</td>\n      <td>13</td>\n    </tr>\n    <tr>\n      <th>3</th>\n      <td>Koln</td>\n      <td>14</td>\n    </tr>\n    <tr>\n      <th>4</th>\n      <td>Bayern Munich</td>\n      <td>3</td>\n    </tr>\n    <tr>\n      <th>5</th>\n      <td>Werder Bremen</td>\n      <td>23</td>\n    </tr>\n    <tr>\n      <th>6</th>\n      <td>Stuttgart</td>\n      <td>21</td>\n    </tr>\n    <tr>\n      <th>7</th>\n      <td>RB Leipzig</td>\n      <td>19</td>\n    </tr>\n    <tr>\n      <th>8</th>\n      <td>Union Berlin</td>\n      <td>22</td>\n    </tr>\n    <tr>\n      <th>9</th>\n      <td>Dortmund</td>\n      <td>5</td>\n    </tr>\n    <tr>\n      <th>10</th>\n      <td>Wolfsburg</td>\n      <td>24</td>\n    </tr>\n    <tr>\n      <th>11</th>\n      <td>Monchengladbach</td>\n      <td>16</td>\n    </tr>\n    <tr>\n      <th>12</th>\n      <td>Augsburg</td>\n      <td>1</td>\n    </tr>\n    <tr>\n      <th>13</th>\n      <td>Bayer Leverkusen</td>\n      <td>2</td>\n    </tr>\n    <tr>\n      <th>14</th>\n      <td>Mainz 05</td>\n      <td>15</td>\n    </tr>\n    <tr>\n      <th>15</th>\n      <td>Schalke 04</td>\n      <td>20</td>\n    </tr>\n    <tr>\n      <th>16</th>\n      <td>Freiburg</td>\n      <td>8</td>\n    </tr>\n    <tr>\n      <th>34</th>\n      <td>Nurnberg</td>\n      <td>17</td>\n    </tr>\n    <tr>\n      <th>44</th>\n      <td>Dusseldorf</td>\n      <td>6</td>\n    </tr>\n    <tr>\n      <th>46</th>\n      <td>Hannover 96</td>\n      <td>11</td>\n    </tr>\n    <tr>\n      <th>47</th>\n      <td>Eintracht Frankfurt</td>\n      <td>7</td>\n    </tr>\n    <tr>\n      <th>77</th>\n      <td>Bochum</td>\n      <td>4</td>\n    </tr>\n    <tr>\n      <th>79</th>\n      <td>Greuther Furth</td>\n      <td>9</td>\n    </tr>\n    <tr>\n      <th>177</th>\n      <td>Paderborn 07</td>\n      <td>18</td>\n    </tr>\n    <tr>\n      <th>215</th>\n      <td>Hamburger SV</td>\n      <td>10</td>\n    </tr>\n  </tbody>\n</table>\n</div>"
     },
     "execution_count": 99,
     "metadata": {},
     "output_type": "execute_result"
    }
   ],
   "source": [
    "matches_df['opponent_code'] = matches_df['opponent'].astype('category').cat.codes\n",
    "matches_df[['opponent', 'opponent_code']].drop_duplicates()"
   ],
   "metadata": {
    "collapsed": false,
    "ExecuteTime": {
     "end_time": "2023-11-07T11:01:44.317887898Z",
     "start_time": "2023-11-07T11:01:44.151386623Z"
    }
   },
   "id": "a5905ddfaa749744"
  },
  {
   "cell_type": "markdown",
   "source": [
    "Create a method to compute rolling averages. We will split the matches dataframe by team, because what we want to do is compute rolling averages for each team - how did this team perform in the past few games?"
   ],
   "metadata": {
    "collapsed": false
   },
   "id": "5e00356fdd497f11"
  },
  {
   "cell_type": "code",
   "execution_count": 100,
   "outputs": [],
   "source": [
    "def rolling_averages(data, cols, new_cols):\n",
    "    \"\"\"\n",
    "    Compute rolling averages for the specified columns.\n",
    "    :param data: the dataframe to use.\n",
    "    :param cols: the columns to compute rolling averages for.\n",
    "    :param new_cols: the names of the new columns that will contain the rolling averages.\n",
    "    :return: the dataframe with the new columns added.\n",
    "    \"\"\"\n",
    "    # Sort by date because we want to look at the last 3 matches.\n",
    "    data = data.sort_values('date')\n",
    "\n",
    "    # Compute rolling averages for the specified columns.\n",
    "    # The closed parameter is set to 'left' so that the current match is not included in the average.\n",
    "    rolling_stats = data[cols].rolling(3, closed='left').mean()\n",
    "\n",
    "    # Add the rolling averages to the dataframe.\n",
    "    data[new_cols] = rolling_stats\n",
    "\n",
    "    # The first two matches will have NaN values for the rolling averages, so we drop them.\n",
    "    data = data.dropna(subset=new_cols)\n",
    "    return data"
   ],
   "metadata": {
    "collapsed": false,
    "ExecuteTime": {
     "end_time": "2023-11-07T11:01:44.406338406Z",
     "start_time": "2023-11-07T11:01:44.158251890Z"
    }
   },
   "id": "bffae61bcb04f74d"
  },
  {
   "cell_type": "markdown",
   "source": [
    "Create new predictor columns."
   ],
   "metadata": {
    "collapsed": false
   },
   "id": "8b281db919b56350"
  },
  {
   "cell_type": "code",
   "execution_count": 101,
   "outputs": [
    {
     "data": {
      "text/plain": "['opponent_code',\n 'venue_code',\n 'hour',\n 'day_code',\n 'gf_rolling_avg',\n 'ga_rolling_avg',\n 'shooting_standard_sh_rolling_avg',\n 'shooting_standard_sot_rolling_avg',\n 'shooting_standard_dist_rolling_avg',\n 'shooting_standard_fk_rolling_avg',\n 'shooting_standard_pk_rolling_avg',\n 'shooting_standard_pkatt_rolling_avg']"
     },
     "execution_count": 101,
     "metadata": {},
     "output_type": "execute_result"
    }
   ],
   "source": [
    "matches_df['venue_code'] = matches_df['venue'].astype('category').cat.codes\n",
    "matches_df['hour'] = matches_df['time'].str.replace(':.+', '', regex=True).astype('int')\n",
    "matches_df['day_code'] = matches_df['date'].dt.dayofweek\n",
    "matches_df['target'] = (matches_df['result'] == 'W').astype('int')\n",
    "\n",
    "predictors = ['opponent_code', 'venue_code', 'hour', 'day_code']\n",
    "\n",
    "# Create a dataframe for each team. We do this so we can compute rolling averages for each team.\n",
    "grouped_matches_df = matches_df.groupby('team')\n",
    "cols = [\n",
    "    'gf',\n",
    "    'ga',\n",
    "    'shooting_standard_sh',\n",
    "    'shooting_standard_sot',\n",
    "    'shooting_standard_dist',\n",
    "    'shooting_standard_fk',\n",
    "    'shooting_standard_pk',\n",
    "    'shooting_standard_pkatt'\n",
    "]\n",
    "new_cols = [f'{col}_rolling_avg' for col in cols]\n",
    "\n",
    "# Apply the rolling_averages function to each team dataframe.\n",
    "rolling_matches_df = grouped_matches_df.apply(lambda group: rolling_averages(group, cols, new_cols))\n",
    "# Drop the team index level because we don't need it.\n",
    "rolling_matches_df = rolling_matches_df.droplevel(0)\n",
    "# Fix the index because there might be duplicate indices.\n",
    "rolling_matches_df.index = range(len(rolling_matches_df))\n",
    "predictors += new_cols\n",
    "predictors"
   ],
   "metadata": {
    "collapsed": false,
    "ExecuteTime": {
     "end_time": "2023-11-07T11:01:44.528862061Z",
     "start_time": "2023-11-07T11:01:44.202728Z"
    }
   },
   "id": "db60f0a027c4d8c"
  },
  {
   "cell_type": "markdown",
   "source": [
    "Create a method to ease the process of predicting."
   ],
   "metadata": {
    "collapsed": false
   },
   "id": "5ba7d4566e276544"
  },
  {
   "cell_type": "code",
   "execution_count": 102,
   "outputs": [],
   "source": [
    "def make_predictions(data, predictors):\n",
    "    \"\"\"\n",
    "    Make predictions using the random forest classifier.\n",
    "\n",
    "    :param data: the dataframe to use\n",
    "    :param predictors: the predictor columns\n",
    "    :return: combined: a dataframe containing the actual and predicted values\n",
    "    \"\"\"\n",
    "    # Split the data into train and test sets.\n",
    "    train_set = data[data['date'] < '2022-01-01']\n",
    "    test_set = data[data['date'] >= '2022-01-01']\n",
    "    print(f'Train: {len(train_set)} matches ({len(train_set) / len(data):.2%})')\n",
    "    print(f'Test: {len(test_set)} matches ({len(test_set) / len(data):.2%})')\n",
    "\n",
    "    # Create and fit (train) the model.\n",
    "    model = RandomForestClassifier(\n",
    "        n_estimators=50,  # number of trees in the forest\n",
    "        min_samples_split=2,  # number of samples required to split an internal node\n",
    "        random_state=1  # seed\n",
    "    )\n",
    "    model.fit(train_set[predictors], train_set['target'])\n",
    "\n",
    "    # Make predictions on the test dataset and calculate the precision score.\n",
    "    predictions = model.predict(test_set[predictors])\n",
    "    precision = precision_score(test_set['target'], predictions)\n",
    "    print(f'Precision: {precision:.2%}')\n",
    "\n",
    "    # Create a dataframe containing the actual and predicted values.\n",
    "    combined = pd.DataFrame(\n",
    "        dict(actual=test_set['target'], prediction=predictions),\n",
    "        index=test_set.index\n",
    "    )\n",
    "    return combined"
   ],
   "metadata": {
    "collapsed": false,
    "ExecuteTime": {
     "end_time": "2023-11-07T11:01:44.529260976Z",
     "start_time": "2023-11-07T11:01:44.458941055Z"
    }
   },
   "id": "aa03173b77dff56"
  },
  {
   "cell_type": "markdown",
   "source": [
    "Make predictions on the matches dataframe."
   ],
   "metadata": {
    "collapsed": false
   },
   "id": "352baad3dc502baa"
  },
  {
   "cell_type": "code",
   "execution_count": 103,
   "outputs": [
    {
     "name": "stdout",
     "output_type": "stream",
     "text": [
      "Train: 2676 matches (74.42%)\n",
      "Test: 920 matches (25.58%)\n",
      "Precision: 51.32%\n"
     ]
    }
   ],
   "source": [
    "combined = make_predictions(rolling_matches_df, predictors)"
   ],
   "metadata": {
    "collapsed": false,
    "ExecuteTime": {
     "end_time": "2023-11-07T11:01:44.897895129Z",
     "start_time": "2023-11-07T11:01:44.464748556Z"
    }
   },
   "id": "bf10d57ac5885bdf"
  },
  {
   "cell_type": "code",
   "execution_count": 104,
   "outputs": [
    {
     "data": {
      "text/plain": "prediction  Loss/Draw  Win\nactual                    \nLoss/Draw         481   92\nWin               250   97",
      "text/html": "<div>\n<style scoped>\n    .dataframe tbody tr th:only-of-type {\n        vertical-align: middle;\n    }\n\n    .dataframe tbody tr th {\n        vertical-align: top;\n    }\n\n    .dataframe thead th {\n        text-align: right;\n    }\n</style>\n<table border=\"1\" class=\"dataframe\">\n  <thead>\n    <tr style=\"text-align: right;\">\n      <th>prediction</th>\n      <th>Loss/Draw</th>\n      <th>Win</th>\n    </tr>\n    <tr>\n      <th>actual</th>\n      <th></th>\n      <th></th>\n    </tr>\n  </thead>\n  <tbody>\n    <tr>\n      <th>Loss/Draw</th>\n      <td>481</td>\n      <td>92</td>\n    </tr>\n    <tr>\n      <th>Win</th>\n      <td>250</td>\n      <td>97</td>\n    </tr>\n  </tbody>\n</table>\n</div>"
     },
     "execution_count": 104,
     "metadata": {},
     "output_type": "execute_result"
    }
   ],
   "source": [
    "matrix_df = combined.copy()\n",
    "# Create a mapping dictionary for the replacements.\n",
    "# We want to make the confusion matrix easier to read.\n",
    "mapping = {0: 'Loss/Draw', 1: 'Win'}\n",
    "\n",
    "# Apply the replacements to the 'actual' and 'prediction' columns.\n",
    "matrix_df['actual'] = matrix_df['actual'].replace(mapping)\n",
    "matrix_df['prediction'] = matrix_df['prediction'].replace(mapping)\n",
    "\n",
    "# Create a confusion matrix.\n",
    "pd.crosstab(index=matrix_df['actual'], columns=matrix_df['prediction'])"
   ],
   "metadata": {
    "collapsed": false,
    "ExecuteTime": {
     "end_time": "2023-11-07T11:01:44.899997738Z",
     "start_time": "2023-11-07T11:01:44.841765735Z"
    }
   },
   "id": "9553c6c96ad30ac5"
  },
  {
   "cell_type": "markdown",
   "source": [
    "Merge to see predictions."
   ],
   "metadata": {
    "collapsed": false
   },
   "id": "5249cdec2a2d210e"
  },
  {
   "cell_type": "code",
   "execution_count": 105,
   "outputs": [
    {
     "data": {
      "text/plain": "      actual  prediction       date       team             opponent result\n45         0           0 2022-01-08    Arminia             Freiburg      D\n46         0           1 2022-01-16    Arminia       Greuther Furth      D\n47         1           0 2022-01-21    Arminia  Eintracht Frankfurt      W\n48         0           0 2022-02-05    Arminia      Monchengladbach      D\n49         0           0 2022-02-13    Arminia           Hoffenheim      L\n...      ...         ...        ...        ...                  ...    ...\n3591       1           0 2023-04-30  Wolfsburg             Mainz 05      W\n3592       0           0 2023-05-07  Wolfsburg             Dortmund      L\n3593       1           0 2023-05-13  Wolfsburg           Hoffenheim      W\n3594       0           0 2023-05-19  Wolfsburg             Freiburg      L\n3595       0           0 2023-05-27  Wolfsburg           Hertha BSC      L\n\n[920 rows x 6 columns]",
      "text/html": "<div>\n<style scoped>\n    .dataframe tbody tr th:only-of-type {\n        vertical-align: middle;\n    }\n\n    .dataframe tbody tr th {\n        vertical-align: top;\n    }\n\n    .dataframe thead th {\n        text-align: right;\n    }\n</style>\n<table border=\"1\" class=\"dataframe\">\n  <thead>\n    <tr style=\"text-align: right;\">\n      <th></th>\n      <th>actual</th>\n      <th>prediction</th>\n      <th>date</th>\n      <th>team</th>\n      <th>opponent</th>\n      <th>result</th>\n    </tr>\n  </thead>\n  <tbody>\n    <tr>\n      <th>45</th>\n      <td>0</td>\n      <td>0</td>\n      <td>2022-01-08</td>\n      <td>Arminia</td>\n      <td>Freiburg</td>\n      <td>D</td>\n    </tr>\n    <tr>\n      <th>46</th>\n      <td>0</td>\n      <td>1</td>\n      <td>2022-01-16</td>\n      <td>Arminia</td>\n      <td>Greuther Furth</td>\n      <td>D</td>\n    </tr>\n    <tr>\n      <th>47</th>\n      <td>1</td>\n      <td>0</td>\n      <td>2022-01-21</td>\n      <td>Arminia</td>\n      <td>Eintracht Frankfurt</td>\n      <td>W</td>\n    </tr>\n    <tr>\n      <th>48</th>\n      <td>0</td>\n      <td>0</td>\n      <td>2022-02-05</td>\n      <td>Arminia</td>\n      <td>Monchengladbach</td>\n      <td>D</td>\n    </tr>\n    <tr>\n      <th>49</th>\n      <td>0</td>\n      <td>0</td>\n      <td>2022-02-13</td>\n      <td>Arminia</td>\n      <td>Hoffenheim</td>\n      <td>L</td>\n    </tr>\n    <tr>\n      <th>...</th>\n      <td>...</td>\n      <td>...</td>\n      <td>...</td>\n      <td>...</td>\n      <td>...</td>\n      <td>...</td>\n    </tr>\n    <tr>\n      <th>3591</th>\n      <td>1</td>\n      <td>0</td>\n      <td>2023-04-30</td>\n      <td>Wolfsburg</td>\n      <td>Mainz 05</td>\n      <td>W</td>\n    </tr>\n    <tr>\n      <th>3592</th>\n      <td>0</td>\n      <td>0</td>\n      <td>2023-05-07</td>\n      <td>Wolfsburg</td>\n      <td>Dortmund</td>\n      <td>L</td>\n    </tr>\n    <tr>\n      <th>3593</th>\n      <td>1</td>\n      <td>0</td>\n      <td>2023-05-13</td>\n      <td>Wolfsburg</td>\n      <td>Hoffenheim</td>\n      <td>W</td>\n    </tr>\n    <tr>\n      <th>3594</th>\n      <td>0</td>\n      <td>0</td>\n      <td>2023-05-19</td>\n      <td>Wolfsburg</td>\n      <td>Freiburg</td>\n      <td>L</td>\n    </tr>\n    <tr>\n      <th>3595</th>\n      <td>0</td>\n      <td>0</td>\n      <td>2023-05-27</td>\n      <td>Wolfsburg</td>\n      <td>Hertha BSC</td>\n      <td>L</td>\n    </tr>\n  </tbody>\n</table>\n<p>920 rows × 6 columns</p>\n</div>"
     },
     "execution_count": 105,
     "metadata": {},
     "output_type": "execute_result"
    }
   ],
   "source": [
    "combined = combined.merge(\n",
    "    rolling_matches_df[['date', 'team', 'opponent', 'result']],\n",
    "    left_index=True,\n",
    "    right_index=True\n",
    ")\n",
    "combined"
   ],
   "metadata": {
    "collapsed": false,
    "ExecuteTime": {
     "end_time": "2023-11-07T11:01:44.927119823Z",
     "start_time": "2023-11-07T11:01:44.868583069Z"
    }
   },
   "id": "3dd1fc78735db70a"
  },
  {
   "cell_type": "markdown",
   "source": [
    "The dataframe above has two rows per match - one containing the prediction for the home team, and one containing the prediction for the away team. We want to combine these two rows into one row per match."
   ],
   "metadata": {
    "collapsed": false
   },
   "id": "50dfd07accfa257c"
  },
  {
   "cell_type": "code",
   "execution_count": 106,
   "outputs": [
    {
     "data": {
      "text/plain": "     actual_x  prediction_x       date     team_x           opponent_x  \\\n0           0             0 2022-01-08    Arminia             Freiburg   \n1           0             1 2022-01-16    Arminia       Greuther Furth   \n2           1             0 2022-01-21    Arminia  Eintracht Frankfurt   \n3           0             0 2022-02-05    Arminia      Monchengladbach   \n4           0             0 2022-02-13    Arminia           Hoffenheim   \n..        ...           ...        ...        ...                  ...   \n911         1             0 2023-04-30  Wolfsburg             Mainz 05   \n912         0             0 2023-05-07  Wolfsburg             Dortmund   \n913         1             0 2023-05-13  Wolfsburg           Hoffenheim   \n914         0             0 2023-05-19  Wolfsburg             Freiburg   \n915         0             0 2023-05-27  Wolfsburg           Hertha BSC   \n\n    result_x  actual_y  prediction_y               team_y opponent_y result_y  \n0          D         0             0             Freiburg    Arminia        D  \n1          D         0             0       Greuther Furth    Arminia        D  \n2          W         0             0  Eintracht Frankfurt    Arminia        L  \n3          D         0             0      Monchengladbach    Arminia        D  \n4          L         1             0           Hoffenheim    Arminia        W  \n..       ...       ...           ...                  ...        ...      ...  \n911        W         0             0             Mainz 05  Wolfsburg        L  \n912        L         1             0             Dortmund  Wolfsburg        W  \n913        W         0             0           Hoffenheim  Wolfsburg        L  \n914        L         1             0             Freiburg  Wolfsburg        W  \n915        L         1             0           Hertha BSC  Wolfsburg        W  \n\n[916 rows x 11 columns]",
      "text/html": "<div>\n<style scoped>\n    .dataframe tbody tr th:only-of-type {\n        vertical-align: middle;\n    }\n\n    .dataframe tbody tr th {\n        vertical-align: top;\n    }\n\n    .dataframe thead th {\n        text-align: right;\n    }\n</style>\n<table border=\"1\" class=\"dataframe\">\n  <thead>\n    <tr style=\"text-align: right;\">\n      <th></th>\n      <th>actual_x</th>\n      <th>prediction_x</th>\n      <th>date</th>\n      <th>team_x</th>\n      <th>opponent_x</th>\n      <th>result_x</th>\n      <th>actual_y</th>\n      <th>prediction_y</th>\n      <th>team_y</th>\n      <th>opponent_y</th>\n      <th>result_y</th>\n    </tr>\n  </thead>\n  <tbody>\n    <tr>\n      <th>0</th>\n      <td>0</td>\n      <td>0</td>\n      <td>2022-01-08</td>\n      <td>Arminia</td>\n      <td>Freiburg</td>\n      <td>D</td>\n      <td>0</td>\n      <td>0</td>\n      <td>Freiburg</td>\n      <td>Arminia</td>\n      <td>D</td>\n    </tr>\n    <tr>\n      <th>1</th>\n      <td>0</td>\n      <td>1</td>\n      <td>2022-01-16</td>\n      <td>Arminia</td>\n      <td>Greuther Furth</td>\n      <td>D</td>\n      <td>0</td>\n      <td>0</td>\n      <td>Greuther Furth</td>\n      <td>Arminia</td>\n      <td>D</td>\n    </tr>\n    <tr>\n      <th>2</th>\n      <td>1</td>\n      <td>0</td>\n      <td>2022-01-21</td>\n      <td>Arminia</td>\n      <td>Eintracht Frankfurt</td>\n      <td>W</td>\n      <td>0</td>\n      <td>0</td>\n      <td>Eintracht Frankfurt</td>\n      <td>Arminia</td>\n      <td>L</td>\n    </tr>\n    <tr>\n      <th>3</th>\n      <td>0</td>\n      <td>0</td>\n      <td>2022-02-05</td>\n      <td>Arminia</td>\n      <td>Monchengladbach</td>\n      <td>D</td>\n      <td>0</td>\n      <td>0</td>\n      <td>Monchengladbach</td>\n      <td>Arminia</td>\n      <td>D</td>\n    </tr>\n    <tr>\n      <th>4</th>\n      <td>0</td>\n      <td>0</td>\n      <td>2022-02-13</td>\n      <td>Arminia</td>\n      <td>Hoffenheim</td>\n      <td>L</td>\n      <td>1</td>\n      <td>0</td>\n      <td>Hoffenheim</td>\n      <td>Arminia</td>\n      <td>W</td>\n    </tr>\n    <tr>\n      <th>...</th>\n      <td>...</td>\n      <td>...</td>\n      <td>...</td>\n      <td>...</td>\n      <td>...</td>\n      <td>...</td>\n      <td>...</td>\n      <td>...</td>\n      <td>...</td>\n      <td>...</td>\n      <td>...</td>\n    </tr>\n    <tr>\n      <th>911</th>\n      <td>1</td>\n      <td>0</td>\n      <td>2023-04-30</td>\n      <td>Wolfsburg</td>\n      <td>Mainz 05</td>\n      <td>W</td>\n      <td>0</td>\n      <td>0</td>\n      <td>Mainz 05</td>\n      <td>Wolfsburg</td>\n      <td>L</td>\n    </tr>\n    <tr>\n      <th>912</th>\n      <td>0</td>\n      <td>0</td>\n      <td>2023-05-07</td>\n      <td>Wolfsburg</td>\n      <td>Dortmund</td>\n      <td>L</td>\n      <td>1</td>\n      <td>0</td>\n      <td>Dortmund</td>\n      <td>Wolfsburg</td>\n      <td>W</td>\n    </tr>\n    <tr>\n      <th>913</th>\n      <td>1</td>\n      <td>0</td>\n      <td>2023-05-13</td>\n      <td>Wolfsburg</td>\n      <td>Hoffenheim</td>\n      <td>W</td>\n      <td>0</td>\n      <td>0</td>\n      <td>Hoffenheim</td>\n      <td>Wolfsburg</td>\n      <td>L</td>\n    </tr>\n    <tr>\n      <th>914</th>\n      <td>0</td>\n      <td>0</td>\n      <td>2023-05-19</td>\n      <td>Wolfsburg</td>\n      <td>Freiburg</td>\n      <td>L</td>\n      <td>1</td>\n      <td>0</td>\n      <td>Freiburg</td>\n      <td>Wolfsburg</td>\n      <td>W</td>\n    </tr>\n    <tr>\n      <th>915</th>\n      <td>0</td>\n      <td>0</td>\n      <td>2023-05-27</td>\n      <td>Wolfsburg</td>\n      <td>Hertha BSC</td>\n      <td>L</td>\n      <td>1</td>\n      <td>0</td>\n      <td>Hertha BSC</td>\n      <td>Wolfsburg</td>\n      <td>W</td>\n    </tr>\n  </tbody>\n</table>\n<p>916 rows × 11 columns</p>\n</div>"
     },
     "execution_count": 106,
     "metadata": {},
     "output_type": "execute_result"
    }
   ],
   "source": [
    "merged = combined.merge(combined, left_on=['date', 'team'], right_on=['date', 'opponent'])\n",
    "merged"
   ],
   "metadata": {
    "collapsed": false,
    "ExecuteTime": {
     "end_time": "2023-11-07T11:01:45.055454235Z",
     "start_time": "2023-11-07T11:01:44.885647186Z"
    }
   },
   "id": "285ea337e29d938e"
  },
  {
   "cell_type": "markdown",
   "source": [
    "Get the rows where we predicted that **the home team would win and the away team would lose**."
   ],
   "metadata": {
    "collapsed": false
   },
   "id": "6f758fc96c0316ab"
  },
  {
   "cell_type": "code",
   "execution_count": 113,
   "outputs": [
    {
     "name": "stdout",
     "output_type": "stream",
     "text": [
      "Accuracy: 54.88%\n"
     ]
    }
   ],
   "source": [
    "accuracy_df = merged[(merged['prediction_x'] == 1) & (merged['prediction_y'] == 0)]['actual_x'].value_counts()\n",
    "accuracy = accuracy_df.iloc[0] / (accuracy_df.iloc[0] + accuracy_df.iloc[1]) * 100\n",
    "print(f'Accuracy: {accuracy:.2f}%')"
   ],
   "metadata": {
    "collapsed": false,
    "ExecuteTime": {
     "end_time": "2023-11-07T11:10:48.495596720Z",
     "start_time": "2023-11-07T11:10:48.483542004Z"
    }
   },
   "id": "5165c2ab4cd7a0cb"
  }
 ],
 "metadata": {
  "kernelspec": {
   "display_name": "Python 3",
   "language": "python",
   "name": "python3"
  },
  "language_info": {
   "codemirror_mode": {
    "name": "ipython",
    "version": 2
   },
   "file_extension": ".py",
   "mimetype": "text/x-python",
   "name": "python",
   "nbconvert_exporter": "python",
   "pygments_lexer": "ipython2",
   "version": "2.7.6"
  }
 },
 "nbformat": 4,
 "nbformat_minor": 5
}
