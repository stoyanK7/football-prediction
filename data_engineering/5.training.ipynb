{
 "cells": [
  {
   "cell_type": "markdown",
   "source": [
    "# Training the model"
   ],
   "metadata": {
    "collapsed": false
   },
   "id": "af03889ba38d1232"
  },
  {
   "cell_type": "markdown",
   "source": [
    "Imports."
   ],
   "metadata": {
    "collapsed": false
   },
   "id": "174fc7db1c2e5f3e"
  },
  {
   "cell_type": "code",
   "execution_count": 365,
   "outputs": [],
   "source": [
    "import pandas as pd\n",
    "from sklearn.ensemble import RandomForestClassifier\n",
    "from sklearn.metrics import accuracy_score, precision_score"
   ],
   "metadata": {
    "collapsed": false,
    "ExecuteTime": {
     "end_time": "2023-11-06T18:23:43.775641460Z",
     "start_time": "2023-11-06T18:23:43.701933613Z"
    }
   },
   "id": "70716b6127abf94"
  },
  {
   "cell_type": "markdown",
   "source": [
    "Pathing to the data."
   ],
   "metadata": {
    "collapsed": false
   },
   "id": "d5d4ce6133888ffa"
  },
  {
   "cell_type": "code",
   "execution_count": 366,
   "outputs": [],
   "source": [
    "data_path = '../data'\n",
    "clean_data_path = f'{data_path}/csv/clean'"
   ],
   "metadata": {
    "collapsed": false,
    "ExecuteTime": {
     "end_time": "2023-11-06T18:23:43.808573002Z",
     "start_time": "2023-11-06T18:23:43.705860988Z"
    }
   },
   "id": "8f089a32f7cdf914"
  },
  {
   "cell_type": "markdown",
   "source": [
    "Open cleaned data."
   ],
   "metadata": {
    "collapsed": false
   },
   "id": "c34056ed649040cd"
  },
  {
   "cell_type": "code",
   "execution_count": 367,
   "outputs": [],
   "source": [
    "matches_df = pd.read_csv(f'{clean_data_path}/bundesliga_matches.csv')"
   ],
   "metadata": {
    "collapsed": false,
    "ExecuteTime": {
     "end_time": "2023-11-06T18:23:43.985052856Z",
     "start_time": "2023-11-06T18:23:43.715366919Z"
    }
   },
   "id": "fafbc1b5a2c4407c"
  },
  {
   "cell_type": "code",
   "execution_count": 368,
   "outputs": [
    {
     "data": {
      "text/plain": "Matchweek 1     110\nMatchweek 4     110\nMatchweek 5     110\nMatchweek 2     110\nMatchweek 3     110\nMatchweek 33    108\nMatchweek 32    108\nMatchweek 31    108\nMatchweek 30    108\nMatchweek 20    108\nMatchweek 28    108\nMatchweek 26    108\nMatchweek 25    108\nMatchweek 24    108\nMatchweek 23    108\nMatchweek 22    108\nMatchweek 21    108\nMatchweek 29    108\nMatchweek 18    108\nMatchweek 19    108\nMatchweek 17    108\nMatchweek 16    108\nMatchweek 15    108\nMatchweek 14    108\nMatchweek 13    108\nMatchweek 12    108\nMatchweek 11    108\nMatchweek 10    108\nMatchweek 9     108\nMatchweek 8     108\nMatchweek 7     108\nMatchweek 6     108\nMatchweek 34    108\nMatchweek 27    106\nName: round, dtype: int64"
     },
     "execution_count": 368,
     "metadata": {},
     "output_type": "execute_result"
    }
   ],
   "source": [
    "matches_df['round'].value_counts()"
   ],
   "metadata": {
    "collapsed": false,
    "ExecuteTime": {
     "end_time": "2023-11-06T18:23:43.986855315Z",
     "start_time": "2023-11-06T18:23:43.806875025Z"
    }
   },
   "id": "96b61ab55587976a"
  },
  {
   "cell_type": "code",
   "execution_count": 369,
   "outputs": [
    {
     "data": {
      "text/plain": "date                       object\ntime                       object\ncomp                       object\nround                      object\nday                        object\n                           ...   \nmisc_aerial_duels_won     float64\nmisc_aerial_duels_lost    float64\nmisc_aerial_duels_won%    float64\npgf                       float64\npga                       float64\nLength: 159, dtype: object"
     },
     "execution_count": 369,
     "metadata": {},
     "output_type": "execute_result"
    }
   ],
   "source": [
    "matches_df.dtypes"
   ],
   "metadata": {
    "collapsed": false,
    "ExecuteTime": {
     "end_time": "2023-11-06T18:23:43.987028940Z",
     "start_time": "2023-11-06T18:23:43.807287507Z"
    }
   },
   "id": "826f9b997072a4df"
  },
  {
   "cell_type": "code",
   "execution_count": 370,
   "outputs": [
    {
     "data": {
      "text/plain": "date                      datetime64[ns]\ntime                              object\ncomp                              object\nround                             object\nday                               object\n                               ...      \nmisc_aerial_duels_won            float64\nmisc_aerial_duels_lost           float64\nmisc_aerial_duels_won%           float64\npgf                              float64\npga                              float64\nLength: 159, dtype: object"
     },
     "execution_count": 370,
     "metadata": {},
     "output_type": "execute_result"
    }
   ],
   "source": [
    "matches_df['date'] = pd.to_datetime(matches_df['date'])\n",
    "matches_df.dtypes"
   ],
   "metadata": {
    "collapsed": false,
    "ExecuteTime": {
     "end_time": "2023-11-06T18:23:43.987172114Z",
     "start_time": "2023-11-06T18:23:43.807484808Z"
    }
   },
   "id": "8bcef95a7902acae"
  },
  {
   "cell_type": "markdown",
   "source": [
    "Create new predictor columns."
   ],
   "metadata": {
    "collapsed": false
   },
   "id": "7e4479350f5eb099"
  },
  {
   "cell_type": "code",
   "execution_count": 371,
   "outputs": [
    {
     "data": {
      "text/plain": "                opponent  opponent_code\n0                Arminia              0\n1             Hertha BSC             12\n2             Hoffenheim             13\n3                   Koln             14\n4          Bayern Munich              3\n5          Werder Bremen             23\n6              Stuttgart             21\n7             RB Leipzig             19\n8           Union Berlin             22\n9               Dortmund              5\n10             Wolfsburg             24\n11       Monchengladbach             16\n12              Augsburg              1\n13      Bayer Leverkusen              2\n14              Mainz 05             15\n15            Schalke 04             20\n16              Freiburg              8\n34              Nurnberg             17\n44            Dusseldorf              6\n46           Hannover 96             11\n47   Eintracht Frankfurt              7\n77                Bochum              4\n79        Greuther Furth              9\n177         Paderborn 07             18\n215         Hamburger SV             10",
      "text/html": "<div>\n<style scoped>\n    .dataframe tbody tr th:only-of-type {\n        vertical-align: middle;\n    }\n\n    .dataframe tbody tr th {\n        vertical-align: top;\n    }\n\n    .dataframe thead th {\n        text-align: right;\n    }\n</style>\n<table border=\"1\" class=\"dataframe\">\n  <thead>\n    <tr style=\"text-align: right;\">\n      <th></th>\n      <th>opponent</th>\n      <th>opponent_code</th>\n    </tr>\n  </thead>\n  <tbody>\n    <tr>\n      <th>0</th>\n      <td>Arminia</td>\n      <td>0</td>\n    </tr>\n    <tr>\n      <th>1</th>\n      <td>Hertha BSC</td>\n      <td>12</td>\n    </tr>\n    <tr>\n      <th>2</th>\n      <td>Hoffenheim</td>\n      <td>13</td>\n    </tr>\n    <tr>\n      <th>3</th>\n      <td>Koln</td>\n      <td>14</td>\n    </tr>\n    <tr>\n      <th>4</th>\n      <td>Bayern Munich</td>\n      <td>3</td>\n    </tr>\n    <tr>\n      <th>5</th>\n      <td>Werder Bremen</td>\n      <td>23</td>\n    </tr>\n    <tr>\n      <th>6</th>\n      <td>Stuttgart</td>\n      <td>21</td>\n    </tr>\n    <tr>\n      <th>7</th>\n      <td>RB Leipzig</td>\n      <td>19</td>\n    </tr>\n    <tr>\n      <th>8</th>\n      <td>Union Berlin</td>\n      <td>22</td>\n    </tr>\n    <tr>\n      <th>9</th>\n      <td>Dortmund</td>\n      <td>5</td>\n    </tr>\n    <tr>\n      <th>10</th>\n      <td>Wolfsburg</td>\n      <td>24</td>\n    </tr>\n    <tr>\n      <th>11</th>\n      <td>Monchengladbach</td>\n      <td>16</td>\n    </tr>\n    <tr>\n      <th>12</th>\n      <td>Augsburg</td>\n      <td>1</td>\n    </tr>\n    <tr>\n      <th>13</th>\n      <td>Bayer Leverkusen</td>\n      <td>2</td>\n    </tr>\n    <tr>\n      <th>14</th>\n      <td>Mainz 05</td>\n      <td>15</td>\n    </tr>\n    <tr>\n      <th>15</th>\n      <td>Schalke 04</td>\n      <td>20</td>\n    </tr>\n    <tr>\n      <th>16</th>\n      <td>Freiburg</td>\n      <td>8</td>\n    </tr>\n    <tr>\n      <th>34</th>\n      <td>Nurnberg</td>\n      <td>17</td>\n    </tr>\n    <tr>\n      <th>44</th>\n      <td>Dusseldorf</td>\n      <td>6</td>\n    </tr>\n    <tr>\n      <th>46</th>\n      <td>Hannover 96</td>\n      <td>11</td>\n    </tr>\n    <tr>\n      <th>47</th>\n      <td>Eintracht Frankfurt</td>\n      <td>7</td>\n    </tr>\n    <tr>\n      <th>77</th>\n      <td>Bochum</td>\n      <td>4</td>\n    </tr>\n    <tr>\n      <th>79</th>\n      <td>Greuther Furth</td>\n      <td>9</td>\n    </tr>\n    <tr>\n      <th>177</th>\n      <td>Paderborn 07</td>\n      <td>18</td>\n    </tr>\n    <tr>\n      <th>215</th>\n      <td>Hamburger SV</td>\n      <td>10</td>\n    </tr>\n  </tbody>\n</table>\n</div>"
     },
     "execution_count": 371,
     "metadata": {},
     "output_type": "execute_result"
    }
   ],
   "source": [
    "matches_df['opponent_code'] = matches_df['opponent'].astype('category').cat.codes\n",
    "matches_df[['opponent', 'opponent_code']].drop_duplicates()"
   ],
   "metadata": {
    "collapsed": false,
    "ExecuteTime": {
     "end_time": "2023-11-06T18:23:43.988139344Z",
     "start_time": "2023-11-06T18:23:43.807661017Z"
    }
   },
   "id": "a5905ddfaa749744"
  },
  {
   "cell_type": "code",
   "execution_count": 372,
   "outputs": [],
   "source": [
    "matches_df['venue_code'] = matches_df['venue'].astype('category').cat.codes\n",
    "matches_df['hour'] = matches_df['time'].str.replace(':.+', '', regex=True).astype('int')\n",
    "matches_df['day_code'] = matches_df['date'].dt.dayofweek\n",
    "matches_df['target'] = (matches_df['result'] == 'W').astype('int')\n",
    "\n",
    "predictors = ['opponent_code', 'venue_code', 'hour', 'day_code']"
   ],
   "metadata": {
    "collapsed": false,
    "ExecuteTime": {
     "end_time": "2023-11-06T18:23:43.988313178Z",
     "start_time": "2023-11-06T18:23:43.821152431Z"
    }
   },
   "id": "db60f0a027c4d8c"
  },
  {
   "cell_type": "markdown",
   "source": [
    "Split data into train and test sets."
   ],
   "metadata": {
    "collapsed": false
   },
   "id": "9ba805ff2e400eff"
  },
  {
   "cell_type": "code",
   "execution_count": 373,
   "outputs": [
    {
     "name": "stdout",
     "output_type": "stream",
     "text": [
      "Train: 3328 (90.43%)\n",
      "Test: 352 (9.57%)\n"
     ]
    }
   ],
   "source": [
    "train = matches_df[matches_df['date'] < '2023-01-01']\n",
    "test = matches_df[matches_df['date'] >= '2023-01-01']\n",
    "\n",
    "print(f'Train: {len(train)} ({len(train) / len(matches_df):.2%})')\n",
    "print(f'Test: {len(test)} ({len(test) / len(matches_df):.2%})')"
   ],
   "metadata": {
    "collapsed": false,
    "ExecuteTime": {
     "end_time": "2023-11-06T18:23:43.988711552Z",
     "start_time": "2023-11-06T18:23:43.834949818Z"
    }
   },
   "id": "36bf2f6d5da9a8b1"
  },
  {
   "cell_type": "markdown",
   "source": [
    "Create and train model."
   ],
   "metadata": {
    "collapsed": false
   },
   "id": "e4eabc8eba0d7ffc"
  },
  {
   "cell_type": "code",
   "execution_count": 374,
   "outputs": [
    {
     "data": {
      "text/plain": "RandomForestClassifier(n_estimators=50, random_state=1)",
      "text/html": "<style>#sk-container-id-16 {color: black;}#sk-container-id-16 pre{padding: 0;}#sk-container-id-16 div.sk-toggleable {background-color: white;}#sk-container-id-16 label.sk-toggleable__label {cursor: pointer;display: block;width: 100%;margin-bottom: 0;padding: 0.3em;box-sizing: border-box;text-align: center;}#sk-container-id-16 label.sk-toggleable__label-arrow:before {content: \"▸\";float: left;margin-right: 0.25em;color: #696969;}#sk-container-id-16 label.sk-toggleable__label-arrow:hover:before {color: black;}#sk-container-id-16 div.sk-estimator:hover label.sk-toggleable__label-arrow:before {color: black;}#sk-container-id-16 div.sk-toggleable__content {max-height: 0;max-width: 0;overflow: hidden;text-align: left;background-color: #f0f8ff;}#sk-container-id-16 div.sk-toggleable__content pre {margin: 0.2em;color: black;border-radius: 0.25em;background-color: #f0f8ff;}#sk-container-id-16 input.sk-toggleable__control:checked~div.sk-toggleable__content {max-height: 200px;max-width: 100%;overflow: auto;}#sk-container-id-16 input.sk-toggleable__control:checked~label.sk-toggleable__label-arrow:before {content: \"▾\";}#sk-container-id-16 div.sk-estimator input.sk-toggleable__control:checked~label.sk-toggleable__label {background-color: #d4ebff;}#sk-container-id-16 div.sk-label input.sk-toggleable__control:checked~label.sk-toggleable__label {background-color: #d4ebff;}#sk-container-id-16 input.sk-hidden--visually {border: 0;clip: rect(1px 1px 1px 1px);clip: rect(1px, 1px, 1px, 1px);height: 1px;margin: -1px;overflow: hidden;padding: 0;position: absolute;width: 1px;}#sk-container-id-16 div.sk-estimator {font-family: monospace;background-color: #f0f8ff;border: 1px dotted black;border-radius: 0.25em;box-sizing: border-box;margin-bottom: 0.5em;}#sk-container-id-16 div.sk-estimator:hover {background-color: #d4ebff;}#sk-container-id-16 div.sk-parallel-item::after {content: \"\";width: 100%;border-bottom: 1px solid gray;flex-grow: 1;}#sk-container-id-16 div.sk-label:hover label.sk-toggleable__label {background-color: #d4ebff;}#sk-container-id-16 div.sk-serial::before {content: \"\";position: absolute;border-left: 1px solid gray;box-sizing: border-box;top: 0;bottom: 0;left: 50%;z-index: 0;}#sk-container-id-16 div.sk-serial {display: flex;flex-direction: column;align-items: center;background-color: white;padding-right: 0.2em;padding-left: 0.2em;position: relative;}#sk-container-id-16 div.sk-item {position: relative;z-index: 1;}#sk-container-id-16 div.sk-parallel {display: flex;align-items: stretch;justify-content: center;background-color: white;position: relative;}#sk-container-id-16 div.sk-item::before, #sk-container-id-16 div.sk-parallel-item::before {content: \"\";position: absolute;border-left: 1px solid gray;box-sizing: border-box;top: 0;bottom: 0;left: 50%;z-index: -1;}#sk-container-id-16 div.sk-parallel-item {display: flex;flex-direction: column;z-index: 1;position: relative;background-color: white;}#sk-container-id-16 div.sk-parallel-item:first-child::after {align-self: flex-end;width: 50%;}#sk-container-id-16 div.sk-parallel-item:last-child::after {align-self: flex-start;width: 50%;}#sk-container-id-16 div.sk-parallel-item:only-child::after {width: 0;}#sk-container-id-16 div.sk-dashed-wrapped {border: 1px dashed gray;margin: 0 0.4em 0.5em 0.4em;box-sizing: border-box;padding-bottom: 0.4em;background-color: white;}#sk-container-id-16 div.sk-label label {font-family: monospace;font-weight: bold;display: inline-block;line-height: 1.2em;}#sk-container-id-16 div.sk-label-container {text-align: center;}#sk-container-id-16 div.sk-container {/* jupyter's `normalize.less` sets `[hidden] { display: none; }` but bootstrap.min.css set `[hidden] { display: none !important; }` so we also need the `!important` here to be able to override the default hidden behavior on the sphinx rendered scikit-learn.org. See: https://github.com/scikit-learn/scikit-learn/issues/21755 */display: inline-block !important;position: relative;}#sk-container-id-16 div.sk-text-repr-fallback {display: none;}</style><div id=\"sk-container-id-16\" class=\"sk-top-container\"><div class=\"sk-text-repr-fallback\"><pre>RandomForestClassifier(n_estimators=50, random_state=1)</pre><b>In a Jupyter environment, please rerun this cell to show the HTML representation or trust the notebook. <br />On GitHub, the HTML representation is unable to render, please try loading this page with nbviewer.org.</b></div><div class=\"sk-container\" hidden><div class=\"sk-item\"><div class=\"sk-estimator sk-toggleable\"><input class=\"sk-toggleable__control sk-hidden--visually\" id=\"sk-estimator-id-16\" type=\"checkbox\" checked><label for=\"sk-estimator-id-16\" class=\"sk-toggleable__label sk-toggleable__label-arrow\">RandomForestClassifier</label><div class=\"sk-toggleable__content\"><pre>RandomForestClassifier(n_estimators=50, random_state=1)</pre></div></div></div></div></div>"
     },
     "execution_count": 374,
     "metadata": {},
     "output_type": "execute_result"
    }
   ],
   "source": [
    "rf = RandomForestClassifier(\n",
    "    n_estimators=50,  # number of trees in the forest\n",
    "    min_samples_split=2,  # number of samples required to split an internal node\n",
    "    random_state=1  # seed\n",
    ")\n",
    "rf.fit(train[predictors], train['target'])"
   ],
   "metadata": {
    "collapsed": false,
    "ExecuteTime": {
     "end_time": "2023-11-06T18:23:43.989246884Z",
     "start_time": "2023-11-06T18:23:43.882858225Z"
    }
   },
   "id": "2b6c4fc897d51dab"
  },
  {
   "cell_type": "markdown",
   "source": [
    "Test model."
   ],
   "metadata": {
    "collapsed": false
   },
   "id": "510277a464bda1cf"
  },
  {
   "cell_type": "code",
   "execution_count": 375,
   "outputs": [
    {
     "name": "stdout",
     "output_type": "stream",
     "text": [
      "Accuracy: 63.07%\n"
     ]
    }
   ],
   "source": [
    "predictions = rf.predict(test[predictors])\n",
    "accuracy = accuracy_score(test['target'], predictions)\n",
    "print(f'Accuracy: {accuracy:.2%}')"
   ],
   "metadata": {
    "collapsed": false,
    "ExecuteTime": {
     "end_time": "2023-11-06T18:23:43.989379233Z",
     "start_time": "2023-11-06T18:23:43.974857383Z"
    }
   },
   "id": "3554f08946f46f4d"
  },
  {
   "cell_type": "markdown",
   "source": [
    "Create a confusion matrix."
   ],
   "metadata": {
    "collapsed": false
   },
   "id": "352baad3dc502baa"
  },
  {
   "cell_type": "code",
   "execution_count": 376,
   "outputs": [
    {
     "data": {
      "text/plain": "prediction    0   1\nactual             \n0           184  40\n1            90  38",
      "text/html": "<div>\n<style scoped>\n    .dataframe tbody tr th:only-of-type {\n        vertical-align: middle;\n    }\n\n    .dataframe tbody tr th {\n        vertical-align: top;\n    }\n\n    .dataframe thead th {\n        text-align: right;\n    }\n</style>\n<table border=\"1\" class=\"dataframe\">\n  <thead>\n    <tr style=\"text-align: right;\">\n      <th>prediction</th>\n      <th>0</th>\n      <th>1</th>\n    </tr>\n    <tr>\n      <th>actual</th>\n      <th></th>\n      <th></th>\n    </tr>\n  </thead>\n  <tbody>\n    <tr>\n      <th>0</th>\n      <td>184</td>\n      <td>40</td>\n    </tr>\n    <tr>\n      <th>1</th>\n      <td>90</td>\n      <td>38</td>\n    </tr>\n  </tbody>\n</table>\n</div>"
     },
     "execution_count": 376,
     "metadata": {},
     "output_type": "execute_result"
    }
   ],
   "source": [
    "combined = pd.DataFrame(dict(actual=test['target'], prediction=predictions))\n",
    "pd.crosstab(index=combined['actual'], columns=combined['prediction'])"
   ],
   "metadata": {
    "collapsed": false,
    "ExecuteTime": {
     "end_time": "2023-11-06T18:23:43.989564521Z",
     "start_time": "2023-11-06T18:23:43.975005516Z"
    }
   },
   "id": "bf10d57ac5885bdf"
  },
  {
   "cell_type": "markdown",
   "source": [
    "When predicting a draw or loss, we were right 181 times and wrong 93 times.\n",
    "When predicting a win, we were right 35 times and wrong 43 times."
   ],
   "metadata": {
    "collapsed": false
   },
   "id": "28593cec0364ccc4"
  },
  {
   "cell_type": "code",
   "execution_count": 377,
   "outputs": [
    {
     "name": "stdout",
     "output_type": "stream",
     "text": [
      "Precision: 48.72%\n"
     ]
    }
   ],
   "source": [
    "precision = precision_score(test['target'], predictions)\n",
    "print(f'Precision: {precision:.2%}')"
   ],
   "metadata": {
    "collapsed": false,
    "ExecuteTime": {
     "end_time": "2023-11-06T18:23:43.989688768Z",
     "start_time": "2023-11-06T18:23:43.975147853Z"
    }
   },
   "id": "71ad8841abd86f8e"
  },
  {
   "cell_type": "markdown",
   "source": [
    "Our precision is only 44.87% which is not ideal."
   ],
   "metadata": {
    "collapsed": false
   },
   "id": "bb8e26f5477dd80c"
  },
  {
   "cell_type": "markdown",
   "source": [
    "Let's create more predictors in order to improve the accuracy of the model.\n",
    "\n",
    "We will split the matches dataframe by team, because what we want to do is compute rolling averages for each team - how did this team perform in the past few games?"
   ],
   "metadata": {
    "collapsed": false
   },
   "id": "31cc6ff28ed6266d"
  },
  {
   "cell_type": "code",
   "execution_count": 378,
   "outputs": [],
   "source": [
    "# Create a dataframe for each team.\n",
    "grouped_matches_df = matches_df.groupby('team')"
   ],
   "metadata": {
    "collapsed": false,
    "ExecuteTime": {
     "end_time": "2023-11-06T18:23:44.074357476Z",
     "start_time": "2023-11-06T18:23:43.975241649Z"
    }
   },
   "id": "6db5d2582325478c"
  },
  {
   "cell_type": "code",
   "execution_count": 379,
   "outputs": [],
   "source": [
    "def rolling_averages(group, cols, new_cols):\n",
    "    # Sort by date because we want to look at the last 3 matches.\n",
    "    group = group.sort_values('date')\n",
    "    # Compute rolling averages for the specified columns.\n",
    "    # The closed parameter is set to 'left' so that the current match is not included in the average.\n",
    "    rolling_stats = group[cols].rolling(3, closed='left').mean()\n",
    "    # Add the rolling averages to the dataframe.\n",
    "    group[new_cols] = rolling_stats\n",
    "    # The first two matches will have NaN values for the rolling averages, so we drop them.\n",
    "    group = group.dropna(subset=new_cols)\n",
    "    return group"
   ],
   "metadata": {
    "collapsed": false,
    "ExecuteTime": {
     "end_time": "2023-11-06T18:23:44.074507355Z",
     "start_time": "2023-11-06T18:23:44.018870962Z"
    }
   },
   "id": "c3b5153390f49ac2"
  },
  {
   "cell_type": "code",
   "execution_count": 380,
   "outputs": [
    {
     "data": {
      "text/plain": "['gf_rolling_avg',\n 'ga_rolling_avg',\n 'shooting_standard_sh_rolling_avg',\n 'shooting_standard_sot_rolling_avg',\n 'shooting_standard_dist_rolling_avg',\n 'shooting_standard_fk_rolling_avg',\n 'shooting_standard_pk_rolling_avg',\n 'shooting_standard_pkatt_rolling_avg']"
     },
     "execution_count": 380,
     "metadata": {},
     "output_type": "execute_result"
    }
   ],
   "source": [
    "cols = [\n",
    "    'gf',\n",
    "    'ga',\n",
    "    'shooting_standard_sh',\n",
    "    'shooting_standard_sot',\n",
    "    'shooting_standard_dist',\n",
    "    'shooting_standard_fk',\n",
    "    'shooting_standard_pk',\n",
    "    'shooting_standard_pkatt'\n",
    "]\n",
    "new_cols = [f'{col}_rolling_avg' for col in cols]\n",
    "new_cols"
   ],
   "metadata": {
    "collapsed": false,
    "ExecuteTime": {
     "end_time": "2023-11-06T18:23:44.074733500Z",
     "start_time": "2023-11-06T18:23:44.019015672Z"
    }
   },
   "id": "b8ae65e59989b004"
  },
  {
   "cell_type": "code",
   "execution_count": 381,
   "outputs": [
    {
     "data": {
      "text/plain": "                     date   time        comp         round  day venue result  \\\nteam                                                                           \nArminia   828  2020-10-17  18:30  Bundesliga   Matchweek 4  Sat  Home      L   \n          829  2020-10-25  15:30  Bundesliga   Matchweek 5  Sun  Away      L   \n          830  2020-10-31  15:30  Bundesliga   Matchweek 6  Sat  Home      L   \n          831  2020-11-07  15:30  Bundesliga   Matchweek 7  Sat  Away      L   \n          832  2020-11-21  15:30  Bundesliga   Matchweek 8  Sat  Home      L   \n...                   ...    ...         ...           ...  ...   ...    ...   \nWolfsburg 2010 2023-04-30  17:30  Bundesliga  Matchweek 30  Sun  Home      W   \n          2011 2023-05-07  17:30  Bundesliga  Matchweek 31  Sun  Away      L   \n          2012 2023-05-13  15:30  Bundesliga  Matchweek 32  Sat  Home      W   \n          2013 2023-05-19  20:30  Bundesliga  Matchweek 33  Fri  Away      L   \n          2014 2023-05-27  15:30  Bundesliga  Matchweek 34  Sat  Home      L   \n\n                gf  ga          opponent  ...  day_code  target  \\\nteam                                      ...                     \nArminia   828    1   4     Bayern Munich  ...         5       0   \n          829    1   2         Wolfsburg  ...         6       0   \n          830    0   2          Dortmund  ...         5       0   \n          831    0   5      Union Berlin  ...         5       0   \n          832    1   2  Bayer Leverkusen  ...         5       0   \n...             ..  ..               ...  ...       ...     ...   \nWolfsburg 2010   3   0          Mainz 05  ...         6       1   \n          2011   0   6          Dortmund  ...         6       0   \n          2012   2   1        Hoffenheim  ...         5       1   \n          2013   0   2          Freiburg  ...         4       0   \n          2014   1   2        Hertha BSC  ...         5       0   \n\n                gf_rolling_avg  ga_rolling_avg  \\\nteam                                             \nArminia   828         0.666667        0.666667   \n          829         0.666667        1.666667   \n          830         0.666667        2.333333   \n          831         0.666667        2.666667   \n          832         0.333333        3.000000   \n...                        ...             ...   \nWolfsburg 2010        1.666667        1.000000   \n          2011        2.666667        0.333333   \n          2012        2.666667        2.333333   \n          2013        1.666667        2.333333   \n          2014        0.666667        3.000000   \n\n               shooting_standard_sh_rolling_avg  \\\nteam                                              \nArminia   828                          9.333333   \n          829                          9.000000   \n          830                          9.666667   \n          831                          8.333333   \n          832                          6.666667   \n...                                         ...   \nWolfsburg 2010                        11.666667   \n          2011                        11.666667   \n          2012                        11.333333   \n          2013                         9.666667   \n          2014                         9.333333   \n\n               shooting_standard_sot_rolling_avg  \\\nteam                                               \nArminia   828                           3.333333   \n          829                           3.666667   \n          830                           3.333333   \n          831                           2.666667   \n          832                           1.333333   \n...                                          ...   \nWolfsburg 2010                          4.000000   \n          2011                          4.666667   \n          2012                          4.666667   \n          2013                          3.333333   \n          2014                          2.666667   \n\n               shooting_standard_dist_rolling_avg  \\\nteam                                                \nArminia   828                           22.233333   \n          829                           21.400000   \n          830                           20.566667   \n          831                           21.166667   \n          832                           21.266667   \n...                                           ...   \nWolfsburg 2010                          17.266667   \n          2011                          15.500000   \n          2012                          15.200000   \n          2013                          17.033333   \n          2014                          19.000000   \n\n               shooting_standard_fk_rolling_avg  \\\nteam                                              \nArminia   828                          0.000000   \n          829                          0.333333   \n          830                          0.666667   \n          831                          0.666667   \n          832                          0.666667   \n...                                         ...   \nWolfsburg 2010                         0.000000   \n          2011                         0.000000   \n          2012                         0.000000   \n          2013                         0.000000   \n          2014                         0.000000   \n\n                shooting_standard_pk_rolling_avg  \\\nteam                                               \nArminia   828                                0.0   \n          829                                0.0   \n          830                                0.0   \n          831                                0.0   \n          832                                0.0   \n...                                          ...   \nWolfsburg 2010                               0.0   \n          2011                               0.0   \n          2012                               0.0   \n          2013                               0.0   \n          2014                               0.0   \n\n                shooting_standard_pkatt_rolling_avg  \nteam                                                 \nArminia   828                              0.000000  \n          829                              0.000000  \n          830                              0.000000  \n          831                              0.000000  \n          832                              0.000000  \n...                                             ...  \nWolfsburg 2010                             0.333333  \n          2011                             0.333333  \n          2012                             0.333333  \n          2013                             0.000000  \n          2014                             0.000000  \n\n[3596 rows x 172 columns]",
      "text/html": "<div>\n<style scoped>\n    .dataframe tbody tr th:only-of-type {\n        vertical-align: middle;\n    }\n\n    .dataframe tbody tr th {\n        vertical-align: top;\n    }\n\n    .dataframe thead th {\n        text-align: right;\n    }\n</style>\n<table border=\"1\" class=\"dataframe\">\n  <thead>\n    <tr style=\"text-align: right;\">\n      <th></th>\n      <th></th>\n      <th>date</th>\n      <th>time</th>\n      <th>comp</th>\n      <th>round</th>\n      <th>day</th>\n      <th>venue</th>\n      <th>result</th>\n      <th>gf</th>\n      <th>ga</th>\n      <th>opponent</th>\n      <th>...</th>\n      <th>day_code</th>\n      <th>target</th>\n      <th>gf_rolling_avg</th>\n      <th>ga_rolling_avg</th>\n      <th>shooting_standard_sh_rolling_avg</th>\n      <th>shooting_standard_sot_rolling_avg</th>\n      <th>shooting_standard_dist_rolling_avg</th>\n      <th>shooting_standard_fk_rolling_avg</th>\n      <th>shooting_standard_pk_rolling_avg</th>\n      <th>shooting_standard_pkatt_rolling_avg</th>\n    </tr>\n    <tr>\n      <th>team</th>\n      <th></th>\n      <th></th>\n      <th></th>\n      <th></th>\n      <th></th>\n      <th></th>\n      <th></th>\n      <th></th>\n      <th></th>\n      <th></th>\n      <th></th>\n      <th></th>\n      <th></th>\n      <th></th>\n      <th></th>\n      <th></th>\n      <th></th>\n      <th></th>\n      <th></th>\n      <th></th>\n      <th></th>\n      <th></th>\n    </tr>\n  </thead>\n  <tbody>\n    <tr>\n      <th rowspan=\"5\" valign=\"top\">Arminia</th>\n      <th>828</th>\n      <td>2020-10-17</td>\n      <td>18:30</td>\n      <td>Bundesliga</td>\n      <td>Matchweek 4</td>\n      <td>Sat</td>\n      <td>Home</td>\n      <td>L</td>\n      <td>1</td>\n      <td>4</td>\n      <td>Bayern Munich</td>\n      <td>...</td>\n      <td>5</td>\n      <td>0</td>\n      <td>0.666667</td>\n      <td>0.666667</td>\n      <td>9.333333</td>\n      <td>3.333333</td>\n      <td>22.233333</td>\n      <td>0.000000</td>\n      <td>0.0</td>\n      <td>0.000000</td>\n    </tr>\n    <tr>\n      <th>829</th>\n      <td>2020-10-25</td>\n      <td>15:30</td>\n      <td>Bundesliga</td>\n      <td>Matchweek 5</td>\n      <td>Sun</td>\n      <td>Away</td>\n      <td>L</td>\n      <td>1</td>\n      <td>2</td>\n      <td>Wolfsburg</td>\n      <td>...</td>\n      <td>6</td>\n      <td>0</td>\n      <td>0.666667</td>\n      <td>1.666667</td>\n      <td>9.000000</td>\n      <td>3.666667</td>\n      <td>21.400000</td>\n      <td>0.333333</td>\n      <td>0.0</td>\n      <td>0.000000</td>\n    </tr>\n    <tr>\n      <th>830</th>\n      <td>2020-10-31</td>\n      <td>15:30</td>\n      <td>Bundesliga</td>\n      <td>Matchweek 6</td>\n      <td>Sat</td>\n      <td>Home</td>\n      <td>L</td>\n      <td>0</td>\n      <td>2</td>\n      <td>Dortmund</td>\n      <td>...</td>\n      <td>5</td>\n      <td>0</td>\n      <td>0.666667</td>\n      <td>2.333333</td>\n      <td>9.666667</td>\n      <td>3.333333</td>\n      <td>20.566667</td>\n      <td>0.666667</td>\n      <td>0.0</td>\n      <td>0.000000</td>\n    </tr>\n    <tr>\n      <th>831</th>\n      <td>2020-11-07</td>\n      <td>15:30</td>\n      <td>Bundesliga</td>\n      <td>Matchweek 7</td>\n      <td>Sat</td>\n      <td>Away</td>\n      <td>L</td>\n      <td>0</td>\n      <td>5</td>\n      <td>Union Berlin</td>\n      <td>...</td>\n      <td>5</td>\n      <td>0</td>\n      <td>0.666667</td>\n      <td>2.666667</td>\n      <td>8.333333</td>\n      <td>2.666667</td>\n      <td>21.166667</td>\n      <td>0.666667</td>\n      <td>0.0</td>\n      <td>0.000000</td>\n    </tr>\n    <tr>\n      <th>832</th>\n      <td>2020-11-21</td>\n      <td>15:30</td>\n      <td>Bundesliga</td>\n      <td>Matchweek 8</td>\n      <td>Sat</td>\n      <td>Home</td>\n      <td>L</td>\n      <td>1</td>\n      <td>2</td>\n      <td>Bayer Leverkusen</td>\n      <td>...</td>\n      <td>5</td>\n      <td>0</td>\n      <td>0.333333</td>\n      <td>3.000000</td>\n      <td>6.666667</td>\n      <td>1.333333</td>\n      <td>21.266667</td>\n      <td>0.666667</td>\n      <td>0.0</td>\n      <td>0.000000</td>\n    </tr>\n    <tr>\n      <th>...</th>\n      <th>...</th>\n      <td>...</td>\n      <td>...</td>\n      <td>...</td>\n      <td>...</td>\n      <td>...</td>\n      <td>...</td>\n      <td>...</td>\n      <td>...</td>\n      <td>...</td>\n      <td>...</td>\n      <td>...</td>\n      <td>...</td>\n      <td>...</td>\n      <td>...</td>\n      <td>...</td>\n      <td>...</td>\n      <td>...</td>\n      <td>...</td>\n      <td>...</td>\n      <td>...</td>\n      <td>...</td>\n    </tr>\n    <tr>\n      <th rowspan=\"5\" valign=\"top\">Wolfsburg</th>\n      <th>2010</th>\n      <td>2023-04-30</td>\n      <td>17:30</td>\n      <td>Bundesliga</td>\n      <td>Matchweek 30</td>\n      <td>Sun</td>\n      <td>Home</td>\n      <td>W</td>\n      <td>3</td>\n      <td>0</td>\n      <td>Mainz 05</td>\n      <td>...</td>\n      <td>6</td>\n      <td>1</td>\n      <td>1.666667</td>\n      <td>1.000000</td>\n      <td>11.666667</td>\n      <td>4.000000</td>\n      <td>17.266667</td>\n      <td>0.000000</td>\n      <td>0.0</td>\n      <td>0.333333</td>\n    </tr>\n    <tr>\n      <th>2011</th>\n      <td>2023-05-07</td>\n      <td>17:30</td>\n      <td>Bundesliga</td>\n      <td>Matchweek 31</td>\n      <td>Sun</td>\n      <td>Away</td>\n      <td>L</td>\n      <td>0</td>\n      <td>6</td>\n      <td>Dortmund</td>\n      <td>...</td>\n      <td>6</td>\n      <td>0</td>\n      <td>2.666667</td>\n      <td>0.333333</td>\n      <td>11.666667</td>\n      <td>4.666667</td>\n      <td>15.500000</td>\n      <td>0.000000</td>\n      <td>0.0</td>\n      <td>0.333333</td>\n    </tr>\n    <tr>\n      <th>2012</th>\n      <td>2023-05-13</td>\n      <td>15:30</td>\n      <td>Bundesliga</td>\n      <td>Matchweek 32</td>\n      <td>Sat</td>\n      <td>Home</td>\n      <td>W</td>\n      <td>2</td>\n      <td>1</td>\n      <td>Hoffenheim</td>\n      <td>...</td>\n      <td>5</td>\n      <td>1</td>\n      <td>2.666667</td>\n      <td>2.333333</td>\n      <td>11.333333</td>\n      <td>4.666667</td>\n      <td>15.200000</td>\n      <td>0.000000</td>\n      <td>0.0</td>\n      <td>0.333333</td>\n    </tr>\n    <tr>\n      <th>2013</th>\n      <td>2023-05-19</td>\n      <td>20:30</td>\n      <td>Bundesliga</td>\n      <td>Matchweek 33</td>\n      <td>Fri</td>\n      <td>Away</td>\n      <td>L</td>\n      <td>0</td>\n      <td>2</td>\n      <td>Freiburg</td>\n      <td>...</td>\n      <td>4</td>\n      <td>0</td>\n      <td>1.666667</td>\n      <td>2.333333</td>\n      <td>9.666667</td>\n      <td>3.333333</td>\n      <td>17.033333</td>\n      <td>0.000000</td>\n      <td>0.0</td>\n      <td>0.000000</td>\n    </tr>\n    <tr>\n      <th>2014</th>\n      <td>2023-05-27</td>\n      <td>15:30</td>\n      <td>Bundesliga</td>\n      <td>Matchweek 34</td>\n      <td>Sat</td>\n      <td>Home</td>\n      <td>L</td>\n      <td>1</td>\n      <td>2</td>\n      <td>Hertha BSC</td>\n      <td>...</td>\n      <td>5</td>\n      <td>0</td>\n      <td>0.666667</td>\n      <td>3.000000</td>\n      <td>9.333333</td>\n      <td>2.666667</td>\n      <td>19.000000</td>\n      <td>0.000000</td>\n      <td>0.0</td>\n      <td>0.000000</td>\n    </tr>\n  </tbody>\n</table>\n<p>3596 rows × 172 columns</p>\n</div>"
     },
     "execution_count": 381,
     "metadata": {},
     "output_type": "execute_result"
    }
   ],
   "source": [
    "# Apply the rolling_averages function to each team dataframe.\n",
    "rolling_matches_df = grouped_matches_df.apply(lambda group: rolling_averages(group, cols, new_cols))\n",
    "rolling_matches_df"
   ],
   "metadata": {
    "collapsed": false,
    "ExecuteTime": {
     "end_time": "2023-11-06T18:23:44.239807815Z",
     "start_time": "2023-11-06T18:23:44.019141107Z"
    }
   },
   "id": "88889f8b0221d662"
  },
  {
   "cell_type": "markdown",
   "source": [
    "Drop the team index level because we don't need it."
   ],
   "metadata": {
    "collapsed": false
   },
   "id": "755770e563f32e6d"
  },
  {
   "cell_type": "code",
   "execution_count": 382,
   "outputs": [
    {
     "data": {
      "text/plain": "           date   time        comp         round  day venue result  gf  ga  \\\n828  2020-10-17  18:30  Bundesliga   Matchweek 4  Sat  Home      L   1   4   \n829  2020-10-25  15:30  Bundesliga   Matchweek 5  Sun  Away      L   1   2   \n830  2020-10-31  15:30  Bundesliga   Matchweek 6  Sat  Home      L   0   2   \n831  2020-11-07  15:30  Bundesliga   Matchweek 7  Sat  Away      L   0   5   \n832  2020-11-21  15:30  Bundesliga   Matchweek 8  Sat  Home      L   1   2   \n...         ...    ...         ...           ...  ...   ...    ...  ..  ..   \n2010 2023-04-30  17:30  Bundesliga  Matchweek 30  Sun  Home      W   3   0   \n2011 2023-05-07  17:30  Bundesliga  Matchweek 31  Sun  Away      L   0   6   \n2012 2023-05-13  15:30  Bundesliga  Matchweek 32  Sat  Home      W   2   1   \n2013 2023-05-19  20:30  Bundesliga  Matchweek 33  Fri  Away      L   0   2   \n2014 2023-05-27  15:30  Bundesliga  Matchweek 34  Sat  Home      L   1   2   \n\n              opponent  ...  day_code  target  gf_rolling_avg  ga_rolling_avg  \\\n828      Bayern Munich  ...         5       0        0.666667        0.666667   \n829          Wolfsburg  ...         6       0        0.666667        1.666667   \n830           Dortmund  ...         5       0        0.666667        2.333333   \n831       Union Berlin  ...         5       0        0.666667        2.666667   \n832   Bayer Leverkusen  ...         5       0        0.333333        3.000000   \n...                ...  ...       ...     ...             ...             ...   \n2010          Mainz 05  ...         6       1        1.666667        1.000000   \n2011          Dortmund  ...         6       0        2.666667        0.333333   \n2012        Hoffenheim  ...         5       1        2.666667        2.333333   \n2013          Freiburg  ...         4       0        1.666667        2.333333   \n2014        Hertha BSC  ...         5       0        0.666667        3.000000   \n\n     shooting_standard_sh_rolling_avg shooting_standard_sot_rolling_avg  \\\n828                          9.333333                          3.333333   \n829                          9.000000                          3.666667   \n830                          9.666667                          3.333333   \n831                          8.333333                          2.666667   \n832                          6.666667                          1.333333   \n...                               ...                               ...   \n2010                        11.666667                          4.000000   \n2011                        11.666667                          4.666667   \n2012                        11.333333                          4.666667   \n2013                         9.666667                          3.333333   \n2014                         9.333333                          2.666667   \n\n     shooting_standard_dist_rolling_avg shooting_standard_fk_rolling_avg  \\\n828                           22.233333                         0.000000   \n829                           21.400000                         0.333333   \n830                           20.566667                         0.666667   \n831                           21.166667                         0.666667   \n832                           21.266667                         0.666667   \n...                                 ...                              ...   \n2010                          17.266667                         0.000000   \n2011                          15.500000                         0.000000   \n2012                          15.200000                         0.000000   \n2013                          17.033333                         0.000000   \n2014                          19.000000                         0.000000   \n\n      shooting_standard_pk_rolling_avg  shooting_standard_pkatt_rolling_avg  \n828                                0.0                             0.000000  \n829                                0.0                             0.000000  \n830                                0.0                             0.000000  \n831                                0.0                             0.000000  \n832                                0.0                             0.000000  \n...                                ...                                  ...  \n2010                               0.0                             0.333333  \n2011                               0.0                             0.333333  \n2012                               0.0                             0.333333  \n2013                               0.0                             0.000000  \n2014                               0.0                             0.000000  \n\n[3596 rows x 172 columns]",
      "text/html": "<div>\n<style scoped>\n    .dataframe tbody tr th:only-of-type {\n        vertical-align: middle;\n    }\n\n    .dataframe tbody tr th {\n        vertical-align: top;\n    }\n\n    .dataframe thead th {\n        text-align: right;\n    }\n</style>\n<table border=\"1\" class=\"dataframe\">\n  <thead>\n    <tr style=\"text-align: right;\">\n      <th></th>\n      <th>date</th>\n      <th>time</th>\n      <th>comp</th>\n      <th>round</th>\n      <th>day</th>\n      <th>venue</th>\n      <th>result</th>\n      <th>gf</th>\n      <th>ga</th>\n      <th>opponent</th>\n      <th>...</th>\n      <th>day_code</th>\n      <th>target</th>\n      <th>gf_rolling_avg</th>\n      <th>ga_rolling_avg</th>\n      <th>shooting_standard_sh_rolling_avg</th>\n      <th>shooting_standard_sot_rolling_avg</th>\n      <th>shooting_standard_dist_rolling_avg</th>\n      <th>shooting_standard_fk_rolling_avg</th>\n      <th>shooting_standard_pk_rolling_avg</th>\n      <th>shooting_standard_pkatt_rolling_avg</th>\n    </tr>\n  </thead>\n  <tbody>\n    <tr>\n      <th>828</th>\n      <td>2020-10-17</td>\n      <td>18:30</td>\n      <td>Bundesliga</td>\n      <td>Matchweek 4</td>\n      <td>Sat</td>\n      <td>Home</td>\n      <td>L</td>\n      <td>1</td>\n      <td>4</td>\n      <td>Bayern Munich</td>\n      <td>...</td>\n      <td>5</td>\n      <td>0</td>\n      <td>0.666667</td>\n      <td>0.666667</td>\n      <td>9.333333</td>\n      <td>3.333333</td>\n      <td>22.233333</td>\n      <td>0.000000</td>\n      <td>0.0</td>\n      <td>0.000000</td>\n    </tr>\n    <tr>\n      <th>829</th>\n      <td>2020-10-25</td>\n      <td>15:30</td>\n      <td>Bundesliga</td>\n      <td>Matchweek 5</td>\n      <td>Sun</td>\n      <td>Away</td>\n      <td>L</td>\n      <td>1</td>\n      <td>2</td>\n      <td>Wolfsburg</td>\n      <td>...</td>\n      <td>6</td>\n      <td>0</td>\n      <td>0.666667</td>\n      <td>1.666667</td>\n      <td>9.000000</td>\n      <td>3.666667</td>\n      <td>21.400000</td>\n      <td>0.333333</td>\n      <td>0.0</td>\n      <td>0.000000</td>\n    </tr>\n    <tr>\n      <th>830</th>\n      <td>2020-10-31</td>\n      <td>15:30</td>\n      <td>Bundesliga</td>\n      <td>Matchweek 6</td>\n      <td>Sat</td>\n      <td>Home</td>\n      <td>L</td>\n      <td>0</td>\n      <td>2</td>\n      <td>Dortmund</td>\n      <td>...</td>\n      <td>5</td>\n      <td>0</td>\n      <td>0.666667</td>\n      <td>2.333333</td>\n      <td>9.666667</td>\n      <td>3.333333</td>\n      <td>20.566667</td>\n      <td>0.666667</td>\n      <td>0.0</td>\n      <td>0.000000</td>\n    </tr>\n    <tr>\n      <th>831</th>\n      <td>2020-11-07</td>\n      <td>15:30</td>\n      <td>Bundesliga</td>\n      <td>Matchweek 7</td>\n      <td>Sat</td>\n      <td>Away</td>\n      <td>L</td>\n      <td>0</td>\n      <td>5</td>\n      <td>Union Berlin</td>\n      <td>...</td>\n      <td>5</td>\n      <td>0</td>\n      <td>0.666667</td>\n      <td>2.666667</td>\n      <td>8.333333</td>\n      <td>2.666667</td>\n      <td>21.166667</td>\n      <td>0.666667</td>\n      <td>0.0</td>\n      <td>0.000000</td>\n    </tr>\n    <tr>\n      <th>832</th>\n      <td>2020-11-21</td>\n      <td>15:30</td>\n      <td>Bundesliga</td>\n      <td>Matchweek 8</td>\n      <td>Sat</td>\n      <td>Home</td>\n      <td>L</td>\n      <td>1</td>\n      <td>2</td>\n      <td>Bayer Leverkusen</td>\n      <td>...</td>\n      <td>5</td>\n      <td>0</td>\n      <td>0.333333</td>\n      <td>3.000000</td>\n      <td>6.666667</td>\n      <td>1.333333</td>\n      <td>21.266667</td>\n      <td>0.666667</td>\n      <td>0.0</td>\n      <td>0.000000</td>\n    </tr>\n    <tr>\n      <th>...</th>\n      <td>...</td>\n      <td>...</td>\n      <td>...</td>\n      <td>...</td>\n      <td>...</td>\n      <td>...</td>\n      <td>...</td>\n      <td>...</td>\n      <td>...</td>\n      <td>...</td>\n      <td>...</td>\n      <td>...</td>\n      <td>...</td>\n      <td>...</td>\n      <td>...</td>\n      <td>...</td>\n      <td>...</td>\n      <td>...</td>\n      <td>...</td>\n      <td>...</td>\n      <td>...</td>\n    </tr>\n    <tr>\n      <th>2010</th>\n      <td>2023-04-30</td>\n      <td>17:30</td>\n      <td>Bundesliga</td>\n      <td>Matchweek 30</td>\n      <td>Sun</td>\n      <td>Home</td>\n      <td>W</td>\n      <td>3</td>\n      <td>0</td>\n      <td>Mainz 05</td>\n      <td>...</td>\n      <td>6</td>\n      <td>1</td>\n      <td>1.666667</td>\n      <td>1.000000</td>\n      <td>11.666667</td>\n      <td>4.000000</td>\n      <td>17.266667</td>\n      <td>0.000000</td>\n      <td>0.0</td>\n      <td>0.333333</td>\n    </tr>\n    <tr>\n      <th>2011</th>\n      <td>2023-05-07</td>\n      <td>17:30</td>\n      <td>Bundesliga</td>\n      <td>Matchweek 31</td>\n      <td>Sun</td>\n      <td>Away</td>\n      <td>L</td>\n      <td>0</td>\n      <td>6</td>\n      <td>Dortmund</td>\n      <td>...</td>\n      <td>6</td>\n      <td>0</td>\n      <td>2.666667</td>\n      <td>0.333333</td>\n      <td>11.666667</td>\n      <td>4.666667</td>\n      <td>15.500000</td>\n      <td>0.000000</td>\n      <td>0.0</td>\n      <td>0.333333</td>\n    </tr>\n    <tr>\n      <th>2012</th>\n      <td>2023-05-13</td>\n      <td>15:30</td>\n      <td>Bundesliga</td>\n      <td>Matchweek 32</td>\n      <td>Sat</td>\n      <td>Home</td>\n      <td>W</td>\n      <td>2</td>\n      <td>1</td>\n      <td>Hoffenheim</td>\n      <td>...</td>\n      <td>5</td>\n      <td>1</td>\n      <td>2.666667</td>\n      <td>2.333333</td>\n      <td>11.333333</td>\n      <td>4.666667</td>\n      <td>15.200000</td>\n      <td>0.000000</td>\n      <td>0.0</td>\n      <td>0.333333</td>\n    </tr>\n    <tr>\n      <th>2013</th>\n      <td>2023-05-19</td>\n      <td>20:30</td>\n      <td>Bundesliga</td>\n      <td>Matchweek 33</td>\n      <td>Fri</td>\n      <td>Away</td>\n      <td>L</td>\n      <td>0</td>\n      <td>2</td>\n      <td>Freiburg</td>\n      <td>...</td>\n      <td>4</td>\n      <td>0</td>\n      <td>1.666667</td>\n      <td>2.333333</td>\n      <td>9.666667</td>\n      <td>3.333333</td>\n      <td>17.033333</td>\n      <td>0.000000</td>\n      <td>0.0</td>\n      <td>0.000000</td>\n    </tr>\n    <tr>\n      <th>2014</th>\n      <td>2023-05-27</td>\n      <td>15:30</td>\n      <td>Bundesliga</td>\n      <td>Matchweek 34</td>\n      <td>Sat</td>\n      <td>Home</td>\n      <td>L</td>\n      <td>1</td>\n      <td>2</td>\n      <td>Hertha BSC</td>\n      <td>...</td>\n      <td>5</td>\n      <td>0</td>\n      <td>0.666667</td>\n      <td>3.000000</td>\n      <td>9.333333</td>\n      <td>2.666667</td>\n      <td>19.000000</td>\n      <td>0.000000</td>\n      <td>0.0</td>\n      <td>0.000000</td>\n    </tr>\n  </tbody>\n</table>\n<p>3596 rows × 172 columns</p>\n</div>"
     },
     "execution_count": 382,
     "metadata": {},
     "output_type": "execute_result"
    }
   ],
   "source": [
    "rolling_matches_df = rolling_matches_df.droplevel(0)\n",
    "rolling_matches_df"
   ],
   "metadata": {
    "collapsed": false,
    "ExecuteTime": {
     "end_time": "2023-11-06T18:23:44.240432823Z",
     "start_time": "2023-11-06T18:23:44.166925770Z"
    }
   },
   "id": "be8cbce7c34b3b8a"
  },
  {
   "cell_type": "markdown",
   "source": [
    "Fix the index because there might be duplicate indices."
   ],
   "metadata": {
    "collapsed": false
   },
   "id": "28e6e03f9ddbbcc"
  },
  {
   "cell_type": "code",
   "execution_count": 383,
   "outputs": [
    {
     "data": {
      "text/plain": "           date   time        comp         round  day venue result  gf  ga  \\\n0    2020-10-17  18:30  Bundesliga   Matchweek 4  Sat  Home      L   1   4   \n1    2020-10-25  15:30  Bundesliga   Matchweek 5  Sun  Away      L   1   2   \n2    2020-10-31  15:30  Bundesliga   Matchweek 6  Sat  Home      L   0   2   \n3    2020-11-07  15:30  Bundesliga   Matchweek 7  Sat  Away      L   0   5   \n4    2020-11-21  15:30  Bundesliga   Matchweek 8  Sat  Home      L   1   2   \n...         ...    ...         ...           ...  ...   ...    ...  ..  ..   \n3591 2023-04-30  17:30  Bundesliga  Matchweek 30  Sun  Home      W   3   0   \n3592 2023-05-07  17:30  Bundesliga  Matchweek 31  Sun  Away      L   0   6   \n3593 2023-05-13  15:30  Bundesliga  Matchweek 32  Sat  Home      W   2   1   \n3594 2023-05-19  20:30  Bundesliga  Matchweek 33  Fri  Away      L   0   2   \n3595 2023-05-27  15:30  Bundesliga  Matchweek 34  Sat  Home      L   1   2   \n\n              opponent  ...  day_code  target  gf_rolling_avg  ga_rolling_avg  \\\n0        Bayern Munich  ...         5       0        0.666667        0.666667   \n1            Wolfsburg  ...         6       0        0.666667        1.666667   \n2             Dortmund  ...         5       0        0.666667        2.333333   \n3         Union Berlin  ...         5       0        0.666667        2.666667   \n4     Bayer Leverkusen  ...         5       0        0.333333        3.000000   \n...                ...  ...       ...     ...             ...             ...   \n3591          Mainz 05  ...         6       1        1.666667        1.000000   \n3592          Dortmund  ...         6       0        2.666667        0.333333   \n3593        Hoffenheim  ...         5       1        2.666667        2.333333   \n3594          Freiburg  ...         4       0        1.666667        2.333333   \n3595        Hertha BSC  ...         5       0        0.666667        3.000000   \n\n     shooting_standard_sh_rolling_avg shooting_standard_sot_rolling_avg  \\\n0                            9.333333                          3.333333   \n1                            9.000000                          3.666667   \n2                            9.666667                          3.333333   \n3                            8.333333                          2.666667   \n4                            6.666667                          1.333333   \n...                               ...                               ...   \n3591                        11.666667                          4.000000   \n3592                        11.666667                          4.666667   \n3593                        11.333333                          4.666667   \n3594                         9.666667                          3.333333   \n3595                         9.333333                          2.666667   \n\n     shooting_standard_dist_rolling_avg shooting_standard_fk_rolling_avg  \\\n0                             22.233333                         0.000000   \n1                             21.400000                         0.333333   \n2                             20.566667                         0.666667   \n3                             21.166667                         0.666667   \n4                             21.266667                         0.666667   \n...                                 ...                              ...   \n3591                          17.266667                         0.000000   \n3592                          15.500000                         0.000000   \n3593                          15.200000                         0.000000   \n3594                          17.033333                         0.000000   \n3595                          19.000000                         0.000000   \n\n      shooting_standard_pk_rolling_avg  shooting_standard_pkatt_rolling_avg  \n0                                  0.0                             0.000000  \n1                                  0.0                             0.000000  \n2                                  0.0                             0.000000  \n3                                  0.0                             0.000000  \n4                                  0.0                             0.000000  \n...                                ...                                  ...  \n3591                               0.0                             0.333333  \n3592                               0.0                             0.333333  \n3593                               0.0                             0.333333  \n3594                               0.0                             0.000000  \n3595                               0.0                             0.000000  \n\n[3596 rows x 172 columns]",
      "text/html": "<div>\n<style scoped>\n    .dataframe tbody tr th:only-of-type {\n        vertical-align: middle;\n    }\n\n    .dataframe tbody tr th {\n        vertical-align: top;\n    }\n\n    .dataframe thead th {\n        text-align: right;\n    }\n</style>\n<table border=\"1\" class=\"dataframe\">\n  <thead>\n    <tr style=\"text-align: right;\">\n      <th></th>\n      <th>date</th>\n      <th>time</th>\n      <th>comp</th>\n      <th>round</th>\n      <th>day</th>\n      <th>venue</th>\n      <th>result</th>\n      <th>gf</th>\n      <th>ga</th>\n      <th>opponent</th>\n      <th>...</th>\n      <th>day_code</th>\n      <th>target</th>\n      <th>gf_rolling_avg</th>\n      <th>ga_rolling_avg</th>\n      <th>shooting_standard_sh_rolling_avg</th>\n      <th>shooting_standard_sot_rolling_avg</th>\n      <th>shooting_standard_dist_rolling_avg</th>\n      <th>shooting_standard_fk_rolling_avg</th>\n      <th>shooting_standard_pk_rolling_avg</th>\n      <th>shooting_standard_pkatt_rolling_avg</th>\n    </tr>\n  </thead>\n  <tbody>\n    <tr>\n      <th>0</th>\n      <td>2020-10-17</td>\n      <td>18:30</td>\n      <td>Bundesliga</td>\n      <td>Matchweek 4</td>\n      <td>Sat</td>\n      <td>Home</td>\n      <td>L</td>\n      <td>1</td>\n      <td>4</td>\n      <td>Bayern Munich</td>\n      <td>...</td>\n      <td>5</td>\n      <td>0</td>\n      <td>0.666667</td>\n      <td>0.666667</td>\n      <td>9.333333</td>\n      <td>3.333333</td>\n      <td>22.233333</td>\n      <td>0.000000</td>\n      <td>0.0</td>\n      <td>0.000000</td>\n    </tr>\n    <tr>\n      <th>1</th>\n      <td>2020-10-25</td>\n      <td>15:30</td>\n      <td>Bundesliga</td>\n      <td>Matchweek 5</td>\n      <td>Sun</td>\n      <td>Away</td>\n      <td>L</td>\n      <td>1</td>\n      <td>2</td>\n      <td>Wolfsburg</td>\n      <td>...</td>\n      <td>6</td>\n      <td>0</td>\n      <td>0.666667</td>\n      <td>1.666667</td>\n      <td>9.000000</td>\n      <td>3.666667</td>\n      <td>21.400000</td>\n      <td>0.333333</td>\n      <td>0.0</td>\n      <td>0.000000</td>\n    </tr>\n    <tr>\n      <th>2</th>\n      <td>2020-10-31</td>\n      <td>15:30</td>\n      <td>Bundesliga</td>\n      <td>Matchweek 6</td>\n      <td>Sat</td>\n      <td>Home</td>\n      <td>L</td>\n      <td>0</td>\n      <td>2</td>\n      <td>Dortmund</td>\n      <td>...</td>\n      <td>5</td>\n      <td>0</td>\n      <td>0.666667</td>\n      <td>2.333333</td>\n      <td>9.666667</td>\n      <td>3.333333</td>\n      <td>20.566667</td>\n      <td>0.666667</td>\n      <td>0.0</td>\n      <td>0.000000</td>\n    </tr>\n    <tr>\n      <th>3</th>\n      <td>2020-11-07</td>\n      <td>15:30</td>\n      <td>Bundesliga</td>\n      <td>Matchweek 7</td>\n      <td>Sat</td>\n      <td>Away</td>\n      <td>L</td>\n      <td>0</td>\n      <td>5</td>\n      <td>Union Berlin</td>\n      <td>...</td>\n      <td>5</td>\n      <td>0</td>\n      <td>0.666667</td>\n      <td>2.666667</td>\n      <td>8.333333</td>\n      <td>2.666667</td>\n      <td>21.166667</td>\n      <td>0.666667</td>\n      <td>0.0</td>\n      <td>0.000000</td>\n    </tr>\n    <tr>\n      <th>4</th>\n      <td>2020-11-21</td>\n      <td>15:30</td>\n      <td>Bundesliga</td>\n      <td>Matchweek 8</td>\n      <td>Sat</td>\n      <td>Home</td>\n      <td>L</td>\n      <td>1</td>\n      <td>2</td>\n      <td>Bayer Leverkusen</td>\n      <td>...</td>\n      <td>5</td>\n      <td>0</td>\n      <td>0.333333</td>\n      <td>3.000000</td>\n      <td>6.666667</td>\n      <td>1.333333</td>\n      <td>21.266667</td>\n      <td>0.666667</td>\n      <td>0.0</td>\n      <td>0.000000</td>\n    </tr>\n    <tr>\n      <th>...</th>\n      <td>...</td>\n      <td>...</td>\n      <td>...</td>\n      <td>...</td>\n      <td>...</td>\n      <td>...</td>\n      <td>...</td>\n      <td>...</td>\n      <td>...</td>\n      <td>...</td>\n      <td>...</td>\n      <td>...</td>\n      <td>...</td>\n      <td>...</td>\n      <td>...</td>\n      <td>...</td>\n      <td>...</td>\n      <td>...</td>\n      <td>...</td>\n      <td>...</td>\n      <td>...</td>\n    </tr>\n    <tr>\n      <th>3591</th>\n      <td>2023-04-30</td>\n      <td>17:30</td>\n      <td>Bundesliga</td>\n      <td>Matchweek 30</td>\n      <td>Sun</td>\n      <td>Home</td>\n      <td>W</td>\n      <td>3</td>\n      <td>0</td>\n      <td>Mainz 05</td>\n      <td>...</td>\n      <td>6</td>\n      <td>1</td>\n      <td>1.666667</td>\n      <td>1.000000</td>\n      <td>11.666667</td>\n      <td>4.000000</td>\n      <td>17.266667</td>\n      <td>0.000000</td>\n      <td>0.0</td>\n      <td>0.333333</td>\n    </tr>\n    <tr>\n      <th>3592</th>\n      <td>2023-05-07</td>\n      <td>17:30</td>\n      <td>Bundesliga</td>\n      <td>Matchweek 31</td>\n      <td>Sun</td>\n      <td>Away</td>\n      <td>L</td>\n      <td>0</td>\n      <td>6</td>\n      <td>Dortmund</td>\n      <td>...</td>\n      <td>6</td>\n      <td>0</td>\n      <td>2.666667</td>\n      <td>0.333333</td>\n      <td>11.666667</td>\n      <td>4.666667</td>\n      <td>15.500000</td>\n      <td>0.000000</td>\n      <td>0.0</td>\n      <td>0.333333</td>\n    </tr>\n    <tr>\n      <th>3593</th>\n      <td>2023-05-13</td>\n      <td>15:30</td>\n      <td>Bundesliga</td>\n      <td>Matchweek 32</td>\n      <td>Sat</td>\n      <td>Home</td>\n      <td>W</td>\n      <td>2</td>\n      <td>1</td>\n      <td>Hoffenheim</td>\n      <td>...</td>\n      <td>5</td>\n      <td>1</td>\n      <td>2.666667</td>\n      <td>2.333333</td>\n      <td>11.333333</td>\n      <td>4.666667</td>\n      <td>15.200000</td>\n      <td>0.000000</td>\n      <td>0.0</td>\n      <td>0.333333</td>\n    </tr>\n    <tr>\n      <th>3594</th>\n      <td>2023-05-19</td>\n      <td>20:30</td>\n      <td>Bundesliga</td>\n      <td>Matchweek 33</td>\n      <td>Fri</td>\n      <td>Away</td>\n      <td>L</td>\n      <td>0</td>\n      <td>2</td>\n      <td>Freiburg</td>\n      <td>...</td>\n      <td>4</td>\n      <td>0</td>\n      <td>1.666667</td>\n      <td>2.333333</td>\n      <td>9.666667</td>\n      <td>3.333333</td>\n      <td>17.033333</td>\n      <td>0.000000</td>\n      <td>0.0</td>\n      <td>0.000000</td>\n    </tr>\n    <tr>\n      <th>3595</th>\n      <td>2023-05-27</td>\n      <td>15:30</td>\n      <td>Bundesliga</td>\n      <td>Matchweek 34</td>\n      <td>Sat</td>\n      <td>Home</td>\n      <td>L</td>\n      <td>1</td>\n      <td>2</td>\n      <td>Hertha BSC</td>\n      <td>...</td>\n      <td>5</td>\n      <td>0</td>\n      <td>0.666667</td>\n      <td>3.000000</td>\n      <td>9.333333</td>\n      <td>2.666667</td>\n      <td>19.000000</td>\n      <td>0.000000</td>\n      <td>0.0</td>\n      <td>0.000000</td>\n    </tr>\n  </tbody>\n</table>\n<p>3596 rows × 172 columns</p>\n</div>"
     },
     "execution_count": 383,
     "metadata": {},
     "output_type": "execute_result"
    }
   ],
   "source": [
    "rolling_matches_df.index = range(len(rolling_matches_df))\n",
    "rolling_matches_df"
   ],
   "metadata": {
    "collapsed": false,
    "ExecuteTime": {
     "end_time": "2023-11-06T18:23:44.240922898Z",
     "start_time": "2023-11-06T18:23:44.167336575Z"
    }
   },
   "id": "e63e8f8248632215"
  },
  {
   "cell_type": "code",
   "execution_count": 384,
   "outputs": [],
   "source": [
    "def make_predictions(data, predictors):\n",
    "    train = data[data['date'] < '2023-02-01']\n",
    "    test = data[data['date'] >= '2023-02-01']\n",
    "    rf.fit(train[predictors], train['target'])\n",
    "    predictions = rf.predict(test[predictors])\n",
    "    combined = pd.DataFrame(dict(actual=test['target'], prediction=predictions), index=test.index)\n",
    "    precision = precision_score(test['target'], predictions)\n",
    "    return combined, precision"
   ],
   "metadata": {
    "collapsed": false,
    "ExecuteTime": {
     "end_time": "2023-11-06T18:23:44.241001958Z",
     "start_time": "2023-11-06T18:23:44.167613076Z"
    }
   },
   "id": "c28e7f706ccac52a"
  },
  {
   "cell_type": "code",
   "execution_count": 385,
   "outputs": [
    {
     "name": "stdout",
     "output_type": "stream",
     "text": [
      "Precision: 61.22%\n"
     ]
    }
   ],
   "source": [
    "combined, precision = make_predictions(rolling_matches_df, predictors + new_cols)\n",
    "print(f'Precision: {precision:.2%}')"
   ],
   "metadata": {
    "collapsed": false,
    "ExecuteTime": {
     "end_time": "2023-11-06T18:23:44.465325894Z",
     "start_time": "2023-11-06T18:23:44.167764701Z"
    }
   },
   "id": "a0bf8ecc99af9f06"
  },
  {
   "cell_type": "markdown",
   "source": [
    "Merge to see predictions."
   ],
   "metadata": {
    "collapsed": false
   },
   "id": "5249cdec2a2d210e"
  },
  {
   "cell_type": "code",
   "execution_count": 386,
   "outputs": [
    {
     "data": {
      "text/plain": "      actual  prediction       date       team          opponent result\n247        1           0 2023-02-03   Augsburg  Bayer Leverkusen      W\n248        0           0 2023-02-11   Augsburg          Mainz 05      L\n249        1           1 2023-02-17   Augsburg        Hoffenheim      W\n250        0           0 2023-02-25   Augsburg        Hertha BSC      L\n251        1           1 2023-03-04   Augsburg     Werder Bremen      W\n...      ...         ...        ...        ...               ...    ...\n3591       1           0 2023-04-30  Wolfsburg          Mainz 05      W\n3592       0           0 2023-05-07  Wolfsburg          Dortmund      L\n3593       1           0 2023-05-13  Wolfsburg        Hoffenheim      W\n3594       0           0 2023-05-19  Wolfsburg          Freiburg      L\n3595       0           0 2023-05-27  Wolfsburg        Hertha BSC      L\n\n[292 rows x 6 columns]",
      "text/html": "<div>\n<style scoped>\n    .dataframe tbody tr th:only-of-type {\n        vertical-align: middle;\n    }\n\n    .dataframe tbody tr th {\n        vertical-align: top;\n    }\n\n    .dataframe thead th {\n        text-align: right;\n    }\n</style>\n<table border=\"1\" class=\"dataframe\">\n  <thead>\n    <tr style=\"text-align: right;\">\n      <th></th>\n      <th>actual</th>\n      <th>prediction</th>\n      <th>date</th>\n      <th>team</th>\n      <th>opponent</th>\n      <th>result</th>\n    </tr>\n  </thead>\n  <tbody>\n    <tr>\n      <th>247</th>\n      <td>1</td>\n      <td>0</td>\n      <td>2023-02-03</td>\n      <td>Augsburg</td>\n      <td>Bayer Leverkusen</td>\n      <td>W</td>\n    </tr>\n    <tr>\n      <th>248</th>\n      <td>0</td>\n      <td>0</td>\n      <td>2023-02-11</td>\n      <td>Augsburg</td>\n      <td>Mainz 05</td>\n      <td>L</td>\n    </tr>\n    <tr>\n      <th>249</th>\n      <td>1</td>\n      <td>1</td>\n      <td>2023-02-17</td>\n      <td>Augsburg</td>\n      <td>Hoffenheim</td>\n      <td>W</td>\n    </tr>\n    <tr>\n      <th>250</th>\n      <td>0</td>\n      <td>0</td>\n      <td>2023-02-25</td>\n      <td>Augsburg</td>\n      <td>Hertha BSC</td>\n      <td>L</td>\n    </tr>\n    <tr>\n      <th>251</th>\n      <td>1</td>\n      <td>1</td>\n      <td>2023-03-04</td>\n      <td>Augsburg</td>\n      <td>Werder Bremen</td>\n      <td>W</td>\n    </tr>\n    <tr>\n      <th>...</th>\n      <td>...</td>\n      <td>...</td>\n      <td>...</td>\n      <td>...</td>\n      <td>...</td>\n      <td>...</td>\n    </tr>\n    <tr>\n      <th>3591</th>\n      <td>1</td>\n      <td>0</td>\n      <td>2023-04-30</td>\n      <td>Wolfsburg</td>\n      <td>Mainz 05</td>\n      <td>W</td>\n    </tr>\n    <tr>\n      <th>3592</th>\n      <td>0</td>\n      <td>0</td>\n      <td>2023-05-07</td>\n      <td>Wolfsburg</td>\n      <td>Dortmund</td>\n      <td>L</td>\n    </tr>\n    <tr>\n      <th>3593</th>\n      <td>1</td>\n      <td>0</td>\n      <td>2023-05-13</td>\n      <td>Wolfsburg</td>\n      <td>Hoffenheim</td>\n      <td>W</td>\n    </tr>\n    <tr>\n      <th>3594</th>\n      <td>0</td>\n      <td>0</td>\n      <td>2023-05-19</td>\n      <td>Wolfsburg</td>\n      <td>Freiburg</td>\n      <td>L</td>\n    </tr>\n    <tr>\n      <th>3595</th>\n      <td>0</td>\n      <td>0</td>\n      <td>2023-05-27</td>\n      <td>Wolfsburg</td>\n      <td>Hertha BSC</td>\n      <td>L</td>\n    </tr>\n  </tbody>\n</table>\n<p>292 rows × 6 columns</p>\n</div>"
     },
     "execution_count": 386,
     "metadata": {},
     "output_type": "execute_result"
    }
   ],
   "source": [
    "combined = combined.merge(rolling_matches_df[['date', 'team', 'opponent', 'result']], left_index=True, right_index=True)\n",
    "combined"
   ],
   "metadata": {
    "collapsed": false,
    "ExecuteTime": {
     "end_time": "2023-11-06T18:23:44.525484429Z",
     "start_time": "2023-11-06T18:23:44.348363573Z"
    }
   },
   "id": "3dd1fc78735db70a"
  },
  {
   "cell_type": "code",
   "execution_count": 387,
   "outputs": [
    {
     "data": {
      "text/plain": "     actual_x  prediction_x       date     team_x        opponent_x result_x  \\\n0           1             0 2023-02-03   Augsburg  Bayer Leverkusen        W   \n1           0             0 2023-02-11   Augsburg          Mainz 05        L   \n2           1             1 2023-02-17   Augsburg        Hoffenheim        W   \n3           0             0 2023-02-25   Augsburg        Hertha BSC        L   \n4           1             1 2023-03-04   Augsburg     Werder Bremen        W   \n..        ...           ...        ...        ...               ...      ...   \n283         1             0 2023-04-30  Wolfsburg          Mainz 05        W   \n284         0             0 2023-05-07  Wolfsburg          Dortmund        L   \n285         1             0 2023-05-13  Wolfsburg        Hoffenheim        W   \n286         0             0 2023-05-19  Wolfsburg          Freiburg        L   \n287         0             0 2023-05-27  Wolfsburg        Hertha BSC        L   \n\n     actual_y  prediction_y            team_y opponent_y result_y  \n0           0             0  Bayer Leverkusen   Augsburg        L  \n1           1             0          Mainz 05   Augsburg        W  \n2           0             0        Hoffenheim   Augsburg        L  \n3           1             0        Hertha BSC   Augsburg        W  \n4           0             0     Werder Bremen   Augsburg        L  \n..        ...           ...               ...        ...      ...  \n283         0             0          Mainz 05  Wolfsburg        L  \n284         1             0          Dortmund  Wolfsburg        W  \n285         0             0        Hoffenheim  Wolfsburg        L  \n286         1             0          Freiburg  Wolfsburg        W  \n287         1             0        Hertha BSC  Wolfsburg        W  \n\n[288 rows x 11 columns]",
      "text/html": "<div>\n<style scoped>\n    .dataframe tbody tr th:only-of-type {\n        vertical-align: middle;\n    }\n\n    .dataframe tbody tr th {\n        vertical-align: top;\n    }\n\n    .dataframe thead th {\n        text-align: right;\n    }\n</style>\n<table border=\"1\" class=\"dataframe\">\n  <thead>\n    <tr style=\"text-align: right;\">\n      <th></th>\n      <th>actual_x</th>\n      <th>prediction_x</th>\n      <th>date</th>\n      <th>team_x</th>\n      <th>opponent_x</th>\n      <th>result_x</th>\n      <th>actual_y</th>\n      <th>prediction_y</th>\n      <th>team_y</th>\n      <th>opponent_y</th>\n      <th>result_y</th>\n    </tr>\n  </thead>\n  <tbody>\n    <tr>\n      <th>0</th>\n      <td>1</td>\n      <td>0</td>\n      <td>2023-02-03</td>\n      <td>Augsburg</td>\n      <td>Bayer Leverkusen</td>\n      <td>W</td>\n      <td>0</td>\n      <td>0</td>\n      <td>Bayer Leverkusen</td>\n      <td>Augsburg</td>\n      <td>L</td>\n    </tr>\n    <tr>\n      <th>1</th>\n      <td>0</td>\n      <td>0</td>\n      <td>2023-02-11</td>\n      <td>Augsburg</td>\n      <td>Mainz 05</td>\n      <td>L</td>\n      <td>1</td>\n      <td>0</td>\n      <td>Mainz 05</td>\n      <td>Augsburg</td>\n      <td>W</td>\n    </tr>\n    <tr>\n      <th>2</th>\n      <td>1</td>\n      <td>1</td>\n      <td>2023-02-17</td>\n      <td>Augsburg</td>\n      <td>Hoffenheim</td>\n      <td>W</td>\n      <td>0</td>\n      <td>0</td>\n      <td>Hoffenheim</td>\n      <td>Augsburg</td>\n      <td>L</td>\n    </tr>\n    <tr>\n      <th>3</th>\n      <td>0</td>\n      <td>0</td>\n      <td>2023-02-25</td>\n      <td>Augsburg</td>\n      <td>Hertha BSC</td>\n      <td>L</td>\n      <td>1</td>\n      <td>0</td>\n      <td>Hertha BSC</td>\n      <td>Augsburg</td>\n      <td>W</td>\n    </tr>\n    <tr>\n      <th>4</th>\n      <td>1</td>\n      <td>1</td>\n      <td>2023-03-04</td>\n      <td>Augsburg</td>\n      <td>Werder Bremen</td>\n      <td>W</td>\n      <td>0</td>\n      <td>0</td>\n      <td>Werder Bremen</td>\n      <td>Augsburg</td>\n      <td>L</td>\n    </tr>\n    <tr>\n      <th>...</th>\n      <td>...</td>\n      <td>...</td>\n      <td>...</td>\n      <td>...</td>\n      <td>...</td>\n      <td>...</td>\n      <td>...</td>\n      <td>...</td>\n      <td>...</td>\n      <td>...</td>\n      <td>...</td>\n    </tr>\n    <tr>\n      <th>283</th>\n      <td>1</td>\n      <td>0</td>\n      <td>2023-04-30</td>\n      <td>Wolfsburg</td>\n      <td>Mainz 05</td>\n      <td>W</td>\n      <td>0</td>\n      <td>0</td>\n      <td>Mainz 05</td>\n      <td>Wolfsburg</td>\n      <td>L</td>\n    </tr>\n    <tr>\n      <th>284</th>\n      <td>0</td>\n      <td>0</td>\n      <td>2023-05-07</td>\n      <td>Wolfsburg</td>\n      <td>Dortmund</td>\n      <td>L</td>\n      <td>1</td>\n      <td>0</td>\n      <td>Dortmund</td>\n      <td>Wolfsburg</td>\n      <td>W</td>\n    </tr>\n    <tr>\n      <th>285</th>\n      <td>1</td>\n      <td>0</td>\n      <td>2023-05-13</td>\n      <td>Wolfsburg</td>\n      <td>Hoffenheim</td>\n      <td>W</td>\n      <td>0</td>\n      <td>0</td>\n      <td>Hoffenheim</td>\n      <td>Wolfsburg</td>\n      <td>L</td>\n    </tr>\n    <tr>\n      <th>286</th>\n      <td>0</td>\n      <td>0</td>\n      <td>2023-05-19</td>\n      <td>Wolfsburg</td>\n      <td>Freiburg</td>\n      <td>L</td>\n      <td>1</td>\n      <td>0</td>\n      <td>Freiburg</td>\n      <td>Wolfsburg</td>\n      <td>W</td>\n    </tr>\n    <tr>\n      <th>287</th>\n      <td>0</td>\n      <td>0</td>\n      <td>2023-05-27</td>\n      <td>Wolfsburg</td>\n      <td>Hertha BSC</td>\n      <td>L</td>\n      <td>1</td>\n      <td>0</td>\n      <td>Hertha BSC</td>\n      <td>Wolfsburg</td>\n      <td>W</td>\n    </tr>\n  </tbody>\n</table>\n<p>288 rows × 11 columns</p>\n</div>"
     },
     "execution_count": 387,
     "metadata": {},
     "output_type": "execute_result"
    }
   ],
   "source": [
    "merged = combined.merge(combined, left_on=['date', 'team'], right_on=['date', 'opponent'])\n",
    "merged"
   ],
   "metadata": {
    "collapsed": false,
    "ExecuteTime": {
     "end_time": "2023-11-06T18:23:44.527777382Z",
     "start_time": "2023-11-06T18:23:44.350369339Z"
    }
   },
   "id": "285ea337e29d938e"
  },
  {
   "cell_type": "code",
   "execution_count": 388,
   "outputs": [
    {
     "data": {
      "text/plain": "1    29\n0    17\nName: actual_x, dtype: int64"
     },
     "execution_count": 388,
     "metadata": {},
     "output_type": "execute_result"
    }
   ],
   "source": [
    "merged[(merged['prediction_x'] == 1) & (merged['prediction_y'] == 0)]['actual_x'].value_counts()"
   ],
   "metadata": {
    "collapsed": false,
    "ExecuteTime": {
     "end_time": "2023-11-06T18:23:44.527967699Z",
     "start_time": "2023-11-06T18:23:44.394914897Z"
    }
   },
   "id": "5165c2ab4cd7a0cb"
  },
  {
   "cell_type": "code",
   "execution_count": 394,
   "outputs": [
    {
     "name": "stdout",
     "output_type": "stream",
     "text": [
      "63.04%\n"
     ]
    }
   ],
   "source": [
    "print(f'{29 / (29 + 17) * 100:.2f}%')"
   ],
   "metadata": {
    "collapsed": false,
    "ExecuteTime": {
     "end_time": "2023-11-06T18:24:47.575617161Z",
     "start_time": "2023-11-06T18:24:47.559390561Z"
    }
   },
   "id": "7520dcff317d022"
  }
 ],
 "metadata": {
  "kernelspec": {
   "display_name": "Python 3",
   "language": "python",
   "name": "python3"
  },
  "language_info": {
   "codemirror_mode": {
    "name": "ipython",
    "version": 2
   },
   "file_extension": ".py",
   "mimetype": "text/x-python",
   "name": "python",
   "nbconvert_exporter": "python",
   "pygments_lexer": "ipython2",
   "version": "2.7.6"
  }
 },
 "nbformat": 4,
 "nbformat_minor": 5
}
