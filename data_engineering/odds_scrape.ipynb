{
 "cells": [
  {
   "cell_type": "code",
   "execution_count": 3,
   "id": "initial_id",
   "metadata": {
    "collapsed": true,
    "ExecuteTime": {
     "end_time": "2023-11-16T08:40:31.777006636Z",
     "start_time": "2023-11-16T08:40:31.735506068Z"
    }
   },
   "outputs": [],
   "source": [
    "from bs4 import BeautifulSoup\n",
    "import requests\n",
    "from settings import FDCUK_DIR, FDCUK_BUNDESLIGA_DIR\n",
    "from time import sleep\n",
    "\n",
    "base_url = 'https://www.football-data.co.uk'"
   ]
  },
  {
   "cell_type": "code",
   "execution_count": 4,
   "outputs": [],
   "source": [
    "notes_url = f'{base_url}/notes.txt'\n",
    "\n",
    "notes_response = requests.get(notes_url)\n",
    "notes = notes_response.text\n",
    "\n",
    "with open(f'{FDCUK_DIR}/notes.txt', 'w') as f:\n",
    "    f.write(notes)"
   ],
   "metadata": {
    "collapsed": false,
    "ExecuteTime": {
     "end_time": "2023-11-16T08:40:31.868396291Z",
     "start_time": "2023-11-16T08:40:31.776845164Z"
    }
   },
   "id": "7c03f3b8f3041d96"
  },
  {
   "cell_type": "code",
   "execution_count": 5,
   "outputs": [],
   "source": [
    "bundesliga_odds_url = f'{base_url}/germanym.php'\n",
    "\n",
    "response = requests.get(bundesliga_odds_url)\n",
    "soup = BeautifulSoup(response.text, 'html.parser')"
   ],
   "metadata": {
    "collapsed": false,
    "ExecuteTime": {
     "end_time": "2023-11-16T08:40:32.076073876Z",
     "start_time": "2023-11-16T08:40:31.870477759Z"
    }
   },
   "id": "a797e2f201546fbb"
  },
  {
   "cell_type": "code",
   "execution_count": 9,
   "outputs": [],
   "source": [
    "csv_anchors = soup.find_all('a', href=True, string='Bundesliga 1')\n",
    "\n",
    "for anchor in csv_anchors:\n",
    "    href = anchor['href']\n",
    "    csv_url = f'{base_url}/{href}'\n",
    "    year = href.split('/')[-2]\n",
    "    csv_response = requests.get(csv_url)\n",
    "    csv_content = csv_response.content\n",
    "\n",
    "    with open(f'{FDCUK_BUNDESLIGA_DIR}/odds_{year}.csv', 'wb') as f:\n",
    "        f.write(csv_content)\n",
    "\n",
    "    sleep(5)"
   ],
   "metadata": {
    "collapsed": false,
    "ExecuteTime": {
     "end_time": "2023-11-16T08:43:36.530031894Z",
     "start_time": "2023-11-16T08:43:29.903028787Z"
    }
   },
   "id": "bda6e4082066dcd7"
  }
 ],
 "metadata": {
  "kernelspec": {
   "display_name": "Python 3",
   "language": "python",
   "name": "python3"
  },
  "language_info": {
   "codemirror_mode": {
    "name": "ipython",
    "version": 2
   },
   "file_extension": ".py",
   "mimetype": "text/x-python",
   "name": "python",
   "nbconvert_exporter": "python",
   "pygments_lexer": "ipython2",
   "version": "2.7.6"
  }
 },
 "nbformat": 4,
 "nbformat_minor": 5
}
