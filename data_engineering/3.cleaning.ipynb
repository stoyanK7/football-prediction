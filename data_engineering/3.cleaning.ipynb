{
 "cells": [
  {
   "cell_type": "markdown",
   "source": [
    "# Cleaning raw scraped data"
   ],
   "metadata": {
    "collapsed": false
   },
   "id": "c20bb8ba72ea5a14"
  },
  {
   "cell_type": "markdown",
   "source": [
    "Open raw scraped data from `.csv` and clean it."
   ],
   "metadata": {
    "collapsed": false
   },
   "id": "64cc48574283e118"
  },
  {
   "cell_type": "markdown",
   "source": [
    "Imports."
   ],
   "metadata": {
    "collapsed": false
   },
   "id": "a29cb2c6335a135d"
  },
  {
   "cell_type": "code",
   "execution_count": 83,
   "outputs": [],
   "source": [
    "from itertools import combinations\n",
    "\n",
    "import pandas as pd"
   ],
   "metadata": {
    "collapsed": false,
    "ExecuteTime": {
     "end_time": "2023-10-04T13:51:48.985859516Z",
     "start_time": "2023-10-04T13:51:48.884321505Z"
    }
   },
   "id": "c24431c53b53645"
  },
  {
   "cell_type": "markdown",
   "source": [
    "Pathing to the data."
   ],
   "metadata": {
    "collapsed": false
   },
   "id": "b5d1d6724129e084"
  },
  {
   "cell_type": "code",
   "execution_count": 84,
   "outputs": [],
   "source": [
    "data_path = '../data'\n",
    "raw_data_path = f'{data_path}/csv/raw'\n",
    "clean_data_path = f'{data_path}/csv/clean'"
   ],
   "metadata": {
    "collapsed": false,
    "ExecuteTime": {
     "end_time": "2023-10-04T13:51:49.001605334Z",
     "start_time": "2023-10-04T13:51:48.887937040Z"
    }
   },
   "id": "47ab23bba4a8446e"
  },
  {
   "cell_type": "markdown",
   "source": [
    "Open scraped data."
   ],
   "metadata": {
    "collapsed": false
   },
   "id": "4c9e675da8b869ef"
  },
  {
   "cell_type": "code",
   "execution_count": 85,
   "outputs": [],
   "source": [
    "matches_df = pd.read_csv(f'{raw_data_path}/bundesliga_matches.csv')"
   ],
   "metadata": {
    "collapsed": false,
    "ExecuteTime": {
     "end_time": "2023-10-04T13:51:49.103339179Z",
     "start_time": "2023-10-04T13:51:48.899156037Z"
    }
   },
   "id": "510afb0c1e1d832e"
  },
  {
   "cell_type": "markdown",
   "source": [
    "See the shape of the scraped data - rows and columns."
   ],
   "metadata": {
    "collapsed": false
   },
   "id": "3c723ca6e54cd661"
  },
  {
   "cell_type": "code",
   "execution_count": 86,
   "outputs": [
    {
     "data": {
      "text/plain": "(4425, 239)"
     },
     "execution_count": 86,
     "metadata": {},
     "output_type": "execute_result"
    }
   ],
   "source": [
    "matches_df.shape"
   ],
   "metadata": {
    "collapsed": false,
    "ExecuteTime": {
     "end_time": "2023-10-04T13:51:49.103677768Z",
     "start_time": "2023-10-04T13:51:49.021242280Z"
    }
   },
   "id": "14cfae209d118ba2"
  },
  {
   "cell_type": "markdown",
   "source": [
    "## Standardise column names"
   ],
   "metadata": {
    "collapsed": false
   },
   "id": "cbe1047f235d488c"
  },
  {
   "cell_type": "markdown",
   "source": [
    "See all column names of the scraped data."
   ],
   "metadata": {
    "collapsed": false
   },
   "id": "1211665efbd8d31"
  },
  {
   "cell_type": "code",
   "execution_count": 87,
   "outputs": [
    {
     "data": {
      "text/plain": "['Date',\n 'Time',\n 'Comp',\n 'Round',\n 'Day',\n 'Venue',\n 'Result',\n 'GF',\n 'GA',\n 'Opponent',\n 'xG',\n 'xGA',\n 'Poss',\n 'Attendance',\n 'Captain',\n 'Formation',\n 'Referee',\n 'Match Report',\n 'Notes',\n 'Team',\n 'shooting  Comp',\n 'shooting  Round',\n 'shooting  Day',\n 'shooting  Venue',\n 'shooting  Result',\n 'shooting  GF',\n 'shooting  GA',\n 'shooting  Opponent',\n 'shooting Standard Gls',\n 'shooting Standard Sh',\n 'shooting Standard SoT',\n 'shooting Standard SoT%',\n 'shooting Standard G/Sh',\n 'shooting Standard G/SoT',\n 'shooting Standard Dist',\n 'shooting Standard FK',\n 'shooting Standard PK',\n 'shooting Standard PKatt',\n 'shooting Expected xG',\n 'shooting Expected npxG',\n 'shooting Expected npxG/Sh',\n 'shooting Expected G-xG',\n 'shooting Expected np:G-xG',\n 'shooting Unnamed: 25_level_0 Match Report',\n 'keeper  Comp',\n 'keeper  Round',\n 'keeper  Day',\n 'keeper  Venue',\n 'keeper  Result',\n 'keeper  GF',\n 'keeper  GA',\n 'keeper  Opponent',\n 'keeper Performance SoTA',\n 'keeper Performance GA',\n 'keeper Performance Saves',\n 'keeper Performance Save%',\n 'keeper Performance CS',\n 'keeper Performance PSxG',\n 'keeper Performance PSxG+/-',\n 'keeper Penalty Kicks PKatt',\n 'keeper Penalty Kicks PKA',\n 'keeper Penalty Kicks PKsv',\n 'keeper Penalty Kicks PKm',\n 'keeper Launched Cmp',\n 'keeper Launched Att',\n 'keeper Launched Cmp%',\n 'keeper Passes Att',\n 'keeper Passes Thr',\n 'keeper Passes Launch%',\n 'keeper Passes AvgLen',\n 'keeper Goal Kicks Att',\n 'keeper Goal Kicks Launch%',\n 'keeper Goal Kicks AvgLen',\n 'keeper Crosses Opp',\n 'keeper Crosses Stp',\n 'keeper Crosses Stp%',\n 'keeper Sweeper #OPA',\n 'keeper Sweeper AvgDist',\n 'keeper Unnamed: 36_level_0 Match Report',\n 'passing  Comp',\n 'passing  Round',\n 'passing  Day',\n 'passing  Venue',\n 'passing  Result',\n 'passing  GF',\n 'passing  GA',\n 'passing  Opponent',\n 'passing Total Cmp',\n 'passing Total Att',\n 'passing Total Cmp%',\n 'passing Total TotDist',\n 'passing Total PrgDist',\n 'passing Short Cmp',\n 'passing Short Att',\n 'passing Short Cmp%',\n 'passing Medium Cmp',\n 'passing Medium Att',\n 'passing Medium Cmp%',\n 'passing Long Cmp',\n 'passing Long Att',\n 'passing Long Cmp%',\n 'passing Unnamed: 24_level_0 Ast',\n 'passing Unnamed: 25_level_0 xAG',\n 'passing Unnamed: 26_level_0 xA',\n 'passing Unnamed: 27_level_0 KP',\n 'passing Unnamed: 28_level_0 1/3',\n 'passing Unnamed: 29_level_0 PPA',\n 'passing Unnamed: 30_level_0 CrsPA',\n 'passing Unnamed: 31_level_0 PrgP',\n 'passing Unnamed: 32_level_0 Match Report',\n 'passing_types  Comp',\n 'passing_types  Round',\n 'passing_types  Day',\n 'passing_types  Venue',\n 'passing_types  Result',\n 'passing_types  GF',\n 'passing_types  GA',\n 'passing_types  Opponent',\n 'passing_types  Att',\n 'passing_types Pass Types Live',\n 'passing_types Pass Types Dead',\n 'passing_types Pass Types FK',\n 'passing_types Pass Types TB',\n 'passing_types Pass Types Sw',\n 'passing_types Pass Types Crs',\n 'passing_types Pass Types TI',\n 'passing_types Pass Types CK',\n 'passing_types Corner Kicks In',\n 'passing_types Corner Kicks Out',\n 'passing_types Corner Kicks Str',\n 'passing_types Outcomes Cmp',\n 'passing_types Outcomes Off',\n 'passing_types Outcomes Blocks',\n 'passing_types Unnamed: 25_level_0 Match Report',\n 'gca  Comp',\n 'gca  Round',\n 'gca  Day',\n 'gca  Venue',\n 'gca  Result',\n 'gca  GF',\n 'gca  GA',\n 'gca  Opponent',\n 'gca SCA Types SCA',\n 'gca SCA Types PassLive',\n 'gca SCA Types PassDead',\n 'gca SCA Types TO',\n 'gca SCA Types Sh',\n 'gca SCA Types Fld',\n 'gca SCA Types Def',\n 'gca GCA Types GCA',\n 'gca GCA Types PassLive',\n 'gca GCA Types PassDead',\n 'gca GCA Types TO',\n 'gca GCA Types Sh',\n 'gca GCA Types Fld',\n 'gca GCA Types Def',\n 'gca Unnamed: 24_level_0 Match Report',\n 'defense  Comp',\n 'defense  Round',\n 'defense  Day',\n 'defense  Venue',\n 'defense  Result',\n 'defense  GF',\n 'defense  GA',\n 'defense  Opponent',\n 'defense Tackles Tkl',\n 'defense Tackles TklW',\n 'defense Tackles Def 3rd',\n 'defense Tackles Mid 3rd',\n 'defense Tackles Att 3rd',\n 'defense Challenges Tkl',\n 'defense Challenges Att',\n 'defense Challenges Tkl%',\n 'defense Challenges Lost',\n 'defense Blocks Blocks',\n 'defense Blocks Sh',\n 'defense Blocks Pass',\n 'defense Unnamed: 22_level_0 Int',\n 'defense Unnamed: 23_level_0 Tkl+Int',\n 'defense Unnamed: 24_level_0 Clr',\n 'defense Unnamed: 25_level_0 Err',\n 'defense Unnamed: 26_level_0 Match Report',\n 'possession  Comp',\n 'possession  Round',\n 'possession  Day',\n 'possession  Venue',\n 'possession  Result',\n 'possession  GF',\n 'possession  GA',\n 'possession  Opponent',\n 'possession  Poss',\n 'possession Touches Touches',\n 'possession Touches Def Pen',\n 'possession Touches Def 3rd',\n 'possession Touches Mid 3rd',\n 'possession Touches Att 3rd',\n 'possession Touches Att Pen',\n 'possession Touches Live',\n 'possession Take-Ons Att',\n 'possession Take-Ons Succ',\n 'possession Take-Ons Succ%',\n 'possession Take-Ons Tkld',\n 'possession Take-Ons Tkld%',\n 'possession Carries Carries',\n 'possession Carries TotDist',\n 'possession Carries PrgDist',\n 'possession Carries PrgC',\n 'possession Carries 1/3',\n 'possession Carries CPA',\n 'possession Carries Mis',\n 'possession Carries Dis',\n 'possession Receiving Rec',\n 'possession Receiving PrgR',\n 'possession Unnamed: 33_level_0 Match Report',\n 'misc  Comp',\n 'misc  Round',\n 'misc  Day',\n 'misc  Venue',\n 'misc  Result',\n 'misc  GF',\n 'misc  GA',\n 'misc  Opponent',\n 'misc Performance CrdY',\n 'misc Performance CrdR',\n 'misc Performance 2CrdY',\n 'misc Performance Fls',\n 'misc Performance Fld',\n 'misc Performance Off',\n 'misc Performance Crs',\n 'misc Performance Int',\n 'misc Performance TklW',\n 'misc Performance PKwon',\n 'misc Performance PKcon',\n 'misc Performance OG',\n 'misc Performance Recov',\n 'misc Aerial Duels Won',\n 'misc Aerial Duels Lost',\n 'misc Aerial Duels Won%',\n 'misc Unnamed: 26_level_0 Match Report']"
     },
     "execution_count": 87,
     "metadata": {},
     "output_type": "execute_result"
    }
   ],
   "source": [
    "matches_df.columns.tolist()"
   ],
   "metadata": {
    "collapsed": false,
    "ExecuteTime": {
     "end_time": "2023-10-04T13:51:49.104019152Z",
     "start_time": "2023-10-04T13:51:49.021387340Z"
    }
   },
   "id": "96448c90dc1b1284"
  },
  {
   "cell_type": "markdown",
   "source": [
    "There are numerous issues with the column names:\n",
    "- Columns that have double spaces in their names. Replace them with single spaces.\n",
    "- Columns do not follow a consistent naming convention. Convert all column names to lowercase.\n",
    "- Columns that have spaces in their names. Replace them with underscores.\n",
    "- There are numerous columns from each category where there is `_unnamed_<some number>_level_0`. Remove the `_unnamed_<some number>_level_0` from the column names."
   ],
   "metadata": {
    "collapsed": false
   },
   "id": "5396498d692f2c22"
  },
  {
   "cell_type": "code",
   "execution_count": 88,
   "outputs": [
    {
     "data": {
      "text/plain": "['date',\n 'time',\n 'comp',\n 'round',\n 'day',\n 'venue',\n 'result',\n 'gf',\n 'ga',\n 'opponent',\n 'xg',\n 'xga',\n 'poss',\n 'attendance',\n 'captain',\n 'formation',\n 'referee',\n 'match_report',\n 'notes',\n 'team',\n 'shooting_comp',\n 'shooting_round',\n 'shooting_day',\n 'shooting_venue',\n 'shooting_result',\n 'shooting_gf',\n 'shooting_ga',\n 'shooting_opponent',\n 'shooting_standard_gls',\n 'shooting_standard_sh',\n 'shooting_standard_sot',\n 'shooting_standard_sot%',\n 'shooting_standard_g/sh',\n 'shooting_standard_g/sot',\n 'shooting_standard_dist',\n 'shooting_standard_fk',\n 'shooting_standard_pk',\n 'shooting_standard_pkatt',\n 'shooting_expected_xg',\n 'shooting_expected_npxg',\n 'shooting_expected_npxg/sh',\n 'shooting_expected_g-xg',\n 'shooting_expected_np:g-xg',\n 'shooting_match_report',\n 'keeper_comp',\n 'keeper_round',\n 'keeper_day',\n 'keeper_venue',\n 'keeper_result',\n 'keeper_gf',\n 'keeper_ga',\n 'keeper_opponent',\n 'keeper_performance_sota',\n 'keeper_performance_ga',\n 'keeper_performance_saves',\n 'keeper_performance_save%',\n 'keeper_performance_cs',\n 'keeper_performance_psxg',\n 'keeper_performance_psxg+/-',\n 'keeper_penalty_kicks_pkatt',\n 'keeper_penalty_kicks_pka',\n 'keeper_penalty_kicks_pksv',\n 'keeper_penalty_kicks_pkm',\n 'keeper_launched_cmp',\n 'keeper_launched_att',\n 'keeper_launched_cmp%',\n 'keeper_passes_att',\n 'keeper_passes_thr',\n 'keeper_passes_launch%',\n 'keeper_passes_avglen',\n 'keeper_goal_kicks_att',\n 'keeper_goal_kicks_launch%',\n 'keeper_goal_kicks_avglen',\n 'keeper_crosses_opp',\n 'keeper_crosses_stp',\n 'keeper_crosses_stp%',\n 'keeper_sweeper_#opa',\n 'keeper_sweeper_avgdist',\n 'keeper_match_report',\n 'passing_comp',\n 'passing_round',\n 'passing_day',\n 'passing_venue',\n 'passing_result',\n 'passing_gf',\n 'passing_ga',\n 'passing_opponent',\n 'passing_total_cmp',\n 'passing_total_att',\n 'passing_total_cmp%',\n 'passing_total_totdist',\n 'passing_total_prgdist',\n 'passing_short_cmp',\n 'passing_short_att',\n 'passing_short_cmp%',\n 'passing_medium_cmp',\n 'passing_medium_att',\n 'passing_medium_cmp%',\n 'passing_long_cmp',\n 'passing_long_att',\n 'passing_long_cmp%',\n 'passing_ast',\n 'passing_xag',\n 'passing_xa',\n 'passing_kp',\n 'passing_1/3',\n 'passing_ppa',\n 'passing_crspa',\n 'passing_prgp',\n 'passing_match_report',\n 'passing_types_comp',\n 'passing_types_round',\n 'passing_types_day',\n 'passing_types_venue',\n 'passing_types_result',\n 'passing_types_gf',\n 'passing_types_ga',\n 'passing_types_opponent',\n 'passing_types_att',\n 'passing_types_pass_types_live',\n 'passing_types_pass_types_dead',\n 'passing_types_pass_types_fk',\n 'passing_types_pass_types_tb',\n 'passing_types_pass_types_sw',\n 'passing_types_pass_types_crs',\n 'passing_types_pass_types_ti',\n 'passing_types_pass_types_ck',\n 'passing_types_corner_kicks_in',\n 'passing_types_corner_kicks_out',\n 'passing_types_corner_kicks_str',\n 'passing_types_outcomes_cmp',\n 'passing_types_outcomes_off',\n 'passing_types_outcomes_blocks',\n 'passing_types_match_report',\n 'gca_comp',\n 'gca_round',\n 'gca_day',\n 'gca_venue',\n 'gca_result',\n 'gca_gf',\n 'gca_ga',\n 'gca_opponent',\n 'gca_sca_types_sca',\n 'gca_sca_types_passlive',\n 'gca_sca_types_passdead',\n 'gca_sca_types_to',\n 'gca_sca_types_sh',\n 'gca_sca_types_fld',\n 'gca_sca_types_def',\n 'gca_gca_types_gca',\n 'gca_gca_types_passlive',\n 'gca_gca_types_passdead',\n 'gca_gca_types_to',\n 'gca_gca_types_sh',\n 'gca_gca_types_fld',\n 'gca_gca_types_def',\n 'gca_match_report',\n 'defense_comp',\n 'defense_round',\n 'defense_day',\n 'defense_venue',\n 'defense_result',\n 'defense_gf',\n 'defense_ga',\n 'defense_opponent',\n 'defense_tackles_tkl',\n 'defense_tackles_tklw',\n 'defense_tackles_def_3rd',\n 'defense_tackles_mid_3rd',\n 'defense_tackles_att_3rd',\n 'defense_challenges_tkl',\n 'defense_challenges_att',\n 'defense_challenges_tkl%',\n 'defense_challenges_lost',\n 'defense_blocks_blocks',\n 'defense_blocks_sh',\n 'defense_blocks_pass',\n 'defense_int',\n 'defense_tkl+int',\n 'defense_clr',\n 'defense_err',\n 'defense_match_report',\n 'possession_comp',\n 'possession_round',\n 'possession_day',\n 'possession_venue',\n 'possession_result',\n 'possession_gf',\n 'possession_ga',\n 'possession_opponent',\n 'possession_poss',\n 'possession_touches_touches',\n 'possession_touches_def_pen',\n 'possession_touches_def_3rd',\n 'possession_touches_mid_3rd',\n 'possession_touches_att_3rd',\n 'possession_touches_att_pen',\n 'possession_touches_live',\n 'possession_take-ons_att',\n 'possession_take-ons_succ',\n 'possession_take-ons_succ%',\n 'possession_take-ons_tkld',\n 'possession_take-ons_tkld%',\n 'possession_carries_carries',\n 'possession_carries_totdist',\n 'possession_carries_prgdist',\n 'possession_carries_prgc',\n 'possession_carries_1/3',\n 'possession_carries_cpa',\n 'possession_carries_mis',\n 'possession_carries_dis',\n 'possession_receiving_rec',\n 'possession_receiving_prgr',\n 'possession_match_report',\n 'misc_comp',\n 'misc_round',\n 'misc_day',\n 'misc_venue',\n 'misc_result',\n 'misc_gf',\n 'misc_ga',\n 'misc_opponent',\n 'misc_performance_crdy',\n 'misc_performance_crdr',\n 'misc_performance_2crdy',\n 'misc_performance_fls',\n 'misc_performance_fld',\n 'misc_performance_off',\n 'misc_performance_crs',\n 'misc_performance_int',\n 'misc_performance_tklw',\n 'misc_performance_pkwon',\n 'misc_performance_pkcon',\n 'misc_performance_og',\n 'misc_performance_recov',\n 'misc_aerial_duels_won',\n 'misc_aerial_duels_lost',\n 'misc_aerial_duels_won%',\n 'misc_match_report']"
     },
     "execution_count": 88,
     "metadata": {},
     "output_type": "execute_result"
    }
   ],
   "source": [
    "matches_df.columns = matches_df.columns.str.replace('  ', ' ')\n",
    "matches_df.columns = matches_df.columns.str.lower()\n",
    "matches_df.columns = matches_df.columns.str.replace(' ', '_')\n",
    "matches_df.columns = matches_df.columns.str.replace(r'(.*)_unnamed:_\\d+_level_0_(.*)', r'\\1_\\2', regex=True)\n",
    "matches_df.columns.tolist()"
   ],
   "metadata": {
    "collapsed": false,
    "ExecuteTime": {
     "end_time": "2023-10-04T13:51:49.104340421Z",
     "start_time": "2023-10-04T13:51:49.021481625Z"
    }
   },
   "id": "67299ba76753e2"
  },
  {
   "cell_type": "markdown",
   "source": [
    "## Drop columns"
   ],
   "metadata": {
    "collapsed": false
   },
   "id": "ea2bc6fbf534371d"
  },
  {
   "cell_type": "markdown",
   "source": [
    "Display data types."
   ],
   "metadata": {
    "collapsed": false
   },
   "id": "c83215f8af67910c"
  },
  {
   "cell_type": "code",
   "execution_count": 89,
   "outputs": [
    {
     "name": "stdout",
     "output_type": "stream",
     "text": [
      "<class 'pandas.core.frame.DataFrame'>\n",
      "RangeIndex: 4425 entries, 0 to 4424\n",
      "Data columns (total 239 columns):\n",
      " #    Column                          Non-Null Count  Dtype  \n",
      "---   ------                          --------------  -----  \n",
      " 0    date                            4425 non-null   object \n",
      " 1    time                            4425 non-null   object \n",
      " 2    comp                            4425 non-null   object \n",
      " 3    round                           4425 non-null   object \n",
      " 4    day                             4425 non-null   object \n",
      " 5    venue                           4425 non-null   object \n",
      " 6    result                          4425 non-null   object \n",
      " 7    gf                              4425 non-null   object \n",
      " 8    ga                              4425 non-null   object \n",
      " 9    opponent                        4425 non-null   object \n",
      " 10   xg                              4039 non-null   float64\n",
      " 11   xga                             4039 non-null   float64\n",
      " 12   poss                            4393 non-null   float64\n",
      " 13   attendance                      3560 non-null   float64\n",
      " 14   captain                         4413 non-null   object \n",
      " 15   formation                       4413 non-null   object \n",
      " 16   referee                         4413 non-null   object \n",
      " 17   match_report                    4425 non-null   object \n",
      " 18   notes                           211 non-null    object \n",
      " 19   team                            4425 non-null   object \n",
      " 20   shooting_comp                   4425 non-null   object \n",
      " 21   shooting_round                  4425 non-null   object \n",
      " 22   shooting_day                    4425 non-null   object \n",
      " 23   shooting_venue                  4425 non-null   object \n",
      " 24   shooting_result                 4425 non-null   object \n",
      " 25   shooting_gf                     4425 non-null   object \n",
      " 26   shooting_ga                     4425 non-null   object \n",
      " 27   shooting_opponent               4425 non-null   object \n",
      " 28   shooting_standard_gls           4413 non-null   float64\n",
      " 29   shooting_standard_sh            4393 non-null   float64\n",
      " 30   shooting_standard_sot           4393 non-null   float64\n",
      " 31   shooting_standard_sot%          4391 non-null   float64\n",
      " 32   shooting_standard_g/sh          4391 non-null   float64\n",
      " 33   shooting_standard_g/sot         4272 non-null   float64\n",
      " 34   shooting_standard_dist          4038 non-null   float64\n",
      " 35   shooting_standard_fk            4039 non-null   float64\n",
      " 36   shooting_standard_pk            4413 non-null   float64\n",
      " 37   shooting_standard_pkatt         4413 non-null   float64\n",
      " 38   shooting_expected_xg            4039 non-null   float64\n",
      " 39   shooting_expected_npxg          4039 non-null   float64\n",
      " 40   shooting_expected_npxg/sh       4037 non-null   float64\n",
      " 41   shooting_expected_g-xg          4039 non-null   float64\n",
      " 42   shooting_expected_np:g-xg       4039 non-null   float64\n",
      " 43   shooting_match_report           4425 non-null   object \n",
      " 44   keeper_comp                     4425 non-null   object \n",
      " 45   keeper_round                    4425 non-null   object \n",
      " 46   keeper_day                      4425 non-null   object \n",
      " 47   keeper_venue                    4425 non-null   object \n",
      " 48   keeper_result                   4425 non-null   object \n",
      " 49   keeper_gf                       4425 non-null   object \n",
      " 50   keeper_ga                       4425 non-null   object \n",
      " 51   keeper_opponent                 4425 non-null   object \n",
      " 52   keeper_performance_sota         4392 non-null   float64\n",
      " 53   keeper_performance_ga           4407 non-null   float64\n",
      " 54   keeper_performance_saves        4392 non-null   float64\n",
      " 55   keeper_performance_save%        4261 non-null   float64\n",
      " 56   keeper_performance_cs           4404 non-null   float64\n",
      " 57   keeper_performance_psxg         4039 non-null   float64\n",
      " 58   keeper_performance_psxg+/-      4039 non-null   float64\n",
      " 59   keeper_penalty_kicks_pkatt      4413 non-null   float64\n",
      " 60   keeper_penalty_kicks_pka        4413 non-null   float64\n",
      " 61   keeper_penalty_kicks_pksv       4413 non-null   float64\n",
      " 62   keeper_penalty_kicks_pkm        4413 non-null   float64\n",
      " 63   keeper_launched_cmp             4039 non-null   float64\n",
      " 64   keeper_launched_att             4039 non-null   float64\n",
      " 65   keeper_launched_cmp%            4023 non-null   float64\n",
      " 66   keeper_passes_att               4039 non-null   float64\n",
      " 67   keeper_passes_thr               4039 non-null   float64\n",
      " 68   keeper_passes_launch%           4039 non-null   float64\n",
      " 69   keeper_passes_avglen            4039 non-null   float64\n",
      " 70   keeper_goal_kicks_att           4039 non-null   float64\n",
      " 71   keeper_goal_kicks_launch%       4033 non-null   float64\n",
      " 72   keeper_goal_kicks_avglen        4033 non-null   float64\n",
      " 73   keeper_crosses_opp              4039 non-null   float64\n",
      " 74   keeper_crosses_stp              4039 non-null   float64\n",
      " 75   keeper_crosses_stp%             4038 non-null   float64\n",
      " 76   keeper_sweeper_#opa             4039 non-null   float64\n",
      " 77   keeper_sweeper_avgdist          3882 non-null   float64\n",
      " 78   keeper_match_report             4425 non-null   object \n",
      " 79   passing_comp                    4425 non-null   object \n",
      " 80   passing_round                   4425 non-null   object \n",
      " 81   passing_day                     4425 non-null   object \n",
      " 82   passing_venue                   4425 non-null   object \n",
      " 83   passing_result                  4425 non-null   object \n",
      " 84   passing_gf                      4425 non-null   object \n",
      " 85   passing_ga                      4425 non-null   object \n",
      " 86   passing_opponent                4425 non-null   object \n",
      " 87   passing_total_cmp               4039 non-null   float64\n",
      " 88   passing_total_att               4039 non-null   float64\n",
      " 89   passing_total_cmp%              4039 non-null   float64\n",
      " 90   passing_total_totdist           4039 non-null   float64\n",
      " 91   passing_total_prgdist           4039 non-null   float64\n",
      " 92   passing_short_cmp               4039 non-null   float64\n",
      " 93   passing_short_att               4039 non-null   float64\n",
      " 94   passing_short_cmp%              4039 non-null   float64\n",
      " 95   passing_medium_cmp              4039 non-null   float64\n",
      " 96   passing_medium_att              4039 non-null   float64\n",
      " 97   passing_medium_cmp%             4039 non-null   float64\n",
      " 98   passing_long_cmp                4039 non-null   float64\n",
      " 99   passing_long_att                4039 non-null   float64\n",
      " 100  passing_long_cmp%               4039 non-null   float64\n",
      " 101  passing_ast                     4413 non-null   float64\n",
      " 102  passing_xag                     4039 non-null   float64\n",
      " 103  passing_xa                      4039 non-null   float64\n",
      " 104  passing_kp                      4039 non-null   float64\n",
      " 105  passing_1/3                     4039 non-null   float64\n",
      " 106  passing_ppa                     4039 non-null   float64\n",
      " 107  passing_crspa                   4039 non-null   float64\n",
      " 108  passing_prgp                    4039 non-null   float64\n",
      " 109  passing_match_report            4425 non-null   object \n",
      " 110  passing_types_comp              4425 non-null   object \n",
      " 111  passing_types_round             4425 non-null   object \n",
      " 112  passing_types_day               4425 non-null   object \n",
      " 113  passing_types_venue             4425 non-null   object \n",
      " 114  passing_types_result            4425 non-null   object \n",
      " 115  passing_types_gf                4425 non-null   object \n",
      " 116  passing_types_ga                4425 non-null   object \n",
      " 117  passing_types_opponent          4425 non-null   object \n",
      " 118  passing_types_att               4039 non-null   float64\n",
      " 119  passing_types_pass_types_live   4039 non-null   float64\n",
      " 120  passing_types_pass_types_dead   4039 non-null   float64\n",
      " 121  passing_types_pass_types_fk     4039 non-null   float64\n",
      " 122  passing_types_pass_types_tb     4039 non-null   float64\n",
      " 123  passing_types_pass_types_sw     4039 non-null   float64\n",
      " 124  passing_types_pass_types_crs    4392 non-null   float64\n",
      " 125  passing_types_pass_types_ti     4039 non-null   float64\n",
      " 126  passing_types_pass_types_ck     4039 non-null   float64\n",
      " 127  passing_types_corner_kicks_in   4039 non-null   float64\n",
      " 128  passing_types_corner_kicks_out  4039 non-null   float64\n",
      " 129  passing_types_corner_kicks_str  4039 non-null   float64\n",
      " 130  passing_types_outcomes_cmp      4039 non-null   float64\n",
      " 131  passing_types_outcomes_off      4039 non-null   float64\n",
      " 132  passing_types_outcomes_blocks   4039 non-null   float64\n",
      " 133  passing_types_match_report      4425 non-null   object \n",
      " 134  gca_comp                        4425 non-null   object \n",
      " 135  gca_round                       4425 non-null   object \n",
      " 136  gca_day                         4425 non-null   object \n",
      " 137  gca_venue                       4425 non-null   object \n",
      " 138  gca_result                      4425 non-null   object \n",
      " 139  gca_gf                          4425 non-null   object \n",
      " 140  gca_ga                          4425 non-null   object \n",
      " 141  gca_opponent                    4425 non-null   object \n",
      " 142  gca_sca_types_sca               4039 non-null   float64\n",
      " 143  gca_sca_types_passlive          4039 non-null   float64\n",
      " 144  gca_sca_types_passdead          4039 non-null   float64\n",
      " 145  gca_sca_types_to                4039 non-null   float64\n",
      " 146  gca_sca_types_sh                4039 non-null   float64\n",
      " 147  gca_sca_types_fld               4039 non-null   float64\n",
      " 148  gca_sca_types_def               4039 non-null   float64\n",
      " 149  gca_gca_types_gca               4039 non-null   float64\n",
      " 150  gca_gca_types_passlive          4039 non-null   float64\n",
      " 151  gca_gca_types_passdead          4039 non-null   float64\n",
      " 152  gca_gca_types_to                4039 non-null   float64\n",
      " 153  gca_gca_types_sh                4039 non-null   float64\n",
      " 154  gca_gca_types_fld               4039 non-null   float64\n",
      " 155  gca_gca_types_def               4039 non-null   float64\n",
      " 156  gca_match_report                4425 non-null   object \n",
      " 157  defense_comp                    4425 non-null   object \n",
      " 158  defense_round                   4425 non-null   object \n",
      " 159  defense_day                     4425 non-null   object \n",
      " 160  defense_venue                   4425 non-null   object \n",
      " 161  defense_result                  4425 non-null   object \n",
      " 162  defense_gf                      4425 non-null   object \n",
      " 163  defense_ga                      4425 non-null   object \n",
      " 164  defense_opponent                4425 non-null   object \n",
      " 165  defense_tackles_tkl             4039 non-null   float64\n",
      " 166  defense_tackles_tklw            4392 non-null   float64\n",
      " 167  defense_tackles_def_3rd         4039 non-null   float64\n",
      " 168  defense_tackles_mid_3rd         4039 non-null   float64\n",
      " 169  defense_tackles_att_3rd         4039 non-null   float64\n",
      " 170  defense_challenges_tkl          4039 non-null   float64\n",
      " 171  defense_challenges_att          4039 non-null   float64\n",
      " 172  defense_challenges_tkl%         4039 non-null   float64\n",
      " 173  defense_challenges_lost         4039 non-null   float64\n",
      " 174  defense_blocks_blocks           4039 non-null   float64\n",
      " 175  defense_blocks_sh               4039 non-null   float64\n",
      " 176  defense_blocks_pass             4039 non-null   float64\n",
      " 177  defense_int                     4392 non-null   float64\n",
      " 178  defense_tkl+int                 4425 non-null   int64  \n",
      " 179  defense_clr                     4039 non-null   float64\n",
      " 180  defense_err                     4039 non-null   float64\n",
      " 181  defense_match_report            4425 non-null   object \n",
      " 182  possession_comp                 4425 non-null   object \n",
      " 183  possession_round                4425 non-null   object \n",
      " 184  possession_day                  4425 non-null   object \n",
      " 185  possession_venue                4425 non-null   object \n",
      " 186  possession_result               4425 non-null   object \n",
      " 187  possession_gf                   4425 non-null   object \n",
      " 188  possession_ga                   4425 non-null   object \n",
      " 189  possession_opponent             4425 non-null   object \n",
      " 190  possession_poss                 4393 non-null   float64\n",
      " 191  possession_touches_touches      4039 non-null   float64\n",
      " 192  possession_touches_def_pen      4039 non-null   float64\n",
      " 193  possession_touches_def_3rd      4039 non-null   float64\n",
      " 194  possession_touches_mid_3rd      4039 non-null   float64\n",
      " 195  possession_touches_att_3rd      4039 non-null   float64\n",
      " 196  possession_touches_att_pen      4039 non-null   float64\n",
      " 197  possession_touches_live         4039 non-null   float64\n",
      " 198  possession_take-ons_att         4039 non-null   float64\n",
      " 199  possession_take-ons_succ        4039 non-null   float64\n",
      " 200  possession_take-ons_succ%       4039 non-null   float64\n",
      " 201  possession_take-ons_tkld        4039 non-null   float64\n",
      " 202  possession_take-ons_tkld%       4039 non-null   float64\n",
      " 203  possession_carries_carries      4039 non-null   float64\n",
      " 204  possession_carries_totdist      4039 non-null   float64\n",
      " 205  possession_carries_prgdist      4039 non-null   float64\n",
      " 206  possession_carries_prgc         4039 non-null   float64\n",
      " 207  possession_carries_1/3          4039 non-null   float64\n",
      " 208  possession_carries_cpa          4039 non-null   float64\n",
      " 209  possession_carries_mis          4039 non-null   float64\n",
      " 210  possession_carries_dis          4039 non-null   float64\n",
      " 211  possession_receiving_rec        4039 non-null   float64\n",
      " 212  possession_receiving_prgr       4039 non-null   float64\n",
      " 213  possession_match_report         4425 non-null   object \n",
      " 214  misc_comp                       4425 non-null   object \n",
      " 215  misc_round                      4425 non-null   object \n",
      " 216  misc_day                        4425 non-null   object \n",
      " 217  misc_venue                      4425 non-null   object \n",
      " 218  misc_result                     4425 non-null   object \n",
      " 219  misc_gf                         4425 non-null   object \n",
      " 220  misc_ga                         4425 non-null   object \n",
      " 221  misc_opponent                   4425 non-null   object \n",
      " 222  misc_performance_crdy           4413 non-null   float64\n",
      " 223  misc_performance_crdr           4413 non-null   float64\n",
      " 224  misc_performance_2crdy          4413 non-null   float64\n",
      " 225  misc_performance_fls            4392 non-null   float64\n",
      " 226  misc_performance_fld            4392 non-null   float64\n",
      " 227  misc_performance_off            4392 non-null   float64\n",
      " 228  misc_performance_crs            4392 non-null   float64\n",
      " 229  misc_performance_int            4392 non-null   float64\n",
      " 230  misc_performance_tklw           4392 non-null   float64\n",
      " 231  misc_performance_pkwon          4043 non-null   float64\n",
      " 232  misc_performance_pkcon          4043 non-null   float64\n",
      " 233  misc_performance_og             4410 non-null   float64\n",
      " 234  misc_performance_recov          4039 non-null   float64\n",
      " 235  misc_aerial_duels_won           4039 non-null   float64\n",
      " 236  misc_aerial_duels_lost          4039 non-null   float64\n",
      " 237  misc_aerial_duels_won%          4039 non-null   float64\n",
      " 238  misc_match_report               4425 non-null   object \n",
      "dtypes: float64(150), int64(1), object(88)\n",
      "memory usage: 8.1+ MB\n"
     ]
    }
   ],
   "source": [
    "matches_df.info(verbose=True, show_counts=True)"
   ],
   "metadata": {
    "collapsed": false,
    "ExecuteTime": {
     "end_time": "2023-10-04T13:51:49.104865277Z",
     "start_time": "2023-10-04T13:51:49.021610412Z"
    }
   },
   "id": "278b7f52ba94fec1"
  },
  {
   "cell_type": "markdown",
   "source": [
    "At first sight, the data types seem favorable. However, there is a big amount of `object`(`string`) data."
   ],
   "metadata": {
    "collapsed": false
   },
   "id": "39bdec5192312c60"
  },
  {
   "cell_type": "markdown",
   "source": [
    "Explore first and last five entries."
   ],
   "metadata": {
    "collapsed": false
   },
   "id": "2a6f60de62811974"
  },
  {
   "cell_type": "code",
   "execution_count": 90,
   "outputs": [
    {
     "data": {
      "text/plain": "         date   time        comp        round  day venue result gf ga  \\\n0  2020-09-12  15:30   DFB-Pokal  First round  Sat  Away      W  2  1   \n1  2020-09-19  15:30  Bundesliga  Matchweek 1  Sat  Home      D  1  1   \n2  2020-09-25  20:30  Bundesliga  Matchweek 2  Fri  Away      W  3  1   \n3  2020-10-03  15:30  Bundesliga  Matchweek 3  Sat  Home      W  2  1   \n4  2020-10-18  15:30  Bundesliga  Matchweek 4  Sun  Away      D  1  1   \n\n      opponent  ...  misc_performance_int  misc_performance_tklw  \\\n0  1860 Munich  ...                   7.0                    8.0   \n1      Arminia  ...                  11.0                   12.0   \n2   Hertha BSC  ...                   8.0                   12.0   \n3   Hoffenheim  ...                   7.0                    6.0   \n4         Köln  ...                   7.0                   10.0   \n\n   misc_performance_pkwon  misc_performance_pkcon misc_performance_og  \\\n0                     NaN                     NaN                 0.0   \n1                     0.0                     0.0                 0.0   \n2                     1.0                     0.0                 1.0   \n3                     0.0                     0.0                 0.0   \n4                     1.0                     0.0                 0.0   \n\n  misc_performance_recov misc_aerial_duels_won misc_aerial_duels_lost  \\\n0                    NaN                   NaN                    NaN   \n1                   63.0                  17.0                   15.0   \n2                   57.0                  23.0                   12.0   \n3                   56.0                  24.0                    9.0   \n4                   65.0                  36.0                   32.0   \n\n  misc_aerial_duels_won% misc_match_report  \n0                    NaN      Match Report  \n1                   53.1      Match Report  \n2                   65.7      Match Report  \n3                   72.7      Match Report  \n4                   52.9      Match Report  \n\n[5 rows x 239 columns]",
      "text/html": "<div>\n<style scoped>\n    .dataframe tbody tr th:only-of-type {\n        vertical-align: middle;\n    }\n\n    .dataframe tbody tr th {\n        vertical-align: top;\n    }\n\n    .dataframe thead th {\n        text-align: right;\n    }\n</style>\n<table border=\"1\" class=\"dataframe\">\n  <thead>\n    <tr style=\"text-align: right;\">\n      <th></th>\n      <th>date</th>\n      <th>time</th>\n      <th>comp</th>\n      <th>round</th>\n      <th>day</th>\n      <th>venue</th>\n      <th>result</th>\n      <th>gf</th>\n      <th>ga</th>\n      <th>opponent</th>\n      <th>...</th>\n      <th>misc_performance_int</th>\n      <th>misc_performance_tklw</th>\n      <th>misc_performance_pkwon</th>\n      <th>misc_performance_pkcon</th>\n      <th>misc_performance_og</th>\n      <th>misc_performance_recov</th>\n      <th>misc_aerial_duels_won</th>\n      <th>misc_aerial_duels_lost</th>\n      <th>misc_aerial_duels_won%</th>\n      <th>misc_match_report</th>\n    </tr>\n  </thead>\n  <tbody>\n    <tr>\n      <th>0</th>\n      <td>2020-09-12</td>\n      <td>15:30</td>\n      <td>DFB-Pokal</td>\n      <td>First round</td>\n      <td>Sat</td>\n      <td>Away</td>\n      <td>W</td>\n      <td>2</td>\n      <td>1</td>\n      <td>1860 Munich</td>\n      <td>...</td>\n      <td>7.0</td>\n      <td>8.0</td>\n      <td>NaN</td>\n      <td>NaN</td>\n      <td>0.0</td>\n      <td>NaN</td>\n      <td>NaN</td>\n      <td>NaN</td>\n      <td>NaN</td>\n      <td>Match Report</td>\n    </tr>\n    <tr>\n      <th>1</th>\n      <td>2020-09-19</td>\n      <td>15:30</td>\n      <td>Bundesliga</td>\n      <td>Matchweek 1</td>\n      <td>Sat</td>\n      <td>Home</td>\n      <td>D</td>\n      <td>1</td>\n      <td>1</td>\n      <td>Arminia</td>\n      <td>...</td>\n      <td>11.0</td>\n      <td>12.0</td>\n      <td>0.0</td>\n      <td>0.0</td>\n      <td>0.0</td>\n      <td>63.0</td>\n      <td>17.0</td>\n      <td>15.0</td>\n      <td>53.1</td>\n      <td>Match Report</td>\n    </tr>\n    <tr>\n      <th>2</th>\n      <td>2020-09-25</td>\n      <td>20:30</td>\n      <td>Bundesliga</td>\n      <td>Matchweek 2</td>\n      <td>Fri</td>\n      <td>Away</td>\n      <td>W</td>\n      <td>3</td>\n      <td>1</td>\n      <td>Hertha BSC</td>\n      <td>...</td>\n      <td>8.0</td>\n      <td>12.0</td>\n      <td>1.0</td>\n      <td>0.0</td>\n      <td>1.0</td>\n      <td>57.0</td>\n      <td>23.0</td>\n      <td>12.0</td>\n      <td>65.7</td>\n      <td>Match Report</td>\n    </tr>\n    <tr>\n      <th>3</th>\n      <td>2020-10-03</td>\n      <td>15:30</td>\n      <td>Bundesliga</td>\n      <td>Matchweek 3</td>\n      <td>Sat</td>\n      <td>Home</td>\n      <td>W</td>\n      <td>2</td>\n      <td>1</td>\n      <td>Hoffenheim</td>\n      <td>...</td>\n      <td>7.0</td>\n      <td>6.0</td>\n      <td>0.0</td>\n      <td>0.0</td>\n      <td>0.0</td>\n      <td>56.0</td>\n      <td>24.0</td>\n      <td>9.0</td>\n      <td>72.7</td>\n      <td>Match Report</td>\n    </tr>\n    <tr>\n      <th>4</th>\n      <td>2020-10-18</td>\n      <td>15:30</td>\n      <td>Bundesliga</td>\n      <td>Matchweek 4</td>\n      <td>Sun</td>\n      <td>Away</td>\n      <td>D</td>\n      <td>1</td>\n      <td>1</td>\n      <td>Köln</td>\n      <td>...</td>\n      <td>7.0</td>\n      <td>10.0</td>\n      <td>1.0</td>\n      <td>0.0</td>\n      <td>0.0</td>\n      <td>65.0</td>\n      <td>36.0</td>\n      <td>32.0</td>\n      <td>52.9</td>\n      <td>Match Report</td>\n    </tr>\n  </tbody>\n</table>\n<p>5 rows × 239 columns</p>\n</div>"
     },
     "execution_count": 90,
     "metadata": {},
     "output_type": "execute_result"
    }
   ],
   "source": [
    "matches_df.head()"
   ],
   "metadata": {
    "collapsed": false,
    "ExecuteTime": {
     "end_time": "2023-10-04T13:51:49.105465422Z",
     "start_time": "2023-10-04T13:51:49.069413650Z"
    }
   },
   "id": "bc30ffc3fa8c5598"
  },
  {
   "cell_type": "code",
   "execution_count": 91,
   "outputs": [
    {
     "data": {
      "text/plain": "            date   time        comp         round  day venue result gf ga  \\\n4420  2022-04-16  18:30  Bundesliga  Matchweek 30  Sat  Away      W  3  1   \n4421  2022-04-23  15:30  Bundesliga  Matchweek 31  Sat  Home      W  3  1   \n4422  2022-04-30  15:30  Bundesliga  Matchweek 32  Sat  Away      W  4  1   \n4423  2022-05-07  15:30  Bundesliga  Matchweek 33  Sat  Home      L  0  1   \n4424  2022-05-14  15:30  Bundesliga  Matchweek 34  Sat  Away      L  1  2   \n\n        opponent  ...  misc_performance_int  misc_performance_tklw  \\\n4420  M'Gladbach  ...                  12.0                   12.0   \n4421     Arminia  ...                   6.0                   12.0   \n4422    Augsburg  ...                   9.0                   16.0   \n4423   Wolfsburg  ...                  11.0                    9.0   \n4424   Stuttgart  ...                   2.0                   14.0   \n\n      misc_performance_pkwon  misc_performance_pkcon misc_performance_og  \\\n4420                     0.0                     0.0                 0.0   \n4421                     0.0                     0.0                 1.0   \n4422                     1.0                     0.0                 0.0   \n4423                     0.0                     0.0                 0.0   \n4424                     0.0                     1.0                 0.0   \n\n     misc_performance_recov misc_aerial_duels_won misc_aerial_duels_lost  \\\n4420                   63.0                  16.0                   14.0   \n4421                   63.0                  20.0                   18.0   \n4422                   54.0                  15.0                   21.0   \n4423                   57.0                  18.0                   25.0   \n4424                   52.0                   7.0                   24.0   \n\n     misc_aerial_duels_won% misc_match_report  \n4420                   53.3      Match Report  \n4421                   52.6      Match Report  \n4422                   41.7      Match Report  \n4423                   41.9      Match Report  \n4424                   22.6      Match Report  \n\n[5 rows x 239 columns]",
      "text/html": "<div>\n<style scoped>\n    .dataframe tbody tr th:only-of-type {\n        vertical-align: middle;\n    }\n\n    .dataframe tbody tr th {\n        vertical-align: top;\n    }\n\n    .dataframe thead th {\n        text-align: right;\n    }\n</style>\n<table border=\"1\" class=\"dataframe\">\n  <thead>\n    <tr style=\"text-align: right;\">\n      <th></th>\n      <th>date</th>\n      <th>time</th>\n      <th>comp</th>\n      <th>round</th>\n      <th>day</th>\n      <th>venue</th>\n      <th>result</th>\n      <th>gf</th>\n      <th>ga</th>\n      <th>opponent</th>\n      <th>...</th>\n      <th>misc_performance_int</th>\n      <th>misc_performance_tklw</th>\n      <th>misc_performance_pkwon</th>\n      <th>misc_performance_pkcon</th>\n      <th>misc_performance_og</th>\n      <th>misc_performance_recov</th>\n      <th>misc_aerial_duels_won</th>\n      <th>misc_aerial_duels_lost</th>\n      <th>misc_aerial_duels_won%</th>\n      <th>misc_match_report</th>\n    </tr>\n  </thead>\n  <tbody>\n    <tr>\n      <th>4420</th>\n      <td>2022-04-16</td>\n      <td>18:30</td>\n      <td>Bundesliga</td>\n      <td>Matchweek 30</td>\n      <td>Sat</td>\n      <td>Away</td>\n      <td>W</td>\n      <td>3</td>\n      <td>1</td>\n      <td>M'Gladbach</td>\n      <td>...</td>\n      <td>12.0</td>\n      <td>12.0</td>\n      <td>0.0</td>\n      <td>0.0</td>\n      <td>0.0</td>\n      <td>63.0</td>\n      <td>16.0</td>\n      <td>14.0</td>\n      <td>53.3</td>\n      <td>Match Report</td>\n    </tr>\n    <tr>\n      <th>4421</th>\n      <td>2022-04-23</td>\n      <td>15:30</td>\n      <td>Bundesliga</td>\n      <td>Matchweek 31</td>\n      <td>Sat</td>\n      <td>Home</td>\n      <td>W</td>\n      <td>3</td>\n      <td>1</td>\n      <td>Arminia</td>\n      <td>...</td>\n      <td>6.0</td>\n      <td>12.0</td>\n      <td>0.0</td>\n      <td>0.0</td>\n      <td>1.0</td>\n      <td>63.0</td>\n      <td>20.0</td>\n      <td>18.0</td>\n      <td>52.6</td>\n      <td>Match Report</td>\n    </tr>\n    <tr>\n      <th>4422</th>\n      <td>2022-04-30</td>\n      <td>15:30</td>\n      <td>Bundesliga</td>\n      <td>Matchweek 32</td>\n      <td>Sat</td>\n      <td>Away</td>\n      <td>W</td>\n      <td>4</td>\n      <td>1</td>\n      <td>Augsburg</td>\n      <td>...</td>\n      <td>9.0</td>\n      <td>16.0</td>\n      <td>1.0</td>\n      <td>0.0</td>\n      <td>0.0</td>\n      <td>54.0</td>\n      <td>15.0</td>\n      <td>21.0</td>\n      <td>41.7</td>\n      <td>Match Report</td>\n    </tr>\n    <tr>\n      <th>4423</th>\n      <td>2022-05-07</td>\n      <td>15:30</td>\n      <td>Bundesliga</td>\n      <td>Matchweek 33</td>\n      <td>Sat</td>\n      <td>Home</td>\n      <td>L</td>\n      <td>0</td>\n      <td>1</td>\n      <td>Wolfsburg</td>\n      <td>...</td>\n      <td>11.0</td>\n      <td>9.0</td>\n      <td>0.0</td>\n      <td>0.0</td>\n      <td>0.0</td>\n      <td>57.0</td>\n      <td>18.0</td>\n      <td>25.0</td>\n      <td>41.9</td>\n      <td>Match Report</td>\n    </tr>\n    <tr>\n      <th>4424</th>\n      <td>2022-05-14</td>\n      <td>15:30</td>\n      <td>Bundesliga</td>\n      <td>Matchweek 34</td>\n      <td>Sat</td>\n      <td>Away</td>\n      <td>L</td>\n      <td>1</td>\n      <td>2</td>\n      <td>Stuttgart</td>\n      <td>...</td>\n      <td>2.0</td>\n      <td>14.0</td>\n      <td>0.0</td>\n      <td>1.0</td>\n      <td>0.0</td>\n      <td>52.0</td>\n      <td>7.0</td>\n      <td>24.0</td>\n      <td>22.6</td>\n      <td>Match Report</td>\n    </tr>\n  </tbody>\n</table>\n<p>5 rows × 239 columns</p>\n</div>"
     },
     "execution_count": 91,
     "metadata": {},
     "output_type": "execute_result"
    }
   ],
   "source": [
    "matches_df.tail()"
   ],
   "metadata": {
    "collapsed": false,
    "ExecuteTime": {
     "end_time": "2023-10-04T13:51:49.117226734Z",
     "start_time": "2023-10-04T13:51:49.069559687Z"
    }
   },
   "id": "755659f029c96e04"
  },
  {
   "cell_type": "markdown",
   "source": [
    "Drop the `notes` and `match_report` columns as they do not provide any useful information."
   ],
   "metadata": {
    "collapsed": false
   },
   "id": "4958737f3c41c098"
  },
  {
   "cell_type": "code",
   "execution_count": 92,
   "outputs": [],
   "source": [
    "matches_df.drop(['notes', 'match_report'], axis=1, inplace=True)"
   ],
   "metadata": {
    "collapsed": false,
    "ExecuteTime": {
     "end_time": "2023-10-04T13:51:49.117427248Z",
     "start_time": "2023-10-04T13:51:49.113398184Z"
    }
   },
   "id": "93faf6493e00bc55"
  },
  {
   "cell_type": "markdown",
   "source": [
    "Find duplicate columns.\n",
    "\n",
    "The following code was borrowed from [https://stackoverflow.com/a/58002867/9553927](https://stackoverflow.com/a/58002867/9553927)."
   ],
   "metadata": {
    "collapsed": false
   },
   "id": "cb98d8c6f2d669df"
  },
  {
   "cell_type": "code",
   "execution_count": 93,
   "outputs": [],
   "source": [
    "def get_list_of_equal_cols(dataframe):\n",
    "    return[(i, j) for i,j in combinations(dataframe, 2) if dataframe[i].equals(dataframe[j])]"
   ],
   "metadata": {
    "collapsed": false,
    "ExecuteTime": {
     "end_time": "2023-10-04T13:51:49.117562042Z",
     "start_time": "2023-10-04T13:51:49.113551556Z"
    }
   },
   "id": "9ae4728576386ba1"
  },
  {
   "cell_type": "code",
   "execution_count": 94,
   "outputs": [
    {
     "data": {
      "text/plain": "[('comp', 'shooting_comp'),\n ('comp', 'keeper_comp'),\n ('comp', 'passing_comp'),\n ('comp', 'passing_types_comp'),\n ('comp', 'gca_comp'),\n ('comp', 'defense_comp'),\n ('comp', 'possession_comp'),\n ('comp', 'misc_comp'),\n ('round', 'shooting_round'),\n ('round', 'keeper_round'),\n ('round', 'passing_round'),\n ('round', 'passing_types_round'),\n ('round', 'gca_round'),\n ('round', 'defense_round'),\n ('round', 'possession_round'),\n ('round', 'misc_round'),\n ('day', 'shooting_day'),\n ('day', 'keeper_day'),\n ('day', 'passing_day'),\n ('day', 'passing_types_day'),\n ('day', 'gca_day'),\n ('day', 'defense_day'),\n ('day', 'possession_day'),\n ('day', 'misc_day'),\n ('venue', 'shooting_venue'),\n ('venue', 'keeper_venue'),\n ('venue', 'passing_venue'),\n ('venue', 'passing_types_venue'),\n ('venue', 'gca_venue'),\n ('venue', 'defense_venue'),\n ('venue', 'possession_venue'),\n ('venue', 'misc_venue'),\n ('result', 'shooting_result'),\n ('result', 'keeper_result'),\n ('result', 'passing_result'),\n ('result', 'passing_types_result'),\n ('result', 'gca_result'),\n ('result', 'defense_result'),\n ('result', 'possession_result'),\n ('result', 'misc_result'),\n ('opponent', 'shooting_opponent'),\n ('opponent', 'keeper_opponent'),\n ('opponent', 'passing_opponent'),\n ('opponent', 'passing_types_opponent'),\n ('opponent', 'gca_opponent'),\n ('opponent', 'defense_opponent'),\n ('opponent', 'possession_opponent'),\n ('opponent', 'misc_opponent'),\n ('xg', 'shooting_expected_xg'),\n ('poss', 'possession_poss'),\n ('shooting_comp', 'keeper_comp'),\n ('shooting_comp', 'passing_comp'),\n ('shooting_comp', 'passing_types_comp'),\n ('shooting_comp', 'gca_comp'),\n ('shooting_comp', 'defense_comp'),\n ('shooting_comp', 'possession_comp'),\n ('shooting_comp', 'misc_comp'),\n ('shooting_round', 'keeper_round'),\n ('shooting_round', 'passing_round'),\n ('shooting_round', 'passing_types_round'),\n ('shooting_round', 'gca_round'),\n ('shooting_round', 'defense_round'),\n ('shooting_round', 'possession_round'),\n ('shooting_round', 'misc_round'),\n ('shooting_day', 'keeper_day'),\n ('shooting_day', 'passing_day'),\n ('shooting_day', 'passing_types_day'),\n ('shooting_day', 'gca_day'),\n ('shooting_day', 'defense_day'),\n ('shooting_day', 'possession_day'),\n ('shooting_day', 'misc_day'),\n ('shooting_venue', 'keeper_venue'),\n ('shooting_venue', 'passing_venue'),\n ('shooting_venue', 'passing_types_venue'),\n ('shooting_venue', 'gca_venue'),\n ('shooting_venue', 'defense_venue'),\n ('shooting_venue', 'possession_venue'),\n ('shooting_venue', 'misc_venue'),\n ('shooting_result', 'keeper_result'),\n ('shooting_result', 'passing_result'),\n ('shooting_result', 'passing_types_result'),\n ('shooting_result', 'gca_result'),\n ('shooting_result', 'defense_result'),\n ('shooting_result', 'possession_result'),\n ('shooting_result', 'misc_result'),\n ('shooting_gf', 'keeper_gf'),\n ('shooting_gf', 'passing_gf'),\n ('shooting_gf', 'passing_types_gf'),\n ('shooting_gf', 'gca_gf'),\n ('shooting_gf', 'defense_gf'),\n ('shooting_gf', 'possession_gf'),\n ('shooting_gf', 'misc_gf'),\n ('shooting_ga', 'keeper_ga'),\n ('shooting_ga', 'passing_ga'),\n ('shooting_ga', 'passing_types_ga'),\n ('shooting_ga', 'gca_ga'),\n ('shooting_ga', 'defense_ga'),\n ('shooting_ga', 'possession_ga'),\n ('shooting_ga', 'misc_ga'),\n ('shooting_opponent', 'keeper_opponent'),\n ('shooting_opponent', 'passing_opponent'),\n ('shooting_opponent', 'passing_types_opponent'),\n ('shooting_opponent', 'gca_opponent'),\n ('shooting_opponent', 'defense_opponent'),\n ('shooting_opponent', 'possession_opponent'),\n ('shooting_opponent', 'misc_opponent'),\n ('shooting_match_report', 'keeper_match_report'),\n ('shooting_match_report', 'passing_match_report'),\n ('shooting_match_report', 'passing_types_match_report'),\n ('shooting_match_report', 'gca_match_report'),\n ('shooting_match_report', 'defense_match_report'),\n ('shooting_match_report', 'possession_match_report'),\n ('shooting_match_report', 'misc_match_report'),\n ('keeper_comp', 'passing_comp'),\n ('keeper_comp', 'passing_types_comp'),\n ('keeper_comp', 'gca_comp'),\n ('keeper_comp', 'defense_comp'),\n ('keeper_comp', 'possession_comp'),\n ('keeper_comp', 'misc_comp'),\n ('keeper_round', 'passing_round'),\n ('keeper_round', 'passing_types_round'),\n ('keeper_round', 'gca_round'),\n ('keeper_round', 'defense_round'),\n ('keeper_round', 'possession_round'),\n ('keeper_round', 'misc_round'),\n ('keeper_day', 'passing_day'),\n ('keeper_day', 'passing_types_day'),\n ('keeper_day', 'gca_day'),\n ('keeper_day', 'defense_day'),\n ('keeper_day', 'possession_day'),\n ('keeper_day', 'misc_day'),\n ('keeper_venue', 'passing_venue'),\n ('keeper_venue', 'passing_types_venue'),\n ('keeper_venue', 'gca_venue'),\n ('keeper_venue', 'defense_venue'),\n ('keeper_venue', 'possession_venue'),\n ('keeper_venue', 'misc_venue'),\n ('keeper_result', 'passing_result'),\n ('keeper_result', 'passing_types_result'),\n ('keeper_result', 'gca_result'),\n ('keeper_result', 'defense_result'),\n ('keeper_result', 'possession_result'),\n ('keeper_result', 'misc_result'),\n ('keeper_gf', 'passing_gf'),\n ('keeper_gf', 'passing_types_gf'),\n ('keeper_gf', 'gca_gf'),\n ('keeper_gf', 'defense_gf'),\n ('keeper_gf', 'possession_gf'),\n ('keeper_gf', 'misc_gf'),\n ('keeper_ga', 'passing_ga'),\n ('keeper_ga', 'passing_types_ga'),\n ('keeper_ga', 'gca_ga'),\n ('keeper_ga', 'defense_ga'),\n ('keeper_ga', 'possession_ga'),\n ('keeper_ga', 'misc_ga'),\n ('keeper_opponent', 'passing_opponent'),\n ('keeper_opponent', 'passing_types_opponent'),\n ('keeper_opponent', 'gca_opponent'),\n ('keeper_opponent', 'defense_opponent'),\n ('keeper_opponent', 'possession_opponent'),\n ('keeper_opponent', 'misc_opponent'),\n ('keeper_match_report', 'passing_match_report'),\n ('keeper_match_report', 'passing_types_match_report'),\n ('keeper_match_report', 'gca_match_report'),\n ('keeper_match_report', 'defense_match_report'),\n ('keeper_match_report', 'possession_match_report'),\n ('keeper_match_report', 'misc_match_report'),\n ('passing_comp', 'passing_types_comp'),\n ('passing_comp', 'gca_comp'),\n ('passing_comp', 'defense_comp'),\n ('passing_comp', 'possession_comp'),\n ('passing_comp', 'misc_comp'),\n ('passing_round', 'passing_types_round'),\n ('passing_round', 'gca_round'),\n ('passing_round', 'defense_round'),\n ('passing_round', 'possession_round'),\n ('passing_round', 'misc_round'),\n ('passing_day', 'passing_types_day'),\n ('passing_day', 'gca_day'),\n ('passing_day', 'defense_day'),\n ('passing_day', 'possession_day'),\n ('passing_day', 'misc_day'),\n ('passing_venue', 'passing_types_venue'),\n ('passing_venue', 'gca_venue'),\n ('passing_venue', 'defense_venue'),\n ('passing_venue', 'possession_venue'),\n ('passing_venue', 'misc_venue'),\n ('passing_result', 'passing_types_result'),\n ('passing_result', 'gca_result'),\n ('passing_result', 'defense_result'),\n ('passing_result', 'possession_result'),\n ('passing_result', 'misc_result'),\n ('passing_gf', 'passing_types_gf'),\n ('passing_gf', 'gca_gf'),\n ('passing_gf', 'defense_gf'),\n ('passing_gf', 'possession_gf'),\n ('passing_gf', 'misc_gf'),\n ('passing_ga', 'passing_types_ga'),\n ('passing_ga', 'gca_ga'),\n ('passing_ga', 'defense_ga'),\n ('passing_ga', 'possession_ga'),\n ('passing_ga', 'misc_ga'),\n ('passing_opponent', 'passing_types_opponent'),\n ('passing_opponent', 'gca_opponent'),\n ('passing_opponent', 'defense_opponent'),\n ('passing_opponent', 'possession_opponent'),\n ('passing_opponent', 'misc_opponent'),\n ('passing_total_cmp', 'passing_types_outcomes_cmp'),\n ('passing_total_att', 'passing_types_att'),\n ('passing_match_report', 'passing_types_match_report'),\n ('passing_match_report', 'gca_match_report'),\n ('passing_match_report', 'defense_match_report'),\n ('passing_match_report', 'possession_match_report'),\n ('passing_match_report', 'misc_match_report'),\n ('passing_types_comp', 'gca_comp'),\n ('passing_types_comp', 'defense_comp'),\n ('passing_types_comp', 'possession_comp'),\n ('passing_types_comp', 'misc_comp'),\n ('passing_types_round', 'gca_round'),\n ('passing_types_round', 'defense_round'),\n ('passing_types_round', 'possession_round'),\n ('passing_types_round', 'misc_round'),\n ('passing_types_day', 'gca_day'),\n ('passing_types_day', 'defense_day'),\n ('passing_types_day', 'possession_day'),\n ('passing_types_day', 'misc_day'),\n ('passing_types_venue', 'gca_venue'),\n ('passing_types_venue', 'defense_venue'),\n ('passing_types_venue', 'possession_venue'),\n ('passing_types_venue', 'misc_venue'),\n ('passing_types_result', 'gca_result'),\n ('passing_types_result', 'defense_result'),\n ('passing_types_result', 'possession_result'),\n ('passing_types_result', 'misc_result'),\n ('passing_types_gf', 'gca_gf'),\n ('passing_types_gf', 'defense_gf'),\n ('passing_types_gf', 'possession_gf'),\n ('passing_types_gf', 'misc_gf'),\n ('passing_types_ga', 'gca_ga'),\n ('passing_types_ga', 'defense_ga'),\n ('passing_types_ga', 'possession_ga'),\n ('passing_types_ga', 'misc_ga'),\n ('passing_types_opponent', 'gca_opponent'),\n ('passing_types_opponent', 'defense_opponent'),\n ('passing_types_opponent', 'possession_opponent'),\n ('passing_types_opponent', 'misc_opponent'),\n ('passing_types_pass_types_crs', 'misc_performance_crs'),\n ('passing_types_match_report', 'gca_match_report'),\n ('passing_types_match_report', 'defense_match_report'),\n ('passing_types_match_report', 'possession_match_report'),\n ('passing_types_match_report', 'misc_match_report'),\n ('gca_comp', 'defense_comp'),\n ('gca_comp', 'possession_comp'),\n ('gca_comp', 'misc_comp'),\n ('gca_round', 'defense_round'),\n ('gca_round', 'possession_round'),\n ('gca_round', 'misc_round'),\n ('gca_day', 'defense_day'),\n ('gca_day', 'possession_day'),\n ('gca_day', 'misc_day'),\n ('gca_venue', 'defense_venue'),\n ('gca_venue', 'possession_venue'),\n ('gca_venue', 'misc_venue'),\n ('gca_result', 'defense_result'),\n ('gca_result', 'possession_result'),\n ('gca_result', 'misc_result'),\n ('gca_gf', 'defense_gf'),\n ('gca_gf', 'possession_gf'),\n ('gca_gf', 'misc_gf'),\n ('gca_ga', 'defense_ga'),\n ('gca_ga', 'possession_ga'),\n ('gca_ga', 'misc_ga'),\n ('gca_opponent', 'defense_opponent'),\n ('gca_opponent', 'possession_opponent'),\n ('gca_opponent', 'misc_opponent'),\n ('gca_match_report', 'defense_match_report'),\n ('gca_match_report', 'possession_match_report'),\n ('gca_match_report', 'misc_match_report'),\n ('defense_comp', 'possession_comp'),\n ('defense_comp', 'misc_comp'),\n ('defense_round', 'possession_round'),\n ('defense_round', 'misc_round'),\n ('defense_day', 'possession_day'),\n ('defense_day', 'misc_day'),\n ('defense_venue', 'possession_venue'),\n ('defense_venue', 'misc_venue'),\n ('defense_result', 'possession_result'),\n ('defense_result', 'misc_result'),\n ('defense_gf', 'possession_gf'),\n ('defense_gf', 'misc_gf'),\n ('defense_ga', 'possession_ga'),\n ('defense_ga', 'misc_ga'),\n ('defense_opponent', 'possession_opponent'),\n ('defense_opponent', 'misc_opponent'),\n ('defense_tackles_tklw', 'misc_performance_tklw'),\n ('defense_int', 'misc_performance_int'),\n ('defense_match_report', 'possession_match_report'),\n ('defense_match_report', 'misc_match_report'),\n ('possession_comp', 'misc_comp'),\n ('possession_round', 'misc_round'),\n ('possession_day', 'misc_day'),\n ('possession_venue', 'misc_venue'),\n ('possession_result', 'misc_result'),\n ('possession_gf', 'misc_gf'),\n ('possession_ga', 'misc_ga'),\n ('possession_opponent', 'misc_opponent'),\n ('possession_match_report', 'misc_match_report')]"
     },
     "execution_count": 94,
     "metadata": {},
     "output_type": "execute_result"
    }
   ],
   "source": [
    "get_list_of_equal_cols(matches_df)"
   ],
   "metadata": {
    "collapsed": false,
    "ExecuteTime": {
     "end_time": "2023-10-04T13:51:49.367547054Z",
     "start_time": "2023-10-04T13:51:49.113661905Z"
    }
   },
   "id": "f63a26393ef384b0"
  },
  {
   "cell_type": "markdown",
   "source": [
    "`comp`, `round`, `day`, `venue`, `result`, `opponent`, `match_report`, `gf` and `ga` have a lot of duplicates."
   ],
   "metadata": {
    "collapsed": false
   },
   "id": "cea93f3264a80841"
  },
  {
   "cell_type": "markdown",
   "source": [
    "Drop all duplicate columns."
   ],
   "metadata": {
    "collapsed": false
   },
   "id": "d606d13cde019115"
  },
  {
   "cell_type": "code",
   "execution_count": 95,
   "outputs": [],
   "source": [
    "regex_of_columns_to_remove = '.+_(comp|round|day|venue|result|opponent|match_report|gf|ga)'\n",
    "matches_df.drop(matches_df.filter(regex=regex_of_columns_to_remove).columns, axis=1, inplace=True)"
   ],
   "metadata": {
    "collapsed": false,
    "ExecuteTime": {
     "end_time": "2023-10-04T13:51:49.373438292Z",
     "start_time": "2023-10-04T13:51:49.371219649Z"
    }
   },
   "id": "c7853a0f3468a6c3"
  },
  {
   "cell_type": "code",
   "execution_count": 96,
   "outputs": [
    {
     "data": {
      "text/plain": "[('xg', 'shooting_expected_xg'),\n ('poss', 'possession_poss'),\n ('passing_total_cmp', 'passing_types_outcomes_cmp'),\n ('passing_total_att', 'passing_types_att'),\n ('passing_types_pass_types_crs', 'misc_performance_crs'),\n ('defense_tackles_tklw', 'misc_performance_tklw'),\n ('defense_int', 'misc_performance_int')]"
     },
     "execution_count": 96,
     "metadata": {},
     "output_type": "execute_result"
    }
   ],
   "source": [
    "remaining_equal_cols = get_list_of_equal_cols(matches_df)\n",
    "remaining_equal_cols"
   ],
   "metadata": {
    "collapsed": false,
    "ExecuteTime": {
     "end_time": "2023-10-04T13:51:49.509029221Z",
     "start_time": "2023-10-04T13:51:49.373575599Z"
    }
   },
   "id": "eae6c02f37ce4b"
  },
  {
   "cell_type": "markdown",
   "source": [
    "Pick the second item (column) from each tuple and drop it from the dataframe."
   ],
   "metadata": {
    "collapsed": false
   },
   "id": "346acca510802a1a"
  },
  {
   "cell_type": "code",
   "execution_count": 97,
   "outputs": [],
   "source": [
    "cols_to_drop = [item[1] for item in remaining_equal_cols]\n",
    "matches_df.drop(cols_to_drop, axis=1, inplace=True)"
   ],
   "metadata": {
    "collapsed": false,
    "ExecuteTime": {
     "end_time": "2023-10-04T13:51:49.513269974Z",
     "start_time": "2023-10-04T13:51:49.509713105Z"
    }
   },
   "id": "d401c6832808d983"
  },
  {
   "cell_type": "markdown",
   "source": [
    "See data types again."
   ],
   "metadata": {
    "collapsed": false
   },
   "id": "38fb5980ee1dea24"
  },
  {
   "cell_type": "code",
   "execution_count": 98,
   "outputs": [
    {
     "name": "stdout",
     "output_type": "stream",
     "text": [
      "<class 'pandas.core.frame.DataFrame'>\n",
      "RangeIndex: 4425 entries, 0 to 4424\n",
      "Data columns (total 157 columns):\n",
      " #    Column                          Non-Null Count  Dtype  \n",
      "---   ------                          --------------  -----  \n",
      " 0    date                            4425 non-null   object \n",
      " 1    time                            4425 non-null   object \n",
      " 2    comp                            4425 non-null   object \n",
      " 3    round                           4425 non-null   object \n",
      " 4    day                             4425 non-null   object \n",
      " 5    venue                           4425 non-null   object \n",
      " 6    result                          4425 non-null   object \n",
      " 7    gf                              4425 non-null   object \n",
      " 8    ga                              4425 non-null   object \n",
      " 9    opponent                        4425 non-null   object \n",
      " 10   xg                              4039 non-null   float64\n",
      " 11   xga                             4039 non-null   float64\n",
      " 12   poss                            4393 non-null   float64\n",
      " 13   attendance                      3560 non-null   float64\n",
      " 14   captain                         4413 non-null   object \n",
      " 15   formation                       4413 non-null   object \n",
      " 16   referee                         4413 non-null   object \n",
      " 17   team                            4425 non-null   object \n",
      " 18   shooting_standard_gls           4413 non-null   float64\n",
      " 19   shooting_standard_sh            4393 non-null   float64\n",
      " 20   shooting_standard_sot           4393 non-null   float64\n",
      " 21   shooting_standard_sot%          4391 non-null   float64\n",
      " 22   shooting_standard_g/sh          4391 non-null   float64\n",
      " 23   shooting_standard_g/sot         4272 non-null   float64\n",
      " 24   shooting_standard_dist          4038 non-null   float64\n",
      " 25   shooting_standard_fk            4039 non-null   float64\n",
      " 26   shooting_standard_pk            4413 non-null   float64\n",
      " 27   shooting_standard_pkatt         4413 non-null   float64\n",
      " 28   shooting_expected_npxg          4039 non-null   float64\n",
      " 29   shooting_expected_npxg/sh       4037 non-null   float64\n",
      " 30   shooting_expected_g-xg          4039 non-null   float64\n",
      " 31   shooting_expected_np:g-xg       4039 non-null   float64\n",
      " 32   keeper_performance_sota         4392 non-null   float64\n",
      " 33   keeper_performance_saves        4392 non-null   float64\n",
      " 34   keeper_performance_save%        4261 non-null   float64\n",
      " 35   keeper_performance_cs           4404 non-null   float64\n",
      " 36   keeper_performance_psxg         4039 non-null   float64\n",
      " 37   keeper_performance_psxg+/-      4039 non-null   float64\n",
      " 38   keeper_penalty_kicks_pkatt      4413 non-null   float64\n",
      " 39   keeper_penalty_kicks_pka        4413 non-null   float64\n",
      " 40   keeper_penalty_kicks_pksv       4413 non-null   float64\n",
      " 41   keeper_penalty_kicks_pkm        4413 non-null   float64\n",
      " 42   keeper_launched_cmp             4039 non-null   float64\n",
      " 43   keeper_launched_att             4039 non-null   float64\n",
      " 44   keeper_launched_cmp%            4023 non-null   float64\n",
      " 45   keeper_passes_att               4039 non-null   float64\n",
      " 46   keeper_passes_thr               4039 non-null   float64\n",
      " 47   keeper_passes_launch%           4039 non-null   float64\n",
      " 48   keeper_passes_avglen            4039 non-null   float64\n",
      " 49   keeper_goal_kicks_att           4039 non-null   float64\n",
      " 50   keeper_goal_kicks_launch%       4033 non-null   float64\n",
      " 51   keeper_goal_kicks_avglen        4033 non-null   float64\n",
      " 52   keeper_crosses_opp              4039 non-null   float64\n",
      " 53   keeper_crosses_stp              4039 non-null   float64\n",
      " 54   keeper_crosses_stp%             4038 non-null   float64\n",
      " 55   keeper_sweeper_#opa             4039 non-null   float64\n",
      " 56   keeper_sweeper_avgdist          3882 non-null   float64\n",
      " 57   passing_total_cmp               4039 non-null   float64\n",
      " 58   passing_total_att               4039 non-null   float64\n",
      " 59   passing_total_cmp%              4039 non-null   float64\n",
      " 60   passing_total_totdist           4039 non-null   float64\n",
      " 61   passing_total_prgdist           4039 non-null   float64\n",
      " 62   passing_short_cmp               4039 non-null   float64\n",
      " 63   passing_short_att               4039 non-null   float64\n",
      " 64   passing_short_cmp%              4039 non-null   float64\n",
      " 65   passing_medium_cmp              4039 non-null   float64\n",
      " 66   passing_medium_att              4039 non-null   float64\n",
      " 67   passing_medium_cmp%             4039 non-null   float64\n",
      " 68   passing_long_cmp                4039 non-null   float64\n",
      " 69   passing_long_att                4039 non-null   float64\n",
      " 70   passing_long_cmp%               4039 non-null   float64\n",
      " 71   passing_ast                     4413 non-null   float64\n",
      " 72   passing_xag                     4039 non-null   float64\n",
      " 73   passing_xa                      4039 non-null   float64\n",
      " 74   passing_kp                      4039 non-null   float64\n",
      " 75   passing_1/3                     4039 non-null   float64\n",
      " 76   passing_ppa                     4039 non-null   float64\n",
      " 77   passing_crspa                   4039 non-null   float64\n",
      " 78   passing_prgp                    4039 non-null   float64\n",
      " 79   passing_types_pass_types_live   4039 non-null   float64\n",
      " 80   passing_types_pass_types_dead   4039 non-null   float64\n",
      " 81   passing_types_pass_types_fk     4039 non-null   float64\n",
      " 82   passing_types_pass_types_tb     4039 non-null   float64\n",
      " 83   passing_types_pass_types_sw     4039 non-null   float64\n",
      " 84   passing_types_pass_types_crs    4392 non-null   float64\n",
      " 85   passing_types_pass_types_ti     4039 non-null   float64\n",
      " 86   passing_types_pass_types_ck     4039 non-null   float64\n",
      " 87   passing_types_corner_kicks_in   4039 non-null   float64\n",
      " 88   passing_types_corner_kicks_out  4039 non-null   float64\n",
      " 89   passing_types_corner_kicks_str  4039 non-null   float64\n",
      " 90   passing_types_outcomes_off      4039 non-null   float64\n",
      " 91   passing_types_outcomes_blocks   4039 non-null   float64\n",
      " 92   gca_sca_types_sca               4039 non-null   float64\n",
      " 93   gca_sca_types_passlive          4039 non-null   float64\n",
      " 94   gca_sca_types_passdead          4039 non-null   float64\n",
      " 95   gca_sca_types_to                4039 non-null   float64\n",
      " 96   gca_sca_types_sh                4039 non-null   float64\n",
      " 97   gca_sca_types_fld               4039 non-null   float64\n",
      " 98   gca_sca_types_def               4039 non-null   float64\n",
      " 99   gca_gca_types_gca               4039 non-null   float64\n",
      " 100  gca_gca_types_passlive          4039 non-null   float64\n",
      " 101  gca_gca_types_passdead          4039 non-null   float64\n",
      " 102  gca_gca_types_to                4039 non-null   float64\n",
      " 103  gca_gca_types_sh                4039 non-null   float64\n",
      " 104  gca_gca_types_fld               4039 non-null   float64\n",
      " 105  gca_gca_types_def               4039 non-null   float64\n",
      " 106  defense_tackles_tkl             4039 non-null   float64\n",
      " 107  defense_tackles_tklw            4392 non-null   float64\n",
      " 108  defense_tackles_def_3rd         4039 non-null   float64\n",
      " 109  defense_tackles_mid_3rd         4039 non-null   float64\n",
      " 110  defense_tackles_att_3rd         4039 non-null   float64\n",
      " 111  defense_challenges_tkl          4039 non-null   float64\n",
      " 112  defense_challenges_att          4039 non-null   float64\n",
      " 113  defense_challenges_tkl%         4039 non-null   float64\n",
      " 114  defense_challenges_lost         4039 non-null   float64\n",
      " 115  defense_blocks_blocks           4039 non-null   float64\n",
      " 116  defense_blocks_sh               4039 non-null   float64\n",
      " 117  defense_blocks_pass             4039 non-null   float64\n",
      " 118  defense_int                     4392 non-null   float64\n",
      " 119  defense_tkl+int                 4425 non-null   int64  \n",
      " 120  defense_clr                     4039 non-null   float64\n",
      " 121  defense_err                     4039 non-null   float64\n",
      " 122  possession_touches_touches      4039 non-null   float64\n",
      " 123  possession_touches_def_pen      4039 non-null   float64\n",
      " 124  possession_touches_def_3rd      4039 non-null   float64\n",
      " 125  possession_touches_mid_3rd      4039 non-null   float64\n",
      " 126  possession_touches_att_3rd      4039 non-null   float64\n",
      " 127  possession_touches_att_pen      4039 non-null   float64\n",
      " 128  possession_touches_live         4039 non-null   float64\n",
      " 129  possession_take-ons_att         4039 non-null   float64\n",
      " 130  possession_take-ons_succ        4039 non-null   float64\n",
      " 131  possession_take-ons_succ%       4039 non-null   float64\n",
      " 132  possession_take-ons_tkld        4039 non-null   float64\n",
      " 133  possession_take-ons_tkld%       4039 non-null   float64\n",
      " 134  possession_carries_carries      4039 non-null   float64\n",
      " 135  possession_carries_totdist      4039 non-null   float64\n",
      " 136  possession_carries_prgdist      4039 non-null   float64\n",
      " 137  possession_carries_prgc         4039 non-null   float64\n",
      " 138  possession_carries_1/3          4039 non-null   float64\n",
      " 139  possession_carries_cpa          4039 non-null   float64\n",
      " 140  possession_carries_mis          4039 non-null   float64\n",
      " 141  possession_carries_dis          4039 non-null   float64\n",
      " 142  possession_receiving_rec        4039 non-null   float64\n",
      " 143  possession_receiving_prgr       4039 non-null   float64\n",
      " 144  misc_performance_crdy           4413 non-null   float64\n",
      " 145  misc_performance_crdr           4413 non-null   float64\n",
      " 146  misc_performance_2crdy          4413 non-null   float64\n",
      " 147  misc_performance_fls            4392 non-null   float64\n",
      " 148  misc_performance_fld            4392 non-null   float64\n",
      " 149  misc_performance_off            4392 non-null   float64\n",
      " 150  misc_performance_pkwon          4043 non-null   float64\n",
      " 151  misc_performance_pkcon          4043 non-null   float64\n",
      " 152  misc_performance_og             4410 non-null   float64\n",
      " 153  misc_performance_recov          4039 non-null   float64\n",
      " 154  misc_aerial_duels_won           4039 non-null   float64\n",
      " 155  misc_aerial_duels_lost          4039 non-null   float64\n",
      " 156  misc_aerial_duels_won%          4039 non-null   float64\n",
      "dtypes: float64(142), int64(1), object(14)\n",
      "memory usage: 5.3+ MB\n"
     ]
    }
   ],
   "source": [
    "matches_df.info(verbose=True, show_counts=True)"
   ],
   "metadata": {
    "collapsed": false,
    "ExecuteTime": {
     "end_time": "2023-10-04T13:51:49.561627749Z",
     "start_time": "2023-10-04T13:51:49.514165057Z"
    }
   },
   "id": "39d442ada0a24f19"
  },
  {
   "cell_type": "markdown",
   "source": [
    "## Convert data types"
   ],
   "metadata": {
    "collapsed": false
   },
   "id": "245d1a248e08e958"
  },
  {
   "cell_type": "markdown",
   "source": [
    "Out of the 14 `object(string)` dtype columns, `gf` and `ga` are supposed to be numeric(`float` or `int`)."
   ],
   "metadata": {
    "collapsed": false
   },
   "id": "3f8e6e3fa8ca4f36"
  },
  {
   "cell_type": "markdown",
   "source": [
    "Check the unique values of `gf`."
   ],
   "metadata": {
    "collapsed": false
   },
   "id": "54af486827ddc055"
  },
  {
   "cell_type": "code",
   "execution_count": 99,
   "outputs": [
    {
     "data": {
      "text/plain": "['2',\n '1',\n '3',\n '0',\n '5',\n '4',\n '6',\n '1 (6)',\n '3 (5)',\n '2 (4)',\n '0.0',\n '1.0',\n '3.0',\n '8.0',\n '2.0',\n '4.0',\n '7',\n '1 (3)',\n '8',\n '2 (3)',\n '3 (2)',\n '2 (5)',\n '1 (5)',\n '4 (5)',\n '1 (2)',\n '1 (4)',\n '11',\n '2 (8)',\n '2 (6)',\n '2 (0)',\n '3 (3)',\n '3 (4)',\n '9',\n '12']"
     },
     "execution_count": 99,
     "metadata": {},
     "output_type": "execute_result"
    }
   ],
   "source": [
    "matches_df['gf'].unique().tolist()"
   ],
   "metadata": {
    "collapsed": false,
    "ExecuteTime": {
     "end_time": "2023-10-04T13:51:49.561931698Z",
     "start_time": "2023-10-04T13:51:49.561340563Z"
    }
   },
   "id": "785e8cdade05df14"
  },
  {
   "cell_type": "markdown",
   "source": [
    "Show matches where `gf` was `2 (5)`."
   ],
   "metadata": {
    "collapsed": false
   },
   "id": "9e8e4b8c0d2d9e4d"
  },
  {
   "cell_type": "code",
   "execution_count": 100,
   "outputs": [
    {
     "data": {
      "text/plain": "            date   time          comp         round  day venue result     gf  \\\n1213  2017-08-05  20:30  DFL-Supercup  DFL-Supercup  Sat  Away      D  2 (5)   \n2317  2021-01-13  20:45     DFB-Pokal  Second round  Wed  Away      D  2 (5)   \n3231  2018-08-20  18:30     DFB-Pokal   First round  Mon  Away      D  2 (5)   \n4261  2021-10-27  18:30     DFB-Pokal   Round of 32  Wed  Home      D  2 (5)   \n\n         ga         opponent  ...  misc_performance_fls  misc_performance_fld  \\\n1213  2 (4)         Dortmund  ...                   NaN                   NaN   \n2317  2 (6)    Holstein Kiel  ...                  14.0                  17.0   \n3231  2 (3)  Energie Cottbus  ...                  19.0                  16.0   \n4261  2 (4)         Augsburg  ...                  13.0                  15.0   \n\n      misc_performance_off  misc_performance_pkwon misc_performance_pkcon  \\\n1213                   NaN                     NaN                    NaN   \n2317                   3.0                     NaN                    NaN   \n3231                   1.0                     NaN                    NaN   \n4261                   0.0                     NaN                    NaN   \n\n     misc_performance_og misc_performance_recov misc_aerial_duels_won  \\\n1213                 0.0                    NaN                   NaN   \n2317                 0.0                    NaN                   NaN   \n3231                 0.0                    NaN                   NaN   \n4261                 0.0                    NaN                   NaN   \n\n      misc_aerial_duels_lost  misc_aerial_duels_won%  \n1213                     NaN                     NaN  \n2317                     NaN                     NaN  \n3231                     NaN                     NaN  \n4261                     NaN                     NaN  \n\n[4 rows x 157 columns]",
      "text/html": "<div>\n<style scoped>\n    .dataframe tbody tr th:only-of-type {\n        vertical-align: middle;\n    }\n\n    .dataframe tbody tr th {\n        vertical-align: top;\n    }\n\n    .dataframe thead th {\n        text-align: right;\n    }\n</style>\n<table border=\"1\" class=\"dataframe\">\n  <thead>\n    <tr style=\"text-align: right;\">\n      <th></th>\n      <th>date</th>\n      <th>time</th>\n      <th>comp</th>\n      <th>round</th>\n      <th>day</th>\n      <th>venue</th>\n      <th>result</th>\n      <th>gf</th>\n      <th>ga</th>\n      <th>opponent</th>\n      <th>...</th>\n      <th>misc_performance_fls</th>\n      <th>misc_performance_fld</th>\n      <th>misc_performance_off</th>\n      <th>misc_performance_pkwon</th>\n      <th>misc_performance_pkcon</th>\n      <th>misc_performance_og</th>\n      <th>misc_performance_recov</th>\n      <th>misc_aerial_duels_won</th>\n      <th>misc_aerial_duels_lost</th>\n      <th>misc_aerial_duels_won%</th>\n    </tr>\n  </thead>\n  <tbody>\n    <tr>\n      <th>1213</th>\n      <td>2017-08-05</td>\n      <td>20:30</td>\n      <td>DFL-Supercup</td>\n      <td>DFL-Supercup</td>\n      <td>Sat</td>\n      <td>Away</td>\n      <td>D</td>\n      <td>2 (5)</td>\n      <td>2 (4)</td>\n      <td>Dortmund</td>\n      <td>...</td>\n      <td>NaN</td>\n      <td>NaN</td>\n      <td>NaN</td>\n      <td>NaN</td>\n      <td>NaN</td>\n      <td>0.0</td>\n      <td>NaN</td>\n      <td>NaN</td>\n      <td>NaN</td>\n      <td>NaN</td>\n    </tr>\n    <tr>\n      <th>2317</th>\n      <td>2021-01-13</td>\n      <td>20:45</td>\n      <td>DFB-Pokal</td>\n      <td>Second round</td>\n      <td>Wed</td>\n      <td>Away</td>\n      <td>D</td>\n      <td>2 (5)</td>\n      <td>2 (6)</td>\n      <td>Holstein Kiel</td>\n      <td>...</td>\n      <td>14.0</td>\n      <td>17.0</td>\n      <td>3.0</td>\n      <td>NaN</td>\n      <td>NaN</td>\n      <td>0.0</td>\n      <td>NaN</td>\n      <td>NaN</td>\n      <td>NaN</td>\n      <td>NaN</td>\n    </tr>\n    <tr>\n      <th>3231</th>\n      <td>2018-08-20</td>\n      <td>18:30</td>\n      <td>DFB-Pokal</td>\n      <td>First round</td>\n      <td>Mon</td>\n      <td>Away</td>\n      <td>D</td>\n      <td>2 (5)</td>\n      <td>2 (3)</td>\n      <td>Energie Cottbus</td>\n      <td>...</td>\n      <td>19.0</td>\n      <td>16.0</td>\n      <td>1.0</td>\n      <td>NaN</td>\n      <td>NaN</td>\n      <td>0.0</td>\n      <td>NaN</td>\n      <td>NaN</td>\n      <td>NaN</td>\n      <td>NaN</td>\n    </tr>\n    <tr>\n      <th>4261</th>\n      <td>2021-10-27</td>\n      <td>18:30</td>\n      <td>DFB-Pokal</td>\n      <td>Round of 32</td>\n      <td>Wed</td>\n      <td>Home</td>\n      <td>D</td>\n      <td>2 (5)</td>\n      <td>2 (4)</td>\n      <td>Augsburg</td>\n      <td>...</td>\n      <td>13.0</td>\n      <td>15.0</td>\n      <td>0.0</td>\n      <td>NaN</td>\n      <td>NaN</td>\n      <td>0.0</td>\n      <td>NaN</td>\n      <td>NaN</td>\n      <td>NaN</td>\n      <td>NaN</td>\n    </tr>\n  </tbody>\n</table>\n<p>4 rows × 157 columns</p>\n</div>"
     },
     "execution_count": 100,
     "metadata": {},
     "output_type": "execute_result"
    }
   ],
   "source": [
    "matches_df[matches_df['gf'] == '2 (5)']"
   ],
   "metadata": {
    "collapsed": false,
    "ExecuteTime": {
     "end_time": "2023-10-04T13:51:49.627722024Z",
     "start_time": "2023-10-04T13:51:49.561477521Z"
    }
   },
   "id": "26639faab5004a82"
  },
  {
   "cell_type": "markdown",
   "source": [
    "Upon looking on the Internet, it seems that the number in the parentheses is goals scored in the penalty shootout.\n",
    "\n",
    "The nature of penalty shootouts is that they are not part of the match itself. Therefore, they should not be included in the `gf` column. Moreover, since the number of goals is always a whole number, get the number before the dot. Finally, convert both `gf` and `ga` to `int`."
   ],
   "metadata": {
    "collapsed": false
   },
   "id": "d7e48f83bbead73"
  },
  {
   "cell_type": "code",
   "execution_count": 101,
   "outputs": [],
   "source": [
    "matches_df['gf'] = matches_df['gf'].str.split(' ').str[0]\n",
    "matches_df['gf'] = matches_df['gf'].str.split('.').str[0]\n",
    "matches_df['gf'] = matches_df['gf'].astype('int')\n",
    "\n",
    "matches_df['ga'] = matches_df['ga'].str.split(' ').str[0]\n",
    "matches_df['ga'] = matches_df['ga'].str.split('.').str[0]\n",
    "matches_df['ga'] = matches_df['ga'].astype('int')"
   ],
   "metadata": {
    "collapsed": false,
    "ExecuteTime": {
     "end_time": "2023-10-04T13:51:49.720511388Z",
     "start_time": "2023-10-04T13:51:49.605326355Z"
    }
   },
   "id": "9d397221c2ffe14d"
  },
  {
   "cell_type": "markdown",
   "source": [
    "## Look at basic statistics"
   ],
   "metadata": {
    "collapsed": false
   },
   "id": "9fda82c7cb48b836"
  },
  {
   "cell_type": "markdown",
   "source": [
    "Show basic statistics."
   ],
   "metadata": {
    "collapsed": false
   },
   "id": "2008d97d4f44b13b"
  },
  {
   "cell_type": "code",
   "execution_count": 102,
   "outputs": [
    {
     "data": {
      "text/plain": "                gf           ga           xg          xga         poss  \\\ncount  4425.000000  4425.000000  4039.000000  4039.000000  4393.000000   \nmean      1.630960     1.503729     1.489354     1.456078    50.916913   \nstd       1.419029     1.330559     0.852480     0.836276    11.446664   \nmin       0.000000     0.000000     0.000000     0.000000    17.000000   \n25%       1.000000     1.000000     0.900000     0.800000    43.000000   \n50%       1.000000     1.000000     1.300000     1.300000    51.000000   \n75%       2.000000     2.000000     2.000000     1.900000    59.000000   \nmax      12.000000     8.000000     5.600000     5.600000    84.000000   \n\n         attendance  shooting_standard_gls  shooting_standard_sh  \\\ncount   3560.000000            4413.000000           4393.000000   \nmean   37084.585112               1.587809             13.222627   \nstd    20263.103919               1.400138              5.472324   \nmin      100.000000               0.000000              0.000000   \n25%    23703.000000               1.000000              9.000000   \n50%    33305.000000               1.000000             13.000000   \n75%    50000.000000               2.000000             16.000000   \nmax    90071.000000              11.000000             44.000000   \n\n       shooting_standard_sot  shooting_standard_sot%  ...  \\\ncount            4393.000000             4391.000000  ...   \nmean                4.635101               35.027465  ...   \nstd                 2.697823               15.335462  ...   \nmin                 0.000000                0.000000  ...   \n25%                 3.000000               25.000000  ...   \n50%                 4.000000               33.300000  ...   \n75%                 6.000000               44.400000  ...   \nmax                21.000000              100.000000  ...   \n\n       misc_performance_fls  misc_performance_fld  misc_performance_off  \\\ncount           4392.000000           4392.000000           4392.000000   \nmean              12.401867             11.675546              2.018670   \nstd                3.944321              3.869443              1.650964   \nmin                2.000000              2.000000              0.000000   \n25%               10.000000              9.000000              1.000000   \n50%               12.000000             11.000000              2.000000   \n75%               15.000000             14.000000              3.000000   \nmax               29.000000             28.000000             10.000000   \n\n       misc_performance_pkwon  misc_performance_pkcon  misc_performance_og  \\\ncount             4043.000000             4043.000000          4410.000000   \nmean                 0.114519                0.154093             0.039002   \nstd                  0.335134                0.384960             0.195951   \nmin                  0.000000                0.000000             0.000000   \n25%                  0.000000                0.000000             0.000000   \n50%                  0.000000                0.000000             0.000000   \n75%                  0.000000                0.000000             0.000000   \nmax                  3.000000                3.000000             2.000000   \n\n       misc_performance_recov  misc_aerial_duels_won  misc_aerial_duels_lost  \\\ncount             4039.000000            4039.000000             4039.000000   \nmean                54.479327              16.865066               16.834613   \nstd                 10.226509               6.948823                6.925692   \nmin                 13.000000               0.000000                0.000000   \n25%                 48.000000              12.000000               12.000000   \n50%                 55.000000              16.000000               16.000000   \n75%                 61.000000              21.000000               21.000000   \nmax                 93.000000              49.000000               49.000000   \n\n       misc_aerial_duels_won%  \ncount             4039.000000  \nmean                50.023595  \nstd                 10.242490  \nmin                  0.000000  \n25%                 43.300000  \n50%                 50.000000  \n75%                 57.100000  \nmax                100.000000  \n\n[8 rows x 145 columns]",
      "text/html": "<div>\n<style scoped>\n    .dataframe tbody tr th:only-of-type {\n        vertical-align: middle;\n    }\n\n    .dataframe tbody tr th {\n        vertical-align: top;\n    }\n\n    .dataframe thead th {\n        text-align: right;\n    }\n</style>\n<table border=\"1\" class=\"dataframe\">\n  <thead>\n    <tr style=\"text-align: right;\">\n      <th></th>\n      <th>gf</th>\n      <th>ga</th>\n      <th>xg</th>\n      <th>xga</th>\n      <th>poss</th>\n      <th>attendance</th>\n      <th>shooting_standard_gls</th>\n      <th>shooting_standard_sh</th>\n      <th>shooting_standard_sot</th>\n      <th>shooting_standard_sot%</th>\n      <th>...</th>\n      <th>misc_performance_fls</th>\n      <th>misc_performance_fld</th>\n      <th>misc_performance_off</th>\n      <th>misc_performance_pkwon</th>\n      <th>misc_performance_pkcon</th>\n      <th>misc_performance_og</th>\n      <th>misc_performance_recov</th>\n      <th>misc_aerial_duels_won</th>\n      <th>misc_aerial_duels_lost</th>\n      <th>misc_aerial_duels_won%</th>\n    </tr>\n  </thead>\n  <tbody>\n    <tr>\n      <th>count</th>\n      <td>4425.000000</td>\n      <td>4425.000000</td>\n      <td>4039.000000</td>\n      <td>4039.000000</td>\n      <td>4393.000000</td>\n      <td>3560.000000</td>\n      <td>4413.000000</td>\n      <td>4393.000000</td>\n      <td>4393.000000</td>\n      <td>4391.000000</td>\n      <td>...</td>\n      <td>4392.000000</td>\n      <td>4392.000000</td>\n      <td>4392.000000</td>\n      <td>4043.000000</td>\n      <td>4043.000000</td>\n      <td>4410.000000</td>\n      <td>4039.000000</td>\n      <td>4039.000000</td>\n      <td>4039.000000</td>\n      <td>4039.000000</td>\n    </tr>\n    <tr>\n      <th>mean</th>\n      <td>1.630960</td>\n      <td>1.503729</td>\n      <td>1.489354</td>\n      <td>1.456078</td>\n      <td>50.916913</td>\n      <td>37084.585112</td>\n      <td>1.587809</td>\n      <td>13.222627</td>\n      <td>4.635101</td>\n      <td>35.027465</td>\n      <td>...</td>\n      <td>12.401867</td>\n      <td>11.675546</td>\n      <td>2.018670</td>\n      <td>0.114519</td>\n      <td>0.154093</td>\n      <td>0.039002</td>\n      <td>54.479327</td>\n      <td>16.865066</td>\n      <td>16.834613</td>\n      <td>50.023595</td>\n    </tr>\n    <tr>\n      <th>std</th>\n      <td>1.419029</td>\n      <td>1.330559</td>\n      <td>0.852480</td>\n      <td>0.836276</td>\n      <td>11.446664</td>\n      <td>20263.103919</td>\n      <td>1.400138</td>\n      <td>5.472324</td>\n      <td>2.697823</td>\n      <td>15.335462</td>\n      <td>...</td>\n      <td>3.944321</td>\n      <td>3.869443</td>\n      <td>1.650964</td>\n      <td>0.335134</td>\n      <td>0.384960</td>\n      <td>0.195951</td>\n      <td>10.226509</td>\n      <td>6.948823</td>\n      <td>6.925692</td>\n      <td>10.242490</td>\n    </tr>\n    <tr>\n      <th>min</th>\n      <td>0.000000</td>\n      <td>0.000000</td>\n      <td>0.000000</td>\n      <td>0.000000</td>\n      <td>17.000000</td>\n      <td>100.000000</td>\n      <td>0.000000</td>\n      <td>0.000000</td>\n      <td>0.000000</td>\n      <td>0.000000</td>\n      <td>...</td>\n      <td>2.000000</td>\n      <td>2.000000</td>\n      <td>0.000000</td>\n      <td>0.000000</td>\n      <td>0.000000</td>\n      <td>0.000000</td>\n      <td>13.000000</td>\n      <td>0.000000</td>\n      <td>0.000000</td>\n      <td>0.000000</td>\n    </tr>\n    <tr>\n      <th>25%</th>\n      <td>1.000000</td>\n      <td>1.000000</td>\n      <td>0.900000</td>\n      <td>0.800000</td>\n      <td>43.000000</td>\n      <td>23703.000000</td>\n      <td>1.000000</td>\n      <td>9.000000</td>\n      <td>3.000000</td>\n      <td>25.000000</td>\n      <td>...</td>\n      <td>10.000000</td>\n      <td>9.000000</td>\n      <td>1.000000</td>\n      <td>0.000000</td>\n      <td>0.000000</td>\n      <td>0.000000</td>\n      <td>48.000000</td>\n      <td>12.000000</td>\n      <td>12.000000</td>\n      <td>43.300000</td>\n    </tr>\n    <tr>\n      <th>50%</th>\n      <td>1.000000</td>\n      <td>1.000000</td>\n      <td>1.300000</td>\n      <td>1.300000</td>\n      <td>51.000000</td>\n      <td>33305.000000</td>\n      <td>1.000000</td>\n      <td>13.000000</td>\n      <td>4.000000</td>\n      <td>33.300000</td>\n      <td>...</td>\n      <td>12.000000</td>\n      <td>11.000000</td>\n      <td>2.000000</td>\n      <td>0.000000</td>\n      <td>0.000000</td>\n      <td>0.000000</td>\n      <td>55.000000</td>\n      <td>16.000000</td>\n      <td>16.000000</td>\n      <td>50.000000</td>\n    </tr>\n    <tr>\n      <th>75%</th>\n      <td>2.000000</td>\n      <td>2.000000</td>\n      <td>2.000000</td>\n      <td>1.900000</td>\n      <td>59.000000</td>\n      <td>50000.000000</td>\n      <td>2.000000</td>\n      <td>16.000000</td>\n      <td>6.000000</td>\n      <td>44.400000</td>\n      <td>...</td>\n      <td>15.000000</td>\n      <td>14.000000</td>\n      <td>3.000000</td>\n      <td>0.000000</td>\n      <td>0.000000</td>\n      <td>0.000000</td>\n      <td>61.000000</td>\n      <td>21.000000</td>\n      <td>21.000000</td>\n      <td>57.100000</td>\n    </tr>\n    <tr>\n      <th>max</th>\n      <td>12.000000</td>\n      <td>8.000000</td>\n      <td>5.600000</td>\n      <td>5.600000</td>\n      <td>84.000000</td>\n      <td>90071.000000</td>\n      <td>11.000000</td>\n      <td>44.000000</td>\n      <td>21.000000</td>\n      <td>100.000000</td>\n      <td>...</td>\n      <td>29.000000</td>\n      <td>28.000000</td>\n      <td>10.000000</td>\n      <td>3.000000</td>\n      <td>3.000000</td>\n      <td>2.000000</td>\n      <td>93.000000</td>\n      <td>49.000000</td>\n      <td>49.000000</td>\n      <td>100.000000</td>\n    </tr>\n  </tbody>\n</table>\n<p>8 rows × 145 columns</p>\n</div>"
     },
     "execution_count": 102,
     "metadata": {},
     "output_type": "execute_result"
    }
   ],
   "source": [
    "matches_df.describe()"
   ],
   "metadata": {
    "collapsed": false,
    "ExecuteTime": {
     "end_time": "2023-10-04T13:51:49.912797376Z",
     "start_time": "2023-10-04T13:51:49.686648995Z"
    }
   },
   "id": "22170fe679043133"
  },
  {
   "cell_type": "markdown",
   "source": [
    "See statistics about `object(string)` columns."
   ],
   "metadata": {
    "collapsed": false
   },
   "id": "6fd90385f1ad453a"
  },
  {
   "cell_type": "code",
   "execution_count": 103,
   "outputs": [
    {
     "data": {
      "text/plain": "              date   time        comp        round   day venue result  \\\ncount         4425   4425        4425         4425  4425  4425   4425   \nunique         928     32           8           51     7     3      3   \ntop     2022-05-14  15:30  Bundesliga  Group stage   Sat  Away      W   \nfreq            18   2277        3682          243  2304  2273   1796   \n\n             opponent       captain formation      referee           team  \ncount            4425          4413      4413         4413           4425  \nunique            199           186        22          171             27  \ntop     Bayern Munich  Manuel Neuer   4-2-3-1  Felix Brych  Bayern Munich  \nfreq              225           191      1175          228            297  ",
      "text/html": "<div>\n<style scoped>\n    .dataframe tbody tr th:only-of-type {\n        vertical-align: middle;\n    }\n\n    .dataframe tbody tr th {\n        vertical-align: top;\n    }\n\n    .dataframe thead th {\n        text-align: right;\n    }\n</style>\n<table border=\"1\" class=\"dataframe\">\n  <thead>\n    <tr style=\"text-align: right;\">\n      <th></th>\n      <th>date</th>\n      <th>time</th>\n      <th>comp</th>\n      <th>round</th>\n      <th>day</th>\n      <th>venue</th>\n      <th>result</th>\n      <th>opponent</th>\n      <th>captain</th>\n      <th>formation</th>\n      <th>referee</th>\n      <th>team</th>\n    </tr>\n  </thead>\n  <tbody>\n    <tr>\n      <th>count</th>\n      <td>4425</td>\n      <td>4425</td>\n      <td>4425</td>\n      <td>4425</td>\n      <td>4425</td>\n      <td>4425</td>\n      <td>4425</td>\n      <td>4425</td>\n      <td>4413</td>\n      <td>4413</td>\n      <td>4413</td>\n      <td>4425</td>\n    </tr>\n    <tr>\n      <th>unique</th>\n      <td>928</td>\n      <td>32</td>\n      <td>8</td>\n      <td>51</td>\n      <td>7</td>\n      <td>3</td>\n      <td>3</td>\n      <td>199</td>\n      <td>186</td>\n      <td>22</td>\n      <td>171</td>\n      <td>27</td>\n    </tr>\n    <tr>\n      <th>top</th>\n      <td>2022-05-14</td>\n      <td>15:30</td>\n      <td>Bundesliga</td>\n      <td>Group stage</td>\n      <td>Sat</td>\n      <td>Away</td>\n      <td>W</td>\n      <td>Bayern Munich</td>\n      <td>Manuel Neuer</td>\n      <td>4-2-3-1</td>\n      <td>Felix Brych</td>\n      <td>Bayern Munich</td>\n    </tr>\n    <tr>\n      <th>freq</th>\n      <td>18</td>\n      <td>2277</td>\n      <td>3682</td>\n      <td>243</td>\n      <td>2304</td>\n      <td>2273</td>\n      <td>1796</td>\n      <td>225</td>\n      <td>191</td>\n      <td>1175</td>\n      <td>228</td>\n      <td>297</td>\n    </tr>\n  </tbody>\n</table>\n</div>"
     },
     "execution_count": 103,
     "metadata": {},
     "output_type": "execute_result"
    }
   ],
   "source": [
    "matches_df.describe(include=object)"
   ],
   "metadata": {
    "collapsed": false,
    "ExecuteTime": {
     "end_time": "2023-10-04T13:51:49.913253019Z",
     "start_time": "2023-10-04T13:51:49.865281325Z"
    }
   },
   "id": "8516f7f6d594108a"
  },
  {
   "cell_type": "markdown",
   "source": [
    "A big portion of the matches are played in the `Bundesliga` but there are `8` competitions in the dataset.\n",
    "`team` and `opponent` have very different values, probably due to the fact that matches outside of `Bundesliga` are included."
   ],
   "metadata": {
    "collapsed": false
   },
   "id": "a90a3baf118519e8"
  },
  {
   "cell_type": "markdown",
   "source": [
    "`venue` shows 3 unique values. `Home` and `Away` are obvious but check the third value."
   ],
   "metadata": {
    "collapsed": false
   },
   "id": "fb2ebee87d7202ac"
  },
  {
   "cell_type": "code",
   "execution_count": 104,
   "outputs": [
    {
     "data": {
      "text/plain": "Away       2273\nHome       2137\nNeutral      15\nName: venue, dtype: int64"
     },
     "execution_count": 104,
     "metadata": {},
     "output_type": "execute_result"
    }
   ],
   "source": [
    "matches_df['venue'].value_counts()"
   ],
   "metadata": {
    "collapsed": false,
    "ExecuteTime": {
     "end_time": "2023-10-04T13:53:45.790970807Z",
     "start_time": "2023-10-04T13:53:45.775351401Z"
    }
   },
   "id": "d796bb4c74d87516"
  },
  {
   "cell_type": "markdown",
   "source": [
    "## Explore matches from `Bundesliga` and other competitions"
   ],
   "metadata": {
    "collapsed": false
   },
   "id": "5e4b523b79253165"
  },
  {
   "cell_type": "code",
   "execution_count": 107,
   "outputs": [
    {
     "data": {
      "text/plain": "          date   time        comp         round  day venue result  gf  ga  \\\n1   2020-09-19  15:30  Bundesliga   Matchweek 1  Sat  Home      D   1   1   \n2   2020-09-25  20:30  Bundesliga   Matchweek 2  Fri  Away      W   3   1   \n3   2020-10-03  15:30  Bundesliga   Matchweek 3  Sat  Home      W   2   1   \n4   2020-10-18  15:30  Bundesliga   Matchweek 4  Sun  Away      D   1   1   \n5   2020-10-24  15:30  Bundesliga   Matchweek 5  Sat  Away      L   0   5   \n0   2020-09-12  15:30   DFB-Pokal   First round  Sat  Away      W   2   1   \n16  2021-01-12  20:45   DFB-Pokal  Second round  Tue  Away      L   1   4   \n36  2018-08-20  18:30   DFB-Pokal   First round  Mon  Away      W   2   1   \n46  2018-10-30  18:30   DFB-Pokal  Second round  Tue  Away      W   2   0   \n58  2019-02-06  20:45   DFB-Pokal   Round of 16  Wed  Home      L   2   3   \n\n         opponent  ...  misc_performance_fls  misc_performance_fld  \\\n1         Arminia  ...                  14.0                  11.0   \n2      Hertha BSC  ...                  16.0                  13.0   \n3      Hoffenheim  ...                  12.0                   7.0   \n4            Köln  ...                  18.0                  18.0   \n5   Bayern Munich  ...                  12.0                  10.0   \n0     1860 Munich  ...                  10.0                  13.0   \n16     Leverkusen  ...                  15.0                   7.0   \n36   Braunschweig  ...                   8.0                  13.0   \n46   Darmstadt 98  ...                  14.0                  11.0   \n58  Bayern Munich  ...                  16.0                  11.0   \n\n    misc_performance_off  misc_performance_pkwon misc_performance_pkcon  \\\n1                    2.0                     0.0                    0.0   \n2                    0.0                     1.0                    0.0   \n3                    9.0                     0.0                    0.0   \n4                    0.0                     1.0                    0.0   \n5                    7.0                     0.0                    0.0   \n0                    6.0                     NaN                    NaN   \n16                   6.0                     NaN                    NaN   \n36                   1.0                     NaN                    NaN   \n46                   2.0                     NaN                    NaN   \n58                   2.0                     NaN                    NaN   \n\n   misc_performance_og misc_performance_recov misc_aerial_duels_won  \\\n1                  0.0                   63.0                  17.0   \n2                  1.0                   57.0                  23.0   \n3                  0.0                   56.0                  24.0   \n4                  0.0                   65.0                  36.0   \n5                  0.0                   66.0                  12.0   \n0                  0.0                    NaN                   NaN   \n16                 0.0                    NaN                   NaN   \n36                 0.0                    NaN                   NaN   \n46                 0.0                    NaN                   NaN   \n58                 0.0                    NaN                   NaN   \n\n    misc_aerial_duels_lost  misc_aerial_duels_won%  \n1                     15.0                    53.1  \n2                     12.0                    65.7  \n3                      9.0                    72.7  \n4                     32.0                    52.9  \n5                      8.0                    60.0  \n0                      NaN                     NaN  \n16                     NaN                     NaN  \n36                     NaN                     NaN  \n46                     NaN                     NaN  \n58                     NaN                     NaN  \n\n[10 rows x 157 columns]",
      "text/html": "<div>\n<style scoped>\n    .dataframe tbody tr th:only-of-type {\n        vertical-align: middle;\n    }\n\n    .dataframe tbody tr th {\n        vertical-align: top;\n    }\n\n    .dataframe thead th {\n        text-align: right;\n    }\n</style>\n<table border=\"1\" class=\"dataframe\">\n  <thead>\n    <tr style=\"text-align: right;\">\n      <th></th>\n      <th>date</th>\n      <th>time</th>\n      <th>comp</th>\n      <th>round</th>\n      <th>day</th>\n      <th>venue</th>\n      <th>result</th>\n      <th>gf</th>\n      <th>ga</th>\n      <th>opponent</th>\n      <th>...</th>\n      <th>misc_performance_fls</th>\n      <th>misc_performance_fld</th>\n      <th>misc_performance_off</th>\n      <th>misc_performance_pkwon</th>\n      <th>misc_performance_pkcon</th>\n      <th>misc_performance_og</th>\n      <th>misc_performance_recov</th>\n      <th>misc_aerial_duels_won</th>\n      <th>misc_aerial_duels_lost</th>\n      <th>misc_aerial_duels_won%</th>\n    </tr>\n  </thead>\n  <tbody>\n    <tr>\n      <th>1</th>\n      <td>2020-09-19</td>\n      <td>15:30</td>\n      <td>Bundesliga</td>\n      <td>Matchweek 1</td>\n      <td>Sat</td>\n      <td>Home</td>\n      <td>D</td>\n      <td>1</td>\n      <td>1</td>\n      <td>Arminia</td>\n      <td>...</td>\n      <td>14.0</td>\n      <td>11.0</td>\n      <td>2.0</td>\n      <td>0.0</td>\n      <td>0.0</td>\n      <td>0.0</td>\n      <td>63.0</td>\n      <td>17.0</td>\n      <td>15.0</td>\n      <td>53.1</td>\n    </tr>\n    <tr>\n      <th>2</th>\n      <td>2020-09-25</td>\n      <td>20:30</td>\n      <td>Bundesliga</td>\n      <td>Matchweek 2</td>\n      <td>Fri</td>\n      <td>Away</td>\n      <td>W</td>\n      <td>3</td>\n      <td>1</td>\n      <td>Hertha BSC</td>\n      <td>...</td>\n      <td>16.0</td>\n      <td>13.0</td>\n      <td>0.0</td>\n      <td>1.0</td>\n      <td>0.0</td>\n      <td>1.0</td>\n      <td>57.0</td>\n      <td>23.0</td>\n      <td>12.0</td>\n      <td>65.7</td>\n    </tr>\n    <tr>\n      <th>3</th>\n      <td>2020-10-03</td>\n      <td>15:30</td>\n      <td>Bundesliga</td>\n      <td>Matchweek 3</td>\n      <td>Sat</td>\n      <td>Home</td>\n      <td>W</td>\n      <td>2</td>\n      <td>1</td>\n      <td>Hoffenheim</td>\n      <td>...</td>\n      <td>12.0</td>\n      <td>7.0</td>\n      <td>9.0</td>\n      <td>0.0</td>\n      <td>0.0</td>\n      <td>0.0</td>\n      <td>56.0</td>\n      <td>24.0</td>\n      <td>9.0</td>\n      <td>72.7</td>\n    </tr>\n    <tr>\n      <th>4</th>\n      <td>2020-10-18</td>\n      <td>15:30</td>\n      <td>Bundesliga</td>\n      <td>Matchweek 4</td>\n      <td>Sun</td>\n      <td>Away</td>\n      <td>D</td>\n      <td>1</td>\n      <td>1</td>\n      <td>Köln</td>\n      <td>...</td>\n      <td>18.0</td>\n      <td>18.0</td>\n      <td>0.0</td>\n      <td>1.0</td>\n      <td>0.0</td>\n      <td>0.0</td>\n      <td>65.0</td>\n      <td>36.0</td>\n      <td>32.0</td>\n      <td>52.9</td>\n    </tr>\n    <tr>\n      <th>5</th>\n      <td>2020-10-24</td>\n      <td>15:30</td>\n      <td>Bundesliga</td>\n      <td>Matchweek 5</td>\n      <td>Sat</td>\n      <td>Away</td>\n      <td>L</td>\n      <td>0</td>\n      <td>5</td>\n      <td>Bayern Munich</td>\n      <td>...</td>\n      <td>12.0</td>\n      <td>10.0</td>\n      <td>7.0</td>\n      <td>0.0</td>\n      <td>0.0</td>\n      <td>0.0</td>\n      <td>66.0</td>\n      <td>12.0</td>\n      <td>8.0</td>\n      <td>60.0</td>\n    </tr>\n    <tr>\n      <th>0</th>\n      <td>2020-09-12</td>\n      <td>15:30</td>\n      <td>DFB-Pokal</td>\n      <td>First round</td>\n      <td>Sat</td>\n      <td>Away</td>\n      <td>W</td>\n      <td>2</td>\n      <td>1</td>\n      <td>1860 Munich</td>\n      <td>...</td>\n      <td>10.0</td>\n      <td>13.0</td>\n      <td>6.0</td>\n      <td>NaN</td>\n      <td>NaN</td>\n      <td>0.0</td>\n      <td>NaN</td>\n      <td>NaN</td>\n      <td>NaN</td>\n      <td>NaN</td>\n    </tr>\n    <tr>\n      <th>16</th>\n      <td>2021-01-12</td>\n      <td>20:45</td>\n      <td>DFB-Pokal</td>\n      <td>Second round</td>\n      <td>Tue</td>\n      <td>Away</td>\n      <td>L</td>\n      <td>1</td>\n      <td>4</td>\n      <td>Leverkusen</td>\n      <td>...</td>\n      <td>15.0</td>\n      <td>7.0</td>\n      <td>6.0</td>\n      <td>NaN</td>\n      <td>NaN</td>\n      <td>0.0</td>\n      <td>NaN</td>\n      <td>NaN</td>\n      <td>NaN</td>\n      <td>NaN</td>\n    </tr>\n    <tr>\n      <th>36</th>\n      <td>2018-08-20</td>\n      <td>18:30</td>\n      <td>DFB-Pokal</td>\n      <td>First round</td>\n      <td>Mon</td>\n      <td>Away</td>\n      <td>W</td>\n      <td>2</td>\n      <td>1</td>\n      <td>Braunschweig</td>\n      <td>...</td>\n      <td>8.0</td>\n      <td>13.0</td>\n      <td>1.0</td>\n      <td>NaN</td>\n      <td>NaN</td>\n      <td>0.0</td>\n      <td>NaN</td>\n      <td>NaN</td>\n      <td>NaN</td>\n      <td>NaN</td>\n    </tr>\n    <tr>\n      <th>46</th>\n      <td>2018-10-30</td>\n      <td>18:30</td>\n      <td>DFB-Pokal</td>\n      <td>Second round</td>\n      <td>Tue</td>\n      <td>Away</td>\n      <td>W</td>\n      <td>2</td>\n      <td>0</td>\n      <td>Darmstadt 98</td>\n      <td>...</td>\n      <td>14.0</td>\n      <td>11.0</td>\n      <td>2.0</td>\n      <td>NaN</td>\n      <td>NaN</td>\n      <td>0.0</td>\n      <td>NaN</td>\n      <td>NaN</td>\n      <td>NaN</td>\n      <td>NaN</td>\n    </tr>\n    <tr>\n      <th>58</th>\n      <td>2019-02-06</td>\n      <td>20:45</td>\n      <td>DFB-Pokal</td>\n      <td>Round of 16</td>\n      <td>Wed</td>\n      <td>Home</td>\n      <td>L</td>\n      <td>2</td>\n      <td>3</td>\n      <td>Bayern Munich</td>\n      <td>...</td>\n      <td>16.0</td>\n      <td>11.0</td>\n      <td>2.0</td>\n      <td>NaN</td>\n      <td>NaN</td>\n      <td>0.0</td>\n      <td>NaN</td>\n      <td>NaN</td>\n      <td>NaN</td>\n      <td>NaN</td>\n    </tr>\n  </tbody>\n</table>\n<p>10 rows × 157 columns</p>\n</div>"
     },
     "execution_count": 107,
     "metadata": {},
     "output_type": "execute_result"
    }
   ],
   "source": [
    "bundesliga_matches_df = matches_df[matches_df['comp'] == 'Bundesliga'].head()\n",
    "other_matches_df = matches_df[matches_df['comp'] != 'Bundesliga'].head()\n",
    "\n",
    "combined_df = pd.concat([bundesliga_matches_df, other_matches_df])\n",
    "combined_df"
   ],
   "metadata": {
    "collapsed": false,
    "ExecuteTime": {
     "end_time": "2023-10-04T13:57:33.914071519Z",
     "start_time": "2023-10-04T13:57:33.869539601Z"
    }
   },
   "id": "4d4f5897f050a4c0"
  },
  {
   "cell_type": "markdown",
   "source": [
    "Matches from other competitions seem to have lots of `NaN` values.\n",
    "\n",
    "Assign a `NaNs` column to show how many `NaN` values there are in each row."
   ],
   "metadata": {
    "collapsed": false
   },
   "id": "eb7fa446548a80a3"
  },
  {
   "cell_type": "code",
   "execution_count": 108,
   "outputs": [
    {
     "data": {
      "text/plain": "    NaNs        date   time        comp         round  day venue result  gf  \\\n1      0  2020-09-19  15:30  Bundesliga   Matchweek 1  Sat  Home      D   1   \n2      0  2020-09-25  20:30  Bundesliga   Matchweek 2  Fri  Away      W   3   \n3      0  2020-10-03  15:30  Bundesliga   Matchweek 3  Sat  Home      W   2   \n4      0  2020-10-18  15:30  Bundesliga   Matchweek 4  Sun  Away      D   1   \n5      1  2020-10-24  15:30  Bundesliga   Matchweek 5  Sat  Away      L   0   \n0    114  2020-09-12  15:30   DFB-Pokal   First round  Sat  Away      W   2   \n16   114  2021-01-12  20:45   DFB-Pokal  Second round  Tue  Away      L   1   \n36   113  2018-08-20  18:30   DFB-Pokal   First round  Mon  Away      W   2   \n46   114  2018-10-30  18:30   DFB-Pokal  Second round  Tue  Away      W   2   \n58   113  2019-02-06  20:45   DFB-Pokal   Round of 16  Wed  Home      L   2   \n\n    ga  ... misc_performance_fls  misc_performance_fld  misc_performance_off  \\\n1    1  ...                 14.0                  11.0                   2.0   \n2    1  ...                 16.0                  13.0                   0.0   \n3    1  ...                 12.0                   7.0                   9.0   \n4    1  ...                 18.0                  18.0                   0.0   \n5    5  ...                 12.0                  10.0                   7.0   \n0    1  ...                 10.0                  13.0                   6.0   \n16   4  ...                 15.0                   7.0                   6.0   \n36   1  ...                  8.0                  13.0                   1.0   \n46   0  ...                 14.0                  11.0                   2.0   \n58   3  ...                 16.0                  11.0                   2.0   \n\n    misc_performance_pkwon  misc_performance_pkcon misc_performance_og  \\\n1                      0.0                     0.0                 0.0   \n2                      1.0                     0.0                 1.0   \n3                      0.0                     0.0                 0.0   \n4                      1.0                     0.0                 0.0   \n5                      0.0                     0.0                 0.0   \n0                      NaN                     NaN                 0.0   \n16                     NaN                     NaN                 0.0   \n36                     NaN                     NaN                 0.0   \n46                     NaN                     NaN                 0.0   \n58                     NaN                     NaN                 0.0   \n\n   misc_performance_recov misc_aerial_duels_won misc_aerial_duels_lost  \\\n1                    63.0                  17.0                   15.0   \n2                    57.0                  23.0                   12.0   \n3                    56.0                  24.0                    9.0   \n4                    65.0                  36.0                   32.0   \n5                    66.0                  12.0                    8.0   \n0                     NaN                   NaN                    NaN   \n16                    NaN                   NaN                    NaN   \n36                    NaN                   NaN                    NaN   \n46                    NaN                   NaN                    NaN   \n58                    NaN                   NaN                    NaN   \n\n    misc_aerial_duels_won%  \n1                     53.1  \n2                     65.7  \n3                     72.7  \n4                     52.9  \n5                     60.0  \n0                      NaN  \n16                     NaN  \n36                     NaN  \n46                     NaN  \n58                     NaN  \n\n[10 rows x 158 columns]",
      "text/html": "<div>\n<style scoped>\n    .dataframe tbody tr th:only-of-type {\n        vertical-align: middle;\n    }\n\n    .dataframe tbody tr th {\n        vertical-align: top;\n    }\n\n    .dataframe thead th {\n        text-align: right;\n    }\n</style>\n<table border=\"1\" class=\"dataframe\">\n  <thead>\n    <tr style=\"text-align: right;\">\n      <th></th>\n      <th>NaNs</th>\n      <th>date</th>\n      <th>time</th>\n      <th>comp</th>\n      <th>round</th>\n      <th>day</th>\n      <th>venue</th>\n      <th>result</th>\n      <th>gf</th>\n      <th>ga</th>\n      <th>...</th>\n      <th>misc_performance_fls</th>\n      <th>misc_performance_fld</th>\n      <th>misc_performance_off</th>\n      <th>misc_performance_pkwon</th>\n      <th>misc_performance_pkcon</th>\n      <th>misc_performance_og</th>\n      <th>misc_performance_recov</th>\n      <th>misc_aerial_duels_won</th>\n      <th>misc_aerial_duels_lost</th>\n      <th>misc_aerial_duels_won%</th>\n    </tr>\n  </thead>\n  <tbody>\n    <tr>\n      <th>1</th>\n      <td>0</td>\n      <td>2020-09-19</td>\n      <td>15:30</td>\n      <td>Bundesliga</td>\n      <td>Matchweek 1</td>\n      <td>Sat</td>\n      <td>Home</td>\n      <td>D</td>\n      <td>1</td>\n      <td>1</td>\n      <td>...</td>\n      <td>14.0</td>\n      <td>11.0</td>\n      <td>2.0</td>\n      <td>0.0</td>\n      <td>0.0</td>\n      <td>0.0</td>\n      <td>63.0</td>\n      <td>17.0</td>\n      <td>15.0</td>\n      <td>53.1</td>\n    </tr>\n    <tr>\n      <th>2</th>\n      <td>0</td>\n      <td>2020-09-25</td>\n      <td>20:30</td>\n      <td>Bundesliga</td>\n      <td>Matchweek 2</td>\n      <td>Fri</td>\n      <td>Away</td>\n      <td>W</td>\n      <td>3</td>\n      <td>1</td>\n      <td>...</td>\n      <td>16.0</td>\n      <td>13.0</td>\n      <td>0.0</td>\n      <td>1.0</td>\n      <td>0.0</td>\n      <td>1.0</td>\n      <td>57.0</td>\n      <td>23.0</td>\n      <td>12.0</td>\n      <td>65.7</td>\n    </tr>\n    <tr>\n      <th>3</th>\n      <td>0</td>\n      <td>2020-10-03</td>\n      <td>15:30</td>\n      <td>Bundesliga</td>\n      <td>Matchweek 3</td>\n      <td>Sat</td>\n      <td>Home</td>\n      <td>W</td>\n      <td>2</td>\n      <td>1</td>\n      <td>...</td>\n      <td>12.0</td>\n      <td>7.0</td>\n      <td>9.0</td>\n      <td>0.0</td>\n      <td>0.0</td>\n      <td>0.0</td>\n      <td>56.0</td>\n      <td>24.0</td>\n      <td>9.0</td>\n      <td>72.7</td>\n    </tr>\n    <tr>\n      <th>4</th>\n      <td>0</td>\n      <td>2020-10-18</td>\n      <td>15:30</td>\n      <td>Bundesliga</td>\n      <td>Matchweek 4</td>\n      <td>Sun</td>\n      <td>Away</td>\n      <td>D</td>\n      <td>1</td>\n      <td>1</td>\n      <td>...</td>\n      <td>18.0</td>\n      <td>18.0</td>\n      <td>0.0</td>\n      <td>1.0</td>\n      <td>0.0</td>\n      <td>0.0</td>\n      <td>65.0</td>\n      <td>36.0</td>\n      <td>32.0</td>\n      <td>52.9</td>\n    </tr>\n    <tr>\n      <th>5</th>\n      <td>1</td>\n      <td>2020-10-24</td>\n      <td>15:30</td>\n      <td>Bundesliga</td>\n      <td>Matchweek 5</td>\n      <td>Sat</td>\n      <td>Away</td>\n      <td>L</td>\n      <td>0</td>\n      <td>5</td>\n      <td>...</td>\n      <td>12.0</td>\n      <td>10.0</td>\n      <td>7.0</td>\n      <td>0.0</td>\n      <td>0.0</td>\n      <td>0.0</td>\n      <td>66.0</td>\n      <td>12.0</td>\n      <td>8.0</td>\n      <td>60.0</td>\n    </tr>\n    <tr>\n      <th>0</th>\n      <td>114</td>\n      <td>2020-09-12</td>\n      <td>15:30</td>\n      <td>DFB-Pokal</td>\n      <td>First round</td>\n      <td>Sat</td>\n      <td>Away</td>\n      <td>W</td>\n      <td>2</td>\n      <td>1</td>\n      <td>...</td>\n      <td>10.0</td>\n      <td>13.0</td>\n      <td>6.0</td>\n      <td>NaN</td>\n      <td>NaN</td>\n      <td>0.0</td>\n      <td>NaN</td>\n      <td>NaN</td>\n      <td>NaN</td>\n      <td>NaN</td>\n    </tr>\n    <tr>\n      <th>16</th>\n      <td>114</td>\n      <td>2021-01-12</td>\n      <td>20:45</td>\n      <td>DFB-Pokal</td>\n      <td>Second round</td>\n      <td>Tue</td>\n      <td>Away</td>\n      <td>L</td>\n      <td>1</td>\n      <td>4</td>\n      <td>...</td>\n      <td>15.0</td>\n      <td>7.0</td>\n      <td>6.0</td>\n      <td>NaN</td>\n      <td>NaN</td>\n      <td>0.0</td>\n      <td>NaN</td>\n      <td>NaN</td>\n      <td>NaN</td>\n      <td>NaN</td>\n    </tr>\n    <tr>\n      <th>36</th>\n      <td>113</td>\n      <td>2018-08-20</td>\n      <td>18:30</td>\n      <td>DFB-Pokal</td>\n      <td>First round</td>\n      <td>Mon</td>\n      <td>Away</td>\n      <td>W</td>\n      <td>2</td>\n      <td>1</td>\n      <td>...</td>\n      <td>8.0</td>\n      <td>13.0</td>\n      <td>1.0</td>\n      <td>NaN</td>\n      <td>NaN</td>\n      <td>0.0</td>\n      <td>NaN</td>\n      <td>NaN</td>\n      <td>NaN</td>\n      <td>NaN</td>\n    </tr>\n    <tr>\n      <th>46</th>\n      <td>114</td>\n      <td>2018-10-30</td>\n      <td>18:30</td>\n      <td>DFB-Pokal</td>\n      <td>Second round</td>\n      <td>Tue</td>\n      <td>Away</td>\n      <td>W</td>\n      <td>2</td>\n      <td>0</td>\n      <td>...</td>\n      <td>14.0</td>\n      <td>11.0</td>\n      <td>2.0</td>\n      <td>NaN</td>\n      <td>NaN</td>\n      <td>0.0</td>\n      <td>NaN</td>\n      <td>NaN</td>\n      <td>NaN</td>\n      <td>NaN</td>\n    </tr>\n    <tr>\n      <th>58</th>\n      <td>113</td>\n      <td>2019-02-06</td>\n      <td>20:45</td>\n      <td>DFB-Pokal</td>\n      <td>Round of 16</td>\n      <td>Wed</td>\n      <td>Home</td>\n      <td>L</td>\n      <td>2</td>\n      <td>3</td>\n      <td>...</td>\n      <td>16.0</td>\n      <td>11.0</td>\n      <td>2.0</td>\n      <td>NaN</td>\n      <td>NaN</td>\n      <td>0.0</td>\n      <td>NaN</td>\n      <td>NaN</td>\n      <td>NaN</td>\n      <td>NaN</td>\n    </tr>\n  </tbody>\n</table>\n<p>10 rows × 158 columns</p>\n</div>"
     },
     "execution_count": 108,
     "metadata": {},
     "output_type": "execute_result"
    }
   ],
   "source": [
    "combined_df.insert(loc=0, column='NaNs', value=combined_df.isnull().sum(axis=1))\n",
    "combined_df"
   ],
   "metadata": {
    "collapsed": false,
    "ExecuteTime": {
     "end_time": "2023-10-04T13:58:45.910463705Z",
     "start_time": "2023-10-04T13:58:45.898190606Z"
    }
   },
   "id": "9062cf13e3ae2d67"
  },
  {
   "cell_type": "markdown",
   "source": [
    "Matches from other competitions miss a lot of data. It's better to drop them. Even more so when the model will be focused on the `Bundesliga` matches."
   ],
   "metadata": {
    "collapsed": false
   },
   "id": "673a51c6039b1a1d"
  },
  {
   "cell_type": "code",
   "execution_count": 109,
   "outputs": [],
   "source": [
    "matches_df = matches_df[matches_df['comp'] == 'Bundesliga']"
   ],
   "metadata": {
    "collapsed": false,
    "ExecuteTime": {
     "end_time": "2023-10-04T13:59:55.865753687Z",
     "start_time": "2023-10-04T13:59:55.823509827Z"
    }
   },
   "id": "268091c95f04cab"
  },
  {
   "cell_type": "markdown",
   "source": [
    "## Reexplore data"
   ],
   "metadata": {
    "collapsed": false
   },
   "id": "7644df45b1d47d11"
  },
  {
   "cell_type": "markdown",
   "source": [
    "See the shape of the data - rows and columns."
   ],
   "metadata": {
    "collapsed": false
   },
   "id": "6aa621909b904533"
  },
  {
   "cell_type": "code",
   "execution_count": 110,
   "outputs": [
    {
     "data": {
      "text/plain": "(3682, 157)"
     },
     "execution_count": 110,
     "metadata": {},
     "output_type": "execute_result"
    }
   ],
   "source": [
    "matches_df.shape"
   ],
   "metadata": {
    "collapsed": false,
    "ExecuteTime": {
     "end_time": "2023-10-04T14:00:30.945874640Z",
     "start_time": "2023-10-04T14:00:30.901300043Z"
    }
   },
   "id": "5077bc066a193cba"
  },
  {
   "cell_type": "markdown",
   "source": [
    "The dataset is still big enough to work with. ~800 matches got dropped."
   ],
   "metadata": {
    "collapsed": false
   },
   "id": "aae077ec6efd01ae"
  },
  {
   "cell_type": "code",
   "execution_count": 112,
   "outputs": [
    {
     "name": "stdout",
     "output_type": "stream",
     "text": [
      "<class 'pandas.core.frame.DataFrame'>\n",
      "Int64Index: 3682 entries, 1 to 4424\n",
      "Data columns (total 157 columns):\n",
      " #    Column                          Non-Null Count  Dtype  \n",
      "---   ------                          --------------  -----  \n",
      " 0    date                            3682 non-null   object \n",
      " 1    time                            3682 non-null   object \n",
      " 2    comp                            3682 non-null   object \n",
      " 3    round                           3682 non-null   object \n",
      " 4    day                             3682 non-null   object \n",
      " 5    venue                           3682 non-null   object \n",
      " 6    result                          3682 non-null   object \n",
      " 7    gf                              3682 non-null   int64  \n",
      " 8    ga                              3682 non-null   int64  \n",
      " 9    opponent                        3682 non-null   object \n",
      " 10   xg                              3680 non-null   float64\n",
      " 11   xga                             3680 non-null   float64\n",
      " 12   poss                            3682 non-null   float64\n",
      " 13   attendance                      2938 non-null   float64\n",
      " 14   captain                         3682 non-null   object \n",
      " 15   formation                       3682 non-null   object \n",
      " 16   referee                         3682 non-null   object \n",
      " 17   team                            3682 non-null   object \n",
      " 18   shooting_standard_gls           3682 non-null   float64\n",
      " 19   shooting_standard_sh            3682 non-null   float64\n",
      " 20   shooting_standard_sot           3682 non-null   float64\n",
      " 21   shooting_standard_sot%          3681 non-null   float64\n",
      " 22   shooting_standard_g/sh          3681 non-null   float64\n",
      " 23   shooting_standard_g/sot         3570 non-null   float64\n",
      " 24   shooting_standard_dist          3679 non-null   float64\n",
      " 25   shooting_standard_fk            3680 non-null   float64\n",
      " 26   shooting_standard_pk            3682 non-null   float64\n",
      " 27   shooting_standard_pkatt         3682 non-null   float64\n",
      " 28   shooting_expected_npxg          3680 non-null   float64\n",
      " 29   shooting_expected_npxg/sh       3678 non-null   float64\n",
      " 30   shooting_expected_g-xg          3680 non-null   float64\n",
      " 31   shooting_expected_np:g-xg       3680 non-null   float64\n",
      " 32   keeper_performance_sota         3682 non-null   float64\n",
      " 33   keeper_performance_saves        3682 non-null   float64\n",
      " 34   keeper_performance_save%        3583 non-null   float64\n",
      " 35   keeper_performance_cs           3682 non-null   float64\n",
      " 36   keeper_performance_psxg         3680 non-null   float64\n",
      " 37   keeper_performance_psxg+/-      3680 non-null   float64\n",
      " 38   keeper_penalty_kicks_pkatt      3682 non-null   float64\n",
      " 39   keeper_penalty_kicks_pka        3682 non-null   float64\n",
      " 40   keeper_penalty_kicks_pksv       3682 non-null   float64\n",
      " 41   keeper_penalty_kicks_pkm        3682 non-null   float64\n",
      " 42   keeper_launched_cmp             3680 non-null   float64\n",
      " 43   keeper_launched_att             3680 non-null   float64\n",
      " 44   keeper_launched_cmp%            3667 non-null   float64\n",
      " 45   keeper_passes_att               3680 non-null   float64\n",
      " 46   keeper_passes_thr               3680 non-null   float64\n",
      " 47   keeper_passes_launch%           3680 non-null   float64\n",
      " 48   keeper_passes_avglen            3680 non-null   float64\n",
      " 49   keeper_goal_kicks_att           3680 non-null   float64\n",
      " 50   keeper_goal_kicks_launch%       3676 non-null   float64\n",
      " 51   keeper_goal_kicks_avglen        3676 non-null   float64\n",
      " 52   keeper_crosses_opp              3680 non-null   float64\n",
      " 53   keeper_crosses_stp              3680 non-null   float64\n",
      " 54   keeper_crosses_stp%             3680 non-null   float64\n",
      " 55   keeper_sweeper_#opa             3680 non-null   float64\n",
      " 56   keeper_sweeper_avgdist          3545 non-null   float64\n",
      " 57   passing_total_cmp               3680 non-null   float64\n",
      " 58   passing_total_att               3680 non-null   float64\n",
      " 59   passing_total_cmp%              3680 non-null   float64\n",
      " 60   passing_total_totdist           3680 non-null   float64\n",
      " 61   passing_total_prgdist           3680 non-null   float64\n",
      " 62   passing_short_cmp               3680 non-null   float64\n",
      " 63   passing_short_att               3680 non-null   float64\n",
      " 64   passing_short_cmp%              3680 non-null   float64\n",
      " 65   passing_medium_cmp              3680 non-null   float64\n",
      " 66   passing_medium_att              3680 non-null   float64\n",
      " 67   passing_medium_cmp%             3680 non-null   float64\n",
      " 68   passing_long_cmp                3680 non-null   float64\n",
      " 69   passing_long_att                3680 non-null   float64\n",
      " 70   passing_long_cmp%               3680 non-null   float64\n",
      " 71   passing_ast                     3682 non-null   float64\n",
      " 72   passing_xag                     3680 non-null   float64\n",
      " 73   passing_xa                      3680 non-null   float64\n",
      " 74   passing_kp                      3680 non-null   float64\n",
      " 75   passing_1/3                     3680 non-null   float64\n",
      " 76   passing_ppa                     3680 non-null   float64\n",
      " 77   passing_crspa                   3680 non-null   float64\n",
      " 78   passing_prgp                    3680 non-null   float64\n",
      " 79   passing_types_pass_types_live   3680 non-null   float64\n",
      " 80   passing_types_pass_types_dead   3680 non-null   float64\n",
      " 81   passing_types_pass_types_fk     3680 non-null   float64\n",
      " 82   passing_types_pass_types_tb     3680 non-null   float64\n",
      " 83   passing_types_pass_types_sw     3680 non-null   float64\n",
      " 84   passing_types_pass_types_crs    3682 non-null   float64\n",
      " 85   passing_types_pass_types_ti     3680 non-null   float64\n",
      " 86   passing_types_pass_types_ck     3680 non-null   float64\n",
      " 87   passing_types_corner_kicks_in   3680 non-null   float64\n",
      " 88   passing_types_corner_kicks_out  3680 non-null   float64\n",
      " 89   passing_types_corner_kicks_str  3680 non-null   float64\n",
      " 90   passing_types_outcomes_off      3680 non-null   float64\n",
      " 91   passing_types_outcomes_blocks   3680 non-null   float64\n",
      " 92   gca_sca_types_sca               3680 non-null   float64\n",
      " 93   gca_sca_types_passlive          3680 non-null   float64\n",
      " 94   gca_sca_types_passdead          3680 non-null   float64\n",
      " 95   gca_sca_types_to                3680 non-null   float64\n",
      " 96   gca_sca_types_sh                3680 non-null   float64\n",
      " 97   gca_sca_types_fld               3680 non-null   float64\n",
      " 98   gca_sca_types_def               3680 non-null   float64\n",
      " 99   gca_gca_types_gca               3680 non-null   float64\n",
      " 100  gca_gca_types_passlive          3680 non-null   float64\n",
      " 101  gca_gca_types_passdead          3680 non-null   float64\n",
      " 102  gca_gca_types_to                3680 non-null   float64\n",
      " 103  gca_gca_types_sh                3680 non-null   float64\n",
      " 104  gca_gca_types_fld               3680 non-null   float64\n",
      " 105  gca_gca_types_def               3680 non-null   float64\n",
      " 106  defense_tackles_tkl             3680 non-null   float64\n",
      " 107  defense_tackles_tklw            3682 non-null   float64\n",
      " 108  defense_tackles_def_3rd         3680 non-null   float64\n",
      " 109  defense_tackles_mid_3rd         3680 non-null   float64\n",
      " 110  defense_tackles_att_3rd         3680 non-null   float64\n",
      " 111  defense_challenges_tkl          3680 non-null   float64\n",
      " 112  defense_challenges_att          3680 non-null   float64\n",
      " 113  defense_challenges_tkl%         3680 non-null   float64\n",
      " 114  defense_challenges_lost         3680 non-null   float64\n",
      " 115  defense_blocks_blocks           3680 non-null   float64\n",
      " 116  defense_blocks_sh               3680 non-null   float64\n",
      " 117  defense_blocks_pass             3680 non-null   float64\n",
      " 118  defense_int                     3682 non-null   float64\n",
      " 119  defense_tkl+int                 3682 non-null   int64  \n",
      " 120  defense_clr                     3680 non-null   float64\n",
      " 121  defense_err                     3680 non-null   float64\n",
      " 122  possession_touches_touches      3680 non-null   float64\n",
      " 123  possession_touches_def_pen      3680 non-null   float64\n",
      " 124  possession_touches_def_3rd      3680 non-null   float64\n",
      " 125  possession_touches_mid_3rd      3680 non-null   float64\n",
      " 126  possession_touches_att_3rd      3680 non-null   float64\n",
      " 127  possession_touches_att_pen      3680 non-null   float64\n",
      " 128  possession_touches_live         3680 non-null   float64\n",
      " 129  possession_take-ons_att         3680 non-null   float64\n",
      " 130  possession_take-ons_succ        3680 non-null   float64\n",
      " 131  possession_take-ons_succ%       3680 non-null   float64\n",
      " 132  possession_take-ons_tkld        3680 non-null   float64\n",
      " 133  possession_take-ons_tkld%       3680 non-null   float64\n",
      " 134  possession_carries_carries      3680 non-null   float64\n",
      " 135  possession_carries_totdist      3680 non-null   float64\n",
      " 136  possession_carries_prgdist      3680 non-null   float64\n",
      " 137  possession_carries_prgc         3680 non-null   float64\n",
      " 138  possession_carries_1/3          3680 non-null   float64\n",
      " 139  possession_carries_cpa          3680 non-null   float64\n",
      " 140  possession_carries_mis          3680 non-null   float64\n",
      " 141  possession_carries_dis          3680 non-null   float64\n",
      " 142  possession_receiving_rec        3680 non-null   float64\n",
      " 143  possession_receiving_prgr       3680 non-null   float64\n",
      " 144  misc_performance_crdy           3682 non-null   float64\n",
      " 145  misc_performance_crdr           3682 non-null   float64\n",
      " 146  misc_performance_2crdy          3682 non-null   float64\n",
      " 147  misc_performance_fls            3682 non-null   float64\n",
      " 148  misc_performance_fld            3682 non-null   float64\n",
      " 149  misc_performance_off            3682 non-null   float64\n",
      " 150  misc_performance_pkwon          3680 non-null   float64\n",
      " 151  misc_performance_pkcon          3680 non-null   float64\n",
      " 152  misc_performance_og             3682 non-null   float64\n",
      " 153  misc_performance_recov          3680 non-null   float64\n",
      " 154  misc_aerial_duels_won           3680 non-null   float64\n",
      " 155  misc_aerial_duels_lost          3680 non-null   float64\n",
      " 156  misc_aerial_duels_won%          3680 non-null   float64\n",
      "dtypes: float64(142), int64(3), object(12)\n",
      "memory usage: 4.4+ MB\n"
     ]
    }
   ],
   "source": [
    "matches_df.info(verbose=True, show_counts=True)\n",
    "# TODO: play with date and time, since it can be a factor"
   ],
   "metadata": {
    "collapsed": false,
    "ExecuteTime": {
     "end_time": "2023-10-04T14:03:23.697742570Z",
     "start_time": "2023-10-04T14:03:23.655206198Z"
    }
   },
   "id": "eb98c33530280804"
  },
  {
   "cell_type": "markdown",
   "source": [
    "`opponent` and `team` are columns that are supposed to have the same values. Check if that is the case."
   ],
   "metadata": {
    "collapsed": false
   },
   "id": "5dd23d574a0d58e2"
  },
  {
   "cell_type": "code",
   "execution_count": 129,
   "outputs": [
    {
     "name": "stdout",
     "output_type": "stream",
     "text": [
      "27\n",
      "['Arminia', 'Augsburg', 'Bayer Leverkusen', 'Bayern Munich', 'Bochum', 'Darmstadt 98', 'Dortmund', 'Dusseldorf', 'Eintracht Frankfurt', 'Freiburg', 'Greuther Furth', 'Hamburger SV', 'Hannover 96', 'Heidenheim', 'Hertha BSC', 'Hoffenheim', 'Koln', 'Mainz 05', 'Monchengladbach', 'Nurnberg', 'Paderborn 07', 'RB Leipzig', 'Schalke 04', 'Stuttgart', 'Union Berlin', 'Werder Bremen', 'Wolfsburg']\n",
      "25\n",
      "['Arminia', 'Augsburg', 'Bayern Munich', 'Bochum', 'Dortmund', 'Düsseldorf', 'Eint Frankfurt', 'Freiburg', 'Greuther Fürth', 'Hamburger SV', 'Hannover 96', 'Hertha BSC', 'Hoffenheim', 'Köln', 'Leverkusen', \"M'Gladbach\", 'Mainz 05', 'Nürnberg', 'Paderborn 07', 'RB Leipzig', 'Schalke 04', 'Stuttgart', 'Union Berlin', 'Werder Bremen', 'Wolfsburg']\n"
     ]
    }
   ],
   "source": [
    "teams = matches_df['team'].unique().tolist()\n",
    "opponents = matches_df['opponent'].unique().tolist()\n",
    "teams.sort()\n",
    "opponents.sort()\n",
    "\n",
    "print(len(teams))\n",
    "print(teams)\n",
    "\n",
    "print(len(opponents))\n",
    "print(opponents)"
   ],
   "metadata": {
    "collapsed": false,
    "ExecuteTime": {
     "end_time": "2023-10-04T17:35:05.430753489Z",
     "start_time": "2023-10-04T17:35:05.388280428Z"
    }
   },
   "id": "18a75f642de23c26"
  },
  {
   "cell_type": "markdown",
   "source": [
    "Normalize values."
   ],
   "metadata": {
    "collapsed": false
   },
   "id": "8e3a4f753a93e038"
  },
  {
   "cell_type": "code",
   "execution_count": 132,
   "outputs": [],
   "source": [
    "class MissingDict(dict):\n",
    "    __missing__ = lambda self, key: key\n",
    "\n",
    "map_values = {\n",
    "    'Düsseldorf': 'Dusseldorf',\n",
    "    'Eint Frankfurt': 'Eintracht Frankfurt',\n",
    "    'Greuther Fürth': 'Greuther Furth',\n",
    "    'Köln': 'Koln',\n",
    "    'M\\'Gladbach': 'Monchengladbach',\n",
    "    'Nürnberg': 'Nurnberg',\n",
    "    'Leverkusen': 'Bayer Leverkusen',\n",
    "}\n",
    "\n",
    "mapping = MissingDict(**map_values)\n",
    "matches_df['opponent'] = matches_df['opponent'].map(mapping)"
   ],
   "metadata": {
    "collapsed": false,
    "ExecuteTime": {
     "end_time": "2023-10-04T17:40:58.637501230Z",
     "start_time": "2023-10-04T17:40:58.594425297Z"
    }
   },
   "id": "686ef5d87990143d"
  },
  {
   "cell_type": "markdown",
   "source": [
    "Show differences between `team` and `opponent` unique values."
   ],
   "metadata": {
    "collapsed": false
   },
   "id": "ebb424d710e74943"
  },
  {
   "cell_type": "code",
   "execution_count": 133,
   "outputs": [
    {
     "name": "stdout",
     "output_type": "stream",
     "text": [
      "{'Darmstadt 98', 'Heidenheim'}\n"
     ]
    }
   ],
   "source": [
    "teams = matches_df['team'].unique().tolist()\n",
    "opponents = matches_df['opponent'].unique().tolist()\n",
    "teams.sort()\n",
    "opponents.sort()\n",
    "\n",
    "print(set(teams) - set(opponents))"
   ],
   "metadata": {
    "collapsed": false,
    "ExecuteTime": {
     "end_time": "2023-10-04T17:40:59.995979282Z",
     "start_time": "2023-10-04T17:40:59.993608663Z"
    }
   },
   "id": "9503d6d054ac77ac"
  },
  {
   "cell_type": "markdown",
   "source": [
    "Both `Darmstadt 98` and `Heidenheim` are making a return in the Bundesliga so this difference is not a mistake."
   ],
   "metadata": {
    "collapsed": false
   },
   "id": "d8f8e18c57f76fc8"
  }
 ],
 "metadata": {
  "kernelspec": {
   "display_name": "Python 3",
   "language": "python",
   "name": "python3"
  },
  "language_info": {
   "codemirror_mode": {
    "name": "ipython",
    "version": 2
   },
   "file_extension": ".py",
   "mimetype": "text/x-python",
   "name": "python",
   "nbconvert_exporter": "python",
   "pygments_lexer": "ipython2",
   "version": "2.7.6"
  }
 },
 "nbformat": 4,
 "nbformat_minor": 5
}
