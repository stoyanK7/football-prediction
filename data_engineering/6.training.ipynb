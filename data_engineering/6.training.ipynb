{
 "cells": [
  {
   "cell_type": "markdown",
   "source": [
    "# Training the model"
   ],
   "metadata": {
    "collapsed": false
   },
   "id": "af03889ba38d1232"
  },
  {
   "cell_type": "markdown",
   "source": [
    "Imports."
   ],
   "metadata": {
    "collapsed": false
   },
   "id": "174fc7db1c2e5f3e"
  },
  {
   "cell_type": "code",
   "execution_count": 32,
   "outputs": [],
   "source": [
    "import pandas as pd\n",
    "from sklearn.ensemble import RandomForestClassifier\n",
    "from sklearn.metrics import precision_score"
   ],
   "metadata": {
    "collapsed": false,
    "ExecuteTime": {
     "end_time": "2023-11-07T12:02:24.054564873Z",
     "start_time": "2023-11-07T12:02:23.934675878Z"
    }
   },
   "id": "70716b6127abf94"
  },
  {
   "cell_type": "markdown",
   "source": [
    "Pathing to the data."
   ],
   "metadata": {
    "collapsed": false
   },
   "id": "d5d4ce6133888ffa"
  },
  {
   "cell_type": "code",
   "execution_count": 33,
   "outputs": [],
   "source": [
    "data_path = '../data'\n",
    "prepared_data_path = f'{data_path}/csv/prepared'"
   ],
   "metadata": {
    "collapsed": false,
    "ExecuteTime": {
     "end_time": "2023-11-07T12:02:24.055000746Z",
     "start_time": "2023-11-07T12:02:23.934980201Z"
    }
   },
   "id": "8f089a32f7cdf914"
  },
  {
   "cell_type": "markdown",
   "source": [
    "Open the prepared data."
   ],
   "metadata": {
    "collapsed": false
   },
   "id": "c34056ed649040cd"
  },
  {
   "cell_type": "code",
   "execution_count": 34,
   "outputs": [
    {
     "data": {
      "text/plain": "            date   time        comp         round  day venue result  gf  ga  \\\n0     2020-10-17  18:30  Bundesliga   Matchweek 4  Sat  Home      L   1   4   \n1     2020-10-25  15:30  Bundesliga   Matchweek 5  Sun  Away      L   1   2   \n2     2020-10-31  15:30  Bundesliga   Matchweek 6  Sat  Home      L   0   2   \n3     2020-11-07  15:30  Bundesliga   Matchweek 7  Sat  Away      L   0   5   \n4     2020-11-21  15:30  Bundesliga   Matchweek 8  Sat  Home      L   1   2   \n...          ...    ...         ...           ...  ...   ...    ...  ..  ..   \n3591  2023-04-30  17:30  Bundesliga  Matchweek 30  Sun  Home      W   3   0   \n3592  2023-05-07  17:30  Bundesliga  Matchweek 31  Sun  Away      L   0   6   \n3593  2023-05-13  15:30  Bundesliga  Matchweek 32  Sat  Home      W   2   1   \n3594  2023-05-19  20:30  Bundesliga  Matchweek 33  Fri  Away      L   0   2   \n3595  2023-05-27  15:30  Bundesliga  Matchweek 34  Sat  Home      L   1   2   \n\n              opponent  ...  day_code  target  gf_rolling_avg  ga_rolling_avg  \\\n0        Bayern Munich  ...         5       0        0.666667        0.666667   \n1            Wolfsburg  ...         6       0        0.666667        1.666667   \n2             Dortmund  ...         5       0        0.666667        2.333333   \n3         Union Berlin  ...         5       0        0.666667        2.666667   \n4     Bayer Leverkusen  ...         5       0        0.333333        3.000000   \n...                ...  ...       ...     ...             ...             ...   \n3591          Mainz 05  ...         6       1        1.666667        1.000000   \n3592          Dortmund  ...         6       0        2.666667        0.333333   \n3593        Hoffenheim  ...         5       1        2.666667        2.333333   \n3594          Freiburg  ...         4       0        1.666667        2.333333   \n3595        Hertha BSC  ...         5       0        0.666667        3.000000   \n\n     shooting_standard_sh_rolling_avg shooting_standard_sot_rolling_avg  \\\n0                            9.333333                          3.333333   \n1                            9.000000                          3.666667   \n2                            9.666667                          3.333333   \n3                            8.333333                          2.666667   \n4                            6.666667                          1.333333   \n...                               ...                               ...   \n3591                        11.666667                          4.000000   \n3592                        11.666667                          4.666667   \n3593                        11.333333                          4.666667   \n3594                         9.666667                          3.333333   \n3595                         9.333333                          2.666667   \n\n     shooting_standard_dist_rolling_avg shooting_standard_fk_rolling_avg  \\\n0                             22.233333                         0.000000   \n1                             21.400000                         0.333333   \n2                             20.566667                         0.666667   \n3                             21.166667                         0.666667   \n4                             21.266667                         0.666667   \n...                                 ...                              ...   \n3591                          17.266667                         0.000000   \n3592                          15.500000                         0.000000   \n3593                          15.200000                         0.000000   \n3594                          17.033333                         0.000000   \n3595                          19.000000                         0.000000   \n\n      shooting_standard_pk_rolling_avg  shooting_standard_pkatt_rolling_avg  \n0                                  0.0                             0.000000  \n1                                  0.0                             0.000000  \n2                                  0.0                             0.000000  \n3                                  0.0                             0.000000  \n4                                  0.0                             0.000000  \n...                                ...                                  ...  \n3591                               0.0                             0.333333  \n3592                               0.0                             0.333333  \n3593                               0.0                             0.333333  \n3594                               0.0                             0.000000  \n3595                               0.0                             0.000000  \n\n[3596 rows x 172 columns]",
      "text/html": "<div>\n<style scoped>\n    .dataframe tbody tr th:only-of-type {\n        vertical-align: middle;\n    }\n\n    .dataframe tbody tr th {\n        vertical-align: top;\n    }\n\n    .dataframe thead th {\n        text-align: right;\n    }\n</style>\n<table border=\"1\" class=\"dataframe\">\n  <thead>\n    <tr style=\"text-align: right;\">\n      <th></th>\n      <th>date</th>\n      <th>time</th>\n      <th>comp</th>\n      <th>round</th>\n      <th>day</th>\n      <th>venue</th>\n      <th>result</th>\n      <th>gf</th>\n      <th>ga</th>\n      <th>opponent</th>\n      <th>...</th>\n      <th>day_code</th>\n      <th>target</th>\n      <th>gf_rolling_avg</th>\n      <th>ga_rolling_avg</th>\n      <th>shooting_standard_sh_rolling_avg</th>\n      <th>shooting_standard_sot_rolling_avg</th>\n      <th>shooting_standard_dist_rolling_avg</th>\n      <th>shooting_standard_fk_rolling_avg</th>\n      <th>shooting_standard_pk_rolling_avg</th>\n      <th>shooting_standard_pkatt_rolling_avg</th>\n    </tr>\n  </thead>\n  <tbody>\n    <tr>\n      <th>0</th>\n      <td>2020-10-17</td>\n      <td>18:30</td>\n      <td>Bundesliga</td>\n      <td>Matchweek 4</td>\n      <td>Sat</td>\n      <td>Home</td>\n      <td>L</td>\n      <td>1</td>\n      <td>4</td>\n      <td>Bayern Munich</td>\n      <td>...</td>\n      <td>5</td>\n      <td>0</td>\n      <td>0.666667</td>\n      <td>0.666667</td>\n      <td>9.333333</td>\n      <td>3.333333</td>\n      <td>22.233333</td>\n      <td>0.000000</td>\n      <td>0.0</td>\n      <td>0.000000</td>\n    </tr>\n    <tr>\n      <th>1</th>\n      <td>2020-10-25</td>\n      <td>15:30</td>\n      <td>Bundesliga</td>\n      <td>Matchweek 5</td>\n      <td>Sun</td>\n      <td>Away</td>\n      <td>L</td>\n      <td>1</td>\n      <td>2</td>\n      <td>Wolfsburg</td>\n      <td>...</td>\n      <td>6</td>\n      <td>0</td>\n      <td>0.666667</td>\n      <td>1.666667</td>\n      <td>9.000000</td>\n      <td>3.666667</td>\n      <td>21.400000</td>\n      <td>0.333333</td>\n      <td>0.0</td>\n      <td>0.000000</td>\n    </tr>\n    <tr>\n      <th>2</th>\n      <td>2020-10-31</td>\n      <td>15:30</td>\n      <td>Bundesliga</td>\n      <td>Matchweek 6</td>\n      <td>Sat</td>\n      <td>Home</td>\n      <td>L</td>\n      <td>0</td>\n      <td>2</td>\n      <td>Dortmund</td>\n      <td>...</td>\n      <td>5</td>\n      <td>0</td>\n      <td>0.666667</td>\n      <td>2.333333</td>\n      <td>9.666667</td>\n      <td>3.333333</td>\n      <td>20.566667</td>\n      <td>0.666667</td>\n      <td>0.0</td>\n      <td>0.000000</td>\n    </tr>\n    <tr>\n      <th>3</th>\n      <td>2020-11-07</td>\n      <td>15:30</td>\n      <td>Bundesliga</td>\n      <td>Matchweek 7</td>\n      <td>Sat</td>\n      <td>Away</td>\n      <td>L</td>\n      <td>0</td>\n      <td>5</td>\n      <td>Union Berlin</td>\n      <td>...</td>\n      <td>5</td>\n      <td>0</td>\n      <td>0.666667</td>\n      <td>2.666667</td>\n      <td>8.333333</td>\n      <td>2.666667</td>\n      <td>21.166667</td>\n      <td>0.666667</td>\n      <td>0.0</td>\n      <td>0.000000</td>\n    </tr>\n    <tr>\n      <th>4</th>\n      <td>2020-11-21</td>\n      <td>15:30</td>\n      <td>Bundesliga</td>\n      <td>Matchweek 8</td>\n      <td>Sat</td>\n      <td>Home</td>\n      <td>L</td>\n      <td>1</td>\n      <td>2</td>\n      <td>Bayer Leverkusen</td>\n      <td>...</td>\n      <td>5</td>\n      <td>0</td>\n      <td>0.333333</td>\n      <td>3.000000</td>\n      <td>6.666667</td>\n      <td>1.333333</td>\n      <td>21.266667</td>\n      <td>0.666667</td>\n      <td>0.0</td>\n      <td>0.000000</td>\n    </tr>\n    <tr>\n      <th>...</th>\n      <td>...</td>\n      <td>...</td>\n      <td>...</td>\n      <td>...</td>\n      <td>...</td>\n      <td>...</td>\n      <td>...</td>\n      <td>...</td>\n      <td>...</td>\n      <td>...</td>\n      <td>...</td>\n      <td>...</td>\n      <td>...</td>\n      <td>...</td>\n      <td>...</td>\n      <td>...</td>\n      <td>...</td>\n      <td>...</td>\n      <td>...</td>\n      <td>...</td>\n      <td>...</td>\n    </tr>\n    <tr>\n      <th>3591</th>\n      <td>2023-04-30</td>\n      <td>17:30</td>\n      <td>Bundesliga</td>\n      <td>Matchweek 30</td>\n      <td>Sun</td>\n      <td>Home</td>\n      <td>W</td>\n      <td>3</td>\n      <td>0</td>\n      <td>Mainz 05</td>\n      <td>...</td>\n      <td>6</td>\n      <td>1</td>\n      <td>1.666667</td>\n      <td>1.000000</td>\n      <td>11.666667</td>\n      <td>4.000000</td>\n      <td>17.266667</td>\n      <td>0.000000</td>\n      <td>0.0</td>\n      <td>0.333333</td>\n    </tr>\n    <tr>\n      <th>3592</th>\n      <td>2023-05-07</td>\n      <td>17:30</td>\n      <td>Bundesliga</td>\n      <td>Matchweek 31</td>\n      <td>Sun</td>\n      <td>Away</td>\n      <td>L</td>\n      <td>0</td>\n      <td>6</td>\n      <td>Dortmund</td>\n      <td>...</td>\n      <td>6</td>\n      <td>0</td>\n      <td>2.666667</td>\n      <td>0.333333</td>\n      <td>11.666667</td>\n      <td>4.666667</td>\n      <td>15.500000</td>\n      <td>0.000000</td>\n      <td>0.0</td>\n      <td>0.333333</td>\n    </tr>\n    <tr>\n      <th>3593</th>\n      <td>2023-05-13</td>\n      <td>15:30</td>\n      <td>Bundesliga</td>\n      <td>Matchweek 32</td>\n      <td>Sat</td>\n      <td>Home</td>\n      <td>W</td>\n      <td>2</td>\n      <td>1</td>\n      <td>Hoffenheim</td>\n      <td>...</td>\n      <td>5</td>\n      <td>1</td>\n      <td>2.666667</td>\n      <td>2.333333</td>\n      <td>11.333333</td>\n      <td>4.666667</td>\n      <td>15.200000</td>\n      <td>0.000000</td>\n      <td>0.0</td>\n      <td>0.333333</td>\n    </tr>\n    <tr>\n      <th>3594</th>\n      <td>2023-05-19</td>\n      <td>20:30</td>\n      <td>Bundesliga</td>\n      <td>Matchweek 33</td>\n      <td>Fri</td>\n      <td>Away</td>\n      <td>L</td>\n      <td>0</td>\n      <td>2</td>\n      <td>Freiburg</td>\n      <td>...</td>\n      <td>4</td>\n      <td>0</td>\n      <td>1.666667</td>\n      <td>2.333333</td>\n      <td>9.666667</td>\n      <td>3.333333</td>\n      <td>17.033333</td>\n      <td>0.000000</td>\n      <td>0.0</td>\n      <td>0.000000</td>\n    </tr>\n    <tr>\n      <th>3595</th>\n      <td>2023-05-27</td>\n      <td>15:30</td>\n      <td>Bundesliga</td>\n      <td>Matchweek 34</td>\n      <td>Sat</td>\n      <td>Home</td>\n      <td>L</td>\n      <td>1</td>\n      <td>2</td>\n      <td>Hertha BSC</td>\n      <td>...</td>\n      <td>5</td>\n      <td>0</td>\n      <td>0.666667</td>\n      <td>3.000000</td>\n      <td>9.333333</td>\n      <td>2.666667</td>\n      <td>19.000000</td>\n      <td>0.000000</td>\n      <td>0.0</td>\n      <td>0.000000</td>\n    </tr>\n  </tbody>\n</table>\n<p>3596 rows × 172 columns</p>\n</div>"
     },
     "execution_count": 34,
     "metadata": {},
     "output_type": "execute_result"
    }
   ],
   "source": [
    "matches_df = pd.read_csv(f'{prepared_data_path}/bundesliga_matches.csv')\n",
    "matches_df"
   ],
   "metadata": {
    "collapsed": false,
    "ExecuteTime": {
     "end_time": "2023-11-07T12:02:24.140964739Z",
     "start_time": "2023-11-07T12:02:23.935096208Z"
    }
   },
   "id": "fafbc1b5a2c4407c"
  },
  {
   "cell_type": "markdown",
   "source": [
    "Create a method to ease the process of predicting."
   ],
   "metadata": {
    "collapsed": false
   },
   "id": "5ba7d4566e276544"
  },
  {
   "cell_type": "code",
   "execution_count": 35,
   "outputs": [],
   "source": [
    "def make_predictions(data, predictors):\n",
    "    \"\"\"\n",
    "    Make predictions using the random forest classifier.\n",
    "\n",
    "    :param data: the dataframe to use\n",
    "    :param predictors: the predictor columns\n",
    "    :return: combined: a dataframe containing the actual and predicted values\n",
    "    \"\"\"\n",
    "    # Split the data into train and test sets.\n",
    "    train_set = data[data['date'] < '2022-01-01']\n",
    "    test_set = data[data['date'] >= '2022-01-01']\n",
    "    print(f'Train: {len(train_set)} matches ({len(train_set) / len(data):.2%})')\n",
    "    print(f'Test: {len(test_set)} matches ({len(test_set) / len(data):.2%})')\n",
    "\n",
    "    # Create and fit (train) the model.\n",
    "    model = RandomForestClassifier(\n",
    "        n_estimators=50,  # number of trees in the forest\n",
    "        min_samples_split=2,  # number of samples required to split an internal node\n",
    "        random_state=1  # seed\n",
    "    )\n",
    "    model.fit(train_set[predictors], train_set['target'])\n",
    "\n",
    "    # Make predictions on the test dataset and calculate the precision score.\n",
    "    predictions = model.predict(test_set[predictors])\n",
    "    precision = precision_score(test_set['target'], predictions)\n",
    "    print(f'Precision: {precision:.2%}')\n",
    "\n",
    "    # Create a dataframe containing the actual and predicted values.\n",
    "    combined = pd.DataFrame(\n",
    "        dict(actual=test_set['target'], prediction=predictions),\n",
    "        index=test_set.index\n",
    "    )\n",
    "    return combined"
   ],
   "metadata": {
    "collapsed": false,
    "ExecuteTime": {
     "end_time": "2023-11-07T12:02:24.143288519Z",
     "start_time": "2023-11-07T12:02:24.096813941Z"
    }
   },
   "id": "aa03173b77dff56"
  },
  {
   "cell_type": "markdown",
   "source": [
    "Make predictions on the matches dataframe."
   ],
   "metadata": {
    "collapsed": false
   },
   "id": "352baad3dc502baa"
  },
  {
   "cell_type": "code",
   "execution_count": 36,
   "outputs": [
    {
     "name": "stdout",
     "output_type": "stream",
     "text": [
      "Train: 2676 matches (74.42%)\n",
      "Test: 920 matches (25.58%)\n",
      "Precision: 50.92%\n"
     ]
    }
   ],
   "source": [
    "predictors = [\n",
    "    'opponent_code',\n",
    "    'venue_code',\n",
    "    'day_code',\n",
    "    'hour'\n",
    "]\n",
    "combined = make_predictions(matches_df, predictors)"
   ],
   "metadata": {
    "collapsed": false,
    "ExecuteTime": {
     "end_time": "2023-11-07T12:02:24.366352811Z",
     "start_time": "2023-11-07T12:02:24.105290971Z"
    }
   },
   "id": "bf10d57ac5885bdf"
  },
  {
   "cell_type": "code",
   "execution_count": 37,
   "outputs": [
    {
     "data": {
      "text/plain": "prediction  Loss/Draw  Win\nactual                    \nLoss/Draw         466  107\nWin               236  111",
      "text/html": "<div>\n<style scoped>\n    .dataframe tbody tr th:only-of-type {\n        vertical-align: middle;\n    }\n\n    .dataframe tbody tr th {\n        vertical-align: top;\n    }\n\n    .dataframe thead th {\n        text-align: right;\n    }\n</style>\n<table border=\"1\" class=\"dataframe\">\n  <thead>\n    <tr style=\"text-align: right;\">\n      <th>prediction</th>\n      <th>Loss/Draw</th>\n      <th>Win</th>\n    </tr>\n    <tr>\n      <th>actual</th>\n      <th></th>\n      <th></th>\n    </tr>\n  </thead>\n  <tbody>\n    <tr>\n      <th>Loss/Draw</th>\n      <td>466</td>\n      <td>107</td>\n    </tr>\n    <tr>\n      <th>Win</th>\n      <td>236</td>\n      <td>111</td>\n    </tr>\n  </tbody>\n</table>\n</div>"
     },
     "execution_count": 37,
     "metadata": {},
     "output_type": "execute_result"
    }
   ],
   "source": [
    "matrix_df = combined.copy()\n",
    "# Create a mapping dictionary for the replacements.\n",
    "# We want to make the confusion matrix easier to read.\n",
    "mapping = {0: 'Loss/Draw', 1: 'Win'}\n",
    "\n",
    "# Apply the replacements to the 'actual' and 'prediction' columns.\n",
    "matrix_df['actual'] = matrix_df['actual'].replace(mapping)\n",
    "matrix_df['prediction'] = matrix_df['prediction'].replace(mapping)\n",
    "\n",
    "# Create a confusion matrix.\n",
    "pd.crosstab(index=matrix_df['actual'], columns=matrix_df['prediction'])"
   ],
   "metadata": {
    "collapsed": false,
    "ExecuteTime": {
     "end_time": "2023-11-07T12:02:24.367621595Z",
     "start_time": "2023-11-07T12:02:24.330578700Z"
    }
   },
   "id": "9553c6c96ad30ac5"
  },
  {
   "cell_type": "markdown",
   "source": [
    "Merge to see predictions."
   ],
   "metadata": {
    "collapsed": false
   },
   "id": "5249cdec2a2d210e"
  },
  {
   "cell_type": "code",
   "execution_count": 38,
   "outputs": [
    {
     "data": {
      "text/plain": "      actual  prediction        date       team             opponent result\n45         0           0  2022-01-08    Arminia             Freiburg      D\n46         0           0  2022-01-16    Arminia       Greuther Furth      D\n47         1           0  2022-01-21    Arminia  Eintracht Frankfurt      W\n48         0           0  2022-02-05    Arminia      Monchengladbach      D\n49         0           0  2022-02-13    Arminia           Hoffenheim      L\n...      ...         ...         ...        ...                  ...    ...\n3591       1           0  2023-04-30  Wolfsburg             Mainz 05      W\n3592       0           0  2023-05-07  Wolfsburg             Dortmund      L\n3593       1           0  2023-05-13  Wolfsburg           Hoffenheim      W\n3594       0           0  2023-05-19  Wolfsburg             Freiburg      L\n3595       0           0  2023-05-27  Wolfsburg           Hertha BSC      L\n\n[920 rows x 6 columns]",
      "text/html": "<div>\n<style scoped>\n    .dataframe tbody tr th:only-of-type {\n        vertical-align: middle;\n    }\n\n    .dataframe tbody tr th {\n        vertical-align: top;\n    }\n\n    .dataframe thead th {\n        text-align: right;\n    }\n</style>\n<table border=\"1\" class=\"dataframe\">\n  <thead>\n    <tr style=\"text-align: right;\">\n      <th></th>\n      <th>actual</th>\n      <th>prediction</th>\n      <th>date</th>\n      <th>team</th>\n      <th>opponent</th>\n      <th>result</th>\n    </tr>\n  </thead>\n  <tbody>\n    <tr>\n      <th>45</th>\n      <td>0</td>\n      <td>0</td>\n      <td>2022-01-08</td>\n      <td>Arminia</td>\n      <td>Freiburg</td>\n      <td>D</td>\n    </tr>\n    <tr>\n      <th>46</th>\n      <td>0</td>\n      <td>0</td>\n      <td>2022-01-16</td>\n      <td>Arminia</td>\n      <td>Greuther Furth</td>\n      <td>D</td>\n    </tr>\n    <tr>\n      <th>47</th>\n      <td>1</td>\n      <td>0</td>\n      <td>2022-01-21</td>\n      <td>Arminia</td>\n      <td>Eintracht Frankfurt</td>\n      <td>W</td>\n    </tr>\n    <tr>\n      <th>48</th>\n      <td>0</td>\n      <td>0</td>\n      <td>2022-02-05</td>\n      <td>Arminia</td>\n      <td>Monchengladbach</td>\n      <td>D</td>\n    </tr>\n    <tr>\n      <th>49</th>\n      <td>0</td>\n      <td>0</td>\n      <td>2022-02-13</td>\n      <td>Arminia</td>\n      <td>Hoffenheim</td>\n      <td>L</td>\n    </tr>\n    <tr>\n      <th>...</th>\n      <td>...</td>\n      <td>...</td>\n      <td>...</td>\n      <td>...</td>\n      <td>...</td>\n      <td>...</td>\n    </tr>\n    <tr>\n      <th>3591</th>\n      <td>1</td>\n      <td>0</td>\n      <td>2023-04-30</td>\n      <td>Wolfsburg</td>\n      <td>Mainz 05</td>\n      <td>W</td>\n    </tr>\n    <tr>\n      <th>3592</th>\n      <td>0</td>\n      <td>0</td>\n      <td>2023-05-07</td>\n      <td>Wolfsburg</td>\n      <td>Dortmund</td>\n      <td>L</td>\n    </tr>\n    <tr>\n      <th>3593</th>\n      <td>1</td>\n      <td>0</td>\n      <td>2023-05-13</td>\n      <td>Wolfsburg</td>\n      <td>Hoffenheim</td>\n      <td>W</td>\n    </tr>\n    <tr>\n      <th>3594</th>\n      <td>0</td>\n      <td>0</td>\n      <td>2023-05-19</td>\n      <td>Wolfsburg</td>\n      <td>Freiburg</td>\n      <td>L</td>\n    </tr>\n    <tr>\n      <th>3595</th>\n      <td>0</td>\n      <td>0</td>\n      <td>2023-05-27</td>\n      <td>Wolfsburg</td>\n      <td>Hertha BSC</td>\n      <td>L</td>\n    </tr>\n  </tbody>\n</table>\n<p>920 rows × 6 columns</p>\n</div>"
     },
     "execution_count": 38,
     "metadata": {},
     "output_type": "execute_result"
    }
   ],
   "source": [
    "combined = combined.merge(\n",
    "    matches_df[['date', 'team', 'opponent', 'result']],\n",
    "    left_index=True,\n",
    "    right_index=True\n",
    ")\n",
    "combined"
   ],
   "metadata": {
    "collapsed": false,
    "ExecuteTime": {
     "end_time": "2023-11-07T12:02:24.425087995Z",
     "start_time": "2023-11-07T12:02:24.349921268Z"
    }
   },
   "id": "3dd1fc78735db70a"
  },
  {
   "cell_type": "markdown",
   "source": [
    "The dataframe above has two rows per match - one containing the prediction for the home team, and one containing the prediction for the away team. We want to combine these two rows into one row per match."
   ],
   "metadata": {
    "collapsed": false
   },
   "id": "50dfd07accfa257c"
  },
  {
   "cell_type": "code",
   "execution_count": 39,
   "outputs": [
    {
     "data": {
      "text/plain": "     actual_x  prediction_x        date     team_x           opponent_x  \\\n0           0             0  2022-01-08    Arminia             Freiburg   \n1           0             0  2022-01-16    Arminia       Greuther Furth   \n2           1             0  2022-01-21    Arminia  Eintracht Frankfurt   \n3           0             0  2022-02-05    Arminia      Monchengladbach   \n4           0             0  2022-02-13    Arminia           Hoffenheim   \n..        ...           ...         ...        ...                  ...   \n911         1             0  2023-04-30  Wolfsburg             Mainz 05   \n912         0             0  2023-05-07  Wolfsburg             Dortmund   \n913         1             0  2023-05-13  Wolfsburg           Hoffenheim   \n914         0             0  2023-05-19  Wolfsburg             Freiburg   \n915         0             0  2023-05-27  Wolfsburg           Hertha BSC   \n\n    result_x  actual_y  prediction_y               team_y opponent_y result_y  \n0          D         0             0             Freiburg    Arminia        D  \n1          D         0             0       Greuther Furth    Arminia        D  \n2          W         0             1  Eintracht Frankfurt    Arminia        L  \n3          D         0             0      Monchengladbach    Arminia        D  \n4          L         1             0           Hoffenheim    Arminia        W  \n..       ...       ...           ...                  ...        ...      ...  \n911        W         0             0             Mainz 05  Wolfsburg        L  \n912        L         1             0             Dortmund  Wolfsburg        W  \n913        W         0             0           Hoffenheim  Wolfsburg        L  \n914        L         1             0             Freiburg  Wolfsburg        W  \n915        L         1             0           Hertha BSC  Wolfsburg        W  \n\n[916 rows x 11 columns]",
      "text/html": "<div>\n<style scoped>\n    .dataframe tbody tr th:only-of-type {\n        vertical-align: middle;\n    }\n\n    .dataframe tbody tr th {\n        vertical-align: top;\n    }\n\n    .dataframe thead th {\n        text-align: right;\n    }\n</style>\n<table border=\"1\" class=\"dataframe\">\n  <thead>\n    <tr style=\"text-align: right;\">\n      <th></th>\n      <th>actual_x</th>\n      <th>prediction_x</th>\n      <th>date</th>\n      <th>team_x</th>\n      <th>opponent_x</th>\n      <th>result_x</th>\n      <th>actual_y</th>\n      <th>prediction_y</th>\n      <th>team_y</th>\n      <th>opponent_y</th>\n      <th>result_y</th>\n    </tr>\n  </thead>\n  <tbody>\n    <tr>\n      <th>0</th>\n      <td>0</td>\n      <td>0</td>\n      <td>2022-01-08</td>\n      <td>Arminia</td>\n      <td>Freiburg</td>\n      <td>D</td>\n      <td>0</td>\n      <td>0</td>\n      <td>Freiburg</td>\n      <td>Arminia</td>\n      <td>D</td>\n    </tr>\n    <tr>\n      <th>1</th>\n      <td>0</td>\n      <td>0</td>\n      <td>2022-01-16</td>\n      <td>Arminia</td>\n      <td>Greuther Furth</td>\n      <td>D</td>\n      <td>0</td>\n      <td>0</td>\n      <td>Greuther Furth</td>\n      <td>Arminia</td>\n      <td>D</td>\n    </tr>\n    <tr>\n      <th>2</th>\n      <td>1</td>\n      <td>0</td>\n      <td>2022-01-21</td>\n      <td>Arminia</td>\n      <td>Eintracht Frankfurt</td>\n      <td>W</td>\n      <td>0</td>\n      <td>1</td>\n      <td>Eintracht Frankfurt</td>\n      <td>Arminia</td>\n      <td>L</td>\n    </tr>\n    <tr>\n      <th>3</th>\n      <td>0</td>\n      <td>0</td>\n      <td>2022-02-05</td>\n      <td>Arminia</td>\n      <td>Monchengladbach</td>\n      <td>D</td>\n      <td>0</td>\n      <td>0</td>\n      <td>Monchengladbach</td>\n      <td>Arminia</td>\n      <td>D</td>\n    </tr>\n    <tr>\n      <th>4</th>\n      <td>0</td>\n      <td>0</td>\n      <td>2022-02-13</td>\n      <td>Arminia</td>\n      <td>Hoffenheim</td>\n      <td>L</td>\n      <td>1</td>\n      <td>0</td>\n      <td>Hoffenheim</td>\n      <td>Arminia</td>\n      <td>W</td>\n    </tr>\n    <tr>\n      <th>...</th>\n      <td>...</td>\n      <td>...</td>\n      <td>...</td>\n      <td>...</td>\n      <td>...</td>\n      <td>...</td>\n      <td>...</td>\n      <td>...</td>\n      <td>...</td>\n      <td>...</td>\n      <td>...</td>\n    </tr>\n    <tr>\n      <th>911</th>\n      <td>1</td>\n      <td>0</td>\n      <td>2023-04-30</td>\n      <td>Wolfsburg</td>\n      <td>Mainz 05</td>\n      <td>W</td>\n      <td>0</td>\n      <td>0</td>\n      <td>Mainz 05</td>\n      <td>Wolfsburg</td>\n      <td>L</td>\n    </tr>\n    <tr>\n      <th>912</th>\n      <td>0</td>\n      <td>0</td>\n      <td>2023-05-07</td>\n      <td>Wolfsburg</td>\n      <td>Dortmund</td>\n      <td>L</td>\n      <td>1</td>\n      <td>0</td>\n      <td>Dortmund</td>\n      <td>Wolfsburg</td>\n      <td>W</td>\n    </tr>\n    <tr>\n      <th>913</th>\n      <td>1</td>\n      <td>0</td>\n      <td>2023-05-13</td>\n      <td>Wolfsburg</td>\n      <td>Hoffenheim</td>\n      <td>W</td>\n      <td>0</td>\n      <td>0</td>\n      <td>Hoffenheim</td>\n      <td>Wolfsburg</td>\n      <td>L</td>\n    </tr>\n    <tr>\n      <th>914</th>\n      <td>0</td>\n      <td>0</td>\n      <td>2023-05-19</td>\n      <td>Wolfsburg</td>\n      <td>Freiburg</td>\n      <td>L</td>\n      <td>1</td>\n      <td>0</td>\n      <td>Freiburg</td>\n      <td>Wolfsburg</td>\n      <td>W</td>\n    </tr>\n    <tr>\n      <th>915</th>\n      <td>0</td>\n      <td>0</td>\n      <td>2023-05-27</td>\n      <td>Wolfsburg</td>\n      <td>Hertha BSC</td>\n      <td>L</td>\n      <td>1</td>\n      <td>0</td>\n      <td>Hertha BSC</td>\n      <td>Wolfsburg</td>\n      <td>W</td>\n    </tr>\n  </tbody>\n</table>\n<p>916 rows × 11 columns</p>\n</div>"
     },
     "execution_count": 39,
     "metadata": {},
     "output_type": "execute_result"
    }
   ],
   "source": [
    "merged = combined.merge(combined, left_on=['date', 'team'], right_on=['date', 'opponent'])\n",
    "merged"
   ],
   "metadata": {
    "collapsed": false,
    "ExecuteTime": {
     "end_time": "2023-11-07T12:02:24.471292042Z",
     "start_time": "2023-11-07T12:02:24.372845960Z"
    }
   },
   "id": "285ea337e29d938e"
  },
  {
   "cell_type": "markdown",
   "source": [
    "Get the rows where we predicted that **the home team would win and the away team would lose**."
   ],
   "metadata": {
    "collapsed": false
   },
   "id": "6f758fc96c0316ab"
  },
  {
   "cell_type": "code",
   "execution_count": 40,
   "outputs": [
    {
     "data": {
      "text/plain": "1    96\n0    85\nName: actual_x, dtype: int64"
     },
     "execution_count": 40,
     "metadata": {},
     "output_type": "execute_result"
    }
   ],
   "source": [
    "accuracy_df = merged[(merged['prediction_x'] == 1) & (merged['prediction_y'] == 0)]['actual_x'].value_counts()\n",
    "accuracy_df\n",
    "# accuracy = accuracy_df.iloc[0] / (accuracy_df.iloc[0] + accuracy_df.iloc[1]) * 100\n",
    "# print(f'Accuracy: {accuracy:.2f}%')"
   ],
   "metadata": {
    "collapsed": false,
    "ExecuteTime": {
     "end_time": "2023-11-07T12:02:24.472180830Z",
     "start_time": "2023-11-07T12:02:24.434688057Z"
    }
   },
   "id": "5165c2ab4cd7a0cb"
  }
 ],
 "metadata": {
  "kernelspec": {
   "display_name": "Python 3",
   "language": "python",
   "name": "python3"
  },
  "language_info": {
   "codemirror_mode": {
    "name": "ipython",
    "version": 2
   },
   "file_extension": ".py",
   "mimetype": "text/x-python",
   "name": "python",
   "nbconvert_exporter": "python",
   "pygments_lexer": "ipython2",
   "version": "2.7.6"
  }
 },
 "nbformat": 4,
 "nbformat_minor": 5
}
