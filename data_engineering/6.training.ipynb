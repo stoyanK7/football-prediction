{
 "cells": [
  {
   "cell_type": "markdown",
   "source": [
    "# Training the model"
   ],
   "metadata": {
    "collapsed": false
   },
   "id": "af03889ba38d1232"
  },
  {
   "cell_type": "markdown",
   "source": [
    "Imports."
   ],
   "metadata": {
    "collapsed": false
   },
   "id": "174fc7db1c2e5f3e"
  },
  {
   "cell_type": "code",
   "execution_count": 51,
   "outputs": [],
   "source": [
    "import pandas as pd\n",
    "from sklearn.ensemble import RandomForestClassifier\n",
    "from sklearn.metrics import precision_score\n",
    "from remove_collinear_features import remove_collinear_features"
   ],
   "metadata": {
    "collapsed": false,
    "ExecuteTime": {
     "end_time": "2023-11-15T14:23:06.632439343Z",
     "start_time": "2023-11-15T14:23:06.604991383Z"
    }
   },
   "id": "70716b6127abf94"
  },
  {
   "cell_type": "markdown",
   "source": [
    "Pathing to the data."
   ],
   "metadata": {
    "collapsed": false
   },
   "id": "d5d4ce6133888ffa"
  },
  {
   "cell_type": "code",
   "execution_count": 52,
   "outputs": [],
   "source": [
    "data_path = '../data'\n",
    "prepared_data_path = f'{data_path}/csv/prepared'"
   ],
   "metadata": {
    "collapsed": false,
    "ExecuteTime": {
     "end_time": "2023-11-15T14:23:06.665268781Z",
     "start_time": "2023-11-15T14:23:06.610350511Z"
    }
   },
   "id": "8f089a32f7cdf914"
  },
  {
   "cell_type": "markdown",
   "source": [
    "Open the prepared data."
   ],
   "metadata": {
    "collapsed": false
   },
   "id": "c34056ed649040cd"
  },
  {
   "cell_type": "code",
   "execution_count": 53,
   "outputs": [
    {
     "data": {
      "text/plain": "date                                   object\ntime                                   object\ncomp                                   object\nround                                  object\nday                                    object\n                                       ...   \nmisc_aerial_duels_won_rolling_avg     float64\nmisc_aerial_duels_lost_rolling_avg    float64\nmisc_aerial_duels_won%_rolling_avg    float64\npgf_rolling_avg                       float64\npga_rolling_avg                       float64\nLength: 311, dtype: object"
     },
     "execution_count": 53,
     "metadata": {},
     "output_type": "execute_result"
    }
   ],
   "source": [
    "matches_df = pd.read_csv(f'{prepared_data_path}/bundesliga_matches.csv')\n",
    "matches_df.dtypes"
   ],
   "metadata": {
    "collapsed": false,
    "ExecuteTime": {
     "end_time": "2023-11-15T14:23:06.737386784Z",
     "start_time": "2023-11-15T14:23:06.668509764Z"
    }
   },
   "id": "fafbc1b5a2c4407c"
  },
  {
   "cell_type": "markdown",
   "source": [
    "Create a method to ease the process of predicting."
   ],
   "metadata": {
    "collapsed": false
   },
   "id": "5ba7d4566e276544"
  },
  {
   "cell_type": "code",
   "execution_count": 54,
   "outputs": [],
   "source": [
    "def make_predictions(data, predictors):\n",
    "    \"\"\"\n",
    "    Make predictions using the random forest classifier.\n",
    "\n",
    "    :param data: the dataframe to use\n",
    "    :param predictors: the predictor columns\n",
    "    :return: combined: a dataframe containing the actual and predicted values\n",
    "    \"\"\"\n",
    "    # Split the data into train and test sets.\n",
    "    train_set = data[data['date'] < '2023-02-01']\n",
    "    test_set = data[data['date'] >= '2023-02-01']\n",
    "    print(f'Train: {len(train_set)} matches ({len(train_set) / len(data):.2%})')\n",
    "    print(f'Test: {len(test_set)} matches ({len(test_set) / len(data):.2%})')\n",
    "\n",
    "    # Create and fit (train) the model.\n",
    "    model = RandomForestClassifier(\n",
    "        n_estimators=50,  # number of trees in the forest\n",
    "        min_samples_split=10,  # number of samples required to split an internal node\n",
    "        random_state=1  # seed\n",
    "    )\n",
    "    model.fit(train_set[predictors], train_set['target'])\n",
    "\n",
    "    # Make predictions on the test dataset and calculate the precision score.\n",
    "    predictions = model.predict(test_set[predictors])\n",
    "    precision = precision_score(test_set['target'], predictions)\n",
    "    print(f'Precision: {precision:.2%}')\n",
    "\n",
    "    # Create a dataframe containing the actual and predicted values.\n",
    "    combined = pd.DataFrame(\n",
    "        dict(actual=test_set['target'], prediction=predictions),\n",
    "        index=test_set.index\n",
    "    )\n",
    "    return combined"
   ],
   "metadata": {
    "collapsed": false,
    "ExecuteTime": {
     "end_time": "2023-11-15T14:23:06.780708124Z",
     "start_time": "2023-11-15T14:23:06.739528396Z"
    }
   },
   "id": "aa03173b77dff56"
  },
  {
   "cell_type": "markdown",
   "source": [
    "Remove collinear features so we can make the model more generalized."
   ],
   "metadata": {
    "collapsed": false
   },
   "id": "d1fd995cca74b8c2"
  },
  {
   "cell_type": "code",
   "execution_count": 55,
   "outputs": [
    {
     "name": "stderr",
     "output_type": "stream",
     "text": [
      "/home/stoyan/university/football-prediction/data_engineering/remove_collinear_features.py:15: FutureWarning: The default value of numeric_only in DataFrame.corr is deprecated. In a future version, it will default to False. Select only valid columns or specify the value of numeric_only to silence this warning.\n",
      "  corr_matrix = df.corr()\n"
     ]
    },
    {
     "name": "stdout",
     "output_type": "stream",
     "text": [
      "Removed Columns {'misc_performance_off_rolling_avg', 'shooting_standard_gls', 'passing_xag_rolling_avg', 'possession_receiving_prgr', 'misc_performance_fld_rolling_avg', 'passing_total_att_rolling_avg', 'passing_medium_cmp%', 'possession_touches_mid_3rd', 'passing_total_cmp', 'passing_ast', 'shooting_expected_np:g-xg', 'keeper_passes_avglen_rolling_avg', 'passing_short_cmp%_rolling_avg', 'possession_receiving_prgr_rolling_avg', 'shooting_expected_npxg', 'keeper_penalty_kicks_pka', 'gca_sca_types_sca_rolling_avg', 'possession_touches_touches_rolling_avg', 'possession_carries_carries_rolling_avg', 'possession_receiving_rec_rolling_avg', 'gca_sca_types_sca', 'possession_touches_live_rolling_avg', 'passing_xag', 'misc_performance_pkwon_rolling_avg', 'passing_kp', 'passing_short_cmp_rolling_avg', 'possession_take-ons_tkld%_rolling_avg', 'keeper_launched_att_rolling_avg', 'possession_touches_touches', 'passing_short_att', 'passing_total_prgdist', 'possession_carries_totdist_rolling_avg', 'passing_total_cmp%_rolling_avg', 'possession_carries_prgdist', 'keeper_penalty_kicks_pka_rolling_avg', 'possession_receiving_rec', 'passing_medium_att', 'keeper_goal_kicks_avglen_rolling_avg', 'misc_performance_pkwon', 'possession_carries_prgdist_rolling_avg', 'gca_gca_types_gca', 'misc_performance_pkcon', 'possession_take-ons_tkld%', 'passing_total_totdist', 'passing_types_pass_types_live_rolling_avg', 'defense_blocks_pass', 'shooting_standard_pkatt_rolling_avg', 'misc_performance_pkcon_rolling_avg', 'shooting_expected_npxg_rolling_avg', 'possession_touches_att_3rd_rolling_avg', 'shooting_expected_np:g-xg_rolling_avg', 'passing_total_prgdist_rolling_avg', 'passing_total_totdist_rolling_avg', 'possession_carries_totdist', 'passing_short_att_rolling_avg', 'shooting_standard_pkatt', 'misc_performance_off', 'passing_medium_cmp_rolling_avg', 'passing_prgp', 'gca_sca_types_passlive_rolling_avg', 'passing_kp_rolling_avg', 'keeper_performance_saves_rolling_avg', 'passing_ast_rolling_avg', 'keeper_goal_kicks_avglen', 'passing_total_att', 'gca_gca_types_gca_rolling_avg', 'passing_total_cmp%', 'gca_gca_types_passlive', 'possession_carries_carries', 'possession_touches_live', 'keeper_performance_saves', 'defense_tackles_tklw_rolling_avg', 'passing_medium_att_rolling_avg', 'passing_medium_cmp%_rolling_avg', 'passing_short_cmp', 'keeper_passes_launch%_rolling_avg', 'passing_types_pass_types_live', 'misc_performance_fld', 'passing_total_cmp_rolling_avg', 'possession_carries_prgc_rolling_avg', 'passing_medium_cmp', 'defense_blocks_pass_rolling_avg', 'shooting_standard_gls_rolling_avg', 'gca_sca_types_passlive', 'gca_gca_types_passlive_rolling_avg', 'passing_prgp_rolling_avg', 'possession_touches_mid_3rd_rolling_avg', 'keeper_passes_avglen'}\n"
     ]
    }
   ],
   "source": [
    "match_df = remove_collinear_features(matches_df, 0.85)"
   ],
   "metadata": {
    "collapsed": false,
    "ExecuteTime": {
     "end_time": "2023-11-15T14:23:08.626398969Z",
     "start_time": "2023-11-15T14:23:06.780593095Z"
    }
   },
   "id": "406f19a3aa1986d2"
  },
  {
   "cell_type": "markdown",
   "source": [
    "Make predictions on the matches dataframe."
   ],
   "metadata": {
    "collapsed": false
   },
   "id": "352baad3dc502baa"
  },
  {
   "cell_type": "code",
   "execution_count": 56,
   "outputs": [
    {
     "name": "stdout",
     "output_type": "stream",
     "text": [
      "Train: 3307 matches (91.89%)\n",
      "Test: 292 matches (8.11%)\n",
      "Precision: 63.27%\n"
     ]
    }
   ],
   "source": [
    "predictors = ['opponent_code',\n",
    "              'venue_code',\n",
    "              'hour',\n",
    "              'day_code' ]\n",
    "predictors += [col for col in matches_df.columns if '_rolling_avg' in col]\n",
    "combined = make_predictions(matches_df, predictors)"
   ],
   "metadata": {
    "collapsed": false,
    "ExecuteTime": {
     "end_time": "2023-11-15T14:23:09.312108452Z",
     "start_time": "2023-11-15T14:23:08.627714010Z"
    }
   },
   "id": "bf10d57ac5885bdf"
  },
  {
   "cell_type": "code",
   "execution_count": 57,
   "outputs": [
    {
     "data": {
      "text/plain": "prediction  Loss/Draw  Win\nactual                    \nLoss/Draw         166   18\nWin                77   31",
      "text/html": "<div>\n<style scoped>\n    .dataframe tbody tr th:only-of-type {\n        vertical-align: middle;\n    }\n\n    .dataframe tbody tr th {\n        vertical-align: top;\n    }\n\n    .dataframe thead th {\n        text-align: right;\n    }\n</style>\n<table border=\"1\" class=\"dataframe\">\n  <thead>\n    <tr style=\"text-align: right;\">\n      <th>prediction</th>\n      <th>Loss/Draw</th>\n      <th>Win</th>\n    </tr>\n    <tr>\n      <th>actual</th>\n      <th></th>\n      <th></th>\n    </tr>\n  </thead>\n  <tbody>\n    <tr>\n      <th>Loss/Draw</th>\n      <td>166</td>\n      <td>18</td>\n    </tr>\n    <tr>\n      <th>Win</th>\n      <td>77</td>\n      <td>31</td>\n    </tr>\n  </tbody>\n</table>\n</div>"
     },
     "execution_count": 57,
     "metadata": {},
     "output_type": "execute_result"
    }
   ],
   "source": [
    "matrix_df = combined.copy()\n",
    "# Create a mapping dictionary for the replacements.\n",
    "# We want to make the confusion matrix easier to read.\n",
    "mapping = {0: 'Loss/Draw', 1: 'Win'}\n",
    "\n",
    "# Apply the replacements to the 'actual' and 'prediction' columns.\n",
    "matrix_df['actual'] = matrix_df['actual'].replace(mapping)\n",
    "matrix_df['prediction'] = matrix_df['prediction'].replace(mapping)\n",
    "\n",
    "# Create a confusion matrix.\n",
    "pd.crosstab(index=matrix_df['actual'], columns=matrix_df['prediction'])"
   ],
   "metadata": {
    "collapsed": false,
    "ExecuteTime": {
     "end_time": "2023-11-15T14:23:09.321821414Z",
     "start_time": "2023-11-15T14:23:09.319926551Z"
    }
   },
   "id": "9553c6c96ad30ac5"
  },
  {
   "cell_type": "markdown",
   "source": [
    "Merge to see predictions."
   ],
   "metadata": {
    "collapsed": false
   },
   "id": "5249cdec2a2d210e"
  },
  {
   "cell_type": "code",
   "execution_count": 58,
   "outputs": [
    {
     "data": {
      "text/plain": "      actual  prediction        date       team          opponent result\n250        1           0  2023-02-03   Augsburg  Bayer Leverkusen      W\n251        0           0  2023-02-11   Augsburg          Mainz 05      L\n252        1           0  2023-02-17   Augsburg        Hoffenheim      W\n253        0           0  2023-02-25   Augsburg        Hertha BSC      L\n254        1           0  2023-03-04   Augsburg     Werder Bremen      W\n...      ...         ...         ...        ...               ...    ...\n3594       1           0  2023-04-30  Wolfsburg          Mainz 05      W\n3595       0           0  2023-05-07  Wolfsburg          Dortmund      L\n3596       1           0  2023-05-13  Wolfsburg        Hoffenheim      W\n3597       0           0  2023-05-19  Wolfsburg          Freiburg      L\n3598       0           0  2023-05-27  Wolfsburg        Hertha BSC      L\n\n[292 rows x 6 columns]",
      "text/html": "<div>\n<style scoped>\n    .dataframe tbody tr th:only-of-type {\n        vertical-align: middle;\n    }\n\n    .dataframe tbody tr th {\n        vertical-align: top;\n    }\n\n    .dataframe thead th {\n        text-align: right;\n    }\n</style>\n<table border=\"1\" class=\"dataframe\">\n  <thead>\n    <tr style=\"text-align: right;\">\n      <th></th>\n      <th>actual</th>\n      <th>prediction</th>\n      <th>date</th>\n      <th>team</th>\n      <th>opponent</th>\n      <th>result</th>\n    </tr>\n  </thead>\n  <tbody>\n    <tr>\n      <th>250</th>\n      <td>1</td>\n      <td>0</td>\n      <td>2023-02-03</td>\n      <td>Augsburg</td>\n      <td>Bayer Leverkusen</td>\n      <td>W</td>\n    </tr>\n    <tr>\n      <th>251</th>\n      <td>0</td>\n      <td>0</td>\n      <td>2023-02-11</td>\n      <td>Augsburg</td>\n      <td>Mainz 05</td>\n      <td>L</td>\n    </tr>\n    <tr>\n      <th>252</th>\n      <td>1</td>\n      <td>0</td>\n      <td>2023-02-17</td>\n      <td>Augsburg</td>\n      <td>Hoffenheim</td>\n      <td>W</td>\n    </tr>\n    <tr>\n      <th>253</th>\n      <td>0</td>\n      <td>0</td>\n      <td>2023-02-25</td>\n      <td>Augsburg</td>\n      <td>Hertha BSC</td>\n      <td>L</td>\n    </tr>\n    <tr>\n      <th>254</th>\n      <td>1</td>\n      <td>0</td>\n      <td>2023-03-04</td>\n      <td>Augsburg</td>\n      <td>Werder Bremen</td>\n      <td>W</td>\n    </tr>\n    <tr>\n      <th>...</th>\n      <td>...</td>\n      <td>...</td>\n      <td>...</td>\n      <td>...</td>\n      <td>...</td>\n      <td>...</td>\n    </tr>\n    <tr>\n      <th>3594</th>\n      <td>1</td>\n      <td>0</td>\n      <td>2023-04-30</td>\n      <td>Wolfsburg</td>\n      <td>Mainz 05</td>\n      <td>W</td>\n    </tr>\n    <tr>\n      <th>3595</th>\n      <td>0</td>\n      <td>0</td>\n      <td>2023-05-07</td>\n      <td>Wolfsburg</td>\n      <td>Dortmund</td>\n      <td>L</td>\n    </tr>\n    <tr>\n      <th>3596</th>\n      <td>1</td>\n      <td>0</td>\n      <td>2023-05-13</td>\n      <td>Wolfsburg</td>\n      <td>Hoffenheim</td>\n      <td>W</td>\n    </tr>\n    <tr>\n      <th>3597</th>\n      <td>0</td>\n      <td>0</td>\n      <td>2023-05-19</td>\n      <td>Wolfsburg</td>\n      <td>Freiburg</td>\n      <td>L</td>\n    </tr>\n    <tr>\n      <th>3598</th>\n      <td>0</td>\n      <td>0</td>\n      <td>2023-05-27</td>\n      <td>Wolfsburg</td>\n      <td>Hertha BSC</td>\n      <td>L</td>\n    </tr>\n  </tbody>\n</table>\n<p>292 rows × 6 columns</p>\n</div>"
     },
     "execution_count": 58,
     "metadata": {},
     "output_type": "execute_result"
    }
   ],
   "source": [
    "combined = combined.merge(\n",
    "    matches_df[['date', 'team', 'opponent', 'result']],\n",
    "    left_index=True,\n",
    "    right_index=True\n",
    ")\n",
    "combined"
   ],
   "metadata": {
    "collapsed": false,
    "ExecuteTime": {
     "end_time": "2023-11-15T14:23:09.371321330Z",
     "start_time": "2023-11-15T14:23:09.322442093Z"
    }
   },
   "id": "3dd1fc78735db70a"
  },
  {
   "cell_type": "markdown",
   "source": [
    "The dataframe above has two rows per match - one containing the prediction for the home team, and one containing the prediction for the away team. We want to combine these two rows into one row per match."
   ],
   "metadata": {
    "collapsed": false
   },
   "id": "50dfd07accfa257c"
  },
  {
   "cell_type": "code",
   "execution_count": 59,
   "outputs": [
    {
     "data": {
      "text/plain": "     actual_x  prediction_x        date     team_x        opponent_x result_x  \\\n0           1             0  2023-02-03   Augsburg  Bayer Leverkusen        W   \n1           0             0  2023-02-11   Augsburg          Mainz 05        L   \n2           1             0  2023-02-17   Augsburg        Hoffenheim        W   \n3           0             0  2023-02-25   Augsburg        Hertha BSC        L   \n4           1             0  2023-03-04   Augsburg     Werder Bremen        W   \n..        ...           ...         ...        ...               ...      ...   \n283         1             0  2023-04-30  Wolfsburg          Mainz 05        W   \n284         0             0  2023-05-07  Wolfsburg          Dortmund        L   \n285         1             0  2023-05-13  Wolfsburg        Hoffenheim        W   \n286         0             0  2023-05-19  Wolfsburg          Freiburg        L   \n287         0             0  2023-05-27  Wolfsburg        Hertha BSC        L   \n\n     actual_y  prediction_y            team_y opponent_y result_y  \n0           0             0  Bayer Leverkusen   Augsburg        L  \n1           1             0          Mainz 05   Augsburg        W  \n2           0             0        Hoffenheim   Augsburg        L  \n3           1             0        Hertha BSC   Augsburg        W  \n4           0             0     Werder Bremen   Augsburg        L  \n..        ...           ...               ...        ...      ...  \n283         0             0          Mainz 05  Wolfsburg        L  \n284         1             1          Dortmund  Wolfsburg        W  \n285         0             0        Hoffenheim  Wolfsburg        L  \n286         1             1          Freiburg  Wolfsburg        W  \n287         1             0        Hertha BSC  Wolfsburg        W  \n\n[288 rows x 11 columns]",
      "text/html": "<div>\n<style scoped>\n    .dataframe tbody tr th:only-of-type {\n        vertical-align: middle;\n    }\n\n    .dataframe tbody tr th {\n        vertical-align: top;\n    }\n\n    .dataframe thead th {\n        text-align: right;\n    }\n</style>\n<table border=\"1\" class=\"dataframe\">\n  <thead>\n    <tr style=\"text-align: right;\">\n      <th></th>\n      <th>actual_x</th>\n      <th>prediction_x</th>\n      <th>date</th>\n      <th>team_x</th>\n      <th>opponent_x</th>\n      <th>result_x</th>\n      <th>actual_y</th>\n      <th>prediction_y</th>\n      <th>team_y</th>\n      <th>opponent_y</th>\n      <th>result_y</th>\n    </tr>\n  </thead>\n  <tbody>\n    <tr>\n      <th>0</th>\n      <td>1</td>\n      <td>0</td>\n      <td>2023-02-03</td>\n      <td>Augsburg</td>\n      <td>Bayer Leverkusen</td>\n      <td>W</td>\n      <td>0</td>\n      <td>0</td>\n      <td>Bayer Leverkusen</td>\n      <td>Augsburg</td>\n      <td>L</td>\n    </tr>\n    <tr>\n      <th>1</th>\n      <td>0</td>\n      <td>0</td>\n      <td>2023-02-11</td>\n      <td>Augsburg</td>\n      <td>Mainz 05</td>\n      <td>L</td>\n      <td>1</td>\n      <td>0</td>\n      <td>Mainz 05</td>\n      <td>Augsburg</td>\n      <td>W</td>\n    </tr>\n    <tr>\n      <th>2</th>\n      <td>1</td>\n      <td>0</td>\n      <td>2023-02-17</td>\n      <td>Augsburg</td>\n      <td>Hoffenheim</td>\n      <td>W</td>\n      <td>0</td>\n      <td>0</td>\n      <td>Hoffenheim</td>\n      <td>Augsburg</td>\n      <td>L</td>\n    </tr>\n    <tr>\n      <th>3</th>\n      <td>0</td>\n      <td>0</td>\n      <td>2023-02-25</td>\n      <td>Augsburg</td>\n      <td>Hertha BSC</td>\n      <td>L</td>\n      <td>1</td>\n      <td>0</td>\n      <td>Hertha BSC</td>\n      <td>Augsburg</td>\n      <td>W</td>\n    </tr>\n    <tr>\n      <th>4</th>\n      <td>1</td>\n      <td>0</td>\n      <td>2023-03-04</td>\n      <td>Augsburg</td>\n      <td>Werder Bremen</td>\n      <td>W</td>\n      <td>0</td>\n      <td>0</td>\n      <td>Werder Bremen</td>\n      <td>Augsburg</td>\n      <td>L</td>\n    </tr>\n    <tr>\n      <th>...</th>\n      <td>...</td>\n      <td>...</td>\n      <td>...</td>\n      <td>...</td>\n      <td>...</td>\n      <td>...</td>\n      <td>...</td>\n      <td>...</td>\n      <td>...</td>\n      <td>...</td>\n      <td>...</td>\n    </tr>\n    <tr>\n      <th>283</th>\n      <td>1</td>\n      <td>0</td>\n      <td>2023-04-30</td>\n      <td>Wolfsburg</td>\n      <td>Mainz 05</td>\n      <td>W</td>\n      <td>0</td>\n      <td>0</td>\n      <td>Mainz 05</td>\n      <td>Wolfsburg</td>\n      <td>L</td>\n    </tr>\n    <tr>\n      <th>284</th>\n      <td>0</td>\n      <td>0</td>\n      <td>2023-05-07</td>\n      <td>Wolfsburg</td>\n      <td>Dortmund</td>\n      <td>L</td>\n      <td>1</td>\n      <td>1</td>\n      <td>Dortmund</td>\n      <td>Wolfsburg</td>\n      <td>W</td>\n    </tr>\n    <tr>\n      <th>285</th>\n      <td>1</td>\n      <td>0</td>\n      <td>2023-05-13</td>\n      <td>Wolfsburg</td>\n      <td>Hoffenheim</td>\n      <td>W</td>\n      <td>0</td>\n      <td>0</td>\n      <td>Hoffenheim</td>\n      <td>Wolfsburg</td>\n      <td>L</td>\n    </tr>\n    <tr>\n      <th>286</th>\n      <td>0</td>\n      <td>0</td>\n      <td>2023-05-19</td>\n      <td>Wolfsburg</td>\n      <td>Freiburg</td>\n      <td>L</td>\n      <td>1</td>\n      <td>1</td>\n      <td>Freiburg</td>\n      <td>Wolfsburg</td>\n      <td>W</td>\n    </tr>\n    <tr>\n      <th>287</th>\n      <td>0</td>\n      <td>0</td>\n      <td>2023-05-27</td>\n      <td>Wolfsburg</td>\n      <td>Hertha BSC</td>\n      <td>L</td>\n      <td>1</td>\n      <td>0</td>\n      <td>Hertha BSC</td>\n      <td>Wolfsburg</td>\n      <td>W</td>\n    </tr>\n  </tbody>\n</table>\n<p>288 rows × 11 columns</p>\n</div>"
     },
     "execution_count": 59,
     "metadata": {},
     "output_type": "execute_result"
    }
   ],
   "source": [
    "merged = combined.merge(combined, left_on=['date', 'team'], right_on=['date', 'opponent'])\n",
    "merged"
   ],
   "metadata": {
    "collapsed": false,
    "ExecuteTime": {
     "end_time": "2023-11-15T14:23:09.398645391Z",
     "start_time": "2023-11-15T14:23:09.342323383Z"
    }
   },
   "id": "285ea337e29d938e"
  },
  {
   "cell_type": "markdown",
   "source": [
    "Get the rows where we predicted that **the home team would win and the away team would lose**."
   ],
   "metadata": {
    "collapsed": false
   },
   "id": "6f758fc96c0316ab"
  },
  {
   "cell_type": "code",
   "execution_count": 60,
   "outputs": [
    {
     "name": "stdout",
     "output_type": "stream",
     "text": [
      "Precision: 65.85%\n"
     ]
    }
   ],
   "source": [
    "precision_df = merged[(merged['prediction_x'] == 1) & (merged['prediction_y'] == 0)]['actual_x'].value_counts()\n",
    "precision = precision_df.iloc[0] / (precision_df.iloc[0] + precision_df.iloc[1]) * 100\n",
    "print(f'Precision: {precision:.2f}%')"
   ],
   "metadata": {
    "collapsed": false,
    "ExecuteTime": {
     "end_time": "2023-11-15T14:23:09.399585385Z",
     "start_time": "2023-11-15T14:23:09.355211398Z"
    }
   },
   "id": "5165c2ab4cd7a0cb"
  }
 ],
 "metadata": {
  "kernelspec": {
   "display_name": "Python 3",
   "language": "python",
   "name": "python3"
  },
  "language_info": {
   "codemirror_mode": {
    "name": "ipython",
    "version": 2
   },
   "file_extension": ".py",
   "mimetype": "text/x-python",
   "name": "python",
   "nbconvert_exporter": "python",
   "pygments_lexer": "ipython2",
   "version": "2.7.6"
  }
 },
 "nbformat": 4,
 "nbformat_minor": 5
}
