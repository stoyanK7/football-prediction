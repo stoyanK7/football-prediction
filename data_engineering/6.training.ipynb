{
 "cells": [
  {
   "cell_type": "markdown",
   "source": [
    "# Training the model"
   ],
   "metadata": {
    "collapsed": false
   },
   "id": "af03889ba38d1232"
  },
  {
   "cell_type": "markdown",
   "source": [
    "Imports."
   ],
   "metadata": {
    "collapsed": false
   },
   "id": "174fc7db1c2e5f3e"
  },
  {
   "cell_type": "code",
   "execution_count": 160,
   "outputs": [],
   "source": [
    "import pandas as pd\n",
    "from sklearn.ensemble import RandomForestClassifier\n",
    "from sklearn.metrics import precision_score"
   ],
   "metadata": {
    "collapsed": false,
    "ExecuteTime": {
     "end_time": "2023-11-07T12:17:04.124541255Z",
     "start_time": "2023-11-07T12:17:04.052176187Z"
    }
   },
   "id": "70716b6127abf94"
  },
  {
   "cell_type": "markdown",
   "source": [
    "Pathing to the data."
   ],
   "metadata": {
    "collapsed": false
   },
   "id": "d5d4ce6133888ffa"
  },
  {
   "cell_type": "code",
   "execution_count": 161,
   "outputs": [],
   "source": [
    "data_path = '../data'\n",
    "prepared_data_path = f'{data_path}/csv/prepared'"
   ],
   "metadata": {
    "collapsed": false,
    "ExecuteTime": {
     "end_time": "2023-11-07T12:17:04.180286697Z",
     "start_time": "2023-11-07T12:17:04.060108540Z"
    }
   },
   "id": "8f089a32f7cdf914"
  },
  {
   "cell_type": "markdown",
   "source": [
    "Open the prepared data."
   ],
   "metadata": {
    "collapsed": false
   },
   "id": "c34056ed649040cd"
  },
  {
   "cell_type": "code",
   "execution_count": 162,
   "outputs": [
    {
     "data": {
      "text/plain": "date                                    object\ntime                                    object\ncomp                                    object\nround                                   object\nday                                     object\n                                        ...   \nshooting_standard_sot_rolling_avg      float64\nshooting_standard_dist_rolling_avg     float64\nshooting_standard_fk_rolling_avg       float64\nshooting_standard_pk_rolling_avg       float64\nshooting_standard_pkatt_rolling_avg    float64\nLength: 172, dtype: object"
     },
     "execution_count": 162,
     "metadata": {},
     "output_type": "execute_result"
    }
   ],
   "source": [
    "matches_df = pd.read_csv(f'{prepared_data_path}/bundesliga_matches.csv')\n",
    "matches_df.dtypes"
   ],
   "metadata": {
    "collapsed": false,
    "ExecuteTime": {
     "end_time": "2023-11-07T12:17:04.255317241Z",
     "start_time": "2023-11-07T12:17:04.079943110Z"
    }
   },
   "id": "fafbc1b5a2c4407c"
  },
  {
   "cell_type": "markdown",
   "source": [
    "Create a method to ease the process of predicting."
   ],
   "metadata": {
    "collapsed": false
   },
   "id": "5ba7d4566e276544"
  },
  {
   "cell_type": "code",
   "execution_count": 163,
   "outputs": [],
   "source": [
    "def make_predictions(data, predictors):\n",
    "    \"\"\"\n",
    "    Make predictions using the random forest classifier.\n",
    "\n",
    "    :param data: the dataframe to use\n",
    "    :param predictors: the predictor columns\n",
    "    :return: combined: a dataframe containing the actual and predicted values\n",
    "    \"\"\"\n",
    "    # Split the data into train and test sets.\n",
    "    train_set = data[data['date'] < '2023-02-01']\n",
    "    test_set = data[data['date'] >= '2023-02-01']\n",
    "    print(f'Train: {len(train_set)} matches ({len(train_set) / len(data):.2%})')\n",
    "    print(f'Test: {len(test_set)} matches ({len(test_set) / len(data):.2%})')\n",
    "\n",
    "    # Create and fit (train) the model.\n",
    "    model = RandomForestClassifier(\n",
    "        n_estimators=50,  # number of trees in the forest\n",
    "        min_samples_split=10,  # number of samples required to split an internal node\n",
    "        random_state=1  # seed\n",
    "    )\n",
    "    model.fit(train_set[predictors], train_set['target'])\n",
    "\n",
    "    # Make predictions on the test dataset and calculate the precision score.\n",
    "    predictions = model.predict(test_set[predictors])\n",
    "    precision = precision_score(test_set['target'], predictions)\n",
    "    print(f'Precision: {precision:.2%}')\n",
    "\n",
    "    # Create a dataframe containing the actual and predicted values.\n",
    "    combined = pd.DataFrame(\n",
    "        dict(actual=test_set['target'], prediction=predictions),\n",
    "        index=test_set.index\n",
    "    )\n",
    "    return combined"
   ],
   "metadata": {
    "collapsed": false,
    "ExecuteTime": {
     "end_time": "2023-11-07T12:17:04.256344110Z",
     "start_time": "2023-11-07T12:17:04.229608660Z"
    }
   },
   "id": "aa03173b77dff56"
  },
  {
   "cell_type": "markdown",
   "source": [
    "Make predictions on the matches dataframe."
   ],
   "metadata": {
    "collapsed": false
   },
   "id": "352baad3dc502baa"
  },
  {
   "cell_type": "code",
   "execution_count": 164,
   "outputs": [
    {
     "name": "stdout",
     "output_type": "stream",
     "text": [
      "Train: 3304 matches (91.88%)\n",
      "Test: 292 matches (8.12%)\n",
      "Precision: 60.34%\n"
     ]
    }
   ],
   "source": [
    "predictors = [\n",
    "    'opponent_code',\n",
    "    'venue_code',\n",
    "    'hour',\n",
    "    'day_code',\n",
    "    'gf_rolling_avg',\n",
    "    'ga_rolling_avg',\n",
    "    'shooting_standard_sh_rolling_avg',\n",
    "    'shooting_standard_sot_rolling_avg',\n",
    "    'shooting_standard_dist_rolling_avg',\n",
    "    'shooting_standard_fk_rolling_avg',\n",
    "    'shooting_standard_pk_rolling_avg',\n",
    "    'shooting_standard_pkatt_rolling_avg'\n",
    "]\n",
    "combined = make_predictions(matches_df, predictors)"
   ],
   "metadata": {
    "collapsed": false,
    "ExecuteTime": {
     "end_time": "2023-11-07T12:17:04.557047868Z",
     "start_time": "2023-11-07T12:17:04.236328344Z"
    }
   },
   "id": "bf10d57ac5885bdf"
  },
  {
   "cell_type": "code",
   "execution_count": 165,
   "outputs": [
    {
     "data": {
      "text/plain": "prediction  Loss/Draw  Win\nactual                    \nLoss/Draw         161   23\nWin                73   35",
      "text/html": "<div>\n<style scoped>\n    .dataframe tbody tr th:only-of-type {\n        vertical-align: middle;\n    }\n\n    .dataframe tbody tr th {\n        vertical-align: top;\n    }\n\n    .dataframe thead th {\n        text-align: right;\n    }\n</style>\n<table border=\"1\" class=\"dataframe\">\n  <thead>\n    <tr style=\"text-align: right;\">\n      <th>prediction</th>\n      <th>Loss/Draw</th>\n      <th>Win</th>\n    </tr>\n    <tr>\n      <th>actual</th>\n      <th></th>\n      <th></th>\n    </tr>\n  </thead>\n  <tbody>\n    <tr>\n      <th>Loss/Draw</th>\n      <td>161</td>\n      <td>23</td>\n    </tr>\n    <tr>\n      <th>Win</th>\n      <td>73</td>\n      <td>35</td>\n    </tr>\n  </tbody>\n</table>\n</div>"
     },
     "execution_count": 165,
     "metadata": {},
     "output_type": "execute_result"
    }
   ],
   "source": [
    "matrix_df = combined.copy()\n",
    "# Create a mapping dictionary for the replacements.\n",
    "# We want to make the confusion matrix easier to read.\n",
    "mapping = {0: 'Loss/Draw', 1: 'Win'}\n",
    "\n",
    "# Apply the replacements to the 'actual' and 'prediction' columns.\n",
    "matrix_df['actual'] = matrix_df['actual'].replace(mapping)\n",
    "matrix_df['prediction'] = matrix_df['prediction'].replace(mapping)\n",
    "\n",
    "# Create a confusion matrix.\n",
    "pd.crosstab(index=matrix_df['actual'], columns=matrix_df['prediction'])"
   ],
   "metadata": {
    "collapsed": false,
    "ExecuteTime": {
     "end_time": "2023-11-07T12:17:04.595783744Z",
     "start_time": "2023-11-07T12:17:04.579696716Z"
    }
   },
   "id": "9553c6c96ad30ac5"
  },
  {
   "cell_type": "markdown",
   "source": [
    "Merge to see predictions."
   ],
   "metadata": {
    "collapsed": false
   },
   "id": "5249cdec2a2d210e"
  },
  {
   "cell_type": "code",
   "execution_count": 166,
   "outputs": [
    {
     "data": {
      "text/plain": "      actual  prediction        date       team          opponent result\n247        1           0  2023-02-03   Augsburg  Bayer Leverkusen      W\n248        0           0  2023-02-11   Augsburg          Mainz 05      L\n249        1           0  2023-02-17   Augsburg        Hoffenheim      W\n250        0           0  2023-02-25   Augsburg        Hertha BSC      L\n251        1           0  2023-03-04   Augsburg     Werder Bremen      W\n...      ...         ...         ...        ...               ...    ...\n3591       1           0  2023-04-30  Wolfsburg          Mainz 05      W\n3592       0           0  2023-05-07  Wolfsburg          Dortmund      L\n3593       1           1  2023-05-13  Wolfsburg        Hoffenheim      W\n3594       0           0  2023-05-19  Wolfsburg          Freiburg      L\n3595       0           0  2023-05-27  Wolfsburg        Hertha BSC      L\n\n[292 rows x 6 columns]",
      "text/html": "<div>\n<style scoped>\n    .dataframe tbody tr th:only-of-type {\n        vertical-align: middle;\n    }\n\n    .dataframe tbody tr th {\n        vertical-align: top;\n    }\n\n    .dataframe thead th {\n        text-align: right;\n    }\n</style>\n<table border=\"1\" class=\"dataframe\">\n  <thead>\n    <tr style=\"text-align: right;\">\n      <th></th>\n      <th>actual</th>\n      <th>prediction</th>\n      <th>date</th>\n      <th>team</th>\n      <th>opponent</th>\n      <th>result</th>\n    </tr>\n  </thead>\n  <tbody>\n    <tr>\n      <th>247</th>\n      <td>1</td>\n      <td>0</td>\n      <td>2023-02-03</td>\n      <td>Augsburg</td>\n      <td>Bayer Leverkusen</td>\n      <td>W</td>\n    </tr>\n    <tr>\n      <th>248</th>\n      <td>0</td>\n      <td>0</td>\n      <td>2023-02-11</td>\n      <td>Augsburg</td>\n      <td>Mainz 05</td>\n      <td>L</td>\n    </tr>\n    <tr>\n      <th>249</th>\n      <td>1</td>\n      <td>0</td>\n      <td>2023-02-17</td>\n      <td>Augsburg</td>\n      <td>Hoffenheim</td>\n      <td>W</td>\n    </tr>\n    <tr>\n      <th>250</th>\n      <td>0</td>\n      <td>0</td>\n      <td>2023-02-25</td>\n      <td>Augsburg</td>\n      <td>Hertha BSC</td>\n      <td>L</td>\n    </tr>\n    <tr>\n      <th>251</th>\n      <td>1</td>\n      <td>0</td>\n      <td>2023-03-04</td>\n      <td>Augsburg</td>\n      <td>Werder Bremen</td>\n      <td>W</td>\n    </tr>\n    <tr>\n      <th>...</th>\n      <td>...</td>\n      <td>...</td>\n      <td>...</td>\n      <td>...</td>\n      <td>...</td>\n      <td>...</td>\n    </tr>\n    <tr>\n      <th>3591</th>\n      <td>1</td>\n      <td>0</td>\n      <td>2023-04-30</td>\n      <td>Wolfsburg</td>\n      <td>Mainz 05</td>\n      <td>W</td>\n    </tr>\n    <tr>\n      <th>3592</th>\n      <td>0</td>\n      <td>0</td>\n      <td>2023-05-07</td>\n      <td>Wolfsburg</td>\n      <td>Dortmund</td>\n      <td>L</td>\n    </tr>\n    <tr>\n      <th>3593</th>\n      <td>1</td>\n      <td>1</td>\n      <td>2023-05-13</td>\n      <td>Wolfsburg</td>\n      <td>Hoffenheim</td>\n      <td>W</td>\n    </tr>\n    <tr>\n      <th>3594</th>\n      <td>0</td>\n      <td>0</td>\n      <td>2023-05-19</td>\n      <td>Wolfsburg</td>\n      <td>Freiburg</td>\n      <td>L</td>\n    </tr>\n    <tr>\n      <th>3595</th>\n      <td>0</td>\n      <td>0</td>\n      <td>2023-05-27</td>\n      <td>Wolfsburg</td>\n      <td>Hertha BSC</td>\n      <td>L</td>\n    </tr>\n  </tbody>\n</table>\n<p>292 rows × 6 columns</p>\n</div>"
     },
     "execution_count": 166,
     "metadata": {},
     "output_type": "execute_result"
    }
   ],
   "source": [
    "combined = combined.merge(\n",
    "    matches_df[['date', 'team', 'opponent', 'result']],\n",
    "    left_index=True,\n",
    "    right_index=True\n",
    ")\n",
    "combined"
   ],
   "metadata": {
    "collapsed": false,
    "ExecuteTime": {
     "end_time": "2023-11-07T12:17:04.609666302Z",
     "start_time": "2023-11-07T12:17:04.587486160Z"
    }
   },
   "id": "3dd1fc78735db70a"
  },
  {
   "cell_type": "markdown",
   "source": [
    "The dataframe above has two rows per match - one containing the prediction for the home team, and one containing the prediction for the away team. We want to combine these two rows into one row per match."
   ],
   "metadata": {
    "collapsed": false
   },
   "id": "50dfd07accfa257c"
  },
  {
   "cell_type": "code",
   "execution_count": 167,
   "outputs": [
    {
     "data": {
      "text/plain": "     actual_x  prediction_x        date     team_x        opponent_x result_x  \\\n0           1             0  2023-02-03   Augsburg  Bayer Leverkusen        W   \n1           0             0  2023-02-11   Augsburg          Mainz 05        L   \n2           1             0  2023-02-17   Augsburg        Hoffenheim        W   \n3           0             0  2023-02-25   Augsburg        Hertha BSC        L   \n4           1             0  2023-03-04   Augsburg     Werder Bremen        W   \n..        ...           ...         ...        ...               ...      ...   \n283         1             0  2023-04-30  Wolfsburg          Mainz 05        W   \n284         0             0  2023-05-07  Wolfsburg          Dortmund        L   \n285         1             1  2023-05-13  Wolfsburg        Hoffenheim        W   \n286         0             0  2023-05-19  Wolfsburg          Freiburg        L   \n287         0             0  2023-05-27  Wolfsburg        Hertha BSC        L   \n\n     actual_y  prediction_y            team_y opponent_y result_y  \n0           0             0  Bayer Leverkusen   Augsburg        L  \n1           1             1          Mainz 05   Augsburg        W  \n2           0             0        Hoffenheim   Augsburg        L  \n3           1             1        Hertha BSC   Augsburg        W  \n4           0             0     Werder Bremen   Augsburg        L  \n..        ...           ...               ...        ...      ...  \n283         0             0          Mainz 05  Wolfsburg        L  \n284         1             1          Dortmund  Wolfsburg        W  \n285         0             0        Hoffenheim  Wolfsburg        L  \n286         1             0          Freiburg  Wolfsburg        W  \n287         1             0        Hertha BSC  Wolfsburg        W  \n\n[288 rows x 11 columns]",
      "text/html": "<div>\n<style scoped>\n    .dataframe tbody tr th:only-of-type {\n        vertical-align: middle;\n    }\n\n    .dataframe tbody tr th {\n        vertical-align: top;\n    }\n\n    .dataframe thead th {\n        text-align: right;\n    }\n</style>\n<table border=\"1\" class=\"dataframe\">\n  <thead>\n    <tr style=\"text-align: right;\">\n      <th></th>\n      <th>actual_x</th>\n      <th>prediction_x</th>\n      <th>date</th>\n      <th>team_x</th>\n      <th>opponent_x</th>\n      <th>result_x</th>\n      <th>actual_y</th>\n      <th>prediction_y</th>\n      <th>team_y</th>\n      <th>opponent_y</th>\n      <th>result_y</th>\n    </tr>\n  </thead>\n  <tbody>\n    <tr>\n      <th>0</th>\n      <td>1</td>\n      <td>0</td>\n      <td>2023-02-03</td>\n      <td>Augsburg</td>\n      <td>Bayer Leverkusen</td>\n      <td>W</td>\n      <td>0</td>\n      <td>0</td>\n      <td>Bayer Leverkusen</td>\n      <td>Augsburg</td>\n      <td>L</td>\n    </tr>\n    <tr>\n      <th>1</th>\n      <td>0</td>\n      <td>0</td>\n      <td>2023-02-11</td>\n      <td>Augsburg</td>\n      <td>Mainz 05</td>\n      <td>L</td>\n      <td>1</td>\n      <td>1</td>\n      <td>Mainz 05</td>\n      <td>Augsburg</td>\n      <td>W</td>\n    </tr>\n    <tr>\n      <th>2</th>\n      <td>1</td>\n      <td>0</td>\n      <td>2023-02-17</td>\n      <td>Augsburg</td>\n      <td>Hoffenheim</td>\n      <td>W</td>\n      <td>0</td>\n      <td>0</td>\n      <td>Hoffenheim</td>\n      <td>Augsburg</td>\n      <td>L</td>\n    </tr>\n    <tr>\n      <th>3</th>\n      <td>0</td>\n      <td>0</td>\n      <td>2023-02-25</td>\n      <td>Augsburg</td>\n      <td>Hertha BSC</td>\n      <td>L</td>\n      <td>1</td>\n      <td>1</td>\n      <td>Hertha BSC</td>\n      <td>Augsburg</td>\n      <td>W</td>\n    </tr>\n    <tr>\n      <th>4</th>\n      <td>1</td>\n      <td>0</td>\n      <td>2023-03-04</td>\n      <td>Augsburg</td>\n      <td>Werder Bremen</td>\n      <td>W</td>\n      <td>0</td>\n      <td>0</td>\n      <td>Werder Bremen</td>\n      <td>Augsburg</td>\n      <td>L</td>\n    </tr>\n    <tr>\n      <th>...</th>\n      <td>...</td>\n      <td>...</td>\n      <td>...</td>\n      <td>...</td>\n      <td>...</td>\n      <td>...</td>\n      <td>...</td>\n      <td>...</td>\n      <td>...</td>\n      <td>...</td>\n      <td>...</td>\n    </tr>\n    <tr>\n      <th>283</th>\n      <td>1</td>\n      <td>0</td>\n      <td>2023-04-30</td>\n      <td>Wolfsburg</td>\n      <td>Mainz 05</td>\n      <td>W</td>\n      <td>0</td>\n      <td>0</td>\n      <td>Mainz 05</td>\n      <td>Wolfsburg</td>\n      <td>L</td>\n    </tr>\n    <tr>\n      <th>284</th>\n      <td>0</td>\n      <td>0</td>\n      <td>2023-05-07</td>\n      <td>Wolfsburg</td>\n      <td>Dortmund</td>\n      <td>L</td>\n      <td>1</td>\n      <td>1</td>\n      <td>Dortmund</td>\n      <td>Wolfsburg</td>\n      <td>W</td>\n    </tr>\n    <tr>\n      <th>285</th>\n      <td>1</td>\n      <td>1</td>\n      <td>2023-05-13</td>\n      <td>Wolfsburg</td>\n      <td>Hoffenheim</td>\n      <td>W</td>\n      <td>0</td>\n      <td>0</td>\n      <td>Hoffenheim</td>\n      <td>Wolfsburg</td>\n      <td>L</td>\n    </tr>\n    <tr>\n      <th>286</th>\n      <td>0</td>\n      <td>0</td>\n      <td>2023-05-19</td>\n      <td>Wolfsburg</td>\n      <td>Freiburg</td>\n      <td>L</td>\n      <td>1</td>\n      <td>0</td>\n      <td>Freiburg</td>\n      <td>Wolfsburg</td>\n      <td>W</td>\n    </tr>\n    <tr>\n      <th>287</th>\n      <td>0</td>\n      <td>0</td>\n      <td>2023-05-27</td>\n      <td>Wolfsburg</td>\n      <td>Hertha BSC</td>\n      <td>L</td>\n      <td>1</td>\n      <td>0</td>\n      <td>Hertha BSC</td>\n      <td>Wolfsburg</td>\n      <td>W</td>\n    </tr>\n  </tbody>\n</table>\n<p>288 rows × 11 columns</p>\n</div>"
     },
     "execution_count": 167,
     "metadata": {},
     "output_type": "execute_result"
    }
   ],
   "source": [
    "merged = combined.merge(combined, left_on=['date', 'team'], right_on=['date', 'opponent'])\n",
    "merged"
   ],
   "metadata": {
    "collapsed": false,
    "ExecuteTime": {
     "end_time": "2023-11-07T12:17:04.766544726Z",
     "start_time": "2023-11-07T12:17:04.610930170Z"
    }
   },
   "id": "285ea337e29d938e"
  },
  {
   "cell_type": "markdown",
   "source": [
    "Get the rows where we predicted that **the home team would win and the away team would lose**."
   ],
   "metadata": {
    "collapsed": false
   },
   "id": "6f758fc96c0316ab"
  },
  {
   "cell_type": "code",
   "execution_count": 168,
   "outputs": [
    {
     "name": "stdout",
     "output_type": "stream",
     "text": [
      "Accuracy: 60.38%\n"
     ]
    }
   ],
   "source": [
    "accuracy_df = merged[(merged['prediction_x'] == 1) & (merged['prediction_y'] == 0)]['actual_x'].value_counts()\n",
    "accuracy = accuracy_df.iloc[0] / (accuracy_df.iloc[0] + accuracy_df.iloc[1]) * 100\n",
    "print(f'Accuracy: {accuracy:.2f}%')"
   ],
   "metadata": {
    "collapsed": false,
    "ExecuteTime": {
     "end_time": "2023-11-07T12:17:04.766945192Z",
     "start_time": "2023-11-07T12:17:04.674629386Z"
    }
   },
   "id": "5165c2ab4cd7a0cb"
  }
 ],
 "metadata": {
  "kernelspec": {
   "display_name": "Python 3",
   "language": "python",
   "name": "python3"
  },
  "language_info": {
   "codemirror_mode": {
    "name": "ipython",
    "version": 2
   },
   "file_extension": ".py",
   "mimetype": "text/x-python",
   "name": "python",
   "nbconvert_exporter": "python",
   "pygments_lexer": "ipython2",
   "version": "2.7.6"
  }
 },
 "nbformat": 4,
 "nbformat_minor": 5
}
