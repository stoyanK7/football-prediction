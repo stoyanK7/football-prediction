{
 "cells": [
  {
   "cell_type": "markdown",
   "source": [
    "# Preparing the data for training"
   ],
   "metadata": {
    "collapsed": false
   },
   "id": "8b2673f6af0c5cb9"
  },
  {
   "cell_type": "markdown",
   "source": [
    "Imports."
   ],
   "metadata": {
    "collapsed": false
   },
   "id": "668068421eb8e5d1"
  },
  {
   "cell_type": "code",
   "execution_count": 280,
   "outputs": [],
   "source": [
    "import pandas as pd"
   ],
   "metadata": {
    "collapsed": false,
    "ExecuteTime": {
     "end_time": "2023-11-15T12:32:31.140246275Z",
     "start_time": "2023-11-15T12:32:31.122848926Z"
    }
   },
   "id": "1ef14a57c9a98432"
  },
  {
   "cell_type": "markdown",
   "source": [
    "Pathing to the data."
   ],
   "metadata": {
    "collapsed": false
   },
   "id": "324cdac11530528d"
  },
  {
   "cell_type": "code",
   "execution_count": 281,
   "outputs": [],
   "source": [
    "data_path = '../data'\n",
    "clean_data_path = f'{data_path}/csv/clean'\n",
    "prepared_data_path = f'{data_path}/csv/prepared'"
   ],
   "metadata": {
    "collapsed": false,
    "ExecuteTime": {
     "end_time": "2023-11-15T12:32:31.151120857Z",
     "start_time": "2023-11-15T12:32:31.125301616Z"
    }
   },
   "id": "ea38a5e2bf0b6b1b"
  },
  {
   "cell_type": "markdown",
   "source": [
    "Open the cleaned data."
   ],
   "metadata": {
    "collapsed": false
   },
   "id": "95b1cf1a6a74d7f6"
  },
  {
   "cell_type": "code",
   "execution_count": 282,
   "outputs": [],
   "source": [
    "matches_df = pd.read_csv(f'{clean_data_path}/bundesliga_matches.csv')"
   ],
   "metadata": {
    "collapsed": false,
    "ExecuteTime": {
     "end_time": "2023-11-15T12:32:31.189869903Z",
     "start_time": "2023-11-15T12:32:31.136293113Z"
    }
   },
   "id": "97e71fc452a55e88"
  },
  {
   "cell_type": "markdown",
   "source": [
    "Check types of columns to make sure they are numeric."
   ],
   "metadata": {
    "collapsed": false
   },
   "id": "ea2dff26057ba545"
  },
  {
   "cell_type": "code",
   "execution_count": 283,
   "outputs": [
    {
     "data": {
      "text/plain": "date                       object\ntime                       object\ncomp                       object\nround                      object\nday                        object\n                           ...   \nmisc_aerial_duels_won     float64\nmisc_aerial_duels_lost    float64\nmisc_aerial_duels_won%    float64\npgf                       float64\npga                       float64\nLength: 159, dtype: object"
     },
     "execution_count": 283,
     "metadata": {},
     "output_type": "execute_result"
    }
   ],
   "source": [
    "matches_df.dtypes"
   ],
   "metadata": {
    "collapsed": false,
    "ExecuteTime": {
     "end_time": "2023-11-15T12:32:31.193135267Z",
     "start_time": "2023-11-15T12:32:31.188762707Z"
    }
   },
   "id": "67880f9ad677012"
  },
  {
   "cell_type": "markdown",
   "source": [
    "Convert `date` column to datetime."
   ],
   "metadata": {
    "collapsed": false
   },
   "id": "c6ee3cdfd3bcde88"
  },
  {
   "cell_type": "code",
   "execution_count": 284,
   "outputs": [
    {
     "data": {
      "text/plain": "dtype('<M8[ns]')"
     },
     "execution_count": 284,
     "metadata": {},
     "output_type": "execute_result"
    }
   ],
   "source": [
    "matches_df['date'] = pd.to_datetime(matches_df['date'])\n",
    "matches_df['date'].dtypes"
   ],
   "metadata": {
    "collapsed": false,
    "ExecuteTime": {
     "end_time": "2023-11-15T12:32:31.204275107Z",
     "start_time": "2023-11-15T12:32:31.191728592Z"
    }
   },
   "id": "9aaa53992d30e6f4"
  },
  {
   "cell_type": "markdown",
   "source": [
    "Convert `opponent` column to categorical."
   ],
   "metadata": {
    "collapsed": false
   },
   "id": "f2b964f926cca8a4"
  },
  {
   "cell_type": "code",
   "execution_count": 285,
   "outputs": [
    {
     "data": {
      "text/plain": "                opponent  opponent_code\n0                Arminia              0\n1             Hertha BSC             12\n2             Hoffenheim             13\n3                   Koln             14\n4          Bayern Munich              3\n5          Werder Bremen             23\n6              Stuttgart             21\n7             RB Leipzig             19\n8           Union Berlin             22\n9               Dortmund              5\n10             Wolfsburg             24\n11       Monchengladbach             16\n12              Augsburg              1\n13      Bayer Leverkusen              2\n14              Mainz 05             15\n15            Schalke 04             20\n16              Freiburg              8\n34              Nurnberg             17\n44            Dusseldorf              6\n46           Hannover 96             11\n47   Eintracht Frankfurt              7\n77                Bochum              4\n79        Greuther Furth              9\n177         Paderborn 07             18\n215         Hamburger SV             10",
      "text/html": "<div>\n<style scoped>\n    .dataframe tbody tr th:only-of-type {\n        vertical-align: middle;\n    }\n\n    .dataframe tbody tr th {\n        vertical-align: top;\n    }\n\n    .dataframe thead th {\n        text-align: right;\n    }\n</style>\n<table border=\"1\" class=\"dataframe\">\n  <thead>\n    <tr style=\"text-align: right;\">\n      <th></th>\n      <th>opponent</th>\n      <th>opponent_code</th>\n    </tr>\n  </thead>\n  <tbody>\n    <tr>\n      <th>0</th>\n      <td>Arminia</td>\n      <td>0</td>\n    </tr>\n    <tr>\n      <th>1</th>\n      <td>Hertha BSC</td>\n      <td>12</td>\n    </tr>\n    <tr>\n      <th>2</th>\n      <td>Hoffenheim</td>\n      <td>13</td>\n    </tr>\n    <tr>\n      <th>3</th>\n      <td>Koln</td>\n      <td>14</td>\n    </tr>\n    <tr>\n      <th>4</th>\n      <td>Bayern Munich</td>\n      <td>3</td>\n    </tr>\n    <tr>\n      <th>5</th>\n      <td>Werder Bremen</td>\n      <td>23</td>\n    </tr>\n    <tr>\n      <th>6</th>\n      <td>Stuttgart</td>\n      <td>21</td>\n    </tr>\n    <tr>\n      <th>7</th>\n      <td>RB Leipzig</td>\n      <td>19</td>\n    </tr>\n    <tr>\n      <th>8</th>\n      <td>Union Berlin</td>\n      <td>22</td>\n    </tr>\n    <tr>\n      <th>9</th>\n      <td>Dortmund</td>\n      <td>5</td>\n    </tr>\n    <tr>\n      <th>10</th>\n      <td>Wolfsburg</td>\n      <td>24</td>\n    </tr>\n    <tr>\n      <th>11</th>\n      <td>Monchengladbach</td>\n      <td>16</td>\n    </tr>\n    <tr>\n      <th>12</th>\n      <td>Augsburg</td>\n      <td>1</td>\n    </tr>\n    <tr>\n      <th>13</th>\n      <td>Bayer Leverkusen</td>\n      <td>2</td>\n    </tr>\n    <tr>\n      <th>14</th>\n      <td>Mainz 05</td>\n      <td>15</td>\n    </tr>\n    <tr>\n      <th>15</th>\n      <td>Schalke 04</td>\n      <td>20</td>\n    </tr>\n    <tr>\n      <th>16</th>\n      <td>Freiburg</td>\n      <td>8</td>\n    </tr>\n    <tr>\n      <th>34</th>\n      <td>Nurnberg</td>\n      <td>17</td>\n    </tr>\n    <tr>\n      <th>44</th>\n      <td>Dusseldorf</td>\n      <td>6</td>\n    </tr>\n    <tr>\n      <th>46</th>\n      <td>Hannover 96</td>\n      <td>11</td>\n    </tr>\n    <tr>\n      <th>47</th>\n      <td>Eintracht Frankfurt</td>\n      <td>7</td>\n    </tr>\n    <tr>\n      <th>77</th>\n      <td>Bochum</td>\n      <td>4</td>\n    </tr>\n    <tr>\n      <th>79</th>\n      <td>Greuther Furth</td>\n      <td>9</td>\n    </tr>\n    <tr>\n      <th>177</th>\n      <td>Paderborn 07</td>\n      <td>18</td>\n    </tr>\n    <tr>\n      <th>215</th>\n      <td>Hamburger SV</td>\n      <td>10</td>\n    </tr>\n  </tbody>\n</table>\n</div>"
     },
     "execution_count": 285,
     "metadata": {},
     "output_type": "execute_result"
    }
   ],
   "source": [
    "matches_df['opponent_code'] = matches_df['opponent'].astype('category').cat.codes\n",
    "matches_df[['opponent', 'opponent_code']].drop_duplicates()"
   ],
   "metadata": {
    "collapsed": false,
    "ExecuteTime": {
     "end_time": "2023-11-15T12:32:31.281354709Z",
     "start_time": "2023-11-15T12:32:31.204380428Z"
    }
   },
   "id": "e41badf9900e28e9"
  },
  {
   "cell_type": "markdown",
   "source": [
    "Create a method to compute rolling averages. We will split the matches dataframe by team, because what we want to do is compute rolling averages for each team - how did this team perform in the past few games?"
   ],
   "metadata": {
    "collapsed": false
   },
   "id": "d8548b7054b22edd"
  },
  {
   "cell_type": "code",
   "execution_count": 286,
   "outputs": [],
   "source": [
    "def rolling_averages(data, cols, new_cols):\n",
    "    \"\"\"\n",
    "    Compute rolling averages for the specified columns.\n",
    "\n",
    "    :param data: the dataframe to use.\n",
    "    :param cols: the columns to compute rolling averages for.\n",
    "    :param new_cols: the names of the new columns that will contain the rolling averages.\n",
    "    :return: the dataframe with the new columns added.\n",
    "    \"\"\"\n",
    "    # Sort by date because we want to look at the last 3 matches.\n",
    "    data = data.sort_values('date')\n",
    "\n",
    "    # Compute rolling averages for the specified columns.\n",
    "    # The closed parameter is set to 'left' so that the current match is not included in the average.\n",
    "    rolling_stats = data[cols].rolling(3, closed='left').mean()\n",
    "\n",
    "    # Add the rolling averages to the dataframe.\n",
    "    rolling_stats.columns = new_cols\n",
    "    data = pd.concat([data, rolling_stats], axis=1)\n",
    "\n",
    "    # The first three matches will have NaN values for the rolling averages, so we drop them.\n",
    "    data = data.iloc[3:]\n",
    "\n",
    "    return data"
   ],
   "metadata": {
    "collapsed": false,
    "ExecuteTime": {
     "end_time": "2023-11-15T12:32:31.298123066Z",
     "start_time": "2023-11-15T12:32:31.264491088Z"
    }
   },
   "id": "2a4e8fa710e0d1dd"
  },
  {
   "cell_type": "markdown",
   "source": [
    "Create new predictor columns."
   ],
   "metadata": {
    "collapsed": false
   },
   "id": "c2722a07ac69d699"
  },
  {
   "cell_type": "code",
   "execution_count": 287,
   "outputs": [],
   "source": [
    "matches_df['venue_code'] = matches_df['venue'].astype('category').cat.codes\n",
    "matches_df['hour'] = matches_df['time'].str.replace(':.+', '', regex=True).astype('int')\n",
    "matches_df['day_code'] = matches_df['date'].dt.dayofweek\n",
    "matches_df['target'] = (matches_df['result'] == 'W').astype('int')"
   ],
   "metadata": {
    "collapsed": false,
    "ExecuteTime": {
     "end_time": "2023-11-15T12:32:31.298315618Z",
     "start_time": "2023-11-15T12:32:31.264592219Z"
    }
   },
   "id": "ea6053e7d6e701e2"
  },
  {
   "cell_type": "code",
   "execution_count": 288,
   "outputs": [
    {
     "data": {
      "text/plain": "           date   time        comp         round  day venue result  gf  ga  \\\n0    2020-10-17  18:30  Bundesliga   Matchweek 4  Sat  Home      L   1   4   \n1    2020-10-25  15:30  Bundesliga   Matchweek 5  Sun  Away      L   1   2   \n2    2020-10-31  15:30  Bundesliga   Matchweek 6  Sat  Home      L   0   2   \n3    2020-11-07  15:30  Bundesliga   Matchweek 7  Sat  Away      L   0   5   \n4    2020-11-21  15:30  Bundesliga   Matchweek 8  Sat  Home      L   1   2   \n...         ...    ...         ...           ...  ...   ...    ...  ..  ..   \n3594 2023-04-30  17:30  Bundesliga  Matchweek 30  Sun  Home      W   3   0   \n3595 2023-05-07  17:30  Bundesliga  Matchweek 31  Sun  Away      L   0   6   \n3596 2023-05-13  15:30  Bundesliga  Matchweek 32  Sat  Home      W   2   1   \n3597 2023-05-19  20:30  Bundesliga  Matchweek 33  Fri  Away      L   0   2   \n3598 2023-05-27  15:30  Bundesliga  Matchweek 34  Sat  Home      L   1   2   \n\n              opponent  ...  misc_aerial_duels_won_rolling_avg  \\\n0        Bayern Munich  ...                          21.333333   \n1            Wolfsburg  ...                          18.666667   \n2             Dortmund  ...                          17.333333   \n3         Union Berlin  ...                          14.000000   \n4     Bayer Leverkusen  ...                          15.333333   \n...                ...  ...                                ...   \n3594          Mainz 05  ...                           9.666667   \n3595          Dortmund  ...                          11.333333   \n3596        Hoffenheim  ...                          11.333333   \n3597          Freiburg  ...                          14.333333   \n3598        Hertha BSC  ...                          13.000000   \n\n      misc_aerial_duels_lost_rolling_avg  misc_aerial_duels_won%_rolling_avg  \\\n0                              18.666667                           52.866667   \n1                              15.333333                           53.900000   \n2                              18.333333                           48.800000   \n3                              16.000000                           47.933333   \n4                              20.333333                           43.100000   \n...                                  ...                                 ...   \n3594                           14.666667                           41.400000   \n3595                           17.000000                           40.366667   \n3596                           16.333333                           42.433333   \n3597                           15.333333                           47.700000   \n3598                           14.333333                           46.733333   \n\n      pgf_rolling_avg pga_rolling_avg opponent_code_rolling_avg  \\\n0                 NaN             NaN                 14.666667   \n1                 NaN             NaN                 13.333333   \n2                 NaN             NaN                 16.666667   \n3                 NaN             NaN                 10.666667   \n4                 NaN             NaN                 17.000000   \n...               ...             ...                       ...   \n3594              NaN             NaN                  7.333333   \n3595              NaN             NaN                  7.000000   \n3596              NaN             NaN                  8.000000   \n3597              NaN             NaN                 11.000000   \n3598              NaN             NaN                  8.666667   \n\n     venue_code_rolling_avg hour_rolling_avg  day_code_rolling_avg  \\\n0                  0.333333        15.000000              5.000000   \n1                  0.666667        16.000000              5.000000   \n2                  0.333333        16.000000              5.333333   \n3                  0.666667        16.000000              5.333333   \n4                  0.333333        15.000000              5.333333   \n...                     ...              ...                   ...   \n3594               0.333333        16.333333              5.666667   \n3595               0.666667        17.000000              5.666667   \n3596               0.333333        16.333333              5.666667   \n3597               0.666667        16.333333              5.666667   \n3598               0.333333        17.333333              5.000000   \n\n      target_rolling_avg  \n0               0.333333  \n1               0.333333  \n2               0.000000  \n3               0.000000  \n4               0.000000  \n...                  ...  \n3594            0.333333  \n3595            0.666667  \n3596            0.666667  \n3597            0.666667  \n3598            0.333333  \n\n[3599 rows x 316 columns]",
      "text/html": "<div>\n<style scoped>\n    .dataframe tbody tr th:only-of-type {\n        vertical-align: middle;\n    }\n\n    .dataframe tbody tr th {\n        vertical-align: top;\n    }\n\n    .dataframe thead th {\n        text-align: right;\n    }\n</style>\n<table border=\"1\" class=\"dataframe\">\n  <thead>\n    <tr style=\"text-align: right;\">\n      <th></th>\n      <th>date</th>\n      <th>time</th>\n      <th>comp</th>\n      <th>round</th>\n      <th>day</th>\n      <th>venue</th>\n      <th>result</th>\n      <th>gf</th>\n      <th>ga</th>\n      <th>opponent</th>\n      <th>...</th>\n      <th>misc_aerial_duels_won_rolling_avg</th>\n      <th>misc_aerial_duels_lost_rolling_avg</th>\n      <th>misc_aerial_duels_won%_rolling_avg</th>\n      <th>pgf_rolling_avg</th>\n      <th>pga_rolling_avg</th>\n      <th>opponent_code_rolling_avg</th>\n      <th>venue_code_rolling_avg</th>\n      <th>hour_rolling_avg</th>\n      <th>day_code_rolling_avg</th>\n      <th>target_rolling_avg</th>\n    </tr>\n  </thead>\n  <tbody>\n    <tr>\n      <th>0</th>\n      <td>2020-10-17</td>\n      <td>18:30</td>\n      <td>Bundesliga</td>\n      <td>Matchweek 4</td>\n      <td>Sat</td>\n      <td>Home</td>\n      <td>L</td>\n      <td>1</td>\n      <td>4</td>\n      <td>Bayern Munich</td>\n      <td>...</td>\n      <td>21.333333</td>\n      <td>18.666667</td>\n      <td>52.866667</td>\n      <td>NaN</td>\n      <td>NaN</td>\n      <td>14.666667</td>\n      <td>0.333333</td>\n      <td>15.000000</td>\n      <td>5.000000</td>\n      <td>0.333333</td>\n    </tr>\n    <tr>\n      <th>1</th>\n      <td>2020-10-25</td>\n      <td>15:30</td>\n      <td>Bundesliga</td>\n      <td>Matchweek 5</td>\n      <td>Sun</td>\n      <td>Away</td>\n      <td>L</td>\n      <td>1</td>\n      <td>2</td>\n      <td>Wolfsburg</td>\n      <td>...</td>\n      <td>18.666667</td>\n      <td>15.333333</td>\n      <td>53.900000</td>\n      <td>NaN</td>\n      <td>NaN</td>\n      <td>13.333333</td>\n      <td>0.666667</td>\n      <td>16.000000</td>\n      <td>5.000000</td>\n      <td>0.333333</td>\n    </tr>\n    <tr>\n      <th>2</th>\n      <td>2020-10-31</td>\n      <td>15:30</td>\n      <td>Bundesliga</td>\n      <td>Matchweek 6</td>\n      <td>Sat</td>\n      <td>Home</td>\n      <td>L</td>\n      <td>0</td>\n      <td>2</td>\n      <td>Dortmund</td>\n      <td>...</td>\n      <td>17.333333</td>\n      <td>18.333333</td>\n      <td>48.800000</td>\n      <td>NaN</td>\n      <td>NaN</td>\n      <td>16.666667</td>\n      <td>0.333333</td>\n      <td>16.000000</td>\n      <td>5.333333</td>\n      <td>0.000000</td>\n    </tr>\n    <tr>\n      <th>3</th>\n      <td>2020-11-07</td>\n      <td>15:30</td>\n      <td>Bundesliga</td>\n      <td>Matchweek 7</td>\n      <td>Sat</td>\n      <td>Away</td>\n      <td>L</td>\n      <td>0</td>\n      <td>5</td>\n      <td>Union Berlin</td>\n      <td>...</td>\n      <td>14.000000</td>\n      <td>16.000000</td>\n      <td>47.933333</td>\n      <td>NaN</td>\n      <td>NaN</td>\n      <td>10.666667</td>\n      <td>0.666667</td>\n      <td>16.000000</td>\n      <td>5.333333</td>\n      <td>0.000000</td>\n    </tr>\n    <tr>\n      <th>4</th>\n      <td>2020-11-21</td>\n      <td>15:30</td>\n      <td>Bundesliga</td>\n      <td>Matchweek 8</td>\n      <td>Sat</td>\n      <td>Home</td>\n      <td>L</td>\n      <td>1</td>\n      <td>2</td>\n      <td>Bayer Leverkusen</td>\n      <td>...</td>\n      <td>15.333333</td>\n      <td>20.333333</td>\n      <td>43.100000</td>\n      <td>NaN</td>\n      <td>NaN</td>\n      <td>17.000000</td>\n      <td>0.333333</td>\n      <td>15.000000</td>\n      <td>5.333333</td>\n      <td>0.000000</td>\n    </tr>\n    <tr>\n      <th>...</th>\n      <td>...</td>\n      <td>...</td>\n      <td>...</td>\n      <td>...</td>\n      <td>...</td>\n      <td>...</td>\n      <td>...</td>\n      <td>...</td>\n      <td>...</td>\n      <td>...</td>\n      <td>...</td>\n      <td>...</td>\n      <td>...</td>\n      <td>...</td>\n      <td>...</td>\n      <td>...</td>\n      <td>...</td>\n      <td>...</td>\n      <td>...</td>\n      <td>...</td>\n      <td>...</td>\n    </tr>\n    <tr>\n      <th>3594</th>\n      <td>2023-04-30</td>\n      <td>17:30</td>\n      <td>Bundesliga</td>\n      <td>Matchweek 30</td>\n      <td>Sun</td>\n      <td>Home</td>\n      <td>W</td>\n      <td>3</td>\n      <td>0</td>\n      <td>Mainz 05</td>\n      <td>...</td>\n      <td>9.666667</td>\n      <td>14.666667</td>\n      <td>41.400000</td>\n      <td>NaN</td>\n      <td>NaN</td>\n      <td>7.333333</td>\n      <td>0.333333</td>\n      <td>16.333333</td>\n      <td>5.666667</td>\n      <td>0.333333</td>\n    </tr>\n    <tr>\n      <th>3595</th>\n      <td>2023-05-07</td>\n      <td>17:30</td>\n      <td>Bundesliga</td>\n      <td>Matchweek 31</td>\n      <td>Sun</td>\n      <td>Away</td>\n      <td>L</td>\n      <td>0</td>\n      <td>6</td>\n      <td>Dortmund</td>\n      <td>...</td>\n      <td>11.333333</td>\n      <td>17.000000</td>\n      <td>40.366667</td>\n      <td>NaN</td>\n      <td>NaN</td>\n      <td>7.000000</td>\n      <td>0.666667</td>\n      <td>17.000000</td>\n      <td>5.666667</td>\n      <td>0.666667</td>\n    </tr>\n    <tr>\n      <th>3596</th>\n      <td>2023-05-13</td>\n      <td>15:30</td>\n      <td>Bundesliga</td>\n      <td>Matchweek 32</td>\n      <td>Sat</td>\n      <td>Home</td>\n      <td>W</td>\n      <td>2</td>\n      <td>1</td>\n      <td>Hoffenheim</td>\n      <td>...</td>\n      <td>11.333333</td>\n      <td>16.333333</td>\n      <td>42.433333</td>\n      <td>NaN</td>\n      <td>NaN</td>\n      <td>8.000000</td>\n      <td>0.333333</td>\n      <td>16.333333</td>\n      <td>5.666667</td>\n      <td>0.666667</td>\n    </tr>\n    <tr>\n      <th>3597</th>\n      <td>2023-05-19</td>\n      <td>20:30</td>\n      <td>Bundesliga</td>\n      <td>Matchweek 33</td>\n      <td>Fri</td>\n      <td>Away</td>\n      <td>L</td>\n      <td>0</td>\n      <td>2</td>\n      <td>Freiburg</td>\n      <td>...</td>\n      <td>14.333333</td>\n      <td>15.333333</td>\n      <td>47.700000</td>\n      <td>NaN</td>\n      <td>NaN</td>\n      <td>11.000000</td>\n      <td>0.666667</td>\n      <td>16.333333</td>\n      <td>5.666667</td>\n      <td>0.666667</td>\n    </tr>\n    <tr>\n      <th>3598</th>\n      <td>2023-05-27</td>\n      <td>15:30</td>\n      <td>Bundesliga</td>\n      <td>Matchweek 34</td>\n      <td>Sat</td>\n      <td>Home</td>\n      <td>L</td>\n      <td>1</td>\n      <td>2</td>\n      <td>Hertha BSC</td>\n      <td>...</td>\n      <td>13.000000</td>\n      <td>14.333333</td>\n      <td>46.733333</td>\n      <td>NaN</td>\n      <td>NaN</td>\n      <td>8.666667</td>\n      <td>0.333333</td>\n      <td>17.333333</td>\n      <td>5.000000</td>\n      <td>0.333333</td>\n    </tr>\n  </tbody>\n</table>\n<p>3599 rows × 316 columns</p>\n</div>"
     },
     "execution_count": 288,
     "metadata": {},
     "output_type": "execute_result"
    }
   ],
   "source": [
    "# Create a dataframe for each team. We do this, so we can compute rolling averages for each team.\n",
    "grouped_teams_df = matches_df.groupby('team')\n",
    "# Pick all numeric columns.\n",
    "cols = matches_df.select_dtypes(include='number').columns\n",
    "# And create names for the new columns that will contain the rolling averages.\n",
    "new_cols = [f'{col}_rolling_avg' for col in cols]\n",
    "\n",
    "# Apply the rolling_averages function to each team dataframe.\n",
    "rolling_matches_df = grouped_teams_df.apply(lambda group: rolling_averages(group, cols, new_cols))\n",
    "# Drop the team index level because we don't need it.\n",
    "rolling_matches_df = rolling_matches_df.droplevel(0)\n",
    "# Fix the index because there might be duplicate indices.\n",
    "rolling_matches_df.index = range(len(rolling_matches_df))\n",
    "rolling_matches_df"
   ],
   "metadata": {
    "collapsed": false,
    "ExecuteTime": {
     "end_time": "2023-11-15T12:32:31.559628402Z",
     "start_time": "2023-11-15T12:32:31.264642225Z"
    }
   },
   "id": "b53329c1991c2b9b"
  },
  {
   "cell_type": "markdown",
   "source": [
    "Save the prepared data."
   ],
   "metadata": {
    "collapsed": false
   },
   "id": "cf251c73a9d0d753"
  },
  {
   "cell_type": "code",
   "execution_count": 289,
   "outputs": [],
   "source": [
    "rolling_matches_df.to_csv(f'{prepared_data_path}/bundesliga_matches.csv', index=False)"
   ],
   "metadata": {
    "collapsed": false,
    "ExecuteTime": {
     "end_time": "2023-11-15T12:32:32.073404019Z",
     "start_time": "2023-11-15T12:32:31.512483654Z"
    }
   },
   "id": "4defcc7579e4163a"
  }
 ],
 "metadata": {
  "kernelspec": {
   "display_name": "Python 3",
   "language": "python",
   "name": "python3"
  },
  "language_info": {
   "codemirror_mode": {
    "name": "ipython",
    "version": 2
   },
   "file_extension": ".py",
   "mimetype": "text/x-python",
   "name": "python",
   "nbconvert_exporter": "python",
   "pygments_lexer": "ipython2",
   "version": "2.7.6"
  }
 },
 "nbformat": 4,
 "nbformat_minor": 5
}
