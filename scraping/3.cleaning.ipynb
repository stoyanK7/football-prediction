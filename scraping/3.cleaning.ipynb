{
 "cells": [
  {
   "cell_type": "markdown",
   "source": [
    "# Cleaning raw scraped data"
   ],
   "metadata": {
    "collapsed": false
   },
   "id": "c20bb8ba72ea5a14"
  },
  {
   "cell_type": "markdown",
   "source": [
    "Open raw scraped data from `.csv` and clean it."
   ],
   "metadata": {
    "collapsed": false
   },
   "id": "64cc48574283e118"
  },
  {
   "cell_type": "markdown",
   "source": [
    "Imports."
   ],
   "metadata": {
    "collapsed": false
   },
   "id": "a29cb2c6335a135d"
  },
  {
   "cell_type": "code",
   "execution_count": 29,
   "outputs": [],
   "source": [
    "from itertools import combinations\n",
    "\n",
    "import pandas as pd"
   ],
   "metadata": {
    "collapsed": false,
    "ExecuteTime": {
     "end_time": "2023-10-04T11:31:40.881414799Z",
     "start_time": "2023-10-04T11:31:40.826352371Z"
    }
   },
   "id": "c24431c53b53645"
  },
  {
   "cell_type": "markdown",
   "source": [
    "Pathing to the data."
   ],
   "metadata": {
    "collapsed": false
   },
   "id": "b5d1d6724129e084"
  },
  {
   "cell_type": "code",
   "execution_count": 52,
   "outputs": [],
   "source": [
    "data_path = '../data'\n",
    "raw_data_path = f'{data_path}/csv/raw'\n",
    "clean_data_path = f'{data_path}/csv/clean'"
   ],
   "metadata": {
    "collapsed": false,
    "ExecuteTime": {
     "end_time": "2023-10-04T11:33:07.221603919Z",
     "start_time": "2023-10-04T11:33:07.181184736Z"
    }
   },
   "id": "47ab23bba4a8446e"
  },
  {
   "cell_type": "markdown",
   "source": [
    "Open scraped data."
   ],
   "metadata": {
    "collapsed": false
   },
   "id": "4c9e675da8b869ef"
  },
  {
   "cell_type": "code",
   "execution_count": 31,
   "outputs": [],
   "source": [
    "matches_df = pd.read_csv(f'{raw_data_path}/bundesliga_matches.csv')"
   ],
   "metadata": {
    "collapsed": false,
    "ExecuteTime": {
     "end_time": "2023-10-04T11:31:41.018139819Z",
     "start_time": "2023-10-04T11:31:40.839077346Z"
    }
   },
   "id": "510afb0c1e1d832e"
  },
  {
   "cell_type": "markdown",
   "source": [
    "See the shape of the scraped data - rows and columns."
   ],
   "metadata": {
    "collapsed": false
   },
   "id": "3c723ca6e54cd661"
  },
  {
   "cell_type": "code",
   "execution_count": 32,
   "outputs": [
    {
     "data": {
      "text/plain": "(4425, 239)"
     },
     "execution_count": 32,
     "metadata": {},
     "output_type": "execute_result"
    }
   ],
   "source": [
    "matches_df.shape"
   ],
   "metadata": {
    "collapsed": false,
    "ExecuteTime": {
     "end_time": "2023-10-04T11:31:41.019034064Z",
     "start_time": "2023-10-04T11:31:40.973389356Z"
    }
   },
   "id": "14cfae209d118ba2"
  },
  {
   "cell_type": "markdown",
   "source": [
    "See all column names of the scraped data."
   ],
   "metadata": {
    "collapsed": false
   },
   "id": "1211665efbd8d31"
  },
  {
   "cell_type": "code",
   "execution_count": 33,
   "outputs": [
    {
     "data": {
      "text/plain": "['Date',\n 'Time',\n 'Comp',\n 'Round',\n 'Day',\n 'Venue',\n 'Result',\n 'GF',\n 'GA',\n 'Opponent',\n 'xG',\n 'xGA',\n 'Poss',\n 'Attendance',\n 'Captain',\n 'Formation',\n 'Referee',\n 'Match Report',\n 'Notes',\n 'Team',\n 'shooting  Comp',\n 'shooting  Round',\n 'shooting  Day',\n 'shooting  Venue',\n 'shooting  Result',\n 'shooting  GF',\n 'shooting  GA',\n 'shooting  Opponent',\n 'shooting Standard Gls',\n 'shooting Standard Sh',\n 'shooting Standard SoT',\n 'shooting Standard SoT%',\n 'shooting Standard G/Sh',\n 'shooting Standard G/SoT',\n 'shooting Standard Dist',\n 'shooting Standard FK',\n 'shooting Standard PK',\n 'shooting Standard PKatt',\n 'shooting Expected xG',\n 'shooting Expected npxG',\n 'shooting Expected npxG/Sh',\n 'shooting Expected G-xG',\n 'shooting Expected np:G-xG',\n 'shooting Unnamed: 25_level_0 Match Report',\n 'keeper  Comp',\n 'keeper  Round',\n 'keeper  Day',\n 'keeper  Venue',\n 'keeper  Result',\n 'keeper  GF',\n 'keeper  GA',\n 'keeper  Opponent',\n 'keeper Performance SoTA',\n 'keeper Performance GA',\n 'keeper Performance Saves',\n 'keeper Performance Save%',\n 'keeper Performance CS',\n 'keeper Performance PSxG',\n 'keeper Performance PSxG+/-',\n 'keeper Penalty Kicks PKatt',\n 'keeper Penalty Kicks PKA',\n 'keeper Penalty Kicks PKsv',\n 'keeper Penalty Kicks PKm',\n 'keeper Launched Cmp',\n 'keeper Launched Att',\n 'keeper Launched Cmp%',\n 'keeper Passes Att',\n 'keeper Passes Thr',\n 'keeper Passes Launch%',\n 'keeper Passes AvgLen',\n 'keeper Goal Kicks Att',\n 'keeper Goal Kicks Launch%',\n 'keeper Goal Kicks AvgLen',\n 'keeper Crosses Opp',\n 'keeper Crosses Stp',\n 'keeper Crosses Stp%',\n 'keeper Sweeper #OPA',\n 'keeper Sweeper AvgDist',\n 'keeper Unnamed: 36_level_0 Match Report',\n 'passing  Comp',\n 'passing  Round',\n 'passing  Day',\n 'passing  Venue',\n 'passing  Result',\n 'passing  GF',\n 'passing  GA',\n 'passing  Opponent',\n 'passing Total Cmp',\n 'passing Total Att',\n 'passing Total Cmp%',\n 'passing Total TotDist',\n 'passing Total PrgDist',\n 'passing Short Cmp',\n 'passing Short Att',\n 'passing Short Cmp%',\n 'passing Medium Cmp',\n 'passing Medium Att',\n 'passing Medium Cmp%',\n 'passing Long Cmp',\n 'passing Long Att',\n 'passing Long Cmp%',\n 'passing Unnamed: 24_level_0 Ast',\n 'passing Unnamed: 25_level_0 xAG',\n 'passing Unnamed: 26_level_0 xA',\n 'passing Unnamed: 27_level_0 KP',\n 'passing Unnamed: 28_level_0 1/3',\n 'passing Unnamed: 29_level_0 PPA',\n 'passing Unnamed: 30_level_0 CrsPA',\n 'passing Unnamed: 31_level_0 PrgP',\n 'passing Unnamed: 32_level_0 Match Report',\n 'passing_types  Comp',\n 'passing_types  Round',\n 'passing_types  Day',\n 'passing_types  Venue',\n 'passing_types  Result',\n 'passing_types  GF',\n 'passing_types  GA',\n 'passing_types  Opponent',\n 'passing_types  Att',\n 'passing_types Pass Types Live',\n 'passing_types Pass Types Dead',\n 'passing_types Pass Types FK',\n 'passing_types Pass Types TB',\n 'passing_types Pass Types Sw',\n 'passing_types Pass Types Crs',\n 'passing_types Pass Types TI',\n 'passing_types Pass Types CK',\n 'passing_types Corner Kicks In',\n 'passing_types Corner Kicks Out',\n 'passing_types Corner Kicks Str',\n 'passing_types Outcomes Cmp',\n 'passing_types Outcomes Off',\n 'passing_types Outcomes Blocks',\n 'passing_types Unnamed: 25_level_0 Match Report',\n 'gca  Comp',\n 'gca  Round',\n 'gca  Day',\n 'gca  Venue',\n 'gca  Result',\n 'gca  GF',\n 'gca  GA',\n 'gca  Opponent',\n 'gca SCA Types SCA',\n 'gca SCA Types PassLive',\n 'gca SCA Types PassDead',\n 'gca SCA Types TO',\n 'gca SCA Types Sh',\n 'gca SCA Types Fld',\n 'gca SCA Types Def',\n 'gca GCA Types GCA',\n 'gca GCA Types PassLive',\n 'gca GCA Types PassDead',\n 'gca GCA Types TO',\n 'gca GCA Types Sh',\n 'gca GCA Types Fld',\n 'gca GCA Types Def',\n 'gca Unnamed: 24_level_0 Match Report',\n 'defense  Comp',\n 'defense  Round',\n 'defense  Day',\n 'defense  Venue',\n 'defense  Result',\n 'defense  GF',\n 'defense  GA',\n 'defense  Opponent',\n 'defense Tackles Tkl',\n 'defense Tackles TklW',\n 'defense Tackles Def 3rd',\n 'defense Tackles Mid 3rd',\n 'defense Tackles Att 3rd',\n 'defense Challenges Tkl',\n 'defense Challenges Att',\n 'defense Challenges Tkl%',\n 'defense Challenges Lost',\n 'defense Blocks Blocks',\n 'defense Blocks Sh',\n 'defense Blocks Pass',\n 'defense Unnamed: 22_level_0 Int',\n 'defense Unnamed: 23_level_0 Tkl+Int',\n 'defense Unnamed: 24_level_0 Clr',\n 'defense Unnamed: 25_level_0 Err',\n 'defense Unnamed: 26_level_0 Match Report',\n 'possession  Comp',\n 'possession  Round',\n 'possession  Day',\n 'possession  Venue',\n 'possession  Result',\n 'possession  GF',\n 'possession  GA',\n 'possession  Opponent',\n 'possession  Poss',\n 'possession Touches Touches',\n 'possession Touches Def Pen',\n 'possession Touches Def 3rd',\n 'possession Touches Mid 3rd',\n 'possession Touches Att 3rd',\n 'possession Touches Att Pen',\n 'possession Touches Live',\n 'possession Take-Ons Att',\n 'possession Take-Ons Succ',\n 'possession Take-Ons Succ%',\n 'possession Take-Ons Tkld',\n 'possession Take-Ons Tkld%',\n 'possession Carries Carries',\n 'possession Carries TotDist',\n 'possession Carries PrgDist',\n 'possession Carries PrgC',\n 'possession Carries 1/3',\n 'possession Carries CPA',\n 'possession Carries Mis',\n 'possession Carries Dis',\n 'possession Receiving Rec',\n 'possession Receiving PrgR',\n 'possession Unnamed: 33_level_0 Match Report',\n 'misc  Comp',\n 'misc  Round',\n 'misc  Day',\n 'misc  Venue',\n 'misc  Result',\n 'misc  GF',\n 'misc  GA',\n 'misc  Opponent',\n 'misc Performance CrdY',\n 'misc Performance CrdR',\n 'misc Performance 2CrdY',\n 'misc Performance Fls',\n 'misc Performance Fld',\n 'misc Performance Off',\n 'misc Performance Crs',\n 'misc Performance Int',\n 'misc Performance TklW',\n 'misc Performance PKwon',\n 'misc Performance PKcon',\n 'misc Performance OG',\n 'misc Performance Recov',\n 'misc Aerial Duels Won',\n 'misc Aerial Duels Lost',\n 'misc Aerial Duels Won%',\n 'misc Unnamed: 26_level_0 Match Report']"
     },
     "execution_count": 33,
     "metadata": {},
     "output_type": "execute_result"
    }
   ],
   "source": [
    "matches_df.columns.tolist()"
   ],
   "metadata": {
    "collapsed": false,
    "ExecuteTime": {
     "end_time": "2023-10-04T11:31:41.019422032Z",
     "start_time": "2023-10-04T11:31:40.973653356Z"
    }
   },
   "id": "96448c90dc1b1284"
  },
  {
   "cell_type": "markdown",
   "source": [
    "There are numerous issues with the column names:\n",
    "- Columns that have double spaces in their names. Replace them with single spaces.\n",
    "- Columns do not follow a consistent naming convention. Convert all column names to lowercase.\n",
    "- Columns that have spaces in their names. Replace them with underscores.\n",
    "- There are numerous columns from each category where there is `_unnamed_<some number>_level_0`. Remove the `_unnamed_<some number>_level_0` from the column names."
   ],
   "metadata": {
    "collapsed": false
   },
   "id": "5396498d692f2c22"
  },
  {
   "cell_type": "code",
   "execution_count": 34,
   "outputs": [
    {
     "data": {
      "text/plain": "['date',\n 'time',\n 'comp',\n 'round',\n 'day',\n 'venue',\n 'result',\n 'gf',\n 'ga',\n 'opponent',\n 'xg',\n 'xga',\n 'poss',\n 'attendance',\n 'captain',\n 'formation',\n 'referee',\n 'match_report',\n 'notes',\n 'team',\n 'shooting_comp',\n 'shooting_round',\n 'shooting_day',\n 'shooting_venue',\n 'shooting_result',\n 'shooting_gf',\n 'shooting_ga',\n 'shooting_opponent',\n 'shooting_standard_gls',\n 'shooting_standard_sh',\n 'shooting_standard_sot',\n 'shooting_standard_sot%',\n 'shooting_standard_g/sh',\n 'shooting_standard_g/sot',\n 'shooting_standard_dist',\n 'shooting_standard_fk',\n 'shooting_standard_pk',\n 'shooting_standard_pkatt',\n 'shooting_expected_xg',\n 'shooting_expected_npxg',\n 'shooting_expected_npxg/sh',\n 'shooting_expected_g-xg',\n 'shooting_expected_np:g-xg',\n 'shooting_match_report',\n 'keeper_comp',\n 'keeper_round',\n 'keeper_day',\n 'keeper_venue',\n 'keeper_result',\n 'keeper_gf',\n 'keeper_ga',\n 'keeper_opponent',\n 'keeper_performance_sota',\n 'keeper_performance_ga',\n 'keeper_performance_saves',\n 'keeper_performance_save%',\n 'keeper_performance_cs',\n 'keeper_performance_psxg',\n 'keeper_performance_psxg+/-',\n 'keeper_penalty_kicks_pkatt',\n 'keeper_penalty_kicks_pka',\n 'keeper_penalty_kicks_pksv',\n 'keeper_penalty_kicks_pkm',\n 'keeper_launched_cmp',\n 'keeper_launched_att',\n 'keeper_launched_cmp%',\n 'keeper_passes_att',\n 'keeper_passes_thr',\n 'keeper_passes_launch%',\n 'keeper_passes_avglen',\n 'keeper_goal_kicks_att',\n 'keeper_goal_kicks_launch%',\n 'keeper_goal_kicks_avglen',\n 'keeper_crosses_opp',\n 'keeper_crosses_stp',\n 'keeper_crosses_stp%',\n 'keeper_sweeper_#opa',\n 'keeper_sweeper_avgdist',\n 'keeper_match_report',\n 'passing_comp',\n 'passing_round',\n 'passing_day',\n 'passing_venue',\n 'passing_result',\n 'passing_gf',\n 'passing_ga',\n 'passing_opponent',\n 'passing_total_cmp',\n 'passing_total_att',\n 'passing_total_cmp%',\n 'passing_total_totdist',\n 'passing_total_prgdist',\n 'passing_short_cmp',\n 'passing_short_att',\n 'passing_short_cmp%',\n 'passing_medium_cmp',\n 'passing_medium_att',\n 'passing_medium_cmp%',\n 'passing_long_cmp',\n 'passing_long_att',\n 'passing_long_cmp%',\n 'passing_ast',\n 'passing_xag',\n 'passing_xa',\n 'passing_kp',\n 'passing_1/3',\n 'passing_ppa',\n 'passing_crspa',\n 'passing_prgp',\n 'passing_match_report',\n 'passing_types_comp',\n 'passing_types_round',\n 'passing_types_day',\n 'passing_types_venue',\n 'passing_types_result',\n 'passing_types_gf',\n 'passing_types_ga',\n 'passing_types_opponent',\n 'passing_types_att',\n 'passing_types_pass_types_live',\n 'passing_types_pass_types_dead',\n 'passing_types_pass_types_fk',\n 'passing_types_pass_types_tb',\n 'passing_types_pass_types_sw',\n 'passing_types_pass_types_crs',\n 'passing_types_pass_types_ti',\n 'passing_types_pass_types_ck',\n 'passing_types_corner_kicks_in',\n 'passing_types_corner_kicks_out',\n 'passing_types_corner_kicks_str',\n 'passing_types_outcomes_cmp',\n 'passing_types_outcomes_off',\n 'passing_types_outcomes_blocks',\n 'passing_types_match_report',\n 'gca_comp',\n 'gca_round',\n 'gca_day',\n 'gca_venue',\n 'gca_result',\n 'gca_gf',\n 'gca_ga',\n 'gca_opponent',\n 'gca_sca_types_sca',\n 'gca_sca_types_passlive',\n 'gca_sca_types_passdead',\n 'gca_sca_types_to',\n 'gca_sca_types_sh',\n 'gca_sca_types_fld',\n 'gca_sca_types_def',\n 'gca_gca_types_gca',\n 'gca_gca_types_passlive',\n 'gca_gca_types_passdead',\n 'gca_gca_types_to',\n 'gca_gca_types_sh',\n 'gca_gca_types_fld',\n 'gca_gca_types_def',\n 'gca_match_report',\n 'defense_comp',\n 'defense_round',\n 'defense_day',\n 'defense_venue',\n 'defense_result',\n 'defense_gf',\n 'defense_ga',\n 'defense_opponent',\n 'defense_tackles_tkl',\n 'defense_tackles_tklw',\n 'defense_tackles_def_3rd',\n 'defense_tackles_mid_3rd',\n 'defense_tackles_att_3rd',\n 'defense_challenges_tkl',\n 'defense_challenges_att',\n 'defense_challenges_tkl%',\n 'defense_challenges_lost',\n 'defense_blocks_blocks',\n 'defense_blocks_sh',\n 'defense_blocks_pass',\n 'defense_int',\n 'defense_tkl+int',\n 'defense_clr',\n 'defense_err',\n 'defense_match_report',\n 'possession_comp',\n 'possession_round',\n 'possession_day',\n 'possession_venue',\n 'possession_result',\n 'possession_gf',\n 'possession_ga',\n 'possession_opponent',\n 'possession_poss',\n 'possession_touches_touches',\n 'possession_touches_def_pen',\n 'possession_touches_def_3rd',\n 'possession_touches_mid_3rd',\n 'possession_touches_att_3rd',\n 'possession_touches_att_pen',\n 'possession_touches_live',\n 'possession_take-ons_att',\n 'possession_take-ons_succ',\n 'possession_take-ons_succ%',\n 'possession_take-ons_tkld',\n 'possession_take-ons_tkld%',\n 'possession_carries_carries',\n 'possession_carries_totdist',\n 'possession_carries_prgdist',\n 'possession_carries_prgc',\n 'possession_carries_1/3',\n 'possession_carries_cpa',\n 'possession_carries_mis',\n 'possession_carries_dis',\n 'possession_receiving_rec',\n 'possession_receiving_prgr',\n 'possession_match_report',\n 'misc_comp',\n 'misc_round',\n 'misc_day',\n 'misc_venue',\n 'misc_result',\n 'misc_gf',\n 'misc_ga',\n 'misc_opponent',\n 'misc_performance_crdy',\n 'misc_performance_crdr',\n 'misc_performance_2crdy',\n 'misc_performance_fls',\n 'misc_performance_fld',\n 'misc_performance_off',\n 'misc_performance_crs',\n 'misc_performance_int',\n 'misc_performance_tklw',\n 'misc_performance_pkwon',\n 'misc_performance_pkcon',\n 'misc_performance_og',\n 'misc_performance_recov',\n 'misc_aerial_duels_won',\n 'misc_aerial_duels_lost',\n 'misc_aerial_duels_won%',\n 'misc_match_report']"
     },
     "execution_count": 34,
     "metadata": {},
     "output_type": "execute_result"
    }
   ],
   "source": [
    "matches_df.columns = matches_df.columns.str.replace('  ', ' ')\n",
    "matches_df.columns = matches_df.columns.str.lower()\n",
    "matches_df.columns = matches_df.columns.str.replace(' ', '_')\n",
    "matches_df.columns = matches_df.columns.str.replace(r'(.*)_unnamed:_\\d+_level_0_(.*)', r'\\1_\\2', regex=True)\n",
    "matches_df.columns.tolist()"
   ],
   "metadata": {
    "collapsed": false,
    "ExecuteTime": {
     "end_time": "2023-10-04T11:31:41.019790304Z",
     "start_time": "2023-10-04T11:31:40.973820625Z"
    }
   },
   "id": "67299ba76753e2"
  },
  {
   "cell_type": "markdown",
   "source": [
    "See the first and last ten rows of the dataframe."
   ],
   "metadata": {
    "collapsed": false
   },
   "id": "cea93f3264a80841"
  },
  {
   "cell_type": "code",
   "execution_count": 35,
   "outputs": [
    {
     "data": {
      "text/plain": "         date   time        comp        round  day venue result gf ga  \\\n0  2020-09-12  15:30   DFB-Pokal  First round  Sat  Away      W  2  1   \n1  2020-09-19  15:30  Bundesliga  Matchweek 1  Sat  Home      D  1  1   \n2  2020-09-25  20:30  Bundesliga  Matchweek 2  Fri  Away      W  3  1   \n3  2020-10-03  15:30  Bundesliga  Matchweek 3  Sat  Home      W  2  1   \n4  2020-10-18  15:30  Bundesliga  Matchweek 4  Sun  Away      D  1  1   \n5  2020-10-24  15:30  Bundesliga  Matchweek 5  Sat  Away      L  0  5   \n6  2020-10-31  15:30  Bundesliga  Matchweek 6  Sat  Home      D  1  1   \n7  2020-11-07  15:30  Bundesliga  Matchweek 7  Sat  Away      D  2  2   \n8  2020-11-21  18:30  Bundesliga  Matchweek 8  Sat  Home      D  1  1   \n9  2020-11-28  15:30  Bundesliga  Matchweek 9  Sat  Away      D  3  3   \n\n        opponent  ...  misc_performance_int  misc_performance_tklw  \\\n0    1860 Munich  ...                   7.0                    8.0   \n1        Arminia  ...                  11.0                   12.0   \n2     Hertha BSC  ...                   8.0                   12.0   \n3     Hoffenheim  ...                   7.0                    6.0   \n4           Köln  ...                   7.0                   10.0   \n5  Bayern Munich  ...                   6.0                   11.0   \n6  Werder Bremen  ...                  11.0                    8.0   \n7      Stuttgart  ...                  12.0                   13.0   \n8     RB Leipzig  ...                  22.0                   13.0   \n9   Union Berlin  ...                  20.0                    9.0   \n\n   misc_performance_pkwon  misc_performance_pkcon misc_performance_og  \\\n0                     NaN                     NaN                 0.0   \n1                     0.0                     0.0                 0.0   \n2                     1.0                     0.0                 1.0   \n3                     0.0                     0.0                 0.0   \n4                     1.0                     0.0                 0.0   \n5                     0.0                     0.0                 0.0   \n6                     0.0                     0.0                 0.0   \n7                     0.0                     1.0                 0.0   \n8                     0.0                     0.0                 0.0   \n9                     0.0                     1.0                 0.0   \n\n  misc_performance_recov misc_aerial_duels_won misc_aerial_duels_lost  \\\n0                    NaN                   NaN                    NaN   \n1                   63.0                  17.0                   15.0   \n2                   57.0                  23.0                   12.0   \n3                   56.0                  24.0                    9.0   \n4                   65.0                  36.0                   32.0   \n5                   66.0                  12.0                    8.0   \n6                   59.0                  14.0                   19.0   \n7                   55.0                  23.0                    9.0   \n8                   59.0                  16.0                   23.0   \n9                   49.0                  31.0                   19.0   \n\n  misc_aerial_duels_won% misc_match_report  \n0                    NaN      Match Report  \n1                   53.1      Match Report  \n2                   65.7      Match Report  \n3                   72.7      Match Report  \n4                   52.9      Match Report  \n5                   60.0      Match Report  \n6                   42.4      Match Report  \n7                   71.9      Match Report  \n8                   41.0      Match Report  \n9                   62.0      Match Report  \n\n[10 rows x 239 columns]",
      "text/html": "<div>\n<style scoped>\n    .dataframe tbody tr th:only-of-type {\n        vertical-align: middle;\n    }\n\n    .dataframe tbody tr th {\n        vertical-align: top;\n    }\n\n    .dataframe thead th {\n        text-align: right;\n    }\n</style>\n<table border=\"1\" class=\"dataframe\">\n  <thead>\n    <tr style=\"text-align: right;\">\n      <th></th>\n      <th>date</th>\n      <th>time</th>\n      <th>comp</th>\n      <th>round</th>\n      <th>day</th>\n      <th>venue</th>\n      <th>result</th>\n      <th>gf</th>\n      <th>ga</th>\n      <th>opponent</th>\n      <th>...</th>\n      <th>misc_performance_int</th>\n      <th>misc_performance_tklw</th>\n      <th>misc_performance_pkwon</th>\n      <th>misc_performance_pkcon</th>\n      <th>misc_performance_og</th>\n      <th>misc_performance_recov</th>\n      <th>misc_aerial_duels_won</th>\n      <th>misc_aerial_duels_lost</th>\n      <th>misc_aerial_duels_won%</th>\n      <th>misc_match_report</th>\n    </tr>\n  </thead>\n  <tbody>\n    <tr>\n      <th>0</th>\n      <td>2020-09-12</td>\n      <td>15:30</td>\n      <td>DFB-Pokal</td>\n      <td>First round</td>\n      <td>Sat</td>\n      <td>Away</td>\n      <td>W</td>\n      <td>2</td>\n      <td>1</td>\n      <td>1860 Munich</td>\n      <td>...</td>\n      <td>7.0</td>\n      <td>8.0</td>\n      <td>NaN</td>\n      <td>NaN</td>\n      <td>0.0</td>\n      <td>NaN</td>\n      <td>NaN</td>\n      <td>NaN</td>\n      <td>NaN</td>\n      <td>Match Report</td>\n    </tr>\n    <tr>\n      <th>1</th>\n      <td>2020-09-19</td>\n      <td>15:30</td>\n      <td>Bundesliga</td>\n      <td>Matchweek 1</td>\n      <td>Sat</td>\n      <td>Home</td>\n      <td>D</td>\n      <td>1</td>\n      <td>1</td>\n      <td>Arminia</td>\n      <td>...</td>\n      <td>11.0</td>\n      <td>12.0</td>\n      <td>0.0</td>\n      <td>0.0</td>\n      <td>0.0</td>\n      <td>63.0</td>\n      <td>17.0</td>\n      <td>15.0</td>\n      <td>53.1</td>\n      <td>Match Report</td>\n    </tr>\n    <tr>\n      <th>2</th>\n      <td>2020-09-25</td>\n      <td>20:30</td>\n      <td>Bundesliga</td>\n      <td>Matchweek 2</td>\n      <td>Fri</td>\n      <td>Away</td>\n      <td>W</td>\n      <td>3</td>\n      <td>1</td>\n      <td>Hertha BSC</td>\n      <td>...</td>\n      <td>8.0</td>\n      <td>12.0</td>\n      <td>1.0</td>\n      <td>0.0</td>\n      <td>1.0</td>\n      <td>57.0</td>\n      <td>23.0</td>\n      <td>12.0</td>\n      <td>65.7</td>\n      <td>Match Report</td>\n    </tr>\n    <tr>\n      <th>3</th>\n      <td>2020-10-03</td>\n      <td>15:30</td>\n      <td>Bundesliga</td>\n      <td>Matchweek 3</td>\n      <td>Sat</td>\n      <td>Home</td>\n      <td>W</td>\n      <td>2</td>\n      <td>1</td>\n      <td>Hoffenheim</td>\n      <td>...</td>\n      <td>7.0</td>\n      <td>6.0</td>\n      <td>0.0</td>\n      <td>0.0</td>\n      <td>0.0</td>\n      <td>56.0</td>\n      <td>24.0</td>\n      <td>9.0</td>\n      <td>72.7</td>\n      <td>Match Report</td>\n    </tr>\n    <tr>\n      <th>4</th>\n      <td>2020-10-18</td>\n      <td>15:30</td>\n      <td>Bundesliga</td>\n      <td>Matchweek 4</td>\n      <td>Sun</td>\n      <td>Away</td>\n      <td>D</td>\n      <td>1</td>\n      <td>1</td>\n      <td>Köln</td>\n      <td>...</td>\n      <td>7.0</td>\n      <td>10.0</td>\n      <td>1.0</td>\n      <td>0.0</td>\n      <td>0.0</td>\n      <td>65.0</td>\n      <td>36.0</td>\n      <td>32.0</td>\n      <td>52.9</td>\n      <td>Match Report</td>\n    </tr>\n    <tr>\n      <th>5</th>\n      <td>2020-10-24</td>\n      <td>15:30</td>\n      <td>Bundesliga</td>\n      <td>Matchweek 5</td>\n      <td>Sat</td>\n      <td>Away</td>\n      <td>L</td>\n      <td>0</td>\n      <td>5</td>\n      <td>Bayern Munich</td>\n      <td>...</td>\n      <td>6.0</td>\n      <td>11.0</td>\n      <td>0.0</td>\n      <td>0.0</td>\n      <td>0.0</td>\n      <td>66.0</td>\n      <td>12.0</td>\n      <td>8.0</td>\n      <td>60.0</td>\n      <td>Match Report</td>\n    </tr>\n    <tr>\n      <th>6</th>\n      <td>2020-10-31</td>\n      <td>15:30</td>\n      <td>Bundesliga</td>\n      <td>Matchweek 6</td>\n      <td>Sat</td>\n      <td>Home</td>\n      <td>D</td>\n      <td>1</td>\n      <td>1</td>\n      <td>Werder Bremen</td>\n      <td>...</td>\n      <td>11.0</td>\n      <td>8.0</td>\n      <td>0.0</td>\n      <td>0.0</td>\n      <td>0.0</td>\n      <td>59.0</td>\n      <td>14.0</td>\n      <td>19.0</td>\n      <td>42.4</td>\n      <td>Match Report</td>\n    </tr>\n    <tr>\n      <th>7</th>\n      <td>2020-11-07</td>\n      <td>15:30</td>\n      <td>Bundesliga</td>\n      <td>Matchweek 7</td>\n      <td>Sat</td>\n      <td>Away</td>\n      <td>D</td>\n      <td>2</td>\n      <td>2</td>\n      <td>Stuttgart</td>\n      <td>...</td>\n      <td>12.0</td>\n      <td>13.0</td>\n      <td>0.0</td>\n      <td>1.0</td>\n      <td>0.0</td>\n      <td>55.0</td>\n      <td>23.0</td>\n      <td>9.0</td>\n      <td>71.9</td>\n      <td>Match Report</td>\n    </tr>\n    <tr>\n      <th>8</th>\n      <td>2020-11-21</td>\n      <td>18:30</td>\n      <td>Bundesliga</td>\n      <td>Matchweek 8</td>\n      <td>Sat</td>\n      <td>Home</td>\n      <td>D</td>\n      <td>1</td>\n      <td>1</td>\n      <td>RB Leipzig</td>\n      <td>...</td>\n      <td>22.0</td>\n      <td>13.0</td>\n      <td>0.0</td>\n      <td>0.0</td>\n      <td>0.0</td>\n      <td>59.0</td>\n      <td>16.0</td>\n      <td>23.0</td>\n      <td>41.0</td>\n      <td>Match Report</td>\n    </tr>\n    <tr>\n      <th>9</th>\n      <td>2020-11-28</td>\n      <td>15:30</td>\n      <td>Bundesliga</td>\n      <td>Matchweek 9</td>\n      <td>Sat</td>\n      <td>Away</td>\n      <td>D</td>\n      <td>3</td>\n      <td>3</td>\n      <td>Union Berlin</td>\n      <td>...</td>\n      <td>20.0</td>\n      <td>9.0</td>\n      <td>0.0</td>\n      <td>1.0</td>\n      <td>0.0</td>\n      <td>49.0</td>\n      <td>31.0</td>\n      <td>19.0</td>\n      <td>62.0</td>\n      <td>Match Report</td>\n    </tr>\n  </tbody>\n</table>\n<p>10 rows × 239 columns</p>\n</div>"
     },
     "execution_count": 35,
     "metadata": {},
     "output_type": "execute_result"
    }
   ],
   "source": [
    "matches_df.head(10)"
   ],
   "metadata": {
    "collapsed": false,
    "ExecuteTime": {
     "end_time": "2023-10-04T11:31:41.020320048Z",
     "start_time": "2023-10-04T11:31:40.974020790Z"
    }
   },
   "id": "c2e9a757c86af2f9"
  },
  {
   "cell_type": "code",
   "execution_count": 36,
   "outputs": [
    {
     "data": {
      "text/plain": "            date   time        comp         round  day venue result gf ga  \\\n4415  2022-03-06  17:30  Bundesliga  Matchweek 25  Sun  Home      L  0  1   \n4416  2022-03-13  15:30  Bundesliga  Matchweek 26  Sun  Away      W  1  0   \n4417  2022-03-20  19:30  Bundesliga  Matchweek 27  Sun  Home      D  1  1   \n4418  2022-04-01  20:30  Bundesliga  Matchweek 28  Fri  Away      L  0  1   \n4419  2022-04-09  15:30  Bundesliga  Matchweek 29  Sat  Home      W  3  2   \n4420  2022-04-16  18:30  Bundesliga  Matchweek 30  Sat  Away      W  3  1   \n4421  2022-04-23  15:30  Bundesliga  Matchweek 31  Sat  Home      W  3  1   \n4422  2022-04-30  15:30  Bundesliga  Matchweek 32  Sat  Away      W  4  1   \n4423  2022-05-07  15:30  Bundesliga  Matchweek 33  Sat  Home      L  0  1   \n4424  2022-05-14  15:30  Bundesliga  Matchweek 34  Sat  Away      L  1  2   \n\n          opponent  ...  misc_performance_int  misc_performance_tklw  \\\n4415    Hoffenheim  ...                   7.0                    6.0   \n4416    Leverkusen  ...                  20.0                    8.0   \n4417      Dortmund  ...                  18.0                   15.0   \n4418  Union Berlin  ...                  16.0                   11.0   \n4419      Mainz 05  ...                   5.0                   10.0   \n4420    M'Gladbach  ...                  12.0                   12.0   \n4421       Arminia  ...                   6.0                   12.0   \n4422      Augsburg  ...                   9.0                   16.0   \n4423     Wolfsburg  ...                  11.0                    9.0   \n4424     Stuttgart  ...                   2.0                   14.0   \n\n      misc_performance_pkwon  misc_performance_pkcon misc_performance_og  \\\n4415                     0.0                     0.0                 0.0   \n4416                     0.0                     0.0                 0.0   \n4417                     0.0                     0.0                 0.0   \n4418                     0.0                     0.0                 0.0   \n4419                     0.0                     0.0                 0.0   \n4420                     0.0                     0.0                 0.0   \n4421                     0.0                     0.0                 1.0   \n4422                     1.0                     0.0                 0.0   \n4423                     0.0                     0.0                 0.0   \n4424                     0.0                     1.0                 0.0   \n\n     misc_performance_recov misc_aerial_duels_won misc_aerial_duels_lost  \\\n4415                   53.0                  19.0                   17.0   \n4416                   59.0                  19.0                   17.0   \n4417                   66.0                  13.0                   16.0   \n4418                   68.0                  17.0                   18.0   \n4419                   71.0                  24.0                   23.0   \n4420                   63.0                  16.0                   14.0   \n4421                   63.0                  20.0                   18.0   \n4422                   54.0                  15.0                   21.0   \n4423                   57.0                  18.0                   25.0   \n4424                   52.0                   7.0                   24.0   \n\n     misc_aerial_duels_won% misc_match_report  \n4415                   52.8      Match Report  \n4416                   52.8      Match Report  \n4417                   44.8      Match Report  \n4418                   48.6      Match Report  \n4419                   51.1      Match Report  \n4420                   53.3      Match Report  \n4421                   52.6      Match Report  \n4422                   41.7      Match Report  \n4423                   41.9      Match Report  \n4424                   22.6      Match Report  \n\n[10 rows x 239 columns]",
      "text/html": "<div>\n<style scoped>\n    .dataframe tbody tr th:only-of-type {\n        vertical-align: middle;\n    }\n\n    .dataframe tbody tr th {\n        vertical-align: top;\n    }\n\n    .dataframe thead th {\n        text-align: right;\n    }\n</style>\n<table border=\"1\" class=\"dataframe\">\n  <thead>\n    <tr style=\"text-align: right;\">\n      <th></th>\n      <th>date</th>\n      <th>time</th>\n      <th>comp</th>\n      <th>round</th>\n      <th>day</th>\n      <th>venue</th>\n      <th>result</th>\n      <th>gf</th>\n      <th>ga</th>\n      <th>opponent</th>\n      <th>...</th>\n      <th>misc_performance_int</th>\n      <th>misc_performance_tklw</th>\n      <th>misc_performance_pkwon</th>\n      <th>misc_performance_pkcon</th>\n      <th>misc_performance_og</th>\n      <th>misc_performance_recov</th>\n      <th>misc_aerial_duels_won</th>\n      <th>misc_aerial_duels_lost</th>\n      <th>misc_aerial_duels_won%</th>\n      <th>misc_match_report</th>\n    </tr>\n  </thead>\n  <tbody>\n    <tr>\n      <th>4415</th>\n      <td>2022-03-06</td>\n      <td>17:30</td>\n      <td>Bundesliga</td>\n      <td>Matchweek 25</td>\n      <td>Sun</td>\n      <td>Home</td>\n      <td>L</td>\n      <td>0</td>\n      <td>1</td>\n      <td>Hoffenheim</td>\n      <td>...</td>\n      <td>7.0</td>\n      <td>6.0</td>\n      <td>0.0</td>\n      <td>0.0</td>\n      <td>0.0</td>\n      <td>53.0</td>\n      <td>19.0</td>\n      <td>17.0</td>\n      <td>52.8</td>\n      <td>Match Report</td>\n    </tr>\n    <tr>\n      <th>4416</th>\n      <td>2022-03-13</td>\n      <td>15:30</td>\n      <td>Bundesliga</td>\n      <td>Matchweek 26</td>\n      <td>Sun</td>\n      <td>Away</td>\n      <td>W</td>\n      <td>1</td>\n      <td>0</td>\n      <td>Leverkusen</td>\n      <td>...</td>\n      <td>20.0</td>\n      <td>8.0</td>\n      <td>0.0</td>\n      <td>0.0</td>\n      <td>0.0</td>\n      <td>59.0</td>\n      <td>19.0</td>\n      <td>17.0</td>\n      <td>52.8</td>\n      <td>Match Report</td>\n    </tr>\n    <tr>\n      <th>4417</th>\n      <td>2022-03-20</td>\n      <td>19:30</td>\n      <td>Bundesliga</td>\n      <td>Matchweek 27</td>\n      <td>Sun</td>\n      <td>Home</td>\n      <td>D</td>\n      <td>1</td>\n      <td>1</td>\n      <td>Dortmund</td>\n      <td>...</td>\n      <td>18.0</td>\n      <td>15.0</td>\n      <td>0.0</td>\n      <td>0.0</td>\n      <td>0.0</td>\n      <td>66.0</td>\n      <td>13.0</td>\n      <td>16.0</td>\n      <td>44.8</td>\n      <td>Match Report</td>\n    </tr>\n    <tr>\n      <th>4418</th>\n      <td>2022-04-01</td>\n      <td>20:30</td>\n      <td>Bundesliga</td>\n      <td>Matchweek 28</td>\n      <td>Fri</td>\n      <td>Away</td>\n      <td>L</td>\n      <td>0</td>\n      <td>1</td>\n      <td>Union Berlin</td>\n      <td>...</td>\n      <td>16.0</td>\n      <td>11.0</td>\n      <td>0.0</td>\n      <td>0.0</td>\n      <td>0.0</td>\n      <td>68.0</td>\n      <td>17.0</td>\n      <td>18.0</td>\n      <td>48.6</td>\n      <td>Match Report</td>\n    </tr>\n    <tr>\n      <th>4419</th>\n      <td>2022-04-09</td>\n      <td>15:30</td>\n      <td>Bundesliga</td>\n      <td>Matchweek 29</td>\n      <td>Sat</td>\n      <td>Home</td>\n      <td>W</td>\n      <td>3</td>\n      <td>2</td>\n      <td>Mainz 05</td>\n      <td>...</td>\n      <td>5.0</td>\n      <td>10.0</td>\n      <td>0.0</td>\n      <td>0.0</td>\n      <td>0.0</td>\n      <td>71.0</td>\n      <td>24.0</td>\n      <td>23.0</td>\n      <td>51.1</td>\n      <td>Match Report</td>\n    </tr>\n    <tr>\n      <th>4420</th>\n      <td>2022-04-16</td>\n      <td>18:30</td>\n      <td>Bundesliga</td>\n      <td>Matchweek 30</td>\n      <td>Sat</td>\n      <td>Away</td>\n      <td>W</td>\n      <td>3</td>\n      <td>1</td>\n      <td>M'Gladbach</td>\n      <td>...</td>\n      <td>12.0</td>\n      <td>12.0</td>\n      <td>0.0</td>\n      <td>0.0</td>\n      <td>0.0</td>\n      <td>63.0</td>\n      <td>16.0</td>\n      <td>14.0</td>\n      <td>53.3</td>\n      <td>Match Report</td>\n    </tr>\n    <tr>\n      <th>4421</th>\n      <td>2022-04-23</td>\n      <td>15:30</td>\n      <td>Bundesliga</td>\n      <td>Matchweek 31</td>\n      <td>Sat</td>\n      <td>Home</td>\n      <td>W</td>\n      <td>3</td>\n      <td>1</td>\n      <td>Arminia</td>\n      <td>...</td>\n      <td>6.0</td>\n      <td>12.0</td>\n      <td>0.0</td>\n      <td>0.0</td>\n      <td>1.0</td>\n      <td>63.0</td>\n      <td>20.0</td>\n      <td>18.0</td>\n      <td>52.6</td>\n      <td>Match Report</td>\n    </tr>\n    <tr>\n      <th>4422</th>\n      <td>2022-04-30</td>\n      <td>15:30</td>\n      <td>Bundesliga</td>\n      <td>Matchweek 32</td>\n      <td>Sat</td>\n      <td>Away</td>\n      <td>W</td>\n      <td>4</td>\n      <td>1</td>\n      <td>Augsburg</td>\n      <td>...</td>\n      <td>9.0</td>\n      <td>16.0</td>\n      <td>1.0</td>\n      <td>0.0</td>\n      <td>0.0</td>\n      <td>54.0</td>\n      <td>15.0</td>\n      <td>21.0</td>\n      <td>41.7</td>\n      <td>Match Report</td>\n    </tr>\n    <tr>\n      <th>4423</th>\n      <td>2022-05-07</td>\n      <td>15:30</td>\n      <td>Bundesliga</td>\n      <td>Matchweek 33</td>\n      <td>Sat</td>\n      <td>Home</td>\n      <td>L</td>\n      <td>0</td>\n      <td>1</td>\n      <td>Wolfsburg</td>\n      <td>...</td>\n      <td>11.0</td>\n      <td>9.0</td>\n      <td>0.0</td>\n      <td>0.0</td>\n      <td>0.0</td>\n      <td>57.0</td>\n      <td>18.0</td>\n      <td>25.0</td>\n      <td>41.9</td>\n      <td>Match Report</td>\n    </tr>\n    <tr>\n      <th>4424</th>\n      <td>2022-05-14</td>\n      <td>15:30</td>\n      <td>Bundesliga</td>\n      <td>Matchweek 34</td>\n      <td>Sat</td>\n      <td>Away</td>\n      <td>L</td>\n      <td>1</td>\n      <td>2</td>\n      <td>Stuttgart</td>\n      <td>...</td>\n      <td>2.0</td>\n      <td>14.0</td>\n      <td>0.0</td>\n      <td>1.0</td>\n      <td>0.0</td>\n      <td>52.0</td>\n      <td>7.0</td>\n      <td>24.0</td>\n      <td>22.6</td>\n      <td>Match Report</td>\n    </tr>\n  </tbody>\n</table>\n<p>10 rows × 239 columns</p>\n</div>"
     },
     "execution_count": 36,
     "metadata": {},
     "output_type": "execute_result"
    }
   ],
   "source": [
    "matches_df.tail(10)"
   ],
   "metadata": {
    "collapsed": false,
    "ExecuteTime": {
     "end_time": "2023-10-04T11:31:41.043193421Z",
     "start_time": "2023-10-04T11:31:40.976916261Z"
    }
   },
   "id": "350eabefe399d4df"
  },
  {
   "cell_type": "markdown",
   "source": [
    "`comp` and `shooting_comp` contain the same information. We know that there are other categories' `comp` column. Check all columns that contain `comp` in their name. Same applies to `round`, `day`, `venue`, `result`, `gf`, `ga` and `opponent`."
   ],
   "metadata": {
    "collapsed": false
   },
   "id": "92dd72068a240e34"
  },
  {
   "cell_type": "code",
   "execution_count": 37,
   "outputs": [
    {
     "data": {
      "text/plain": "         comp shooting_comp keeper_comp passing_comp passing_types_comp  \\\n0   DFB-Pokal     DFB-Pokal   DFB-Pokal    DFB-Pokal          DFB-Pokal   \n1  Bundesliga    Bundesliga  Bundesliga   Bundesliga         Bundesliga   \n2  Bundesliga    Bundesliga  Bundesliga   Bundesliga         Bundesliga   \n\n     gca_comp defense_comp possession_comp   misc_comp  \n0   DFB-Pokal    DFB-Pokal       DFB-Pokal   DFB-Pokal  \n1  Bundesliga   Bundesliga      Bundesliga  Bundesliga  \n2  Bundesliga   Bundesliga      Bundesliga  Bundesliga  ",
      "text/html": "<div>\n<style scoped>\n    .dataframe tbody tr th:only-of-type {\n        vertical-align: middle;\n    }\n\n    .dataframe tbody tr th {\n        vertical-align: top;\n    }\n\n    .dataframe thead th {\n        text-align: right;\n    }\n</style>\n<table border=\"1\" class=\"dataframe\">\n  <thead>\n    <tr style=\"text-align: right;\">\n      <th></th>\n      <th>comp</th>\n      <th>shooting_comp</th>\n      <th>keeper_comp</th>\n      <th>passing_comp</th>\n      <th>passing_types_comp</th>\n      <th>gca_comp</th>\n      <th>defense_comp</th>\n      <th>possession_comp</th>\n      <th>misc_comp</th>\n    </tr>\n  </thead>\n  <tbody>\n    <tr>\n      <th>0</th>\n      <td>DFB-Pokal</td>\n      <td>DFB-Pokal</td>\n      <td>DFB-Pokal</td>\n      <td>DFB-Pokal</td>\n      <td>DFB-Pokal</td>\n      <td>DFB-Pokal</td>\n      <td>DFB-Pokal</td>\n      <td>DFB-Pokal</td>\n      <td>DFB-Pokal</td>\n    </tr>\n    <tr>\n      <th>1</th>\n      <td>Bundesliga</td>\n      <td>Bundesliga</td>\n      <td>Bundesliga</td>\n      <td>Bundesliga</td>\n      <td>Bundesliga</td>\n      <td>Bundesliga</td>\n      <td>Bundesliga</td>\n      <td>Bundesliga</td>\n      <td>Bundesliga</td>\n    </tr>\n    <tr>\n      <th>2</th>\n      <td>Bundesliga</td>\n      <td>Bundesliga</td>\n      <td>Bundesliga</td>\n      <td>Bundesliga</td>\n      <td>Bundesliga</td>\n      <td>Bundesliga</td>\n      <td>Bundesliga</td>\n      <td>Bundesliga</td>\n      <td>Bundesliga</td>\n    </tr>\n  </tbody>\n</table>\n</div>"
     },
     "execution_count": 37,
     "metadata": {},
     "output_type": "execute_result"
    }
   ],
   "source": [
    "matches_df.filter(regex='.*comp.*').head(3)"
   ],
   "metadata": {
    "collapsed": false,
    "ExecuteTime": {
     "end_time": "2023-10-04T11:31:41.043730778Z",
     "start_time": "2023-10-04T11:31:41.037438586Z"
    }
   },
   "id": "b268ba5ee3b53995"
  },
  {
   "cell_type": "code",
   "execution_count": 38,
   "outputs": [
    {
     "data": {
      "text/plain": "         round shooting_round keeper_round passing_round passing_types_round  \\\n0  First round    First round  First round   First round         First round   \n1  Matchweek 1    Matchweek 1  Matchweek 1   Matchweek 1         Matchweek 1   \n2  Matchweek 2    Matchweek 2  Matchweek 2   Matchweek 2         Matchweek 2   \n\n     gca_round defense_round possession_round   misc_round  \n0  First round   First round      First round  First round  \n1  Matchweek 1   Matchweek 1      Matchweek 1  Matchweek 1  \n2  Matchweek 2   Matchweek 2      Matchweek 2  Matchweek 2  ",
      "text/html": "<div>\n<style scoped>\n    .dataframe tbody tr th:only-of-type {\n        vertical-align: middle;\n    }\n\n    .dataframe tbody tr th {\n        vertical-align: top;\n    }\n\n    .dataframe thead th {\n        text-align: right;\n    }\n</style>\n<table border=\"1\" class=\"dataframe\">\n  <thead>\n    <tr style=\"text-align: right;\">\n      <th></th>\n      <th>round</th>\n      <th>shooting_round</th>\n      <th>keeper_round</th>\n      <th>passing_round</th>\n      <th>passing_types_round</th>\n      <th>gca_round</th>\n      <th>defense_round</th>\n      <th>possession_round</th>\n      <th>misc_round</th>\n    </tr>\n  </thead>\n  <tbody>\n    <tr>\n      <th>0</th>\n      <td>First round</td>\n      <td>First round</td>\n      <td>First round</td>\n      <td>First round</td>\n      <td>First round</td>\n      <td>First round</td>\n      <td>First round</td>\n      <td>First round</td>\n      <td>First round</td>\n    </tr>\n    <tr>\n      <th>1</th>\n      <td>Matchweek 1</td>\n      <td>Matchweek 1</td>\n      <td>Matchweek 1</td>\n      <td>Matchweek 1</td>\n      <td>Matchweek 1</td>\n      <td>Matchweek 1</td>\n      <td>Matchweek 1</td>\n      <td>Matchweek 1</td>\n      <td>Matchweek 1</td>\n    </tr>\n    <tr>\n      <th>2</th>\n      <td>Matchweek 2</td>\n      <td>Matchweek 2</td>\n      <td>Matchweek 2</td>\n      <td>Matchweek 2</td>\n      <td>Matchweek 2</td>\n      <td>Matchweek 2</td>\n      <td>Matchweek 2</td>\n      <td>Matchweek 2</td>\n      <td>Matchweek 2</td>\n    </tr>\n  </tbody>\n</table>\n</div>"
     },
     "execution_count": 38,
     "metadata": {},
     "output_type": "execute_result"
    }
   ],
   "source": [
    "matches_df.filter(regex='.*round.*').head(3)"
   ],
   "metadata": {
    "collapsed": false,
    "ExecuteTime": {
     "end_time": "2023-10-04T11:31:41.044089622Z",
     "start_time": "2023-10-04T11:31:41.037716414Z"
    }
   },
   "id": "5920cbdea82151a2"
  },
  {
   "cell_type": "code",
   "execution_count": 39,
   "outputs": [
    {
     "data": {
      "text/plain": "   day shooting_day keeper_day passing_day passing_types_day gca_day  \\\n0  Sat          Sat        Sat         Sat               Sat     Sat   \n1  Sat          Sat        Sat         Sat               Sat     Sat   \n2  Fri          Fri        Fri         Fri               Fri     Fri   \n\n  defense_day possession_day misc_day  \n0         Sat            Sat      Sat  \n1         Sat            Sat      Sat  \n2         Fri            Fri      Fri  ",
      "text/html": "<div>\n<style scoped>\n    .dataframe tbody tr th:only-of-type {\n        vertical-align: middle;\n    }\n\n    .dataframe tbody tr th {\n        vertical-align: top;\n    }\n\n    .dataframe thead th {\n        text-align: right;\n    }\n</style>\n<table border=\"1\" class=\"dataframe\">\n  <thead>\n    <tr style=\"text-align: right;\">\n      <th></th>\n      <th>day</th>\n      <th>shooting_day</th>\n      <th>keeper_day</th>\n      <th>passing_day</th>\n      <th>passing_types_day</th>\n      <th>gca_day</th>\n      <th>defense_day</th>\n      <th>possession_day</th>\n      <th>misc_day</th>\n    </tr>\n  </thead>\n  <tbody>\n    <tr>\n      <th>0</th>\n      <td>Sat</td>\n      <td>Sat</td>\n      <td>Sat</td>\n      <td>Sat</td>\n      <td>Sat</td>\n      <td>Sat</td>\n      <td>Sat</td>\n      <td>Sat</td>\n      <td>Sat</td>\n    </tr>\n    <tr>\n      <th>1</th>\n      <td>Sat</td>\n      <td>Sat</td>\n      <td>Sat</td>\n      <td>Sat</td>\n      <td>Sat</td>\n      <td>Sat</td>\n      <td>Sat</td>\n      <td>Sat</td>\n      <td>Sat</td>\n    </tr>\n    <tr>\n      <th>2</th>\n      <td>Fri</td>\n      <td>Fri</td>\n      <td>Fri</td>\n      <td>Fri</td>\n      <td>Fri</td>\n      <td>Fri</td>\n      <td>Fri</td>\n      <td>Fri</td>\n      <td>Fri</td>\n    </tr>\n  </tbody>\n</table>\n</div>"
     },
     "execution_count": 39,
     "metadata": {},
     "output_type": "execute_result"
    }
   ],
   "source": [
    "matches_df.filter(regex='.*day.*').head(3)"
   ],
   "metadata": {
    "collapsed": false,
    "ExecuteTime": {
     "end_time": "2023-10-04T11:31:41.044405164Z",
     "start_time": "2023-10-04T11:31:41.038026857Z"
    }
   },
   "id": "ec9bef8b688c6d50"
  },
  {
   "cell_type": "code",
   "execution_count": 40,
   "outputs": [
    {
     "data": {
      "text/plain": "  venue shooting_venue keeper_venue passing_venue passing_types_venue  \\\n0  Away           Away         Away          Away                Away   \n1  Home           Home         Home          Home                Home   \n2  Away           Away         Away          Away                Away   \n\n  gca_venue defense_venue possession_venue misc_venue  \n0      Away          Away             Away       Away  \n1      Home          Home             Home       Home  \n2      Away          Away             Away       Away  ",
      "text/html": "<div>\n<style scoped>\n    .dataframe tbody tr th:only-of-type {\n        vertical-align: middle;\n    }\n\n    .dataframe tbody tr th {\n        vertical-align: top;\n    }\n\n    .dataframe thead th {\n        text-align: right;\n    }\n</style>\n<table border=\"1\" class=\"dataframe\">\n  <thead>\n    <tr style=\"text-align: right;\">\n      <th></th>\n      <th>venue</th>\n      <th>shooting_venue</th>\n      <th>keeper_venue</th>\n      <th>passing_venue</th>\n      <th>passing_types_venue</th>\n      <th>gca_venue</th>\n      <th>defense_venue</th>\n      <th>possession_venue</th>\n      <th>misc_venue</th>\n    </tr>\n  </thead>\n  <tbody>\n    <tr>\n      <th>0</th>\n      <td>Away</td>\n      <td>Away</td>\n      <td>Away</td>\n      <td>Away</td>\n      <td>Away</td>\n      <td>Away</td>\n      <td>Away</td>\n      <td>Away</td>\n      <td>Away</td>\n    </tr>\n    <tr>\n      <th>1</th>\n      <td>Home</td>\n      <td>Home</td>\n      <td>Home</td>\n      <td>Home</td>\n      <td>Home</td>\n      <td>Home</td>\n      <td>Home</td>\n      <td>Home</td>\n      <td>Home</td>\n    </tr>\n    <tr>\n      <th>2</th>\n      <td>Away</td>\n      <td>Away</td>\n      <td>Away</td>\n      <td>Away</td>\n      <td>Away</td>\n      <td>Away</td>\n      <td>Away</td>\n      <td>Away</td>\n      <td>Away</td>\n    </tr>\n  </tbody>\n</table>\n</div>"
     },
     "execution_count": 40,
     "metadata": {},
     "output_type": "execute_result"
    }
   ],
   "source": [
    "matches_df.filter(regex='.*venue.*').head(3)"
   ],
   "metadata": {
    "collapsed": false,
    "ExecuteTime": {
     "end_time": "2023-10-04T11:31:41.152650806Z",
     "start_time": "2023-10-04T11:31:41.038280590Z"
    }
   },
   "id": "11950c323588861a"
  },
  {
   "cell_type": "code",
   "execution_count": 41,
   "outputs": [
    {
     "data": {
      "text/plain": "  result shooting_result keeper_result passing_result passing_types_result  \\\n0      W               W             W              W                    W   \n1      D               D             D              D                    D   \n2      W               W             W              W                    W   \n\n  gca_result defense_result possession_result misc_result  \n0          W              W                 W           W  \n1          D              D                 D           D  \n2          W              W                 W           W  ",
      "text/html": "<div>\n<style scoped>\n    .dataframe tbody tr th:only-of-type {\n        vertical-align: middle;\n    }\n\n    .dataframe tbody tr th {\n        vertical-align: top;\n    }\n\n    .dataframe thead th {\n        text-align: right;\n    }\n</style>\n<table border=\"1\" class=\"dataframe\">\n  <thead>\n    <tr style=\"text-align: right;\">\n      <th></th>\n      <th>result</th>\n      <th>shooting_result</th>\n      <th>keeper_result</th>\n      <th>passing_result</th>\n      <th>passing_types_result</th>\n      <th>gca_result</th>\n      <th>defense_result</th>\n      <th>possession_result</th>\n      <th>misc_result</th>\n    </tr>\n  </thead>\n  <tbody>\n    <tr>\n      <th>0</th>\n      <td>W</td>\n      <td>W</td>\n      <td>W</td>\n      <td>W</td>\n      <td>W</td>\n      <td>W</td>\n      <td>W</td>\n      <td>W</td>\n      <td>W</td>\n    </tr>\n    <tr>\n      <th>1</th>\n      <td>D</td>\n      <td>D</td>\n      <td>D</td>\n      <td>D</td>\n      <td>D</td>\n      <td>D</td>\n      <td>D</td>\n      <td>D</td>\n      <td>D</td>\n    </tr>\n    <tr>\n      <th>2</th>\n      <td>W</td>\n      <td>W</td>\n      <td>W</td>\n      <td>W</td>\n      <td>W</td>\n      <td>W</td>\n      <td>W</td>\n      <td>W</td>\n      <td>W</td>\n    </tr>\n  </tbody>\n</table>\n</div>"
     },
     "execution_count": 41,
     "metadata": {},
     "output_type": "execute_result"
    }
   ],
   "source": [
    "matches_df.filter(regex='.*result.*').head(3)"
   ],
   "metadata": {
    "collapsed": false,
    "ExecuteTime": {
     "end_time": "2023-10-04T11:31:41.201868863Z",
     "start_time": "2023-10-04T11:31:41.081348930Z"
    }
   },
   "id": "e6437addfb13915d"
  },
  {
   "cell_type": "code",
   "execution_count": 42,
   "outputs": [
    {
     "data": {
      "text/plain": "  gf shooting_gf keeper_gf passing_gf passing_types_gf gca_gf defense_gf  \\\n0  2           2         2          2                2      2          2   \n1  1           1         1          1                1      1          1   \n2  3           3         3          3                3      3          3   \n\n  possession_gf misc_gf  \n0             2       2  \n1             1       1  \n2             3       3  ",
      "text/html": "<div>\n<style scoped>\n    .dataframe tbody tr th:only-of-type {\n        vertical-align: middle;\n    }\n\n    .dataframe tbody tr th {\n        vertical-align: top;\n    }\n\n    .dataframe thead th {\n        text-align: right;\n    }\n</style>\n<table border=\"1\" class=\"dataframe\">\n  <thead>\n    <tr style=\"text-align: right;\">\n      <th></th>\n      <th>gf</th>\n      <th>shooting_gf</th>\n      <th>keeper_gf</th>\n      <th>passing_gf</th>\n      <th>passing_types_gf</th>\n      <th>gca_gf</th>\n      <th>defense_gf</th>\n      <th>possession_gf</th>\n      <th>misc_gf</th>\n    </tr>\n  </thead>\n  <tbody>\n    <tr>\n      <th>0</th>\n      <td>2</td>\n      <td>2</td>\n      <td>2</td>\n      <td>2</td>\n      <td>2</td>\n      <td>2</td>\n      <td>2</td>\n      <td>2</td>\n      <td>2</td>\n    </tr>\n    <tr>\n      <th>1</th>\n      <td>1</td>\n      <td>1</td>\n      <td>1</td>\n      <td>1</td>\n      <td>1</td>\n      <td>1</td>\n      <td>1</td>\n      <td>1</td>\n      <td>1</td>\n    </tr>\n    <tr>\n      <th>2</th>\n      <td>3</td>\n      <td>3</td>\n      <td>3</td>\n      <td>3</td>\n      <td>3</td>\n      <td>3</td>\n      <td>3</td>\n      <td>3</td>\n      <td>3</td>\n    </tr>\n  </tbody>\n</table>\n</div>"
     },
     "execution_count": 42,
     "metadata": {},
     "output_type": "execute_result"
    }
   ],
   "source": [
    "matches_df.filter(regex='.*gf.*').head(3)"
   ],
   "metadata": {
    "collapsed": false,
    "ExecuteTime": {
     "end_time": "2023-10-04T11:31:41.219533907Z",
     "start_time": "2023-10-04T11:31:41.081581710Z"
    }
   },
   "id": "43d711095a49db82"
  },
  {
   "cell_type": "code",
   "execution_count": 43,
   "outputs": [
    {
     "data": {
      "text/plain": "  ga  xga shooting_ga keeper_ga  keeper_performance_ga passing_ga  \\\n0  1  NaN           1         1                    1.0          1   \n1  1  0.8           1         1                    1.0          1   \n2  1  1.2           1         1                    1.0          1   \n\n  passing_types_ga gca_ga defense_ga possession_ga misc_ga  \n0                1      1          1             1       1  \n1                1      1          1             1       1  \n2                1      1          1             1       1  ",
      "text/html": "<div>\n<style scoped>\n    .dataframe tbody tr th:only-of-type {\n        vertical-align: middle;\n    }\n\n    .dataframe tbody tr th {\n        vertical-align: top;\n    }\n\n    .dataframe thead th {\n        text-align: right;\n    }\n</style>\n<table border=\"1\" class=\"dataframe\">\n  <thead>\n    <tr style=\"text-align: right;\">\n      <th></th>\n      <th>ga</th>\n      <th>xga</th>\n      <th>shooting_ga</th>\n      <th>keeper_ga</th>\n      <th>keeper_performance_ga</th>\n      <th>passing_ga</th>\n      <th>passing_types_ga</th>\n      <th>gca_ga</th>\n      <th>defense_ga</th>\n      <th>possession_ga</th>\n      <th>misc_ga</th>\n    </tr>\n  </thead>\n  <tbody>\n    <tr>\n      <th>0</th>\n      <td>1</td>\n      <td>NaN</td>\n      <td>1</td>\n      <td>1</td>\n      <td>1.0</td>\n      <td>1</td>\n      <td>1</td>\n      <td>1</td>\n      <td>1</td>\n      <td>1</td>\n      <td>1</td>\n    </tr>\n    <tr>\n      <th>1</th>\n      <td>1</td>\n      <td>0.8</td>\n      <td>1</td>\n      <td>1</td>\n      <td>1.0</td>\n      <td>1</td>\n      <td>1</td>\n      <td>1</td>\n      <td>1</td>\n      <td>1</td>\n      <td>1</td>\n    </tr>\n    <tr>\n      <th>2</th>\n      <td>1</td>\n      <td>1.2</td>\n      <td>1</td>\n      <td>1</td>\n      <td>1.0</td>\n      <td>1</td>\n      <td>1</td>\n      <td>1</td>\n      <td>1</td>\n      <td>1</td>\n      <td>1</td>\n    </tr>\n  </tbody>\n</table>\n</div>"
     },
     "execution_count": 43,
     "metadata": {},
     "output_type": "execute_result"
    }
   ],
   "source": [
    "matches_df.filter(regex='.*ga.*').head(3)"
   ],
   "metadata": {
    "collapsed": false,
    "ExecuteTime": {
     "end_time": "2023-10-04T11:31:41.258447052Z",
     "start_time": "2023-10-04T11:31:41.087225219Z"
    }
   },
   "id": "24fa2fd4ab4c7aeb"
  },
  {
   "cell_type": "code",
   "execution_count": 44,
   "outputs": [
    {
     "data": {
      "text/plain": "      opponent shooting_opponent keeper_opponent passing_opponent  \\\n0  1860 Munich       1860 Munich     1860 Munich      1860 Munich   \n1      Arminia           Arminia         Arminia          Arminia   \n2   Hertha BSC        Hertha BSC      Hertha BSC       Hertha BSC   \n\n  passing_types_opponent gca_opponent defense_opponent possession_opponent  \\\n0            1860 Munich  1860 Munich      1860 Munich         1860 Munich   \n1                Arminia      Arminia          Arminia             Arminia   \n2             Hertha BSC   Hertha BSC       Hertha BSC          Hertha BSC   \n\n  misc_opponent  \n0   1860 Munich  \n1       Arminia  \n2    Hertha BSC  ",
      "text/html": "<div>\n<style scoped>\n    .dataframe tbody tr th:only-of-type {\n        vertical-align: middle;\n    }\n\n    .dataframe tbody tr th {\n        vertical-align: top;\n    }\n\n    .dataframe thead th {\n        text-align: right;\n    }\n</style>\n<table border=\"1\" class=\"dataframe\">\n  <thead>\n    <tr style=\"text-align: right;\">\n      <th></th>\n      <th>opponent</th>\n      <th>shooting_opponent</th>\n      <th>keeper_opponent</th>\n      <th>passing_opponent</th>\n      <th>passing_types_opponent</th>\n      <th>gca_opponent</th>\n      <th>defense_opponent</th>\n      <th>possession_opponent</th>\n      <th>misc_opponent</th>\n    </tr>\n  </thead>\n  <tbody>\n    <tr>\n      <th>0</th>\n      <td>1860 Munich</td>\n      <td>1860 Munich</td>\n      <td>1860 Munich</td>\n      <td>1860 Munich</td>\n      <td>1860 Munich</td>\n      <td>1860 Munich</td>\n      <td>1860 Munich</td>\n      <td>1860 Munich</td>\n      <td>1860 Munich</td>\n    </tr>\n    <tr>\n      <th>1</th>\n      <td>Arminia</td>\n      <td>Arminia</td>\n      <td>Arminia</td>\n      <td>Arminia</td>\n      <td>Arminia</td>\n      <td>Arminia</td>\n      <td>Arminia</td>\n      <td>Arminia</td>\n      <td>Arminia</td>\n    </tr>\n    <tr>\n      <th>2</th>\n      <td>Hertha BSC</td>\n      <td>Hertha BSC</td>\n      <td>Hertha BSC</td>\n      <td>Hertha BSC</td>\n      <td>Hertha BSC</td>\n      <td>Hertha BSC</td>\n      <td>Hertha BSC</td>\n      <td>Hertha BSC</td>\n      <td>Hertha BSC</td>\n    </tr>\n  </tbody>\n</table>\n</div>"
     },
     "execution_count": 44,
     "metadata": {},
     "output_type": "execute_result"
    }
   ],
   "source": [
    "matches_df.filter(regex='.*opponent.*').head(3)"
   ],
   "metadata": {
    "collapsed": false,
    "ExecuteTime": {
     "end_time": "2023-10-04T11:31:41.310107940Z",
     "start_time": "2023-10-04T11:31:41.102727424Z"
    }
   },
   "id": "7adde88ca9d9a764"
  },
  {
   "cell_type": "markdown",
   "source": [
    "Drop all columns that contain the same information as other columns.\n",
    "\n",
    "Drop `match_report` column as it contains a link to the match report which is not needed. Same applies to `notes`."
   ],
   "metadata": {
    "collapsed": false
   },
   "id": "d606d13cde019115"
  },
  {
   "cell_type": "code",
   "execution_count": 45,
   "outputs": [],
   "source": [
    "regex_of_columns_to_remove = '.+_(comp|round|day|venue|result|gf|ga|opponent)|match_report|notes'\n",
    "matches_df.drop(matches_df.filter(regex=regex_of_columns_to_remove).columns, axis=1, inplace=True)"
   ],
   "metadata": {
    "collapsed": false,
    "ExecuteTime": {
     "end_time": "2023-10-04T11:31:41.310281495Z",
     "start_time": "2023-10-04T11:31:41.145614597Z"
    }
   },
   "id": "c7853a0f3468a6c3"
  },
  {
   "cell_type": "markdown",
   "source": [
    "The columns above were simple to spot, but there could be other ones that contain the same information. The following solution was borrowed from [https://stackoverflow.com/a/58002867/9553927](https://stackoverflow.com/a/58002867/9553927)."
   ],
   "metadata": {
    "collapsed": false
   },
   "id": "9c12dc7494182e59"
  },
  {
   "cell_type": "code",
   "execution_count": 46,
   "outputs": [
    {
     "data": {
      "text/plain": "[('xg', 'shooting_expected_xg'),\n ('poss', 'possession_poss'),\n ('passing_total_cmp', 'passing_types_outcomes_cmp'),\n ('passing_total_att', 'passing_types_att'),\n ('passing_types_pass_types_crs', 'misc_performance_crs'),\n ('defense_tackles_tklw', 'misc_performance_tklw'),\n ('defense_int', 'misc_performance_int')]"
     },
     "execution_count": 46,
     "metadata": {},
     "output_type": "execute_result"
    }
   ],
   "source": [
    "list_of_equal_cols = [(i, j) for i,j in combinations(matches_df, 2) if matches_df[i].equals(matches_df[j])]\n",
    "list_of_equal_cols"
   ],
   "metadata": {
    "collapsed": false,
    "ExecuteTime": {
     "end_time": "2023-10-04T11:31:41.394321826Z",
     "start_time": "2023-10-04T11:31:41.145820069Z"
    }
   },
   "id": "eae6c02f37ce4b"
  },
  {
   "cell_type": "markdown",
   "source": [
    "Pick the second item from each tuple and drop it from the dataframe."
   ],
   "metadata": {
    "collapsed": false
   },
   "id": "346acca510802a1a"
  },
  {
   "cell_type": "code",
   "execution_count": 47,
   "outputs": [],
   "source": [
    "cols_to_drop = [item[1] for item in list_of_equal_cols]\n",
    "matches_df.drop(cols_to_drop, axis=1, inplace=True)"
   ],
   "metadata": {
    "collapsed": false,
    "ExecuteTime": {
     "end_time": "2023-10-04T11:31:41.399052442Z",
     "start_time": "2023-10-04T11:31:41.300279904Z"
    }
   },
   "id": "d401c6832808d983"
  },
  {
   "cell_type": "markdown",
   "source": [
    "Show 3 matches from the Bundesliga and 3 matches from other competitions. Matches that are not in Bundesliga have a visibly high amount of `NaN` values.\n",
    "\n",
    "Add first column that shows how many `NaN` values there are in each row."
   ],
   "metadata": {
    "collapsed": false
   },
   "id": "336777f3cb2c3f17"
  },
  {
   "cell_type": "code",
   "execution_count": 49,
   "outputs": [
    {
     "data": {
      "text/plain": "    NaNs        date   time        comp         round  day venue result gf ga  \\\n1      0  2020-09-19  15:30  Bundesliga   Matchweek 1  Sat  Home      D  1  1   \n2      0  2020-09-25  20:30  Bundesliga   Matchweek 2  Fri  Away      W  3  1   \n3      0  2020-10-03  15:30  Bundesliga   Matchweek 3  Sat  Home      W  2  1   \n0    114  2020-09-12  15:30   DFB-Pokal   First round  Sat  Away      W  2  1   \n16   114  2021-01-12  20:45   DFB-Pokal  Second round  Tue  Away      L  1  4   \n36   113  2018-08-20  18:30   DFB-Pokal   First round  Mon  Away      W  2  1   \n\n    ... misc_performance_fls  misc_performance_fld  misc_performance_off  \\\n1   ...                 14.0                  11.0                   2.0   \n2   ...                 16.0                  13.0                   0.0   \n3   ...                 12.0                   7.0                   9.0   \n0   ...                 10.0                  13.0                   6.0   \n16  ...                 15.0                   7.0                   6.0   \n36  ...                  8.0                  13.0                   1.0   \n\n    misc_performance_pkwon  misc_performance_pkcon misc_performance_og  \\\n1                      0.0                     0.0                 0.0   \n2                      1.0                     0.0                 1.0   \n3                      0.0                     0.0                 0.0   \n0                      NaN                     NaN                 0.0   \n16                     NaN                     NaN                 0.0   \n36                     NaN                     NaN                 0.0   \n\n   misc_performance_recov misc_aerial_duels_won misc_aerial_duels_lost  \\\n1                    63.0                  17.0                   15.0   \n2                    57.0                  23.0                   12.0   \n3                    56.0                  24.0                    9.0   \n0                     NaN                   NaN                    NaN   \n16                    NaN                   NaN                    NaN   \n36                    NaN                   NaN                    NaN   \n\n    misc_aerial_duels_won%  \n1                     53.1  \n2                     65.7  \n3                     72.7  \n0                      NaN  \n16                     NaN  \n36                     NaN  \n\n[6 rows x 158 columns]",
      "text/html": "<div>\n<style scoped>\n    .dataframe tbody tr th:only-of-type {\n        vertical-align: middle;\n    }\n\n    .dataframe tbody tr th {\n        vertical-align: top;\n    }\n\n    .dataframe thead th {\n        text-align: right;\n    }\n</style>\n<table border=\"1\" class=\"dataframe\">\n  <thead>\n    <tr style=\"text-align: right;\">\n      <th></th>\n      <th>NaNs</th>\n      <th>date</th>\n      <th>time</th>\n      <th>comp</th>\n      <th>round</th>\n      <th>day</th>\n      <th>venue</th>\n      <th>result</th>\n      <th>gf</th>\n      <th>ga</th>\n      <th>...</th>\n      <th>misc_performance_fls</th>\n      <th>misc_performance_fld</th>\n      <th>misc_performance_off</th>\n      <th>misc_performance_pkwon</th>\n      <th>misc_performance_pkcon</th>\n      <th>misc_performance_og</th>\n      <th>misc_performance_recov</th>\n      <th>misc_aerial_duels_won</th>\n      <th>misc_aerial_duels_lost</th>\n      <th>misc_aerial_duels_won%</th>\n    </tr>\n  </thead>\n  <tbody>\n    <tr>\n      <th>1</th>\n      <td>0</td>\n      <td>2020-09-19</td>\n      <td>15:30</td>\n      <td>Bundesliga</td>\n      <td>Matchweek 1</td>\n      <td>Sat</td>\n      <td>Home</td>\n      <td>D</td>\n      <td>1</td>\n      <td>1</td>\n      <td>...</td>\n      <td>14.0</td>\n      <td>11.0</td>\n      <td>2.0</td>\n      <td>0.0</td>\n      <td>0.0</td>\n      <td>0.0</td>\n      <td>63.0</td>\n      <td>17.0</td>\n      <td>15.0</td>\n      <td>53.1</td>\n    </tr>\n    <tr>\n      <th>2</th>\n      <td>0</td>\n      <td>2020-09-25</td>\n      <td>20:30</td>\n      <td>Bundesliga</td>\n      <td>Matchweek 2</td>\n      <td>Fri</td>\n      <td>Away</td>\n      <td>W</td>\n      <td>3</td>\n      <td>1</td>\n      <td>...</td>\n      <td>16.0</td>\n      <td>13.0</td>\n      <td>0.0</td>\n      <td>1.0</td>\n      <td>0.0</td>\n      <td>1.0</td>\n      <td>57.0</td>\n      <td>23.0</td>\n      <td>12.0</td>\n      <td>65.7</td>\n    </tr>\n    <tr>\n      <th>3</th>\n      <td>0</td>\n      <td>2020-10-03</td>\n      <td>15:30</td>\n      <td>Bundesliga</td>\n      <td>Matchweek 3</td>\n      <td>Sat</td>\n      <td>Home</td>\n      <td>W</td>\n      <td>2</td>\n      <td>1</td>\n      <td>...</td>\n      <td>12.0</td>\n      <td>7.0</td>\n      <td>9.0</td>\n      <td>0.0</td>\n      <td>0.0</td>\n      <td>0.0</td>\n      <td>56.0</td>\n      <td>24.0</td>\n      <td>9.0</td>\n      <td>72.7</td>\n    </tr>\n    <tr>\n      <th>0</th>\n      <td>114</td>\n      <td>2020-09-12</td>\n      <td>15:30</td>\n      <td>DFB-Pokal</td>\n      <td>First round</td>\n      <td>Sat</td>\n      <td>Away</td>\n      <td>W</td>\n      <td>2</td>\n      <td>1</td>\n      <td>...</td>\n      <td>10.0</td>\n      <td>13.0</td>\n      <td>6.0</td>\n      <td>NaN</td>\n      <td>NaN</td>\n      <td>0.0</td>\n      <td>NaN</td>\n      <td>NaN</td>\n      <td>NaN</td>\n      <td>NaN</td>\n    </tr>\n    <tr>\n      <th>16</th>\n      <td>114</td>\n      <td>2021-01-12</td>\n      <td>20:45</td>\n      <td>DFB-Pokal</td>\n      <td>Second round</td>\n      <td>Tue</td>\n      <td>Away</td>\n      <td>L</td>\n      <td>1</td>\n      <td>4</td>\n      <td>...</td>\n      <td>15.0</td>\n      <td>7.0</td>\n      <td>6.0</td>\n      <td>NaN</td>\n      <td>NaN</td>\n      <td>0.0</td>\n      <td>NaN</td>\n      <td>NaN</td>\n      <td>NaN</td>\n      <td>NaN</td>\n    </tr>\n    <tr>\n      <th>36</th>\n      <td>113</td>\n      <td>2018-08-20</td>\n      <td>18:30</td>\n      <td>DFB-Pokal</td>\n      <td>First round</td>\n      <td>Mon</td>\n      <td>Away</td>\n      <td>W</td>\n      <td>2</td>\n      <td>1</td>\n      <td>...</td>\n      <td>8.0</td>\n      <td>13.0</td>\n      <td>1.0</td>\n      <td>NaN</td>\n      <td>NaN</td>\n      <td>0.0</td>\n      <td>NaN</td>\n      <td>NaN</td>\n      <td>NaN</td>\n      <td>NaN</td>\n    </tr>\n  </tbody>\n</table>\n<p>6 rows × 158 columns</p>\n</div>"
     },
     "execution_count": 49,
     "metadata": {},
     "output_type": "execute_result"
    }
   ],
   "source": [
    "bundesliga_df = matches_df[matches_df['comp'] == 'Bundesliga'].head(3)\n",
    "other_df = matches_df[matches_df['comp'] != 'Bundesliga'].head(3)\n",
    "\n",
    "combined_df = pd.concat([bundesliga_df, other_df])\n",
    "combined_df.insert(loc=0, column='NaNs', value=combined_df.isnull().sum(axis=1))\n",
    "combined_df"
   ],
   "metadata": {
    "collapsed": false,
    "ExecuteTime": {
     "end_time": "2023-10-04T11:32:11.774628346Z",
     "start_time": "2023-10-04T11:32:11.748659899Z"
    }
   },
   "id": "5222c78a9e9b0a04"
  },
  {
   "cell_type": "markdown",
   "source": [
    "Drop all rows whose comp isn't `Bundesliga`."
   ],
   "metadata": {
    "collapsed": false
   },
   "id": "24ecbf54d9727f6c"
  },
  {
   "cell_type": "code",
   "execution_count": 50,
   "outputs": [],
   "source": [
    "matches_df = matches_df[matches_df['comp'] == 'Bundesliga']"
   ],
   "metadata": {
    "collapsed": false,
    "ExecuteTime": {
     "end_time": "2023-10-04T11:32:34.485408079Z",
     "start_time": "2023-10-04T11:32:34.444251648Z"
    }
   },
   "id": "76916d5c0ab4cfaf"
  },
  {
   "cell_type": "code",
   "execution_count": 51,
   "outputs": [
    {
     "data": {
      "text/plain": "(3682, 157)"
     },
     "execution_count": 51,
     "metadata": {},
     "output_type": "execute_result"
    }
   ],
   "source": [
    "matches_df.shape"
   ],
   "metadata": {
    "collapsed": false,
    "ExecuteTime": {
     "end_time": "2023-10-04T11:32:35.190875725Z",
     "start_time": "2023-10-04T11:32:35.187161786Z"
    }
   },
   "id": "7e4b9ddd70d4d5b8"
  },
  {
   "cell_type": "markdown",
   "source": [
    "Save the dataframe to a `.csv` file."
   ],
   "metadata": {
    "collapsed": false
   },
   "id": "a1254a7f9f9a5664"
  },
  {
   "cell_type": "code",
   "execution_count": 53,
   "outputs": [],
   "source": [
    "matches_df.to_csv(f'{clean_data_path}/bundesliga_matches.csv', index=False)"
   ],
   "metadata": {
    "collapsed": false,
    "ExecuteTime": {
     "end_time": "2023-10-04T11:33:30.850429198Z",
     "start_time": "2023-10-04T11:33:30.687568046Z"
    }
   },
   "id": "f09b37da3a6443c8"
  }
 ],
 "metadata": {
  "kernelspec": {
   "display_name": "Python 3",
   "language": "python",
   "name": "python3"
  },
  "language_info": {
   "codemirror_mode": {
    "name": "ipython",
    "version": 2
   },
   "file_extension": ".py",
   "mimetype": "text/x-python",
   "name": "python",
   "nbconvert_exporter": "python",
   "pygments_lexer": "ipython2",
   "version": "2.7.6"
  }
 },
 "nbformat": 4,
 "nbformat_minor": 5
}
